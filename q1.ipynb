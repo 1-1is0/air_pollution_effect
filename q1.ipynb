{
 "cells": [
  {
   "cell_type": "code",
   "execution_count": 2,
   "metadata": {},
   "outputs": [],
   "source": [
    "import pandas as pd\n",
    "import numpy as np\n",
    "import matplotlib.pyplot as plt\n",
    "from dataprep.clean import clean_country\n",
    "import plotly.express as px"
   ]
  },
  {
   "cell_type": "code",
   "execution_count": 4,
   "metadata": {},
   "outputs": [],
   "source": [
    "pm25 = pd.read_csv(\"./dataset/pollution_pm25.csv\")\n",
    "ozone = pd.read_csv(\"./dataset/pollution_ozone.csv\")"
   ]
  },
  {
   "cell_type": "code",
   "execution_count": 77,
   "metadata": {},
   "outputs": [
    {
     "data": {
      "text/html": [
       "<div>\n",
       "<style scoped>\n",
       "    .dataframe tbody tr th:only-of-type {\n",
       "        vertical-align: middle;\n",
       "    }\n",
       "\n",
       "    .dataframe tbody tr th {\n",
       "        vertical-align: top;\n",
       "    }\n",
       "\n",
       "    .dataframe thead th {\n",
       "        text-align: right;\n",
       "    }\n",
       "</style>\n",
       "<table border=\"1\" class=\"dataframe\">\n",
       "  <thead>\n",
       "    <tr style=\"text-align: right;\">\n",
       "      <th></th>\n",
       "      <th>Exposure Id</th>\n",
       "      <th>Type</th>\n",
       "      <th>Country</th>\n",
       "      <th>ISO3</th>\n",
       "      <th>Region</th>\n",
       "      <th>Name</th>\n",
       "      <th>Exposure Lower</th>\n",
       "      <th>Exposure Mean</th>\n",
       "      <th>Exposure Upper</th>\n",
       "      <th>Year</th>\n",
       "      <th>Pollutant</th>\n",
       "      <th>Pollutant Name</th>\n",
       "      <th>Region Name</th>\n",
       "      <th>Units</th>\n",
       "    </tr>\n",
       "  </thead>\n",
       "  <tbody>\n",
       "    <tr>\n",
       "      <th>0</th>\n",
       "      <td>12391</td>\n",
       "      <td>country</td>\n",
       "      <td>Afghanistan</td>\n",
       "      <td>AFG</td>\n",
       "      <td>country</td>\n",
       "      <td>Afghanistan</td>\n",
       "      <td>21.0</td>\n",
       "      <td>49.3</td>\n",
       "      <td>92.9</td>\n",
       "      <td>1990</td>\n",
       "      <td>pm25</td>\n",
       "      <td>PM25</td>\n",
       "      <td>Country</td>\n",
       "      <td>µg/m3</td>\n",
       "    </tr>\n",
       "    <tr>\n",
       "      <th>1</th>\n",
       "      <td>12392</td>\n",
       "      <td>country</td>\n",
       "      <td>Afghanistan</td>\n",
       "      <td>AFG</td>\n",
       "      <td>country</td>\n",
       "      <td>Afghanistan</td>\n",
       "      <td>23.1</td>\n",
       "      <td>48.6</td>\n",
       "      <td>91.9</td>\n",
       "      <td>1995</td>\n",
       "      <td>pm25</td>\n",
       "      <td>PM25</td>\n",
       "      <td>Country</td>\n",
       "      <td>µg/m3</td>\n",
       "    </tr>\n",
       "    <tr>\n",
       "      <th>2</th>\n",
       "      <td>12393</td>\n",
       "      <td>country</td>\n",
       "      <td>Afghanistan</td>\n",
       "      <td>AFG</td>\n",
       "      <td>country</td>\n",
       "      <td>Afghanistan</td>\n",
       "      <td>26.5</td>\n",
       "      <td>51.6</td>\n",
       "      <td>92.7</td>\n",
       "      <td>2000</td>\n",
       "      <td>pm25</td>\n",
       "      <td>PM25</td>\n",
       "      <td>Country</td>\n",
       "      <td>µg/m3</td>\n",
       "    </tr>\n",
       "    <tr>\n",
       "      <th>3</th>\n",
       "      <td>12394</td>\n",
       "      <td>country</td>\n",
       "      <td>Afghanistan</td>\n",
       "      <td>AFG</td>\n",
       "      <td>country</td>\n",
       "      <td>Afghanistan</td>\n",
       "      <td>26.1</td>\n",
       "      <td>46.2</td>\n",
       "      <td>77.0</td>\n",
       "      <td>2005</td>\n",
       "      <td>pm25</td>\n",
       "      <td>PM25</td>\n",
       "      <td>Country</td>\n",
       "      <td>µg/m3</td>\n",
       "    </tr>\n",
       "    <tr>\n",
       "      <th>4</th>\n",
       "      <td>12395</td>\n",
       "      <td>country</td>\n",
       "      <td>Afghanistan</td>\n",
       "      <td>AFG</td>\n",
       "      <td>country</td>\n",
       "      <td>Afghanistan</td>\n",
       "      <td>32.5</td>\n",
       "      <td>51.8</td>\n",
       "      <td>77.9</td>\n",
       "      <td>2010</td>\n",
       "      <td>pm25</td>\n",
       "      <td>PM25</td>\n",
       "      <td>Country</td>\n",
       "      <td>µg/m3</td>\n",
       "    </tr>\n",
       "  </tbody>\n",
       "</table>\n",
       "</div>"
      ],
      "text/plain": [
       "   Exposure Id     Type      Country ISO3   Region         Name  \\\n",
       "0        12391  country  Afghanistan  AFG  country  Afghanistan   \n",
       "1        12392  country  Afghanistan  AFG  country  Afghanistan   \n",
       "2        12393  country  Afghanistan  AFG  country  Afghanistan   \n",
       "3        12394  country  Afghanistan  AFG  country  Afghanistan   \n",
       "4        12395  country  Afghanistan  AFG  country  Afghanistan   \n",
       "\n",
       "   Exposure Lower  Exposure Mean  Exposure Upper  Year Pollutant  \\\n",
       "0            21.0           49.3            92.9  1990      pm25   \n",
       "1            23.1           48.6            91.9  1995      pm25   \n",
       "2            26.5           51.6            92.7  2000      pm25   \n",
       "3            26.1           46.2            77.0  2005      pm25   \n",
       "4            32.5           51.8            77.9  2010      pm25   \n",
       "\n",
       "  Pollutant Name Region Name  Units  \n",
       "0           PM25     Country  µg/m3  \n",
       "1           PM25     Country  µg/m3  \n",
       "2           PM25     Country  µg/m3  \n",
       "3           PM25     Country  µg/m3  \n",
       "4           PM25     Country  µg/m3  "
      ]
     },
     "execution_count": 77,
     "metadata": {},
     "output_type": "execute_result"
    }
   ],
   "source": [
    "pm25.head()"
   ]
  },
  {
   "cell_type": "code",
   "execution_count": 78,
   "metadata": {},
   "outputs": [
    {
     "data": {
      "text/html": [
       "<div>\n",
       "<style scoped>\n",
       "    .dataframe tbody tr th:only-of-type {\n",
       "        vertical-align: middle;\n",
       "    }\n",
       "\n",
       "    .dataframe tbody tr th {\n",
       "        vertical-align: top;\n",
       "    }\n",
       "\n",
       "    .dataframe thead th {\n",
       "        text-align: right;\n",
       "    }\n",
       "</style>\n",
       "<table border=\"1\" class=\"dataframe\">\n",
       "  <thead>\n",
       "    <tr style=\"text-align: right;\">\n",
       "      <th></th>\n",
       "      <th>ISO3</th>\n",
       "      <th>country</th>\n",
       "      <th>exposure_mean</th>\n",
       "      <th>pollutant</th>\n",
       "      <th>units</th>\n",
       "    </tr>\n",
       "  </thead>\n",
       "  <tbody>\n",
       "    <tr>\n",
       "      <th>0</th>\n",
       "      <td>IND</td>\n",
       "      <td>India</td>\n",
       "      <td>85.64</td>\n",
       "      <td>pm25</td>\n",
       "      <td>µg/m3</td>\n",
       "    </tr>\n",
       "    <tr>\n",
       "      <th>1</th>\n",
       "      <td>NPL</td>\n",
       "      <td>Nepal</td>\n",
       "      <td>85.00</td>\n",
       "      <td>pm25</td>\n",
       "      <td>µg/m3</td>\n",
       "    </tr>\n",
       "    <tr>\n",
       "      <th>2</th>\n",
       "      <td>QAT</td>\n",
       "      <td>Qatar</td>\n",
       "      <td>79.29</td>\n",
       "      <td>pm25</td>\n",
       "      <td>µg/m3</td>\n",
       "    </tr>\n",
       "    <tr>\n",
       "      <th>3</th>\n",
       "      <td>NER</td>\n",
       "      <td>Niger</td>\n",
       "      <td>78.78</td>\n",
       "      <td>pm25</td>\n",
       "      <td>µg/m3</td>\n",
       "    </tr>\n",
       "    <tr>\n",
       "      <th>4</th>\n",
       "      <td>EGY</td>\n",
       "      <td>Egypt</td>\n",
       "      <td>70.80</td>\n",
       "      <td>pm25</td>\n",
       "      <td>µg/m3</td>\n",
       "    </tr>\n",
       "  </tbody>\n",
       "</table>\n",
       "</div>"
      ],
      "text/plain": [
       "  ISO3 country  exposure_mean pollutant  units\n",
       "0  IND   India          85.64      pm25  µg/m3\n",
       "1  NPL   Nepal          85.00      pm25  µg/m3\n",
       "2  QAT   Qatar          79.29      pm25  µg/m3\n",
       "3  NER   Niger          78.78      pm25  µg/m3\n",
       "4  EGY   Egypt          70.80      pm25  µg/m3"
      ]
     },
     "execution_count": 78,
     "metadata": {},
     "output_type": "execute_result"
    }
   ],
   "source": [
    "last_5_pm25 = pm25[pm25.Year >= 2010].groupby(\"ISO3\").agg(\n",
    "        country=(\"Country\", \"first\"),\n",
    "        exposure_mean=(\"Exposure Mean\", 'mean'),\n",
    "        pollutant=(\"Pollutant\", \"first\"),\n",
    "        units=(\"Units\", \"first\"),\n",
    ").sort_values('exposure_mean', ascending=False)\n",
    "\n",
    "last_5_pm25 = pd.DataFrame(last_5_pm25.to_records())\n",
    "last_5_pm25.head()"
   ]
  },
  {
   "cell_type": "code",
   "execution_count": 79,
   "metadata": {},
   "outputs": [
    {
     "data": {
      "text/html": [
       "<div>\n",
       "<style scoped>\n",
       "    .dataframe tbody tr th:only-of-type {\n",
       "        vertical-align: middle;\n",
       "    }\n",
       "\n",
       "    .dataframe tbody tr th {\n",
       "        vertical-align: top;\n",
       "    }\n",
       "\n",
       "    .dataframe thead th {\n",
       "        text-align: right;\n",
       "    }\n",
       "</style>\n",
       "<table border=\"1\" class=\"dataframe\">\n",
       "  <thead>\n",
       "    <tr style=\"text-align: right;\">\n",
       "      <th></th>\n",
       "      <th>Exposure Id</th>\n",
       "      <th>Type</th>\n",
       "      <th>Country</th>\n",
       "      <th>ISO3</th>\n",
       "      <th>Region</th>\n",
       "      <th>Name</th>\n",
       "      <th>Exposure Lower</th>\n",
       "      <th>Exposure Mean</th>\n",
       "      <th>Exposure Upper</th>\n",
       "      <th>Year</th>\n",
       "      <th>Pollutant</th>\n",
       "      <th>Pollutant Name</th>\n",
       "      <th>Region Name</th>\n",
       "      <th>Units</th>\n",
       "    </tr>\n",
       "  </thead>\n",
       "  <tbody>\n",
       "    <tr>\n",
       "      <th>0</th>\n",
       "      <td>12405</td>\n",
       "      <td>country</td>\n",
       "      <td>Afghanistan</td>\n",
       "      <td>AFG</td>\n",
       "      <td>country</td>\n",
       "      <td>Afghanistan</td>\n",
       "      <td>55.7</td>\n",
       "      <td>56.6</td>\n",
       "      <td>57.5</td>\n",
       "      <td>1990</td>\n",
       "      <td>ozone</td>\n",
       "      <td>Ozone</td>\n",
       "      <td>Country</td>\n",
       "      <td>pbb</td>\n",
       "    </tr>\n",
       "    <tr>\n",
       "      <th>1</th>\n",
       "      <td>12406</td>\n",
       "      <td>country</td>\n",
       "      <td>Afghanistan</td>\n",
       "      <td>AFG</td>\n",
       "      <td>country</td>\n",
       "      <td>Afghanistan</td>\n",
       "      <td>53.8</td>\n",
       "      <td>54.7</td>\n",
       "      <td>55.6</td>\n",
       "      <td>1995</td>\n",
       "      <td>ozone</td>\n",
       "      <td>Ozone</td>\n",
       "      <td>Country</td>\n",
       "      <td>pbb</td>\n",
       "    </tr>\n",
       "    <tr>\n",
       "      <th>2</th>\n",
       "      <td>12407</td>\n",
       "      <td>country</td>\n",
       "      <td>Afghanistan</td>\n",
       "      <td>AFG</td>\n",
       "      <td>country</td>\n",
       "      <td>Afghanistan</td>\n",
       "      <td>55.3</td>\n",
       "      <td>56.3</td>\n",
       "      <td>57.0</td>\n",
       "      <td>2000</td>\n",
       "      <td>ozone</td>\n",
       "      <td>Ozone</td>\n",
       "      <td>Country</td>\n",
       "      <td>pbb</td>\n",
       "    </tr>\n",
       "    <tr>\n",
       "      <th>3</th>\n",
       "      <td>12408</td>\n",
       "      <td>country</td>\n",
       "      <td>Afghanistan</td>\n",
       "      <td>AFG</td>\n",
       "      <td>country</td>\n",
       "      <td>Afghanistan</td>\n",
       "      <td>52.8</td>\n",
       "      <td>53.6</td>\n",
       "      <td>54.5</td>\n",
       "      <td>2005</td>\n",
       "      <td>ozone</td>\n",
       "      <td>Ozone</td>\n",
       "      <td>Country</td>\n",
       "      <td>pbb</td>\n",
       "    </tr>\n",
       "    <tr>\n",
       "      <th>4</th>\n",
       "      <td>12409</td>\n",
       "      <td>country</td>\n",
       "      <td>Afghanistan</td>\n",
       "      <td>AFG</td>\n",
       "      <td>country</td>\n",
       "      <td>Afghanistan</td>\n",
       "      <td>52.2</td>\n",
       "      <td>53.0</td>\n",
       "      <td>53.8</td>\n",
       "      <td>2010</td>\n",
       "      <td>ozone</td>\n",
       "      <td>Ozone</td>\n",
       "      <td>Country</td>\n",
       "      <td>pbb</td>\n",
       "    </tr>\n",
       "  </tbody>\n",
       "</table>\n",
       "</div>"
      ],
      "text/plain": [
       "   Exposure Id     Type      Country ISO3   Region         Name  \\\n",
       "0        12405  country  Afghanistan  AFG  country  Afghanistan   \n",
       "1        12406  country  Afghanistan  AFG  country  Afghanistan   \n",
       "2        12407  country  Afghanistan  AFG  country  Afghanistan   \n",
       "3        12408  country  Afghanistan  AFG  country  Afghanistan   \n",
       "4        12409  country  Afghanistan  AFG  country  Afghanistan   \n",
       "\n",
       "   Exposure Lower  Exposure Mean  Exposure Upper  Year Pollutant  \\\n",
       "0            55.7           56.6            57.5  1990     ozone   \n",
       "1            53.8           54.7            55.6  1995     ozone   \n",
       "2            55.3           56.3            57.0  2000     ozone   \n",
       "3            52.8           53.6            54.5  2005     ozone   \n",
       "4            52.2           53.0            53.8  2010     ozone   \n",
       "\n",
       "  Pollutant Name Region Name Units  \n",
       "0          Ozone     Country   pbb  \n",
       "1          Ozone     Country   pbb  \n",
       "2          Ozone     Country   pbb  \n",
       "3          Ozone     Country   pbb  \n",
       "4          Ozone     Country   pbb  "
      ]
     },
     "execution_count": 79,
     "metadata": {},
     "output_type": "execute_result"
    }
   ],
   "source": [
    "ozone.head()"
   ]
  },
  {
   "cell_type": "code",
   "execution_count": 80,
   "metadata": {},
   "outputs": [
    {
     "data": {
      "text/html": [
       "<div>\n",
       "<style scoped>\n",
       "    .dataframe tbody tr th:only-of-type {\n",
       "        vertical-align: middle;\n",
       "    }\n",
       "\n",
       "    .dataframe tbody tr th {\n",
       "        vertical-align: top;\n",
       "    }\n",
       "\n",
       "    .dataframe thead th {\n",
       "        text-align: right;\n",
       "    }\n",
       "</style>\n",
       "<table border=\"1\" class=\"dataframe\">\n",
       "  <thead>\n",
       "    <tr style=\"text-align: right;\">\n",
       "      <th></th>\n",
       "      <th>ISO3</th>\n",
       "      <th>country</th>\n",
       "      <th>exposure_mean</th>\n",
       "      <th>pollutant</th>\n",
       "      <th>units</th>\n",
       "    </tr>\n",
       "  </thead>\n",
       "  <tbody>\n",
       "    <tr>\n",
       "      <th>0</th>\n",
       "      <td>QAT</td>\n",
       "      <td>Qatar</td>\n",
       "      <td>66.76</td>\n",
       "      <td>ozone</td>\n",
       "      <td>pbb</td>\n",
       "    </tr>\n",
       "    <tr>\n",
       "      <th>1</th>\n",
       "      <td>NPL</td>\n",
       "      <td>Nepal</td>\n",
       "      <td>66.02</td>\n",
       "      <td>ozone</td>\n",
       "      <td>pbb</td>\n",
       "    </tr>\n",
       "    <tr>\n",
       "      <th>2</th>\n",
       "      <td>IND</td>\n",
       "      <td>India</td>\n",
       "      <td>64.20</td>\n",
       "      <td>ozone</td>\n",
       "      <td>pbb</td>\n",
       "    </tr>\n",
       "    <tr>\n",
       "      <th>3</th>\n",
       "      <td>BHR</td>\n",
       "      <td>Bahrain</td>\n",
       "      <td>63.50</td>\n",
       "      <td>ozone</td>\n",
       "      <td>pbb</td>\n",
       "    </tr>\n",
       "    <tr>\n",
       "      <th>4</th>\n",
       "      <td>KWT</td>\n",
       "      <td>Kuwait</td>\n",
       "      <td>62.56</td>\n",
       "      <td>ozone</td>\n",
       "      <td>pbb</td>\n",
       "    </tr>\n",
       "  </tbody>\n",
       "</table>\n",
       "</div>"
      ],
      "text/plain": [
       "  ISO3  country  exposure_mean pollutant units\n",
       "0  QAT    Qatar          66.76     ozone   pbb\n",
       "1  NPL    Nepal          66.02     ozone   pbb\n",
       "2  IND    India          64.20     ozone   pbb\n",
       "3  BHR  Bahrain          63.50     ozone   pbb\n",
       "4  KWT   Kuwait          62.56     ozone   pbb"
      ]
     },
     "execution_count": 80,
     "metadata": {},
     "output_type": "execute_result"
    }
   ],
   "source": [
    "last_5_ozone = ozone[ozone.Year >= 2015].groupby(\"ISO3\").agg(\n",
    "        country=(\"Country\", \"first\"),\n",
    "        exposure_mean=(\"Exposure Mean\", \"mean\"),\n",
    "        pollutant=(\"Pollutant\", \"first\"),\n",
    "        units=(\"Units\", \"first\"),\n",
    ").sort_values('exposure_mean', ascending=False)\n",
    "\n",
    "last_5_ozone = pd.DataFrame(last_5_ozone.to_records())\n",
    "last_5_ozone.head()\n"
   ]
  },
  {
   "cell_type": "code",
   "execution_count": 81,
   "metadata": {},
   "outputs": [
    {
     "data": {
      "text/html": [
       "<div>\n",
       "<style scoped>\n",
       "    .dataframe tbody tr th:only-of-type {\n",
       "        vertical-align: middle;\n",
       "    }\n",
       "\n",
       "    .dataframe tbody tr th {\n",
       "        vertical-align: top;\n",
       "    }\n",
       "\n",
       "    .dataframe thead th {\n",
       "        text-align: right;\n",
       "    }\n",
       "</style>\n",
       "<table border=\"1\" class=\"dataframe\">\n",
       "  <thead>\n",
       "    <tr style=\"text-align: right;\">\n",
       "      <th></th>\n",
       "      <th>ISO3</th>\n",
       "      <th>country</th>\n",
       "      <th>exposure_mean_pm25</th>\n",
       "      <th>pollutant_pm25</th>\n",
       "      <th>units_pm25</th>\n",
       "      <th>exposure_mean_ozone</th>\n",
       "      <th>pollutant_ozone</th>\n",
       "      <th>units_ozone</th>\n",
       "    </tr>\n",
       "  </thead>\n",
       "  <tbody>\n",
       "    <tr>\n",
       "      <th>0</th>\n",
       "      <td>IND</td>\n",
       "      <td>India</td>\n",
       "      <td>85.64</td>\n",
       "      <td>pm25</td>\n",
       "      <td>µg/m3</td>\n",
       "      <td>64.20</td>\n",
       "      <td>ozone</td>\n",
       "      <td>pbb</td>\n",
       "    </tr>\n",
       "    <tr>\n",
       "      <th>1</th>\n",
       "      <td>NPL</td>\n",
       "      <td>Nepal</td>\n",
       "      <td>85.00</td>\n",
       "      <td>pm25</td>\n",
       "      <td>µg/m3</td>\n",
       "      <td>66.02</td>\n",
       "      <td>ozone</td>\n",
       "      <td>pbb</td>\n",
       "    </tr>\n",
       "    <tr>\n",
       "      <th>2</th>\n",
       "      <td>QAT</td>\n",
       "      <td>Qatar</td>\n",
       "      <td>79.29</td>\n",
       "      <td>pm25</td>\n",
       "      <td>µg/m3</td>\n",
       "      <td>66.76</td>\n",
       "      <td>ozone</td>\n",
       "      <td>pbb</td>\n",
       "    </tr>\n",
       "    <tr>\n",
       "      <th>3</th>\n",
       "      <td>NER</td>\n",
       "      <td>Niger</td>\n",
       "      <td>78.78</td>\n",
       "      <td>pm25</td>\n",
       "      <td>µg/m3</td>\n",
       "      <td>45.66</td>\n",
       "      <td>ozone</td>\n",
       "      <td>pbb</td>\n",
       "    </tr>\n",
       "    <tr>\n",
       "      <th>4</th>\n",
       "      <td>EGY</td>\n",
       "      <td>Egypt</td>\n",
       "      <td>70.80</td>\n",
       "      <td>pm25</td>\n",
       "      <td>µg/m3</td>\n",
       "      <td>52.88</td>\n",
       "      <td>ozone</td>\n",
       "      <td>pbb</td>\n",
       "    </tr>\n",
       "  </tbody>\n",
       "</table>\n",
       "</div>"
      ],
      "text/plain": [
       "  ISO3 country  exposure_mean_pm25 pollutant_pm25 units_pm25  \\\n",
       "0  IND   India               85.64           pm25      µg/m3   \n",
       "1  NPL   Nepal               85.00           pm25      µg/m3   \n",
       "2  QAT   Qatar               79.29           pm25      µg/m3   \n",
       "3  NER   Niger               78.78           pm25      µg/m3   \n",
       "4  EGY   Egypt               70.80           pm25      µg/m3   \n",
       "\n",
       "   exposure_mean_ozone pollutant_ozone units_ozone  \n",
       "0                64.20           ozone         pbb  \n",
       "1                66.02           ozone         pbb  \n",
       "2                66.76           ozone         pbb  \n",
       "3                45.66           ozone         pbb  \n",
       "4                52.88           ozone         pbb  "
      ]
     },
     "execution_count": 81,
     "metadata": {},
     "output_type": "execute_result"
    }
   ],
   "source": [
    "air_pollution = pd.merge(last_5_pm25, last_5_ozone, on=['ISO3', 'country'], suffixes=['_pm25', '_ozone'])\n",
    "air_pollution.head()"
   ]
  },
  {
   "cell_type": "code",
   "execution_count": 82,
   "metadata": {},
   "outputs": [
    {
     "data": {
      "text/html": [
       "<div>\n",
       "<style scoped>\n",
       "    .dataframe tbody tr th:only-of-type {\n",
       "        vertical-align: middle;\n",
       "    }\n",
       "\n",
       "    .dataframe tbody tr th {\n",
       "        vertical-align: top;\n",
       "    }\n",
       "\n",
       "    .dataframe thead th {\n",
       "        text-align: right;\n",
       "    }\n",
       "</style>\n",
       "<table border=\"1\" class=\"dataframe\">\n",
       "  <thead>\n",
       "    <tr style=\"text-align: right;\">\n",
       "      <th></th>\n",
       "      <th>exposure_mean_pm25</th>\n",
       "      <th>exposure_mean_ozone</th>\n",
       "    </tr>\n",
       "  </thead>\n",
       "  <tbody>\n",
       "    <tr>\n",
       "      <th>count</th>\n",
       "      <td>204.000000</td>\n",
       "      <td>204.000000</td>\n",
       "    </tr>\n",
       "    <tr>\n",
       "      <th>mean</th>\n",
       "      <td>26.895828</td>\n",
       "      <td>40.473922</td>\n",
       "    </tr>\n",
       "    <tr>\n",
       "      <th>std</th>\n",
       "      <td>17.747028</td>\n",
       "      <td>10.552569</td>\n",
       "    </tr>\n",
       "    <tr>\n",
       "      <th>min</th>\n",
       "      <td>5.544000</td>\n",
       "      <td>13.340000</td>\n",
       "    </tr>\n",
       "    <tr>\n",
       "      <th>25%</th>\n",
       "      <td>13.472500</td>\n",
       "      <td>34.525000</td>\n",
       "    </tr>\n",
       "    <tr>\n",
       "      <th>50%</th>\n",
       "      <td>21.695000</td>\n",
       "      <td>40.510000</td>\n",
       "    </tr>\n",
       "    <tr>\n",
       "      <th>75%</th>\n",
       "      <td>36.510000</td>\n",
       "      <td>47.225000</td>\n",
       "    </tr>\n",
       "    <tr>\n",
       "      <th>max</th>\n",
       "      <td>85.640000</td>\n",
       "      <td>66.760000</td>\n",
       "    </tr>\n",
       "  </tbody>\n",
       "</table>\n",
       "</div>"
      ],
      "text/plain": [
       "       exposure_mean_pm25  exposure_mean_ozone\n",
       "count          204.000000           204.000000\n",
       "mean            26.895828            40.473922\n",
       "std             17.747028            10.552569\n",
       "min              5.544000            13.340000\n",
       "25%             13.472500            34.525000\n",
       "50%             21.695000            40.510000\n",
       "75%             36.510000            47.225000\n",
       "max             85.640000            66.760000"
      ]
     },
     "execution_count": 82,
     "metadata": {},
     "output_type": "execute_result"
    }
   ],
   "source": [
    "air_pollution.describe()"
   ]
  },
  {
   "cell_type": "code",
   "execution_count": 84,
   "metadata": {},
   "outputs": [
    {
     "data": {
      "application/vnd.plotly.v1+json": {
       "config": {
        "plotlyServerURL": "https://plot.ly"
       },
       "data": [
        {
         "coloraxis": "coloraxis",
         "geo": "geo",
         "hovertemplate": "<b>%{hovertext}</b><br><br>ISO3=%{location}<br>exposure_mean=%{z}<extra></extra>",
         "hovertext": [
          "India",
          "Nepal",
          "Qatar",
          "Niger",
          "Egypt",
          "Nigeria",
          "Mauritania",
          "Bangladesh",
          "Pakistan",
          "Kuwait",
          "Saudi Arabia",
          "Bahrain",
          "Cameroon",
          "Mali",
          "Senegal",
          "Chad",
          "Gambia",
          "Afghanistan",
          "Côte d'Ivoire",
          "China",
          "Guinea-Bissau",
          "Ghana",
          "Burkina Faso",
          "Sudan",
          "Guinea",
          "Iraq",
          "Sierra Leone",
          "Liberia",
          "Yemen",
          "Cabo Verde",
          "Central African Republic",
          "Togo",
          "Democratic People's Republic of Korea",
          "United Arab Emirates",
          "Djibouti",
          "Benin",
          "Oman",
          "Eritrea",
          "Equatorial Guinea",
          "Bhutan",
          "Libya",
          "Iran (Islamic Republic of)",
          "Uganda",
          "Tajikistan",
          "Congo",
          "South Sudan",
          "Rwanda",
          "Democratic Republic of the Congo",
          "Mongolia",
          "Armenia",
          "Gabon",
          "Uzbekistan",
          "Burundi",
          "Ethiopia",
          "North Macedonia",
          "Palestine",
          "Jordan",
          "Syrian Arab Republic",
          "Myanmar",
          "Bosnia and Herzegovina",
          "Algeria",
          "Morocco",
          "Sao Tome and Principe",
          "Tunisia",
          "Lesotho",
          "Peru",
          "Lebanon",
          "Thailand",
          "Guatemala",
          "Somalia",
          "South Africa",
          "Angola",
          "Turkmenistan",
          "Serbia",
          "Bolivia (Plurinational State of)",
          "Turkey",
          "Zambia",
          "United Republic of Tanzania",
          "Republic of Korea",
          "Kenya",
          "Azerbaijan",
          "Namibia",
          "Malawi",
          "Kyrgyzstan",
          "Botswana",
          "Honduras",
          "Taiwan (Province of China)",
          "El Salvador",
          "Cambodia",
          "Zimbabwe",
          "Poland",
          "Montenegro",
          "Colombia",
          "Eswatini",
          "Suriname",
          "Mozambique",
          "Viet Nam",
          "Chile",
          "Venezuela (Bolivarian Republic of)",
          "Lao People's Democratic Republic",
          "Mexico",
          "Israel",
          "Nicaragua",
          "Guyana",
          "Bulgaria",
          "Sri Lanka",
          "Kazakhstan",
          "Trinidad and Tobago",
          "Belize",
          "Grenada",
          "Barbados",
          "Saint Lucia",
          "Saint Vincent and the Grenadines",
          "Philippines",
          "Ecuador",
          "Albania",
          "Indonesia",
          "Croatia",
          "Slovakia",
          "Madagascar",
          "Cuba",
          "Haiti",
          "Georgia",
          "Belarus",
          "Costa Rica",
          "Czechia",
          "Dominica",
          "Slovenia",
          "Italy",
          "Singapore",
          "Hungary",
          "Malaysia",
          "Dominican Republic",
          "Comoros",
          "Antigua and Barbuda",
          "Romania",
          "Ukraine",
          "Cyprus",
          "Papua New Guinea",
          "Timor-Leste",
          "Greece",
          "Republic of Moldova",
          "Bahamas",
          "Seychelles",
          "Jamaica",
          "Mauritius",
          "Panama",
          "Latvia",
          "Malta",
          "Argentina",
          "Belgium",
          "Austria",
          "Paraguay",
          "Japan",
          "Germany",
          "Netherlands",
          "Russian Federation",
          "Vanuatu",
          "Monaco",
          "France",
          "Brazil",
          "Solomon Islands",
          "Lithuania",
          "Maldives",
          "Switzerland",
          "United Kingdom",
          "Luxembourg",
          "Samoa",
          "Fiji",
          "Denmark",
          "Tonga",
          "Micronesia (Federated States of)",
          "Spain",
          "Andorra",
          "Uruguay",
          "San Marino",
          "Kiribati",
          "Marshall Islands",
          "Portugal",
          "Ireland",
          "United States Virgin Islands",
          "United States of America",
          "Saint Kitts and Nevis",
          "Guam",
          "Northern Mariana Islands",
          "Brunei Darussalam",
          "Norway",
          "Canada",
          "Palau",
          "Estonia",
          "Bermuda",
          "Australia",
          "Puerto Rico",
          "Tokelau",
          "Niue",
          "Greenland",
          "Sweden",
          "New Zealand",
          "Finland",
          "American Samoa",
          "Iceland",
          "Cook Islands",
          "Tuvalu",
          "Nauru"
         ],
         "locations": [
          "IND",
          "NPL",
          "QAT",
          "NER",
          "EGY",
          "NGA",
          "MRT",
          "BGD",
          "PAK",
          "KWT",
          "SAU",
          "BHR",
          "CMR",
          "MLI",
          "SEN",
          "TCD",
          "GMB",
          "AFG",
          "CIV",
          "CHN",
          "GNB",
          "GHA",
          "BFA",
          "SDN",
          "GIN",
          "IRQ",
          "SLE",
          "LBR",
          "YEM",
          "CPV",
          "CAF",
          "TGO",
          "PRK",
          "ARE",
          "DJI",
          "BEN",
          "OMN",
          "ERI",
          "GNQ",
          "BTN",
          "LBY",
          "IRN",
          "UGA",
          "TJK",
          "COG",
          "SSD",
          "RWA",
          "COD",
          "MNG",
          "ARM",
          "GAB",
          "UZB",
          "BDI",
          "ETH",
          "MKD",
          "PSE",
          "JOR",
          "SYR",
          "MMR",
          "BIH",
          "DZA",
          "MAR",
          "STP",
          "TUN",
          "LSO",
          "PER",
          "LBN",
          "THA",
          "GTM",
          "SOM",
          "ZAF",
          "AGO",
          "TKM",
          "SRB",
          "BOL",
          "TUR",
          "ZMB",
          "TZA",
          "KOR",
          "KEN",
          "AZE",
          "NAM",
          "MWI",
          "KGZ",
          "BWA",
          "HND",
          "TWN",
          "SLV",
          "KHM",
          "ZWE",
          "POL",
          "MNE",
          "COL",
          "SWZ",
          "SUR",
          "MOZ",
          "VNM",
          "CHL",
          "VEN",
          "LAO",
          "MEX",
          "ISR",
          "NIC",
          "GUY",
          "BGR",
          "LKA",
          "KAZ",
          "TTO",
          "BLZ",
          "GRD",
          "BRB",
          "LCA",
          "VCT",
          "PHL",
          "ECU",
          "ALB",
          "IDN",
          "HRV",
          "SVK",
          "MDG",
          "CUB",
          "HTI",
          "GEO",
          "BLR",
          "CRI",
          "CZE",
          "DMA",
          "SVN",
          "ITA",
          "SGP",
          "HUN",
          "MYS",
          "DOM",
          "COM",
          "ATG",
          "ROU",
          "UKR",
          "CYP",
          "PNG",
          "TLS",
          "GRC",
          "MDA",
          "BHS",
          "SYC",
          "JAM",
          "MUS",
          "PAN",
          "LVA",
          "MLT",
          "ARG",
          "BEL",
          "AUT",
          "PRY",
          "JPN",
          "DEU",
          "NLD",
          "RUS",
          "VUT",
          "MCO",
          "FRA",
          "BRA",
          "SLB",
          "LTU",
          "MDV",
          "CHE",
          "GBR",
          "LUX",
          "WSM",
          "FJI",
          "DNK",
          "TON",
          "FSM",
          "ESP",
          "AND",
          "URY",
          "SMR",
          "KIR",
          "MHL",
          "PRT",
          "IRL",
          "VIR",
          "USA",
          "KNA",
          "GUM",
          "MNP",
          "BRN",
          "NOR",
          "CAN",
          "PLW",
          "EST",
          "BMU",
          "AUS",
          "PRI",
          "TKL",
          "NIU",
          "GRL",
          "SWE",
          "NZL",
          "FIN",
          "ASM",
          "ISL",
          "COK",
          "TUV",
          "NRU"
         ],
         "name": "",
         "type": "choropleth",
         "z": [
          85.64,
          85,
          79.28999999999999,
          78.78,
          70.8,
          66.92999999999999,
          66.28999999999999,
          65.17999999999999,
          64.51,
          64.03,
          63.089999999999996,
          63.029999999999994,
          61.8,
          60.27,
          59.620000000000005,
          58.73,
          57.589999999999996,
          55.98,
          55.17999999999999,
          54.89,
          53.779999999999994,
          53.720000000000006,
          53.239999999999995,
          52.760000000000005,
          51.83,
          51.46,
          49.839999999999996,
          49.410000000000004,
          47.239999999999995,
          47.089999999999996,
          45.57,
          45.15,
          44.88,
          44.28,
          44.22,
          43.87,
          43.660000000000004,
          43.1,
          42.72,
          42.22,
          40.44,
          40.29,
          40.18,
          39.56,
          39.39,
          39.03,
          37.58,
          37.3,
          36.95,
          36.64,
          36.54,
          36.5,
          34.69,
          34.25,
          33.809999999999995,
          33.519999999999996,
          33.42,
          32.56,
          32.37,
          32.260000000000005,
          32.239999999999995,
          31.98,
          31.380000000000003,
          31.25,
          31.18,
          30.26,
          30.23,
          30.03,
          29.68,
          29.48,
          29.02,
          28.71,
          28.630000000000003,
          28.359999999999996,
          27.76,
          27.439999999999998,
          27.22,
          27.02,
          26.639999999999997,
          26.51,
          26.28,
          26.089999999999996,
          25.639999999999997,
          25.619999999999997,
          25.6,
          25.240000000000002,
          24.72,
          24.68,
          24.64,
          24.55,
          23.93,
          23.630000000000003,
          23.43,
          23.240000000000002,
          22.95,
          22.93,
          22.77,
          22.5,
          22.3,
          22.19,
          21.9,
          21.84,
          21.55,
          21.55,
          21.23,
          21.2,
          21.18,
          21.05,
          21.02,
          20.64,
          20.6,
          20.55,
          20.419999999999998,
          20.380000000000003,
          20.34,
          20.03,
          19.84,
          19.75,
          19.54,
          19.1,
          18.869999999999997,
          18.84,
          18.66,
          18.509999999999998,
          18.29,
          18.2,
          18.080000000000002,
          18.04,
          17.8,
          17.71,
          17.7,
          17.380000000000003,
          17.34,
          17.330000000000002,
          17.14,
          16.73,
          16.46,
          16.46,
          16.32,
          16.28,
          16.23,
          16.03,
          15.809999999999999,
          15.709999999999999,
          15.16,
          14.95,
          14.790000000000001,
          14.36,
          13.969999999999999,
          13.919999999999998,
          13.9,
          13.580000000000002,
          13.569999999999999,
          13.180000000000001,
          13.14,
          13.059999999999999,
          13.02,
          12.98,
          12.819999999999999,
          12.709999999999999,
          12.69,
          12.33,
          12.07,
          11.77,
          11.495000000000001,
          11.040000000000001,
          11.017,
          10.98,
          10.95,
          10.855,
          10.66,
          10.51,
          10.466,
          10.122,
          9.708,
          9.673,
          9.561,
          9.222,
          8.928,
          8.612,
          8.362,
          8.314,
          8.221,
          7.875,
          7.836,
          7.501,
          7.303,
          7.2540000000000004,
          7.042,
          7.016,
          7.0040000000000004,
          6.817,
          6.4159999999999995,
          6.354,
          6.273,
          6.271,
          6.2010000000000005,
          6.11,
          6.059,
          6.003,
          6,
          5.968,
          5.706,
          5.544
         ]
        }
       ],
       "layout": {
        "coloraxis": {
         "colorbar": {
          "title": {
           "text": "exposure_mean"
          }
         },
         "colorscale": [
          [
           0,
           "#0d0887"
          ],
          [
           0.1111111111111111,
           "#46039f"
          ],
          [
           0.2222222222222222,
           "#7201a8"
          ],
          [
           0.3333333333333333,
           "#9c179e"
          ],
          [
           0.4444444444444444,
           "#bd3786"
          ],
          [
           0.5555555555555556,
           "#d8576b"
          ],
          [
           0.6666666666666666,
           "#ed7953"
          ],
          [
           0.7777777777777778,
           "#fb9f3a"
          ],
          [
           0.8888888888888888,
           "#fdca26"
          ],
          [
           1,
           "#f0f921"
          ]
         ]
        },
        "geo": {
         "center": {},
         "domain": {
          "x": [
           0,
           1
          ],
          "y": [
           0,
           1
          ]
         }
        },
        "legend": {
         "tracegroupgap": 0
        },
        "margin": {
         "b": 0,
         "l": 0,
         "r": 0,
         "t": 0
        },
        "template": {
         "data": {
          "bar": [
           {
            "error_x": {
             "color": "#2a3f5f"
            },
            "error_y": {
             "color": "#2a3f5f"
            },
            "marker": {
             "line": {
              "color": "#E5ECF6",
              "width": 0.5
             },
             "pattern": {
              "fillmode": "overlay",
              "size": 10,
              "solidity": 0.2
             }
            },
            "type": "bar"
           }
          ],
          "barpolar": [
           {
            "marker": {
             "line": {
              "color": "#E5ECF6",
              "width": 0.5
             },
             "pattern": {
              "fillmode": "overlay",
              "size": 10,
              "solidity": 0.2
             }
            },
            "type": "barpolar"
           }
          ],
          "carpet": [
           {
            "aaxis": {
             "endlinecolor": "#2a3f5f",
             "gridcolor": "white",
             "linecolor": "white",
             "minorgridcolor": "white",
             "startlinecolor": "#2a3f5f"
            },
            "baxis": {
             "endlinecolor": "#2a3f5f",
             "gridcolor": "white",
             "linecolor": "white",
             "minorgridcolor": "white",
             "startlinecolor": "#2a3f5f"
            },
            "type": "carpet"
           }
          ],
          "choropleth": [
           {
            "colorbar": {
             "outlinewidth": 0,
             "ticks": ""
            },
            "type": "choropleth"
           }
          ],
          "contour": [
           {
            "colorbar": {
             "outlinewidth": 0,
             "ticks": ""
            },
            "colorscale": [
             [
              0,
              "#0d0887"
             ],
             [
              0.1111111111111111,
              "#46039f"
             ],
             [
              0.2222222222222222,
              "#7201a8"
             ],
             [
              0.3333333333333333,
              "#9c179e"
             ],
             [
              0.4444444444444444,
              "#bd3786"
             ],
             [
              0.5555555555555556,
              "#d8576b"
             ],
             [
              0.6666666666666666,
              "#ed7953"
             ],
             [
              0.7777777777777778,
              "#fb9f3a"
             ],
             [
              0.8888888888888888,
              "#fdca26"
             ],
             [
              1,
              "#f0f921"
             ]
            ],
            "type": "contour"
           }
          ],
          "contourcarpet": [
           {
            "colorbar": {
             "outlinewidth": 0,
             "ticks": ""
            },
            "type": "contourcarpet"
           }
          ],
          "heatmap": [
           {
            "colorbar": {
             "outlinewidth": 0,
             "ticks": ""
            },
            "colorscale": [
             [
              0,
              "#0d0887"
             ],
             [
              0.1111111111111111,
              "#46039f"
             ],
             [
              0.2222222222222222,
              "#7201a8"
             ],
             [
              0.3333333333333333,
              "#9c179e"
             ],
             [
              0.4444444444444444,
              "#bd3786"
             ],
             [
              0.5555555555555556,
              "#d8576b"
             ],
             [
              0.6666666666666666,
              "#ed7953"
             ],
             [
              0.7777777777777778,
              "#fb9f3a"
             ],
             [
              0.8888888888888888,
              "#fdca26"
             ],
             [
              1,
              "#f0f921"
             ]
            ],
            "type": "heatmap"
           }
          ],
          "heatmapgl": [
           {
            "colorbar": {
             "outlinewidth": 0,
             "ticks": ""
            },
            "colorscale": [
             [
              0,
              "#0d0887"
             ],
             [
              0.1111111111111111,
              "#46039f"
             ],
             [
              0.2222222222222222,
              "#7201a8"
             ],
             [
              0.3333333333333333,
              "#9c179e"
             ],
             [
              0.4444444444444444,
              "#bd3786"
             ],
             [
              0.5555555555555556,
              "#d8576b"
             ],
             [
              0.6666666666666666,
              "#ed7953"
             ],
             [
              0.7777777777777778,
              "#fb9f3a"
             ],
             [
              0.8888888888888888,
              "#fdca26"
             ],
             [
              1,
              "#f0f921"
             ]
            ],
            "type": "heatmapgl"
           }
          ],
          "histogram": [
           {
            "marker": {
             "pattern": {
              "fillmode": "overlay",
              "size": 10,
              "solidity": 0.2
             }
            },
            "type": "histogram"
           }
          ],
          "histogram2d": [
           {
            "colorbar": {
             "outlinewidth": 0,
             "ticks": ""
            },
            "colorscale": [
             [
              0,
              "#0d0887"
             ],
             [
              0.1111111111111111,
              "#46039f"
             ],
             [
              0.2222222222222222,
              "#7201a8"
             ],
             [
              0.3333333333333333,
              "#9c179e"
             ],
             [
              0.4444444444444444,
              "#bd3786"
             ],
             [
              0.5555555555555556,
              "#d8576b"
             ],
             [
              0.6666666666666666,
              "#ed7953"
             ],
             [
              0.7777777777777778,
              "#fb9f3a"
             ],
             [
              0.8888888888888888,
              "#fdca26"
             ],
             [
              1,
              "#f0f921"
             ]
            ],
            "type": "histogram2d"
           }
          ],
          "histogram2dcontour": [
           {
            "colorbar": {
             "outlinewidth": 0,
             "ticks": ""
            },
            "colorscale": [
             [
              0,
              "#0d0887"
             ],
             [
              0.1111111111111111,
              "#46039f"
             ],
             [
              0.2222222222222222,
              "#7201a8"
             ],
             [
              0.3333333333333333,
              "#9c179e"
             ],
             [
              0.4444444444444444,
              "#bd3786"
             ],
             [
              0.5555555555555556,
              "#d8576b"
             ],
             [
              0.6666666666666666,
              "#ed7953"
             ],
             [
              0.7777777777777778,
              "#fb9f3a"
             ],
             [
              0.8888888888888888,
              "#fdca26"
             ],
             [
              1,
              "#f0f921"
             ]
            ],
            "type": "histogram2dcontour"
           }
          ],
          "mesh3d": [
           {
            "colorbar": {
             "outlinewidth": 0,
             "ticks": ""
            },
            "type": "mesh3d"
           }
          ],
          "parcoords": [
           {
            "line": {
             "colorbar": {
              "outlinewidth": 0,
              "ticks": ""
             }
            },
            "type": "parcoords"
           }
          ],
          "pie": [
           {
            "automargin": true,
            "type": "pie"
           }
          ],
          "scatter": [
           {
            "marker": {
             "colorbar": {
              "outlinewidth": 0,
              "ticks": ""
             }
            },
            "type": "scatter"
           }
          ],
          "scatter3d": [
           {
            "line": {
             "colorbar": {
              "outlinewidth": 0,
              "ticks": ""
             }
            },
            "marker": {
             "colorbar": {
              "outlinewidth": 0,
              "ticks": ""
             }
            },
            "type": "scatter3d"
           }
          ],
          "scattercarpet": [
           {
            "marker": {
             "colorbar": {
              "outlinewidth": 0,
              "ticks": ""
             }
            },
            "type": "scattercarpet"
           }
          ],
          "scattergeo": [
           {
            "marker": {
             "colorbar": {
              "outlinewidth": 0,
              "ticks": ""
             }
            },
            "type": "scattergeo"
           }
          ],
          "scattergl": [
           {
            "marker": {
             "colorbar": {
              "outlinewidth": 0,
              "ticks": ""
             }
            },
            "type": "scattergl"
           }
          ],
          "scattermapbox": [
           {
            "marker": {
             "colorbar": {
              "outlinewidth": 0,
              "ticks": ""
             }
            },
            "type": "scattermapbox"
           }
          ],
          "scatterpolar": [
           {
            "marker": {
             "colorbar": {
              "outlinewidth": 0,
              "ticks": ""
             }
            },
            "type": "scatterpolar"
           }
          ],
          "scatterpolargl": [
           {
            "marker": {
             "colorbar": {
              "outlinewidth": 0,
              "ticks": ""
             }
            },
            "type": "scatterpolargl"
           }
          ],
          "scatterternary": [
           {
            "marker": {
             "colorbar": {
              "outlinewidth": 0,
              "ticks": ""
             }
            },
            "type": "scatterternary"
           }
          ],
          "surface": [
           {
            "colorbar": {
             "outlinewidth": 0,
             "ticks": ""
            },
            "colorscale": [
             [
              0,
              "#0d0887"
             ],
             [
              0.1111111111111111,
              "#46039f"
             ],
             [
              0.2222222222222222,
              "#7201a8"
             ],
             [
              0.3333333333333333,
              "#9c179e"
             ],
             [
              0.4444444444444444,
              "#bd3786"
             ],
             [
              0.5555555555555556,
              "#d8576b"
             ],
             [
              0.6666666666666666,
              "#ed7953"
             ],
             [
              0.7777777777777778,
              "#fb9f3a"
             ],
             [
              0.8888888888888888,
              "#fdca26"
             ],
             [
              1,
              "#f0f921"
             ]
            ],
            "type": "surface"
           }
          ],
          "table": [
           {
            "cells": {
             "fill": {
              "color": "#EBF0F8"
             },
             "line": {
              "color": "white"
             }
            },
            "header": {
             "fill": {
              "color": "#C8D4E3"
             },
             "line": {
              "color": "white"
             }
            },
            "type": "table"
           }
          ]
         },
         "layout": {
          "annotationdefaults": {
           "arrowcolor": "#2a3f5f",
           "arrowhead": 0,
           "arrowwidth": 1
          },
          "autotypenumbers": "strict",
          "coloraxis": {
           "colorbar": {
            "outlinewidth": 0,
            "ticks": ""
           }
          },
          "colorscale": {
           "diverging": [
            [
             0,
             "#8e0152"
            ],
            [
             0.1,
             "#c51b7d"
            ],
            [
             0.2,
             "#de77ae"
            ],
            [
             0.3,
             "#f1b6da"
            ],
            [
             0.4,
             "#fde0ef"
            ],
            [
             0.5,
             "#f7f7f7"
            ],
            [
             0.6,
             "#e6f5d0"
            ],
            [
             0.7,
             "#b8e186"
            ],
            [
             0.8,
             "#7fbc41"
            ],
            [
             0.9,
             "#4d9221"
            ],
            [
             1,
             "#276419"
            ]
           ],
           "sequential": [
            [
             0,
             "#0d0887"
            ],
            [
             0.1111111111111111,
             "#46039f"
            ],
            [
             0.2222222222222222,
             "#7201a8"
            ],
            [
             0.3333333333333333,
             "#9c179e"
            ],
            [
             0.4444444444444444,
             "#bd3786"
            ],
            [
             0.5555555555555556,
             "#d8576b"
            ],
            [
             0.6666666666666666,
             "#ed7953"
            ],
            [
             0.7777777777777778,
             "#fb9f3a"
            ],
            [
             0.8888888888888888,
             "#fdca26"
            ],
            [
             1,
             "#f0f921"
            ]
           ],
           "sequentialminus": [
            [
             0,
             "#0d0887"
            ],
            [
             0.1111111111111111,
             "#46039f"
            ],
            [
             0.2222222222222222,
             "#7201a8"
            ],
            [
             0.3333333333333333,
             "#9c179e"
            ],
            [
             0.4444444444444444,
             "#bd3786"
            ],
            [
             0.5555555555555556,
             "#d8576b"
            ],
            [
             0.6666666666666666,
             "#ed7953"
            ],
            [
             0.7777777777777778,
             "#fb9f3a"
            ],
            [
             0.8888888888888888,
             "#fdca26"
            ],
            [
             1,
             "#f0f921"
            ]
           ]
          },
          "colorway": [
           "#636efa",
           "#EF553B",
           "#00cc96",
           "#ab63fa",
           "#FFA15A",
           "#19d3f3",
           "#FF6692",
           "#B6E880",
           "#FF97FF",
           "#FECB52"
          ],
          "font": {
           "color": "#2a3f5f"
          },
          "geo": {
           "bgcolor": "white",
           "lakecolor": "white",
           "landcolor": "#E5ECF6",
           "showlakes": true,
           "showland": true,
           "subunitcolor": "white"
          },
          "hoverlabel": {
           "align": "left"
          },
          "hovermode": "closest",
          "mapbox": {
           "style": "light"
          },
          "paper_bgcolor": "white",
          "plot_bgcolor": "#E5ECF6",
          "polar": {
           "angularaxis": {
            "gridcolor": "white",
            "linecolor": "white",
            "ticks": ""
           },
           "bgcolor": "#E5ECF6",
           "radialaxis": {
            "gridcolor": "white",
            "linecolor": "white",
            "ticks": ""
           }
          },
          "scene": {
           "xaxis": {
            "backgroundcolor": "#E5ECF6",
            "gridcolor": "white",
            "gridwidth": 2,
            "linecolor": "white",
            "showbackground": true,
            "ticks": "",
            "zerolinecolor": "white"
           },
           "yaxis": {
            "backgroundcolor": "#E5ECF6",
            "gridcolor": "white",
            "gridwidth": 2,
            "linecolor": "white",
            "showbackground": true,
            "ticks": "",
            "zerolinecolor": "white"
           },
           "zaxis": {
            "backgroundcolor": "#E5ECF6",
            "gridcolor": "white",
            "gridwidth": 2,
            "linecolor": "white",
            "showbackground": true,
            "ticks": "",
            "zerolinecolor": "white"
           }
          },
          "shapedefaults": {
           "line": {
            "color": "#2a3f5f"
           }
          },
          "ternary": {
           "aaxis": {
            "gridcolor": "white",
            "linecolor": "white",
            "ticks": ""
           },
           "baxis": {
            "gridcolor": "white",
            "linecolor": "white",
            "ticks": ""
           },
           "bgcolor": "#E5ECF6",
           "caxis": {
            "gridcolor": "white",
            "linecolor": "white",
            "ticks": ""
           }
          },
          "title": {
           "x": 0.05
          },
          "xaxis": {
           "automargin": true,
           "gridcolor": "white",
           "linecolor": "white",
           "ticks": "",
           "title": {
            "standoff": 15
           },
           "zerolinecolor": "white",
           "zerolinewidth": 2
          },
          "yaxis": {
           "automargin": true,
           "gridcolor": "white",
           "linecolor": "white",
           "ticks": "",
           "title": {
            "standoff": 15
           },
           "zerolinecolor": "white",
           "zerolinewidth": 2
          }
         }
        }
       }
      }
     },
     "metadata": {},
     "output_type": "display_data"
    }
   ],
   "source": [
    "\n",
    "fig = px.choropleth(\n",
    "    last_5_pm25,\n",
    "    locations=\"ISO3\",\n",
    "    color=\"exposure_mean\",\n",
    "    hover_name=\"country\",\n",
    ")\n",
    "fig.update_layout(margin={\"r\": 0, \"t\": 0, \"l\": 0, \"b\": 0})\n",
    "# plotly.offline.plot(fig,filename='world.html')\n",
    "fig.show()"
   ]
  },
  {
   "cell_type": "code",
   "execution_count": 85,
   "metadata": {},
   "outputs": [
    {
     "data": {
      "application/vnd.plotly.v1+json": {
       "config": {
        "plotlyServerURL": "https://plot.ly"
       },
       "data": [
        {
         "alignmentgroup": "True",
         "hovertemplate": "exposure_mean=%{x}<br>country=%{y}<extra></extra>",
         "legendgroup": "",
         "marker": {
          "color": "#636efa",
          "pattern": {
           "shape": ""
          }
         },
         "name": "",
         "offsetgroup": "",
         "orientation": "h",
         "showlegend": false,
         "textposition": "auto",
         "type": "bar",
         "x": [
          85.64,
          85,
          79.28999999999999,
          78.78,
          70.8,
          66.92999999999999,
          66.28999999999999,
          65.17999999999999,
          64.51,
          64.03,
          63.089999999999996,
          63.029999999999994,
          61.8,
          60.27,
          59.620000000000005,
          58.73,
          57.589999999999996,
          55.98,
          55.17999999999999,
          54.89
         ],
         "xaxis": "x",
         "y": [
          "India",
          "Nepal",
          "Qatar",
          "Niger",
          "Egypt",
          "Nigeria",
          "Mauritania",
          "Bangladesh",
          "Pakistan",
          "Kuwait",
          "Saudi Arabia",
          "Bahrain",
          "Cameroon",
          "Mali",
          "Senegal",
          "Chad",
          "Gambia",
          "Afghanistan",
          "Côte d'Ivoire",
          "China"
         ],
         "yaxis": "y"
        }
       ],
       "layout": {
        "barmode": "relative",
        "legend": {
         "tracegroupgap": 0
        },
        "margin": {
         "t": 60
        },
        "template": {
         "data": {
          "bar": [
           {
            "error_x": {
             "color": "#2a3f5f"
            },
            "error_y": {
             "color": "#2a3f5f"
            },
            "marker": {
             "line": {
              "color": "#E5ECF6",
              "width": 0.5
             },
             "pattern": {
              "fillmode": "overlay",
              "size": 10,
              "solidity": 0.2
             }
            },
            "type": "bar"
           }
          ],
          "barpolar": [
           {
            "marker": {
             "line": {
              "color": "#E5ECF6",
              "width": 0.5
             },
             "pattern": {
              "fillmode": "overlay",
              "size": 10,
              "solidity": 0.2
             }
            },
            "type": "barpolar"
           }
          ],
          "carpet": [
           {
            "aaxis": {
             "endlinecolor": "#2a3f5f",
             "gridcolor": "white",
             "linecolor": "white",
             "minorgridcolor": "white",
             "startlinecolor": "#2a3f5f"
            },
            "baxis": {
             "endlinecolor": "#2a3f5f",
             "gridcolor": "white",
             "linecolor": "white",
             "minorgridcolor": "white",
             "startlinecolor": "#2a3f5f"
            },
            "type": "carpet"
           }
          ],
          "choropleth": [
           {
            "colorbar": {
             "outlinewidth": 0,
             "ticks": ""
            },
            "type": "choropleth"
           }
          ],
          "contour": [
           {
            "colorbar": {
             "outlinewidth": 0,
             "ticks": ""
            },
            "colorscale": [
             [
              0,
              "#0d0887"
             ],
             [
              0.1111111111111111,
              "#46039f"
             ],
             [
              0.2222222222222222,
              "#7201a8"
             ],
             [
              0.3333333333333333,
              "#9c179e"
             ],
             [
              0.4444444444444444,
              "#bd3786"
             ],
             [
              0.5555555555555556,
              "#d8576b"
             ],
             [
              0.6666666666666666,
              "#ed7953"
             ],
             [
              0.7777777777777778,
              "#fb9f3a"
             ],
             [
              0.8888888888888888,
              "#fdca26"
             ],
             [
              1,
              "#f0f921"
             ]
            ],
            "type": "contour"
           }
          ],
          "contourcarpet": [
           {
            "colorbar": {
             "outlinewidth": 0,
             "ticks": ""
            },
            "type": "contourcarpet"
           }
          ],
          "heatmap": [
           {
            "colorbar": {
             "outlinewidth": 0,
             "ticks": ""
            },
            "colorscale": [
             [
              0,
              "#0d0887"
             ],
             [
              0.1111111111111111,
              "#46039f"
             ],
             [
              0.2222222222222222,
              "#7201a8"
             ],
             [
              0.3333333333333333,
              "#9c179e"
             ],
             [
              0.4444444444444444,
              "#bd3786"
             ],
             [
              0.5555555555555556,
              "#d8576b"
             ],
             [
              0.6666666666666666,
              "#ed7953"
             ],
             [
              0.7777777777777778,
              "#fb9f3a"
             ],
             [
              0.8888888888888888,
              "#fdca26"
             ],
             [
              1,
              "#f0f921"
             ]
            ],
            "type": "heatmap"
           }
          ],
          "heatmapgl": [
           {
            "colorbar": {
             "outlinewidth": 0,
             "ticks": ""
            },
            "colorscale": [
             [
              0,
              "#0d0887"
             ],
             [
              0.1111111111111111,
              "#46039f"
             ],
             [
              0.2222222222222222,
              "#7201a8"
             ],
             [
              0.3333333333333333,
              "#9c179e"
             ],
             [
              0.4444444444444444,
              "#bd3786"
             ],
             [
              0.5555555555555556,
              "#d8576b"
             ],
             [
              0.6666666666666666,
              "#ed7953"
             ],
             [
              0.7777777777777778,
              "#fb9f3a"
             ],
             [
              0.8888888888888888,
              "#fdca26"
             ],
             [
              1,
              "#f0f921"
             ]
            ],
            "type": "heatmapgl"
           }
          ],
          "histogram": [
           {
            "marker": {
             "pattern": {
              "fillmode": "overlay",
              "size": 10,
              "solidity": 0.2
             }
            },
            "type": "histogram"
           }
          ],
          "histogram2d": [
           {
            "colorbar": {
             "outlinewidth": 0,
             "ticks": ""
            },
            "colorscale": [
             [
              0,
              "#0d0887"
             ],
             [
              0.1111111111111111,
              "#46039f"
             ],
             [
              0.2222222222222222,
              "#7201a8"
             ],
             [
              0.3333333333333333,
              "#9c179e"
             ],
             [
              0.4444444444444444,
              "#bd3786"
             ],
             [
              0.5555555555555556,
              "#d8576b"
             ],
             [
              0.6666666666666666,
              "#ed7953"
             ],
             [
              0.7777777777777778,
              "#fb9f3a"
             ],
             [
              0.8888888888888888,
              "#fdca26"
             ],
             [
              1,
              "#f0f921"
             ]
            ],
            "type": "histogram2d"
           }
          ],
          "histogram2dcontour": [
           {
            "colorbar": {
             "outlinewidth": 0,
             "ticks": ""
            },
            "colorscale": [
             [
              0,
              "#0d0887"
             ],
             [
              0.1111111111111111,
              "#46039f"
             ],
             [
              0.2222222222222222,
              "#7201a8"
             ],
             [
              0.3333333333333333,
              "#9c179e"
             ],
             [
              0.4444444444444444,
              "#bd3786"
             ],
             [
              0.5555555555555556,
              "#d8576b"
             ],
             [
              0.6666666666666666,
              "#ed7953"
             ],
             [
              0.7777777777777778,
              "#fb9f3a"
             ],
             [
              0.8888888888888888,
              "#fdca26"
             ],
             [
              1,
              "#f0f921"
             ]
            ],
            "type": "histogram2dcontour"
           }
          ],
          "mesh3d": [
           {
            "colorbar": {
             "outlinewidth": 0,
             "ticks": ""
            },
            "type": "mesh3d"
           }
          ],
          "parcoords": [
           {
            "line": {
             "colorbar": {
              "outlinewidth": 0,
              "ticks": ""
             }
            },
            "type": "parcoords"
           }
          ],
          "pie": [
           {
            "automargin": true,
            "type": "pie"
           }
          ],
          "scatter": [
           {
            "marker": {
             "colorbar": {
              "outlinewidth": 0,
              "ticks": ""
             }
            },
            "type": "scatter"
           }
          ],
          "scatter3d": [
           {
            "line": {
             "colorbar": {
              "outlinewidth": 0,
              "ticks": ""
             }
            },
            "marker": {
             "colorbar": {
              "outlinewidth": 0,
              "ticks": ""
             }
            },
            "type": "scatter3d"
           }
          ],
          "scattercarpet": [
           {
            "marker": {
             "colorbar": {
              "outlinewidth": 0,
              "ticks": ""
             }
            },
            "type": "scattercarpet"
           }
          ],
          "scattergeo": [
           {
            "marker": {
             "colorbar": {
              "outlinewidth": 0,
              "ticks": ""
             }
            },
            "type": "scattergeo"
           }
          ],
          "scattergl": [
           {
            "marker": {
             "colorbar": {
              "outlinewidth": 0,
              "ticks": ""
             }
            },
            "type": "scattergl"
           }
          ],
          "scattermapbox": [
           {
            "marker": {
             "colorbar": {
              "outlinewidth": 0,
              "ticks": ""
             }
            },
            "type": "scattermapbox"
           }
          ],
          "scatterpolar": [
           {
            "marker": {
             "colorbar": {
              "outlinewidth": 0,
              "ticks": ""
             }
            },
            "type": "scatterpolar"
           }
          ],
          "scatterpolargl": [
           {
            "marker": {
             "colorbar": {
              "outlinewidth": 0,
              "ticks": ""
             }
            },
            "type": "scatterpolargl"
           }
          ],
          "scatterternary": [
           {
            "marker": {
             "colorbar": {
              "outlinewidth": 0,
              "ticks": ""
             }
            },
            "type": "scatterternary"
           }
          ],
          "surface": [
           {
            "colorbar": {
             "outlinewidth": 0,
             "ticks": ""
            },
            "colorscale": [
             [
              0,
              "#0d0887"
             ],
             [
              0.1111111111111111,
              "#46039f"
             ],
             [
              0.2222222222222222,
              "#7201a8"
             ],
             [
              0.3333333333333333,
              "#9c179e"
             ],
             [
              0.4444444444444444,
              "#bd3786"
             ],
             [
              0.5555555555555556,
              "#d8576b"
             ],
             [
              0.6666666666666666,
              "#ed7953"
             ],
             [
              0.7777777777777778,
              "#fb9f3a"
             ],
             [
              0.8888888888888888,
              "#fdca26"
             ],
             [
              1,
              "#f0f921"
             ]
            ],
            "type": "surface"
           }
          ],
          "table": [
           {
            "cells": {
             "fill": {
              "color": "#EBF0F8"
             },
             "line": {
              "color": "white"
             }
            },
            "header": {
             "fill": {
              "color": "#C8D4E3"
             },
             "line": {
              "color": "white"
             }
            },
            "type": "table"
           }
          ]
         },
         "layout": {
          "annotationdefaults": {
           "arrowcolor": "#2a3f5f",
           "arrowhead": 0,
           "arrowwidth": 1
          },
          "autotypenumbers": "strict",
          "coloraxis": {
           "colorbar": {
            "outlinewidth": 0,
            "ticks": ""
           }
          },
          "colorscale": {
           "diverging": [
            [
             0,
             "#8e0152"
            ],
            [
             0.1,
             "#c51b7d"
            ],
            [
             0.2,
             "#de77ae"
            ],
            [
             0.3,
             "#f1b6da"
            ],
            [
             0.4,
             "#fde0ef"
            ],
            [
             0.5,
             "#f7f7f7"
            ],
            [
             0.6,
             "#e6f5d0"
            ],
            [
             0.7,
             "#b8e186"
            ],
            [
             0.8,
             "#7fbc41"
            ],
            [
             0.9,
             "#4d9221"
            ],
            [
             1,
             "#276419"
            ]
           ],
           "sequential": [
            [
             0,
             "#0d0887"
            ],
            [
             0.1111111111111111,
             "#46039f"
            ],
            [
             0.2222222222222222,
             "#7201a8"
            ],
            [
             0.3333333333333333,
             "#9c179e"
            ],
            [
             0.4444444444444444,
             "#bd3786"
            ],
            [
             0.5555555555555556,
             "#d8576b"
            ],
            [
             0.6666666666666666,
             "#ed7953"
            ],
            [
             0.7777777777777778,
             "#fb9f3a"
            ],
            [
             0.8888888888888888,
             "#fdca26"
            ],
            [
             1,
             "#f0f921"
            ]
           ],
           "sequentialminus": [
            [
             0,
             "#0d0887"
            ],
            [
             0.1111111111111111,
             "#46039f"
            ],
            [
             0.2222222222222222,
             "#7201a8"
            ],
            [
             0.3333333333333333,
             "#9c179e"
            ],
            [
             0.4444444444444444,
             "#bd3786"
            ],
            [
             0.5555555555555556,
             "#d8576b"
            ],
            [
             0.6666666666666666,
             "#ed7953"
            ],
            [
             0.7777777777777778,
             "#fb9f3a"
            ],
            [
             0.8888888888888888,
             "#fdca26"
            ],
            [
             1,
             "#f0f921"
            ]
           ]
          },
          "colorway": [
           "#636efa",
           "#EF553B",
           "#00cc96",
           "#ab63fa",
           "#FFA15A",
           "#19d3f3",
           "#FF6692",
           "#B6E880",
           "#FF97FF",
           "#FECB52"
          ],
          "font": {
           "color": "#2a3f5f"
          },
          "geo": {
           "bgcolor": "white",
           "lakecolor": "white",
           "landcolor": "#E5ECF6",
           "showlakes": true,
           "showland": true,
           "subunitcolor": "white"
          },
          "hoverlabel": {
           "align": "left"
          },
          "hovermode": "closest",
          "mapbox": {
           "style": "light"
          },
          "paper_bgcolor": "white",
          "plot_bgcolor": "#E5ECF6",
          "polar": {
           "angularaxis": {
            "gridcolor": "white",
            "linecolor": "white",
            "ticks": ""
           },
           "bgcolor": "#E5ECF6",
           "radialaxis": {
            "gridcolor": "white",
            "linecolor": "white",
            "ticks": ""
           }
          },
          "scene": {
           "xaxis": {
            "backgroundcolor": "#E5ECF6",
            "gridcolor": "white",
            "gridwidth": 2,
            "linecolor": "white",
            "showbackground": true,
            "ticks": "",
            "zerolinecolor": "white"
           },
           "yaxis": {
            "backgroundcolor": "#E5ECF6",
            "gridcolor": "white",
            "gridwidth": 2,
            "linecolor": "white",
            "showbackground": true,
            "ticks": "",
            "zerolinecolor": "white"
           },
           "zaxis": {
            "backgroundcolor": "#E5ECF6",
            "gridcolor": "white",
            "gridwidth": 2,
            "linecolor": "white",
            "showbackground": true,
            "ticks": "",
            "zerolinecolor": "white"
           }
          },
          "shapedefaults": {
           "line": {
            "color": "#2a3f5f"
           }
          },
          "ternary": {
           "aaxis": {
            "gridcolor": "white",
            "linecolor": "white",
            "ticks": ""
           },
           "baxis": {
            "gridcolor": "white",
            "linecolor": "white",
            "ticks": ""
           },
           "bgcolor": "#E5ECF6",
           "caxis": {
            "gridcolor": "white",
            "linecolor": "white",
            "ticks": ""
           }
          },
          "title": {
           "x": 0.05
          },
          "xaxis": {
           "automargin": true,
           "gridcolor": "white",
           "linecolor": "white",
           "ticks": "",
           "title": {
            "standoff": 15
           },
           "zerolinecolor": "white",
           "zerolinewidth": 2
          },
          "yaxis": {
           "automargin": true,
           "gridcolor": "white",
           "linecolor": "white",
           "ticks": "",
           "title": {
            "standoff": 15
           },
           "zerolinecolor": "white",
           "zerolinewidth": 2
          }
         }
        },
        "xaxis": {
         "anchor": "y",
         "domain": [
          0,
          1
         ],
         "title": {
          "text": "exposure_mean"
         }
        },
        "yaxis": {
         "anchor": "x",
         "domain": [
          0,
          1
         ],
         "title": {
          "text": "country"
         }
        }
       }
      }
     },
     "metadata": {},
     "output_type": "display_data"
    }
   ],
   "source": [
    "fig = px.bar(last_5_pm25[:20],  x='exposure_mean', y='country', orientation='h')\n",
    "fig.show()"
   ]
  },
  {
   "cell_type": "code",
   "execution_count": 86,
   "metadata": {},
   "outputs": [
    {
     "data": {
      "application/vnd.plotly.v1+json": {
       "config": {
        "plotlyServerURL": "https://plot.ly"
       },
       "data": [
        {
         "coloraxis": "coloraxis",
         "geo": "geo",
         "hovertemplate": "<b>%{hovertext}</b><br><br>ISO3=%{location}<br>exposure_mean=%{z}<extra></extra>",
         "hovertext": [
          "Qatar",
          "Nepal",
          "India",
          "Bahrain",
          "Kuwait",
          "Bangladesh",
          "Pakistan",
          "Iraq",
          "United Arab Emirates",
          "Saudi Arabia",
          "Iran (Islamic Republic of)",
          "Bhutan",
          "Jordan",
          "Kyrgyzstan",
          "Republic of Korea",
          "Afghanistan",
          "Tajikistan",
          "Palestine",
          "Syrian Arab Republic",
          "Democratic People's Republic of Korea",
          "Armenia",
          "Algeria",
          "Israel",
          "Egypt",
          "Central African Republic",
          "Oman",
          "Italy",
          "Malta",
          "Uzbekistan",
          "Tunisia",
          "Libya",
          "Cyprus",
          "China",
          "Lebanon",
          "San Marino",
          "Nigeria",
          "Slovenia",
          "Morocco",
          "Monaco",
          "Benin",
          "Turkey",
          "Togo",
          "Georgia",
          "Maldives",
          "Croatia",
          "Andorra",
          "Bermuda",
          "Switzerland",
          "Azerbaijan",
          "Turkmenistan",
          "Greece",
          "Austria",
          "Spain",
          "Yemen",
          "Northern Mariana Islands",
          "Cameroon",
          "Japan",
          "Montenegro",
          "Czechia",
          "Ghana",
          "Chad",
          "Niger",
          "Slovakia",
          "Sudan",
          "Democratic Republic of the Congo",
          "Mongolia",
          "Kazakhstan",
          "Bosnia and Herzegovina",
          "Burkina Faso",
          "Hungary",
          "Rwanda",
          "United States of America",
          "Taiwan (Province of China)",
          "Thailand",
          "Eritrea",
          "Mexico",
          "Angola",
          "South Sudan",
          "Guinea",
          "Zambia",
          "Poland",
          "France",
          "Djibouti",
          "Namibia",
          "Burundi",
          "Germany",
          "Ethiopia",
          "Luxembourg",
          "Guinea-Bissau",
          "Gambia",
          "Myanmar",
          "Congo",
          "Mali",
          "Bulgaria",
          "Lao People's Democratic Republic",
          "Lesotho",
          "Singapore",
          "Botswana",
          "Uganda",
          "Zimbabwe",
          "Côte d'Ivoire",
          "Sierra Leone",
          "Senegal",
          "Portugal",
          "Ukraine",
          "Albania",
          "Belgium",
          "El Salvador",
          "Jamaica",
          "Paraguay",
          "Republic of Moldova",
          "Equatorial Guinea",
          "North Macedonia",
          "Viet Nam",
          "Netherlands",
          "South Africa",
          "Denmark",
          "Haiti",
          "Sri Lanka",
          "Malawi",
          "Sao Tome and Principe",
          "Liberia",
          "Mauritania",
          "Cambodia",
          "Kiribati",
          "Bolivia (Plurinational State of)",
          "Eswatini",
          "Cabo Verde",
          "Brazil",
          "Russian Federation",
          "Serbia",
          "Canada",
          "Belarus",
          "Belize",
          "Malaysia",
          "Bahamas",
          "Greenland",
          "Latvia",
          "Indonesia",
          "Kenya",
          "Estonia",
          "Sweden",
          "United Republic of Tanzania",
          "Iceland",
          "Chile",
          "Lithuania",
          "Somalia",
          "Honduras",
          "Mozambique",
          "Romania",
          "Cuba",
          "Argentina",
          "Norway",
          "Guatemala",
          "Dominican Republic",
          "Panama",
          "Finland",
          "Gabon",
          "Nicaragua",
          "Cook Islands",
          "Samoa",
          "Tonga",
          "American Samoa",
          "Niue",
          "Tokelau",
          "Venezuela (Bolivarian Republic of)",
          "Costa Rica",
          "Timor-Leste",
          "Madagascar",
          "Peru",
          "United Kingdom",
          "Uruguay",
          "Ecuador",
          "Colombia",
          "New Zealand",
          "Comoros",
          "Ireland",
          "Australia",
          "Grenada",
          "Seychelles",
          "Brunei Darussalam",
          "Fiji",
          "Trinidad and Tobago",
          "Puerto Rico",
          "Vanuatu",
          "Philippines",
          "Tuvalu",
          "United States Virgin Islands",
          "Suriname",
          "Saint Lucia",
          "Saint Vincent and the Grenadines",
          "Guyana",
          "Dominica",
          "Mauritius",
          "Palau",
          "Antigua and Barbuda",
          "Barbados",
          "Guam",
          "Saint Kitts and Nevis",
          "Solomon Islands",
          "Papua New Guinea",
          "Micronesia (Federated States of)",
          "Nauru",
          "Marshall Islands"
         ],
         "locations": [
          "QAT",
          "NPL",
          "IND",
          "BHR",
          "KWT",
          "BGD",
          "PAK",
          "IRQ",
          "ARE",
          "SAU",
          "IRN",
          "BTN",
          "JOR",
          "KGZ",
          "KOR",
          "AFG",
          "TJK",
          "PSE",
          "SYR",
          "PRK",
          "ARM",
          "DZA",
          "ISR",
          "EGY",
          "CAF",
          "OMN",
          "ITA",
          "MLT",
          "UZB",
          "TUN",
          "LBY",
          "CYP",
          "CHN",
          "LBN",
          "SMR",
          "NGA",
          "SVN",
          "MAR",
          "MCO",
          "BEN",
          "TUR",
          "TGO",
          "GEO",
          "MDV",
          "HRV",
          "AND",
          "BMU",
          "CHE",
          "AZE",
          "TKM",
          "GRC",
          "AUT",
          "ESP",
          "YEM",
          "MNP",
          "CMR",
          "JPN",
          "MNE",
          "CZE",
          "GHA",
          "TCD",
          "NER",
          "SVK",
          "SDN",
          "COD",
          "MNG",
          "KAZ",
          "BIH",
          "BFA",
          "HUN",
          "RWA",
          "USA",
          "TWN",
          "THA",
          "ERI",
          "MEX",
          "AGO",
          "SSD",
          "GIN",
          "ZMB",
          "POL",
          "FRA",
          "DJI",
          "NAM",
          "BDI",
          "DEU",
          "ETH",
          "LUX",
          "GNB",
          "GMB",
          "MMR",
          "COG",
          "MLI",
          "BGR",
          "LAO",
          "LSO",
          "SGP",
          "BWA",
          "UGA",
          "ZWE",
          "CIV",
          "SLE",
          "SEN",
          "PRT",
          "UKR",
          "ALB",
          "BEL",
          "SLV",
          "JAM",
          "PRY",
          "MDA",
          "GNQ",
          "MKD",
          "VNM",
          "NLD",
          "ZAF",
          "DNK",
          "HTI",
          "LKA",
          "MWI",
          "STP",
          "LBR",
          "MRT",
          "KHM",
          "KIR",
          "BOL",
          "SWZ",
          "CPV",
          "BRA",
          "RUS",
          "SRB",
          "CAN",
          "BLR",
          "BLZ",
          "MYS",
          "BHS",
          "GRL",
          "LVA",
          "IDN",
          "KEN",
          "EST",
          "SWE",
          "TZA",
          "ISL",
          "CHL",
          "LTU",
          "SOM",
          "HND",
          "MOZ",
          "ROU",
          "CUB",
          "ARG",
          "NOR",
          "GTM",
          "DOM",
          "PAN",
          "FIN",
          "GAB",
          "NIC",
          "COK",
          "WSM",
          "TON",
          "ASM",
          "NIU",
          "TKL",
          "VEN",
          "CRI",
          "TLS",
          "MDG",
          "PER",
          "GBR",
          "URY",
          "ECU",
          "COL",
          "NZL",
          "COM",
          "IRL",
          "AUS",
          "GRD",
          "SYC",
          "BRN",
          "FJI",
          "TTO",
          "PRI",
          "VUT",
          "PHL",
          "TUV",
          "VIR",
          "SUR",
          "LCA",
          "VCT",
          "GUY",
          "DMA",
          "MUS",
          "PLW",
          "ATG",
          "BRB",
          "GUM",
          "KNA",
          "SLB",
          "PNG",
          "FSM",
          "NRU",
          "MHL"
         ],
         "name": "",
         "type": "choropleth",
         "z": [
          66.76,
          66.02000000000001,
          64.2,
          63.5,
          62.56,
          62.54,
          62.1,
          60.06,
          58.339999999999996,
          58.08,
          57.04,
          57,
          55.379999999999995,
          55.220000000000006,
          55.160000000000004,
          54.94,
          54.17999999999999,
          54.160000000000004,
          54.120000000000005,
          54.120000000000005,
          53.4,
          53.379999999999995,
          53.06,
          52.879999999999995,
          52.620000000000005,
          52.52,
          52.239999999999995,
          52.160000000000004,
          52,
          51.48,
          51.339999999999996,
          51.12,
          50.82,
          50.78,
          50.7,
          50.519999999999996,
          50.06,
          49.96,
          49.8,
          49.68,
          49.56,
          48.88,
          48.5,
          48.42,
          48.14,
          48.14,
          48.019999999999996,
          47.879999999999995,
          47.54,
          47.42,
          47.36,
          47.18,
          47.1,
          47.08,
          47.019999999999996,
          46.980000000000004,
          46.36,
          46.339999999999996,
          46.32,
          45.92,
          45.72,
          45.660000000000004,
          45.5,
          45.4,
          44.980000000000004,
          44.959999999999994,
          44.56,
          44.56,
          44.519999999999996,
          44.06,
          44.04,
          44.019999999999996,
          43.9,
          43.86,
          43.660000000000004,
          43.5,
          43.5,
          43.3,
          43.28,
          43.18,
          43.06,
          42.92,
          42.86,
          42.86,
          42.839999999999996,
          42.260000000000005,
          42.239999999999995,
          42.22,
          42.160000000000004,
          41.88,
          41.72,
          41.660000000000004,
          41.54,
          41.54,
          41.46,
          41.32,
          41.2,
          41.04,
          40.96,
          40.86,
          40.760000000000005,
          40.62,
          40.4,
          40.38,
          40.32,
          40,
          39.64,
          39.54,
          39.339999999999996,
          39.260000000000005,
          39.2,
          39.12,
          38.839999999999996,
          38.78,
          38.7,
          38.62,
          38.62,
          38.5,
          38.480000000000004,
          38.28,
          38.260000000000005,
          38.2,
          38.18,
          38.18,
          38.019999999999996,
          38.019999999999996,
          37.739999999999995,
          37.720000000000006,
          37.72,
          37.68,
          37.62,
          37.62,
          37.54,
          37.5,
          37.04,
          37.04,
          36.94,
          36.760000000000005,
          36.36,
          36.28,
          36.12,
          35.82,
          35.660000000000004,
          35.480000000000004,
          35.4,
          35.38,
          35.36,
          35.339999999999996,
          35.14,
          35.08,
          35.04,
          35.019999999999996,
          34.6,
          34.3,
          34.22,
          34.019999999999996,
          33.94,
          33.760000000000005,
          33.56,
          33.12,
          33.12,
          33.1,
          33.04,
          33.019999999999996,
          33.019999999999996,
          32.9,
          32.86,
          32.72,
          32.44,
          32.4,
          32.36,
          31.580000000000002,
          31.3,
          30.22,
          29.6,
          29.46,
          29.4,
          29.24,
          29.04,
          28.860000000000003,
          27.98,
          26.639999999999997,
          26.5,
          25.660000000000004,
          25.34,
          25.14,
          24.66,
          23.4,
          23.06,
          23.04,
          22.86,
          22.82,
          22.46,
          20.2,
          20.04,
          19.240000000000002,
          18.78,
          18,
          17.9,
          16.84,
          16.419999999999998,
          15.98,
          15.6,
          13.34
         ]
        }
       ],
       "layout": {
        "coloraxis": {
         "colorbar": {
          "title": {
           "text": "exposure_mean"
          }
         },
         "colorscale": [
          [
           0,
           "#0d0887"
          ],
          [
           0.1111111111111111,
           "#46039f"
          ],
          [
           0.2222222222222222,
           "#7201a8"
          ],
          [
           0.3333333333333333,
           "#9c179e"
          ],
          [
           0.4444444444444444,
           "#bd3786"
          ],
          [
           0.5555555555555556,
           "#d8576b"
          ],
          [
           0.6666666666666666,
           "#ed7953"
          ],
          [
           0.7777777777777778,
           "#fb9f3a"
          ],
          [
           0.8888888888888888,
           "#fdca26"
          ],
          [
           1,
           "#f0f921"
          ]
         ]
        },
        "geo": {
         "center": {},
         "domain": {
          "x": [
           0,
           1
          ],
          "y": [
           0,
           1
          ]
         }
        },
        "legend": {
         "tracegroupgap": 0
        },
        "margin": {
         "b": 0,
         "l": 0,
         "r": 0,
         "t": 0
        },
        "template": {
         "data": {
          "bar": [
           {
            "error_x": {
             "color": "#2a3f5f"
            },
            "error_y": {
             "color": "#2a3f5f"
            },
            "marker": {
             "line": {
              "color": "#E5ECF6",
              "width": 0.5
             },
             "pattern": {
              "fillmode": "overlay",
              "size": 10,
              "solidity": 0.2
             }
            },
            "type": "bar"
           }
          ],
          "barpolar": [
           {
            "marker": {
             "line": {
              "color": "#E5ECF6",
              "width": 0.5
             },
             "pattern": {
              "fillmode": "overlay",
              "size": 10,
              "solidity": 0.2
             }
            },
            "type": "barpolar"
           }
          ],
          "carpet": [
           {
            "aaxis": {
             "endlinecolor": "#2a3f5f",
             "gridcolor": "white",
             "linecolor": "white",
             "minorgridcolor": "white",
             "startlinecolor": "#2a3f5f"
            },
            "baxis": {
             "endlinecolor": "#2a3f5f",
             "gridcolor": "white",
             "linecolor": "white",
             "minorgridcolor": "white",
             "startlinecolor": "#2a3f5f"
            },
            "type": "carpet"
           }
          ],
          "choropleth": [
           {
            "colorbar": {
             "outlinewidth": 0,
             "ticks": ""
            },
            "type": "choropleth"
           }
          ],
          "contour": [
           {
            "colorbar": {
             "outlinewidth": 0,
             "ticks": ""
            },
            "colorscale": [
             [
              0,
              "#0d0887"
             ],
             [
              0.1111111111111111,
              "#46039f"
             ],
             [
              0.2222222222222222,
              "#7201a8"
             ],
             [
              0.3333333333333333,
              "#9c179e"
             ],
             [
              0.4444444444444444,
              "#bd3786"
             ],
             [
              0.5555555555555556,
              "#d8576b"
             ],
             [
              0.6666666666666666,
              "#ed7953"
             ],
             [
              0.7777777777777778,
              "#fb9f3a"
             ],
             [
              0.8888888888888888,
              "#fdca26"
             ],
             [
              1,
              "#f0f921"
             ]
            ],
            "type": "contour"
           }
          ],
          "contourcarpet": [
           {
            "colorbar": {
             "outlinewidth": 0,
             "ticks": ""
            },
            "type": "contourcarpet"
           }
          ],
          "heatmap": [
           {
            "colorbar": {
             "outlinewidth": 0,
             "ticks": ""
            },
            "colorscale": [
             [
              0,
              "#0d0887"
             ],
             [
              0.1111111111111111,
              "#46039f"
             ],
             [
              0.2222222222222222,
              "#7201a8"
             ],
             [
              0.3333333333333333,
              "#9c179e"
             ],
             [
              0.4444444444444444,
              "#bd3786"
             ],
             [
              0.5555555555555556,
              "#d8576b"
             ],
             [
              0.6666666666666666,
              "#ed7953"
             ],
             [
              0.7777777777777778,
              "#fb9f3a"
             ],
             [
              0.8888888888888888,
              "#fdca26"
             ],
             [
              1,
              "#f0f921"
             ]
            ],
            "type": "heatmap"
           }
          ],
          "heatmapgl": [
           {
            "colorbar": {
             "outlinewidth": 0,
             "ticks": ""
            },
            "colorscale": [
             [
              0,
              "#0d0887"
             ],
             [
              0.1111111111111111,
              "#46039f"
             ],
             [
              0.2222222222222222,
              "#7201a8"
             ],
             [
              0.3333333333333333,
              "#9c179e"
             ],
             [
              0.4444444444444444,
              "#bd3786"
             ],
             [
              0.5555555555555556,
              "#d8576b"
             ],
             [
              0.6666666666666666,
              "#ed7953"
             ],
             [
              0.7777777777777778,
              "#fb9f3a"
             ],
             [
              0.8888888888888888,
              "#fdca26"
             ],
             [
              1,
              "#f0f921"
             ]
            ],
            "type": "heatmapgl"
           }
          ],
          "histogram": [
           {
            "marker": {
             "pattern": {
              "fillmode": "overlay",
              "size": 10,
              "solidity": 0.2
             }
            },
            "type": "histogram"
           }
          ],
          "histogram2d": [
           {
            "colorbar": {
             "outlinewidth": 0,
             "ticks": ""
            },
            "colorscale": [
             [
              0,
              "#0d0887"
             ],
             [
              0.1111111111111111,
              "#46039f"
             ],
             [
              0.2222222222222222,
              "#7201a8"
             ],
             [
              0.3333333333333333,
              "#9c179e"
             ],
             [
              0.4444444444444444,
              "#bd3786"
             ],
             [
              0.5555555555555556,
              "#d8576b"
             ],
             [
              0.6666666666666666,
              "#ed7953"
             ],
             [
              0.7777777777777778,
              "#fb9f3a"
             ],
             [
              0.8888888888888888,
              "#fdca26"
             ],
             [
              1,
              "#f0f921"
             ]
            ],
            "type": "histogram2d"
           }
          ],
          "histogram2dcontour": [
           {
            "colorbar": {
             "outlinewidth": 0,
             "ticks": ""
            },
            "colorscale": [
             [
              0,
              "#0d0887"
             ],
             [
              0.1111111111111111,
              "#46039f"
             ],
             [
              0.2222222222222222,
              "#7201a8"
             ],
             [
              0.3333333333333333,
              "#9c179e"
             ],
             [
              0.4444444444444444,
              "#bd3786"
             ],
             [
              0.5555555555555556,
              "#d8576b"
             ],
             [
              0.6666666666666666,
              "#ed7953"
             ],
             [
              0.7777777777777778,
              "#fb9f3a"
             ],
             [
              0.8888888888888888,
              "#fdca26"
             ],
             [
              1,
              "#f0f921"
             ]
            ],
            "type": "histogram2dcontour"
           }
          ],
          "mesh3d": [
           {
            "colorbar": {
             "outlinewidth": 0,
             "ticks": ""
            },
            "type": "mesh3d"
           }
          ],
          "parcoords": [
           {
            "line": {
             "colorbar": {
              "outlinewidth": 0,
              "ticks": ""
             }
            },
            "type": "parcoords"
           }
          ],
          "pie": [
           {
            "automargin": true,
            "type": "pie"
           }
          ],
          "scatter": [
           {
            "marker": {
             "colorbar": {
              "outlinewidth": 0,
              "ticks": ""
             }
            },
            "type": "scatter"
           }
          ],
          "scatter3d": [
           {
            "line": {
             "colorbar": {
              "outlinewidth": 0,
              "ticks": ""
             }
            },
            "marker": {
             "colorbar": {
              "outlinewidth": 0,
              "ticks": ""
             }
            },
            "type": "scatter3d"
           }
          ],
          "scattercarpet": [
           {
            "marker": {
             "colorbar": {
              "outlinewidth": 0,
              "ticks": ""
             }
            },
            "type": "scattercarpet"
           }
          ],
          "scattergeo": [
           {
            "marker": {
             "colorbar": {
              "outlinewidth": 0,
              "ticks": ""
             }
            },
            "type": "scattergeo"
           }
          ],
          "scattergl": [
           {
            "marker": {
             "colorbar": {
              "outlinewidth": 0,
              "ticks": ""
             }
            },
            "type": "scattergl"
           }
          ],
          "scattermapbox": [
           {
            "marker": {
             "colorbar": {
              "outlinewidth": 0,
              "ticks": ""
             }
            },
            "type": "scattermapbox"
           }
          ],
          "scatterpolar": [
           {
            "marker": {
             "colorbar": {
              "outlinewidth": 0,
              "ticks": ""
             }
            },
            "type": "scatterpolar"
           }
          ],
          "scatterpolargl": [
           {
            "marker": {
             "colorbar": {
              "outlinewidth": 0,
              "ticks": ""
             }
            },
            "type": "scatterpolargl"
           }
          ],
          "scatterternary": [
           {
            "marker": {
             "colorbar": {
              "outlinewidth": 0,
              "ticks": ""
             }
            },
            "type": "scatterternary"
           }
          ],
          "surface": [
           {
            "colorbar": {
             "outlinewidth": 0,
             "ticks": ""
            },
            "colorscale": [
             [
              0,
              "#0d0887"
             ],
             [
              0.1111111111111111,
              "#46039f"
             ],
             [
              0.2222222222222222,
              "#7201a8"
             ],
             [
              0.3333333333333333,
              "#9c179e"
             ],
             [
              0.4444444444444444,
              "#bd3786"
             ],
             [
              0.5555555555555556,
              "#d8576b"
             ],
             [
              0.6666666666666666,
              "#ed7953"
             ],
             [
              0.7777777777777778,
              "#fb9f3a"
             ],
             [
              0.8888888888888888,
              "#fdca26"
             ],
             [
              1,
              "#f0f921"
             ]
            ],
            "type": "surface"
           }
          ],
          "table": [
           {
            "cells": {
             "fill": {
              "color": "#EBF0F8"
             },
             "line": {
              "color": "white"
             }
            },
            "header": {
             "fill": {
              "color": "#C8D4E3"
             },
             "line": {
              "color": "white"
             }
            },
            "type": "table"
           }
          ]
         },
         "layout": {
          "annotationdefaults": {
           "arrowcolor": "#2a3f5f",
           "arrowhead": 0,
           "arrowwidth": 1
          },
          "autotypenumbers": "strict",
          "coloraxis": {
           "colorbar": {
            "outlinewidth": 0,
            "ticks": ""
           }
          },
          "colorscale": {
           "diverging": [
            [
             0,
             "#8e0152"
            ],
            [
             0.1,
             "#c51b7d"
            ],
            [
             0.2,
             "#de77ae"
            ],
            [
             0.3,
             "#f1b6da"
            ],
            [
             0.4,
             "#fde0ef"
            ],
            [
             0.5,
             "#f7f7f7"
            ],
            [
             0.6,
             "#e6f5d0"
            ],
            [
             0.7,
             "#b8e186"
            ],
            [
             0.8,
             "#7fbc41"
            ],
            [
             0.9,
             "#4d9221"
            ],
            [
             1,
             "#276419"
            ]
           ],
           "sequential": [
            [
             0,
             "#0d0887"
            ],
            [
             0.1111111111111111,
             "#46039f"
            ],
            [
             0.2222222222222222,
             "#7201a8"
            ],
            [
             0.3333333333333333,
             "#9c179e"
            ],
            [
             0.4444444444444444,
             "#bd3786"
            ],
            [
             0.5555555555555556,
             "#d8576b"
            ],
            [
             0.6666666666666666,
             "#ed7953"
            ],
            [
             0.7777777777777778,
             "#fb9f3a"
            ],
            [
             0.8888888888888888,
             "#fdca26"
            ],
            [
             1,
             "#f0f921"
            ]
           ],
           "sequentialminus": [
            [
             0,
             "#0d0887"
            ],
            [
             0.1111111111111111,
             "#46039f"
            ],
            [
             0.2222222222222222,
             "#7201a8"
            ],
            [
             0.3333333333333333,
             "#9c179e"
            ],
            [
             0.4444444444444444,
             "#bd3786"
            ],
            [
             0.5555555555555556,
             "#d8576b"
            ],
            [
             0.6666666666666666,
             "#ed7953"
            ],
            [
             0.7777777777777778,
             "#fb9f3a"
            ],
            [
             0.8888888888888888,
             "#fdca26"
            ],
            [
             1,
             "#f0f921"
            ]
           ]
          },
          "colorway": [
           "#636efa",
           "#EF553B",
           "#00cc96",
           "#ab63fa",
           "#FFA15A",
           "#19d3f3",
           "#FF6692",
           "#B6E880",
           "#FF97FF",
           "#FECB52"
          ],
          "font": {
           "color": "#2a3f5f"
          },
          "geo": {
           "bgcolor": "white",
           "lakecolor": "white",
           "landcolor": "#E5ECF6",
           "showlakes": true,
           "showland": true,
           "subunitcolor": "white"
          },
          "hoverlabel": {
           "align": "left"
          },
          "hovermode": "closest",
          "mapbox": {
           "style": "light"
          },
          "paper_bgcolor": "white",
          "plot_bgcolor": "#E5ECF6",
          "polar": {
           "angularaxis": {
            "gridcolor": "white",
            "linecolor": "white",
            "ticks": ""
           },
           "bgcolor": "#E5ECF6",
           "radialaxis": {
            "gridcolor": "white",
            "linecolor": "white",
            "ticks": ""
           }
          },
          "scene": {
           "xaxis": {
            "backgroundcolor": "#E5ECF6",
            "gridcolor": "white",
            "gridwidth": 2,
            "linecolor": "white",
            "showbackground": true,
            "ticks": "",
            "zerolinecolor": "white"
           },
           "yaxis": {
            "backgroundcolor": "#E5ECF6",
            "gridcolor": "white",
            "gridwidth": 2,
            "linecolor": "white",
            "showbackground": true,
            "ticks": "",
            "zerolinecolor": "white"
           },
           "zaxis": {
            "backgroundcolor": "#E5ECF6",
            "gridcolor": "white",
            "gridwidth": 2,
            "linecolor": "white",
            "showbackground": true,
            "ticks": "",
            "zerolinecolor": "white"
           }
          },
          "shapedefaults": {
           "line": {
            "color": "#2a3f5f"
           }
          },
          "ternary": {
           "aaxis": {
            "gridcolor": "white",
            "linecolor": "white",
            "ticks": ""
           },
           "baxis": {
            "gridcolor": "white",
            "linecolor": "white",
            "ticks": ""
           },
           "bgcolor": "#E5ECF6",
           "caxis": {
            "gridcolor": "white",
            "linecolor": "white",
            "ticks": ""
           }
          },
          "title": {
           "x": 0.05
          },
          "xaxis": {
           "automargin": true,
           "gridcolor": "white",
           "linecolor": "white",
           "ticks": "",
           "title": {
            "standoff": 15
           },
           "zerolinecolor": "white",
           "zerolinewidth": 2
          },
          "yaxis": {
           "automargin": true,
           "gridcolor": "white",
           "linecolor": "white",
           "ticks": "",
           "title": {
            "standoff": 15
           },
           "zerolinecolor": "white",
           "zerolinewidth": 2
          }
         }
        }
       }
      }
     },
     "metadata": {},
     "output_type": "display_data"
    }
   ],
   "source": [
    "fig = px.choropleth(\n",
    "    last_5_ozone,\n",
    "    locations=\"ISO3\",\n",
    "    color=\"exposure_mean\",\n",
    "    hover_name=\"country\",\n",
    ")\n",
    "fig.update_layout(margin={\"r\": 0, \"t\": 0, \"l\": 0, \"b\": 0})\n",
    "# plotly.offline.plot(fig,filename='world.html')\n",
    "fig.show()"
   ]
  },
  {
   "cell_type": "code",
   "execution_count": 87,
   "metadata": {},
   "outputs": [
    {
     "data": {
      "application/vnd.plotly.v1+json": {
       "config": {
        "plotlyServerURL": "https://plot.ly"
       },
       "data": [
        {
         "alignmentgroup": "True",
         "hovertemplate": "exposure_mean=%{x}<br>country=%{y}<extra></extra>",
         "legendgroup": "",
         "marker": {
          "color": "#636efa",
          "pattern": {
           "shape": ""
          }
         },
         "name": "",
         "offsetgroup": "",
         "orientation": "h",
         "showlegend": false,
         "textposition": "auto",
         "type": "bar",
         "x": [
          66.76,
          66.02000000000001,
          64.2,
          63.5,
          62.56,
          62.54,
          62.1,
          60.06,
          58.339999999999996,
          58.08,
          57.04,
          57,
          55.379999999999995,
          55.220000000000006,
          55.160000000000004,
          54.94,
          54.17999999999999,
          54.160000000000004,
          54.120000000000005,
          54.120000000000005
         ],
         "xaxis": "x",
         "y": [
          "Qatar",
          "Nepal",
          "India",
          "Bahrain",
          "Kuwait",
          "Bangladesh",
          "Pakistan",
          "Iraq",
          "United Arab Emirates",
          "Saudi Arabia",
          "Iran (Islamic Republic of)",
          "Bhutan",
          "Jordan",
          "Kyrgyzstan",
          "Republic of Korea",
          "Afghanistan",
          "Tajikistan",
          "Palestine",
          "Syrian Arab Republic",
          "Democratic People's Republic of Korea"
         ],
         "yaxis": "y"
        }
       ],
       "layout": {
        "barmode": "relative",
        "legend": {
         "tracegroupgap": 0
        },
        "margin": {
         "t": 60
        },
        "template": {
         "data": {
          "bar": [
           {
            "error_x": {
             "color": "#2a3f5f"
            },
            "error_y": {
             "color": "#2a3f5f"
            },
            "marker": {
             "line": {
              "color": "#E5ECF6",
              "width": 0.5
             },
             "pattern": {
              "fillmode": "overlay",
              "size": 10,
              "solidity": 0.2
             }
            },
            "type": "bar"
           }
          ],
          "barpolar": [
           {
            "marker": {
             "line": {
              "color": "#E5ECF6",
              "width": 0.5
             },
             "pattern": {
              "fillmode": "overlay",
              "size": 10,
              "solidity": 0.2
             }
            },
            "type": "barpolar"
           }
          ],
          "carpet": [
           {
            "aaxis": {
             "endlinecolor": "#2a3f5f",
             "gridcolor": "white",
             "linecolor": "white",
             "minorgridcolor": "white",
             "startlinecolor": "#2a3f5f"
            },
            "baxis": {
             "endlinecolor": "#2a3f5f",
             "gridcolor": "white",
             "linecolor": "white",
             "minorgridcolor": "white",
             "startlinecolor": "#2a3f5f"
            },
            "type": "carpet"
           }
          ],
          "choropleth": [
           {
            "colorbar": {
             "outlinewidth": 0,
             "ticks": ""
            },
            "type": "choropleth"
           }
          ],
          "contour": [
           {
            "colorbar": {
             "outlinewidth": 0,
             "ticks": ""
            },
            "colorscale": [
             [
              0,
              "#0d0887"
             ],
             [
              0.1111111111111111,
              "#46039f"
             ],
             [
              0.2222222222222222,
              "#7201a8"
             ],
             [
              0.3333333333333333,
              "#9c179e"
             ],
             [
              0.4444444444444444,
              "#bd3786"
             ],
             [
              0.5555555555555556,
              "#d8576b"
             ],
             [
              0.6666666666666666,
              "#ed7953"
             ],
             [
              0.7777777777777778,
              "#fb9f3a"
             ],
             [
              0.8888888888888888,
              "#fdca26"
             ],
             [
              1,
              "#f0f921"
             ]
            ],
            "type": "contour"
           }
          ],
          "contourcarpet": [
           {
            "colorbar": {
             "outlinewidth": 0,
             "ticks": ""
            },
            "type": "contourcarpet"
           }
          ],
          "heatmap": [
           {
            "colorbar": {
             "outlinewidth": 0,
             "ticks": ""
            },
            "colorscale": [
             [
              0,
              "#0d0887"
             ],
             [
              0.1111111111111111,
              "#46039f"
             ],
             [
              0.2222222222222222,
              "#7201a8"
             ],
             [
              0.3333333333333333,
              "#9c179e"
             ],
             [
              0.4444444444444444,
              "#bd3786"
             ],
             [
              0.5555555555555556,
              "#d8576b"
             ],
             [
              0.6666666666666666,
              "#ed7953"
             ],
             [
              0.7777777777777778,
              "#fb9f3a"
             ],
             [
              0.8888888888888888,
              "#fdca26"
             ],
             [
              1,
              "#f0f921"
             ]
            ],
            "type": "heatmap"
           }
          ],
          "heatmapgl": [
           {
            "colorbar": {
             "outlinewidth": 0,
             "ticks": ""
            },
            "colorscale": [
             [
              0,
              "#0d0887"
             ],
             [
              0.1111111111111111,
              "#46039f"
             ],
             [
              0.2222222222222222,
              "#7201a8"
             ],
             [
              0.3333333333333333,
              "#9c179e"
             ],
             [
              0.4444444444444444,
              "#bd3786"
             ],
             [
              0.5555555555555556,
              "#d8576b"
             ],
             [
              0.6666666666666666,
              "#ed7953"
             ],
             [
              0.7777777777777778,
              "#fb9f3a"
             ],
             [
              0.8888888888888888,
              "#fdca26"
             ],
             [
              1,
              "#f0f921"
             ]
            ],
            "type": "heatmapgl"
           }
          ],
          "histogram": [
           {
            "marker": {
             "pattern": {
              "fillmode": "overlay",
              "size": 10,
              "solidity": 0.2
             }
            },
            "type": "histogram"
           }
          ],
          "histogram2d": [
           {
            "colorbar": {
             "outlinewidth": 0,
             "ticks": ""
            },
            "colorscale": [
             [
              0,
              "#0d0887"
             ],
             [
              0.1111111111111111,
              "#46039f"
             ],
             [
              0.2222222222222222,
              "#7201a8"
             ],
             [
              0.3333333333333333,
              "#9c179e"
             ],
             [
              0.4444444444444444,
              "#bd3786"
             ],
             [
              0.5555555555555556,
              "#d8576b"
             ],
             [
              0.6666666666666666,
              "#ed7953"
             ],
             [
              0.7777777777777778,
              "#fb9f3a"
             ],
             [
              0.8888888888888888,
              "#fdca26"
             ],
             [
              1,
              "#f0f921"
             ]
            ],
            "type": "histogram2d"
           }
          ],
          "histogram2dcontour": [
           {
            "colorbar": {
             "outlinewidth": 0,
             "ticks": ""
            },
            "colorscale": [
             [
              0,
              "#0d0887"
             ],
             [
              0.1111111111111111,
              "#46039f"
             ],
             [
              0.2222222222222222,
              "#7201a8"
             ],
             [
              0.3333333333333333,
              "#9c179e"
             ],
             [
              0.4444444444444444,
              "#bd3786"
             ],
             [
              0.5555555555555556,
              "#d8576b"
             ],
             [
              0.6666666666666666,
              "#ed7953"
             ],
             [
              0.7777777777777778,
              "#fb9f3a"
             ],
             [
              0.8888888888888888,
              "#fdca26"
             ],
             [
              1,
              "#f0f921"
             ]
            ],
            "type": "histogram2dcontour"
           }
          ],
          "mesh3d": [
           {
            "colorbar": {
             "outlinewidth": 0,
             "ticks": ""
            },
            "type": "mesh3d"
           }
          ],
          "parcoords": [
           {
            "line": {
             "colorbar": {
              "outlinewidth": 0,
              "ticks": ""
             }
            },
            "type": "parcoords"
           }
          ],
          "pie": [
           {
            "automargin": true,
            "type": "pie"
           }
          ],
          "scatter": [
           {
            "marker": {
             "colorbar": {
              "outlinewidth": 0,
              "ticks": ""
             }
            },
            "type": "scatter"
           }
          ],
          "scatter3d": [
           {
            "line": {
             "colorbar": {
              "outlinewidth": 0,
              "ticks": ""
             }
            },
            "marker": {
             "colorbar": {
              "outlinewidth": 0,
              "ticks": ""
             }
            },
            "type": "scatter3d"
           }
          ],
          "scattercarpet": [
           {
            "marker": {
             "colorbar": {
              "outlinewidth": 0,
              "ticks": ""
             }
            },
            "type": "scattercarpet"
           }
          ],
          "scattergeo": [
           {
            "marker": {
             "colorbar": {
              "outlinewidth": 0,
              "ticks": ""
             }
            },
            "type": "scattergeo"
           }
          ],
          "scattergl": [
           {
            "marker": {
             "colorbar": {
              "outlinewidth": 0,
              "ticks": ""
             }
            },
            "type": "scattergl"
           }
          ],
          "scattermapbox": [
           {
            "marker": {
             "colorbar": {
              "outlinewidth": 0,
              "ticks": ""
             }
            },
            "type": "scattermapbox"
           }
          ],
          "scatterpolar": [
           {
            "marker": {
             "colorbar": {
              "outlinewidth": 0,
              "ticks": ""
             }
            },
            "type": "scatterpolar"
           }
          ],
          "scatterpolargl": [
           {
            "marker": {
             "colorbar": {
              "outlinewidth": 0,
              "ticks": ""
             }
            },
            "type": "scatterpolargl"
           }
          ],
          "scatterternary": [
           {
            "marker": {
             "colorbar": {
              "outlinewidth": 0,
              "ticks": ""
             }
            },
            "type": "scatterternary"
           }
          ],
          "surface": [
           {
            "colorbar": {
             "outlinewidth": 0,
             "ticks": ""
            },
            "colorscale": [
             [
              0,
              "#0d0887"
             ],
             [
              0.1111111111111111,
              "#46039f"
             ],
             [
              0.2222222222222222,
              "#7201a8"
             ],
             [
              0.3333333333333333,
              "#9c179e"
             ],
             [
              0.4444444444444444,
              "#bd3786"
             ],
             [
              0.5555555555555556,
              "#d8576b"
             ],
             [
              0.6666666666666666,
              "#ed7953"
             ],
             [
              0.7777777777777778,
              "#fb9f3a"
             ],
             [
              0.8888888888888888,
              "#fdca26"
             ],
             [
              1,
              "#f0f921"
             ]
            ],
            "type": "surface"
           }
          ],
          "table": [
           {
            "cells": {
             "fill": {
              "color": "#EBF0F8"
             },
             "line": {
              "color": "white"
             }
            },
            "header": {
             "fill": {
              "color": "#C8D4E3"
             },
             "line": {
              "color": "white"
             }
            },
            "type": "table"
           }
          ]
         },
         "layout": {
          "annotationdefaults": {
           "arrowcolor": "#2a3f5f",
           "arrowhead": 0,
           "arrowwidth": 1
          },
          "autotypenumbers": "strict",
          "coloraxis": {
           "colorbar": {
            "outlinewidth": 0,
            "ticks": ""
           }
          },
          "colorscale": {
           "diverging": [
            [
             0,
             "#8e0152"
            ],
            [
             0.1,
             "#c51b7d"
            ],
            [
             0.2,
             "#de77ae"
            ],
            [
             0.3,
             "#f1b6da"
            ],
            [
             0.4,
             "#fde0ef"
            ],
            [
             0.5,
             "#f7f7f7"
            ],
            [
             0.6,
             "#e6f5d0"
            ],
            [
             0.7,
             "#b8e186"
            ],
            [
             0.8,
             "#7fbc41"
            ],
            [
             0.9,
             "#4d9221"
            ],
            [
             1,
             "#276419"
            ]
           ],
           "sequential": [
            [
             0,
             "#0d0887"
            ],
            [
             0.1111111111111111,
             "#46039f"
            ],
            [
             0.2222222222222222,
             "#7201a8"
            ],
            [
             0.3333333333333333,
             "#9c179e"
            ],
            [
             0.4444444444444444,
             "#bd3786"
            ],
            [
             0.5555555555555556,
             "#d8576b"
            ],
            [
             0.6666666666666666,
             "#ed7953"
            ],
            [
             0.7777777777777778,
             "#fb9f3a"
            ],
            [
             0.8888888888888888,
             "#fdca26"
            ],
            [
             1,
             "#f0f921"
            ]
           ],
           "sequentialminus": [
            [
             0,
             "#0d0887"
            ],
            [
             0.1111111111111111,
             "#46039f"
            ],
            [
             0.2222222222222222,
             "#7201a8"
            ],
            [
             0.3333333333333333,
             "#9c179e"
            ],
            [
             0.4444444444444444,
             "#bd3786"
            ],
            [
             0.5555555555555556,
             "#d8576b"
            ],
            [
             0.6666666666666666,
             "#ed7953"
            ],
            [
             0.7777777777777778,
             "#fb9f3a"
            ],
            [
             0.8888888888888888,
             "#fdca26"
            ],
            [
             1,
             "#f0f921"
            ]
           ]
          },
          "colorway": [
           "#636efa",
           "#EF553B",
           "#00cc96",
           "#ab63fa",
           "#FFA15A",
           "#19d3f3",
           "#FF6692",
           "#B6E880",
           "#FF97FF",
           "#FECB52"
          ],
          "font": {
           "color": "#2a3f5f"
          },
          "geo": {
           "bgcolor": "white",
           "lakecolor": "white",
           "landcolor": "#E5ECF6",
           "showlakes": true,
           "showland": true,
           "subunitcolor": "white"
          },
          "hoverlabel": {
           "align": "left"
          },
          "hovermode": "closest",
          "mapbox": {
           "style": "light"
          },
          "paper_bgcolor": "white",
          "plot_bgcolor": "#E5ECF6",
          "polar": {
           "angularaxis": {
            "gridcolor": "white",
            "linecolor": "white",
            "ticks": ""
           },
           "bgcolor": "#E5ECF6",
           "radialaxis": {
            "gridcolor": "white",
            "linecolor": "white",
            "ticks": ""
           }
          },
          "scene": {
           "xaxis": {
            "backgroundcolor": "#E5ECF6",
            "gridcolor": "white",
            "gridwidth": 2,
            "linecolor": "white",
            "showbackground": true,
            "ticks": "",
            "zerolinecolor": "white"
           },
           "yaxis": {
            "backgroundcolor": "#E5ECF6",
            "gridcolor": "white",
            "gridwidth": 2,
            "linecolor": "white",
            "showbackground": true,
            "ticks": "",
            "zerolinecolor": "white"
           },
           "zaxis": {
            "backgroundcolor": "#E5ECF6",
            "gridcolor": "white",
            "gridwidth": 2,
            "linecolor": "white",
            "showbackground": true,
            "ticks": "",
            "zerolinecolor": "white"
           }
          },
          "shapedefaults": {
           "line": {
            "color": "#2a3f5f"
           }
          },
          "ternary": {
           "aaxis": {
            "gridcolor": "white",
            "linecolor": "white",
            "ticks": ""
           },
           "baxis": {
            "gridcolor": "white",
            "linecolor": "white",
            "ticks": ""
           },
           "bgcolor": "#E5ECF6",
           "caxis": {
            "gridcolor": "white",
            "linecolor": "white",
            "ticks": ""
           }
          },
          "title": {
           "x": 0.05
          },
          "xaxis": {
           "automargin": true,
           "gridcolor": "white",
           "linecolor": "white",
           "ticks": "",
           "title": {
            "standoff": 15
           },
           "zerolinecolor": "white",
           "zerolinewidth": 2
          },
          "yaxis": {
           "automargin": true,
           "gridcolor": "white",
           "linecolor": "white",
           "ticks": "",
           "title": {
            "standoff": 15
           },
           "zerolinecolor": "white",
           "zerolinewidth": 2
          }
         }
        },
        "xaxis": {
         "anchor": "y",
         "domain": [
          0,
          1
         ],
         "title": {
          "text": "exposure_mean"
         }
        },
        "yaxis": {
         "anchor": "x",
         "domain": [
          0,
          1
         ],
         "title": {
          "text": "country"
         }
        }
       }
      }
     },
     "metadata": {},
     "output_type": "display_data"
    }
   ],
   "source": [
    "fig = px.bar(last_5_ozone[:20],  x='exposure_mean', y='country', orientation='h')\n",
    "fig.show()"
   ]
  },
  {
   "cell_type": "code",
   "execution_count": 218,
   "metadata": {},
   "outputs": [],
   "source": [
    "# some of the most pollutate countries in the world are India, Qatar, Neapl"
   ]
  },
  {
   "cell_type": "code",
   "execution_count": 253,
   "metadata": {},
   "outputs": [
    {
     "name": "stdout",
     "output_type": "stream",
     "text": [
      "{'FSM', 'COK', 'ATG', 'GUM', 'PNG', 'MHL', 'GRL', 'NIU', 'ASM', 'ISL', 'SWE', 'TUV', 'KNA', 'SLB', 'PLW', 'NZL', 'FIN', 'BRB', 'NRU'}\n"
     ]
    }
   ],
   "source": [
    "high_poll = set.intersection(set(last_5_ozone[:20].ISO3), set(last_5_pm25[:20].ISO3))\n",
    "low_pool = set.union(set(last_5_ozone[-10:].ISO3), set(last_5_pm25[-10:].ISO3))\n",
    "print(low_pool)\n",
    "# world largest economies aren't amongt this"
   ]
  },
  {
   "cell_type": "code",
   "execution_count": 247,
   "metadata": {},
   "outputs": [
    {
     "data": {
      "application/vnd.plotly.v1+json": {
       "config": {
        "plotlyServerURL": "https://plot.ly"
       },
       "data": [
        {
         "cells": {
          "align": [
           "left",
           "center"
          ],
          "fill": {
           "color": [
            [
             "white",
             "lightgrey",
             "white",
             "lightgrey",
             "white",
             "lightgrey",
             "white",
             "lightgrey",
             "white",
             "lightgrey",
             "white",
             "lightgrey",
             "white",
             "lightgrey",
             "white",
             "lightgrey",
             "white",
             "lightgrey"
            ]
           ]
          },
          "font": {
           "color": "darkslategray"
          },
          "line": {
           "color": "darkslategray"
          },
          "values": [
           [
            "India",
            "Nepal",
            "Qatar",
            "Bangladesh",
            "Pakistan",
            "Kuwait",
            "Saudi Arabia",
            "Bahrain",
            "Afghanistan"
           ],
           [
            86,
            85,
            79,
            65,
            65,
            64,
            63,
            63,
            56
           ],
           [
            64,
            66,
            67,
            63,
            62,
            63,
            58,
            64,
            55
           ]
          ]
         },
         "header": {
          "align": [
           "left",
           "center"
          ],
          "fill": {
           "color": "grey"
          },
          "font": {
           "color": "white"
          },
          "line": {
           "color": "darkslategray"
          },
          "values": [
           "<b>Country<b><br>World Most Polluted Countries",
           "PM25 Air Pollution (µg/m3)",
           "Ozone Air Pollution (pbb)"
          ]
         },
         "type": "table"
        }
       ],
       "layout": {
        "template": {
         "data": {
          "bar": [
           {
            "error_x": {
             "color": "#2a3f5f"
            },
            "error_y": {
             "color": "#2a3f5f"
            },
            "marker": {
             "line": {
              "color": "#E5ECF6",
              "width": 0.5
             },
             "pattern": {
              "fillmode": "overlay",
              "size": 10,
              "solidity": 0.2
             }
            },
            "type": "bar"
           }
          ],
          "barpolar": [
           {
            "marker": {
             "line": {
              "color": "#E5ECF6",
              "width": 0.5
             },
             "pattern": {
              "fillmode": "overlay",
              "size": 10,
              "solidity": 0.2
             }
            },
            "type": "barpolar"
           }
          ],
          "carpet": [
           {
            "aaxis": {
             "endlinecolor": "#2a3f5f",
             "gridcolor": "white",
             "linecolor": "white",
             "minorgridcolor": "white",
             "startlinecolor": "#2a3f5f"
            },
            "baxis": {
             "endlinecolor": "#2a3f5f",
             "gridcolor": "white",
             "linecolor": "white",
             "minorgridcolor": "white",
             "startlinecolor": "#2a3f5f"
            },
            "type": "carpet"
           }
          ],
          "choropleth": [
           {
            "colorbar": {
             "outlinewidth": 0,
             "ticks": ""
            },
            "type": "choropleth"
           }
          ],
          "contour": [
           {
            "colorbar": {
             "outlinewidth": 0,
             "ticks": ""
            },
            "colorscale": [
             [
              0,
              "#0d0887"
             ],
             [
              0.1111111111111111,
              "#46039f"
             ],
             [
              0.2222222222222222,
              "#7201a8"
             ],
             [
              0.3333333333333333,
              "#9c179e"
             ],
             [
              0.4444444444444444,
              "#bd3786"
             ],
             [
              0.5555555555555556,
              "#d8576b"
             ],
             [
              0.6666666666666666,
              "#ed7953"
             ],
             [
              0.7777777777777778,
              "#fb9f3a"
             ],
             [
              0.8888888888888888,
              "#fdca26"
             ],
             [
              1,
              "#f0f921"
             ]
            ],
            "type": "contour"
           }
          ],
          "contourcarpet": [
           {
            "colorbar": {
             "outlinewidth": 0,
             "ticks": ""
            },
            "type": "contourcarpet"
           }
          ],
          "heatmap": [
           {
            "colorbar": {
             "outlinewidth": 0,
             "ticks": ""
            },
            "colorscale": [
             [
              0,
              "#0d0887"
             ],
             [
              0.1111111111111111,
              "#46039f"
             ],
             [
              0.2222222222222222,
              "#7201a8"
             ],
             [
              0.3333333333333333,
              "#9c179e"
             ],
             [
              0.4444444444444444,
              "#bd3786"
             ],
             [
              0.5555555555555556,
              "#d8576b"
             ],
             [
              0.6666666666666666,
              "#ed7953"
             ],
             [
              0.7777777777777778,
              "#fb9f3a"
             ],
             [
              0.8888888888888888,
              "#fdca26"
             ],
             [
              1,
              "#f0f921"
             ]
            ],
            "type": "heatmap"
           }
          ],
          "heatmapgl": [
           {
            "colorbar": {
             "outlinewidth": 0,
             "ticks": ""
            },
            "colorscale": [
             [
              0,
              "#0d0887"
             ],
             [
              0.1111111111111111,
              "#46039f"
             ],
             [
              0.2222222222222222,
              "#7201a8"
             ],
             [
              0.3333333333333333,
              "#9c179e"
             ],
             [
              0.4444444444444444,
              "#bd3786"
             ],
             [
              0.5555555555555556,
              "#d8576b"
             ],
             [
              0.6666666666666666,
              "#ed7953"
             ],
             [
              0.7777777777777778,
              "#fb9f3a"
             ],
             [
              0.8888888888888888,
              "#fdca26"
             ],
             [
              1,
              "#f0f921"
             ]
            ],
            "type": "heatmapgl"
           }
          ],
          "histogram": [
           {
            "marker": {
             "pattern": {
              "fillmode": "overlay",
              "size": 10,
              "solidity": 0.2
             }
            },
            "type": "histogram"
           }
          ],
          "histogram2d": [
           {
            "colorbar": {
             "outlinewidth": 0,
             "ticks": ""
            },
            "colorscale": [
             [
              0,
              "#0d0887"
             ],
             [
              0.1111111111111111,
              "#46039f"
             ],
             [
              0.2222222222222222,
              "#7201a8"
             ],
             [
              0.3333333333333333,
              "#9c179e"
             ],
             [
              0.4444444444444444,
              "#bd3786"
             ],
             [
              0.5555555555555556,
              "#d8576b"
             ],
             [
              0.6666666666666666,
              "#ed7953"
             ],
             [
              0.7777777777777778,
              "#fb9f3a"
             ],
             [
              0.8888888888888888,
              "#fdca26"
             ],
             [
              1,
              "#f0f921"
             ]
            ],
            "type": "histogram2d"
           }
          ],
          "histogram2dcontour": [
           {
            "colorbar": {
             "outlinewidth": 0,
             "ticks": ""
            },
            "colorscale": [
             [
              0,
              "#0d0887"
             ],
             [
              0.1111111111111111,
              "#46039f"
             ],
             [
              0.2222222222222222,
              "#7201a8"
             ],
             [
              0.3333333333333333,
              "#9c179e"
             ],
             [
              0.4444444444444444,
              "#bd3786"
             ],
             [
              0.5555555555555556,
              "#d8576b"
             ],
             [
              0.6666666666666666,
              "#ed7953"
             ],
             [
              0.7777777777777778,
              "#fb9f3a"
             ],
             [
              0.8888888888888888,
              "#fdca26"
             ],
             [
              1,
              "#f0f921"
             ]
            ],
            "type": "histogram2dcontour"
           }
          ],
          "mesh3d": [
           {
            "colorbar": {
             "outlinewidth": 0,
             "ticks": ""
            },
            "type": "mesh3d"
           }
          ],
          "parcoords": [
           {
            "line": {
             "colorbar": {
              "outlinewidth": 0,
              "ticks": ""
             }
            },
            "type": "parcoords"
           }
          ],
          "pie": [
           {
            "automargin": true,
            "type": "pie"
           }
          ],
          "scatter": [
           {
            "marker": {
             "colorbar": {
              "outlinewidth": 0,
              "ticks": ""
             }
            },
            "type": "scatter"
           }
          ],
          "scatter3d": [
           {
            "line": {
             "colorbar": {
              "outlinewidth": 0,
              "ticks": ""
             }
            },
            "marker": {
             "colorbar": {
              "outlinewidth": 0,
              "ticks": ""
             }
            },
            "type": "scatter3d"
           }
          ],
          "scattercarpet": [
           {
            "marker": {
             "colorbar": {
              "outlinewidth": 0,
              "ticks": ""
             }
            },
            "type": "scattercarpet"
           }
          ],
          "scattergeo": [
           {
            "marker": {
             "colorbar": {
              "outlinewidth": 0,
              "ticks": ""
             }
            },
            "type": "scattergeo"
           }
          ],
          "scattergl": [
           {
            "marker": {
             "colorbar": {
              "outlinewidth": 0,
              "ticks": ""
             }
            },
            "type": "scattergl"
           }
          ],
          "scattermapbox": [
           {
            "marker": {
             "colorbar": {
              "outlinewidth": 0,
              "ticks": ""
             }
            },
            "type": "scattermapbox"
           }
          ],
          "scatterpolar": [
           {
            "marker": {
             "colorbar": {
              "outlinewidth": 0,
              "ticks": ""
             }
            },
            "type": "scatterpolar"
           }
          ],
          "scatterpolargl": [
           {
            "marker": {
             "colorbar": {
              "outlinewidth": 0,
              "ticks": ""
             }
            },
            "type": "scatterpolargl"
           }
          ],
          "scatterternary": [
           {
            "marker": {
             "colorbar": {
              "outlinewidth": 0,
              "ticks": ""
             }
            },
            "type": "scatterternary"
           }
          ],
          "surface": [
           {
            "colorbar": {
             "outlinewidth": 0,
             "ticks": ""
            },
            "colorscale": [
             [
              0,
              "#0d0887"
             ],
             [
              0.1111111111111111,
              "#46039f"
             ],
             [
              0.2222222222222222,
              "#7201a8"
             ],
             [
              0.3333333333333333,
              "#9c179e"
             ],
             [
              0.4444444444444444,
              "#bd3786"
             ],
             [
              0.5555555555555556,
              "#d8576b"
             ],
             [
              0.6666666666666666,
              "#ed7953"
             ],
             [
              0.7777777777777778,
              "#fb9f3a"
             ],
             [
              0.8888888888888888,
              "#fdca26"
             ],
             [
              1,
              "#f0f921"
             ]
            ],
            "type": "surface"
           }
          ],
          "table": [
           {
            "cells": {
             "fill": {
              "color": "#EBF0F8"
             },
             "line": {
              "color": "white"
             }
            },
            "header": {
             "fill": {
              "color": "#C8D4E3"
             },
             "line": {
              "color": "white"
             }
            },
            "type": "table"
           }
          ]
         },
         "layout": {
          "annotationdefaults": {
           "arrowcolor": "#2a3f5f",
           "arrowhead": 0,
           "arrowwidth": 1
          },
          "autotypenumbers": "strict",
          "coloraxis": {
           "colorbar": {
            "outlinewidth": 0,
            "ticks": ""
           }
          },
          "colorscale": {
           "diverging": [
            [
             0,
             "#8e0152"
            ],
            [
             0.1,
             "#c51b7d"
            ],
            [
             0.2,
             "#de77ae"
            ],
            [
             0.3,
             "#f1b6da"
            ],
            [
             0.4,
             "#fde0ef"
            ],
            [
             0.5,
             "#f7f7f7"
            ],
            [
             0.6,
             "#e6f5d0"
            ],
            [
             0.7,
             "#b8e186"
            ],
            [
             0.8,
             "#7fbc41"
            ],
            [
             0.9,
             "#4d9221"
            ],
            [
             1,
             "#276419"
            ]
           ],
           "sequential": [
            [
             0,
             "#0d0887"
            ],
            [
             0.1111111111111111,
             "#46039f"
            ],
            [
             0.2222222222222222,
             "#7201a8"
            ],
            [
             0.3333333333333333,
             "#9c179e"
            ],
            [
             0.4444444444444444,
             "#bd3786"
            ],
            [
             0.5555555555555556,
             "#d8576b"
            ],
            [
             0.6666666666666666,
             "#ed7953"
            ],
            [
             0.7777777777777778,
             "#fb9f3a"
            ],
            [
             0.8888888888888888,
             "#fdca26"
            ],
            [
             1,
             "#f0f921"
            ]
           ],
           "sequentialminus": [
            [
             0,
             "#0d0887"
            ],
            [
             0.1111111111111111,
             "#46039f"
            ],
            [
             0.2222222222222222,
             "#7201a8"
            ],
            [
             0.3333333333333333,
             "#9c179e"
            ],
            [
             0.4444444444444444,
             "#bd3786"
            ],
            [
             0.5555555555555556,
             "#d8576b"
            ],
            [
             0.6666666666666666,
             "#ed7953"
            ],
            [
             0.7777777777777778,
             "#fb9f3a"
            ],
            [
             0.8888888888888888,
             "#fdca26"
            ],
            [
             1,
             "#f0f921"
            ]
           ]
          },
          "colorway": [
           "#636efa",
           "#EF553B",
           "#00cc96",
           "#ab63fa",
           "#FFA15A",
           "#19d3f3",
           "#FF6692",
           "#B6E880",
           "#FF97FF",
           "#FECB52"
          ],
          "font": {
           "color": "#2a3f5f"
          },
          "geo": {
           "bgcolor": "white",
           "lakecolor": "white",
           "landcolor": "#E5ECF6",
           "showlakes": true,
           "showland": true,
           "subunitcolor": "white"
          },
          "hoverlabel": {
           "align": "left"
          },
          "hovermode": "closest",
          "mapbox": {
           "style": "light"
          },
          "paper_bgcolor": "white",
          "plot_bgcolor": "#E5ECF6",
          "polar": {
           "angularaxis": {
            "gridcolor": "white",
            "linecolor": "white",
            "ticks": ""
           },
           "bgcolor": "#E5ECF6",
           "radialaxis": {
            "gridcolor": "white",
            "linecolor": "white",
            "ticks": ""
           }
          },
          "scene": {
           "xaxis": {
            "backgroundcolor": "#E5ECF6",
            "gridcolor": "white",
            "gridwidth": 2,
            "linecolor": "white",
            "showbackground": true,
            "ticks": "",
            "zerolinecolor": "white"
           },
           "yaxis": {
            "backgroundcolor": "#E5ECF6",
            "gridcolor": "white",
            "gridwidth": 2,
            "linecolor": "white",
            "showbackground": true,
            "ticks": "",
            "zerolinecolor": "white"
           },
           "zaxis": {
            "backgroundcolor": "#E5ECF6",
            "gridcolor": "white",
            "gridwidth": 2,
            "linecolor": "white",
            "showbackground": true,
            "ticks": "",
            "zerolinecolor": "white"
           }
          },
          "shapedefaults": {
           "line": {
            "color": "#2a3f5f"
           }
          },
          "ternary": {
           "aaxis": {
            "gridcolor": "white",
            "linecolor": "white",
            "ticks": ""
           },
           "baxis": {
            "gridcolor": "white",
            "linecolor": "white",
            "ticks": ""
           },
           "bgcolor": "#E5ECF6",
           "caxis": {
            "gridcolor": "white",
            "linecolor": "white",
            "ticks": ""
           }
          },
          "title": {
           "x": 0.05
          },
          "xaxis": {
           "automargin": true,
           "gridcolor": "white",
           "linecolor": "white",
           "ticks": "",
           "title": {
            "standoff": 15
           },
           "zerolinecolor": "white",
           "zerolinewidth": 2
          },
          "yaxis": {
           "automargin": true,
           "gridcolor": "white",
           "linecolor": "white",
           "ticks": "",
           "title": {
            "standoff": 15
           },
           "zerolinecolor": "white",
           "zerolinewidth": 2
          }
         }
        }
       }
      }
     },
     "metadata": {},
     "output_type": "display_data"
    }
   ],
   "source": [
    "headerColor = 'grey'\n",
    "rowEvenColor = 'lightgrey'\n",
    "rowOddColor = 'white'\n",
    "\n",
    "df = air_pollution[air_pollution.ISO3.isin(high_poll)].sort_values(by=['exposure_mean_pm25', 'exposure_mean_ozone'], ascending=False)\n",
    "fig = go.Figure(data=[go.Table(\n",
    "    header=dict(values=list(['<b>Country<b><br>World Most Polluted Countries', \"PM25 Air Pollution (µg/m3)\", \"Ozone Air Pollution (pbb)\"]),\n",
    "        line_color='darkslategray',\n",
    "        fill_color=headerColor,\n",
    "        align=['left','center'],\n",
    "        font=dict(color='white')),\n",
    "    cells=dict(values=[df.country, df.exposure_mean_pm25.round(), df.exposure_mean_ozone.round()],\n",
    "        line_color='darkslategray',\n",
    "        # 2-D list of colors for alternating rows\n",
    "        fill_color = [[rowOddColor,rowEvenColor]*df.shape[0]],\n",
    "        align = ['left', 'center'],\n",
    "        font = dict(color = 'darkslategray')\n",
    "    ))\n",
    "])\n",
    "\n",
    "fig.show()\n"
   ]
  },
  {
   "cell_type": "code",
   "execution_count": 221,
   "metadata": {},
   "outputs": [
    {
     "data": {
      "text/html": [
       "<div>\n",
       "<style scoped>\n",
       "    .dataframe tbody tr th:only-of-type {\n",
       "        vertical-align: middle;\n",
       "    }\n",
       "\n",
       "    .dataframe tbody tr th {\n",
       "        vertical-align: top;\n",
       "    }\n",
       "\n",
       "    .dataframe thead th {\n",
       "        text-align: right;\n",
       "    }\n",
       "</style>\n",
       "<table border=\"1\" class=\"dataframe\">\n",
       "  <thead>\n",
       "    <tr style=\"text-align: right;\">\n",
       "      <th></th>\n",
       "      <th>measure</th>\n",
       "      <th>location</th>\n",
       "      <th>sex</th>\n",
       "      <th>age</th>\n",
       "      <th>cause</th>\n",
       "      <th>rei</th>\n",
       "      <th>metric</th>\n",
       "      <th>year</th>\n",
       "      <th>val</th>\n",
       "      <th>upper</th>\n",
       "      <th>lower</th>\n",
       "    </tr>\n",
       "  </thead>\n",
       "  <tbody>\n",
       "    <tr>\n",
       "      <th>0</th>\n",
       "      <td>YLDs</td>\n",
       "      <td>Norway</td>\n",
       "      <td>Male</td>\n",
       "      <td>All Ages</td>\n",
       "      <td>Depressive disorders</td>\n",
       "      <td>All risk factors</td>\n",
       "      <td>Number</td>\n",
       "      <td>1992</td>\n",
       "      <td>576.937291</td>\n",
       "      <td>1074.430283</td>\n",
       "      <td>241.176114</td>\n",
       "    </tr>\n",
       "    <tr>\n",
       "      <th>1</th>\n",
       "      <td>YLDs</td>\n",
       "      <td>Norway</td>\n",
       "      <td>Female</td>\n",
       "      <td>All Ages</td>\n",
       "      <td>Depressive disorders</td>\n",
       "      <td>All risk factors</td>\n",
       "      <td>Number</td>\n",
       "      <td>1992</td>\n",
       "      <td>1831.591888</td>\n",
       "      <td>3294.474095</td>\n",
       "      <td>665.732721</td>\n",
       "    </tr>\n",
       "    <tr>\n",
       "      <th>2</th>\n",
       "      <td>YLDs</td>\n",
       "      <td>Norway</td>\n",
       "      <td>Both</td>\n",
       "      <td>All Ages</td>\n",
       "      <td>Depressive disorders</td>\n",
       "      <td>All risk factors</td>\n",
       "      <td>Number</td>\n",
       "      <td>1992</td>\n",
       "      <td>2408.529178</td>\n",
       "      <td>4122.109930</td>\n",
       "      <td>974.516636</td>\n",
       "    </tr>\n",
       "    <tr>\n",
       "      <th>3</th>\n",
       "      <td>YLDs</td>\n",
       "      <td>Norway</td>\n",
       "      <td>Male</td>\n",
       "      <td>All Ages</td>\n",
       "      <td>Depressive disorders</td>\n",
       "      <td>All risk factors</td>\n",
       "      <td>Rate</td>\n",
       "      <td>1992</td>\n",
       "      <td>27.241200</td>\n",
       "      <td>50.731285</td>\n",
       "      <td>11.387593</td>\n",
       "    </tr>\n",
       "    <tr>\n",
       "      <th>4</th>\n",
       "      <td>YLDs</td>\n",
       "      <td>Norway</td>\n",
       "      <td>Female</td>\n",
       "      <td>All Ages</td>\n",
       "      <td>Depressive disorders</td>\n",
       "      <td>All risk factors</td>\n",
       "      <td>Rate</td>\n",
       "      <td>1992</td>\n",
       "      <td>84.472852</td>\n",
       "      <td>151.940847</td>\n",
       "      <td>30.703533</td>\n",
       "    </tr>\n",
       "  </tbody>\n",
       "</table>\n",
       "</div>"
      ],
      "text/plain": [
       "  measure location     sex       age                 cause               rei  \\\n",
       "0    YLDs   Norway    Male  All Ages  Depressive disorders  All risk factors   \n",
       "1    YLDs   Norway  Female  All Ages  Depressive disorders  All risk factors   \n",
       "2    YLDs   Norway    Both  All Ages  Depressive disorders  All risk factors   \n",
       "3    YLDs   Norway    Male  All Ages  Depressive disorders  All risk factors   \n",
       "4    YLDs   Norway  Female  All Ages  Depressive disorders  All risk factors   \n",
       "\n",
       "   metric  year          val        upper       lower  \n",
       "0  Number  1992   576.937291  1074.430283  241.176114  \n",
       "1  Number  1992  1831.591888  3294.474095  665.732721  \n",
       "2  Number  1992  2408.529178  4122.109930  974.516636  \n",
       "3    Rate  1992    27.241200    50.731285   11.387593  \n",
       "4    Rate  1992    84.472852   151.940847   30.703533  "
      ]
     },
     "execution_count": 221,
     "metadata": {},
     "output_type": "execute_result"
    }
   ],
   "source": [
    "death_risk_file = \"/home/amir/big_storage/datasets/IHME-GDB-Risk-all.csv\"\n",
    "death_risk = pd.read_csv(death_risk_file)\n",
    "death_risk.head()"
   ]
  },
  {
   "cell_type": "code",
   "execution_count": 222,
   "metadata": {},
   "outputs": [],
   "source": [
    "\n",
    "death_risk.cause.unique()\n",
    "causes = [\n",
    "    \"Depressive disorders\",\n",
    "    \"Cardiovascular diseases\",\n",
    "    \"Chronic respiratory diseases\",\n",
    "    \"Neurological disorders\",\n",
    "    \"Tracheal, bronchus, and lung cancer\",\n",
    "    \"Stomach cancer\",\n",
    "    \"Pancreatic cancer\",\n",
    "    \"Leukemia\",\n",
    "    \"Esophageal cancer\",\n",
    "    \"Larynx cancer\",\n",
    "    \"Colon and rectum cancer\",\n",
    "    \"Liver cancer\",\n",
    "    \"Other non-communicable diseases\",\n",
    "]\n"
   ]
  },
  {
   "cell_type": "code",
   "execution_count": 223,
   "metadata": {},
   "outputs": [
    {
     "data": {
      "application/vnd.jupyter.widget-view+json": {
       "model_id": "a02746a562d84d77bc3e090247a508e5",
       "version_major": 2,
       "version_minor": 0
      },
      "text/plain": [
       "  0%|          | 0/8 [00:00<?, ?it/s]"
      ]
     },
     "metadata": {},
     "output_type": "display_data"
    },
    {
     "name": "stdout",
     "output_type": "stream",
     "text": [
      "Country Cleaning Report:\n",
      "\t32970 values cleaned (100.0%)\n",
      "Result contains 32970 (100.0%) values in the correct format and 0 null values (0.0%)\n"
     ]
    }
   ],
   "source": [
    "country_death_risk = death_risk[\n",
    "    (death_risk.metric == \"Rate\")\n",
    "    & (death_risk.sex == \"Both\")\n",
    "    & (death_risk.measure == \"Deaths\")\n",
    "    & (death_risk.location != \"Global\")\n",
    "    & (death_risk.year >= 2010)\n",
    "    & (death_risk.cause.isin(causes))\n",
    "]\n",
    "\n",
    "country_death_risk = clean_country(country_death_risk, 'location', output_format='alpha-3')\n",
    "\n",
    "air_death_risk = country_death_risk[country_death_risk.rei == \"Air pollution\"]\n",
    "\n",
    "all_risk = country_death_risk[country_death_risk.rei == \"All risk factors\"]\n"
   ]
  },
  {
   "cell_type": "code",
   "execution_count": 225,
   "metadata": {},
   "outputs": [
    {
     "data": {
      "text/html": [
       "<div>\n",
       "<style scoped>\n",
       "    .dataframe tbody tr th:only-of-type {\n",
       "        vertical-align: middle;\n",
       "    }\n",
       "\n",
       "    .dataframe tbody tr th {\n",
       "        vertical-align: top;\n",
       "    }\n",
       "\n",
       "    .dataframe thead th {\n",
       "        text-align: right;\n",
       "    }\n",
       "</style>\n",
       "<table border=\"1\" class=\"dataframe\">\n",
       "  <thead>\n",
       "    <tr style=\"text-align: right;\">\n",
       "      <th></th>\n",
       "      <th>location_clean</th>\n",
       "      <th>location</th>\n",
       "      <th>val_sum</th>\n",
       "      <th>val_mean</th>\n",
       "      <th>val_fisr</th>\n",
       "      <th>val_max</th>\n",
       "    </tr>\n",
       "  </thead>\n",
       "  <tbody>\n",
       "    <tr>\n",
       "      <th>0</th>\n",
       "      <td>PRK</td>\n",
       "      <td>Democratic People's Republic of Korea</td>\n",
       "      <td>1910.134131</td>\n",
       "      <td>47.753353</td>\n",
       "      <td>0.003331</td>\n",
       "      <td>123.351110</td>\n",
       "    </tr>\n",
       "    <tr>\n",
       "      <th>1</th>\n",
       "      <td>BGR</td>\n",
       "      <td>Bulgaria</td>\n",
       "      <td>1540.176748</td>\n",
       "      <td>38.504419</td>\n",
       "      <td>0.000326</td>\n",
       "      <td>145.560024</td>\n",
       "    </tr>\n",
       "    <tr>\n",
       "      <th>2</th>\n",
       "      <td>MKD</td>\n",
       "      <td>North Macedonia</td>\n",
       "      <td>1458.835057</td>\n",
       "      <td>36.470876</td>\n",
       "      <td>0.002041</td>\n",
       "      <td>131.894755</td>\n",
       "    </tr>\n",
       "    <tr>\n",
       "      <th>3</th>\n",
       "      <td>SRB</td>\n",
       "      <td>Serbia</td>\n",
       "      <td>1449.701917</td>\n",
       "      <td>36.242548</td>\n",
       "      <td>0.000837</td>\n",
       "      <td>135.474119</td>\n",
       "    </tr>\n",
       "    <tr>\n",
       "      <th>4</th>\n",
       "      <td>GEO</td>\n",
       "      <td>Georgia</td>\n",
       "      <td>1292.058295</td>\n",
       "      <td>32.301457</td>\n",
       "      <td>0.000771</td>\n",
       "      <td>135.988400</td>\n",
       "    </tr>\n",
       "    <tr>\n",
       "      <th>5</th>\n",
       "      <td>BIH</td>\n",
       "      <td>Bosnia and Herzegovina</td>\n",
       "      <td>1264.110544</td>\n",
       "      <td>31.602764</td>\n",
       "      <td>0.002029</td>\n",
       "      <td>104.551572</td>\n",
       "    </tr>\n",
       "    <tr>\n",
       "      <th>6</th>\n",
       "      <td>MMR</td>\n",
       "      <td>Myanmar</td>\n",
       "      <td>1102.766975</td>\n",
       "      <td>27.569174</td>\n",
       "      <td>0.019473</td>\n",
       "      <td>78.154124</td>\n",
       "    </tr>\n",
       "    <tr>\n",
       "      <th>7</th>\n",
       "      <td>UKR</td>\n",
       "      <td>Ukraine</td>\n",
       "      <td>1102.508245</td>\n",
       "      <td>27.562706</td>\n",
       "      <td>0.001786</td>\n",
       "      <td>115.002664</td>\n",
       "    </tr>\n",
       "    <tr>\n",
       "      <th>8</th>\n",
       "      <td>NPL</td>\n",
       "      <td>Nepal</td>\n",
       "      <td>1091.639518</td>\n",
       "      <td>27.290988</td>\n",
       "      <td>0.006904</td>\n",
       "      <td>67.886708</td>\n",
       "    </tr>\n",
       "    <tr>\n",
       "      <th>9</th>\n",
       "      <td>BLR</td>\n",
       "      <td>Belarus</td>\n",
       "      <td>1057.503480</td>\n",
       "      <td>26.437587</td>\n",
       "      <td>0.000930</td>\n",
       "      <td>122.142214</td>\n",
       "    </tr>\n",
       "  </tbody>\n",
       "</table>\n",
       "</div>"
      ],
      "text/plain": [
       "  location_clean                               location      val_sum  \\\n",
       "0            PRK  Democratic People's Republic of Korea  1910.134131   \n",
       "1            BGR                               Bulgaria  1540.176748   \n",
       "2            MKD                        North Macedonia  1458.835057   \n",
       "3            SRB                                 Serbia  1449.701917   \n",
       "4            GEO                                Georgia  1292.058295   \n",
       "5            BIH                 Bosnia and Herzegovina  1264.110544   \n",
       "6            MMR                                Myanmar  1102.766975   \n",
       "7            UKR                                Ukraine  1102.508245   \n",
       "8            NPL                                  Nepal  1091.639518   \n",
       "9            BLR                                Belarus  1057.503480   \n",
       "\n",
       "    val_mean  val_fisr     val_max  \n",
       "0  47.753353  0.003331  123.351110  \n",
       "1  38.504419  0.000326  145.560024  \n",
       "2  36.470876  0.002041  131.894755  \n",
       "3  36.242548  0.000837  135.474119  \n",
       "4  32.301457  0.000771  135.988400  \n",
       "5  31.602764  0.002029  104.551572  \n",
       "6  27.569174  0.019473   78.154124  \n",
       "7  27.562706  0.001786  115.002664  \n",
       "8  27.290988  0.006904   67.886708  \n",
       "9  26.437587  0.000930  122.142214  "
      ]
     },
     "execution_count": 225,
     "metadata": {},
     "output_type": "execute_result"
    }
   ],
   "source": [
    "air_death_all_time = air_death_risk.groupby(\"location_clean\").agg(\n",
    "    location=(\"location\", \"first\"),\n",
    "    val_sum=(\"val\", \"sum\"),\n",
    "    val_mean=(\"val\", \"mean\"),\n",
    "    val_fisr=(\"val\", \"min\"),\n",
    "    val_max=(\"val\", \"max\"),\n",
    ").sort_values(by='val_mean', ascending=False).reset_index()\n",
    "low_air_polution_code = air_death_all_time.location_clean[-10:]\n",
    "air_death_all_time.head(10)"
   ]
  },
  {
   "cell_type": "code",
   "execution_count": 226,
   "metadata": {},
   "outputs": [
    {
     "data": {
      "text/html": [
       "<div>\n",
       "<style scoped>\n",
       "    .dataframe tbody tr th:only-of-type {\n",
       "        vertical-align: middle;\n",
       "    }\n",
       "\n",
       "    .dataframe tbody tr th {\n",
       "        vertical-align: top;\n",
       "    }\n",
       "\n",
       "    .dataframe thead th {\n",
       "        text-align: right;\n",
       "    }\n",
       "</style>\n",
       "<table border=\"1\" class=\"dataframe\">\n",
       "  <thead>\n",
       "    <tr style=\"text-align: right;\">\n",
       "      <th></th>\n",
       "      <th>location_clean</th>\n",
       "      <th>location</th>\n",
       "      <th>val_sum</th>\n",
       "      <th>val_mean</th>\n",
       "      <th>val_fisr</th>\n",
       "      <th>val_max</th>\n",
       "    </tr>\n",
       "  </thead>\n",
       "  <tbody>\n",
       "    <tr>\n",
       "      <th>0</th>\n",
       "      <td>BGR</td>\n",
       "      <td>Bulgaria</td>\n",
       "      <td>11200.610098</td>\n",
       "      <td>93.338417</td>\n",
       "      <td>0.003123</td>\n",
       "      <td>1006.264313</td>\n",
       "    </tr>\n",
       "    <tr>\n",
       "      <th>1</th>\n",
       "      <td>UKR</td>\n",
       "      <td>Ukraine</td>\n",
       "      <td>9453.954817</td>\n",
       "      <td>78.782957</td>\n",
       "      <td>0.017578</td>\n",
       "      <td>905.477381</td>\n",
       "    </tr>\n",
       "    <tr>\n",
       "      <th>2</th>\n",
       "      <td>LVA</td>\n",
       "      <td>Latvia</td>\n",
       "      <td>8345.684623</td>\n",
       "      <td>69.547372</td>\n",
       "      <td>0.014157</td>\n",
       "      <td>732.975936</td>\n",
       "    </tr>\n",
       "    <tr>\n",
       "      <th>3</th>\n",
       "      <td>BLR</td>\n",
       "      <td>Belarus</td>\n",
       "      <td>8294.749733</td>\n",
       "      <td>69.122914</td>\n",
       "      <td>0.008919</td>\n",
       "      <td>792.132002</td>\n",
       "    </tr>\n",
       "    <tr>\n",
       "      <th>4</th>\n",
       "      <td>GEO</td>\n",
       "      <td>Georgia</td>\n",
       "      <td>8205.922349</td>\n",
       "      <td>68.382686</td>\n",
       "      <td>0.004716</td>\n",
       "      <td>746.232268</td>\n",
       "    </tr>\n",
       "    <tr>\n",
       "      <th>5</th>\n",
       "      <td>SRB</td>\n",
       "      <td>Serbia</td>\n",
       "      <td>7967.470064</td>\n",
       "      <td>66.395584</td>\n",
       "      <td>0.005656</td>\n",
       "      <td>640.609817</td>\n",
       "    </tr>\n",
       "    <tr>\n",
       "      <th>6</th>\n",
       "      <td>LTU</td>\n",
       "      <td>Lithuania</td>\n",
       "      <td>7777.899082</td>\n",
       "      <td>64.815826</td>\n",
       "      <td>0.007632</td>\n",
       "      <td>679.502579</td>\n",
       "    </tr>\n",
       "    <tr>\n",
       "      <th>7</th>\n",
       "      <td>ROU</td>\n",
       "      <td>Romania</td>\n",
       "      <td>7627.088604</td>\n",
       "      <td>63.559072</td>\n",
       "      <td>0.003360</td>\n",
       "      <td>674.896597</td>\n",
       "    </tr>\n",
       "    <tr>\n",
       "      <th>8</th>\n",
       "      <td>HUN</td>\n",
       "      <td>Hungary</td>\n",
       "      <td>7582.500868</td>\n",
       "      <td>63.187507</td>\n",
       "      <td>0.007196</td>\n",
       "      <td>569.864219</td>\n",
       "    </tr>\n",
       "    <tr>\n",
       "      <th>9</th>\n",
       "      <td>RUS</td>\n",
       "      <td>Russian Federation</td>\n",
       "      <td>7300.722395</td>\n",
       "      <td>60.839353</td>\n",
       "      <td>0.010103</td>\n",
       "      <td>718.223092</td>\n",
       "    </tr>\n",
       "  </tbody>\n",
       "</table>\n",
       "</div>"
      ],
      "text/plain": [
       "  location_clean            location       val_sum   val_mean  val_fisr  \\\n",
       "0            BGR            Bulgaria  11200.610098  93.338417  0.003123   \n",
       "1            UKR             Ukraine   9453.954817  78.782957  0.017578   \n",
       "2            LVA              Latvia   8345.684623  69.547372  0.014157   \n",
       "3            BLR             Belarus   8294.749733  69.122914  0.008919   \n",
       "4            GEO             Georgia   8205.922349  68.382686  0.004716   \n",
       "5            SRB              Serbia   7967.470064  66.395584  0.005656   \n",
       "6            LTU           Lithuania   7777.899082  64.815826  0.007632   \n",
       "7            ROU             Romania   7627.088604  63.559072  0.003360   \n",
       "8            HUN             Hungary   7582.500868  63.187507  0.007196   \n",
       "9            RUS  Russian Federation   7300.722395  60.839353  0.010103   \n",
       "\n",
       "       val_max  \n",
       "0  1006.264313  \n",
       "1   905.477381  \n",
       "2   732.975936  \n",
       "3   792.132002  \n",
       "4   746.232268  \n",
       "5   640.609817  \n",
       "6   679.502579  \n",
       "7   674.896597  \n",
       "8   569.864219  \n",
       "9   718.223092  "
      ]
     },
     "execution_count": 226,
     "metadata": {},
     "output_type": "execute_result"
    }
   ],
   "source": [
    "all_risk_all_time = all_risk.groupby(\"location_clean\").agg(\n",
    "    location=(\"location\", \"first\"),\n",
    "    val_sum=(\"val\", \"sum\"),\n",
    "    val_mean=(\"val\", \"mean\"),\n",
    "    val_fisr=(\"val\", \"min\"),\n",
    "    val_max=(\"val\", \"max\"),\n",
    ").sort_values(by='val_mean', ascending=False).reset_index()\n",
    "all_risk_all_time.head(10)"
   ]
  },
  {
   "cell_type": "code",
   "execution_count": 254,
   "metadata": {},
   "outputs": [
    {
     "data": {
      "text/html": [
       "<div>\n",
       "<style scoped>\n",
       "    .dataframe tbody tr th:only-of-type {\n",
       "        vertical-align: middle;\n",
       "    }\n",
       "\n",
       "    .dataframe tbody tr th {\n",
       "        vertical-align: top;\n",
       "    }\n",
       "\n",
       "    .dataframe thead th {\n",
       "        text-align: right;\n",
       "    }\n",
       "</style>\n",
       "<table border=\"1\" class=\"dataframe\">\n",
       "  <thead>\n",
       "    <tr style=\"text-align: right;\">\n",
       "      <th></th>\n",
       "      <th>location_clean</th>\n",
       "      <th>location</th>\n",
       "      <th>val_sum_all</th>\n",
       "      <th>val_mean_all</th>\n",
       "      <th>val_fisr_all</th>\n",
       "      <th>val_max_all</th>\n",
       "      <th>val_sum_air</th>\n",
       "      <th>val_mean_air</th>\n",
       "      <th>val_fisr_air</th>\n",
       "      <th>val_max_air</th>\n",
       "    </tr>\n",
       "  </thead>\n",
       "  <tbody>\n",
       "    <tr>\n",
       "      <th>21</th>\n",
       "      <td>FIN</td>\n",
       "      <td>Finland</td>\n",
       "      <td>4762.605825</td>\n",
       "      <td>39.688382</td>\n",
       "      <td>0.004967</td>\n",
       "      <td>386.069577</td>\n",
       "      <td>87.911626</td>\n",
       "      <td>2.197791</td>\n",
       "      <td>0.000289</td>\n",
       "      <td>10.048577</td>\n",
       "    </tr>\n",
       "    <tr>\n",
       "      <th>28</th>\n",
       "      <td>SWE</td>\n",
       "      <td>Sweden</td>\n",
       "      <td>4204.273950</td>\n",
       "      <td>35.035616</td>\n",
       "      <td>0.010954</td>\n",
       "      <td>324.824395</td>\n",
       "      <td>88.315738</td>\n",
       "      <td>2.207893</td>\n",
       "      <td>0.000812</td>\n",
       "      <td>8.886438</td>\n",
       "    </tr>\n",
       "    <tr>\n",
       "      <th>49</th>\n",
       "      <td>NZL</td>\n",
       "      <td>New Zealand</td>\n",
       "      <td>3096.661632</td>\n",
       "      <td>25.805514</td>\n",
       "      <td>0.021584</td>\n",
       "      <td>210.462697</td>\n",
       "      <td>60.363314</td>\n",
       "      <td>1.509083</td>\n",
       "      <td>0.001288</td>\n",
       "      <td>4.096797</td>\n",
       "    </tr>\n",
       "    <tr>\n",
       "      <th>70</th>\n",
       "      <td>NPL</td>\n",
       "      <td>Nepal</td>\n",
       "      <td>2264.544549</td>\n",
       "      <td>18.871205</td>\n",
       "      <td>0.025059</td>\n",
       "      <td>128.017735</td>\n",
       "      <td>1091.639518</td>\n",
       "      <td>27.290988</td>\n",
       "      <td>0.006904</td>\n",
       "      <td>67.886708</td>\n",
       "    </tr>\n",
       "    <tr>\n",
       "      <th>73</th>\n",
       "      <td>IND</td>\n",
       "      <td>India</td>\n",
       "      <td>2174.296217</td>\n",
       "      <td>18.119135</td>\n",
       "      <td>0.029023</td>\n",
       "      <td>160.538076</td>\n",
       "      <td>911.263207</td>\n",
       "      <td>22.781580</td>\n",
       "      <td>0.007564</td>\n",
       "      <td>54.504756</td>\n",
       "    </tr>\n",
       "    <tr>\n",
       "      <th>83</th>\n",
       "      <td>BGD</td>\n",
       "      <td>Bangladesh</td>\n",
       "      <td>1956.903050</td>\n",
       "      <td>16.307525</td>\n",
       "      <td>0.024956</td>\n",
       "      <td>176.612255</td>\n",
       "      <td>819.252552</td>\n",
       "      <td>20.481314</td>\n",
       "      <td>0.006587</td>\n",
       "      <td>65.447012</td>\n",
       "    </tr>\n",
       "    <tr>\n",
       "      <th>90</th>\n",
       "      <td>PNG</td>\n",
       "      <td>Papua New Guinea</td>\n",
       "      <td>1829.710992</td>\n",
       "      <td>15.247592</td>\n",
       "      <td>0.062979</td>\n",
       "      <td>128.911282</td>\n",
       "      <td>782.284756</td>\n",
       "      <td>19.557119</td>\n",
       "      <td>0.017181</td>\n",
       "      <td>48.203841</td>\n",
       "    </tr>\n",
       "    <tr>\n",
       "      <th>92</th>\n",
       "      <td>AFG</td>\n",
       "      <td>Afghanistan</td>\n",
       "      <td>1777.385480</td>\n",
       "      <td>14.811546</td>\n",
       "      <td>0.088049</td>\n",
       "      <td>169.686960</td>\n",
       "      <td>656.060669</td>\n",
       "      <td>16.401517</td>\n",
       "      <td>0.024083</td>\n",
       "      <td>64.194990</td>\n",
       "    </tr>\n",
       "    <tr>\n",
       "      <th>93</th>\n",
       "      <td>PAK</td>\n",
       "      <td>Pakistan</td>\n",
       "      <td>1772.970141</td>\n",
       "      <td>14.774751</td>\n",
       "      <td>0.082929</td>\n",
       "      <td>132.982192</td>\n",
       "      <td>680.474472</td>\n",
       "      <td>17.011862</td>\n",
       "      <td>0.021947</td>\n",
       "      <td>48.482955</td>\n",
       "    </tr>\n",
       "    <tr>\n",
       "      <th>113</th>\n",
       "      <td>SAU</td>\n",
       "      <td>Saudi Arabia</td>\n",
       "      <td>1334.358155</td>\n",
       "      <td>11.119651</td>\n",
       "      <td>0.007103</td>\n",
       "      <td>124.888189</td>\n",
       "      <td>447.564440</td>\n",
       "      <td>11.189111</td>\n",
       "      <td>0.001720</td>\n",
       "      <td>43.041053</td>\n",
       "    </tr>\n",
       "    <tr>\n",
       "      <th>132</th>\n",
       "      <td>KWT</td>\n",
       "      <td>Kuwait</td>\n",
       "      <td>976.246189</td>\n",
       "      <td>8.135385</td>\n",
       "      <td>0.023032</td>\n",
       "      <td>86.311084</td>\n",
       "      <td>270.046375</td>\n",
       "      <td>6.751159</td>\n",
       "      <td>0.005419</td>\n",
       "      <td>26.215231</td>\n",
       "    </tr>\n",
       "    <tr>\n",
       "      <th>146</th>\n",
       "      <td>BHR</td>\n",
       "      <td>Bahrain</td>\n",
       "      <td>860.737190</td>\n",
       "      <td>7.172810</td>\n",
       "      <td>0.004655</td>\n",
       "      <td>80.093063</td>\n",
       "      <td>258.887268</td>\n",
       "      <td>6.472182</td>\n",
       "      <td>0.001057</td>\n",
       "      <td>24.606264</td>\n",
       "    </tr>\n",
       "    <tr>\n",
       "      <th>155</th>\n",
       "      <td>QAT</td>\n",
       "      <td>Qatar</td>\n",
       "      <td>448.575507</td>\n",
       "      <td>3.738129</td>\n",
       "      <td>0.009844</td>\n",
       "      <td>39.302364</td>\n",
       "      <td>146.818055</td>\n",
       "      <td>3.670451</td>\n",
       "      <td>0.002451</td>\n",
       "      <td>14.358684</td>\n",
       "    </tr>\n",
       "  </tbody>\n",
       "</table>\n",
       "</div>"
      ],
      "text/plain": [
       "    location_clean          location  val_sum_all  val_mean_all  val_fisr_all  \\\n",
       "21             FIN           Finland  4762.605825     39.688382      0.004967   \n",
       "28             SWE            Sweden  4204.273950     35.035616      0.010954   \n",
       "49             NZL       New Zealand  3096.661632     25.805514      0.021584   \n",
       "70             NPL             Nepal  2264.544549     18.871205      0.025059   \n",
       "73             IND             India  2174.296217     18.119135      0.029023   \n",
       "83             BGD        Bangladesh  1956.903050     16.307525      0.024956   \n",
       "90             PNG  Papua New Guinea  1829.710992     15.247592      0.062979   \n",
       "92             AFG       Afghanistan  1777.385480     14.811546      0.088049   \n",
       "93             PAK          Pakistan  1772.970141     14.774751      0.082929   \n",
       "113            SAU      Saudi Arabia  1334.358155     11.119651      0.007103   \n",
       "132            KWT            Kuwait   976.246189      8.135385      0.023032   \n",
       "146            BHR           Bahrain   860.737190      7.172810      0.004655   \n",
       "155            QAT             Qatar   448.575507      3.738129      0.009844   \n",
       "\n",
       "     val_max_all  val_sum_air  val_mean_air  val_fisr_air  val_max_air  \n",
       "21    386.069577    87.911626      2.197791      0.000289    10.048577  \n",
       "28    324.824395    88.315738      2.207893      0.000812     8.886438  \n",
       "49    210.462697    60.363314      1.509083      0.001288     4.096797  \n",
       "70    128.017735  1091.639518     27.290988      0.006904    67.886708  \n",
       "73    160.538076   911.263207     22.781580      0.007564    54.504756  \n",
       "83    176.612255   819.252552     20.481314      0.006587    65.447012  \n",
       "90    128.911282   782.284756     19.557119      0.017181    48.203841  \n",
       "92    169.686960   656.060669     16.401517      0.024083    64.194990  \n",
       "93    132.982192   680.474472     17.011862      0.021947    48.482955  \n",
       "113   124.888189   447.564440     11.189111      0.001720    43.041053  \n",
       "132    86.311084   270.046375      6.751159      0.005419    26.215231  \n",
       "146    80.093063   258.887268      6.472182      0.001057    24.606264  \n",
       "155    39.302364   146.818055      3.670451      0.002451    14.358684  "
      ]
     },
     "execution_count": 254,
     "metadata": {},
     "output_type": "execute_result"
    }
   ],
   "source": [
    "\n",
    "df = pd.merge(all_risk_all_time, air_death_all_time, on=['location', 'location_clean'], suffixes=(\"_all\", \"_air\"))\n",
    "df = df[(df.location_clean.isin(list(high_poll))) | (df.location_clean.isin(list(low_pool)))]\n",
    "df"
   ]
  },
  {
   "cell_type": "code",
   "execution_count": 255,
   "metadata": {},
   "outputs": [
    {
     "name": "stdout",
     "output_type": "stream",
     "text": [
      "['Finland', 'Sweden', 'New Zealand', '<b>Nepal*<b>', '<b>India*<b>', '<b>Bangladesh*<b>', 'Papua New Guinea', '<b>Afghanistan*<b>', '<b>Pakistan*<b>', '<b>Saudi Arabia*<b>', '<b>Kuwait*<b>', '<b>Bahrain*<b>', '<b>Qatar*<b>']\n"
     ]
    }
   ],
   "source": [
    "locations_list = []\n",
    "for location_clean, locaion in zip(df.location_clean, df.location):\n",
    "    if location_clean in high_poll:\n",
    "        locaion = f\"<b>{locaion}*</b>\"\n",
    "    locations_list.append(locaion)\n",
    "print(locations_list)"
   ]
  },
  {
   "cell_type": "code",
   "execution_count": 256,
   "metadata": {},
   "outputs": [
    {
     "data": {
      "application/vnd.plotly.v1+json": {
       "config": {
        "plotlyServerURL": "https://plot.ly"
       },
       "data": [
        {
         "name": "All Risk",
         "type": "bar",
         "x": [
          "Finland",
          "Sweden",
          "New Zealand",
          "<b>Nepal*<b>",
          "<b>India*<b>",
          "<b>Bangladesh*<b>",
          "Papua New Guinea",
          "<b>Afghanistan*<b>",
          "<b>Pakistan*<b>",
          "<b>Saudi Arabia*<b>",
          "<b>Kuwait*<b>",
          "<b>Bahrain*<b>",
          "<b>Qatar*<b>"
         ],
         "y": [
          39.68838187802518,
          35.03561625282613,
          25.80551359910761,
          18.871204576358902,
          18.119135144490482,
          16.307525417174578,
          15.247591602602414,
          14.811545663788962,
          14.774751179078558,
          11.119651287997815,
          8.135384907541917,
          7.172809918377826,
          3.7381292227015166
         ]
        },
        {
         "name": "Air Pollution",
         "type": "bar",
         "x": [
          "Finland",
          "Sweden",
          "New Zealand",
          "<b>Nepal*<b>",
          "<b>India*<b>",
          "<b>Bangladesh*<b>",
          "Papua New Guinea",
          "<b>Afghanistan*<b>",
          "<b>Pakistan*<b>",
          "<b>Saudi Arabia*<b>",
          "<b>Kuwait*<b>",
          "<b>Bahrain*<b>",
          "<b>Qatar*<b>"
         ],
         "y": [
          2.1977906488058565,
          2.2078934414542712,
          1.5090828391072353,
          27.290987949392086,
          22.781580169755813,
          20.481313790338064,
          19.55711890097771,
          16.40151673216816,
          17.011861794726116,
          11.189110993660316,
          6.751159378013066,
          6.472181702866388,
          3.6704513640514564
         ]
        }
       ],
       "layout": {
        "barmode": "group",
        "legend": {
         "title": {
          "text": "Risk Factor"
         }
        },
        "template": {
         "data": {
          "bar": [
           {
            "error_x": {
             "color": "#2a3f5f"
            },
            "error_y": {
             "color": "#2a3f5f"
            },
            "marker": {
             "line": {
              "color": "#E5ECF6",
              "width": 0.5
             },
             "pattern": {
              "fillmode": "overlay",
              "size": 10,
              "solidity": 0.2
             }
            },
            "type": "bar"
           }
          ],
          "barpolar": [
           {
            "marker": {
             "line": {
              "color": "#E5ECF6",
              "width": 0.5
             },
             "pattern": {
              "fillmode": "overlay",
              "size": 10,
              "solidity": 0.2
             }
            },
            "type": "barpolar"
           }
          ],
          "carpet": [
           {
            "aaxis": {
             "endlinecolor": "#2a3f5f",
             "gridcolor": "white",
             "linecolor": "white",
             "minorgridcolor": "white",
             "startlinecolor": "#2a3f5f"
            },
            "baxis": {
             "endlinecolor": "#2a3f5f",
             "gridcolor": "white",
             "linecolor": "white",
             "minorgridcolor": "white",
             "startlinecolor": "#2a3f5f"
            },
            "type": "carpet"
           }
          ],
          "choropleth": [
           {
            "colorbar": {
             "outlinewidth": 0,
             "ticks": ""
            },
            "type": "choropleth"
           }
          ],
          "contour": [
           {
            "colorbar": {
             "outlinewidth": 0,
             "ticks": ""
            },
            "colorscale": [
             [
              0,
              "#0d0887"
             ],
             [
              0.1111111111111111,
              "#46039f"
             ],
             [
              0.2222222222222222,
              "#7201a8"
             ],
             [
              0.3333333333333333,
              "#9c179e"
             ],
             [
              0.4444444444444444,
              "#bd3786"
             ],
             [
              0.5555555555555556,
              "#d8576b"
             ],
             [
              0.6666666666666666,
              "#ed7953"
             ],
             [
              0.7777777777777778,
              "#fb9f3a"
             ],
             [
              0.8888888888888888,
              "#fdca26"
             ],
             [
              1,
              "#f0f921"
             ]
            ],
            "type": "contour"
           }
          ],
          "contourcarpet": [
           {
            "colorbar": {
             "outlinewidth": 0,
             "ticks": ""
            },
            "type": "contourcarpet"
           }
          ],
          "heatmap": [
           {
            "colorbar": {
             "outlinewidth": 0,
             "ticks": ""
            },
            "colorscale": [
             [
              0,
              "#0d0887"
             ],
             [
              0.1111111111111111,
              "#46039f"
             ],
             [
              0.2222222222222222,
              "#7201a8"
             ],
             [
              0.3333333333333333,
              "#9c179e"
             ],
             [
              0.4444444444444444,
              "#bd3786"
             ],
             [
              0.5555555555555556,
              "#d8576b"
             ],
             [
              0.6666666666666666,
              "#ed7953"
             ],
             [
              0.7777777777777778,
              "#fb9f3a"
             ],
             [
              0.8888888888888888,
              "#fdca26"
             ],
             [
              1,
              "#f0f921"
             ]
            ],
            "type": "heatmap"
           }
          ],
          "heatmapgl": [
           {
            "colorbar": {
             "outlinewidth": 0,
             "ticks": ""
            },
            "colorscale": [
             [
              0,
              "#0d0887"
             ],
             [
              0.1111111111111111,
              "#46039f"
             ],
             [
              0.2222222222222222,
              "#7201a8"
             ],
             [
              0.3333333333333333,
              "#9c179e"
             ],
             [
              0.4444444444444444,
              "#bd3786"
             ],
             [
              0.5555555555555556,
              "#d8576b"
             ],
             [
              0.6666666666666666,
              "#ed7953"
             ],
             [
              0.7777777777777778,
              "#fb9f3a"
             ],
             [
              0.8888888888888888,
              "#fdca26"
             ],
             [
              1,
              "#f0f921"
             ]
            ],
            "type": "heatmapgl"
           }
          ],
          "histogram": [
           {
            "marker": {
             "pattern": {
              "fillmode": "overlay",
              "size": 10,
              "solidity": 0.2
             }
            },
            "type": "histogram"
           }
          ],
          "histogram2d": [
           {
            "colorbar": {
             "outlinewidth": 0,
             "ticks": ""
            },
            "colorscale": [
             [
              0,
              "#0d0887"
             ],
             [
              0.1111111111111111,
              "#46039f"
             ],
             [
              0.2222222222222222,
              "#7201a8"
             ],
             [
              0.3333333333333333,
              "#9c179e"
             ],
             [
              0.4444444444444444,
              "#bd3786"
             ],
             [
              0.5555555555555556,
              "#d8576b"
             ],
             [
              0.6666666666666666,
              "#ed7953"
             ],
             [
              0.7777777777777778,
              "#fb9f3a"
             ],
             [
              0.8888888888888888,
              "#fdca26"
             ],
             [
              1,
              "#f0f921"
             ]
            ],
            "type": "histogram2d"
           }
          ],
          "histogram2dcontour": [
           {
            "colorbar": {
             "outlinewidth": 0,
             "ticks": ""
            },
            "colorscale": [
             [
              0,
              "#0d0887"
             ],
             [
              0.1111111111111111,
              "#46039f"
             ],
             [
              0.2222222222222222,
              "#7201a8"
             ],
             [
              0.3333333333333333,
              "#9c179e"
             ],
             [
              0.4444444444444444,
              "#bd3786"
             ],
             [
              0.5555555555555556,
              "#d8576b"
             ],
             [
              0.6666666666666666,
              "#ed7953"
             ],
             [
              0.7777777777777778,
              "#fb9f3a"
             ],
             [
              0.8888888888888888,
              "#fdca26"
             ],
             [
              1,
              "#f0f921"
             ]
            ],
            "type": "histogram2dcontour"
           }
          ],
          "mesh3d": [
           {
            "colorbar": {
             "outlinewidth": 0,
             "ticks": ""
            },
            "type": "mesh3d"
           }
          ],
          "parcoords": [
           {
            "line": {
             "colorbar": {
              "outlinewidth": 0,
              "ticks": ""
             }
            },
            "type": "parcoords"
           }
          ],
          "pie": [
           {
            "automargin": true,
            "type": "pie"
           }
          ],
          "scatter": [
           {
            "marker": {
             "colorbar": {
              "outlinewidth": 0,
              "ticks": ""
             }
            },
            "type": "scatter"
           }
          ],
          "scatter3d": [
           {
            "line": {
             "colorbar": {
              "outlinewidth": 0,
              "ticks": ""
             }
            },
            "marker": {
             "colorbar": {
              "outlinewidth": 0,
              "ticks": ""
             }
            },
            "type": "scatter3d"
           }
          ],
          "scattercarpet": [
           {
            "marker": {
             "colorbar": {
              "outlinewidth": 0,
              "ticks": ""
             }
            },
            "type": "scattercarpet"
           }
          ],
          "scattergeo": [
           {
            "marker": {
             "colorbar": {
              "outlinewidth": 0,
              "ticks": ""
             }
            },
            "type": "scattergeo"
           }
          ],
          "scattergl": [
           {
            "marker": {
             "colorbar": {
              "outlinewidth": 0,
              "ticks": ""
             }
            },
            "type": "scattergl"
           }
          ],
          "scattermapbox": [
           {
            "marker": {
             "colorbar": {
              "outlinewidth": 0,
              "ticks": ""
             }
            },
            "type": "scattermapbox"
           }
          ],
          "scatterpolar": [
           {
            "marker": {
             "colorbar": {
              "outlinewidth": 0,
              "ticks": ""
             }
            },
            "type": "scatterpolar"
           }
          ],
          "scatterpolargl": [
           {
            "marker": {
             "colorbar": {
              "outlinewidth": 0,
              "ticks": ""
             }
            },
            "type": "scatterpolargl"
           }
          ],
          "scatterternary": [
           {
            "marker": {
             "colorbar": {
              "outlinewidth": 0,
              "ticks": ""
             }
            },
            "type": "scatterternary"
           }
          ],
          "surface": [
           {
            "colorbar": {
             "outlinewidth": 0,
             "ticks": ""
            },
            "colorscale": [
             [
              0,
              "#0d0887"
             ],
             [
              0.1111111111111111,
              "#46039f"
             ],
             [
              0.2222222222222222,
              "#7201a8"
             ],
             [
              0.3333333333333333,
              "#9c179e"
             ],
             [
              0.4444444444444444,
              "#bd3786"
             ],
             [
              0.5555555555555556,
              "#d8576b"
             ],
             [
              0.6666666666666666,
              "#ed7953"
             ],
             [
              0.7777777777777778,
              "#fb9f3a"
             ],
             [
              0.8888888888888888,
              "#fdca26"
             ],
             [
              1,
              "#f0f921"
             ]
            ],
            "type": "surface"
           }
          ],
          "table": [
           {
            "cells": {
             "fill": {
              "color": "#EBF0F8"
             },
             "line": {
              "color": "white"
             }
            },
            "header": {
             "fill": {
              "color": "#C8D4E3"
             },
             "line": {
              "color": "white"
             }
            },
            "type": "table"
           }
          ]
         },
         "layout": {
          "annotationdefaults": {
           "arrowcolor": "#2a3f5f",
           "arrowhead": 0,
           "arrowwidth": 1
          },
          "autotypenumbers": "strict",
          "coloraxis": {
           "colorbar": {
            "outlinewidth": 0,
            "ticks": ""
           }
          },
          "colorscale": {
           "diverging": [
            [
             0,
             "#8e0152"
            ],
            [
             0.1,
             "#c51b7d"
            ],
            [
             0.2,
             "#de77ae"
            ],
            [
             0.3,
             "#f1b6da"
            ],
            [
             0.4,
             "#fde0ef"
            ],
            [
             0.5,
             "#f7f7f7"
            ],
            [
             0.6,
             "#e6f5d0"
            ],
            [
             0.7,
             "#b8e186"
            ],
            [
             0.8,
             "#7fbc41"
            ],
            [
             0.9,
             "#4d9221"
            ],
            [
             1,
             "#276419"
            ]
           ],
           "sequential": [
            [
             0,
             "#0d0887"
            ],
            [
             0.1111111111111111,
             "#46039f"
            ],
            [
             0.2222222222222222,
             "#7201a8"
            ],
            [
             0.3333333333333333,
             "#9c179e"
            ],
            [
             0.4444444444444444,
             "#bd3786"
            ],
            [
             0.5555555555555556,
             "#d8576b"
            ],
            [
             0.6666666666666666,
             "#ed7953"
            ],
            [
             0.7777777777777778,
             "#fb9f3a"
            ],
            [
             0.8888888888888888,
             "#fdca26"
            ],
            [
             1,
             "#f0f921"
            ]
           ],
           "sequentialminus": [
            [
             0,
             "#0d0887"
            ],
            [
             0.1111111111111111,
             "#46039f"
            ],
            [
             0.2222222222222222,
             "#7201a8"
            ],
            [
             0.3333333333333333,
             "#9c179e"
            ],
            [
             0.4444444444444444,
             "#bd3786"
            ],
            [
             0.5555555555555556,
             "#d8576b"
            ],
            [
             0.6666666666666666,
             "#ed7953"
            ],
            [
             0.7777777777777778,
             "#fb9f3a"
            ],
            [
             0.8888888888888888,
             "#fdca26"
            ],
            [
             1,
             "#f0f921"
            ]
           ]
          },
          "colorway": [
           "#636efa",
           "#EF553B",
           "#00cc96",
           "#ab63fa",
           "#FFA15A",
           "#19d3f3",
           "#FF6692",
           "#B6E880",
           "#FF97FF",
           "#FECB52"
          ],
          "font": {
           "color": "#2a3f5f"
          },
          "geo": {
           "bgcolor": "white",
           "lakecolor": "white",
           "landcolor": "#E5ECF6",
           "showlakes": true,
           "showland": true,
           "subunitcolor": "white"
          },
          "hoverlabel": {
           "align": "left"
          },
          "hovermode": "closest",
          "mapbox": {
           "style": "light"
          },
          "paper_bgcolor": "white",
          "plot_bgcolor": "#E5ECF6",
          "polar": {
           "angularaxis": {
            "gridcolor": "white",
            "linecolor": "white",
            "ticks": ""
           },
           "bgcolor": "#E5ECF6",
           "radialaxis": {
            "gridcolor": "white",
            "linecolor": "white",
            "ticks": ""
           }
          },
          "scene": {
           "xaxis": {
            "backgroundcolor": "#E5ECF6",
            "gridcolor": "white",
            "gridwidth": 2,
            "linecolor": "white",
            "showbackground": true,
            "ticks": "",
            "zerolinecolor": "white"
           },
           "yaxis": {
            "backgroundcolor": "#E5ECF6",
            "gridcolor": "white",
            "gridwidth": 2,
            "linecolor": "white",
            "showbackground": true,
            "ticks": "",
            "zerolinecolor": "white"
           },
           "zaxis": {
            "backgroundcolor": "#E5ECF6",
            "gridcolor": "white",
            "gridwidth": 2,
            "linecolor": "white",
            "showbackground": true,
            "ticks": "",
            "zerolinecolor": "white"
           }
          },
          "shapedefaults": {
           "line": {
            "color": "#2a3f5f"
           }
          },
          "ternary": {
           "aaxis": {
            "gridcolor": "white",
            "linecolor": "white",
            "ticks": ""
           },
           "baxis": {
            "gridcolor": "white",
            "linecolor": "white",
            "ticks": ""
           },
           "bgcolor": "#E5ECF6",
           "caxis": {
            "gridcolor": "white",
            "linecolor": "white",
            "ticks": ""
           }
          },
          "title": {
           "x": 0.05
          },
          "xaxis": {
           "automargin": true,
           "gridcolor": "white",
           "linecolor": "white",
           "ticks": "",
           "title": {
            "standoff": 15
           },
           "zerolinecolor": "white",
           "zerolinewidth": 2
          },
          "yaxis": {
           "automargin": true,
           "gridcolor": "white",
           "linecolor": "white",
           "ticks": "",
           "title": {
            "standoff": 15
           },
           "zerolinecolor": "white",
           "zerolinewidth": 2
          }
         }
        },
        "title": {
         "text": "Risk of Dying (Comparing Country with clean and not clean air)"
        },
        "xaxis": {
         "title": {
          "text": "Country (*bold counries have high air pollution)"
         }
        },
        "yaxis": {
         "title": {
          "text": "Value Mean (2010-2015)"
         }
        }
       }
      }
     },
     "metadata": {},
     "output_type": "display_data"
    }
   ],
   "source": [
    "\n",
    "fig = go.Figure(data=[\n",
    "    go.Bar(name='All Risk', x=locations_list, y=df.val_mean_all),\n",
    "    go.Bar(name='Air Pollution', x=locations_list, y=df.val_mean_air)\n",
    "])\n",
    "# Change the bar mode\n",
    "fig.update_layout(barmode='group',\n",
    "    xaxis_title=\"Country (*bold counries have high air pollution)\",\n",
    "    yaxis_title=\"Value Mean (2010-2015)\",\n",
    "    legend_title=\"Risk Factor\",\n",
    "    title=\"Risk of Dying (Comparing Country with clean and not clean air)\")\n",
    "# fig.update_xaxes(categoryorder='total ascending')\n",
    "fig.show()"
   ]
  },
  {
   "cell_type": "code",
   "execution_count": 288,
   "metadata": {},
   "outputs": [
    {
     "data": {
      "application/vnd.jupyter.widget-view+json": {
       "model_id": "eb70c85f105b472e812379b05db80890",
       "version_major": 2,
       "version_minor": 0
      },
      "text/plain": [
       "  0%|          | 0/8 [00:00<?, ?it/s]"
      ]
     },
     "metadata": {},
     "output_type": "display_data"
    },
    {
     "name": "stdout",
     "output_type": "stream",
     "text": [
      "Country Cleaning Report:\n",
      "\t628 values cleaned (100.0%)\n",
      "Result contains 628 (100.0%) values in the correct format and 0 null values (0.0%)\n"
     ]
    },
    {
     "data": {
      "text/html": [
       "<div>\n",
       "<style scoped>\n",
       "    .dataframe tbody tr th:only-of-type {\n",
       "        vertical-align: middle;\n",
       "    }\n",
       "\n",
       "    .dataframe tbody tr th {\n",
       "        vertical-align: top;\n",
       "    }\n",
       "\n",
       "    .dataframe thead th {\n",
       "        text-align: right;\n",
       "    }\n",
       "</style>\n",
       "<table border=\"1\" class=\"dataframe\">\n",
       "  <thead>\n",
       "    <tr style=\"text-align: right;\">\n",
       "      <th></th>\n",
       "      <th>measure</th>\n",
       "      <th>location</th>\n",
       "      <th>sex</th>\n",
       "      <th>age</th>\n",
       "      <th>cause</th>\n",
       "      <th>rei</th>\n",
       "      <th>metric</th>\n",
       "      <th>year</th>\n",
       "      <th>val</th>\n",
       "      <th>upper</th>\n",
       "      <th>lower</th>\n",
       "      <th>location_clean</th>\n",
       "    </tr>\n",
       "  </thead>\n",
       "  <tbody>\n",
       "    <tr>\n",
       "      <th>487943</th>\n",
       "      <td>DALYs</td>\n",
       "      <td>China</td>\n",
       "      <td>Both</td>\n",
       "      <td>All Ages</td>\n",
       "      <td>Cardiovascular diseases</td>\n",
       "      <td>Air pollution</td>\n",
       "      <td>Number</td>\n",
       "      <td>2019</td>\n",
       "      <td>2.612932e+07</td>\n",
       "      <td>3.053316e+07</td>\n",
       "      <td>2.213693e+07</td>\n",
       "      <td>CHN</td>\n",
       "    </tr>\n",
       "    <tr>\n",
       "      <th>488559</th>\n",
       "      <td>DALYs</td>\n",
       "      <td>Myanmar</td>\n",
       "      <td>Both</td>\n",
       "      <td>All Ages</td>\n",
       "      <td>Cardiovascular diseases</td>\n",
       "      <td>Air pollution</td>\n",
       "      <td>Number</td>\n",
       "      <td>2019</td>\n",
       "      <td>1.083594e+06</td>\n",
       "      <td>1.311321e+06</td>\n",
       "      <td>8.794192e+05</td>\n",
       "      <td>MMR</td>\n",
       "    </tr>\n",
       "    <tr>\n",
       "      <th>488589</th>\n",
       "      <td>DALYs</td>\n",
       "      <td>Philippines</td>\n",
       "      <td>Both</td>\n",
       "      <td>All Ages</td>\n",
       "      <td>Tracheal, bronchus, and lung cancer</td>\n",
       "      <td>Air pollution</td>\n",
       "      <td>Number</td>\n",
       "      <td>2019</td>\n",
       "      <td>8.193186e+04</td>\n",
       "      <td>1.131842e+05</td>\n",
       "      <td>5.656120e+04</td>\n",
       "      <td>PHL</td>\n",
       "    </tr>\n",
       "    <tr>\n",
       "      <th>488757</th>\n",
       "      <td>DALYs</td>\n",
       "      <td>Cambodia</td>\n",
       "      <td>Both</td>\n",
       "      <td>All Ages</td>\n",
       "      <td>Chronic respiratory diseases</td>\n",
       "      <td>Air pollution</td>\n",
       "      <td>Number</td>\n",
       "      <td>2019</td>\n",
       "      <td>4.349903e+04</td>\n",
       "      <td>5.822509e+04</td>\n",
       "      <td>2.966706e+04</td>\n",
       "      <td>KHM</td>\n",
       "    </tr>\n",
       "    <tr>\n",
       "      <th>488793</th>\n",
       "      <td>DALYs</td>\n",
       "      <td>Bulgaria</td>\n",
       "      <td>Both</td>\n",
       "      <td>All Ages</td>\n",
       "      <td>Tracheal, bronchus, and lung cancer</td>\n",
       "      <td>Air pollution</td>\n",
       "      <td>Number</td>\n",
       "      <td>2019</td>\n",
       "      <td>1.822458e+04</td>\n",
       "      <td>2.521782e+04</td>\n",
       "      <td>1.237392e+04</td>\n",
       "      <td>BGR</td>\n",
       "    </tr>\n",
       "  </tbody>\n",
       "</table>\n",
       "</div>"
      ],
      "text/plain": [
       "       measure     location   sex       age  \\\n",
       "487943   DALYs        China  Both  All Ages   \n",
       "488559   DALYs      Myanmar  Both  All Ages   \n",
       "488589   DALYs  Philippines  Both  All Ages   \n",
       "488757   DALYs     Cambodia  Both  All Ages   \n",
       "488793   DALYs     Bulgaria  Both  All Ages   \n",
       "\n",
       "                                      cause            rei  metric  year  \\\n",
       "487943              Cardiovascular diseases  Air pollution  Number  2019   \n",
       "488559              Cardiovascular diseases  Air pollution  Number  2019   \n",
       "488589  Tracheal, bronchus, and lung cancer  Air pollution  Number  2019   \n",
       "488757         Chronic respiratory diseases  Air pollution  Number  2019   \n",
       "488793  Tracheal, bronchus, and lung cancer  Air pollution  Number  2019   \n",
       "\n",
       "                 val         upper         lower location_clean  \n",
       "487943  2.612932e+07  3.053316e+07  2.213693e+07            CHN  \n",
       "488559  1.083594e+06  1.311321e+06  8.794192e+05            MMR  \n",
       "488589  8.193186e+04  1.131842e+05  5.656120e+04            PHL  \n",
       "488757  4.349903e+04  5.822509e+04  2.966706e+04            KHM  \n",
       "488793  1.822458e+04  2.521782e+04  1.237392e+04            BGR  "
      ]
     },
     "execution_count": 288,
     "metadata": {},
     "output_type": "execute_result"
    }
   ],
   "source": [
    "\n",
    "death_number = death_risk[\n",
    "    (death_risk.metric == \"Number\")\n",
    "    & (death_risk.sex == \"Both\")\n",
    "    & (death_risk.measure == \"DALYs\")\n",
    "    & (death_risk.location != \"Global\")\n",
    "    & (death_risk.year == 2019)\n",
    "    & (death_risk.cause.isin(causes))\n",
    "    & (death_risk.rei==\"Air pollution\")\n",
    "]\n",
    "\n",
    "death_number = clean_country(death_number, 'location', output_format='alpha-3')\n",
    "\n",
    "death_number.head()"
   ]
  },
  {
   "cell_type": "code",
   "execution_count": 303,
   "metadata": {},
   "outputs": [
    {
     "data": {
      "text/html": [
       "<div>\n",
       "<style scoped>\n",
       "    .dataframe tbody tr th:only-of-type {\n",
       "        vertical-align: middle;\n",
       "    }\n",
       "\n",
       "    .dataframe tbody tr th {\n",
       "        vertical-align: top;\n",
       "    }\n",
       "\n",
       "    .dataframe thead th {\n",
       "        text-align: right;\n",
       "    }\n",
       "</style>\n",
       "<table border=\"1\" class=\"dataframe\">\n",
       "  <thead>\n",
       "    <tr style=\"text-align: right;\">\n",
       "      <th></th>\n",
       "      <th>location_clean</th>\n",
       "      <th>val</th>\n",
       "      <th>location</th>\n",
       "      <th>year</th>\n",
       "    </tr>\n",
       "  </thead>\n",
       "  <tbody>\n",
       "    <tr>\n",
       "      <th>1</th>\n",
       "      <td>IND</td>\n",
       "      <td>3.349118e+07</td>\n",
       "      <td>India</td>\n",
       "      <td>2019</td>\n",
       "    </tr>\n",
       "    <tr>\n",
       "      <th>3</th>\n",
       "      <td>PAK</td>\n",
       "      <td>4.247819e+06</td>\n",
       "      <td>Pakistan</td>\n",
       "      <td>2019</td>\n",
       "    </tr>\n",
       "    <tr>\n",
       "      <th>4</th>\n",
       "      <td>BGD</td>\n",
       "      <td>3.532349e+06</td>\n",
       "      <td>Bangladesh</td>\n",
       "      <td>2019</td>\n",
       "    </tr>\n",
       "    <tr>\n",
       "      <th>19</th>\n",
       "      <td>NPL</td>\n",
       "      <td>8.022530e+05</td>\n",
       "      <td>Nepal</td>\n",
       "      <td>2019</td>\n",
       "    </tr>\n",
       "    <tr>\n",
       "      <th>23</th>\n",
       "      <td>AFG</td>\n",
       "      <td>7.068587e+05</td>\n",
       "      <td>Afghanistan</td>\n",
       "      <td>2019</td>\n",
       "    </tr>\n",
       "  </tbody>\n",
       "</table>\n",
       "</div>"
      ],
      "text/plain": [
       "   location_clean           val     location  year\n",
       "1             IND  3.349118e+07        India  2019\n",
       "3             PAK  4.247819e+06     Pakistan  2019\n",
       "4             BGD  3.532349e+06   Bangladesh  2019\n",
       "19            NPL  8.022530e+05        Nepal  2019\n",
       "23            AFG  7.068587e+05  Afghanistan  2019"
      ]
     },
     "execution_count": 303,
     "metadata": {},
     "output_type": "execute_result"
    }
   ],
   "source": [
    "sum_death_number = death_number.groupby(\"location_clean\").agg(\n",
    "    val=(\"val\", \"sum\"),\n",
    "    location=(\"location\", \"first\"),\n",
    "    year=(\"year\", \"first\"),\n",
    ").sort_values('val', ascending=False).reset_index()\n",
    "sum_death_number = sum_death_number[sum_death_number.location_clean.isin(high_poll)]\n",
    "sum_death_number.head()"
   ]
  },
  {
   "cell_type": "code",
   "execution_count": 308,
   "metadata": {},
   "outputs": [
    {
     "data": {
      "application/vnd.plotly.v1+json": {
       "config": {
        "plotlyServerURL": "https://plot.ly"
       },
       "data": [
        {
         "cells": {
          "align": [
           "left",
           "center"
          ],
          "fill": {
           "color": [
            [
             "white",
             "lightgrey",
             "white",
             "lightgrey",
             "white",
             "lightgrey",
             "white",
             "lightgrey",
             "white",
             "lightgrey",
             "white",
             "lightgrey",
             "white",
             "lightgrey",
             "white",
             "lightgrey",
             "white",
             "lightgrey"
            ]
           ]
          },
          "font": {
           "color": "darkslategray"
          },
          "line": {
           "color": "darkslategray"
          },
          "values": [
           [
            "India",
            "Pakistan",
            "Bangladesh",
            "Nepal",
            "Afghanistan",
            "Saudi Arabia",
            "Kuwait",
            "Qatar",
            "Bahrain"
           ],
           [
            "33,491,180",
            "4,247,819",
            "3,532,349",
            "802,253",
            "706,859",
            "544,527",
            "39,861",
            "15,936",
            "13,735"
           ]
          ]
         },
         "header": {
          "align": [
           "left",
           "center"
          ],
          "fill": {
           "color": "grey"
          },
          "font": {
           "color": "white"
          },
          "line": {
           "color": "darkslategray"
          },
          "values": [
           "<b>Country<b>",
           "Number"
          ]
         },
         "type": "table"
        }
       ],
       "layout": {
        "template": {
         "data": {
          "bar": [
           {
            "error_x": {
             "color": "#2a3f5f"
            },
            "error_y": {
             "color": "#2a3f5f"
            },
            "marker": {
             "line": {
              "color": "#E5ECF6",
              "width": 0.5
             },
             "pattern": {
              "fillmode": "overlay",
              "size": 10,
              "solidity": 0.2
             }
            },
            "type": "bar"
           }
          ],
          "barpolar": [
           {
            "marker": {
             "line": {
              "color": "#E5ECF6",
              "width": 0.5
             },
             "pattern": {
              "fillmode": "overlay",
              "size": 10,
              "solidity": 0.2
             }
            },
            "type": "barpolar"
           }
          ],
          "carpet": [
           {
            "aaxis": {
             "endlinecolor": "#2a3f5f",
             "gridcolor": "white",
             "linecolor": "white",
             "minorgridcolor": "white",
             "startlinecolor": "#2a3f5f"
            },
            "baxis": {
             "endlinecolor": "#2a3f5f",
             "gridcolor": "white",
             "linecolor": "white",
             "minorgridcolor": "white",
             "startlinecolor": "#2a3f5f"
            },
            "type": "carpet"
           }
          ],
          "choropleth": [
           {
            "colorbar": {
             "outlinewidth": 0,
             "ticks": ""
            },
            "type": "choropleth"
           }
          ],
          "contour": [
           {
            "colorbar": {
             "outlinewidth": 0,
             "ticks": ""
            },
            "colorscale": [
             [
              0,
              "#0d0887"
             ],
             [
              0.1111111111111111,
              "#46039f"
             ],
             [
              0.2222222222222222,
              "#7201a8"
             ],
             [
              0.3333333333333333,
              "#9c179e"
             ],
             [
              0.4444444444444444,
              "#bd3786"
             ],
             [
              0.5555555555555556,
              "#d8576b"
             ],
             [
              0.6666666666666666,
              "#ed7953"
             ],
             [
              0.7777777777777778,
              "#fb9f3a"
             ],
             [
              0.8888888888888888,
              "#fdca26"
             ],
             [
              1,
              "#f0f921"
             ]
            ],
            "type": "contour"
           }
          ],
          "contourcarpet": [
           {
            "colorbar": {
             "outlinewidth": 0,
             "ticks": ""
            },
            "type": "contourcarpet"
           }
          ],
          "heatmap": [
           {
            "colorbar": {
             "outlinewidth": 0,
             "ticks": ""
            },
            "colorscale": [
             [
              0,
              "#0d0887"
             ],
             [
              0.1111111111111111,
              "#46039f"
             ],
             [
              0.2222222222222222,
              "#7201a8"
             ],
             [
              0.3333333333333333,
              "#9c179e"
             ],
             [
              0.4444444444444444,
              "#bd3786"
             ],
             [
              0.5555555555555556,
              "#d8576b"
             ],
             [
              0.6666666666666666,
              "#ed7953"
             ],
             [
              0.7777777777777778,
              "#fb9f3a"
             ],
             [
              0.8888888888888888,
              "#fdca26"
             ],
             [
              1,
              "#f0f921"
             ]
            ],
            "type": "heatmap"
           }
          ],
          "heatmapgl": [
           {
            "colorbar": {
             "outlinewidth": 0,
             "ticks": ""
            },
            "colorscale": [
             [
              0,
              "#0d0887"
             ],
             [
              0.1111111111111111,
              "#46039f"
             ],
             [
              0.2222222222222222,
              "#7201a8"
             ],
             [
              0.3333333333333333,
              "#9c179e"
             ],
             [
              0.4444444444444444,
              "#bd3786"
             ],
             [
              0.5555555555555556,
              "#d8576b"
             ],
             [
              0.6666666666666666,
              "#ed7953"
             ],
             [
              0.7777777777777778,
              "#fb9f3a"
             ],
             [
              0.8888888888888888,
              "#fdca26"
             ],
             [
              1,
              "#f0f921"
             ]
            ],
            "type": "heatmapgl"
           }
          ],
          "histogram": [
           {
            "marker": {
             "pattern": {
              "fillmode": "overlay",
              "size": 10,
              "solidity": 0.2
             }
            },
            "type": "histogram"
           }
          ],
          "histogram2d": [
           {
            "colorbar": {
             "outlinewidth": 0,
             "ticks": ""
            },
            "colorscale": [
             [
              0,
              "#0d0887"
             ],
             [
              0.1111111111111111,
              "#46039f"
             ],
             [
              0.2222222222222222,
              "#7201a8"
             ],
             [
              0.3333333333333333,
              "#9c179e"
             ],
             [
              0.4444444444444444,
              "#bd3786"
             ],
             [
              0.5555555555555556,
              "#d8576b"
             ],
             [
              0.6666666666666666,
              "#ed7953"
             ],
             [
              0.7777777777777778,
              "#fb9f3a"
             ],
             [
              0.8888888888888888,
              "#fdca26"
             ],
             [
              1,
              "#f0f921"
             ]
            ],
            "type": "histogram2d"
           }
          ],
          "histogram2dcontour": [
           {
            "colorbar": {
             "outlinewidth": 0,
             "ticks": ""
            },
            "colorscale": [
             [
              0,
              "#0d0887"
             ],
             [
              0.1111111111111111,
              "#46039f"
             ],
             [
              0.2222222222222222,
              "#7201a8"
             ],
             [
              0.3333333333333333,
              "#9c179e"
             ],
             [
              0.4444444444444444,
              "#bd3786"
             ],
             [
              0.5555555555555556,
              "#d8576b"
             ],
             [
              0.6666666666666666,
              "#ed7953"
             ],
             [
              0.7777777777777778,
              "#fb9f3a"
             ],
             [
              0.8888888888888888,
              "#fdca26"
             ],
             [
              1,
              "#f0f921"
             ]
            ],
            "type": "histogram2dcontour"
           }
          ],
          "mesh3d": [
           {
            "colorbar": {
             "outlinewidth": 0,
             "ticks": ""
            },
            "type": "mesh3d"
           }
          ],
          "parcoords": [
           {
            "line": {
             "colorbar": {
              "outlinewidth": 0,
              "ticks": ""
             }
            },
            "type": "parcoords"
           }
          ],
          "pie": [
           {
            "automargin": true,
            "type": "pie"
           }
          ],
          "scatter": [
           {
            "marker": {
             "colorbar": {
              "outlinewidth": 0,
              "ticks": ""
             }
            },
            "type": "scatter"
           }
          ],
          "scatter3d": [
           {
            "line": {
             "colorbar": {
              "outlinewidth": 0,
              "ticks": ""
             }
            },
            "marker": {
             "colorbar": {
              "outlinewidth": 0,
              "ticks": ""
             }
            },
            "type": "scatter3d"
           }
          ],
          "scattercarpet": [
           {
            "marker": {
             "colorbar": {
              "outlinewidth": 0,
              "ticks": ""
             }
            },
            "type": "scattercarpet"
           }
          ],
          "scattergeo": [
           {
            "marker": {
             "colorbar": {
              "outlinewidth": 0,
              "ticks": ""
             }
            },
            "type": "scattergeo"
           }
          ],
          "scattergl": [
           {
            "marker": {
             "colorbar": {
              "outlinewidth": 0,
              "ticks": ""
             }
            },
            "type": "scattergl"
           }
          ],
          "scattermapbox": [
           {
            "marker": {
             "colorbar": {
              "outlinewidth": 0,
              "ticks": ""
             }
            },
            "type": "scattermapbox"
           }
          ],
          "scatterpolar": [
           {
            "marker": {
             "colorbar": {
              "outlinewidth": 0,
              "ticks": ""
             }
            },
            "type": "scatterpolar"
           }
          ],
          "scatterpolargl": [
           {
            "marker": {
             "colorbar": {
              "outlinewidth": 0,
              "ticks": ""
             }
            },
            "type": "scatterpolargl"
           }
          ],
          "scatterternary": [
           {
            "marker": {
             "colorbar": {
              "outlinewidth": 0,
              "ticks": ""
             }
            },
            "type": "scatterternary"
           }
          ],
          "surface": [
           {
            "colorbar": {
             "outlinewidth": 0,
             "ticks": ""
            },
            "colorscale": [
             [
              0,
              "#0d0887"
             ],
             [
              0.1111111111111111,
              "#46039f"
             ],
             [
              0.2222222222222222,
              "#7201a8"
             ],
             [
              0.3333333333333333,
              "#9c179e"
             ],
             [
              0.4444444444444444,
              "#bd3786"
             ],
             [
              0.5555555555555556,
              "#d8576b"
             ],
             [
              0.6666666666666666,
              "#ed7953"
             ],
             [
              0.7777777777777778,
              "#fb9f3a"
             ],
             [
              0.8888888888888888,
              "#fdca26"
             ],
             [
              1,
              "#f0f921"
             ]
            ],
            "type": "surface"
           }
          ],
          "table": [
           {
            "cells": {
             "fill": {
              "color": "#EBF0F8"
             },
             "line": {
              "color": "white"
             }
            },
            "header": {
             "fill": {
              "color": "#C8D4E3"
             },
             "line": {
              "color": "white"
             }
            },
            "type": "table"
           }
          ]
         },
         "layout": {
          "annotationdefaults": {
           "arrowcolor": "#2a3f5f",
           "arrowhead": 0,
           "arrowwidth": 1
          },
          "autotypenumbers": "strict",
          "coloraxis": {
           "colorbar": {
            "outlinewidth": 0,
            "ticks": ""
           }
          },
          "colorscale": {
           "diverging": [
            [
             0,
             "#8e0152"
            ],
            [
             0.1,
             "#c51b7d"
            ],
            [
             0.2,
             "#de77ae"
            ],
            [
             0.3,
             "#f1b6da"
            ],
            [
             0.4,
             "#fde0ef"
            ],
            [
             0.5,
             "#f7f7f7"
            ],
            [
             0.6,
             "#e6f5d0"
            ],
            [
             0.7,
             "#b8e186"
            ],
            [
             0.8,
             "#7fbc41"
            ],
            [
             0.9,
             "#4d9221"
            ],
            [
             1,
             "#276419"
            ]
           ],
           "sequential": [
            [
             0,
             "#0d0887"
            ],
            [
             0.1111111111111111,
             "#46039f"
            ],
            [
             0.2222222222222222,
             "#7201a8"
            ],
            [
             0.3333333333333333,
             "#9c179e"
            ],
            [
             0.4444444444444444,
             "#bd3786"
            ],
            [
             0.5555555555555556,
             "#d8576b"
            ],
            [
             0.6666666666666666,
             "#ed7953"
            ],
            [
             0.7777777777777778,
             "#fb9f3a"
            ],
            [
             0.8888888888888888,
             "#fdca26"
            ],
            [
             1,
             "#f0f921"
            ]
           ],
           "sequentialminus": [
            [
             0,
             "#0d0887"
            ],
            [
             0.1111111111111111,
             "#46039f"
            ],
            [
             0.2222222222222222,
             "#7201a8"
            ],
            [
             0.3333333333333333,
             "#9c179e"
            ],
            [
             0.4444444444444444,
             "#bd3786"
            ],
            [
             0.5555555555555556,
             "#d8576b"
            ],
            [
             0.6666666666666666,
             "#ed7953"
            ],
            [
             0.7777777777777778,
             "#fb9f3a"
            ],
            [
             0.8888888888888888,
             "#fdca26"
            ],
            [
             1,
             "#f0f921"
            ]
           ]
          },
          "colorway": [
           "#636efa",
           "#EF553B",
           "#00cc96",
           "#ab63fa",
           "#FFA15A",
           "#19d3f3",
           "#FF6692",
           "#B6E880",
           "#FF97FF",
           "#FECB52"
          ],
          "font": {
           "color": "#2a3f5f"
          },
          "geo": {
           "bgcolor": "white",
           "lakecolor": "white",
           "landcolor": "#E5ECF6",
           "showlakes": true,
           "showland": true,
           "subunitcolor": "white"
          },
          "hoverlabel": {
           "align": "left"
          },
          "hovermode": "closest",
          "mapbox": {
           "style": "light"
          },
          "paper_bgcolor": "white",
          "plot_bgcolor": "#E5ECF6",
          "polar": {
           "angularaxis": {
            "gridcolor": "white",
            "linecolor": "white",
            "ticks": ""
           },
           "bgcolor": "#E5ECF6",
           "radialaxis": {
            "gridcolor": "white",
            "linecolor": "white",
            "ticks": ""
           }
          },
          "scene": {
           "xaxis": {
            "backgroundcolor": "#E5ECF6",
            "gridcolor": "white",
            "gridwidth": 2,
            "linecolor": "white",
            "showbackground": true,
            "ticks": "",
            "zerolinecolor": "white"
           },
           "yaxis": {
            "backgroundcolor": "#E5ECF6",
            "gridcolor": "white",
            "gridwidth": 2,
            "linecolor": "white",
            "showbackground": true,
            "ticks": "",
            "zerolinecolor": "white"
           },
           "zaxis": {
            "backgroundcolor": "#E5ECF6",
            "gridcolor": "white",
            "gridwidth": 2,
            "linecolor": "white",
            "showbackground": true,
            "ticks": "",
            "zerolinecolor": "white"
           }
          },
          "shapedefaults": {
           "line": {
            "color": "#2a3f5f"
           }
          },
          "ternary": {
           "aaxis": {
            "gridcolor": "white",
            "linecolor": "white",
            "ticks": ""
           },
           "baxis": {
            "gridcolor": "white",
            "linecolor": "white",
            "ticks": ""
           },
           "bgcolor": "#E5ECF6",
           "caxis": {
            "gridcolor": "white",
            "linecolor": "white",
            "ticks": ""
           }
          },
          "title": {
           "x": 0.05
          },
          "xaxis": {
           "automargin": true,
           "gridcolor": "white",
           "linecolor": "white",
           "ticks": "",
           "title": {
            "standoff": 15
           },
           "zerolinecolor": "white",
           "zerolinewidth": 2
          },
          "yaxis": {
           "automargin": true,
           "gridcolor": "white",
           "linecolor": "white",
           "ticks": "",
           "title": {
            "standoff": 15
           },
           "zerolinecolor": "white",
           "zerolinewidth": 2
          }
         }
        },
        "title": {
         "text": "<b>Disability-adjusted life years (DALYs) for each Country</b><br>calculated as the sum of the years of life lost due to premature mortality (YLLs) from that cause and the years of years of healthy life lost due to disability (YLDs) <br>for people living in states of less than good health resulting from the specific cause."
        }
       }
      }
     },
     "metadata": {},
     "output_type": "display_data"
    }
   ],
   "source": [
    "\n",
    "headerColor = 'grey'\n",
    "rowEvenColor = 'lightgrey'\n",
    "rowOddColor = 'white'\n",
    "\n",
    "fig = go.Figure(data=[go.Table(\n",
    "    header=dict(values=list(['<b>Country<b>', \"Number\"]),\n",
    "        line_color='darkslategray',\n",
    "        fill_color=headerColor,\n",
    "        align=['left','center'],\n",
    "        font=dict(color='white')),\n",
    "    cells=dict(values=[sum_death_number.location, sum_death_number.val.apply(lambda x: \"{:,.0f}\".format(x))],\n",
    "        line_color='darkslategray',\n",
    "        # 2-D list of colors for alternating rows\n",
    "        fill_color = [[rowOddColor,rowEvenColor]*sum_death_number.shape[0]],\n",
    "        align = ['left', 'center'],\n",
    "        font = dict(color = 'darkslategray')\n",
    "    ))\n",
    "])\n",
    "\n",
    "fig.update_layout(\n",
    "    title=\"<b>Disability-adjusted life years (DALYs) for each Country</b><br>calculated as the sum of the years of life lost due to premature mortality (YLLs) from that cause and the years of years of healthy life lost due to disability (YLDs) <br>for people living in states of less than good health resulting from the specific cause.\")\n",
    "# fig.update_xaxes(categoryorder='total ascending')\n",
    "fig.show()"
   ]
  },
  {
   "cell_type": "code",
   "execution_count": null,
   "metadata": {},
   "outputs": [],
   "source": []
  }
 ],
 "metadata": {
  "interpreter": {
   "hash": "2d66bb7d4f8a116e2925a95bebe6e04f8fc3c8ed65e8572fe262df87356dbbb5"
  },
  "kernelspec": {
   "display_name": "Python 3.9.7 64-bit ('data': conda)",
   "language": "python",
   "name": "python3"
  },
  "language_info": {
   "codemirror_mode": {
    "name": "ipython",
    "version": 3
   },
   "file_extension": ".py",
   "mimetype": "text/x-python",
   "name": "python",
   "nbconvert_exporter": "python",
   "pygments_lexer": "ipython3",
   "version": "3.9.7"
  },
  "orig_nbformat": 4
 },
 "nbformat": 4,
 "nbformat_minor": 2
}
