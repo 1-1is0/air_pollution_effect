{
 "cells": [
  {
   "cell_type": "code",
   "execution_count": 46,
   "metadata": {},
   "outputs": [],
   "source": [
    "import pandas as pd\n",
    "import numpy as np\n",
    "import matplotlib.pyplot as plt\n",
    "import plotly.graph_objects as go\n",
    "from dataprep.clean import clean_country\n",
    "import dask.dataframe as dd"
   ]
  },
  {
   "cell_type": "code",
   "execution_count": 47,
   "metadata": {},
   "outputs": [],
   "source": [
    "# original site has a tool to query the data you want and it make the dataset more\n",
    "# closer to what we need, so it would require \n"
   ]
  },
  {
   "cell_type": "code",
   "execution_count": 48,
   "metadata": {},
   "outputs": [],
   "source": [
    "# the csv is huge so i use dask\n",
    "csv_file_path = \"/home/amir/big_storage/datasets/IHME-GDB-Risk-Deaths.csv\"\n",
    "dask_df= dd.read_csv(csv_file_path)\n"
   ]
  },
  {
   "cell_type": "code",
   "execution_count": 49,
   "metadata": {},
   "outputs": [
    {
     "data": {
      "application/vnd.jupyter.widget-view+json": {
       "model_id": "dfda26633ef0415f89e389f0cfe189f7",
       "version_major": 2,
       "version_minor": 0
      },
      "text/plain": [
       "  0%|          | 0/172 [00:00<?, ?it/s]"
      ]
     },
     "metadata": {},
     "output_type": "display_data"
    },
    {
     "name": "stdout",
     "output_type": "stream",
     "text": [
      "Country Cleaning Report:\n",
      "\t9196380 values cleaned (100.0%)\n",
      "Result contains 9196380 (100.0%) values in the correct format and 0 null values (0.0%)\n"
     ]
    },
    {
     "data": {
      "text/html": [
       "<div>\n",
       "<style scoped>\n",
       "    .dataframe tbody tr th:only-of-type {\n",
       "        vertical-align: middle;\n",
       "    }\n",
       "\n",
       "    .dataframe tbody tr th {\n",
       "        vertical-align: top;\n",
       "    }\n",
       "\n",
       "    .dataframe thead th {\n",
       "        text-align: right;\n",
       "    }\n",
       "</style>\n",
       "<table border=\"1\" class=\"dataframe\">\n",
       "  <thead>\n",
       "    <tr style=\"text-align: right;\">\n",
       "      <th></th>\n",
       "      <th>measure</th>\n",
       "      <th>location</th>\n",
       "      <th>sex</th>\n",
       "      <th>age</th>\n",
       "      <th>cause</th>\n",
       "      <th>rei</th>\n",
       "      <th>metric</th>\n",
       "      <th>year</th>\n",
       "      <th>val</th>\n",
       "      <th>upper</th>\n",
       "      <th>lower</th>\n",
       "      <th>location_clean</th>\n",
       "    </tr>\n",
       "  </thead>\n",
       "  <tbody>\n",
       "    <tr>\n",
       "      <th>0</th>\n",
       "      <td>Deaths</td>\n",
       "      <td>El Salvador</td>\n",
       "      <td>Female</td>\n",
       "      <td>35 to 39</td>\n",
       "      <td>Cardiovascular diseases</td>\n",
       "      <td>All risk factors</td>\n",
       "      <td>Number</td>\n",
       "      <td>2006</td>\n",
       "      <td>27.305953</td>\n",
       "      <td>32.514418</td>\n",
       "      <td>23.081097</td>\n",
       "      <td>SLV</td>\n",
       "    </tr>\n",
       "    <tr>\n",
       "      <th>1</th>\n",
       "      <td>Deaths</td>\n",
       "      <td>El Salvador</td>\n",
       "      <td>Both</td>\n",
       "      <td>35 to 39</td>\n",
       "      <td>Cardiovascular diseases</td>\n",
       "      <td>All risk factors</td>\n",
       "      <td>Number</td>\n",
       "      <td>2006</td>\n",
       "      <td>73.716938</td>\n",
       "      <td>89.396464</td>\n",
       "      <td>63.625658</td>\n",
       "      <td>SLV</td>\n",
       "    </tr>\n",
       "    <tr>\n",
       "      <th>2</th>\n",
       "      <td>Deaths</td>\n",
       "      <td>El Salvador</td>\n",
       "      <td>Male</td>\n",
       "      <td>35 to 39</td>\n",
       "      <td>Cardiovascular diseases</td>\n",
       "      <td>All risk factors</td>\n",
       "      <td>Rate</td>\n",
       "      <td>2006</td>\n",
       "      <td>28.985719</td>\n",
       "      <td>36.891028</td>\n",
       "      <td>23.719359</td>\n",
       "      <td>SLV</td>\n",
       "    </tr>\n",
       "    <tr>\n",
       "      <th>3</th>\n",
       "      <td>Deaths</td>\n",
       "      <td>El Salvador</td>\n",
       "      <td>Female</td>\n",
       "      <td>35 to 39</td>\n",
       "      <td>Cardiovascular diseases</td>\n",
       "      <td>All risk factors</td>\n",
       "      <td>Rate</td>\n",
       "      <td>2006</td>\n",
       "      <td>13.654947</td>\n",
       "      <td>16.259556</td>\n",
       "      <td>11.542215</td>\n",
       "      <td>SLV</td>\n",
       "    </tr>\n",
       "    <tr>\n",
       "      <th>4</th>\n",
       "      <td>Deaths</td>\n",
       "      <td>El Salvador</td>\n",
       "      <td>Both</td>\n",
       "      <td>35 to 39</td>\n",
       "      <td>Cardiovascular diseases</td>\n",
       "      <td>All risk factors</td>\n",
       "      <td>Rate</td>\n",
       "      <td>2006</td>\n",
       "      <td>20.471931</td>\n",
       "      <td>24.826292</td>\n",
       "      <td>17.669481</td>\n",
       "      <td>SLV</td>\n",
       "    </tr>\n",
       "  </tbody>\n",
       "</table>\n",
       "</div>"
      ],
      "text/plain": [
       "  measure     location     sex       age                    cause  \\\n",
       "0  Deaths  El Salvador  Female  35 to 39  Cardiovascular diseases   \n",
       "1  Deaths  El Salvador    Both  35 to 39  Cardiovascular diseases   \n",
       "2  Deaths  El Salvador    Male  35 to 39  Cardiovascular diseases   \n",
       "3  Deaths  El Salvador  Female  35 to 39  Cardiovascular diseases   \n",
       "4  Deaths  El Salvador    Both  35 to 39  Cardiovascular diseases   \n",
       "\n",
       "                rei  metric  year        val      upper      lower  \\\n",
       "0  All risk factors  Number  2006  27.305953  32.514418  23.081097   \n",
       "1  All risk factors  Number  2006  73.716938  89.396464  63.625658   \n",
       "2  All risk factors    Rate  2006  28.985719  36.891028  23.719359   \n",
       "3  All risk factors    Rate  2006  13.654947  16.259556  11.542215   \n",
       "4  All risk factors    Rate  2006  20.471931  24.826292  17.669481   \n",
       "\n",
       "  location_clean  \n",
       "0            SLV  \n",
       "1            SLV  \n",
       "2            SLV  \n",
       "3            SLV  \n",
       "4            SLV  "
      ]
     },
     "execution_count": 49,
     "metadata": {},
     "output_type": "execute_result"
    }
   ],
   "source": [
    "df_global = dask_df[dask_df.location==\"Global\"]\n",
    "dask_df = dask_df[dask_df.location!=\"Global\"]\n",
    "dask_df = clean_country(dask_df, 'location', output_format='alpha-3')\n",
    "dask_df.head()\n",
    " "
   ]
  },
  {
   "cell_type": "code",
   "execution_count": 50,
   "metadata": {},
   "outputs": [],
   "source": [
    "cause_list = [\n",
    "    \"Depressive disorders\",\n",
    "    \"Cardiovascular diseases\",\n",
    "    \"Chronic respiratory diseases\",\n",
    "    \"Neurological disorders\",\n",
    "    \"Tracheal, bronchus, and lung cancer\",\n",
    "    \"Stomach cancer\",\n",
    "    \"Pancreatic cancer\",\n",
    "    \"Leukemia\",\n",
    "    \"Esophageal cancer\",\n",
    "    \"Larynx cancer\",\n",
    "    \"Colon and rectum cancer\",\n",
    "    \"Liver cancer\",\n",
    "    \"Other non-communicable diseases\",\n",
    "]\n"
   ]
  },
  {
   "cell_type": "code",
   "execution_count": 65,
   "metadata": {},
   "outputs": [
    {
     "data": {
      "text/html": [
       "<div>\n",
       "<style scoped>\n",
       "    .dataframe tbody tr th:only-of-type {\n",
       "        vertical-align: middle;\n",
       "    }\n",
       "\n",
       "    .dataframe tbody tr th {\n",
       "        vertical-align: top;\n",
       "    }\n",
       "\n",
       "    .dataframe thead th {\n",
       "        text-align: right;\n",
       "    }\n",
       "</style>\n",
       "<table border=\"1\" class=\"dataframe\">\n",
       "  <thead>\n",
       "    <tr style=\"text-align: right;\">\n",
       "      <th></th>\n",
       "      <th>measure</th>\n",
       "      <th>location</th>\n",
       "      <th>sex</th>\n",
       "      <th>age</th>\n",
       "      <th>cause</th>\n",
       "      <th>rei</th>\n",
       "      <th>metric</th>\n",
       "      <th>year</th>\n",
       "      <th>val</th>\n",
       "      <th>upper</th>\n",
       "      <th>lower</th>\n",
       "      <th>location_clean</th>\n",
       "    </tr>\n",
       "  </thead>\n",
       "  <tbody>\n",
       "    <tr>\n",
       "      <th>27781</th>\n",
       "      <td>Deaths</td>\n",
       "      <td>Ethiopia</td>\n",
       "      <td>Both</td>\n",
       "      <td>85 plus</td>\n",
       "      <td>Other non-communicable diseases</td>\n",
       "      <td>Air pollution</td>\n",
       "      <td>Rate</td>\n",
       "      <td>2012</td>\n",
       "      <td>0.000000</td>\n",
       "      <td>0.000000</td>\n",
       "      <td>0.000000</td>\n",
       "      <td>ETH</td>\n",
       "    </tr>\n",
       "    <tr>\n",
       "      <th>28657</th>\n",
       "      <td>Deaths</td>\n",
       "      <td>Belgium</td>\n",
       "      <td>Both</td>\n",
       "      <td>25 to 29</td>\n",
       "      <td>Chronic respiratory diseases</td>\n",
       "      <td>Air pollution</td>\n",
       "      <td>Rate</td>\n",
       "      <td>2012</td>\n",
       "      <td>0.022587</td>\n",
       "      <td>0.033853</td>\n",
       "      <td>0.013638</td>\n",
       "      <td>BEL</td>\n",
       "    </tr>\n",
       "    <tr>\n",
       "      <th>28663</th>\n",
       "      <td>Deaths</td>\n",
       "      <td>Belgium</td>\n",
       "      <td>Both</td>\n",
       "      <td>30 to 34</td>\n",
       "      <td>Chronic respiratory diseases</td>\n",
       "      <td>Air pollution</td>\n",
       "      <td>Rate</td>\n",
       "      <td>2012</td>\n",
       "      <td>0.037161</td>\n",
       "      <td>0.056878</td>\n",
       "      <td>0.022765</td>\n",
       "      <td>BEL</td>\n",
       "    </tr>\n",
       "    <tr>\n",
       "      <th>28669</th>\n",
       "      <td>Deaths</td>\n",
       "      <td>Belgium</td>\n",
       "      <td>Both</td>\n",
       "      <td>35 to 39</td>\n",
       "      <td>Chronic respiratory diseases</td>\n",
       "      <td>Air pollution</td>\n",
       "      <td>Rate</td>\n",
       "      <td>2012</td>\n",
       "      <td>0.070377</td>\n",
       "      <td>0.104083</td>\n",
       "      <td>0.045132</td>\n",
       "      <td>BEL</td>\n",
       "    </tr>\n",
       "    <tr>\n",
       "      <th>28675</th>\n",
       "      <td>Deaths</td>\n",
       "      <td>Belgium</td>\n",
       "      <td>Both</td>\n",
       "      <td>40 to 44</td>\n",
       "      <td>Chronic respiratory diseases</td>\n",
       "      <td>Air pollution</td>\n",
       "      <td>Rate</td>\n",
       "      <td>2012</td>\n",
       "      <td>0.189128</td>\n",
       "      <td>0.267197</td>\n",
       "      <td>0.123217</td>\n",
       "      <td>BEL</td>\n",
       "    </tr>\n",
       "  </tbody>\n",
       "</table>\n",
       "</div>"
      ],
      "text/plain": [
       "      measure  location   sex       age                            cause  \\\n",
       "27781  Deaths  Ethiopia  Both   85 plus  Other non-communicable diseases   \n",
       "28657  Deaths   Belgium  Both  25 to 29     Chronic respiratory diseases   \n",
       "28663  Deaths   Belgium  Both  30 to 34     Chronic respiratory diseases   \n",
       "28669  Deaths   Belgium  Both  35 to 39     Chronic respiratory diseases   \n",
       "28675  Deaths   Belgium  Both  40 to 44     Chronic respiratory diseases   \n",
       "\n",
       "                 rei metric  year       val     upper     lower location_clean  \n",
       "27781  Air pollution   Rate  2012  0.000000  0.000000  0.000000            ETH  \n",
       "28657  Air pollution   Rate  2012  0.022587  0.033853  0.013638            BEL  \n",
       "28663  Air pollution   Rate  2012  0.037161  0.056878  0.022765            BEL  \n",
       "28669  Air pollution   Rate  2012  0.070377  0.104083  0.045132            BEL  \n",
       "28675  Air pollution   Rate  2012  0.189128  0.267197  0.123217            BEL  "
      ]
     },
     "execution_count": 65,
     "metadata": {},
     "output_type": "execute_result"
    }
   ],
   "source": [
    "df = dask_df[\n",
    "    dask_df.cause.isin(cause_list)\n",
    "    & (dask_df.metric == \"Rate\")\n",
    "    & (dask_df.sex == \"Both\")\n",
    "    & (dask_df.year >= 2010)\n",
    "    & (dask_df.rei == \"Air pollution\")\n",
    "]\n",
    "df.head()"
   ]
  },
  {
   "cell_type": "code",
   "execution_count": 66,
   "metadata": {},
   "outputs": [
    {
     "data": {
      "text/plain": [
       "array(['85 plus', '25 to 29', '30 to 34', '35 to 39', '40 to 44',\n",
       "       '45 to 49', '50 to 54', '55 to 59', '60 to 64', '65 to 69',\n",
       "       '70 to 74', '75 to 79', '80 to 84'], dtype=object)"
      ]
     },
     "execution_count": 66,
     "metadata": {},
     "output_type": "execute_result"
    }
   ],
   "source": [
    "# let see which country suffer the most from this disease in recent years\n",
    "df.age.unique()"
   ]
  },
  {
   "cell_type": "code",
   "execution_count": 26,
   "metadata": {},
   "outputs": [
    {
     "data": {
      "text/html": [
       "<div>\n",
       "<style scoped>\n",
       "    .dataframe tbody tr th:only-of-type {\n",
       "        vertical-align: middle;\n",
       "    }\n",
       "\n",
       "    .dataframe tbody tr th {\n",
       "        vertical-align: top;\n",
       "    }\n",
       "\n",
       "    .dataframe thead th {\n",
       "        text-align: right;\n",
       "    }\n",
       "</style>\n",
       "<table border=\"1\" class=\"dataframe\">\n",
       "  <thead>\n",
       "    <tr style=\"text-align: right;\">\n",
       "      <th></th>\n",
       "      <th>location</th>\n",
       "      <th>location_clean</th>\n",
       "      <th>val_sum</th>\n",
       "      <th>val_mean</th>\n",
       "      <th>val_fisr</th>\n",
       "      <th>val_max</th>\n",
       "    </tr>\n",
       "  </thead>\n",
       "  <tbody>\n",
       "    <tr>\n",
       "      <th>0</th>\n",
       "      <td>Afghanistan</td>\n",
       "      <td>AFG</td>\n",
       "      <td>10173.691086</td>\n",
       "      <td>260.863874</td>\n",
       "      <td>0.144592</td>\n",
       "      <td>2299.081096</td>\n",
       "    </tr>\n",
       "    <tr>\n",
       "      <th>1</th>\n",
       "      <td>Albania</td>\n",
       "      <td>ALB</td>\n",
       "      <td>3443.809665</td>\n",
       "      <td>88.302812</td>\n",
       "      <td>0.036182</td>\n",
       "      <td>1135.291591</td>\n",
       "    </tr>\n",
       "    <tr>\n",
       "      <th>2</th>\n",
       "      <td>Algeria</td>\n",
       "      <td>DZA</td>\n",
       "      <td>4427.828059</td>\n",
       "      <td>113.534053</td>\n",
       "      <td>0.035860</td>\n",
       "      <td>1892.843703</td>\n",
       "    </tr>\n",
       "    <tr>\n",
       "      <th>3</th>\n",
       "      <td>Argentina</td>\n",
       "      <td>ARG</td>\n",
       "      <td>1049.951235</td>\n",
       "      <td>26.921827</td>\n",
       "      <td>0.043376</td>\n",
       "      <td>241.701123</td>\n",
       "    </tr>\n",
       "    <tr>\n",
       "      <th>4</th>\n",
       "      <td>Armenia</td>\n",
       "      <td>ARM</td>\n",
       "      <td>4516.643019</td>\n",
       "      <td>115.811359</td>\n",
       "      <td>0.064922</td>\n",
       "      <td>1276.720792</td>\n",
       "    </tr>\n",
       "  </tbody>\n",
       "</table>\n",
       "</div>"
      ],
      "text/plain": [
       "      location location_clean       val_sum    val_mean  val_fisr      val_max\n",
       "0  Afghanistan            AFG  10173.691086  260.863874  0.144592  2299.081096\n",
       "1      Albania            ALB   3443.809665   88.302812  0.036182  1135.291591\n",
       "2      Algeria            DZA   4427.828059  113.534053  0.035860  1892.843703\n",
       "3    Argentina            ARG   1049.951235   26.921827  0.043376   241.701123\n",
       "4      Armenia            ARM   4516.643019  115.811359  0.064922  1276.720792"
      ]
     },
     "execution_count": 26,
     "metadata": {},
     "output_type": "execute_result"
    }
   ],
   "source": [
    "total_by_country = df[(df.sex==\"Both\") & (df.year == 2017)].groupby([\"location\", \"location_clean\"]).agg(\n",
    "    val_sum=(\"val\", \"sum\"),\n",
    "    val_mean=(\"val\", \"mean\"),\n",
    "    val_fisr=(\"val\", \"min\"),\n",
    "    val_max=(\"val\", \"max\"),\n",
    "\n",
    ").reset_index()\n",
    "\n",
    "total_by_country.head()\n",
    "# .sort_values(by='age', key=lambda x: x.str.split(' ', expand=True)[0].astype('int'))"
   ]
  },
  {
   "cell_type": "code",
   "execution_count": 67,
   "metadata": {},
   "outputs": [
    {
     "data": {
      "text/html": [
       "<div>\n",
       "<style scoped>\n",
       "    .dataframe tbody tr th:only-of-type {\n",
       "        vertical-align: middle;\n",
       "    }\n",
       "\n",
       "    .dataframe tbody tr th {\n",
       "        vertical-align: top;\n",
       "    }\n",
       "\n",
       "    .dataframe thead th {\n",
       "        text-align: right;\n",
       "    }\n",
       "</style>\n",
       "<table border=\"1\" class=\"dataframe\">\n",
       "  <thead>\n",
       "    <tr style=\"text-align: right;\">\n",
       "      <th></th>\n",
       "      <th>location</th>\n",
       "      <th>location_clean</th>\n",
       "      <th>age</th>\n",
       "      <th>year</th>\n",
       "      <th>val_sum</th>\n",
       "      <th>val_mean</th>\n",
       "      <th>val_first</th>\n",
       "      <th>val_max</th>\n",
       "    </tr>\n",
       "  </thead>\n",
       "  <tbody>\n",
       "    <tr>\n",
       "      <th>0</th>\n",
       "      <td>Afghanistan</td>\n",
       "      <td>AFG</td>\n",
       "      <td>25 to 29</td>\n",
       "      <td>2010</td>\n",
       "      <td>17.236644</td>\n",
       "      <td>5.745548</td>\n",
       "      <td>0.150468</td>\n",
       "      <td>15.351325</td>\n",
       "    </tr>\n",
       "    <tr>\n",
       "      <th>1</th>\n",
       "      <td>Pakistan</td>\n",
       "      <td>PAK</td>\n",
       "      <td>25 to 29</td>\n",
       "      <td>2012</td>\n",
       "      <td>10.977146</td>\n",
       "      <td>3.659049</td>\n",
       "      <td>0.132684</td>\n",
       "      <td>10.323202</td>\n",
       "    </tr>\n",
       "    <tr>\n",
       "      <th>2</th>\n",
       "      <td>Pakistan</td>\n",
       "      <td>PAK</td>\n",
       "      <td>25 to 29</td>\n",
       "      <td>2013</td>\n",
       "      <td>11.183041</td>\n",
       "      <td>3.727680</td>\n",
       "      <td>0.134844</td>\n",
       "      <td>10.523817</td>\n",
       "    </tr>\n",
       "    <tr>\n",
       "      <th>3</th>\n",
       "      <td>Pakistan</td>\n",
       "      <td>PAK</td>\n",
       "      <td>25 to 29</td>\n",
       "      <td>2014</td>\n",
       "      <td>11.309370</td>\n",
       "      <td>3.769790</td>\n",
       "      <td>0.136738</td>\n",
       "      <td>10.651012</td>\n",
       "    </tr>\n",
       "    <tr>\n",
       "      <th>4</th>\n",
       "      <td>Pakistan</td>\n",
       "      <td>PAK</td>\n",
       "      <td>25 to 29</td>\n",
       "      <td>2015</td>\n",
       "      <td>11.317433</td>\n",
       "      <td>3.772478</td>\n",
       "      <td>0.136471</td>\n",
       "      <td>10.670210</td>\n",
       "    </tr>\n",
       "  </tbody>\n",
       "</table>\n",
       "</div>"
      ],
      "text/plain": [
       "      location location_clean       age  year    val_sum  val_mean  val_first  \\\n",
       "0  Afghanistan            AFG  25 to 29  2010  17.236644  5.745548   0.150468   \n",
       "1     Pakistan            PAK  25 to 29  2012  10.977146  3.659049   0.132684   \n",
       "2     Pakistan            PAK  25 to 29  2013  11.183041  3.727680   0.134844   \n",
       "3     Pakistan            PAK  25 to 29  2014  11.309370  3.769790   0.136738   \n",
       "4     Pakistan            PAK  25 to 29  2015  11.317433  3.772478   0.136471   \n",
       "\n",
       "     val_max  \n",
       "0  15.351325  \n",
       "1  10.323202  \n",
       "2  10.523817  \n",
       "3  10.651012  \n",
       "4  10.670210  "
      ]
     },
     "execution_count": 67,
     "metadata": {},
     "output_type": "execute_result"
    }
   ],
   "source": [
    "world = df.groupby(['location',\"location_clean\", 'age', 'year']).agg(\n",
    "    val_sum=(\"val\", \"sum\"),\n",
    "    val_mean=(\"val\", \"mean\"),\n",
    "    val_first=(\"val\", \"min\"),\n",
    "    val_max=(\"val\", \"max\"),\n",
    ").sort_values(by='age', key=lambda x: x.str.split(' ', expand=True)[0].astype('int')).reset_index()\n",
    "world.head()"
   ]
  },
  {
   "cell_type": "code",
   "execution_count": 68,
   "metadata": {},
   "outputs": [
    {
     "data": {
      "text/html": [
       "<div>\n",
       "<style scoped>\n",
       "    .dataframe tbody tr th:only-of-type {\n",
       "        vertical-align: middle;\n",
       "    }\n",
       "\n",
       "    .dataframe tbody tr th {\n",
       "        vertical-align: top;\n",
       "    }\n",
       "\n",
       "    .dataframe thead th {\n",
       "        text-align: right;\n",
       "    }\n",
       "</style>\n",
       "<table border=\"1\" class=\"dataframe\">\n",
       "  <thead>\n",
       "    <tr style=\"text-align: right;\">\n",
       "      <th></th>\n",
       "      <th>location</th>\n",
       "      <th>location_clean</th>\n",
       "      <th>age</th>\n",
       "      <th>val_sum</th>\n",
       "      <th>val_mean</th>\n",
       "      <th>val_first</th>\n",
       "      <th>val_max</th>\n",
       "    </tr>\n",
       "  </thead>\n",
       "  <tbody>\n",
       "    <tr>\n",
       "      <th>0</th>\n",
       "      <td>China</td>\n",
       "      <td>CHN</td>\n",
       "      <td>25 to 29</td>\n",
       "      <td>42.478308</td>\n",
       "      <td>1.415944</td>\n",
       "      <td>0.112679</td>\n",
       "      <td>4.137341</td>\n",
       "    </tr>\n",
       "    <tr>\n",
       "      <th>1</th>\n",
       "      <td>China</td>\n",
       "      <td>CHN</td>\n",
       "      <td>30 to 34</td>\n",
       "      <td>79.238005</td>\n",
       "      <td>2.641267</td>\n",
       "      <td>0.231931</td>\n",
       "      <td>7.699838</td>\n",
       "    </tr>\n",
       "    <tr>\n",
       "      <th>2</th>\n",
       "      <td>China</td>\n",
       "      <td>CHN</td>\n",
       "      <td>35 to 39</td>\n",
       "      <td>135.269191</td>\n",
       "      <td>4.508973</td>\n",
       "      <td>0.418678</td>\n",
       "      <td>12.343705</td>\n",
       "    </tr>\n",
       "    <tr>\n",
       "      <th>3</th>\n",
       "      <td>China</td>\n",
       "      <td>CHN</td>\n",
       "      <td>40 to 44</td>\n",
       "      <td>258.560592</td>\n",
       "      <td>8.618686</td>\n",
       "      <td>0.931691</td>\n",
       "      <td>23.996185</td>\n",
       "    </tr>\n",
       "    <tr>\n",
       "      <th>4</th>\n",
       "      <td>China</td>\n",
       "      <td>CHN</td>\n",
       "      <td>45 to 49</td>\n",
       "      <td>435.028397</td>\n",
       "      <td>14.500947</td>\n",
       "      <td>1.725389</td>\n",
       "      <td>40.329065</td>\n",
       "    </tr>\n",
       "    <tr>\n",
       "      <th>5</th>\n",
       "      <td>China</td>\n",
       "      <td>CHN</td>\n",
       "      <td>50 to 54</td>\n",
       "      <td>695.544807</td>\n",
       "      <td>23.184827</td>\n",
       "      <td>3.950061</td>\n",
       "      <td>58.851724</td>\n",
       "    </tr>\n",
       "    <tr>\n",
       "      <th>6</th>\n",
       "      <td>China</td>\n",
       "      <td>CHN</td>\n",
       "      <td>55 to 59</td>\n",
       "      <td>1168.495702</td>\n",
       "      <td>38.949857</td>\n",
       "      <td>8.369452</td>\n",
       "      <td>93.436351</td>\n",
       "    </tr>\n",
       "    <tr>\n",
       "      <th>7</th>\n",
       "      <td>China</td>\n",
       "      <td>CHN</td>\n",
       "      <td>60 to 64</td>\n",
       "      <td>2091.307910</td>\n",
       "      <td>69.710264</td>\n",
       "      <td>19.819554</td>\n",
       "      <td>168.621468</td>\n",
       "    </tr>\n",
       "    <tr>\n",
       "      <th>8</th>\n",
       "      <td>China</td>\n",
       "      <td>CHN</td>\n",
       "      <td>65 to 69</td>\n",
       "      <td>3532.899597</td>\n",
       "      <td>117.763320</td>\n",
       "      <td>44.151035</td>\n",
       "      <td>267.342121</td>\n",
       "    </tr>\n",
       "    <tr>\n",
       "      <th>9</th>\n",
       "      <td>China</td>\n",
       "      <td>CHN</td>\n",
       "      <td>70 to 74</td>\n",
       "      <td>6518.397990</td>\n",
       "      <td>217.279933</td>\n",
       "      <td>77.042370</td>\n",
       "      <td>464.698299</td>\n",
       "    </tr>\n",
       "    <tr>\n",
       "      <th>10</th>\n",
       "      <td>China</td>\n",
       "      <td>CHN</td>\n",
       "      <td>75 to 79</td>\n",
       "      <td>11030.372652</td>\n",
       "      <td>367.679088</td>\n",
       "      <td>101.652388</td>\n",
       "      <td>752.309990</td>\n",
       "    </tr>\n",
       "    <tr>\n",
       "      <th>11</th>\n",
       "      <td>China</td>\n",
       "      <td>CHN</td>\n",
       "      <td>80 to 84</td>\n",
       "      <td>19320.397032</td>\n",
       "      <td>644.013234</td>\n",
       "      <td>122.780159</td>\n",
       "      <td>1288.763463</td>\n",
       "    </tr>\n",
       "    <tr>\n",
       "      <th>12</th>\n",
       "      <td>China</td>\n",
       "      <td>CHN</td>\n",
       "      <td>85 plus</td>\n",
       "      <td>33568.285140</td>\n",
       "      <td>839.207129</td>\n",
       "      <td>0.000000</td>\n",
       "      <td>2027.946613</td>\n",
       "    </tr>\n",
       "  </tbody>\n",
       "</table>\n",
       "</div>"
      ],
      "text/plain": [
       "   location location_clean       age       val_sum    val_mean   val_first  \\\n",
       "0     China            CHN  25 to 29     42.478308    1.415944    0.112679   \n",
       "1     China            CHN  30 to 34     79.238005    2.641267    0.231931   \n",
       "2     China            CHN  35 to 39    135.269191    4.508973    0.418678   \n",
       "3     China            CHN  40 to 44    258.560592    8.618686    0.931691   \n",
       "4     China            CHN  45 to 49    435.028397   14.500947    1.725389   \n",
       "5     China            CHN  50 to 54    695.544807   23.184827    3.950061   \n",
       "6     China            CHN  55 to 59   1168.495702   38.949857    8.369452   \n",
       "7     China            CHN  60 to 64   2091.307910   69.710264   19.819554   \n",
       "8     China            CHN  65 to 69   3532.899597  117.763320   44.151035   \n",
       "9     China            CHN  70 to 74   6518.397990  217.279933   77.042370   \n",
       "10    China            CHN  75 to 79  11030.372652  367.679088  101.652388   \n",
       "11    China            CHN  80 to 84  19320.397032  644.013234  122.780159   \n",
       "12    China            CHN   85 plus  33568.285140  839.207129    0.000000   \n",
       "\n",
       "        val_max  \n",
       "0      4.137341  \n",
       "1      7.699838  \n",
       "2     12.343705  \n",
       "3     23.996185  \n",
       "4     40.329065  \n",
       "5     58.851724  \n",
       "6     93.436351  \n",
       "7    168.621468  \n",
       "8    267.342121  \n",
       "9    464.698299  \n",
       "10   752.309990  \n",
       "11  1288.763463  \n",
       "12  2027.946613  "
      ]
     },
     "execution_count": 68,
     "metadata": {},
     "output_type": "execute_result"
    }
   ],
   "source": [
    "china = df[(df.location=='China')].groupby([\"location\", \"location_clean\", \"age\"]).agg(\n",
    "    val_sum=(\"val\", \"sum\"),\n",
    "    val_mean=(\"val\", \"mean\"),\n",
    "    val_first=(\"val\", \"min\"),\n",
    "    val_max=(\"val\", \"max\"),\n",
    ").sort_values(by='age', key=lambda x: x.str.split(' ', expand=True)[0].astype('int')).reset_index()\n",
    "china.head(40)"
   ]
  },
  {
   "cell_type": "code",
   "execution_count": 70,
   "metadata": {},
   "outputs": [
    {
     "name": "stdout",
     "output_type": "stream",
     "text": [
      "['25-29', '30-34', '35-39', '40-44', '45-49', '50-54', '55-59', '60-64', '65-69', '70-74', '75-79', '80-84', '85 plus']\n"
     ]
    }
   ],
   "source": [
    "# create lables for chart\n",
    "x_axis_label = [i.replace(' to ', '-') for i in world.age.unique()]\n",
    "print(x_axis_label)"
   ]
  },
  {
   "cell_type": "code",
   "execution_count": 72,
   "metadata": {},
   "outputs": [
    {
     "data": {
      "text/plain": [
       "Text(0.5, 0, 'Age')"
      ]
     },
     "execution_count": 72,
     "metadata": {},
     "output_type": "execute_result"
    },
    {
     "data": {
      "image/png": "[encoded data removed]",
      "text/plain": [
       "<Figure size 1080x1080 with 1 Axes>"
      ]
     },
     "metadata": {
      "needs_background": "light"
     },
     "output_type": "display_data"
    }
   ],
   "source": [
    "# plot for one country\n",
    "fig, ax = plt.subplots(figsize=(15, 15))\n",
    "ax.bar(x=x_axis_label, height=china.val_mean.values)\n",
    "ax.set_title(\"China Death from Air pollution between 2010 to 2019\")\n",
    "ax.set_xlabel(\"Age\")"
   ]
  },
  {
   "cell_type": "code",
   "execution_count": 99,
   "metadata": {},
   "outputs": [],
   "source": [
    "l = {\"Afghanestan\": \"AFG\", \"Qatar\": \"QAT\", \"India\": \"IND\",\"Iran\": \"IRN\", \"USA\": \"USA\", \"Findland\": \"FIN\", \"China\": \"CHN\", }\n"
   ]
  },
  {
   "cell_type": "code",
   "execution_count": 100,
   "metadata": {},
   "outputs": [
    {
     "data": {
      "application/vnd.plotly.v1+json": {
       "config": {
        "plotlyServerURL": "https://plot.ly"
       },
       "data": [
        {
         "name": "Afghanestan",
         "type": "bar",
         "x": [
          "25-29",
          "30-34",
          "35-39",
          "40-44",
          "45-49",
          "50-54",
          "55-59",
          "60-64",
          "65-69",
          "70-74",
          "75-79",
          "80-84",
          "85 plus"
         ],
         "y": [
          4.940900722500649,
          9.361565565117852,
          17.75658757435378,
          35.07707920131485,
          62.09489267590469,
          97.94514807468917,
          145.03162741084674,
          203.507305744292,
          280.3315233553962,
          397.54374936754124,
          549.4955778942655,
          752.7839198782999,
          1053.8840417907763
         ]
        },
        {
         "name": "Qatar",
         "type": "bar",
         "x": [
          "25-29",
          "30-34",
          "35-39",
          "40-44",
          "45-49",
          "50-54",
          "55-59",
          "60-64",
          "65-69",
          "70-74",
          "75-79",
          "80-84",
          "85 plus"
         ],
         "y": [
          0.5760132529846658,
          1.021022221530313,
          2.04037691251261,
          3.849390079721268,
          8.46569310799325,
          14.330102382664336,
          25.125775836783536,
          46.3160988254892,
          90.7401514904099,
          197.57240441672567,
          373.3844690039502,
          664.5983175542243,
          937.465596422466
         ]
        },
        {
         "name": "India",
         "type": "bar",
         "x": [
          "25-29",
          "30-34",
          "35-39",
          "40-44",
          "45-49",
          "50-54",
          "55-59",
          "60-64",
          "65-69",
          "70-74",
          "75-79",
          "80-84",
          "85 plus"
         ],
         "y": [
          2.204595716709939,
          4.279340172918556,
          7.676895201487043,
          13.306061869591618,
          23.95988546107744,
          43.51366593152929,
          72.66708963657693,
          116.1601330166137,
          184.70366812259894,
          282.58362473942367,
          404.9432303468747,
          632.9225246856287,
          613.4207918834612
         ]
        },
        {
         "name": "Iran",
         "type": "bar",
         "x": [
          "25-29",
          "30-34",
          "35-39",
          "40-44",
          "45-49",
          "50-54",
          "55-59",
          "60-64",
          "65-69",
          "70-74",
          "75-79",
          "80-84",
          "85 plus"
         ],
         "y": [
          1.391412495381153,
          2.093475887072599,
          3.13933227968816,
          5.410840757841924,
          9.671605333127996,
          17.039686566098904,
          28.026742225931866,
          43.93567377921001,
          66.9796342962738,
          104.9496510950475,
          186.22799668087728,
          284.45856769163294,
          334.97645281839135
         ]
        },
        {
         "name": "USA",
         "type": "bar",
         "x": [
          "25-29",
          "30-34",
          "35-39",
          "40-44",
          "45-49",
          "50-54",
          "55-59",
          "60-64",
          "65-69",
          "70-74",
          "75-79",
          "80-84",
          "85 plus"
         ],
         "y": [
          0.13112791689283823,
          0.2609133754932518,
          0.48451275303981717,
          0.9612504491645752,
          1.853527735675137,
          3.5219941586879533,
          5.725120171612173,
          8.774749311198999,
          13.413936121641939,
          21.388007533156486,
          31.843724682401056,
          47.13264181675059,
          58.43722926379636
         ]
        },
        {
         "name": "Findland",
         "type": "bar",
         "x": [
          "25-29",
          "30-34",
          "35-39",
          "40-44",
          "45-49",
          "50-54",
          "55-59",
          "60-64",
          "65-69",
          "70-74",
          "75-79",
          "80-84",
          "85 plus"
         ],
         "y": [
          0.03628310196954944,
          0.06071640615289653,
          0.1316889444023913,
          0.25208069598830407,
          0.5063008174366356,
          0.9542841299346804,
          1.7768751329306176,
          3.0404448143106584,
          4.658394372952293,
          7.169640925378218,
          11.777493621747956,
          19.74645292148434,
          35.260285689887006
         ]
        },
        {
         "name": "China",
         "type": "bar",
         "x": [
          "25-29",
          "30-34",
          "35-39",
          "40-44",
          "45-49",
          "50-54",
          "55-59",
          "60-64",
          "65-69",
          "70-74",
          "75-79",
          "80-84",
          "85 plus"
         ],
         "y": [
          1.4159435991968319,
          0.3227740497218935,
          2.6412668444598073,
          0.8046413222440968,
          4.508973027716887,
          1.7746857674604908,
          8.61868639576595,
          3.1628970202312847,
          14.500946574228434,
          5.2234411571524655,
          23.184826894557993,
          7.535650293276503,
          10.646521056946751,
          38.949856726033545,
          69.7102636626614,
          15.542830466247299,
          24.154622574688304,
          117.76331989171922,
          41.45330716599008,
          217.27993301236648,
          68.50249491554595,
          367.6790883956447,
          116.18164617979916,
          644.0132343921839,
          839.2071285116084,
          202.6749484620075
         ]
        }
       ],
       "layout": {
        "barmode": "group",
        "legend": {
         "title": {
          "text": "Risk Factor"
         }
        },
        "template": {
         "data": {
          "bar": [
           {
            "error_x": {
             "color": "#2a3f5f"
            },
            "error_y": {
             "color": "#2a3f5f"
            },
            "marker": {
             "line": {
              "color": "#E5ECF6",
              "width": 0.5
             },
             "pattern": {
              "fillmode": "overlay",
              "size": 10,
              "solidity": 0.2
             }
            },
            "type": "bar"
           }
          ],
          "barpolar": [
           {
            "marker": {
             "line": {
              "color": "#E5ECF6",
              "width": 0.5
             },
             "pattern": {
              "fillmode": "overlay",
              "size": 10,
              "solidity": 0.2
             }
            },
            "type": "barpolar"
           }
          ],
          "carpet": [
           {
            "aaxis": {
             "endlinecolor": "#2a3f5f",
             "gridcolor": "white",
             "linecolor": "white",
             "minorgridcolor": "white",
             "startlinecolor": "#2a3f5f"
            },
            "baxis": {
             "endlinecolor": "#2a3f5f",
             "gridcolor": "white",
             "linecolor": "white",
             "minorgridcolor": "white",
             "startlinecolor": "#2a3f5f"
            },
            "type": "carpet"
           }
          ],
          "choropleth": [
           {
            "colorbar": {
             "outlinewidth": 0,
             "ticks": ""
            },
            "type": "choropleth"
           }
          ],
          "contour": [
           {
            "colorbar": {
             "outlinewidth": 0,
             "ticks": ""
            },
            "colorscale": [
             [
              0,
              "#0d0887"
             ],
             [
              0.1111111111111111,
              "#46039f"
             ],
             [
              0.2222222222222222,
              "#7201a8"
             ],
             [
              0.3333333333333333,
              "#9c179e"
             ],
             [
              0.4444444444444444,
              "#bd3786"
             ],
             [
              0.5555555555555556,
              "#d8576b"
             ],
             [
              0.6666666666666666,
              "#ed7953"
             ],
             [
              0.7777777777777778,
              "#fb9f3a"
             ],
             [
              0.8888888888888888,
              "#fdca26"
             ],
             [
              1,
              "#f0f921"
             ]
            ],
            "type": "contour"
           }
          ],
          "contourcarpet": [
           {
            "colorbar": {
             "outlinewidth": 0,
             "ticks": ""
            },
            "type": "contourcarpet"
           }
          ],
          "heatmap": [
           {
            "colorbar": {
             "outlinewidth": 0,
             "ticks": ""
            },
            "colorscale": [
             [
              0,
              "#0d0887"
             ],
             [
              0.1111111111111111,
              "#46039f"
             ],
             [
              0.2222222222222222,
              "#7201a8"
             ],
             [
              0.3333333333333333,
              "#9c179e"
             ],
             [
              0.4444444444444444,
              "#bd3786"
             ],
             [
              0.5555555555555556,
              "#d8576b"
             ],
             [
              0.6666666666666666,
              "#ed7953"
             ],
             [
              0.7777777777777778,
              "#fb9f3a"
             ],
             [
              0.8888888888888888,
              "#fdca26"
             ],
             [
              1,
              "#f0f921"
             ]
            ],
            "type": "heatmap"
           }
          ],
          "heatmapgl": [
           {
            "colorbar": {
             "outlinewidth": 0,
             "ticks": ""
            },
            "colorscale": [
             [
              0,
              "#0d0887"
             ],
             [
              0.1111111111111111,
              "#46039f"
             ],
             [
              0.2222222222222222,
              "#7201a8"
             ],
             [
              0.3333333333333333,
              "#9c179e"
             ],
             [
              0.4444444444444444,
              "#bd3786"
             ],
             [
              0.5555555555555556,
              "#d8576b"
             ],
             [
              0.6666666666666666,
              "#ed7953"
             ],
             [
              0.7777777777777778,
              "#fb9f3a"
             ],
             [
              0.8888888888888888,
              "#fdca26"
             ],
             [
              1,
              "#f0f921"
             ]
            ],
            "type": "heatmapgl"
           }
          ],
          "histogram": [
           {
            "marker": {
             "pattern": {
              "fillmode": "overlay",
              "size": 10,
              "solidity": 0.2
             }
            },
            "type": "histogram"
           }
          ],
          "histogram2d": [
           {
            "colorbar": {
             "outlinewidth": 0,
             "ticks": ""
            },
            "colorscale": [
             [
              0,
              "#0d0887"
             ],
             [
              0.1111111111111111,
              "#46039f"
             ],
             [
              0.2222222222222222,
              "#7201a8"
             ],
             [
              0.3333333333333333,
              "#9c179e"
             ],
             [
              0.4444444444444444,
              "#bd3786"
             ],
             [
              0.5555555555555556,
              "#d8576b"
             ],
             [
              0.6666666666666666,
              "#ed7953"
             ],
             [
              0.7777777777777778,
              "#fb9f3a"
             ],
             [
              0.8888888888888888,
              "#fdca26"
             ],
             [
              1,
              "#f0f921"
             ]
            ],
            "type": "histogram2d"
           }
          ],
          "histogram2dcontour": [
           {
            "colorbar": {
             "outlinewidth": 0,
             "ticks": ""
            },
            "colorscale": [
             [
              0,
              "#0d0887"
             ],
             [
              0.1111111111111111,
              "#46039f"
             ],
             [
              0.2222222222222222,
              "#7201a8"
             ],
             [
              0.3333333333333333,
              "#9c179e"
             ],
             [
              0.4444444444444444,
              "#bd3786"
             ],
             [
              0.5555555555555556,
              "#d8576b"
             ],
             [
              0.6666666666666666,
              "#ed7953"
             ],
             [
              0.7777777777777778,
              "#fb9f3a"
             ],
             [
              0.8888888888888888,
              "#fdca26"
             ],
             [
              1,
              "#f0f921"
             ]
            ],
            "type": "histogram2dcontour"
           }
          ],
          "mesh3d": [
           {
            "colorbar": {
             "outlinewidth": 0,
             "ticks": ""
            },
            "type": "mesh3d"
           }
          ],
          "parcoords": [
           {
            "line": {
             "colorbar": {
              "outlinewidth": 0,
              "ticks": ""
             }
            },
            "type": "parcoords"
           }
          ],
          "pie": [
           {
            "automargin": true,
            "type": "pie"
           }
          ],
          "scatter": [
           {
            "marker": {
             "colorbar": {
              "outlinewidth": 0,
              "ticks": ""
             }
            },
            "type": "scatter"
           }
          ],
          "scatter3d": [
           {
            "line": {
             "colorbar": {
              "outlinewidth": 0,
              "ticks": ""
             }
            },
            "marker": {
             "colorbar": {
              "outlinewidth": 0,
              "ticks": ""
             }
            },
            "type": "scatter3d"
           }
          ],
          "scattercarpet": [
           {
            "marker": {
             "colorbar": {
              "outlinewidth": 0,
              "ticks": ""
             }
            },
            "type": "scattercarpet"
           }
          ],
          "scattergeo": [
           {
            "marker": {
             "colorbar": {
              "outlinewidth": 0,
              "ticks": ""
             }
            },
            "type": "scattergeo"
           }
          ],
          "scattergl": [
           {
            "marker": {
             "colorbar": {
              "outlinewidth": 0,
              "ticks": ""
             }
            },
            "type": "scattergl"
           }
          ],
          "scattermapbox": [
           {
            "marker": {
             "colorbar": {
              "outlinewidth": 0,
              "ticks": ""
             }
            },
            "type": "scattermapbox"
           }
          ],
          "scatterpolar": [
           {
            "marker": {
             "colorbar": {
              "outlinewidth": 0,
              "ticks": ""
             }
            },
            "type": "scatterpolar"
           }
          ],
          "scatterpolargl": [
           {
            "marker": {
             "colorbar": {
              "outlinewidth": 0,
              "ticks": ""
             }
            },
            "type": "scatterpolargl"
           }
          ],
          "scatterternary": [
           {
            "marker": {
             "colorbar": {
              "outlinewidth": 0,
              "ticks": ""
             }
            },
            "type": "scatterternary"
           }
          ],
          "surface": [
           {
            "colorbar": {
             "outlinewidth": 0,
             "ticks": ""
            },
            "colorscale": [
             [
              0,
              "#0d0887"
             ],
             [
              0.1111111111111111,
              "#46039f"
             ],
             [
              0.2222222222222222,
              "#7201a8"
             ],
             [
              0.3333333333333333,
              "#9c179e"
             ],
             [
              0.4444444444444444,
              "#bd3786"
             ],
             [
              0.5555555555555556,
              "#d8576b"
             ],
             [
              0.6666666666666666,
              "#ed7953"
             ],
             [
              0.7777777777777778,
              "#fb9f3a"
             ],
             [
              0.8888888888888888,
              "#fdca26"
             ],
             [
              1,
              "#f0f921"
             ]
            ],
            "type": "surface"
           }
          ],
          "table": [
           {
            "cells": {
             "fill": {
              "color": "#EBF0F8"
             },
             "line": {
              "color": "white"
             }
            },
            "header": {
             "fill": {
              "color": "#C8D4E3"
             },
             "line": {
              "color": "white"
             }
            },
            "type": "table"
           }
          ]
         },
         "layout": {
          "annotationdefaults": {
           "arrowcolor": "#2a3f5f",
           "arrowhead": 0,
           "arrowwidth": 1
          },
          "autotypenumbers": "strict",
          "coloraxis": {
           "colorbar": {
            "outlinewidth": 0,
            "ticks": ""
           }
          },
          "colorscale": {
           "diverging": [
            [
             0,
             "#8e0152"
            ],
            [
             0.1,
             "#c51b7d"
            ],
            [
             0.2,
             "#de77ae"
            ],
            [
             0.3,
             "#f1b6da"
            ],
            [
             0.4,
             "#fde0ef"
            ],
            [
             0.5,
             "#f7f7f7"
            ],
            [
             0.6,
             "#e6f5d0"
            ],
            [
             0.7,
             "#b8e186"
            ],
            [
             0.8,
             "#7fbc41"
            ],
            [
             0.9,
             "#4d9221"
            ],
            [
             1,
             "#276419"
            ]
           ],
           "sequential": [
            [
             0,
             "#0d0887"
            ],
            [
             0.1111111111111111,
             "#46039f"
            ],
            [
             0.2222222222222222,
             "#7201a8"
            ],
            [
             0.3333333333333333,
             "#9c179e"
            ],
            [
             0.4444444444444444,
             "#bd3786"
            ],
            [
             0.5555555555555556,
             "#d8576b"
            ],
            [
             0.6666666666666666,
             "#ed7953"
            ],
            [
             0.7777777777777778,
             "#fb9f3a"
            ],
            [
             0.8888888888888888,
             "#fdca26"
            ],
            [
             1,
             "#f0f921"
            ]
           ],
           "sequentialminus": [
            [
             0,
             "#0d0887"
            ],
            [
             0.1111111111111111,
             "#46039f"
            ],
            [
             0.2222222222222222,
             "#7201a8"
            ],
            [
             0.3333333333333333,
             "#9c179e"
            ],
            [
             0.4444444444444444,
             "#bd3786"
            ],
            [
             0.5555555555555556,
             "#d8576b"
            ],
            [
             0.6666666666666666,
             "#ed7953"
            ],
            [
             0.7777777777777778,
             "#fb9f3a"
            ],
            [
             0.8888888888888888,
             "#fdca26"
            ],
            [
             1,
             "#f0f921"
            ]
           ]
          },
          "colorway": [
           "#636efa",
           "#EF553B",
           "#00cc96",
           "#ab63fa",
           "#FFA15A",
           "#19d3f3",
           "#FF6692",
           "#B6E880",
           "#FF97FF",
           "#FECB52"
          ],
          "font": {
           "color": "#2a3f5f"
          },
          "geo": {
           "bgcolor": "white",
           "lakecolor": "white",
           "landcolor": "#E5ECF6",
           "showlakes": true,
           "showland": true,
           "subunitcolor": "white"
          },
          "hoverlabel": {
           "align": "left"
          },
          "hovermode": "closest",
          "mapbox": {
           "style": "light"
          },
          "paper_bgcolor": "white",
          "plot_bgcolor": "#E5ECF6",
          "polar": {
           "angularaxis": {
            "gridcolor": "white",
            "linecolor": "white",
            "ticks": ""
           },
           "bgcolor": "#E5ECF6",
           "radialaxis": {
            "gridcolor": "white",
            "linecolor": "white",
            "ticks": ""
           }
          },
          "scene": {
           "xaxis": {
            "backgroundcolor": "#E5ECF6",
            "gridcolor": "white",
            "gridwidth": 2,
            "linecolor": "white",
            "showbackground": true,
            "ticks": "",
            "zerolinecolor": "white"
           },
           "yaxis": {
            "backgroundcolor": "#E5ECF6",
            "gridcolor": "white",
            "gridwidth": 2,
            "linecolor": "white",
            "showbackground": true,
            "ticks": "",
            "zerolinecolor": "white"
           },
           "zaxis": {
            "backgroundcolor": "#E5ECF6",
            "gridcolor": "white",
            "gridwidth": 2,
            "linecolor": "white",
            "showbackground": true,
            "ticks": "",
            "zerolinecolor": "white"
           }
          },
          "shapedefaults": {
           "line": {
            "color": "#2a3f5f"
           }
          },
          "ternary": {
           "aaxis": {
            "gridcolor": "white",
            "linecolor": "white",
            "ticks": ""
           },
           "baxis": {
            "gridcolor": "white",
            "linecolor": "white",
            "ticks": ""
           },
           "bgcolor": "#E5ECF6",
           "caxis": {
            "gridcolor": "white",
            "linecolor": "white",
            "ticks": ""
           }
          },
          "title": {
           "x": 0.05
          },
          "xaxis": {
           "automargin": true,
           "gridcolor": "white",
           "linecolor": "white",
           "ticks": "",
           "title": {
            "standoff": 15
           },
           "zerolinecolor": "white",
           "zerolinewidth": 2
          },
          "yaxis": {
           "automargin": true,
           "gridcolor": "white",
           "linecolor": "white",
           "ticks": "",
           "title": {
            "standoff": 15
           },
           "zerolinecolor": "white",
           "zerolinewidth": 2
          }
         }
        },
        "title": {
         "text": "Countries Date Rate From Air Pollution Compare"
        },
        "xaxis": {
         "title": {
          "text": "Country"
         }
        },
        "yaxis": {
         "title": {
          "text": "Risk Mean (2010-2015)"
         }
        }
       }
      }
     },
     "metadata": {},
     "output_type": "display_data"
    }
   ],
   "source": [
    "fig_data = []\n",
    "for name, code in l.items():\n",
    "\n",
    "    country_states = (\n",
    "        df[(df.location_clean == code)]\n",
    "        .groupby([\"location\", \"location_clean\", \"age\"])\n",
    "        .agg(\n",
    "            val_sum=(\"val\", \"sum\"),\n",
    "            val_mean=(\"val\", \"mean\"),\n",
    "            val_first=(\"val\", \"min\"),\n",
    "            val_max=(\"val\", \"max\"),\n",
    "        )\n",
    "        .sort_values(\n",
    "            by=\"age\", key=lambda x: x.str.split(\" \", expand=True)[0].astype(\"int\")\n",
    "        )\n",
    "        .reset_index()\n",
    "    )\n",
    "    fig_data.append(go.Bar(name=name, x=x_axis_label, y=country_states.val_mean))\n",
    "# Change the bar mode\n",
    "fig = go.Figure(data=fig_data)\n",
    "fig.update_layout(\n",
    "    barmode=\"group\",\n",
    "    xaxis_title=\"Country\",\n",
    "    yaxis_title=\"Risk Mean (2010-2015)\",\n",
    "    legend_title=\"Risk Factor\",\n",
    "    title=\"Countries Date Rate From Air Pollution Compare\",\n",
    ")\n",
    "fig.show()\n"
   ]
  },
  {
   "cell_type": "code",
   "execution_count": 106,
   "metadata": {},
   "outputs": [
    {
     "data": {
      "text/html": [
       "<div>\n",
       "<style scoped>\n",
       "    .dataframe tbody tr th:only-of-type {\n",
       "        vertical-align: middle;\n",
       "    }\n",
       "\n",
       "    .dataframe tbody tr th {\n",
       "        vertical-align: top;\n",
       "    }\n",
       "\n",
       "    .dataframe thead th {\n",
       "        text-align: right;\n",
       "    }\n",
       "</style>\n",
       "<table border=\"1\" class=\"dataframe\">\n",
       "  <thead>\n",
       "    <tr style=\"text-align: right;\">\n",
       "      <th></th>\n",
       "      <th>location</th>\n",
       "      <th>location_clean</th>\n",
       "      <th>age</th>\n",
       "      <th>year</th>\n",
       "      <th>val_sum</th>\n",
       "      <th>val_mean</th>\n",
       "      <th>val_first</th>\n",
       "      <th>val_max</th>\n",
       "    </tr>\n",
       "  </thead>\n",
       "  <tbody>\n",
       "    <tr>\n",
       "      <th>1243</th>\n",
       "      <td>Afghanistan</td>\n",
       "      <td>AFG</td>\n",
       "      <td>25 to 29</td>\n",
       "      <td>2019</td>\n",
       "      <td>13.060393</td>\n",
       "      <td>4.353464</td>\n",
       "      <td>0.143207</td>\n",
       "      <td>11.735029</td>\n",
       "    </tr>\n",
       "    <tr>\n",
       "      <th>3046</th>\n",
       "      <td>Afghanistan</td>\n",
       "      <td>AFG</td>\n",
       "      <td>30 to 34</td>\n",
       "      <td>2019</td>\n",
       "      <td>24.843246</td>\n",
       "      <td>8.281082</td>\n",
       "      <td>0.374192</td>\n",
       "      <td>22.688404</td>\n",
       "    </tr>\n",
       "    <tr>\n",
       "      <th>3589</th>\n",
       "      <td>Afghanistan</td>\n",
       "      <td>AFG</td>\n",
       "      <td>35 to 39</td>\n",
       "      <td>2019</td>\n",
       "      <td>47.487818</td>\n",
       "      <td>15.829273</td>\n",
       "      <td>0.772619</td>\n",
       "      <td>43.854914</td>\n",
       "    </tr>\n",
       "    <tr>\n",
       "      <th>6236</th>\n",
       "      <td>Afghanistan</td>\n",
       "      <td>AFG</td>\n",
       "      <td>40 to 44</td>\n",
       "      <td>2019</td>\n",
       "      <td>93.133067</td>\n",
       "      <td>31.044356</td>\n",
       "      <td>1.579558</td>\n",
       "      <td>86.813732</td>\n",
       "    </tr>\n",
       "    <tr>\n",
       "      <th>6521</th>\n",
       "      <td>Afghanistan</td>\n",
       "      <td>AFG</td>\n",
       "      <td>45 to 49</td>\n",
       "      <td>2019</td>\n",
       "      <td>165.923218</td>\n",
       "      <td>55.307739</td>\n",
       "      <td>3.453980</td>\n",
       "      <td>152.955104</td>\n",
       "    </tr>\n",
       "    <tr>\n",
       "      <th>8429</th>\n",
       "      <td>Afghanistan</td>\n",
       "      <td>AFG</td>\n",
       "      <td>50 to 54</td>\n",
       "      <td>2019</td>\n",
       "      <td>260.967860</td>\n",
       "      <td>86.989287</td>\n",
       "      <td>6.163721</td>\n",
       "      <td>236.482233</td>\n",
       "    </tr>\n",
       "    <tr>\n",
       "      <th>10772</th>\n",
       "      <td>Afghanistan</td>\n",
       "      <td>AFG</td>\n",
       "      <td>55 to 59</td>\n",
       "      <td>2019</td>\n",
       "      <td>388.427975</td>\n",
       "      <td>129.475992</td>\n",
       "      <td>9.203759</td>\n",
       "      <td>345.094993</td>\n",
       "    </tr>\n",
       "    <tr>\n",
       "      <th>11998</th>\n",
       "      <td>Afghanistan</td>\n",
       "      <td>AFG</td>\n",
       "      <td>60 to 64</td>\n",
       "      <td>2019</td>\n",
       "      <td>544.712911</td>\n",
       "      <td>181.570970</td>\n",
       "      <td>14.821043</td>\n",
       "      <td>470.307569</td>\n",
       "    </tr>\n",
       "    <tr>\n",
       "      <th>13901</th>\n",
       "      <td>Afghanistan</td>\n",
       "      <td>AFG</td>\n",
       "      <td>65 to 69</td>\n",
       "      <td>2019</td>\n",
       "      <td>752.809274</td>\n",
       "      <td>250.936425</td>\n",
       "      <td>19.918595</td>\n",
       "      <td>638.219049</td>\n",
       "    </tr>\n",
       "    <tr>\n",
       "      <th>14181</th>\n",
       "      <td>Afghanistan</td>\n",
       "      <td>AFG</td>\n",
       "      <td>70 to 74</td>\n",
       "      <td>2019</td>\n",
       "      <td>1073.847526</td>\n",
       "      <td>357.949175</td>\n",
       "      <td>27.218906</td>\n",
       "      <td>891.925766</td>\n",
       "    </tr>\n",
       "    <tr>\n",
       "      <th>17081</th>\n",
       "      <td>Afghanistan</td>\n",
       "      <td>AFG</td>\n",
       "      <td>75 to 79</td>\n",
       "      <td>2019</td>\n",
       "      <td>1496.746135</td>\n",
       "      <td>498.915378</td>\n",
       "      <td>32.938448</td>\n",
       "      <td>1220.108969</td>\n",
       "    </tr>\n",
       "    <tr>\n",
       "      <th>17946</th>\n",
       "      <td>Afghanistan</td>\n",
       "      <td>AFG</td>\n",
       "      <td>80 to 84</td>\n",
       "      <td>2019</td>\n",
       "      <td>2038.125678</td>\n",
       "      <td>679.375226</td>\n",
       "      <td>34.791598</td>\n",
       "      <td>1637.723303</td>\n",
       "    </tr>\n",
       "    <tr>\n",
       "      <th>19106</th>\n",
       "      <td>Afghanistan</td>\n",
       "      <td>AFG</td>\n",
       "      <td>85 plus</td>\n",
       "      <td>2019</td>\n",
       "      <td>2890.450730</td>\n",
       "      <td>963.483577</td>\n",
       "      <td>38.473848</td>\n",
       "      <td>2232.612911</td>\n",
       "    </tr>\n",
       "  </tbody>\n",
       "</table>\n",
       "</div>"
      ],
      "text/plain": [
       "          location location_clean       age  year      val_sum    val_mean  \\\n",
       "1243   Afghanistan            AFG  25 to 29  2019    13.060393    4.353464   \n",
       "3046   Afghanistan            AFG  30 to 34  2019    24.843246    8.281082   \n",
       "3589   Afghanistan            AFG  35 to 39  2019    47.487818   15.829273   \n",
       "6236   Afghanistan            AFG  40 to 44  2019    93.133067   31.044356   \n",
       "6521   Afghanistan            AFG  45 to 49  2019   165.923218   55.307739   \n",
       "8429   Afghanistan            AFG  50 to 54  2019   260.967860   86.989287   \n",
       "10772  Afghanistan            AFG  55 to 59  2019   388.427975  129.475992   \n",
       "11998  Afghanistan            AFG  60 to 64  2019   544.712911  181.570970   \n",
       "13901  Afghanistan            AFG  65 to 69  2019   752.809274  250.936425   \n",
       "14181  Afghanistan            AFG  70 to 74  2019  1073.847526  357.949175   \n",
       "17081  Afghanistan            AFG  75 to 79  2019  1496.746135  498.915378   \n",
       "17946  Afghanistan            AFG  80 to 84  2019  2038.125678  679.375226   \n",
       "19106  Afghanistan            AFG   85 plus  2019  2890.450730  963.483577   \n",
       "\n",
       "       val_first      val_max  \n",
       "1243    0.143207    11.735029  \n",
       "3046    0.374192    22.688404  \n",
       "3589    0.772619    43.854914  \n",
       "6236    1.579558    86.813732  \n",
       "6521    3.453980   152.955104  \n",
       "8429    6.163721   236.482233  \n",
       "10772   9.203759   345.094993  \n",
       "11998  14.821043   470.307569  \n",
       "13901  19.918595   638.219049  \n",
       "14181  27.218906   891.925766  \n",
       "17081  32.938448  1220.108969  \n",
       "17946  34.791598  1637.723303  \n",
       "19106  38.473848  2232.612911  "
      ]
     },
     "execution_count": 106,
     "metadata": {},
     "output_type": "execute_result"
    }
   ],
   "source": [
    "world[(world.location_clean==\"AFG\") & (world.year==2019)]"
   ]
  },
  {
   "cell_type": "code",
   "execution_count": 138,
   "metadata": {},
   "outputs": [
    {
     "data": {
      "text/plain": [
       "0        False\n",
       "1        False\n",
       "2        False\n",
       "3        False\n",
       "4        False\n",
       "         ...  \n",
       "20405    False\n",
       "20406    False\n",
       "20407    False\n",
       "20408    False\n",
       "20409    False\n",
       "Name: val_max, Length: 20410, dtype: bool"
      ]
     },
     "execution_count": 138,
     "metadata": {},
     "output_type": "execute_result"
    }
   ],
   "source": [
    "world.val_max == world.val_max.max()"
   ]
  },
  {
   "cell_type": "code",
   "execution_count": null,
   "metadata": {},
   "outputs": [],
   "source": [
    "# each country highest death rate of "
   ]
  },
  {
   "cell_type": "code",
   "execution_count": 184,
   "metadata": {},
   "outputs": [
    {
     "data": {
      "text/html": [
       "<div>\n",
       "<style scoped>\n",
       "    .dataframe tbody tr th:only-of-type {\n",
       "        vertical-align: middle;\n",
       "    }\n",
       "\n",
       "    .dataframe tbody tr th {\n",
       "        vertical-align: top;\n",
       "    }\n",
       "\n",
       "    .dataframe thead th {\n",
       "        text-align: right;\n",
       "    }\n",
       "</style>\n",
       "<table border=\"1\" class=\"dataframe\">\n",
       "  <thead>\n",
       "    <tr style=\"text-align: right;\">\n",
       "      <th></th>\n",
       "      <th>location_clean</th>\n",
       "      <th>location</th>\n",
       "      <th>age</th>\n",
       "      <th>year</th>\n",
       "      <th>val_sum</th>\n",
       "      <th>val_mean</th>\n",
       "      <th>val_first</th>\n",
       "      <th>val_max</th>\n",
       "    </tr>\n",
       "  </thead>\n",
       "  <tbody>\n",
       "    <tr>\n",
       "      <th>0</th>\n",
       "      <td>UZB</td>\n",
       "      <td>Uzbekistan</td>\n",
       "      <td>85 plus</td>\n",
       "      <td>2012</td>\n",
       "      <td>4796.843106</td>\n",
       "      <td>1598.947702</td>\n",
       "      <td>24.263834</td>\n",
       "      <td>4594.884698</td>\n",
       "    </tr>\n",
       "    <tr>\n",
       "      <th>1</th>\n",
       "      <td>NPL</td>\n",
       "      <td>Nepal</td>\n",
       "      <td>85 plus</td>\n",
       "      <td>2016</td>\n",
       "      <td>4707.972518</td>\n",
       "      <td>1569.324173</td>\n",
       "      <td>27.158033</td>\n",
       "      <td>3641.060516</td>\n",
       "    </tr>\n",
       "    <tr>\n",
       "      <th>2</th>\n",
       "      <td>MKD</td>\n",
       "      <td>North Macedonia</td>\n",
       "      <td>85 plus</td>\n",
       "      <td>2010</td>\n",
       "      <td>3855.777835</td>\n",
       "      <td>1285.259278</td>\n",
       "      <td>52.858867</td>\n",
       "      <td>3526.343683</td>\n",
       "    </tr>\n",
       "    <tr>\n",
       "      <th>3</th>\n",
       "      <td>MNG</td>\n",
       "      <td>Mongolia</td>\n",
       "      <td>85 plus</td>\n",
       "      <td>2010</td>\n",
       "      <td>3275.377881</td>\n",
       "      <td>1091.792627</td>\n",
       "      <td>102.946896</td>\n",
       "      <td>2902.135967</td>\n",
       "    </tr>\n",
       "    <tr>\n",
       "      <th>4</th>\n",
       "      <td>AZE</td>\n",
       "      <td>Azerbaijan</td>\n",
       "      <td>85 plus</td>\n",
       "      <td>2015</td>\n",
       "      <td>3051.218300</td>\n",
       "      <td>1017.072767</td>\n",
       "      <td>29.437158</td>\n",
       "      <td>2780.788557</td>\n",
       "    </tr>\n",
       "  </tbody>\n",
       "</table>\n",
       "</div>"
      ],
      "text/plain": [
       "  location_clean         location      age  year      val_sum     val_mean  \\\n",
       "0            UZB       Uzbekistan  85 plus  2012  4796.843106  1598.947702   \n",
       "1            NPL            Nepal  85 plus  2016  4707.972518  1569.324173   \n",
       "2            MKD  North Macedonia  85 plus  2010  3855.777835  1285.259278   \n",
       "3            MNG         Mongolia  85 plus  2010  3275.377881  1091.792627   \n",
       "4            AZE       Azerbaijan  85 plus  2015  3051.218300  1017.072767   \n",
       "\n",
       "    val_first      val_max  \n",
       "0   24.263834  4594.884698  \n",
       "1   27.158033  3641.060516  \n",
       "2   52.858867  3526.343683  \n",
       "3  102.946896  2902.135967  \n",
       "4   29.437158  2780.788557  "
      ]
     },
     "execution_count": 184,
     "metadata": {},
     "output_type": "execute_result"
    }
   ],
   "source": [
    "death_high_in_age = world.groupby(\"location_clean\").apply(\n",
    "    lambda x:  x[x.val_max==x.val_max.max()].drop(\"location_clean\", axis=1)\n",
    ").sort_values(by='val_max', ascending=False).reset_index().drop(\"level_1\", axis=1)\n",
    "death_high_in_age.head()"
   ]
  },
  {
   "cell_type": "code",
   "execution_count": 190,
   "metadata": {},
   "outputs": [
    {
     "data": {
      "application/vnd.plotly.v1+json": {
       "config": {
        "plotlyServerURL": "https://plot.ly"
       },
       "data": [
        {
         "cells": {
          "align": [
           "left",
           "center"
          ],
          "fill": {
           "color": [
            [
             "white",
             "lightgrey",
             "white",
             "lightgrey",
             "white",
             "lightgrey",
             "white",
             "lightgrey",
             "white",
             "lightgrey",
             "white",
             "lightgrey",
             "white",
             "lightgrey",
             "white",
             "lightgrey",
             "white",
             "lightgrey",
             "white",
             "lightgrey",
             "white",
             "lightgrey",
             "white",
             "lightgrey",
             "white",
             "lightgrey",
             "white",
             "lightgrey",
             "white",
             "lightgrey",
             "white",
             "lightgrey",
             "white",
             "lightgrey",
             "white",
             "lightgrey",
             "white",
             "lightgrey",
             "white",
             "lightgrey",
             "white",
             "lightgrey",
             "white",
             "lightgrey",
             "white",
             "lightgrey",
             "white",
             "lightgrey",
             "white",
             "lightgrey",
             "white",
             "lightgrey",
             "white",
             "lightgrey",
             "white",
             "lightgrey",
             "white",
             "lightgrey",
             "white",
             "lightgrey",
             "white",
             "lightgrey",
             "white",
             "lightgrey",
             "white",
             "lightgrey",
             "white",
             "lightgrey",
             "white",
             "lightgrey",
             "white",
             "lightgrey",
             "white",
             "lightgrey",
             "white",
             "lightgrey",
             "white",
             "lightgrey",
             "white",
             "lightgrey",
             "white",
             "lightgrey",
             "white",
             "lightgrey",
             "white",
             "lightgrey",
             "white",
             "lightgrey",
             "white",
             "lightgrey",
             "white",
             "lightgrey",
             "white",
             "lightgrey",
             "white",
             "lightgrey",
             "white",
             "lightgrey",
             "white",
             "lightgrey",
             "white",
             "lightgrey",
             "white",
             "lightgrey",
             "white",
             "lightgrey",
             "white",
             "lightgrey",
             "white",
             "lightgrey",
             "white",
             "lightgrey",
             "white",
             "lightgrey",
             "white",
             "lightgrey",
             "white",
             "lightgrey",
             "white",
             "lightgrey",
             "white",
             "lightgrey",
             "white",
             "lightgrey",
             "white",
             "lightgrey",
             "white",
             "lightgrey",
             "white",
             "lightgrey",
             "white",
             "lightgrey",
             "white",
             "lightgrey",
             "white",
             "lightgrey",
             "white",
             "lightgrey",
             "white",
             "lightgrey",
             "white",
             "lightgrey",
             "white",
             "lightgrey",
             "white",
             "lightgrey",
             "white",
             "lightgrey",
             "white",
             "lightgrey",
             "white",
             "lightgrey",
             "white",
             "lightgrey",
             "white",
             "lightgrey",
             "white",
             "lightgrey",
             "white",
             "lightgrey",
             "white",
             "lightgrey",
             "white",
             "lightgrey",
             "white",
             "lightgrey",
             "white",
             "lightgrey",
             "white",
             "lightgrey",
             "white",
             "lightgrey",
             "white",
             "lightgrey",
             "white",
             "lightgrey",
             "white",
             "lightgrey",
             "white",
             "lightgrey",
             "white",
             "lightgrey",
             "white",
             "lightgrey",
             "white",
             "lightgrey",
             "white",
             "lightgrey",
             "white",
             "lightgrey",
             "white",
             "lightgrey",
             "white",
             "lightgrey",
             "white",
             "lightgrey",
             "white",
             "lightgrey",
             "white",
             "lightgrey",
             "white",
             "lightgrey",
             "white",
             "lightgrey",
             "white",
             "lightgrey",
             "white",
             "lightgrey",
             "white",
             "lightgrey",
             "white",
             "lightgrey",
             "white",
             "lightgrey",
             "white",
             "lightgrey",
             "white",
             "lightgrey",
             "white",
             "lightgrey",
             "white",
             "lightgrey",
             "white",
             "lightgrey",
             "white",
             "lightgrey",
             "white",
             "lightgrey",
             "white",
             "lightgrey",
             "white",
             "lightgrey",
             "white",
             "lightgrey",
             "white",
             "lightgrey",
             "white",
             "lightgrey",
             "white",
             "lightgrey",
             "white",
             "lightgrey",
             "white",
             "lightgrey",
             "white",
             "lightgrey",
             "white",
             "lightgrey",
             "white",
             "lightgrey",
             "white",
             "lightgrey",
             "white",
             "lightgrey",
             "white",
             "lightgrey",
             "white",
             "lightgrey",
             "white",
             "lightgrey",
             "white",
             "lightgrey",
             "white",
             "lightgrey",
             "white",
             "lightgrey",
             "white",
             "lightgrey",
             "white",
             "lightgrey",
             "white",
             "lightgrey",
             "white",
             "lightgrey",
             "white",
             "lightgrey",
             "white",
             "lightgrey",
             "white",
             "lightgrey",
             "white",
             "lightgrey",
             "white",
             "lightgrey",
             "white",
             "lightgrey",
             "white",
             "lightgrey",
             "white",
             "lightgrey",
             "white",
             "lightgrey",
             "white",
             "lightgrey",
             "white",
             "lightgrey",
             "white",
             "lightgrey",
             "white",
             "lightgrey",
             "white",
             "lightgrey",
             "white",
             "lightgrey",
             "white",
             "lightgrey",
             "white",
             "lightgrey",
             "white",
             "lightgrey",
             "white",
             "lightgrey"
            ]
           ]
          },
          "font": {
           "color": "darkslategray"
          },
          "line": {
           "color": "darkslategray"
          },
          "values": [
           [
            "Uzbekistan",
            "Nepal",
            "North Macedonia",
            "Mongolia",
            "Azerbaijan",
            "Tajikistan",
            "Qatar",
            "Afghanistan",
            "Serbia",
            "Democratic People's Republic of Korea",
            "Oman",
            "Syrian Arab Republic",
            "Papua New Guinea",
            "Bangladesh",
            "Egypt",
            "China",
            "Sudan",
            "Kyrgyzstan",
            "Algeria",
            "Bahrain",
            "Niger",
            "Somalia",
            "Mali",
            "Haiti",
            "Guinea-Bissau",
            "Sierra Leone",
            "India",
            "Yemen",
            "Iraq",
            "Chad",
            "Bosnia and Herzegovina",
            "Lao People's Democratic Republic",
            "Bulgaria",
            "Gambia",
            "Myanmar",
            "Madagascar",
            "United Arab Emirates",
            "Timor-Leste",
            "Guinea",
            "Burkina Faso",
            "Saudi Arabia",
            "Liberia",
            "Ghana",
            "Cambodia",
            "Burundi",
            "Togo",
            "Pakistan",
            "Kazakhstan",
            "Armenia",
            "Benin",
            "Lesotho",
            "Côte d'Ivoire",
            "Central African Republic",
            "Morocco",
            "Honduras",
            "Senegal",
            "Albania",
            "Zimbabwe",
            "Democratic Republic of the Congo",
            "Viet Nam",
            "Mozambique",
            "Cameroon",
            "Ukraine",
            "Eswatini",
            "Indonesia",
            "Sri Lanka",
            "Congo",
            "Palestine",
            "Nigeria",
            "Belarus",
            "Nicaragua",
            "Tunisia",
            "Rwanda",
            "Georgia",
            "Ethiopia",
            "Malawi",
            "Uganda",
            "Zambia",
            "Iran (Islamic Republic of)",
            "United Republic of Tanzania",
            "Eritrea",
            "Namibia",
            "Romania",
            "Mauritania",
            "Turkmenistan",
            "Botswana",
            "Lebanon",
            "Guatemala",
            "Philippines",
            "South Sudan",
            "Republic of Moldova",
            "Kenya",
            "Slovakia",
            "Libya",
            "Croatia",
            "Poland",
            "Latvia",
            "Hungary",
            "Jordan",
            "Russian Federation",
            "Kuwait",
            "Equatorial Guinea",
            "Lithuania",
            "South Africa",
            "Czechia",
            "Gabon",
            "Turkey",
            "Dominican Republic",
            "Bolivia (Plurinational State of)",
            "Cyprus",
            "Thailand",
            "Greece",
            "El Salvador",
            "Paraguay",
            "Malaysia",
            "Mexico",
            "Ecuador",
            "Peru",
            "Trinidad and Tobago",
            "Colombia",
            "Cuba",
            "Slovenia",
            "Republic of Korea",
            "Venezuela (Bolivarian Republic of)",
            "Italy",
            "Israel",
            "Chile",
            "Austria",
            "Estonia",
            "Germany",
            "Mauritius",
            "Panama",
            "Jamaica",
            "Brazil",
            "Belgium",
            "Costa Rica",
            "Argentina",
            "Denmark",
            "Netherlands",
            "Switzerland",
            "United Kingdom",
            "France",
            "Singapore",
            "Portugal",
            "Spain",
            "Ireland",
            "Uruguay",
            "United States of America",
            "Finland",
            "Japan",
            "Sweden",
            "Norway",
            "Canada",
            "Australia",
            "New Zealand",
            "Puerto Rico"
           ],
           [
            "85 plus",
            "85 plus",
            "85 plus",
            "85 plus",
            "85 plus",
            "85 plus",
            "85 plus",
            "85 plus",
            "85 plus",
            "85 plus",
            "85 plus",
            "85 plus",
            "85 plus",
            "85 plus",
            "85 plus",
            "85 plus",
            "85 plus",
            "85 plus",
            "85 plus",
            "85 plus",
            "85 plus",
            "85 plus",
            "85 plus",
            "85 plus",
            "85 plus",
            "85 plus",
            "85 plus",
            "85 plus",
            "85 plus",
            "85 plus",
            "85 plus",
            "85 plus",
            "85 plus",
            "85 plus",
            "85 plus",
            "85 plus",
            "85 plus",
            "85 plus",
            "85 plus",
            "85 plus",
            "85 plus",
            "85 plus",
            "85 plus",
            "85 plus",
            "85 plus",
            "85 plus",
            "85 plus",
            "85 plus",
            "85 plus",
            "85 plus",
            "85 plus",
            "85 plus",
            "85 plus",
            "85 plus",
            "85 plus",
            "85 plus",
            "85 plus",
            "85 plus",
            "85 plus",
            "85 plus",
            "85 plus",
            "85 plus",
            "85 plus",
            "85 plus",
            "85 plus",
            "85 plus",
            "85 plus",
            "85 plus",
            "85 plus",
            "85 plus",
            "85 plus",
            "85 plus",
            "85 plus",
            "85 plus",
            "85 plus",
            "85 plus",
            "85 plus",
            "85 plus",
            "85 plus",
            "85 plus",
            "85 plus",
            "85 plus",
            "85 plus",
            "85 plus",
            "85 plus",
            "85 plus",
            "85 plus",
            "85 plus",
            "85 plus",
            "85 plus",
            "85 plus",
            "85 plus",
            "85 plus",
            "85 plus",
            "85 plus",
            "85 plus",
            "85 plus",
            "85 plus",
            "85 plus",
            "85 plus",
            "85 plus",
            "85 plus",
            "85 plus",
            "85 plus",
            "85 plus",
            "85 plus",
            "85 plus",
            "85 plus",
            "85 plus",
            "85 plus",
            "85 plus",
            "85 plus",
            "85 plus",
            "85 plus",
            "85 plus",
            "85 plus",
            "85 plus",
            "85 plus",
            "85 plus",
            "85 plus",
            "85 plus",
            "85 plus",
            "85 plus",
            "85 plus",
            "85 plus",
            "85 plus",
            "85 plus",
            "85 plus",
            "85 plus",
            "85 plus",
            "85 plus",
            "85 plus",
            "85 plus",
            "85 plus",
            "85 plus",
            "85 plus",
            "85 plus",
            "85 plus",
            "85 plus",
            "85 plus",
            "85 plus",
            "85 plus",
            "85 plus",
            "85 plus",
            "85 plus",
            "85 plus",
            "85 plus",
            "85 plus",
            "85 plus",
            "85 plus",
            "85 plus",
            "85 plus",
            "85 plus",
            "85 plus",
            "85 plus",
            "85 plus"
           ],
           [
            4594.8846983944695,
            3641.0605162164175,
            3526.343682828295,
            2902.135966904417,
            2780.7885565421484,
            2744.9379253755765,
            2688.35526838957,
            2680.651179590463,
            2284.165448114538,
            2271.1523750778265,
            2233.329628393475,
            2142.144516874101,
            2138.161169870168,
            2123.136720285373,
            2029.882070185187,
            2027.9466133139863,
            1988.1385048172388,
            1987.640036972506,
            1982.749677209685,
            1951.2402878006933,
            1946.6004296568624,
            1905.685703317724,
            1905.6293662085327,
            1901.0422835452653,
            1815.0638441011388,
            1805.188587417298,
            1804.6776517885075,
            1796.4278502212803,
            1766.024157184546,
            1752.3870114675617,
            1751.9609708065886,
            1749.699206326015,
            1746.0404506433415,
            1687.512583432543,
            1678.0011721692488,
            1629.879329385713,
            1629.0632042233285,
            1609.0253780975088,
            1608.4404934156364,
            1599.2025662652038,
            1578.5656172109798,
            1574.7122654302736,
            1562.5027735762828,
            1512.554960965875,
            1493.739616490833,
            1491.8888754333254,
            1488.4461132668791,
            1487.8624817936152,
            1484.523874573753,
            1478.8656771079875,
            1472.6163269698743,
            1461.225416724206,
            1457.034618331347,
            1442.151068299314,
            1411.81504759015,
            1393.4875076329124,
            1387.22159137602,
            1383.5737217732851,
            1379.0547468478455,
            1364.4091706612394,
            1364.090895902149,
            1359.3753197816773,
            1355.5965372790265,
            1327.9435988657692,
            1280.4772832443118,
            1246.2691255911536,
            1244.383509560861,
            1237.890835106315,
            1231.077452943833,
            1220.4396872180578,
            1217.8729093638376,
            1211.6025069273535,
            1181.9853767564805,
            1181.817033651265,
            1174.236857602236,
            1173.8741848564828,
            1171.683610517745,
            1162.861297465776,
            1157.7672093759627,
            1157.4169184731152,
            1154.105501276431,
            1153.584490135033,
            1151.5089330817816,
            1142.1377180032352,
            1141.5160604618072,
            1127.7344183911837,
            1098.2696399430986,
            1090.226836036775,
            1086.683556775577,
            1061.2113121617588,
            1060.4930855986026,
            1012.452793595766,
            1006.8106321974838,
            1003.507707291582,
            1003.171804129337,
            990.2357850018864,
            970.3075436612364,
            968.1528111973385,
            940.5862831161636,
            887.6358413526302,
            873.8108342074306,
            846.970598990195,
            837.2270536071945,
            826.2515450300996,
            813.7905603564329,
            799.4947263706441,
            784.4259996366848,
            712.3268337749154,
            699.3583244166,
            642.0543148579419,
            575.7587108364734,
            559.4618811583831,
            548.7767870397622,
            543.0245567270149,
            529.5618780736353,
            504.7512227527672,
            454.1013317494997,
            443.3989178414954,
            439.3706259343813,
            432.8864141083655,
            417.3138040889042,
            411.8905451767624,
            399.0450555181239,
            396.7303970837776,
            387.0603134722928,
            366.6029251971189,
            363.8580099336315,
            359.5211212430406,
            344.1724115582063,
            334.1637745712554,
            332.6797408561848,
            329.7728162220775,
            329.7481596607738,
            295.9963994665623,
            290.07262853823795,
            264.49052522673145,
            250.2154519709348,
            249.6892602304984,
            237.8386615128105,
            233.0258372262249,
            207.91444102674944,
            201.15650650470388,
            197.21177642031608,
            189.193704917105,
            181.75173081956456,
            177.0333862992165,
            174.06556328098503,
            147.0766168082969,
            138.98063865601043,
            130.97177913775988,
            119.2564599864194,
            111.92462347627884,
            92.8232808107378,
            79.16710853816177,
            76.2521581975094,
            47.47457234375051
           ]
          ]
         },
         "header": {
          "align": [
           "left",
           "center"
          ],
          "fill": {
           "color": "grey"
          },
          "font": {
           "color": "white"
          },
          "line": {
           "color": "darkslategray"
          },
          "values": [
           "<b>Country<b>",
           "age",
           "max death"
          ]
         },
         "type": "table"
        }
       ],
       "layout": {
        "template": {
         "data": {
          "bar": [
           {
            "error_x": {
             "color": "#2a3f5f"
            },
            "error_y": {
             "color": "#2a3f5f"
            },
            "marker": {
             "line": {
              "color": "#E5ECF6",
              "width": 0.5
             },
             "pattern": {
              "fillmode": "overlay",
              "size": 10,
              "solidity": 0.2
             }
            },
            "type": "bar"
           }
          ],
          "barpolar": [
           {
            "marker": {
             "line": {
              "color": "#E5ECF6",
              "width": 0.5
             },
             "pattern": {
              "fillmode": "overlay",
              "size": 10,
              "solidity": 0.2
             }
            },
            "type": "barpolar"
           }
          ],
          "carpet": [
           {
            "aaxis": {
             "endlinecolor": "#2a3f5f",
             "gridcolor": "white",
             "linecolor": "white",
             "minorgridcolor": "white",
             "startlinecolor": "#2a3f5f"
            },
            "baxis": {
             "endlinecolor": "#2a3f5f",
             "gridcolor": "white",
             "linecolor": "white",
             "minorgridcolor": "white",
             "startlinecolor": "#2a3f5f"
            },
            "type": "carpet"
           }
          ],
          "choropleth": [
           {
            "colorbar": {
             "outlinewidth": 0,
             "ticks": ""
            },
            "type": "choropleth"
           }
          ],
          "contour": [
           {
            "colorbar": {
             "outlinewidth": 0,
             "ticks": ""
            },
            "colorscale": [
             [
              0,
              "#0d0887"
             ],
             [
              0.1111111111111111,
              "#46039f"
             ],
             [
              0.2222222222222222,
              "#7201a8"
             ],
             [
              0.3333333333333333,
              "#9c179e"
             ],
             [
              0.4444444444444444,
              "#bd3786"
             ],
             [
              0.5555555555555556,
              "#d8576b"
             ],
             [
              0.6666666666666666,
              "#ed7953"
             ],
             [
              0.7777777777777778,
              "#fb9f3a"
             ],
             [
              0.8888888888888888,
              "#fdca26"
             ],
             [
              1,
              "#f0f921"
             ]
            ],
            "type": "contour"
           }
          ],
          "contourcarpet": [
           {
            "colorbar": {
             "outlinewidth": 0,
             "ticks": ""
            },
            "type": "contourcarpet"
           }
          ],
          "heatmap": [
           {
            "colorbar": {
             "outlinewidth": 0,
             "ticks": ""
            },
            "colorscale": [
             [
              0,
              "#0d0887"
             ],
             [
              0.1111111111111111,
              "#46039f"
             ],
             [
              0.2222222222222222,
              "#7201a8"
             ],
             [
              0.3333333333333333,
              "#9c179e"
             ],
             [
              0.4444444444444444,
              "#bd3786"
             ],
             [
              0.5555555555555556,
              "#d8576b"
             ],
             [
              0.6666666666666666,
              "#ed7953"
             ],
             [
              0.7777777777777778,
              "#fb9f3a"
             ],
             [
              0.8888888888888888,
              "#fdca26"
             ],
             [
              1,
              "#f0f921"
             ]
            ],
            "type": "heatmap"
           }
          ],
          "heatmapgl": [
           {
            "colorbar": {
             "outlinewidth": 0,
             "ticks": ""
            },
            "colorscale": [
             [
              0,
              "#0d0887"
             ],
             [
              0.1111111111111111,
              "#46039f"
             ],
             [
              0.2222222222222222,
              "#7201a8"
             ],
             [
              0.3333333333333333,
              "#9c179e"
             ],
             [
              0.4444444444444444,
              "#bd3786"
             ],
             [
              0.5555555555555556,
              "#d8576b"
             ],
             [
              0.6666666666666666,
              "#ed7953"
             ],
             [
              0.7777777777777778,
              "#fb9f3a"
             ],
             [
              0.8888888888888888,
              "#fdca26"
             ],
             [
              1,
              "#f0f921"
             ]
            ],
            "type": "heatmapgl"
           }
          ],
          "histogram": [
           {
            "marker": {
             "pattern": {
              "fillmode": "overlay",
              "size": 10,
              "solidity": 0.2
             }
            },
            "type": "histogram"
           }
          ],
          "histogram2d": [
           {
            "colorbar": {
             "outlinewidth": 0,
             "ticks": ""
            },
            "colorscale": [
             [
              0,
              "#0d0887"
             ],
             [
              0.1111111111111111,
              "#46039f"
             ],
             [
              0.2222222222222222,
              "#7201a8"
             ],
             [
              0.3333333333333333,
              "#9c179e"
             ],
             [
              0.4444444444444444,
              "#bd3786"
             ],
             [
              0.5555555555555556,
              "#d8576b"
             ],
             [
              0.6666666666666666,
              "#ed7953"
             ],
             [
              0.7777777777777778,
              "#fb9f3a"
             ],
             [
              0.8888888888888888,
              "#fdca26"
             ],
             [
              1,
              "#f0f921"
             ]
            ],
            "type": "histogram2d"
           }
          ],
          "histogram2dcontour": [
           {
            "colorbar": {
             "outlinewidth": 0,
             "ticks": ""
            },
            "colorscale": [
             [
              0,
              "#0d0887"
             ],
             [
              0.1111111111111111,
              "#46039f"
             ],
             [
              0.2222222222222222,
              "#7201a8"
             ],
             [
              0.3333333333333333,
              "#9c179e"
             ],
             [
              0.4444444444444444,
              "#bd3786"
             ],
             [
              0.5555555555555556,
              "#d8576b"
             ],
             [
              0.6666666666666666,
              "#ed7953"
             ],
             [
              0.7777777777777778,
              "#fb9f3a"
             ],
             [
              0.8888888888888888,
              "#fdca26"
             ],
             [
              1,
              "#f0f921"
             ]
            ],
            "type": "histogram2dcontour"
           }
          ],
          "mesh3d": [
           {
            "colorbar": {
             "outlinewidth": 0,
             "ticks": ""
            },
            "type": "mesh3d"
           }
          ],
          "parcoords": [
           {
            "line": {
             "colorbar": {
              "outlinewidth": 0,
              "ticks": ""
             }
            },
            "type": "parcoords"
           }
          ],
          "pie": [
           {
            "automargin": true,
            "type": "pie"
           }
          ],
          "scatter": [
           {
            "marker": {
             "colorbar": {
              "outlinewidth": 0,
              "ticks": ""
             }
            },
            "type": "scatter"
           }
          ],
          "scatter3d": [
           {
            "line": {
             "colorbar": {
              "outlinewidth": 0,
              "ticks": ""
             }
            },
            "marker": {
             "colorbar": {
              "outlinewidth": 0,
              "ticks": ""
             }
            },
            "type": "scatter3d"
           }
          ],
          "scattercarpet": [
           {
            "marker": {
             "colorbar": {
              "outlinewidth": 0,
              "ticks": ""
             }
            },
            "type": "scattercarpet"
           }
          ],
          "scattergeo": [
           {
            "marker": {
             "colorbar": {
              "outlinewidth": 0,
              "ticks": ""
             }
            },
            "type": "scattergeo"
           }
          ],
          "scattergl": [
           {
            "marker": {
             "colorbar": {
              "outlinewidth": 0,
              "ticks": ""
             }
            },
            "type": "scattergl"
           }
          ],
          "scattermapbox": [
           {
            "marker": {
             "colorbar": {
              "outlinewidth": 0,
              "ticks": ""
             }
            },
            "type": "scattermapbox"
           }
          ],
          "scatterpolar": [
           {
            "marker": {
             "colorbar": {
              "outlinewidth": 0,
              "ticks": ""
             }
            },
            "type": "scatterpolar"
           }
          ],
          "scatterpolargl": [
           {
            "marker": {
             "colorbar": {
              "outlinewidth": 0,
              "ticks": ""
             }
            },
            "type": "scatterpolargl"
           }
          ],
          "scatterternary": [
           {
            "marker": {
             "colorbar": {
              "outlinewidth": 0,
              "ticks": ""
             }
            },
            "type": "scatterternary"
           }
          ],
          "surface": [
           {
            "colorbar": {
             "outlinewidth": 0,
             "ticks": ""
            },
            "colorscale": [
             [
              0,
              "#0d0887"
             ],
             [
              0.1111111111111111,
              "#46039f"
             ],
             [
              0.2222222222222222,
              "#7201a8"
             ],
             [
              0.3333333333333333,
              "#9c179e"
             ],
             [
              0.4444444444444444,
              "#bd3786"
             ],
             [
              0.5555555555555556,
              "#d8576b"
             ],
             [
              0.6666666666666666,
              "#ed7953"
             ],
             [
              0.7777777777777778,
              "#fb9f3a"
             ],
             [
              0.8888888888888888,
              "#fdca26"
             ],
             [
              1,
              "#f0f921"
             ]
            ],
            "type": "surface"
           }
          ],
          "table": [
           {
            "cells": {
             "fill": {
              "color": "#EBF0F8"
             },
             "line": {
              "color": "white"
             }
            },
            "header": {
             "fill": {
              "color": "#C8D4E3"
             },
             "line": {
              "color": "white"
             }
            },
            "type": "table"
           }
          ]
         },
         "layout": {
          "annotationdefaults": {
           "arrowcolor": "#2a3f5f",
           "arrowhead": 0,
           "arrowwidth": 1
          },
          "autotypenumbers": "strict",
          "coloraxis": {
           "colorbar": {
            "outlinewidth": 0,
            "ticks": ""
           }
          },
          "colorscale": {
           "diverging": [
            [
             0,
             "#8e0152"
            ],
            [
             0.1,
             "#c51b7d"
            ],
            [
             0.2,
             "#de77ae"
            ],
            [
             0.3,
             "#f1b6da"
            ],
            [
             0.4,
             "#fde0ef"
            ],
            [
             0.5,
             "#f7f7f7"
            ],
            [
             0.6,
             "#e6f5d0"
            ],
            [
             0.7,
             "#b8e186"
            ],
            [
             0.8,
             "#7fbc41"
            ],
            [
             0.9,
             "#4d9221"
            ],
            [
             1,
             "#276419"
            ]
           ],
           "sequential": [
            [
             0,
             "#0d0887"
            ],
            [
             0.1111111111111111,
             "#46039f"
            ],
            [
             0.2222222222222222,
             "#7201a8"
            ],
            [
             0.3333333333333333,
             "#9c179e"
            ],
            [
             0.4444444444444444,
             "#bd3786"
            ],
            [
             0.5555555555555556,
             "#d8576b"
            ],
            [
             0.6666666666666666,
             "#ed7953"
            ],
            [
             0.7777777777777778,
             "#fb9f3a"
            ],
            [
             0.8888888888888888,
             "#fdca26"
            ],
            [
             1,
             "#f0f921"
            ]
           ],
           "sequentialminus": [
            [
             0,
             "#0d0887"
            ],
            [
             0.1111111111111111,
             "#46039f"
            ],
            [
             0.2222222222222222,
             "#7201a8"
            ],
            [
             0.3333333333333333,
             "#9c179e"
            ],
            [
             0.4444444444444444,
             "#bd3786"
            ],
            [
             0.5555555555555556,
             "#d8576b"
            ],
            [
             0.6666666666666666,
             "#ed7953"
            ],
            [
             0.7777777777777778,
             "#fb9f3a"
            ],
            [
             0.8888888888888888,
             "#fdca26"
            ],
            [
             1,
             "#f0f921"
            ]
           ]
          },
          "colorway": [
           "#636efa",
           "#EF553B",
           "#00cc96",
           "#ab63fa",
           "#FFA15A",
           "#19d3f3",
           "#FF6692",
           "#B6E880",
           "#FF97FF",
           "#FECB52"
          ],
          "font": {
           "color": "#2a3f5f"
          },
          "geo": {
           "bgcolor": "white",
           "lakecolor": "white",
           "landcolor": "#E5ECF6",
           "showlakes": true,
           "showland": true,
           "subunitcolor": "white"
          },
          "hoverlabel": {
           "align": "left"
          },
          "hovermode": "closest",
          "mapbox": {
           "style": "light"
          },
          "paper_bgcolor": "white",
          "plot_bgcolor": "#E5ECF6",
          "polar": {
           "angularaxis": {
            "gridcolor": "white",
            "linecolor": "white",
            "ticks": ""
           },
           "bgcolor": "#E5ECF6",
           "radialaxis": {
            "gridcolor": "white",
            "linecolor": "white",
            "ticks": ""
           }
          },
          "scene": {
           "xaxis": {
            "backgroundcolor": "#E5ECF6",
            "gridcolor": "white",
            "gridwidth": 2,
            "linecolor": "white",
            "showbackground": true,
            "ticks": "",
            "zerolinecolor": "white"
           },
           "yaxis": {
            "backgroundcolor": "#E5ECF6",
            "gridcolor": "white",
            "gridwidth": 2,
            "linecolor": "white",
            "showbackground": true,
            "ticks": "",
            "zerolinecolor": "white"
           },
           "zaxis": {
            "backgroundcolor": "#E5ECF6",
            "gridcolor": "white",
            "gridwidth": 2,
            "linecolor": "white",
            "showbackground": true,
            "ticks": "",
            "zerolinecolor": "white"
           }
          },
          "shapedefaults": {
           "line": {
            "color": "#2a3f5f"
           }
          },
          "ternary": {
           "aaxis": {
            "gridcolor": "white",
            "linecolor": "white",
            "ticks": ""
           },
           "baxis": {
            "gridcolor": "white",
            "linecolor": "white",
            "ticks": ""
           },
           "bgcolor": "#E5ECF6",
           "caxis": {
            "gridcolor": "white",
            "linecolor": "white",
            "ticks": ""
           }
          },
          "title": {
           "x": 0.05
          },
          "xaxis": {
           "automargin": true,
           "gridcolor": "white",
           "linecolor": "white",
           "ticks": "",
           "title": {
            "standoff": 15
           },
           "zerolinecolor": "white",
           "zerolinewidth": 2
          },
          "yaxis": {
           "automargin": true,
           "gridcolor": "white",
           "linecolor": "white",
           "ticks": "",
           "title": {
            "standoff": 15
           },
           "zerolinecolor": "white",
           "zerolinewidth": 2
          }
         }
        },
        "title": {
         "text": "Age range With Highest Risk Duo To Air Pollution<br>sorted"
        }
       }
      }
     },
     "metadata": {},
     "output_type": "display_data"
    }
   ],
   "source": [
    "\n",
    "headerColor = 'grey'\n",
    "rowEvenColor = 'lightgrey'\n",
    "rowOddColor = 'white'\n",
    "\n",
    "fig = go.Figure(data=[go.Table(\n",
    "    header=dict(values=list(['<b>Country<b>', \"age\", \"max death\"]),\n",
    "        line_color='darkslategray',\n",
    "        fill_color=headerColor,\n",
    "        align=['left','center'],\n",
    "        font=dict(color='white')),\n",
    "    cells=dict(values=[death_high_in_age.location, death_high_in_age.age, death_high_in_age.val_max],\n",
    "        line_color='darkslategray',\n",
    "        # 2-D list of colors for alternating rows\n",
    "        fill_color = [[rowOddColor,rowEvenColor]*death_high_in_age.shape[0]],\n",
    "        align = ['left', 'center'],\n",
    "        font = dict(color = 'darkslategray')\n",
    "    ))\n",
    "])\n",
    "fig.update_layout(\n",
    "    title=\"Age range With Highest Risk Duo To Air Pollution<br>sorted\"\n",
    ")\n",
    "fig.show()"
   ]
  },
  {
   "cell_type": "code",
   "execution_count": null,
   "metadata": {},
   "outputs": [],
   "source": []
  }
 ],
 "metadata": {
  "interpreter": {
   "hash": "2d66bb7d4f8a116e2925a95bebe6e04f8fc3c8ed65e8572fe262df87356dbbb5"
  },
  "kernelspec": {
   "display_name": "Python 3.9.7 64-bit ('data': conda)",
   "language": "python",
   "name": "python3"
  },
  "language_info": {
   "codemirror_mode": {
    "name": "ipython",
    "version": 3
   },
   "file_extension": ".py",
   "mimetype": "text/x-python",
   "name": "python",
   "nbconvert_exporter": "python",
   "pygments_lexer": "ipython3",
   "version": "3.9.7"
  },
  "orig_nbformat": 4
 },
 "nbformat": 4,
 "nbformat_minor": 2
}
