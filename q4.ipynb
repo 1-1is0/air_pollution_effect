{
 "cells": [
  {
   "cell_type": "code",
   "execution_count": 5,
   "metadata": {},
   "outputs": [],
   "source": [
    "import pandas as pd\n",
    "import numpy as np\n",
    "import matplotlib.pyplot as plt\n",
    "import plotly.express as px\n",
    "from dataprep.clean import clean_country"
   ]
  },
  {
   "cell_type": "code",
   "execution_count": null,
   "metadata": {},
   "outputs": [],
   "source": [
    "# original site has a tool to query the data you want and it make the dataset more\n",
    "# closer to what we need, so it would require "
   ]
  },
  {
   "cell_type": "code",
   "execution_count": 6,
   "metadata": {},
   "outputs": [],
   "source": [
    "csv_file_path = \"./dataset/all/IHME-GDB-Deaths.csv\"\n",
    "df = pd.read_csv(csv_file_path)"
   ]
  },
  {
   "cell_type": "code",
   "execution_count": 27,
   "metadata": {},
   "outputs": [
    {
     "data": {
      "text/html": [
       "<div>\n",
       "<style scoped>\n",
       "    .dataframe tbody tr th:only-of-type {\n",
       "        vertical-align: middle;\n",
       "    }\n",
       "\n",
       "    .dataframe tbody tr th {\n",
       "        vertical-align: top;\n",
       "    }\n",
       "\n",
       "    .dataframe thead th {\n",
       "        text-align: right;\n",
       "    }\n",
       "</style>\n",
       "<table border=\"1\" class=\"dataframe\">\n",
       "  <thead>\n",
       "    <tr style=\"text-align: right;\">\n",
       "      <th></th>\n",
       "      <th>measure</th>\n",
       "      <th>location</th>\n",
       "      <th>sex</th>\n",
       "      <th>age</th>\n",
       "      <th>cause</th>\n",
       "      <th>metric</th>\n",
       "      <th>year</th>\n",
       "      <th>val</th>\n",
       "      <th>upper</th>\n",
       "      <th>lower</th>\n",
       "    </tr>\n",
       "  </thead>\n",
       "  <tbody>\n",
       "    <tr>\n",
       "      <th>0</th>\n",
       "      <td>Deaths</td>\n",
       "      <td>Gabon</td>\n",
       "      <td>Both</td>\n",
       "      <td>80 to 84</td>\n",
       "      <td>Other neoplasms</td>\n",
       "      <td>Number</td>\n",
       "      <td>2016</td>\n",
       "      <td>0.592619</td>\n",
       "      <td>0.859968</td>\n",
       "      <td>0.357246</td>\n",
       "    </tr>\n",
       "    <tr>\n",
       "      <th>1</th>\n",
       "      <td>Deaths</td>\n",
       "      <td>Gabon</td>\n",
       "      <td>Male</td>\n",
       "      <td>85 plus</td>\n",
       "      <td>Other neoplasms</td>\n",
       "      <td>Number</td>\n",
       "      <td>2016</td>\n",
       "      <td>0.209733</td>\n",
       "      <td>0.344426</td>\n",
       "      <td>0.114420</td>\n",
       "    </tr>\n",
       "    <tr>\n",
       "      <th>2</th>\n",
       "      <td>Deaths</td>\n",
       "      <td>Gabon</td>\n",
       "      <td>Female</td>\n",
       "      <td>85 plus</td>\n",
       "      <td>Other neoplasms</td>\n",
       "      <td>Number</td>\n",
       "      <td>2016</td>\n",
       "      <td>0.243306</td>\n",
       "      <td>0.428627</td>\n",
       "      <td>0.103305</td>\n",
       "    </tr>\n",
       "    <tr>\n",
       "      <th>3</th>\n",
       "      <td>Deaths</td>\n",
       "      <td>Gabon</td>\n",
       "      <td>Both</td>\n",
       "      <td>85 plus</td>\n",
       "      <td>Other neoplasms</td>\n",
       "      <td>Number</td>\n",
       "      <td>2016</td>\n",
       "      <td>0.453039</td>\n",
       "      <td>0.659978</td>\n",
       "      <td>0.266404</td>\n",
       "    </tr>\n",
       "    <tr>\n",
       "      <th>4</th>\n",
       "      <td>Deaths</td>\n",
       "      <td>Gabon</td>\n",
       "      <td>Male</td>\n",
       "      <td>1 to 4</td>\n",
       "      <td>Cardiovascular diseases</td>\n",
       "      <td>Number</td>\n",
       "      <td>2016</td>\n",
       "      <td>1.307133</td>\n",
       "      <td>2.660127</td>\n",
       "      <td>0.520400</td>\n",
       "    </tr>\n",
       "    <tr>\n",
       "      <th>...</th>\n",
       "      <td>...</td>\n",
       "      <td>...</td>\n",
       "      <td>...</td>\n",
       "      <td>...</td>\n",
       "      <td>...</td>\n",
       "      <td>...</td>\n",
       "      <td>...</td>\n",
       "      <td>...</td>\n",
       "      <td>...</td>\n",
       "      <td>...</td>\n",
       "    </tr>\n",
       "    <tr>\n",
       "      <th>4886935</th>\n",
       "      <td>Deaths</td>\n",
       "      <td>Portugal</td>\n",
       "      <td>Both</td>\n",
       "      <td>75 to 79</td>\n",
       "      <td>Chronic respiratory diseases</td>\n",
       "      <td>Number</td>\n",
       "      <td>2016</td>\n",
       "      <td>837.307168</td>\n",
       "      <td>991.780932</td>\n",
       "      <td>727.360308</td>\n",
       "    </tr>\n",
       "    <tr>\n",
       "      <th>4886936</th>\n",
       "      <td>Deaths</td>\n",
       "      <td>Portugal</td>\n",
       "      <td>Male</td>\n",
       "      <td>80 to 84</td>\n",
       "      <td>Chronic respiratory diseases</td>\n",
       "      <td>Number</td>\n",
       "      <td>2016</td>\n",
       "      <td>816.673897</td>\n",
       "      <td>968.081178</td>\n",
       "      <td>688.748004</td>\n",
       "    </tr>\n",
       "    <tr>\n",
       "      <th>4886937</th>\n",
       "      <td>Deaths</td>\n",
       "      <td>Portugal</td>\n",
       "      <td>Female</td>\n",
       "      <td>80 to 84</td>\n",
       "      <td>Chronic respiratory diseases</td>\n",
       "      <td>Number</td>\n",
       "      <td>2016</td>\n",
       "      <td>582.763214</td>\n",
       "      <td>707.498930</td>\n",
       "      <td>429.973203</td>\n",
       "    </tr>\n",
       "    <tr>\n",
       "      <th>4886938</th>\n",
       "      <td>Deaths</td>\n",
       "      <td>Portugal</td>\n",
       "      <td>Both</td>\n",
       "      <td>80 to 84</td>\n",
       "      <td>Chronic respiratory diseases</td>\n",
       "      <td>Number</td>\n",
       "      <td>2016</td>\n",
       "      <td>1399.437111</td>\n",
       "      <td>1616.199266</td>\n",
       "      <td>1187.382977</td>\n",
       "    </tr>\n",
       "    <tr>\n",
       "      <th>4886939</th>\n",
       "      <td>Deaths</td>\n",
       "      <td>Portugal</td>\n",
       "      <td>Male</td>\n",
       "      <td>85 plus</td>\n",
       "      <td>Chronic respiratory diseases</td>\n",
       "      <td>Number</td>\n",
       "      <td>2016</td>\n",
       "      <td>1491.851253</td>\n",
       "      <td>1739.269384</td>\n",
       "      <td>1246.510454</td>\n",
       "    </tr>\n",
       "  </tbody>\n",
       "</table>\n",
       "<p>4856010 rows × 10 columns</p>\n",
       "</div>"
      ],
      "text/plain": [
       "        measure  location     sex       age                         cause  \\\n",
       "0        Deaths     Gabon    Both  80 to 84               Other neoplasms   \n",
       "1        Deaths     Gabon    Male   85 plus               Other neoplasms   \n",
       "2        Deaths     Gabon  Female   85 plus               Other neoplasms   \n",
       "3        Deaths     Gabon    Both   85 plus               Other neoplasms   \n",
       "4        Deaths     Gabon    Male    1 to 4       Cardiovascular diseases   \n",
       "...         ...       ...     ...       ...                           ...   \n",
       "4886935  Deaths  Portugal    Both  75 to 79  Chronic respiratory diseases   \n",
       "4886936  Deaths  Portugal    Male  80 to 84  Chronic respiratory diseases   \n",
       "4886937  Deaths  Portugal  Female  80 to 84  Chronic respiratory diseases   \n",
       "4886938  Deaths  Portugal    Both  80 to 84  Chronic respiratory diseases   \n",
       "4886939  Deaths  Portugal    Male   85 plus  Chronic respiratory diseases   \n",
       "\n",
       "         metric  year          val        upper        lower  \n",
       "0        Number  2016     0.592619     0.859968     0.357246  \n",
       "1        Number  2016     0.209733     0.344426     0.114420  \n",
       "2        Number  2016     0.243306     0.428627     0.103305  \n",
       "3        Number  2016     0.453039     0.659978     0.266404  \n",
       "4        Number  2016     1.307133     2.660127     0.520400  \n",
       "...         ...   ...          ...          ...          ...  \n",
       "4886935  Number  2016   837.307168   991.780932   727.360308  \n",
       "4886936  Number  2016   816.673897   968.081178   688.748004  \n",
       "4886937  Number  2016   582.763214   707.498930   429.973203  \n",
       "4886938  Number  2016  1399.437111  1616.199266  1187.382977  \n",
       "4886939  Number  2016  1491.851253  1739.269384  1246.510454  \n",
       "\n",
       "[4856010 rows x 10 columns]"
      ]
     },
     "execution_count": 27,
     "metadata": {},
     "output_type": "execute_result"
    }
   ],
   "source": [
    "df[df.location!=\"Global\"]"
   ]
  },
  {
   "cell_type": "code",
   "execution_count": 30,
   "metadata": {},
   "outputs": [],
   "source": [
    "cases_list = [\n",
    "    \"Cardiovascular diseases\",\n",
    "    \"Chronic respiratory diseases\",\n",
    "    \"Liver cancer due to other causes\",\n",
    "    \"Larynx cancer\",\n",
    "    \"Pancreatic cancer\",\n",
    "    \"Colon and rectum cancer\",\n",
    "    \"Tracheal, bronchus, and lung cancer\",\n",
    "    \"Esophageal cancer\",\n",
    "    \"Stomach cancer\",\n",
    "    \"Congenital birth defects\",\n",
    "    \"Hemoglobinopathies and hemolytic anemias\",\n",
    "    \"Other neoplasms\",\n",
    "    \"Neurological disorders\",\n",
    "    \"Leukemia\",\n",
    "]\n"
   ]
  },
  {
   "cell_type": "code",
   "execution_count": 31,
   "metadata": {},
   "outputs": [],
   "source": [
    "cdf=df[df.cause.isin(cases_list) & (df.location!=\"Global\")]"
   ]
  },
  {
   "cell_type": "code",
   "execution_count": null,
   "metadata": {},
   "outputs": [],
   "source": [
    "# let see which country suffer the most from this disease in recent years"
   ]
  },
  {
   "cell_type": "code",
   "execution_count": 35,
   "metadata": {},
   "outputs": [],
   "source": [
    "\n",
    "total_by_country = cdf[cdf.sex==\"Both\"].groupby([\"location\"]).agg(\n",
    "    {'val': 'sum',\n",
    "    'upper': 'sum',\n",
    "    'lower': 'sum'}\n",
    ")\n",
    "# .sort_values(by='age', key=lambda x: x.str.split(' ', expand=True)[0].astype('int'))"
   ]
  },
  {
   "cell_type": "code",
   "execution_count": 36,
   "metadata": {},
   "outputs": [
    {
     "data": {
      "text/html": [
       "<div>\n",
       "<style scoped>\n",
       "    .dataframe tbody tr th:only-of-type {\n",
       "        vertical-align: middle;\n",
       "    }\n",
       "\n",
       "    .dataframe tbody tr th {\n",
       "        vertical-align: top;\n",
       "    }\n",
       "\n",
       "    .dataframe thead th {\n",
       "        text-align: right;\n",
       "    }\n",
       "</style>\n",
       "<table border=\"1\" class=\"dataframe\">\n",
       "  <thead>\n",
       "    <tr style=\"text-align: right;\">\n",
       "      <th></th>\n",
       "      <th>val</th>\n",
       "      <th>upper</th>\n",
       "      <th>lower</th>\n",
       "    </tr>\n",
       "    <tr>\n",
       "      <th>location</th>\n",
       "      <th></th>\n",
       "      <th></th>\n",
       "      <th></th>\n",
       "    </tr>\n",
       "  </thead>\n",
       "  <tbody>\n",
       "    <tr>\n",
       "      <th>Afghanistan</th>\n",
       "      <td>2.229134e+06</td>\n",
       "      <td>3.057791e+06</td>\n",
       "      <td>1.579217e+06</td>\n",
       "    </tr>\n",
       "    <tr>\n",
       "      <th>Albania</th>\n",
       "      <td>3.761616e+05</td>\n",
       "      <td>4.642947e+05</td>\n",
       "      <td>3.049161e+05</td>\n",
       "    </tr>\n",
       "    <tr>\n",
       "      <th>Algeria</th>\n",
       "      <td>2.662268e+06</td>\n",
       "      <td>3.403752e+06</td>\n",
       "      <td>2.080104e+06</td>\n",
       "    </tr>\n",
       "    <tr>\n",
       "      <th>Argentina</th>\n",
       "      <td>4.807245e+06</td>\n",
       "      <td>5.646202e+06</td>\n",
       "      <td>4.143166e+06</td>\n",
       "    </tr>\n",
       "    <tr>\n",
       "      <th>Armenia</th>\n",
       "      <td>5.368135e+05</td>\n",
       "      <td>6.046153e+05</td>\n",
       "      <td>4.776395e+05</td>\n",
       "    </tr>\n",
       "    <tr>\n",
       "      <th>...</th>\n",
       "      <td>...</td>\n",
       "      <td>...</td>\n",
       "      <td>...</td>\n",
       "    </tr>\n",
       "    <tr>\n",
       "      <th>Venezuela (Bolivarian Republic of)</th>\n",
       "      <td>1.759395e+06</td>\n",
       "      <td>2.138333e+06</td>\n",
       "      <td>1.455079e+06</td>\n",
       "    </tr>\n",
       "    <tr>\n",
       "      <th>Viet Nam</th>\n",
       "      <td>7.932117e+06</td>\n",
       "      <td>1.023254e+07</td>\n",
       "      <td>5.873065e+06</td>\n",
       "    </tr>\n",
       "    <tr>\n",
       "      <th>Yemen</th>\n",
       "      <td>1.459667e+06</td>\n",
       "      <td>1.995187e+06</td>\n",
       "      <td>1.066636e+06</td>\n",
       "    </tr>\n",
       "    <tr>\n",
       "      <th>Zambia</th>\n",
       "      <td>5.531547e+05</td>\n",
       "      <td>7.549459e+05</td>\n",
       "      <td>3.979336e+05</td>\n",
       "    </tr>\n",
       "    <tr>\n",
       "      <th>Zimbabwe</th>\n",
       "      <td>6.399598e+05</td>\n",
       "      <td>8.582303e+05</td>\n",
       "      <td>4.751084e+05</td>\n",
       "    </tr>\n",
       "  </tbody>\n",
       "</table>\n",
       "<p>157 rows × 3 columns</p>\n",
       "</div>"
      ],
      "text/plain": [
       "                                             val         upper         lower\n",
       "location                                                                    \n",
       "Afghanistan                         2.229134e+06  3.057791e+06  1.579217e+06\n",
       "Albania                             3.761616e+05  4.642947e+05  3.049161e+05\n",
       "Algeria                             2.662268e+06  3.403752e+06  2.080104e+06\n",
       "Argentina                           4.807245e+06  5.646202e+06  4.143166e+06\n",
       "Armenia                             5.368135e+05  6.046153e+05  4.776395e+05\n",
       "...                                          ...           ...           ...\n",
       "Venezuela (Bolivarian Republic of)  1.759395e+06  2.138333e+06  1.455079e+06\n",
       "Viet Nam                            7.932117e+06  1.023254e+07  5.873065e+06\n",
       "Yemen                               1.459667e+06  1.995187e+06  1.066636e+06\n",
       "Zambia                              5.531547e+05  7.549459e+05  3.979336e+05\n",
       "Zimbabwe                            6.399598e+05  8.582303e+05  4.751084e+05\n",
       "\n",
       "[157 rows x 3 columns]"
      ]
     },
     "execution_count": 36,
     "metadata": {},
     "output_type": "execute_result"
    }
   ],
   "source": [
    "total_by_country"
   ]
  },
  {
   "cell_type": "code",
   "execution_count": 37,
   "metadata": {},
   "outputs": [
    {
     "data": {
      "text/html": [
       "<div>\n",
       "<style scoped>\n",
       "    .dataframe tbody tr th:only-of-type {\n",
       "        vertical-align: middle;\n",
       "    }\n",
       "\n",
       "    .dataframe tbody tr th {\n",
       "        vertical-align: top;\n",
       "    }\n",
       "\n",
       "    .dataframe thead th {\n",
       "        text-align: right;\n",
       "    }\n",
       "</style>\n",
       "<table border=\"1\" class=\"dataframe\">\n",
       "  <thead>\n",
       "    <tr style=\"text-align: right;\">\n",
       "      <th></th>\n",
       "      <th>location</th>\n",
       "      <th>val</th>\n",
       "      <th>upper</th>\n",
       "      <th>lower</th>\n",
       "    </tr>\n",
       "  </thead>\n",
       "  <tbody>\n",
       "    <tr>\n",
       "      <th>0</th>\n",
       "      <td>Afghanistan</td>\n",
       "      <td>2.229134e+06</td>\n",
       "      <td>3.057791e+06</td>\n",
       "      <td>1.579217e+06</td>\n",
       "    </tr>\n",
       "    <tr>\n",
       "      <th>1</th>\n",
       "      <td>Albania</td>\n",
       "      <td>3.761616e+05</td>\n",
       "      <td>4.642947e+05</td>\n",
       "      <td>3.049161e+05</td>\n",
       "    </tr>\n",
       "    <tr>\n",
       "      <th>2</th>\n",
       "      <td>Algeria</td>\n",
       "      <td>2.662268e+06</td>\n",
       "      <td>3.403752e+06</td>\n",
       "      <td>2.080104e+06</td>\n",
       "    </tr>\n",
       "    <tr>\n",
       "      <th>3</th>\n",
       "      <td>Argentina</td>\n",
       "      <td>4.807245e+06</td>\n",
       "      <td>5.646202e+06</td>\n",
       "      <td>4.143166e+06</td>\n",
       "    </tr>\n",
       "    <tr>\n",
       "      <th>4</th>\n",
       "      <td>Armenia</td>\n",
       "      <td>5.368135e+05</td>\n",
       "      <td>6.046153e+05</td>\n",
       "      <td>4.776395e+05</td>\n",
       "    </tr>\n",
       "  </tbody>\n",
       "</table>\n",
       "</div>"
      ],
      "text/plain": [
       "      location           val         upper         lower\n",
       "0  Afghanistan  2.229134e+06  3.057791e+06  1.579217e+06\n",
       "1      Albania  3.761616e+05  4.642947e+05  3.049161e+05\n",
       "2      Algeria  2.662268e+06  3.403752e+06  2.080104e+06\n",
       "3    Argentina  4.807245e+06  5.646202e+06  4.143166e+06\n",
       "4      Armenia  5.368135e+05  6.046153e+05  4.776395e+05"
      ]
     },
     "execution_count": 37,
     "metadata": {},
     "output_type": "execute_result"
    }
   ],
   "source": [
    "\n",
    "total_by_country = pd.DataFrame(total_by_country.to_records())\n",
    "total_by_country.head()"
   ]
  },
  {
   "cell_type": "markdown",
   "metadata": {},
   "source": [
    "data from china, just to see what is the state of the one of the world largest oil consumer data looks like"
   ]
  },
  {
   "cell_type": "code",
   "execution_count": 21,
   "metadata": {},
   "outputs": [],
   "source": [
    "china = cdf[(cdf.location==\"China\") & (cdf.sex==\"Both\")].groupby(['location', 'age']).agg(\n",
    "    {'val': 'sum',\n",
    "    'upper': 'sum',\n",
    "    'lower': 'sum'}\n",
    ").sort_values(by='age', key=lambda x: x.str.split(' ', expand=True)[0].astype('int'))"
   ]
  },
  {
   "cell_type": "code",
   "execution_count": null,
   "metadata": {},
   "outputs": [],
   "source": []
  },
  {
   "cell_type": "code",
   "execution_count": 22,
   "metadata": {},
   "outputs": [
    {
     "data": {
      "text/html": [
       "<div>\n",
       "<style scoped>\n",
       "    .dataframe tbody tr th:only-of-type {\n",
       "        vertical-align: middle;\n",
       "    }\n",
       "\n",
       "    .dataframe tbody tr th {\n",
       "        vertical-align: top;\n",
       "    }\n",
       "\n",
       "    .dataframe thead th {\n",
       "        text-align: right;\n",
       "    }\n",
       "</style>\n",
       "<table border=\"1\" class=\"dataframe\">\n",
       "  <thead>\n",
       "    <tr style=\"text-align: right;\">\n",
       "      <th></th>\n",
       "      <th></th>\n",
       "      <th>val</th>\n",
       "      <th>upper</th>\n",
       "      <th>lower</th>\n",
       "    </tr>\n",
       "    <tr>\n",
       "      <th>location</th>\n",
       "      <th>age</th>\n",
       "      <th></th>\n",
       "      <th></th>\n",
       "      <th></th>\n",
       "    </tr>\n",
       "  </thead>\n",
       "  <tbody>\n",
       "    <tr>\n",
       "      <th rowspan=\"18\" valign=\"top\">China</th>\n",
       "      <th>1 to 4</th>\n",
       "      <td>8.568497e+04</td>\n",
       "      <td>1.004369e+05</td>\n",
       "      <td>7.086573e+04</td>\n",
       "    </tr>\n",
       "    <tr>\n",
       "      <th>5 to 9</th>\n",
       "      <td>7.035211e+04</td>\n",
       "      <td>7.913335e+04</td>\n",
       "      <td>6.229497e+04</td>\n",
       "    </tr>\n",
       "    <tr>\n",
       "      <th>10 to 14</th>\n",
       "      <td>6.412322e+04</td>\n",
       "      <td>7.177079e+04</td>\n",
       "      <td>5.739521e+04</td>\n",
       "    </tr>\n",
       "    <tr>\n",
       "      <th>15 to 19</th>\n",
       "      <td>1.980993e+05</td>\n",
       "      <td>2.241450e+05</td>\n",
       "      <td>1.758901e+05</td>\n",
       "    </tr>\n",
       "    <tr>\n",
       "      <th>20 to 24</th>\n",
       "      <td>3.308920e+05</td>\n",
       "      <td>3.752804e+05</td>\n",
       "      <td>2.920338e+05</td>\n",
       "    </tr>\n",
       "    <tr>\n",
       "      <th>25 to 29</th>\n",
       "      <td>5.024035e+05</td>\n",
       "      <td>5.671066e+05</td>\n",
       "      <td>4.475828e+05</td>\n",
       "    </tr>\n",
       "    <tr>\n",
       "      <th>30 to 34</th>\n",
       "      <td>8.541150e+05</td>\n",
       "      <td>9.605244e+05</td>\n",
       "      <td>7.633402e+05</td>\n",
       "    </tr>\n",
       "    <tr>\n",
       "      <th>35 to 39</th>\n",
       "      <td>1.493004e+06</td>\n",
       "      <td>1.687635e+06</td>\n",
       "      <td>1.336967e+06</td>\n",
       "    </tr>\n",
       "    <tr>\n",
       "      <th>40 to 44</th>\n",
       "      <td>2.760572e+06</td>\n",
       "      <td>3.109089e+06</td>\n",
       "      <td>2.462716e+06</td>\n",
       "    </tr>\n",
       "    <tr>\n",
       "      <th>45 to 49</th>\n",
       "      <td>4.091288e+06</td>\n",
       "      <td>4.617934e+06</td>\n",
       "      <td>3.626145e+06</td>\n",
       "    </tr>\n",
       "    <tr>\n",
       "      <th>50 to 54</th>\n",
       "      <td>6.136510e+06</td>\n",
       "      <td>6.917963e+06</td>\n",
       "      <td>5.455497e+06</td>\n",
       "    </tr>\n",
       "    <tr>\n",
       "      <th>55 to 59</th>\n",
       "      <td>8.334466e+06</td>\n",
       "      <td>9.382199e+06</td>\n",
       "      <td>7.412606e+06</td>\n",
       "    </tr>\n",
       "    <tr>\n",
       "      <th>60 to 64</th>\n",
       "      <td>1.213666e+07</td>\n",
       "      <td>1.359117e+07</td>\n",
       "      <td>1.088057e+07</td>\n",
       "    </tr>\n",
       "    <tr>\n",
       "      <th>65 to 69</th>\n",
       "      <td>1.655626e+07</td>\n",
       "      <td>1.843283e+07</td>\n",
       "      <td>1.495299e+07</td>\n",
       "    </tr>\n",
       "    <tr>\n",
       "      <th>70 to 74</th>\n",
       "      <td>2.310905e+07</td>\n",
       "      <td>2.566377e+07</td>\n",
       "      <td>2.104206e+07</td>\n",
       "    </tr>\n",
       "    <tr>\n",
       "      <th>75 to 79</th>\n",
       "      <td>2.649286e+07</td>\n",
       "      <td>2.926884e+07</td>\n",
       "      <td>2.418939e+07</td>\n",
       "    </tr>\n",
       "    <tr>\n",
       "      <th>80 to 84</th>\n",
       "      <td>2.638573e+07</td>\n",
       "      <td>2.908979e+07</td>\n",
       "      <td>2.379559e+07</td>\n",
       "    </tr>\n",
       "    <tr>\n",
       "      <th>85 plus</th>\n",
       "      <td>2.483342e+07</td>\n",
       "      <td>2.733902e+07</td>\n",
       "      <td>2.181655e+07</td>\n",
       "    </tr>\n",
       "  </tbody>\n",
       "</table>\n",
       "</div>"
      ],
      "text/plain": [
       "                            val         upper         lower\n",
       "location age                                               \n",
       "China    1 to 4    8.568497e+04  1.004369e+05  7.086573e+04\n",
       "         5 to 9    7.035211e+04  7.913335e+04  6.229497e+04\n",
       "         10 to 14  6.412322e+04  7.177079e+04  5.739521e+04\n",
       "         15 to 19  1.980993e+05  2.241450e+05  1.758901e+05\n",
       "         20 to 24  3.308920e+05  3.752804e+05  2.920338e+05\n",
       "         25 to 29  5.024035e+05  5.671066e+05  4.475828e+05\n",
       "         30 to 34  8.541150e+05  9.605244e+05  7.633402e+05\n",
       "         35 to 39  1.493004e+06  1.687635e+06  1.336967e+06\n",
       "         40 to 44  2.760572e+06  3.109089e+06  2.462716e+06\n",
       "         45 to 49  4.091288e+06  4.617934e+06  3.626145e+06\n",
       "         50 to 54  6.136510e+06  6.917963e+06  5.455497e+06\n",
       "         55 to 59  8.334466e+06  9.382199e+06  7.412606e+06\n",
       "         60 to 64  1.213666e+07  1.359117e+07  1.088057e+07\n",
       "         65 to 69  1.655626e+07  1.843283e+07  1.495299e+07\n",
       "         70 to 74  2.310905e+07  2.566377e+07  2.104206e+07\n",
       "         75 to 79  2.649286e+07  2.926884e+07  2.418939e+07\n",
       "         80 to 84  2.638573e+07  2.908979e+07  2.379559e+07\n",
       "         85 plus   2.483342e+07  2.733902e+07  2.181655e+07"
      ]
     },
     "execution_count": 22,
     "metadata": {},
     "output_type": "execute_result"
    }
   ],
   "source": [
    "china"
   ]
  },
  {
   "cell_type": "code",
   "execution_count": 23,
   "metadata": {},
   "outputs": [
    {
     "name": "stdout",
     "output_type": "stream",
     "text": [
      "['1-4', '5-9', '10-14', '15-19', '20-24', '25-29', '30-34', '35-39', '40-44', '45-49', '50-54', '55-59', '60-64', '65-69', '70-74', '75-79', '80-84', '85 plus']\n"
     ]
    }
   ],
   "source": [
    "# create lables for chart\n",
    "x_axis_label = [i[1].replace(' to ', '-') for i in china.index]\n",
    "print(x_axis_label)"
   ]
  },
  {
   "cell_type": "code",
   "execution_count": 24,
   "metadata": {},
   "outputs": [
    {
     "data": {
      "text/plain": [
       "Text(0.5, 0, 'Age')"
      ]
     },
     "execution_count": 24,
     "metadata": {},
     "output_type": "execute_result"
    },
    {
     "data": {
      "image/png": "[encoded data removed]",
      "text/plain": [
       "<Figure size 1080x1080 with 1 Axes>"
      ]
     },
     "metadata": {
      "needs_background": "light"
     },
     "output_type": "display_data"
    }
   ],
   "source": [
    "# plot for one country\n",
    "fig, ax = plt.subplots(figsize=(15, 15))\n",
    "ax.bar(x=x_axis_label, height=china.val.values)\n",
    "ax.set_title(\"China Death from 1990 to 2019\")\n",
    "ax.set_xlabel(\"Age\")"
   ]
  },
  {
   "cell_type": "code",
   "execution_count": 120,
   "metadata": {},
   "outputs": [],
   "source": [
    "age_death_rate = cdf[cdf.sex==\"Both\"].groupby(['age']).agg(\n",
    "    {'val': 'sum',\n",
    "    'upper': 'sum',\n",
    "    'lower': 'sum'}\n",
    ").sort_values(by='age', key=lambda x: x.str.split(' ', expand=True)[0].astype('int'))"
   ]
  },
  {
   "cell_type": "code",
   "execution_count": 121,
   "metadata": {},
   "outputs": [
    {
     "data": {
      "text/html": [
       "<div>\n",
       "<style scoped>\n",
       "    .dataframe tbody tr th:only-of-type {\n",
       "        vertical-align: middle;\n",
       "    }\n",
       "\n",
       "    .dataframe tbody tr th {\n",
       "        vertical-align: top;\n",
       "    }\n",
       "\n",
       "    .dataframe thead th {\n",
       "        text-align: right;\n",
       "    }\n",
       "</style>\n",
       "<table border=\"1\" class=\"dataframe\">\n",
       "  <thead>\n",
       "    <tr style=\"text-align: right;\">\n",
       "      <th></th>\n",
       "      <th>val</th>\n",
       "      <th>upper</th>\n",
       "      <th>lower</th>\n",
       "    </tr>\n",
       "    <tr>\n",
       "      <th>age</th>\n",
       "      <th></th>\n",
       "      <th></th>\n",
       "      <th></th>\n",
       "    </tr>\n",
       "  </thead>\n",
       "  <tbody>\n",
       "    <tr>\n",
       "      <th>1 to 4</th>\n",
       "      <td>1.933874e+07</td>\n",
       "      <td>3.205634e+07</td>\n",
       "      <td>9.885945e+06</td>\n",
       "    </tr>\n",
       "    <tr>\n",
       "      <th>5 to 9</th>\n",
       "      <td>5.961514e+06</td>\n",
       "      <td>7.886582e+06</td>\n",
       "      <td>4.494648e+06</td>\n",
       "    </tr>\n",
       "    <tr>\n",
       "      <th>10 to 14</th>\n",
       "      <td>4.840440e+06</td>\n",
       "      <td>6.081593e+06</td>\n",
       "      <td>3.863349e+06</td>\n",
       "    </tr>\n",
       "    <tr>\n",
       "      <th>15 to 19</th>\n",
       "      <td>6.696293e+06</td>\n",
       "      <td>8.087553e+06</td>\n",
       "      <td>5.567580e+06</td>\n",
       "    </tr>\n",
       "    <tr>\n",
       "      <th>20 to 24</th>\n",
       "      <td>8.294902e+06</td>\n",
       "      <td>9.810588e+06</td>\n",
       "      <td>7.011984e+06</td>\n",
       "    </tr>\n",
       "    <tr>\n",
       "      <th>25 to 29</th>\n",
       "      <td>1.010276e+07</td>\n",
       "      <td>1.177444e+07</td>\n",
       "      <td>8.662754e+06</td>\n",
       "    </tr>\n",
       "    <tr>\n",
       "      <th>30 to 34</th>\n",
       "      <td>1.458002e+07</td>\n",
       "      <td>1.666662e+07</td>\n",
       "      <td>1.273829e+07</td>\n",
       "    </tr>\n",
       "    <tr>\n",
       "      <th>35 to 39</th>\n",
       "      <td>2.204464e+07</td>\n",
       "      <td>2.495255e+07</td>\n",
       "      <td>1.952333e+07</td>\n",
       "    </tr>\n",
       "    <tr>\n",
       "      <th>40 to 44</th>\n",
       "      <td>3.570944e+07</td>\n",
       "      <td>4.008026e+07</td>\n",
       "      <td>3.184056e+07</td>\n",
       "    </tr>\n",
       "    <tr>\n",
       "      <th>45 to 49</th>\n",
       "      <td>5.360577e+07</td>\n",
       "      <td>5.998188e+07</td>\n",
       "      <td>4.793207e+07</td>\n",
       "    </tr>\n",
       "    <tr>\n",
       "      <th>50 to 54</th>\n",
       "      <td>8.029357e+07</td>\n",
       "      <td>8.946469e+07</td>\n",
       "      <td>7.198497e+07</td>\n",
       "    </tr>\n",
       "    <tr>\n",
       "      <th>55 to 59</th>\n",
       "      <td>1.105463e+08</td>\n",
       "      <td>1.227355e+08</td>\n",
       "      <td>9.941037e+07</td>\n",
       "    </tr>\n",
       "    <tr>\n",
       "      <th>60 to 64</th>\n",
       "      <td>1.557702e+08</td>\n",
       "      <td>1.724535e+08</td>\n",
       "      <td>1.406726e+08</td>\n",
       "    </tr>\n",
       "    <tr>\n",
       "      <th>65 to 69</th>\n",
       "      <td>1.996368e+08</td>\n",
       "      <td>2.206028e+08</td>\n",
       "      <td>1.808302e+08</td>\n",
       "    </tr>\n",
       "    <tr>\n",
       "      <th>70 to 74</th>\n",
       "      <td>2.473436e+08</td>\n",
       "      <td>2.738661e+08</td>\n",
       "      <td>2.235606e+08</td>\n",
       "    </tr>\n",
       "    <tr>\n",
       "      <th>75 to 79</th>\n",
       "      <td>2.753679e+08</td>\n",
       "      <td>3.080029e+08</td>\n",
       "      <td>2.467744e+08</td>\n",
       "    </tr>\n",
       "    <tr>\n",
       "      <th>80 to 84</th>\n",
       "      <td>2.724322e+08</td>\n",
       "      <td>3.164495e+08</td>\n",
       "      <td>2.335899e+08</td>\n",
       "    </tr>\n",
       "    <tr>\n",
       "      <th>85 plus</th>\n",
       "      <td>3.433693e+08</td>\n",
       "      <td>4.221182e+08</td>\n",
       "      <td>2.698739e+08</td>\n",
       "    </tr>\n",
       "  </tbody>\n",
       "</table>\n",
       "</div>"
      ],
      "text/plain": [
       "                   val         upper         lower\n",
       "age                                               \n",
       "1 to 4    1.933874e+07  3.205634e+07  9.885945e+06\n",
       "5 to 9    5.961514e+06  7.886582e+06  4.494648e+06\n",
       "10 to 14  4.840440e+06  6.081593e+06  3.863349e+06\n",
       "15 to 19  6.696293e+06  8.087553e+06  5.567580e+06\n",
       "20 to 24  8.294902e+06  9.810588e+06  7.011984e+06\n",
       "25 to 29  1.010276e+07  1.177444e+07  8.662754e+06\n",
       "30 to 34  1.458002e+07  1.666662e+07  1.273829e+07\n",
       "35 to 39  2.204464e+07  2.495255e+07  1.952333e+07\n",
       "40 to 44  3.570944e+07  4.008026e+07  3.184056e+07\n",
       "45 to 49  5.360577e+07  5.998188e+07  4.793207e+07\n",
       "50 to 54  8.029357e+07  8.946469e+07  7.198497e+07\n",
       "55 to 59  1.105463e+08  1.227355e+08  9.941037e+07\n",
       "60 to 64  1.557702e+08  1.724535e+08  1.406726e+08\n",
       "65 to 69  1.996368e+08  2.206028e+08  1.808302e+08\n",
       "70 to 74  2.473436e+08  2.738661e+08  2.235606e+08\n",
       "75 to 79  2.753679e+08  3.080029e+08  2.467744e+08\n",
       "80 to 84  2.724322e+08  3.164495e+08  2.335899e+08\n",
       "85 plus   3.433693e+08  4.221182e+08  2.698739e+08"
      ]
     },
     "execution_count": 121,
     "metadata": {},
     "output_type": "execute_result"
    }
   ],
   "source": [
    "age_death_rate"
   ]
  },
  {
   "cell_type": "code",
   "execution_count": 122,
   "metadata": {},
   "outputs": [
    {
     "data": {
      "text/plain": [
       "<BarContainer object of 18 artists>"
      ]
     },
     "execution_count": 122,
     "metadata": {},
     "output_type": "execute_result"
    },
    {
     "data": {
      "image/png": "[encoded data removed]",
      "text/plain": [
       "<Figure size 1080x1080 with 1 Axes>"
      ]
     },
     "metadata": {
      "needs_background": "light"
     },
     "output_type": "display_data"
    }
   ],
   "source": [
    "fig, ax = plt.subplots(figsize=(15, 15))\n",
    "x_axis_label = [i[1].replace(' to ', '-') for i in china.index]\n",
    "ax.bar(x=x_axis_label, height=age_death_rate.val.values)"
   ]
  },
  {
   "cell_type": "code",
   "execution_count": 34,
   "metadata": {},
   "outputs": [
    {
     "data": {
      "text/html": [
       "<div>\n",
       "<style scoped>\n",
       "    .dataframe tbody tr th:only-of-type {\n",
       "        vertical-align: middle;\n",
       "    }\n",
       "\n",
       "    .dataframe tbody tr th {\n",
       "        vertical-align: top;\n",
       "    }\n",
       "\n",
       "    .dataframe thead th {\n",
       "        text-align: right;\n",
       "    }\n",
       "</style>\n",
       "<table border=\"1\" class=\"dataframe\">\n",
       "  <thead>\n",
       "    <tr style=\"text-align: right;\">\n",
       "      <th></th>\n",
       "      <th>measure</th>\n",
       "      <th>location</th>\n",
       "      <th>sex</th>\n",
       "      <th>age</th>\n",
       "      <th>cause</th>\n",
       "      <th>metric</th>\n",
       "      <th>year</th>\n",
       "      <th>val</th>\n",
       "      <th>upper</th>\n",
       "      <th>lower</th>\n",
       "    </tr>\n",
       "  </thead>\n",
       "  <tbody>\n",
       "    <tr>\n",
       "      <th>4</th>\n",
       "      <td>Deaths</td>\n",
       "      <td>Gabon</td>\n",
       "      <td>Male</td>\n",
       "      <td>1 to 4</td>\n",
       "      <td>Cardiovascular diseases</td>\n",
       "      <td>Number</td>\n",
       "      <td>2016</td>\n",
       "      <td>1.307133</td>\n",
       "      <td>2.660127</td>\n",
       "      <td>0.520400</td>\n",
       "    </tr>\n",
       "    <tr>\n",
       "      <th>5</th>\n",
       "      <td>Deaths</td>\n",
       "      <td>Gabon</td>\n",
       "      <td>Female</td>\n",
       "      <td>1 to 4</td>\n",
       "      <td>Cardiovascular diseases</td>\n",
       "      <td>Number</td>\n",
       "      <td>2016</td>\n",
       "      <td>0.506277</td>\n",
       "      <td>1.594778</td>\n",
       "      <td>0.177413</td>\n",
       "    </tr>\n",
       "    <tr>\n",
       "      <th>6</th>\n",
       "      <td>Deaths</td>\n",
       "      <td>Gabon</td>\n",
       "      <td>Both</td>\n",
       "      <td>1 to 4</td>\n",
       "      <td>Cardiovascular diseases</td>\n",
       "      <td>Number</td>\n",
       "      <td>2016</td>\n",
       "      <td>1.813410</td>\n",
       "      <td>4.013179</td>\n",
       "      <td>0.748420</td>\n",
       "    </tr>\n",
       "    <tr>\n",
       "      <th>7</th>\n",
       "      <td>Deaths</td>\n",
       "      <td>Gabon</td>\n",
       "      <td>Male</td>\n",
       "      <td>5 to 9</td>\n",
       "      <td>Cardiovascular diseases</td>\n",
       "      <td>Number</td>\n",
       "      <td>2016</td>\n",
       "      <td>0.883534</td>\n",
       "      <td>1.491956</td>\n",
       "      <td>0.494747</td>\n",
       "    </tr>\n",
       "    <tr>\n",
       "      <th>8</th>\n",
       "      <td>Deaths</td>\n",
       "      <td>Gabon</td>\n",
       "      <td>Female</td>\n",
       "      <td>5 to 9</td>\n",
       "      <td>Cardiovascular diseases</td>\n",
       "      <td>Number</td>\n",
       "      <td>2016</td>\n",
       "      <td>0.502440</td>\n",
       "      <td>0.915741</td>\n",
       "      <td>0.289085</td>\n",
       "    </tr>\n",
       "    <tr>\n",
       "      <th>...</th>\n",
       "      <td>...</td>\n",
       "      <td>...</td>\n",
       "      <td>...</td>\n",
       "      <td>...</td>\n",
       "      <td>...</td>\n",
       "      <td>...</td>\n",
       "      <td>...</td>\n",
       "      <td>...</td>\n",
       "      <td>...</td>\n",
       "      <td>...</td>\n",
       "    </tr>\n",
       "    <tr>\n",
       "      <th>4630423</th>\n",
       "      <td>Deaths</td>\n",
       "      <td>Argentina</td>\n",
       "      <td>Female</td>\n",
       "      <td>80 to 84</td>\n",
       "      <td>Stroke</td>\n",
       "      <td>Number</td>\n",
       "      <td>2006</td>\n",
       "      <td>2386.710574</td>\n",
       "      <td>2690.004918</td>\n",
       "      <td>2051.770217</td>\n",
       "    </tr>\n",
       "    <tr>\n",
       "      <th>4630424</th>\n",
       "      <td>Deaths</td>\n",
       "      <td>Argentina</td>\n",
       "      <td>Both</td>\n",
       "      <td>80 to 84</td>\n",
       "      <td>Stroke</td>\n",
       "      <td>Number</td>\n",
       "      <td>2006</td>\n",
       "      <td>4117.693988</td>\n",
       "      <td>4646.843314</td>\n",
       "      <td>3569.852176</td>\n",
       "    </tr>\n",
       "    <tr>\n",
       "      <th>4630425</th>\n",
       "      <td>Deaths</td>\n",
       "      <td>Argentina</td>\n",
       "      <td>Male</td>\n",
       "      <td>85 plus</td>\n",
       "      <td>Stroke</td>\n",
       "      <td>Number</td>\n",
       "      <td>2006</td>\n",
       "      <td>1701.973332</td>\n",
       "      <td>1915.251968</td>\n",
       "      <td>1449.030823</td>\n",
       "    </tr>\n",
       "    <tr>\n",
       "      <th>4630426</th>\n",
       "      <td>Deaths</td>\n",
       "      <td>Argentina</td>\n",
       "      <td>Female</td>\n",
       "      <td>85 plus</td>\n",
       "      <td>Stroke</td>\n",
       "      <td>Number</td>\n",
       "      <td>2006</td>\n",
       "      <td>3811.848856</td>\n",
       "      <td>4292.646199</td>\n",
       "      <td>3125.849003</td>\n",
       "    </tr>\n",
       "    <tr>\n",
       "      <th>4630427</th>\n",
       "      <td>Deaths</td>\n",
       "      <td>Argentina</td>\n",
       "      <td>Both</td>\n",
       "      <td>85 plus</td>\n",
       "      <td>Stroke</td>\n",
       "      <td>Number</td>\n",
       "      <td>2006</td>\n",
       "      <td>5513.822188</td>\n",
       "      <td>6108.127854</td>\n",
       "      <td>4576.849026</td>\n",
       "    </tr>\n",
       "  </tbody>\n",
       "</table>\n",
       "<p>511920 rows × 10 columns</p>\n",
       "</div>"
      ],
      "text/plain": [
       "        measure   location     sex       age                    cause  metric  \\\n",
       "4        Deaths      Gabon    Male    1 to 4  Cardiovascular diseases  Number   \n",
       "5        Deaths      Gabon  Female    1 to 4  Cardiovascular diseases  Number   \n",
       "6        Deaths      Gabon    Both    1 to 4  Cardiovascular diseases  Number   \n",
       "7        Deaths      Gabon    Male    5 to 9  Cardiovascular diseases  Number   \n",
       "8        Deaths      Gabon  Female    5 to 9  Cardiovascular diseases  Number   \n",
       "...         ...        ...     ...       ...                      ...     ...   \n",
       "4630423  Deaths  Argentina  Female  80 to 84                   Stroke  Number   \n",
       "4630424  Deaths  Argentina    Both  80 to 84                   Stroke  Number   \n",
       "4630425  Deaths  Argentina    Male   85 plus                   Stroke  Number   \n",
       "4630426  Deaths  Argentina  Female   85 plus                   Stroke  Number   \n",
       "4630427  Deaths  Argentina    Both   85 plus                   Stroke  Number   \n",
       "\n",
       "         year          val        upper        lower  \n",
       "4        2016     1.307133     2.660127     0.520400  \n",
       "5        2016     0.506277     1.594778     0.177413  \n",
       "6        2016     1.813410     4.013179     0.748420  \n",
       "7        2016     0.883534     1.491956     0.494747  \n",
       "8        2016     0.502440     0.915741     0.289085  \n",
       "...       ...          ...          ...          ...  \n",
       "4630423  2006  2386.710574  2690.004918  2051.770217  \n",
       "4630424  2006  4117.693988  4646.843314  3569.852176  \n",
       "4630425  2006  1701.973332  1915.251968  1449.030823  \n",
       "4630426  2006  3811.848856  4292.646199  3125.849003  \n",
       "4630427  2006  5513.822188  6108.127854  4576.849026  \n",
       "\n",
       "[511920 rows x 10 columns]"
      ]
     },
     "execution_count": 34,
     "metadata": {},
     "output_type": "execute_result"
    }
   ],
   "source": [
    "cdf"
   ]
  },
  {
   "cell_type": "code",
   "execution_count": 35,
   "metadata": {},
   "outputs": [],
   "source": [
    "each_year = cdf[cdf.sex==\"Both\"].groupby(['age', 'year', \"location\"]).agg(\n",
    "    {'val': 'sum',\n",
    "    'upper': 'sum',\n",
    "    'lower': 'sum'}\n",
    ").sort_values(by='age', key=lambda x: x.str.split(' ', expand=True)[0].astype('int'))"
   ]
  },
  {
   "cell_type": "code",
   "execution_count": 48,
   "metadata": {},
   "outputs": [
    {
     "data": {
      "text/html": [
       "<div>\n",
       "<style scoped>\n",
       "    .dataframe tbody tr th:only-of-type {\n",
       "        vertical-align: middle;\n",
       "    }\n",
       "\n",
       "    .dataframe tbody tr th {\n",
       "        vertical-align: top;\n",
       "    }\n",
       "\n",
       "    .dataframe thead th {\n",
       "        text-align: right;\n",
       "    }\n",
       "</style>\n",
       "<table border=\"1\" class=\"dataframe\">\n",
       "  <thead>\n",
       "    <tr style=\"text-align: right;\">\n",
       "      <th></th>\n",
       "      <th>age</th>\n",
       "      <th>year</th>\n",
       "      <th>location</th>\n",
       "      <th>val</th>\n",
       "      <th>upper</th>\n",
       "      <th>lower</th>\n",
       "    </tr>\n",
       "  </thead>\n",
       "  <tbody>\n",
       "    <tr>\n",
       "      <th>0</th>\n",
       "      <td>1 to 4</td>\n",
       "      <td>1990</td>\n",
       "      <td>Afghanistan</td>\n",
       "      <td>123.802161</td>\n",
       "      <td>251.569842</td>\n",
       "      <td>45.748402</td>\n",
       "    </tr>\n",
       "    <tr>\n",
       "      <th>1</th>\n",
       "      <td>1 to 4</td>\n",
       "      <td>2010</td>\n",
       "      <td>Argentina</td>\n",
       "      <td>47.757941</td>\n",
       "      <td>59.538155</td>\n",
       "      <td>38.132899</td>\n",
       "    </tr>\n",
       "    <tr>\n",
       "      <th>2</th>\n",
       "      <td>1 to 4</td>\n",
       "      <td>2010</td>\n",
       "      <td>Algeria</td>\n",
       "      <td>112.904407</td>\n",
       "      <td>185.349133</td>\n",
       "      <td>63.360739</td>\n",
       "    </tr>\n",
       "    <tr>\n",
       "      <th>3</th>\n",
       "      <td>1 to 4</td>\n",
       "      <td>2010</td>\n",
       "      <td>Albania</td>\n",
       "      <td>18.931777</td>\n",
       "      <td>28.403113</td>\n",
       "      <td>10.330312</td>\n",
       "    </tr>\n",
       "    <tr>\n",
       "      <th>4</th>\n",
       "      <td>1 to 4</td>\n",
       "      <td>2010</td>\n",
       "      <td>Afghanistan</td>\n",
       "      <td>95.790463</td>\n",
       "      <td>186.120422</td>\n",
       "      <td>47.527911</td>\n",
       "    </tr>\n",
       "    <tr>\n",
       "      <th>...</th>\n",
       "      <td>...</td>\n",
       "      <td>...</td>\n",
       "      <td>...</td>\n",
       "      <td>...</td>\n",
       "      <td>...</td>\n",
       "      <td>...</td>\n",
       "    </tr>\n",
       "    <tr>\n",
       "      <th>85315</th>\n",
       "      <td>85 plus</td>\n",
       "      <td>1999</td>\n",
       "      <td>Viet Nam</td>\n",
       "      <td>35701.561231</td>\n",
       "      <td>42351.176110</td>\n",
       "      <td>28336.014076</td>\n",
       "    </tr>\n",
       "    <tr>\n",
       "      <th>85316</th>\n",
       "      <td>85 plus</td>\n",
       "      <td>1999</td>\n",
       "      <td>Venezuela (Bolivarian Republic of)</td>\n",
       "      <td>7595.470933</td>\n",
       "      <td>8471.430913</td>\n",
       "      <td>6020.432246</td>\n",
       "    </tr>\n",
       "    <tr>\n",
       "      <th>85317</th>\n",
       "      <td>85 plus</td>\n",
       "      <td>1999</td>\n",
       "      <td>Uzbekistan</td>\n",
       "      <td>17370.999785</td>\n",
       "      <td>18259.860352</td>\n",
       "      <td>15613.066091</td>\n",
       "    </tr>\n",
       "    <tr>\n",
       "      <th>85318</th>\n",
       "      <td>85 plus</td>\n",
       "      <td>1999</td>\n",
       "      <td>United States of America</td>\n",
       "      <td>402665.507811</td>\n",
       "      <td>438028.946860</td>\n",
       "      <td>334826.310303</td>\n",
       "    </tr>\n",
       "    <tr>\n",
       "      <th>85319</th>\n",
       "      <td>85 plus</td>\n",
       "      <td>2019</td>\n",
       "      <td>Zimbabwe</td>\n",
       "      <td>2499.231806</td>\n",
       "      <td>3167.141289</td>\n",
       "      <td>1950.361929</td>\n",
       "    </tr>\n",
       "  </tbody>\n",
       "</table>\n",
       "<p>85320 rows × 6 columns</p>\n",
       "</div>"
      ],
      "text/plain": [
       "           age  year                            location            val  \\\n",
       "0       1 to 4  1990                         Afghanistan     123.802161   \n",
       "1       1 to 4  2010                           Argentina      47.757941   \n",
       "2       1 to 4  2010                             Algeria     112.904407   \n",
       "3       1 to 4  2010                             Albania      18.931777   \n",
       "4       1 to 4  2010                         Afghanistan      95.790463   \n",
       "...        ...   ...                                 ...            ...   \n",
       "85315  85 plus  1999                            Viet Nam   35701.561231   \n",
       "85316  85 plus  1999  Venezuela (Bolivarian Republic of)    7595.470933   \n",
       "85317  85 plus  1999                          Uzbekistan   17370.999785   \n",
       "85318  85 plus  1999            United States of America  402665.507811   \n",
       "85319  85 plus  2019                            Zimbabwe    2499.231806   \n",
       "\n",
       "               upper          lower  \n",
       "0         251.569842      45.748402  \n",
       "1          59.538155      38.132899  \n",
       "2         185.349133      63.360739  \n",
       "3          28.403113      10.330312  \n",
       "4         186.120422      47.527911  \n",
       "...              ...            ...  \n",
       "85315   42351.176110   28336.014076  \n",
       "85316    8471.430913    6020.432246  \n",
       "85317   18259.860352   15613.066091  \n",
       "85318  438028.946860  334826.310303  \n",
       "85319    3167.141289    1950.361929  \n",
       "\n",
       "[85320 rows x 6 columns]"
      ]
     },
     "execution_count": 48,
     "metadata": {},
     "output_type": "execute_result"
    }
   ],
   "source": [
    "pd.DataFrame(each_year.to_records())"
   ]
  },
  {
   "cell_type": "code",
   "execution_count": 37,
   "metadata": {},
   "outputs": [
    {
     "data": {
      "text/html": [
       "<div>\n",
       "<style scoped>\n",
       "    .dataframe tbody tr th:only-of-type {\n",
       "        vertical-align: middle;\n",
       "    }\n",
       "\n",
       "    .dataframe tbody tr th {\n",
       "        vertical-align: top;\n",
       "    }\n",
       "\n",
       "    .dataframe thead th {\n",
       "        text-align: right;\n",
       "    }\n",
       "</style>\n",
       "<table border=\"1\" class=\"dataframe\">\n",
       "  <thead>\n",
       "    <tr style=\"text-align: right;\">\n",
       "      <th></th>\n",
       "      <th></th>\n",
       "      <th></th>\n",
       "      <th>val</th>\n",
       "      <th>upper</th>\n",
       "      <th>lower</th>\n",
       "    </tr>\n",
       "    <tr>\n",
       "      <th>age</th>\n",
       "      <th>year</th>\n",
       "      <th>location</th>\n",
       "      <th></th>\n",
       "      <th></th>\n",
       "      <th></th>\n",
       "    </tr>\n",
       "  </thead>\n",
       "  <tbody>\n",
       "    <tr>\n",
       "      <th rowspan=\"5\" valign=\"top\">1 to 4</th>\n",
       "      <th rowspan=\"5\" valign=\"top\">2019</th>\n",
       "      <th>Indonesia</th>\n",
       "      <td>212.012270</td>\n",
       "      <td>339.536022</td>\n",
       "      <td>149.955315</td>\n",
       "    </tr>\n",
       "    <tr>\n",
       "      <th>India</th>\n",
       "      <td>969.902351</td>\n",
       "      <td>1313.288294</td>\n",
       "      <td>718.470924</td>\n",
       "    </tr>\n",
       "    <tr>\n",
       "      <th>Hungary</th>\n",
       "      <td>1.380377</td>\n",
       "      <td>1.899329</td>\n",
       "      <td>0.874539</td>\n",
       "    </tr>\n",
       "    <tr>\n",
       "      <th>Honduras</th>\n",
       "      <td>18.208949</td>\n",
       "      <td>34.032755</td>\n",
       "      <td>7.379660</td>\n",
       "    </tr>\n",
       "    <tr>\n",
       "      <th>Haiti</th>\n",
       "      <td>211.209118</td>\n",
       "      <td>366.792208</td>\n",
       "      <td>79.631302</td>\n",
       "    </tr>\n",
       "    <tr>\n",
       "      <th>...</th>\n",
       "      <th>...</th>\n",
       "      <th>...</th>\n",
       "      <td>...</td>\n",
       "      <td>...</td>\n",
       "      <td>...</td>\n",
       "    </tr>\n",
       "    <tr>\n",
       "      <th rowspan=\"5\" valign=\"top\">85 plus</th>\n",
       "      <th rowspan=\"5\" valign=\"top\">2019</th>\n",
       "      <th>Algeria</th>\n",
       "      <td>32139.094540</td>\n",
       "      <td>36959.176300</td>\n",
       "      <td>27104.176321</td>\n",
       "    </tr>\n",
       "    <tr>\n",
       "      <th>Albania</th>\n",
       "      <td>5382.987286</td>\n",
       "      <td>6600.857457</td>\n",
       "      <td>4160.189293</td>\n",
       "    </tr>\n",
       "    <tr>\n",
       "      <th>Afghanistan</th>\n",
       "      <td>6636.642420</td>\n",
       "      <td>7847.148201</td>\n",
       "      <td>5045.227029</td>\n",
       "    </tr>\n",
       "    <tr>\n",
       "      <th>Zambia</th>\n",
       "      <td>2359.632430</td>\n",
       "      <td>2837.981251</td>\n",
       "      <td>1855.141774</td>\n",
       "    </tr>\n",
       "    <tr>\n",
       "      <th>Zimbabwe</th>\n",
       "      <td>2499.231806</td>\n",
       "      <td>3167.141289</td>\n",
       "      <td>1950.361929</td>\n",
       "    </tr>\n",
       "  </tbody>\n",
       "</table>\n",
       "<p>2844 rows × 3 columns</p>\n",
       "</div>"
      ],
      "text/plain": [
       "                                   val         upper         lower\n",
       "age     year location                                             \n",
       "1 to 4  2019 Indonesia      212.012270    339.536022    149.955315\n",
       "             India          969.902351   1313.288294    718.470924\n",
       "             Hungary          1.380377      1.899329      0.874539\n",
       "             Honduras        18.208949     34.032755      7.379660\n",
       "             Haiti          211.209118    366.792208     79.631302\n",
       "...                                ...           ...           ...\n",
       "85 plus 2019 Algeria      32139.094540  36959.176300  27104.176321\n",
       "             Albania       5382.987286   6600.857457   4160.189293\n",
       "             Afghanistan   6636.642420   7847.148201   5045.227029\n",
       "             Zambia        2359.632430   2837.981251   1855.141774\n",
       "             Zimbabwe      2499.231806   3167.141289   1950.361929\n",
       "\n",
       "[2844 rows x 3 columns]"
      ]
     },
     "execution_count": 37,
     "metadata": {},
     "output_type": "execute_result"
    }
   ],
   "source": [
    "each_year.query(\"year==2019\")"
   ]
  },
  {
   "cell_type": "code",
   "execution_count": 36,
   "metadata": {},
   "outputs": [
    {
     "ename": "ValueError",
     "evalue": "shape mismatch: objects cannot be broadcast to a single shape",
     "output_type": "error",
     "traceback": [
      "\u001b[0;31m---------------------------------------------------------------------------\u001b[0m",
      "\u001b[0;31mValueError\u001b[0m                                Traceback (most recent call last)",
      "\u001b[0;32m/tmp/ipykernel_2222837/3040017370.py\u001b[0m in \u001b[0;36m<module>\u001b[0;34m\u001b[0m\n\u001b[1;32m      2\u001b[0m \u001b[0;32mfor\u001b[0m \u001b[0mi\u001b[0m \u001b[0;32min\u001b[0m \u001b[0mrange\u001b[0m\u001b[0;34m(\u001b[0m\u001b[0;36m2\u001b[0m\u001b[0;34m)\u001b[0m\u001b[0;34m:\u001b[0m\u001b[0;34m\u001b[0m\u001b[0;34m\u001b[0m\u001b[0m\n\u001b[1;32m      3\u001b[0m     \u001b[0;32mfor\u001b[0m \u001b[0mj\u001b[0m \u001b[0;32min\u001b[0m \u001b[0mrange\u001b[0m\u001b[0;34m(\u001b[0m\u001b[0;36m2\u001b[0m\u001b[0;34m)\u001b[0m\u001b[0;34m:\u001b[0m\u001b[0;34m\u001b[0m\u001b[0;34m\u001b[0m\u001b[0m\n\u001b[0;32m----> 4\u001b[0;31m         \u001b[0maxs\u001b[0m\u001b[0;34m[\u001b[0m\u001b[0mi\u001b[0m\u001b[0;34m,\u001b[0m \u001b[0mj\u001b[0m\u001b[0;34m]\u001b[0m\u001b[0;34m.\u001b[0m\u001b[0mbar\u001b[0m\u001b[0;34m(\u001b[0m\u001b[0mx\u001b[0m\u001b[0;34m=\u001b[0m\u001b[0mx_axis_label\u001b[0m\u001b[0;34m,\u001b[0m \u001b[0mheight\u001b[0m\u001b[0;34m=\u001b[0m\u001b[0meach_year\u001b[0m\u001b[0;34m.\u001b[0m\u001b[0mquery\u001b[0m\u001b[0;34m(\u001b[0m\u001b[0;34mf\"year==20{i:02d}\"\u001b[0m\u001b[0;34m)\u001b[0m\u001b[0;34m.\u001b[0m\u001b[0mval\u001b[0m\u001b[0;34m.\u001b[0m\u001b[0mvalues\u001b[0m\u001b[0;34m)\u001b[0m\u001b[0;34m\u001b[0m\u001b[0;34m\u001b[0m\u001b[0m\n\u001b[0m\u001b[1;32m      5\u001b[0m \u001b[0;31m# axs[1].bar(x=x_axis_label, height=each_year.query(\"year==2019\").val.values)\u001b[0m\u001b[0;34m\u001b[0m\u001b[0;34m\u001b[0m\u001b[0m\n\u001b[1;32m      6\u001b[0m \u001b[0mplt\u001b[0m\u001b[0;34m.\u001b[0m\u001b[0mshow\u001b[0m\u001b[0;34m(\u001b[0m\u001b[0;34m)\u001b[0m\u001b[0;34m\u001b[0m\u001b[0;34m\u001b[0m\u001b[0m\n",
      "\u001b[0;32m~/miniconda3/envs/data/lib/python3.9/site-packages/matplotlib/__init__.py\u001b[0m in \u001b[0;36minner\u001b[0;34m(ax, data, *args, **kwargs)\u001b[0m\n\u001b[1;32m   1410\u001b[0m     \u001b[0;32mdef\u001b[0m \u001b[0minner\u001b[0m\u001b[0;34m(\u001b[0m\u001b[0max\u001b[0m\u001b[0;34m,\u001b[0m \u001b[0;34m*\u001b[0m\u001b[0margs\u001b[0m\u001b[0;34m,\u001b[0m \u001b[0mdata\u001b[0m\u001b[0;34m=\u001b[0m\u001b[0;32mNone\u001b[0m\u001b[0;34m,\u001b[0m \u001b[0;34m**\u001b[0m\u001b[0mkwargs\u001b[0m\u001b[0;34m)\u001b[0m\u001b[0;34m:\u001b[0m\u001b[0;34m\u001b[0m\u001b[0;34m\u001b[0m\u001b[0m\n\u001b[1;32m   1411\u001b[0m         \u001b[0;32mif\u001b[0m \u001b[0mdata\u001b[0m \u001b[0;32mis\u001b[0m \u001b[0;32mNone\u001b[0m\u001b[0;34m:\u001b[0m\u001b[0;34m\u001b[0m\u001b[0;34m\u001b[0m\u001b[0m\n\u001b[0;32m-> 1412\u001b[0;31m             \u001b[0;32mreturn\u001b[0m \u001b[0mfunc\u001b[0m\u001b[0;34m(\u001b[0m\u001b[0max\u001b[0m\u001b[0;34m,\u001b[0m \u001b[0;34m*\u001b[0m\u001b[0mmap\u001b[0m\u001b[0;34m(\u001b[0m\u001b[0msanitize_sequence\u001b[0m\u001b[0;34m,\u001b[0m \u001b[0margs\u001b[0m\u001b[0;34m)\u001b[0m\u001b[0;34m,\u001b[0m \u001b[0;34m**\u001b[0m\u001b[0mkwargs\u001b[0m\u001b[0;34m)\u001b[0m\u001b[0;34m\u001b[0m\u001b[0;34m\u001b[0m\u001b[0m\n\u001b[0m\u001b[1;32m   1413\u001b[0m \u001b[0;34m\u001b[0m\u001b[0m\n\u001b[1;32m   1414\u001b[0m         \u001b[0mbound\u001b[0m \u001b[0;34m=\u001b[0m \u001b[0mnew_sig\u001b[0m\u001b[0;34m.\u001b[0m\u001b[0mbind\u001b[0m\u001b[0;34m(\u001b[0m\u001b[0max\u001b[0m\u001b[0;34m,\u001b[0m \u001b[0;34m*\u001b[0m\u001b[0margs\u001b[0m\u001b[0;34m,\u001b[0m \u001b[0;34m**\u001b[0m\u001b[0mkwargs\u001b[0m\u001b[0;34m)\u001b[0m\u001b[0;34m\u001b[0m\u001b[0;34m\u001b[0m\u001b[0m\n",
      "\u001b[0;32m~/miniconda3/envs/data/lib/python3.9/site-packages/matplotlib/axes/_axes.py\u001b[0m in \u001b[0;36mbar\u001b[0;34m(self, x, height, width, bottom, align, **kwargs)\u001b[0m\n\u001b[1;32m   2340\u001b[0m                 \u001b[0myerr\u001b[0m \u001b[0;34m=\u001b[0m \u001b[0mself\u001b[0m\u001b[0;34m.\u001b[0m\u001b[0m_convert_dx\u001b[0m\u001b[0;34m(\u001b[0m\u001b[0myerr\u001b[0m\u001b[0;34m,\u001b[0m \u001b[0my0\u001b[0m\u001b[0;34m,\u001b[0m \u001b[0my\u001b[0m\u001b[0;34m,\u001b[0m \u001b[0mself\u001b[0m\u001b[0;34m.\u001b[0m\u001b[0mconvert_yunits\u001b[0m\u001b[0;34m)\u001b[0m\u001b[0;34m\u001b[0m\u001b[0;34m\u001b[0m\u001b[0m\n\u001b[1;32m   2341\u001b[0m \u001b[0;34m\u001b[0m\u001b[0m\n\u001b[0;32m-> 2342\u001b[0;31m         x, height, width, y, linewidth, hatch = np.broadcast_arrays(\n\u001b[0m\u001b[1;32m   2343\u001b[0m             \u001b[0;31m# Make args iterable too.\u001b[0m\u001b[0;34m\u001b[0m\u001b[0;34m\u001b[0m\u001b[0m\n\u001b[1;32m   2344\u001b[0m             np.atleast_1d(x), height, width, y, linewidth, hatch)\n",
      "\u001b[0;32m<__array_function__ internals>\u001b[0m in \u001b[0;36mbroadcast_arrays\u001b[0;34m(*args, **kwargs)\u001b[0m\n",
      "\u001b[0;32m~/miniconda3/envs/data/lib/python3.9/site-packages/numpy/lib/stride_tricks.py\u001b[0m in \u001b[0;36mbroadcast_arrays\u001b[0;34m(subok, *args)\u001b[0m\n\u001b[1;32m    536\u001b[0m     \u001b[0margs\u001b[0m \u001b[0;34m=\u001b[0m \u001b[0;34m[\u001b[0m\u001b[0mnp\u001b[0m\u001b[0;34m.\u001b[0m\u001b[0marray\u001b[0m\u001b[0;34m(\u001b[0m\u001b[0m_m\u001b[0m\u001b[0;34m,\u001b[0m \u001b[0mcopy\u001b[0m\u001b[0;34m=\u001b[0m\u001b[0;32mFalse\u001b[0m\u001b[0;34m,\u001b[0m \u001b[0msubok\u001b[0m\u001b[0;34m=\u001b[0m\u001b[0msubok\u001b[0m\u001b[0;34m)\u001b[0m \u001b[0;32mfor\u001b[0m \u001b[0m_m\u001b[0m \u001b[0;32min\u001b[0m \u001b[0margs\u001b[0m\u001b[0;34m]\u001b[0m\u001b[0;34m\u001b[0m\u001b[0;34m\u001b[0m\u001b[0m\n\u001b[1;32m    537\u001b[0m \u001b[0;34m\u001b[0m\u001b[0m\n\u001b[0;32m--> 538\u001b[0;31m     \u001b[0mshape\u001b[0m \u001b[0;34m=\u001b[0m \u001b[0m_broadcast_shape\u001b[0m\u001b[0;34m(\u001b[0m\u001b[0;34m*\u001b[0m\u001b[0margs\u001b[0m\u001b[0;34m)\u001b[0m\u001b[0;34m\u001b[0m\u001b[0;34m\u001b[0m\u001b[0m\n\u001b[0m\u001b[1;32m    539\u001b[0m \u001b[0;34m\u001b[0m\u001b[0m\n\u001b[1;32m    540\u001b[0m     \u001b[0;32mif\u001b[0m \u001b[0mall\u001b[0m\u001b[0;34m(\u001b[0m\u001b[0marray\u001b[0m\u001b[0;34m.\u001b[0m\u001b[0mshape\u001b[0m \u001b[0;34m==\u001b[0m \u001b[0mshape\u001b[0m \u001b[0;32mfor\u001b[0m \u001b[0marray\u001b[0m \u001b[0;32min\u001b[0m \u001b[0margs\u001b[0m\u001b[0;34m)\u001b[0m\u001b[0;34m:\u001b[0m\u001b[0;34m\u001b[0m\u001b[0;34m\u001b[0m\u001b[0m\n",
      "\u001b[0;32m~/miniconda3/envs/data/lib/python3.9/site-packages/numpy/lib/stride_tricks.py\u001b[0m in \u001b[0;36m_broadcast_shape\u001b[0;34m(*args)\u001b[0m\n\u001b[1;32m    418\u001b[0m     \u001b[0;31m# use the old-iterator because np.nditer does not handle size 0 arrays\u001b[0m\u001b[0;34m\u001b[0m\u001b[0;34m\u001b[0m\u001b[0m\n\u001b[1;32m    419\u001b[0m     \u001b[0;31m# consistently\u001b[0m\u001b[0;34m\u001b[0m\u001b[0;34m\u001b[0m\u001b[0m\n\u001b[0;32m--> 420\u001b[0;31m     \u001b[0mb\u001b[0m \u001b[0;34m=\u001b[0m \u001b[0mnp\u001b[0m\u001b[0;34m.\u001b[0m\u001b[0mbroadcast\u001b[0m\u001b[0;34m(\u001b[0m\u001b[0;34m*\u001b[0m\u001b[0margs\u001b[0m\u001b[0;34m[\u001b[0m\u001b[0;34m:\u001b[0m\u001b[0;36m32\u001b[0m\u001b[0;34m]\u001b[0m\u001b[0;34m)\u001b[0m\u001b[0;34m\u001b[0m\u001b[0;34m\u001b[0m\u001b[0m\n\u001b[0m\u001b[1;32m    421\u001b[0m     \u001b[0;31m# unfortunately, it cannot handle 32 or more arguments directly\u001b[0m\u001b[0;34m\u001b[0m\u001b[0;34m\u001b[0m\u001b[0m\n\u001b[1;32m    422\u001b[0m     \u001b[0;32mfor\u001b[0m \u001b[0mpos\u001b[0m \u001b[0;32min\u001b[0m \u001b[0mrange\u001b[0m\u001b[0;34m(\u001b[0m\u001b[0;36m32\u001b[0m\u001b[0;34m,\u001b[0m \u001b[0mlen\u001b[0m\u001b[0;34m(\u001b[0m\u001b[0margs\u001b[0m\u001b[0;34m)\u001b[0m\u001b[0;34m,\u001b[0m \u001b[0;36m31\u001b[0m\u001b[0;34m)\u001b[0m\u001b[0;34m:\u001b[0m\u001b[0;34m\u001b[0m\u001b[0;34m\u001b[0m\u001b[0m\n",
      "\u001b[0;31mValueError\u001b[0m: shape mismatch: objects cannot be broadcast to a single shape"
     ]
    },
    {
     "data": {
      "image/png": "[encoded data removed]",
      "text/plain": [
       "<Figure size 1080x1080 with 4 Axes>"
      ]
     },
     "metadata": {
      "needs_background": "light"
     },
     "output_type": "display_data"
    }
   ],
   "source": [
    "fig, axs = plt.subplots(nrows=2, ncols=2, figsize=(15, 15))\n",
    "for i in range(2):\n",
    "    for j in range(2):\n",
    "        axs[i, j].bar(x=x_axis_label, height=each_year.query(f\"year==20{i:02d}\").val.values)\n",
    "# axs[1].bar(x=x_axis_label, height=each_year.query(\"year==2019\").val.values)\n",
    "plt.show()"
   ]
  },
  {
   "cell_type": "code",
   "execution_count": 134,
   "metadata": {},
   "outputs": [
    {
     "name": "stdout",
     "output_type": "stream",
     "text": [
      "2001\n"
     ]
    }
   ],
   "source": []
  },
  {
   "cell_type": "code",
   "execution_count": 97,
   "metadata": {},
   "outputs": [],
   "source": [
    "from urllib.request import urlopen\n",
    "import json\n",
    "with urlopen('https://raw.githubusercontent.com/plotly/datasets/master/geojson-counties-fips.json') as response:\n",
    "    counties = json.load(response)\n"
   ]
  },
  {
   "cell_type": "code",
   "execution_count": 13,
   "metadata": {},
   "outputs": [],
   "source": []
  },
  {
   "cell_type": "code",
   "execution_count": 14,
   "metadata": {},
   "outputs": [
    {
     "data": {
      "text/html": [
       "<div>\n",
       "<style scoped>\n",
       "    .dataframe tbody tr th:only-of-type {\n",
       "        vertical-align: middle;\n",
       "    }\n",
       "\n",
       "    .dataframe tbody tr th {\n",
       "        vertical-align: top;\n",
       "    }\n",
       "\n",
       "    .dataframe thead th {\n",
       "        text-align: right;\n",
       "    }\n",
       "</style>\n",
       "<table border=\"1\" class=\"dataframe\">\n",
       "  <thead>\n",
       "    <tr style=\"text-align: right;\">\n",
       "      <th></th>\n",
       "      <th>location</th>\n",
       "      <th>val</th>\n",
       "      <th>upper</th>\n",
       "      <th>lower</th>\n",
       "    </tr>\n",
       "  </thead>\n",
       "  <tbody>\n",
       "    <tr>\n",
       "      <th>0</th>\n",
       "      <td>Afghanistan</td>\n",
       "      <td>2.046121e+06</td>\n",
       "      <td>2.638194e+06</td>\n",
       "      <td>1.521819e+06</td>\n",
       "    </tr>\n",
       "    <tr>\n",
       "      <th>1</th>\n",
       "      <td>Albania</td>\n",
       "      <td>3.898698e+05</td>\n",
       "      <td>4.484619e+05</td>\n",
       "      <td>3.305901e+05</td>\n",
       "    </tr>\n",
       "    <tr>\n",
       "      <th>2</th>\n",
       "      <td>Algeria</td>\n",
       "      <td>2.666153e+06</td>\n",
       "      <td>3.250194e+06</td>\n",
       "      <td>2.146378e+06</td>\n",
       "    </tr>\n",
       "    <tr>\n",
       "      <th>3</th>\n",
       "      <td>Argentina</td>\n",
       "      <td>3.620805e+06</td>\n",
       "      <td>3.898845e+06</td>\n",
       "      <td>3.263956e+06</td>\n",
       "    </tr>\n",
       "    <tr>\n",
       "      <th>4</th>\n",
       "      <td>Armenia</td>\n",
       "      <td>4.838629e+05</td>\n",
       "      <td>5.152785e+05</td>\n",
       "      <td>4.461976e+05</td>\n",
       "    </tr>\n",
       "  </tbody>\n",
       "</table>\n",
       "</div>"
      ],
      "text/plain": [
       "      location           val         upper         lower\n",
       "0  Afghanistan  2.046121e+06  2.638194e+06  1.521819e+06\n",
       "1      Albania  3.898698e+05  4.484619e+05  3.305901e+05\n",
       "2      Algeria  2.666153e+06  3.250194e+06  2.146378e+06\n",
       "3    Argentina  3.620805e+06  3.898845e+06  3.263956e+06\n",
       "4      Armenia  4.838629e+05  5.152785e+05  4.461976e+05"
      ]
     },
     "execution_count": 14,
     "metadata": {},
     "output_type": "execute_result"
    }
   ],
   "source": [
    "total_by_country.head()"
   ]
  },
  {
   "cell_type": "code",
   "execution_count": 51,
   "metadata": {},
   "outputs": [
    {
     "data": {
      "application/vnd.jupyter.widget-view+json": {
       "model_id": "0015d300708d4073b8dec9742b1ad839",
       "version_major": 2,
       "version_minor": 0
      },
      "text/plain": [
       "  0%|          | 0/8 [00:00<?, ?it/s]"
      ]
     },
     "metadata": {},
     "output_type": "display_data"
    },
    {
     "name": "stdout",
     "output_type": "stream",
     "text": [
      "Country Cleaning Report:\n",
      "\t157 values cleaned (100.0%)\n",
      "Result contains 157 (100.0%) values in the correct format and 0 null values (0.0%)\n"
     ]
    }
   ],
   "source": [
    "# add country iso codes\n",
    "total_by_country = clean_country(total_by_country, 'location', output_format='alpha-3')\n"
   ]
  },
  {
   "cell_type": "code",
   "execution_count": 93,
   "metadata": {},
   "outputs": [
    {
     "data": {
      "text/html": [
       "<div>\n",
       "<style scoped>\n",
       "    .dataframe tbody tr th:only-of-type {\n",
       "        vertical-align: middle;\n",
       "    }\n",
       "\n",
       "    .dataframe tbody tr th {\n",
       "        vertical-align: top;\n",
       "    }\n",
       "\n",
       "    .dataframe thead th {\n",
       "        text-align: right;\n",
       "    }\n",
       "</style>\n",
       "<table border=\"1\" class=\"dataframe\">\n",
       "  <thead>\n",
       "    <tr style=\"text-align: right;\">\n",
       "      <th></th>\n",
       "      <th>val</th>\n",
       "      <th>upper</th>\n",
       "      <th>lower</th>\n",
       "      <th>nn</th>\n",
       "    </tr>\n",
       "  </thead>\n",
       "  <tbody>\n",
       "    <tr>\n",
       "      <th>count</th>\n",
       "      <td>1.570000e+02</td>\n",
       "      <td>1.570000e+02</td>\n",
       "      <td>1.570000e+02</td>\n",
       "      <td>157.000000</td>\n",
       "    </tr>\n",
       "    <tr>\n",
       "      <th>mean</th>\n",
       "      <td>4.648683e+06</td>\n",
       "      <td>5.515382e+06</td>\n",
       "      <td>3.914767e+06</td>\n",
       "      <td>46.486824</td>\n",
       "    </tr>\n",
       "    <tr>\n",
       "      <th>std</th>\n",
       "      <td>1.735093e+07</td>\n",
       "      <td>2.009171e+07</td>\n",
       "      <td>1.486240e+07</td>\n",
       "      <td>173.509335</td>\n",
       "    </tr>\n",
       "    <tr>\n",
       "      <th>min</th>\n",
       "      <td>2.731631e+04</td>\n",
       "      <td>3.629686e+04</td>\n",
       "      <td>2.055393e+04</td>\n",
       "      <td>0.273160</td>\n",
       "    </tr>\n",
       "    <tr>\n",
       "      <th>25%</th>\n",
       "      <td>4.033722e+05</td>\n",
       "      <td>5.237928e+05</td>\n",
       "      <td>3.049161e+05</td>\n",
       "      <td>4.033720</td>\n",
       "    </tr>\n",
       "    <tr>\n",
       "      <th>50%</th>\n",
       "      <td>9.322235e+05</td>\n",
       "      <td>1.243332e+06</td>\n",
       "      <td>7.193531e+05</td>\n",
       "      <td>9.322230</td>\n",
       "    </tr>\n",
       "    <tr>\n",
       "      <th>75%</th>\n",
       "      <td>2.801925e+06</td>\n",
       "      <td>3.275085e+06</td>\n",
       "      <td>2.232634e+06</td>\n",
       "      <td>28.019250</td>\n",
       "    </tr>\n",
       "    <tr>\n",
       "      <th>max</th>\n",
       "      <td>1.877723e+08</td>\n",
       "      <td>2.182027e+08</td>\n",
       "      <td>1.602508e+08</td>\n",
       "      <td>1877.722510</td>\n",
       "    </tr>\n",
       "  </tbody>\n",
       "</table>\n",
       "</div>"
      ],
      "text/plain": [
       "                val         upper         lower           nn\n",
       "count  1.570000e+02  1.570000e+02  1.570000e+02   157.000000\n",
       "mean   4.648683e+06  5.515382e+06  3.914767e+06    46.486824\n",
       "std    1.735093e+07  2.009171e+07  1.486240e+07   173.509335\n",
       "min    2.731631e+04  3.629686e+04  2.055393e+04     0.273160\n",
       "25%    4.033722e+05  5.237928e+05  3.049161e+05     4.033720\n",
       "50%    9.322235e+05  1.243332e+06  7.193531e+05     9.322230\n",
       "75%    2.801925e+06  3.275085e+06  2.232634e+06    28.019250\n",
       "max    1.877723e+08  2.182027e+08  1.602508e+08  1877.722510"
      ]
     },
     "execution_count": 93,
     "metadata": {},
     "output_type": "execute_result"
    }
   ],
   "source": [
    "total_by_country.describe()"
   ]
  },
  {
   "cell_type": "code",
   "execution_count": null,
   "metadata": {},
   "outputs": [],
   "source": [
    "# i really like to do the geomap but plotly don't show the map color correctly\n",
    "# so let do and scatter!"
   ]
  },
  {
   "cell_type": "code",
   "execution_count": 106,
   "metadata": {},
   "outputs": [
    {
     "data": {
      "application/vnd.plotly.v1+json": {
       "config": {
        "plotlyServerURL": "https://plot.ly"
       },
       "data": [
        {
         "coloraxis": "coloraxis",
         "geo": "geo",
         "hovertemplate": "<b>%{hovertext}</b><br><br>location_clean=%{location}<br>val=%{z}<extra></extra>",
         "hovertext": [
          "Afghanistan",
          "Albania",
          "Algeria",
          "Argentina",
          "Armenia",
          "Australia",
          "Austria",
          "Azerbaijan",
          "Bahrain",
          "Bangladesh",
          "Belarus",
          "Belgium",
          "Benin",
          "Bolivia (Plurinational State of)",
          "Bosnia and Herzegovina",
          "Botswana",
          "Brazil",
          "Bulgaria",
          "Burkina Faso",
          "Burundi",
          "Cambodia",
          "Cameroon",
          "Canada",
          "Central African Republic",
          "Chad",
          "Chile",
          "China",
          "Colombia",
          "Congo",
          "Costa Rica",
          "Croatia",
          "Cuba",
          "Cyprus",
          "Czechia",
          "Côte d'Ivoire",
          "Democratic People's Republic of Korea",
          "Democratic Republic of the Congo",
          "Denmark",
          "Dominican Republic",
          "Ecuador",
          "Egypt",
          "El Salvador",
          "Equatorial Guinea",
          "Eritrea",
          "Estonia",
          "Eswatini",
          "Ethiopia",
          "Finland",
          "France",
          "Gabon",
          "Gambia",
          "Georgia",
          "Germany",
          "Ghana",
          "Greece",
          "Guatemala",
          "Guinea",
          "Guinea-Bissau",
          "Haiti",
          "Honduras",
          "Hungary",
          "India",
          "Indonesia",
          "Iran (Islamic Republic of)",
          "Iraq",
          "Ireland",
          "Israel",
          "Italy",
          "Jamaica",
          "Japan",
          "Jordan",
          "Kazakhstan",
          "Kenya",
          "Kuwait",
          "Kyrgyzstan",
          "Lao People's Democratic Republic",
          "Latvia",
          "Lebanon",
          "Lesotho",
          "Liberia",
          "Libya",
          "Lithuania",
          "Madagascar",
          "Malawi",
          "Malaysia",
          "Mali",
          "Mauritania",
          "Mauritius",
          "Mexico",
          "Mongolia",
          "Morocco",
          "Mozambique",
          "Myanmar",
          "Namibia",
          "Nepal",
          "Netherlands",
          "New Zealand",
          "Nicaragua",
          "Niger",
          "Nigeria",
          "North Macedonia",
          "Norway",
          "Oman",
          "Pakistan",
          "Palestine",
          "Panama",
          "Papua New Guinea",
          "Paraguay",
          "Peru",
          "Philippines",
          "Poland",
          "Portugal",
          "Puerto Rico",
          "Qatar",
          "Republic of Korea",
          "Republic of Moldova",
          "Romania",
          "Russian Federation",
          "Rwanda",
          "Saudi Arabia",
          "Senegal",
          "Serbia",
          "Sierra Leone",
          "Singapore",
          "Slovakia",
          "Slovenia",
          "Somalia",
          "South Africa",
          "South Sudan",
          "Spain",
          "Sri Lanka",
          "Sudan",
          "Sweden",
          "Switzerland",
          "Syrian Arab Republic",
          "Taiwan (Province of China)",
          "Tajikistan",
          "Thailand",
          "Timor-Leste",
          "Togo",
          "Trinidad and Tobago",
          "Tunisia",
          "Turkey",
          "Turkmenistan",
          "Uganda",
          "Ukraine",
          "United Arab Emirates",
          "United Kingdom",
          "United Republic of Tanzania",
          "United States of America",
          "Uruguay",
          "Uzbekistan",
          "Venezuela (Bolivarian Republic of)",
          "Viet Nam",
          "Yemen",
          "Zambia",
          "Zimbabwe"
         ],
         "locations": [
          "AFG",
          "ALB",
          "DZA",
          "ARG",
          "ARM",
          "AUS",
          "AUT",
          "AZE",
          "BHR",
          "BGD",
          "BLR",
          "BEL",
          "BEN",
          "BOL",
          "BIH",
          "BWA",
          "BRA",
          "BGR",
          "BFA",
          "BDI",
          "KHM",
          "CMR",
          "CAN",
          "CAF",
          "TCD",
          "CHL",
          "CHN",
          "COL",
          "COG",
          "CRI",
          "HRV",
          "CUB",
          "CYP",
          "CZE",
          "CIV",
          "PRK",
          "COD",
          "DNK",
          "DOM",
          "ECU",
          "EGY",
          "SLV",
          "GNQ",
          "ERI",
          "EST",
          "SWZ",
          "ETH",
          "FIN",
          "FRA",
          "GAB",
          "GMB",
          "GEO",
          "DEU",
          "GHA",
          "GRC",
          "GTM",
          "GIN",
          "GNB",
          "HTI",
          "HND",
          "HUN",
          "IND",
          "IDN",
          "IRN",
          "IRQ",
          "IRL",
          "ISR",
          "ITA",
          "JAM",
          "JPN",
          "JOR",
          "KAZ",
          "KEN",
          "KWT",
          "KGZ",
          "LAO",
          "LVA",
          "LBN",
          "LSO",
          "LBR",
          "LBY",
          "LTU",
          "MDG",
          "MWI",
          "MYS",
          "MLI",
          "MRT",
          "MUS",
          "MEX",
          "MNG",
          "MAR",
          "MOZ",
          "MMR",
          "NAM",
          "NPL",
          "NLD",
          "NZL",
          "NIC",
          "NER",
          "NGA",
          "MKD",
          "NOR",
          "OMN",
          "PAK",
          "PSE",
          "PAN",
          "PNG",
          "PRY",
          "PER",
          "PHL",
          "POL",
          "PRT",
          "PRI",
          "QAT",
          "KOR",
          "MDA",
          "ROU",
          "RUS",
          "RWA",
          "SAU",
          "SEN",
          "SRB",
          "SLE",
          "SGP",
          "SVK",
          "SVN",
          "SOM",
          "ZAF",
          "SSD",
          "ESP",
          "LKA",
          "SDN",
          "SWE",
          "CHE",
          "SYR",
          "CHN",
          "TJK",
          "THA",
          "TLS",
          "TGO",
          "TTO",
          "TUN",
          "TUR",
          "TKM",
          "UGA",
          "UKR",
          "ARE",
          "GBR",
          "TZA",
          "USA",
          "URY",
          "UZB",
          "VEN",
          "VNM",
          "YEM",
          "ZMB",
          "ZWE"
         ],
         "name": "",
         "type": "choropleth",
         "z": [
          2229134.4197967923,
          376161.55595422734,
          2662267.839710527,
          4807244.601191589,
          536813.5471216751,
          2615419.148859005,
          1589192.8996070356,
          1294783.898193817,
          39185.27683646931,
          9151225.258970248,
          2942368.4985972415,
          1957981.096147194,
          403372.1630551778,
          597801.36642166,
          712394.6320231266,
          126922.98193573592,
          15450493.233353676,
          2948994.13785167,
          797482.9829955153,
          407087.24899116537,
          915085.651061654,
          885485.0061871243,
          4291432.370879069,
          260540.76753436643,
          501352.1615394141,
          1329251.7338077503,
          187772251.44674522,
          2801925.091135607,
          230542.60094026232,
          261254.02526169055,
          1078909.531126598,
          1548258.5280081085,
          126913.82801734892,
          2365835.1791863926,
          803896.4257774972,
          3787082.024260172,
          3107166.194603682,
          1072261.7731855835,
          684353.2615239915,
          772365.232841035,
          7065151.125133788,
          368997.33108007215,
          33626.34754001278,
          206390.45520119043,
          373588.1262786535,
          60409.45132110741,
          3018140.550724603,
          1018552.9383483353,
          9257538.7101592,
          96702.49125184515,
          74146.65043639799,
          1223565.0298786494,
          17600758.18053458,
          1193163.9716299046,
          2277507.8782954947,
          541609.6822865914,
          592084.7703980933,
          86480.16176446967,
          835131.0078165873,
          442447.5207013316,
          2858751.5543780234,
          90180291.47718921,
          19431984.509275753,
          5351845.025425201,
          2062725.080947652,
          592916.6567033095,
          647069.8069787789,
          11520867.869689144,
          235042.14918310835,
          20187309.967963375,
          280923.42489448295,
          2937919.573745765,
          1242319.651480969,
          99413.20815499756,
          691406.3262488861,
          466388.9505245679,
          693830.8890019961,
          494359.40332865936,
          168403.75225719257,
          159560.73467800845,
          340195.07998468657,
          870888.3824688268,
          1064675.5814933942,
          569779.2785103011,
          1756376.616697999,
          729435.1165920446,
          144625.55863896335,
          133034.00001484033,
          5649063.102761168,
          312243.2434024933,
          3159546.4989060606,
          942194.2554160791,
          5608205.01218578,
          135005.05533668443,
          1980046.0443307061,
          2643979.3477145797,
          575401.8876686802,
          260857.49364759872,
          581219.9349971351,
          6477732.03629739,
          467720.0800007135,
          823290.9951995929,
          158631.73173177562,
          12078793.462663502,
          201296.8816385051,
          201271.74063938513,
          515228.0375546209,
          324028.2986530595,
          1344221.2580957592,
          5619786.349252968,
          7879390.859653473,
          1958532.6823579466,
          426367.26394669985,
          27316.30768751153,
          4177175.200175774,
          932223.476683098,
          5760625.48994119,
          42279166.41745483,
          443800.2876282171,
          1290608.5727446887,
          554465.4102691123,
          2503763.4833799102,
          320173.93657599227,
          297727.6971056871,
          1105997.9911980547,
          360005.8766085019,
          556482.7378480224,
          3693552.249591574,
          299374.6485676707,
          7225243.4229221605,
          1798821.8022579208,
          2494383.9072610913,
          1861136.7632222313,
          1219267.3068835016,
          1315106.4674855624,
          2067810.5794628304,
          699510.6351411128,
          4811554.825586841,
          60583.485383552375,
          261731.11425028174,
          138240.04980585002,
          1013798.424989565,
          6799967.6623687595,
          518390.90767124423,
          1030342.1799727542,
          16169662.14774427,
          178688.51212840952,
          11901846.481823731,
          1773951.1100355987,
          46864065.68030719,
          570027.031030728,
          3277446.084275729,
          1759394.7439794545,
          7932116.580031142,
          1459667.2429541827,
          553154.7103672315,
          639959.7873029481
         ]
        }
       ],
       "layout": {
        "coloraxis": {
         "colorbar": {
          "title": {
           "text": "val"
          }
         },
         "colorscale": [
          [
           0,
           "#0d0887"
          ],
          [
           0.1111111111111111,
           "#46039f"
          ],
          [
           0.2222222222222222,
           "#7201a8"
          ],
          [
           0.3333333333333333,
           "#9c179e"
          ],
          [
           0.4444444444444444,
           "#bd3786"
          ],
          [
           0.5555555555555556,
           "#d8576b"
          ],
          [
           0.6666666666666666,
           "#ed7953"
          ],
          [
           0.7777777777777778,
           "#fb9f3a"
          ],
          [
           0.8888888888888888,
           "#fdca26"
          ],
          [
           1,
           "#f0f921"
          ]
         ]
        },
        "geo": {
         "center": {},
         "domain": {
          "x": [
           0,
           1
          ],
          "y": [
           0,
           1
          ]
         }
        },
        "legend": {
         "tracegroupgap": 0
        },
        "margin": {
         "b": 0,
         "l": 0,
         "r": 0,
         "t": 0
        },
        "template": {
         "data": {
          "bar": [
           {
            "error_x": {
             "color": "#2a3f5f"
            },
            "error_y": {
             "color": "#2a3f5f"
            },
            "marker": {
             "line": {
              "color": "#E5ECF6",
              "width": 0.5
             },
             "pattern": {
              "fillmode": "overlay",
              "size": 10,
              "solidity": 0.2
             }
            },
            "type": "bar"
           }
          ],
          "barpolar": [
           {
            "marker": {
             "line": {
              "color": "#E5ECF6",
              "width": 0.5
             },
             "pattern": {
              "fillmode": "overlay",
              "size": 10,
              "solidity": 0.2
             }
            },
            "type": "barpolar"
           }
          ],
          "carpet": [
           {
            "aaxis": {
             "endlinecolor": "#2a3f5f",
             "gridcolor": "white",
             "linecolor": "white",
             "minorgridcolor": "white",
             "startlinecolor": "#2a3f5f"
            },
            "baxis": {
             "endlinecolor": "#2a3f5f",
             "gridcolor": "white",
             "linecolor": "white",
             "minorgridcolor": "white",
             "startlinecolor": "#2a3f5f"
            },
            "type": "carpet"
           }
          ],
          "choropleth": [
           {
            "colorbar": {
             "outlinewidth": 0,
             "ticks": ""
            },
            "type": "choropleth"
           }
          ],
          "contour": [
           {
            "colorbar": {
             "outlinewidth": 0,
             "ticks": ""
            },
            "colorscale": [
             [
              0,
              "#0d0887"
             ],
             [
              0.1111111111111111,
              "#46039f"
             ],
             [
              0.2222222222222222,
              "#7201a8"
             ],
             [
              0.3333333333333333,
              "#9c179e"
             ],
             [
              0.4444444444444444,
              "#bd3786"
             ],
             [
              0.5555555555555556,
              "#d8576b"
             ],
             [
              0.6666666666666666,
              "#ed7953"
             ],
             [
              0.7777777777777778,
              "#fb9f3a"
             ],
             [
              0.8888888888888888,
              "#fdca26"
             ],
             [
              1,
              "#f0f921"
             ]
            ],
            "type": "contour"
           }
          ],
          "contourcarpet": [
           {
            "colorbar": {
             "outlinewidth": 0,
             "ticks": ""
            },
            "type": "contourcarpet"
           }
          ],
          "heatmap": [
           {
            "colorbar": {
             "outlinewidth": 0,
             "ticks": ""
            },
            "colorscale": [
             [
              0,
              "#0d0887"
             ],
             [
              0.1111111111111111,
              "#46039f"
             ],
             [
              0.2222222222222222,
              "#7201a8"
             ],
             [
              0.3333333333333333,
              "#9c179e"
             ],
             [
              0.4444444444444444,
              "#bd3786"
             ],
             [
              0.5555555555555556,
              "#d8576b"
             ],
             [
              0.6666666666666666,
              "#ed7953"
             ],
             [
              0.7777777777777778,
              "#fb9f3a"
             ],
             [
              0.8888888888888888,
              "#fdca26"
             ],
             [
              1,
              "#f0f921"
             ]
            ],
            "type": "heatmap"
           }
          ],
          "heatmapgl": [
           {
            "colorbar": {
             "outlinewidth": 0,
             "ticks": ""
            },
            "colorscale": [
             [
              0,
              "#0d0887"
             ],
             [
              0.1111111111111111,
              "#46039f"
             ],
             [
              0.2222222222222222,
              "#7201a8"
             ],
             [
              0.3333333333333333,
              "#9c179e"
             ],
             [
              0.4444444444444444,
              "#bd3786"
             ],
             [
              0.5555555555555556,
              "#d8576b"
             ],
             [
              0.6666666666666666,
              "#ed7953"
             ],
             [
              0.7777777777777778,
              "#fb9f3a"
             ],
             [
              0.8888888888888888,
              "#fdca26"
             ],
             [
              1,
              "#f0f921"
             ]
            ],
            "type": "heatmapgl"
           }
          ],
          "histogram": [
           {
            "marker": {
             "pattern": {
              "fillmode": "overlay",
              "size": 10,
              "solidity": 0.2
             }
            },
            "type": "histogram"
           }
          ],
          "histogram2d": [
           {
            "colorbar": {
             "outlinewidth": 0,
             "ticks": ""
            },
            "colorscale": [
             [
              0,
              "#0d0887"
             ],
             [
              0.1111111111111111,
              "#46039f"
             ],
             [
              0.2222222222222222,
              "#7201a8"
             ],
             [
              0.3333333333333333,
              "#9c179e"
             ],
             [
              0.4444444444444444,
              "#bd3786"
             ],
             [
              0.5555555555555556,
              "#d8576b"
             ],
             [
              0.6666666666666666,
              "#ed7953"
             ],
             [
              0.7777777777777778,
              "#fb9f3a"
             ],
             [
              0.8888888888888888,
              "#fdca26"
             ],
             [
              1,
              "#f0f921"
             ]
            ],
            "type": "histogram2d"
           }
          ],
          "histogram2dcontour": [
           {
            "colorbar": {
             "outlinewidth": 0,
             "ticks": ""
            },
            "colorscale": [
             [
              0,
              "#0d0887"
             ],
             [
              0.1111111111111111,
              "#46039f"
             ],
             [
              0.2222222222222222,
              "#7201a8"
             ],
             [
              0.3333333333333333,
              "#9c179e"
             ],
             [
              0.4444444444444444,
              "#bd3786"
             ],
             [
              0.5555555555555556,
              "#d8576b"
             ],
             [
              0.6666666666666666,
              "#ed7953"
             ],
             [
              0.7777777777777778,
              "#fb9f3a"
             ],
             [
              0.8888888888888888,
              "#fdca26"
             ],
             [
              1,
              "#f0f921"
             ]
            ],
            "type": "histogram2dcontour"
           }
          ],
          "mesh3d": [
           {
            "colorbar": {
             "outlinewidth": 0,
             "ticks": ""
            },
            "type": "mesh3d"
           }
          ],
          "parcoords": [
           {
            "line": {
             "colorbar": {
              "outlinewidth": 0,
              "ticks": ""
             }
            },
            "type": "parcoords"
           }
          ],
          "pie": [
           {
            "automargin": true,
            "type": "pie"
           }
          ],
          "scatter": [
           {
            "marker": {
             "colorbar": {
              "outlinewidth": 0,
              "ticks": ""
             }
            },
            "type": "scatter"
           }
          ],
          "scatter3d": [
           {
            "line": {
             "colorbar": {
              "outlinewidth": 0,
              "ticks": ""
             }
            },
            "marker": {
             "colorbar": {
              "outlinewidth": 0,
              "ticks": ""
             }
            },
            "type": "scatter3d"
           }
          ],
          "scattercarpet": [
           {
            "marker": {
             "colorbar": {
              "outlinewidth": 0,
              "ticks": ""
             }
            },
            "type": "scattercarpet"
           }
          ],
          "scattergeo": [
           {
            "marker": {
             "colorbar": {
              "outlinewidth": 0,
              "ticks": ""
             }
            },
            "type": "scattergeo"
           }
          ],
          "scattergl": [
           {
            "marker": {
             "colorbar": {
              "outlinewidth": 0,
              "ticks": ""
             }
            },
            "type": "scattergl"
           }
          ],
          "scattermapbox": [
           {
            "marker": {
             "colorbar": {
              "outlinewidth": 0,
              "ticks": ""
             }
            },
            "type": "scattermapbox"
           }
          ],
          "scatterpolar": [
           {
            "marker": {
             "colorbar": {
              "outlinewidth": 0,
              "ticks": ""
             }
            },
            "type": "scatterpolar"
           }
          ],
          "scatterpolargl": [
           {
            "marker": {
             "colorbar": {
              "outlinewidth": 0,
              "ticks": ""
             }
            },
            "type": "scatterpolargl"
           }
          ],
          "scatterternary": [
           {
            "marker": {
             "colorbar": {
              "outlinewidth": 0,
              "ticks": ""
             }
            },
            "type": "scatterternary"
           }
          ],
          "surface": [
           {
            "colorbar": {
             "outlinewidth": 0,
             "ticks": ""
            },
            "colorscale": [
             [
              0,
              "#0d0887"
             ],
             [
              0.1111111111111111,
              "#46039f"
             ],
             [
              0.2222222222222222,
              "#7201a8"
             ],
             [
              0.3333333333333333,
              "#9c179e"
             ],
             [
              0.4444444444444444,
              "#bd3786"
             ],
             [
              0.5555555555555556,
              "#d8576b"
             ],
             [
              0.6666666666666666,
              "#ed7953"
             ],
             [
              0.7777777777777778,
              "#fb9f3a"
             ],
             [
              0.8888888888888888,
              "#fdca26"
             ],
             [
              1,
              "#f0f921"
             ]
            ],
            "type": "surface"
           }
          ],
          "table": [
           {
            "cells": {
             "fill": {
              "color": "#EBF0F8"
             },
             "line": {
              "color": "white"
             }
            },
            "header": {
             "fill": {
              "color": "#C8D4E3"
             },
             "line": {
              "color": "white"
             }
            },
            "type": "table"
           }
          ]
         },
         "layout": {
          "annotationdefaults": {
           "arrowcolor": "#2a3f5f",
           "arrowhead": 0,
           "arrowwidth": 1
          },
          "autotypenumbers": "strict",
          "coloraxis": {
           "colorbar": {
            "outlinewidth": 0,
            "ticks": ""
           }
          },
          "colorscale": {
           "diverging": [
            [
             0,
             "#8e0152"
            ],
            [
             0.1,
             "#c51b7d"
            ],
            [
             0.2,
             "#de77ae"
            ],
            [
             0.3,
             "#f1b6da"
            ],
            [
             0.4,
             "#fde0ef"
            ],
            [
             0.5,
             "#f7f7f7"
            ],
            [
             0.6,
             "#e6f5d0"
            ],
            [
             0.7,
             "#b8e186"
            ],
            [
             0.8,
             "#7fbc41"
            ],
            [
             0.9,
             "#4d9221"
            ],
            [
             1,
             "#276419"
            ]
           ],
           "sequential": [
            [
             0,
             "#0d0887"
            ],
            [
             0.1111111111111111,
             "#46039f"
            ],
            [
             0.2222222222222222,
             "#7201a8"
            ],
            [
             0.3333333333333333,
             "#9c179e"
            ],
            [
             0.4444444444444444,
             "#bd3786"
            ],
            [
             0.5555555555555556,
             "#d8576b"
            ],
            [
             0.6666666666666666,
             "#ed7953"
            ],
            [
             0.7777777777777778,
             "#fb9f3a"
            ],
            [
             0.8888888888888888,
             "#fdca26"
            ],
            [
             1,
             "#f0f921"
            ]
           ],
           "sequentialminus": [
            [
             0,
             "#0d0887"
            ],
            [
             0.1111111111111111,
             "#46039f"
            ],
            [
             0.2222222222222222,
             "#7201a8"
            ],
            [
             0.3333333333333333,
             "#9c179e"
            ],
            [
             0.4444444444444444,
             "#bd3786"
            ],
            [
             0.5555555555555556,
             "#d8576b"
            ],
            [
             0.6666666666666666,
             "#ed7953"
            ],
            [
             0.7777777777777778,
             "#fb9f3a"
            ],
            [
             0.8888888888888888,
             "#fdca26"
            ],
            [
             1,
             "#f0f921"
            ]
           ]
          },
          "colorway": [
           "#636efa",
           "#EF553B",
           "#00cc96",
           "#ab63fa",
           "#FFA15A",
           "#19d3f3",
           "#FF6692",
           "#B6E880",
           "#FF97FF",
           "#FECB52"
          ],
          "font": {
           "color": "#2a3f5f"
          },
          "geo": {
           "bgcolor": "white",
           "lakecolor": "white",
           "landcolor": "#E5ECF6",
           "showlakes": true,
           "showland": true,
           "subunitcolor": "white"
          },
          "hoverlabel": {
           "align": "left"
          },
          "hovermode": "closest",
          "mapbox": {
           "style": "light"
          },
          "paper_bgcolor": "white",
          "plot_bgcolor": "#E5ECF6",
          "polar": {
           "angularaxis": {
            "gridcolor": "white",
            "linecolor": "white",
            "ticks": ""
           },
           "bgcolor": "#E5ECF6",
           "radialaxis": {
            "gridcolor": "white",
            "linecolor": "white",
            "ticks": ""
           }
          },
          "scene": {
           "xaxis": {
            "backgroundcolor": "#E5ECF6",
            "gridcolor": "white",
            "gridwidth": 2,
            "linecolor": "white",
            "showbackground": true,
            "ticks": "",
            "zerolinecolor": "white"
           },
           "yaxis": {
            "backgroundcolor": "#E5ECF6",
            "gridcolor": "white",
            "gridwidth": 2,
            "linecolor": "white",
            "showbackground": true,
            "ticks": "",
            "zerolinecolor": "white"
           },
           "zaxis": {
            "backgroundcolor": "#E5ECF6",
            "gridcolor": "white",
            "gridwidth": 2,
            "linecolor": "white",
            "showbackground": true,
            "ticks": "",
            "zerolinecolor": "white"
           }
          },
          "shapedefaults": {
           "line": {
            "color": "#2a3f5f"
           }
          },
          "ternary": {
           "aaxis": {
            "gridcolor": "white",
            "linecolor": "white",
            "ticks": ""
           },
           "baxis": {
            "gridcolor": "white",
            "linecolor": "white",
            "ticks": ""
           },
           "bgcolor": "#E5ECF6",
           "caxis": {
            "gridcolor": "white",
            "linecolor": "white",
            "ticks": ""
           }
          },
          "title": {
           "x": 0.05
          },
          "xaxis": {
           "automargin": true,
           "gridcolor": "white",
           "linecolor": "white",
           "ticks": "",
           "title": {
            "standoff": 15
           },
           "zerolinecolor": "white",
           "zerolinewidth": 2
          },
          "yaxis": {
           "automargin": true,
           "gridcolor": "white",
           "linecolor": "white",
           "ticks": "",
           "title": {
            "standoff": 15
           },
           "zerolinecolor": "white",
           "zerolinewidth": 2
          }
         }
        }
       }
      }
     },
     "metadata": {},
     "output_type": "display_data"
    }
   ],
   "source": [
    "fig = px.choropleth(\n",
    "    total_by_country,\n",
    "    locations=\"location_clean\",\n",
    "    color=\"val\",\n",
    "    hover_name=\"location\",\n",
    ")\n",
    "fig.update_layout(margin={\"r\": 0, \"t\": 0, \"l\": 0, \"b\": 0})\n",
    "# plotly.offline.plot(fig,filename='world.html')\n",
    "fig.show()\n"
   ]
  },
  {
   "cell_type": "code",
   "execution_count": null,
   "metadata": {},
   "outputs": [],
   "source": []
  }
 ],
 "metadata": {
  "interpreter": {
   "hash": "2d66bb7d4f8a116e2925a95bebe6e04f8fc3c8ed65e8572fe262df87356dbbb5"
  },
  "kernelspec": {
   "display_name": "Python 3.9.7 64-bit ('data': conda)",
   "language": "python",
   "name": "python3"
  },
  "language_info": {
   "codemirror_mode": {
    "name": "ipython",
    "version": 3
   },
   "file_extension": ".py",
   "mimetype": "text/x-python",
   "name": "python",
   "nbconvert_exporter": "python",
   "pygments_lexer": "ipython3",
   "version": "3.9.7"
  },
  "orig_nbformat": 4
 },
 "nbformat": 4,
 "nbformat_minor": 2
}
