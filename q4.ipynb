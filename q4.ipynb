{
 "cells": [
  {
   "cell_type": "code",
   "execution_count": 46,
   "metadata": {},
   "outputs": [],
   "source": [
    "import pandas as pd\n",
    "import numpy as np\n",
    "import matplotlib.pyplot as plt\n",
    "import plotly.express as px\n",
    "from plotly.subplots import make_subplots\n",
    "import plotly.graph_objects as go\n",
    "\n",
    "from dataprep.clean import clean_country\n",
    "\n",
    "import dask.dataframe as dd\n",
    "\n",
    "import dask.array as da\n",
    "\n",
    "import dask.bag as db"
   ]
  },
  {
   "cell_type": "code",
   "execution_count": 47,
   "metadata": {},
   "outputs": [],
   "source": [
    "# original site has a tool to query the data you want and it make the dataset more\n",
    "# closer to what we need, so it would require \n"
   ]
  },
  {
   "cell_type": "code",
   "execution_count": 48,
   "metadata": {},
   "outputs": [],
   "source": [
    "# the csv is huge so i use dask\n",
    "csv_file_path = \"/home/amir/big_storage/datasets/IHME-GDB-Risk-Deaths.csv\"\n",
    "dask_df= dd.read_csv(csv_file_path)\n"
   ]
  },
  {
   "cell_type": "code",
   "execution_count": 49,
   "metadata": {},
   "outputs": [
    {
     "data": {
      "application/vnd.jupyter.widget-view+json": {
       "model_id": "dfda26633ef0415f89e389f0cfe189f7",
       "version_major": 2,
       "version_minor": 0
      },
      "text/plain": [
       "  0%|          | 0/172 [00:00<?, ?it/s]"
      ]
     },
     "metadata": {},
     "output_type": "display_data"
    },
    {
     "name": "stdout",
     "output_type": "stream",
     "text": [
      "Country Cleaning Report:\n",
      "\t9196380 values cleaned (100.0%)\n",
      "Result contains 9196380 (100.0%) values in the correct format and 0 null values (0.0%)\n"
     ]
    },
    {
     "data": {
      "text/html": [
       "<div>\n",
       "<style scoped>\n",
       "    .dataframe tbody tr th:only-of-type {\n",
       "        vertical-align: middle;\n",
       "    }\n",
       "\n",
       "    .dataframe tbody tr th {\n",
       "        vertical-align: top;\n",
       "    }\n",
       "\n",
       "    .dataframe thead th {\n",
       "        text-align: right;\n",
       "    }\n",
       "</style>\n",
       "<table border=\"1\" class=\"dataframe\">\n",
       "  <thead>\n",
       "    <tr style=\"text-align: right;\">\n",
       "      <th></th>\n",
       "      <th>measure</th>\n",
       "      <th>location</th>\n",
       "      <th>sex</th>\n",
       "      <th>age</th>\n",
       "      <th>cause</th>\n",
       "      <th>rei</th>\n",
       "      <th>metric</th>\n",
       "      <th>year</th>\n",
       "      <th>val</th>\n",
       "      <th>upper</th>\n",
       "      <th>lower</th>\n",
       "      <th>location_clean</th>\n",
       "    </tr>\n",
       "  </thead>\n",
       "  <tbody>\n",
       "    <tr>\n",
       "      <th>0</th>\n",
       "      <td>Deaths</td>\n",
       "      <td>El Salvador</td>\n",
       "      <td>Female</td>\n",
       "      <td>35 to 39</td>\n",
       "      <td>Cardiovascular diseases</td>\n",
       "      <td>All risk factors</td>\n",
       "      <td>Number</td>\n",
       "      <td>2006</td>\n",
       "      <td>27.305953</td>\n",
       "      <td>32.514418</td>\n",
       "      <td>23.081097</td>\n",
       "      <td>SLV</td>\n",
       "    </tr>\n",
       "    <tr>\n",
       "      <th>1</th>\n",
       "      <td>Deaths</td>\n",
       "      <td>El Salvador</td>\n",
       "      <td>Both</td>\n",
       "      <td>35 to 39</td>\n",
       "      <td>Cardiovascular diseases</td>\n",
       "      <td>All risk factors</td>\n",
       "      <td>Number</td>\n",
       "      <td>2006</td>\n",
       "      <td>73.716938</td>\n",
       "      <td>89.396464</td>\n",
       "      <td>63.625658</td>\n",
       "      <td>SLV</td>\n",
       "    </tr>\n",
       "    <tr>\n",
       "      <th>2</th>\n",
       "      <td>Deaths</td>\n",
       "      <td>El Salvador</td>\n",
       "      <td>Male</td>\n",
       "      <td>35 to 39</td>\n",
       "      <td>Cardiovascular diseases</td>\n",
       "      <td>All risk factors</td>\n",
       "      <td>Rate</td>\n",
       "      <td>2006</td>\n",
       "      <td>28.985719</td>\n",
       "      <td>36.891028</td>\n",
       "      <td>23.719359</td>\n",
       "      <td>SLV</td>\n",
       "    </tr>\n",
       "    <tr>\n",
       "      <th>3</th>\n",
       "      <td>Deaths</td>\n",
       "      <td>El Salvador</td>\n",
       "      <td>Female</td>\n",
       "      <td>35 to 39</td>\n",
       "      <td>Cardiovascular diseases</td>\n",
       "      <td>All risk factors</td>\n",
       "      <td>Rate</td>\n",
       "      <td>2006</td>\n",
       "      <td>13.654947</td>\n",
       "      <td>16.259556</td>\n",
       "      <td>11.542215</td>\n",
       "      <td>SLV</td>\n",
       "    </tr>\n",
       "    <tr>\n",
       "      <th>4</th>\n",
       "      <td>Deaths</td>\n",
       "      <td>El Salvador</td>\n",
       "      <td>Both</td>\n",
       "      <td>35 to 39</td>\n",
       "      <td>Cardiovascular diseases</td>\n",
       "      <td>All risk factors</td>\n",
       "      <td>Rate</td>\n",
       "      <td>2006</td>\n",
       "      <td>20.471931</td>\n",
       "      <td>24.826292</td>\n",
       "      <td>17.669481</td>\n",
       "      <td>SLV</td>\n",
       "    </tr>\n",
       "  </tbody>\n",
       "</table>\n",
       "</div>"
      ],
      "text/plain": [
       "  measure     location     sex       age                    cause  \\\n",
       "0  Deaths  El Salvador  Female  35 to 39  Cardiovascular diseases   \n",
       "1  Deaths  El Salvador    Both  35 to 39  Cardiovascular diseases   \n",
       "2  Deaths  El Salvador    Male  35 to 39  Cardiovascular diseases   \n",
       "3  Deaths  El Salvador  Female  35 to 39  Cardiovascular diseases   \n",
       "4  Deaths  El Salvador    Both  35 to 39  Cardiovascular diseases   \n",
       "\n",
       "                rei  metric  year        val      upper      lower  \\\n",
       "0  All risk factors  Number  2006  27.305953  32.514418  23.081097   \n",
       "1  All risk factors  Number  2006  73.716938  89.396464  63.625658   \n",
       "2  All risk factors    Rate  2006  28.985719  36.891028  23.719359   \n",
       "3  All risk factors    Rate  2006  13.654947  16.259556  11.542215   \n",
       "4  All risk factors    Rate  2006  20.471931  24.826292  17.669481   \n",
       "\n",
       "  location_clean  \n",
       "0            SLV  \n",
       "1            SLV  \n",
       "2            SLV  \n",
       "3            SLV  \n",
       "4            SLV  "
      ]
     },
     "execution_count": 49,
     "metadata": {},
     "output_type": "execute_result"
    }
   ],
   "source": [
    "df_global = dask_df[dask_df.location==\"Global\"]\n",
    "dask_df = dask_df[dask_df.location!=\"Global\"]\n",
    "dask_df = clean_country(dask_df, 'location', output_format='alpha-3')\n",
    "dask_df.head()\n",
    " "
   ]
  },
  {
   "cell_type": "code",
   "execution_count": 50,
   "metadata": {},
   "outputs": [],
   "source": [
    "cause_list = [\n",
    "    \"Depressive disorders\",\n",
    "    \"Cardiovascular diseases\",\n",
    "    \"Chronic respiratory diseases\",\n",
    "    \"Neurological disorders\",\n",
    "    \"Tracheal, bronchus, and lung cancer\",\n",
    "    \"Stomach cancer\",\n",
    "    \"Pancreatic cancer\",\n",
    "    \"Leukemia\",\n",
    "    \"Esophageal cancer\",\n",
    "    \"Larynx cancer\",\n",
    "    \"Colon and rectum cancer\",\n",
    "    \"Liver cancer\",\n",
    "    \"Other non-communicable diseases\",\n",
    "]\n"
   ]
  },
  {
   "cell_type": "code",
   "execution_count": 65,
   "metadata": {},
   "outputs": [
    {
     "data": {
      "text/html": [
       "<div>\n",
       "<style scoped>\n",
       "    .dataframe tbody tr th:only-of-type {\n",
       "        vertical-align: middle;\n",
       "    }\n",
       "\n",
       "    .dataframe tbody tr th {\n",
       "        vertical-align: top;\n",
       "    }\n",
       "\n",
       "    .dataframe thead th {\n",
       "        text-align: right;\n",
       "    }\n",
       "</style>\n",
       "<table border=\"1\" class=\"dataframe\">\n",
       "  <thead>\n",
       "    <tr style=\"text-align: right;\">\n",
       "      <th></th>\n",
       "      <th>measure</th>\n",
       "      <th>location</th>\n",
       "      <th>sex</th>\n",
       "      <th>age</th>\n",
       "      <th>cause</th>\n",
       "      <th>rei</th>\n",
       "      <th>metric</th>\n",
       "      <th>year</th>\n",
       "      <th>val</th>\n",
       "      <th>upper</th>\n",
       "      <th>lower</th>\n",
       "      <th>location_clean</th>\n",
       "    </tr>\n",
       "  </thead>\n",
       "  <tbody>\n",
       "    <tr>\n",
       "      <th>27781</th>\n",
       "      <td>Deaths</td>\n",
       "      <td>Ethiopia</td>\n",
       "      <td>Both</td>\n",
       "      <td>85 plus</td>\n",
       "      <td>Other non-communicable diseases</td>\n",
       "      <td>Air pollution</td>\n",
       "      <td>Rate</td>\n",
       "      <td>2012</td>\n",
       "      <td>0.000000</td>\n",
       "      <td>0.000000</td>\n",
       "      <td>0.000000</td>\n",
       "      <td>ETH</td>\n",
       "    </tr>\n",
       "    <tr>\n",
       "      <th>28657</th>\n",
       "      <td>Deaths</td>\n",
       "      <td>Belgium</td>\n",
       "      <td>Both</td>\n",
       "      <td>25 to 29</td>\n",
       "      <td>Chronic respiratory diseases</td>\n",
       "      <td>Air pollution</td>\n",
       "      <td>Rate</td>\n",
       "      <td>2012</td>\n",
       "      <td>0.022587</td>\n",
       "      <td>0.033853</td>\n",
       "      <td>0.013638</td>\n",
       "      <td>BEL</td>\n",
       "    </tr>\n",
       "    <tr>\n",
       "      <th>28663</th>\n",
       "      <td>Deaths</td>\n",
       "      <td>Belgium</td>\n",
       "      <td>Both</td>\n",
       "      <td>30 to 34</td>\n",
       "      <td>Chronic respiratory diseases</td>\n",
       "      <td>Air pollution</td>\n",
       "      <td>Rate</td>\n",
       "      <td>2012</td>\n",
       "      <td>0.037161</td>\n",
       "      <td>0.056878</td>\n",
       "      <td>0.022765</td>\n",
       "      <td>BEL</td>\n",
       "    </tr>\n",
       "    <tr>\n",
       "      <th>28669</th>\n",
       "      <td>Deaths</td>\n",
       "      <td>Belgium</td>\n",
       "      <td>Both</td>\n",
       "      <td>35 to 39</td>\n",
       "      <td>Chronic respiratory diseases</td>\n",
       "      <td>Air pollution</td>\n",
       "      <td>Rate</td>\n",
       "      <td>2012</td>\n",
       "      <td>0.070377</td>\n",
       "      <td>0.104083</td>\n",
       "      <td>0.045132</td>\n",
       "      <td>BEL</td>\n",
       "    </tr>\n",
       "    <tr>\n",
       "      <th>28675</th>\n",
       "      <td>Deaths</td>\n",
       "      <td>Belgium</td>\n",
       "      <td>Both</td>\n",
       "      <td>40 to 44</td>\n",
       "      <td>Chronic respiratory diseases</td>\n",
       "      <td>Air pollution</td>\n",
       "      <td>Rate</td>\n",
       "      <td>2012</td>\n",
       "      <td>0.189128</td>\n",
       "      <td>0.267197</td>\n",
       "      <td>0.123217</td>\n",
       "      <td>BEL</td>\n",
       "    </tr>\n",
       "  </tbody>\n",
       "</table>\n",
       "</div>"
      ],
      "text/plain": [
       "      measure  location   sex       age                            cause  \\\n",
       "27781  Deaths  Ethiopia  Both   85 plus  Other non-communicable diseases   \n",
       "28657  Deaths   Belgium  Both  25 to 29     Chronic respiratory diseases   \n",
       "28663  Deaths   Belgium  Both  30 to 34     Chronic respiratory diseases   \n",
       "28669  Deaths   Belgium  Both  35 to 39     Chronic respiratory diseases   \n",
       "28675  Deaths   Belgium  Both  40 to 44     Chronic respiratory diseases   \n",
       "\n",
       "                 rei metric  year       val     upper     lower location_clean  \n",
       "27781  Air pollution   Rate  2012  0.000000  0.000000  0.000000            ETH  \n",
       "28657  Air pollution   Rate  2012  0.022587  0.033853  0.013638            BEL  \n",
       "28663  Air pollution   Rate  2012  0.037161  0.056878  0.022765            BEL  \n",
       "28669  Air pollution   Rate  2012  0.070377  0.104083  0.045132            BEL  \n",
       "28675  Air pollution   Rate  2012  0.189128  0.267197  0.123217            BEL  "
      ]
     },
     "execution_count": 65,
     "metadata": {},
     "output_type": "execute_result"
    }
   ],
   "source": [
    "df = dask_df[\n",
    "    dask_df.cause.isin(cause_list)\n",
    "    & (dask_df.metric == \"Rate\")\n",
    "    & (dask_df.sex == \"Both\")\n",
    "    & (dask_df.year >= 2010)\n",
    "    & (dask_df.rei == \"Air pollution\")\n",
    "]\n",
    "df.head()"
   ]
  },
  {
   "cell_type": "code",
   "execution_count": 66,
   "metadata": {},
   "outputs": [
    {
     "data": {
      "text/plain": [
       "array(['85 plus', '25 to 29', '30 to 34', '35 to 39', '40 to 44',\n",
       "       '45 to 49', '50 to 54', '55 to 59', '60 to 64', '65 to 69',\n",
       "       '70 to 74', '75 to 79', '80 to 84'], dtype=object)"
      ]
     },
     "execution_count": 66,
     "metadata": {},
     "output_type": "execute_result"
    }
   ],
   "source": [
    "# let see which country suffer the most from this disease in recent years\n",
    "df.age.unique()"
   ]
  },
  {
   "cell_type": "code",
   "execution_count": 26,
   "metadata": {},
   "outputs": [
    {
     "data": {
      "text/html": [
       "<div>\n",
       "<style scoped>\n",
       "    .dataframe tbody tr th:only-of-type {\n",
       "        vertical-align: middle;\n",
       "    }\n",
       "\n",
       "    .dataframe tbody tr th {\n",
       "        vertical-align: top;\n",
       "    }\n",
       "\n",
       "    .dataframe thead th {\n",
       "        text-align: right;\n",
       "    }\n",
       "</style>\n",
       "<table border=\"1\" class=\"dataframe\">\n",
       "  <thead>\n",
       "    <tr style=\"text-align: right;\">\n",
       "      <th></th>\n",
       "      <th>location</th>\n",
       "      <th>location_clean</th>\n",
       "      <th>val_sum</th>\n",
       "      <th>val_mean</th>\n",
       "      <th>val_fisr</th>\n",
       "      <th>val_max</th>\n",
       "    </tr>\n",
       "  </thead>\n",
       "  <tbody>\n",
       "    <tr>\n",
       "      <th>0</th>\n",
       "      <td>Afghanistan</td>\n",
       "      <td>AFG</td>\n",
       "      <td>10173.691086</td>\n",
       "      <td>260.863874</td>\n",
       "      <td>0.144592</td>\n",
       "      <td>2299.081096</td>\n",
       "    </tr>\n",
       "    <tr>\n",
       "      <th>1</th>\n",
       "      <td>Albania</td>\n",
       "      <td>ALB</td>\n",
       "      <td>3443.809665</td>\n",
       "      <td>88.302812</td>\n",
       "      <td>0.036182</td>\n",
       "      <td>1135.291591</td>\n",
       "    </tr>\n",
       "    <tr>\n",
       "      <th>2</th>\n",
       "      <td>Algeria</td>\n",
       "      <td>DZA</td>\n",
       "      <td>4427.828059</td>\n",
       "      <td>113.534053</td>\n",
       "      <td>0.035860</td>\n",
       "      <td>1892.843703</td>\n",
       "    </tr>\n",
       "    <tr>\n",
       "      <th>3</th>\n",
       "      <td>Argentina</td>\n",
       "      <td>ARG</td>\n",
       "      <td>1049.951235</td>\n",
       "      <td>26.921827</td>\n",
       "      <td>0.043376</td>\n",
       "      <td>241.701123</td>\n",
       "    </tr>\n",
       "    <tr>\n",
       "      <th>4</th>\n",
       "      <td>Armenia</td>\n",
       "      <td>ARM</td>\n",
       "      <td>4516.643019</td>\n",
       "      <td>115.811359</td>\n",
       "      <td>0.064922</td>\n",
       "      <td>1276.720792</td>\n",
       "    </tr>\n",
       "  </tbody>\n",
       "</table>\n",
       "</div>"
      ],
      "text/plain": [
       "      location location_clean       val_sum    val_mean  val_fisr      val_max\n",
       "0  Afghanistan            AFG  10173.691086  260.863874  0.144592  2299.081096\n",
       "1      Albania            ALB   3443.809665   88.302812  0.036182  1135.291591\n",
       "2      Algeria            DZA   4427.828059  113.534053  0.035860  1892.843703\n",
       "3    Argentina            ARG   1049.951235   26.921827  0.043376   241.701123\n",
       "4      Armenia            ARM   4516.643019  115.811359  0.064922  1276.720792"
      ]
     },
     "execution_count": 26,
     "metadata": {},
     "output_type": "execute_result"
    }
   ],
   "source": [
    "total_by_country = df[(df.sex==\"Both\") & (df.year == 2017)].groupby([\"location\", \"location_clean\"]).agg(\n",
    "    val_sum=(\"val\", \"sum\"),\n",
    "    val_mean=(\"val\", \"mean\"),\n",
    "    val_fisr=(\"val\", \"min\"),\n",
    "    val_max=(\"val\", \"max\"),\n",
    "\n",
    ").reset_index()\n",
    "\n",
    "total_by_country.head()\n",
    "# .sort_values(by='age', key=lambda x: x.str.split(' ', expand=True)[0].astype('int'))"
   ]
  },
  {
   "cell_type": "code",
   "execution_count": 67,
   "metadata": {},
   "outputs": [
    {
     "data": {
      "text/html": [
       "<div>\n",
       "<style scoped>\n",
       "    .dataframe tbody tr th:only-of-type {\n",
       "        vertical-align: middle;\n",
       "    }\n",
       "\n",
       "    .dataframe tbody tr th {\n",
       "        vertical-align: top;\n",
       "    }\n",
       "\n",
       "    .dataframe thead th {\n",
       "        text-align: right;\n",
       "    }\n",
       "</style>\n",
       "<table border=\"1\" class=\"dataframe\">\n",
       "  <thead>\n",
       "    <tr style=\"text-align: right;\">\n",
       "      <th></th>\n",
       "      <th>location</th>\n",
       "      <th>location_clean</th>\n",
       "      <th>age</th>\n",
       "      <th>year</th>\n",
       "      <th>val_sum</th>\n",
       "      <th>val_mean</th>\n",
       "      <th>val_first</th>\n",
       "      <th>val_max</th>\n",
       "    </tr>\n",
       "  </thead>\n",
       "  <tbody>\n",
       "    <tr>\n",
       "      <th>0</th>\n",
       "      <td>Afghanistan</td>\n",
       "      <td>AFG</td>\n",
       "      <td>25 to 29</td>\n",
       "      <td>2010</td>\n",
       "      <td>17.236644</td>\n",
       "      <td>5.745548</td>\n",
       "      <td>0.150468</td>\n",
       "      <td>15.351325</td>\n",
       "    </tr>\n",
       "    <tr>\n",
       "      <th>1</th>\n",
       "      <td>Pakistan</td>\n",
       "      <td>PAK</td>\n",
       "      <td>25 to 29</td>\n",
       "      <td>2012</td>\n",
       "      <td>10.977146</td>\n",
       "      <td>3.659049</td>\n",
       "      <td>0.132684</td>\n",
       "      <td>10.323202</td>\n",
       "    </tr>\n",
       "    <tr>\n",
       "      <th>2</th>\n",
       "      <td>Pakistan</td>\n",
       "      <td>PAK</td>\n",
       "      <td>25 to 29</td>\n",
       "      <td>2013</td>\n",
       "      <td>11.183041</td>\n",
       "      <td>3.727680</td>\n",
       "      <td>0.134844</td>\n",
       "      <td>10.523817</td>\n",
       "    </tr>\n",
       "    <tr>\n",
       "      <th>3</th>\n",
       "      <td>Pakistan</td>\n",
       "      <td>PAK</td>\n",
       "      <td>25 to 29</td>\n",
       "      <td>2014</td>\n",
       "      <td>11.309370</td>\n",
       "      <td>3.769790</td>\n",
       "      <td>0.136738</td>\n",
       "      <td>10.651012</td>\n",
       "    </tr>\n",
       "    <tr>\n",
       "      <th>4</th>\n",
       "      <td>Pakistan</td>\n",
       "      <td>PAK</td>\n",
       "      <td>25 to 29</td>\n",
       "      <td>2015</td>\n",
       "      <td>11.317433</td>\n",
       "      <td>3.772478</td>\n",
       "      <td>0.136471</td>\n",
       "      <td>10.670210</td>\n",
       "    </tr>\n",
       "  </tbody>\n",
       "</table>\n",
       "</div>"
      ],
      "text/plain": [
       "      location location_clean       age  year    val_sum  val_mean  val_first  \\\n",
       "0  Afghanistan            AFG  25 to 29  2010  17.236644  5.745548   0.150468   \n",
       "1     Pakistan            PAK  25 to 29  2012  10.977146  3.659049   0.132684   \n",
       "2     Pakistan            PAK  25 to 29  2013  11.183041  3.727680   0.134844   \n",
       "3     Pakistan            PAK  25 to 29  2014  11.309370  3.769790   0.136738   \n",
       "4     Pakistan            PAK  25 to 29  2015  11.317433  3.772478   0.136471   \n",
       "\n",
       "     val_max  \n",
       "0  15.351325  \n",
       "1  10.323202  \n",
       "2  10.523817  \n",
       "3  10.651012  \n",
       "4  10.670210  "
      ]
     },
     "execution_count": 67,
     "metadata": {},
     "output_type": "execute_result"
    }
   ],
   "source": [
    "world = df.groupby(['location',\"location_clean\", 'age', 'year']).agg(\n",
    "    val_sum=(\"val\", \"sum\"),\n",
    "    val_mean=(\"val\", \"mean\"),\n",
    "    val_first=(\"val\", \"min\"),\n",
    "    val_max=(\"val\", \"max\"),\n",
    ").sort_values(by='age', key=lambda x: x.str.split(' ', expand=True)[0].astype('int')).reset_index()\n",
    "world.head()"
   ]
  },
  {
   "cell_type": "code",
   "execution_count": 68,
   "metadata": {},
   "outputs": [
    {
     "data": {
      "text/html": [
       "<div>\n",
       "<style scoped>\n",
       "    .dataframe tbody tr th:only-of-type {\n",
       "        vertical-align: middle;\n",
       "    }\n",
       "\n",
       "    .dataframe tbody tr th {\n",
       "        vertical-align: top;\n",
       "    }\n",
       "\n",
       "    .dataframe thead th {\n",
       "        text-align: right;\n",
       "    }\n",
       "</style>\n",
       "<table border=\"1\" class=\"dataframe\">\n",
       "  <thead>\n",
       "    <tr style=\"text-align: right;\">\n",
       "      <th></th>\n",
       "      <th>location</th>\n",
       "      <th>location_clean</th>\n",
       "      <th>age</th>\n",
       "      <th>val_sum</th>\n",
       "      <th>val_mean</th>\n",
       "      <th>val_first</th>\n",
       "      <th>val_max</th>\n",
       "    </tr>\n",
       "  </thead>\n",
       "  <tbody>\n",
       "    <tr>\n",
       "      <th>0</th>\n",
       "      <td>China</td>\n",
       "      <td>CHN</td>\n",
       "      <td>25 to 29</td>\n",
       "      <td>42.478308</td>\n",
       "      <td>1.415944</td>\n",
       "      <td>0.112679</td>\n",
       "      <td>4.137341</td>\n",
       "    </tr>\n",
       "    <tr>\n",
       "      <th>1</th>\n",
       "      <td>China</td>\n",
       "      <td>CHN</td>\n",
       "      <td>30 to 34</td>\n",
       "      <td>79.238005</td>\n",
       "      <td>2.641267</td>\n",
       "      <td>0.231931</td>\n",
       "      <td>7.699838</td>\n",
       "    </tr>\n",
       "    <tr>\n",
       "      <th>2</th>\n",
       "      <td>China</td>\n",
       "      <td>CHN</td>\n",
       "      <td>35 to 39</td>\n",
       "      <td>135.269191</td>\n",
       "      <td>4.508973</td>\n",
       "      <td>0.418678</td>\n",
       "      <td>12.343705</td>\n",
       "    </tr>\n",
       "    <tr>\n",
       "      <th>3</th>\n",
       "      <td>China</td>\n",
       "      <td>CHN</td>\n",
       "      <td>40 to 44</td>\n",
       "      <td>258.560592</td>\n",
       "      <td>8.618686</td>\n",
       "      <td>0.931691</td>\n",
       "      <td>23.996185</td>\n",
       "    </tr>\n",
       "    <tr>\n",
       "      <th>4</th>\n",
       "      <td>China</td>\n",
       "      <td>CHN</td>\n",
       "      <td>45 to 49</td>\n",
       "      <td>435.028397</td>\n",
       "      <td>14.500947</td>\n",
       "      <td>1.725389</td>\n",
       "      <td>40.329065</td>\n",
       "    </tr>\n",
       "    <tr>\n",
       "      <th>5</th>\n",
       "      <td>China</td>\n",
       "      <td>CHN</td>\n",
       "      <td>50 to 54</td>\n",
       "      <td>695.544807</td>\n",
       "      <td>23.184827</td>\n",
       "      <td>3.950061</td>\n",
       "      <td>58.851724</td>\n",
       "    </tr>\n",
       "    <tr>\n",
       "      <th>6</th>\n",
       "      <td>China</td>\n",
       "      <td>CHN</td>\n",
       "      <td>55 to 59</td>\n",
       "      <td>1168.495702</td>\n",
       "      <td>38.949857</td>\n",
       "      <td>8.369452</td>\n",
       "      <td>93.436351</td>\n",
       "    </tr>\n",
       "    <tr>\n",
       "      <th>7</th>\n",
       "      <td>China</td>\n",
       "      <td>CHN</td>\n",
       "      <td>60 to 64</td>\n",
       "      <td>2091.307910</td>\n",
       "      <td>69.710264</td>\n",
       "      <td>19.819554</td>\n",
       "      <td>168.621468</td>\n",
       "    </tr>\n",
       "    <tr>\n",
       "      <th>8</th>\n",
       "      <td>China</td>\n",
       "      <td>CHN</td>\n",
       "      <td>65 to 69</td>\n",
       "      <td>3532.899597</td>\n",
       "      <td>117.763320</td>\n",
       "      <td>44.151035</td>\n",
       "      <td>267.342121</td>\n",
       "    </tr>\n",
       "    <tr>\n",
       "      <th>9</th>\n",
       "      <td>China</td>\n",
       "      <td>CHN</td>\n",
       "      <td>70 to 74</td>\n",
       "      <td>6518.397990</td>\n",
       "      <td>217.279933</td>\n",
       "      <td>77.042370</td>\n",
       "      <td>464.698299</td>\n",
       "    </tr>\n",
       "    <tr>\n",
       "      <th>10</th>\n",
       "      <td>China</td>\n",
       "      <td>CHN</td>\n",
       "      <td>75 to 79</td>\n",
       "      <td>11030.372652</td>\n",
       "      <td>367.679088</td>\n",
       "      <td>101.652388</td>\n",
       "      <td>752.309990</td>\n",
       "    </tr>\n",
       "    <tr>\n",
       "      <th>11</th>\n",
       "      <td>China</td>\n",
       "      <td>CHN</td>\n",
       "      <td>80 to 84</td>\n",
       "      <td>19320.397032</td>\n",
       "      <td>644.013234</td>\n",
       "      <td>122.780159</td>\n",
       "      <td>1288.763463</td>\n",
       "    </tr>\n",
       "    <tr>\n",
       "      <th>12</th>\n",
       "      <td>China</td>\n",
       "      <td>CHN</td>\n",
       "      <td>85 plus</td>\n",
       "      <td>33568.285140</td>\n",
       "      <td>839.207129</td>\n",
       "      <td>0.000000</td>\n",
       "      <td>2027.946613</td>\n",
       "    </tr>\n",
       "  </tbody>\n",
       "</table>\n",
       "</div>"
      ],
      "text/plain": [
       "   location location_clean       age       val_sum    val_mean   val_first  \\\n",
       "0     China            CHN  25 to 29     42.478308    1.415944    0.112679   \n",
       "1     China            CHN  30 to 34     79.238005    2.641267    0.231931   \n",
       "2     China            CHN  35 to 39    135.269191    4.508973    0.418678   \n",
       "3     China            CHN  40 to 44    258.560592    8.618686    0.931691   \n",
       "4     China            CHN  45 to 49    435.028397   14.500947    1.725389   \n",
       "5     China            CHN  50 to 54    695.544807   23.184827    3.950061   \n",
       "6     China            CHN  55 to 59   1168.495702   38.949857    8.369452   \n",
       "7     China            CHN  60 to 64   2091.307910   69.710264   19.819554   \n",
       "8     China            CHN  65 to 69   3532.899597  117.763320   44.151035   \n",
       "9     China            CHN  70 to 74   6518.397990  217.279933   77.042370   \n",
       "10    China            CHN  75 to 79  11030.372652  367.679088  101.652388   \n",
       "11    China            CHN  80 to 84  19320.397032  644.013234  122.780159   \n",
       "12    China            CHN   85 plus  33568.285140  839.207129    0.000000   \n",
       "\n",
       "        val_max  \n",
       "0      4.137341  \n",
       "1      7.699838  \n",
       "2     12.343705  \n",
       "3     23.996185  \n",
       "4     40.329065  \n",
       "5     58.851724  \n",
       "6     93.436351  \n",
       "7    168.621468  \n",
       "8    267.342121  \n",
       "9    464.698299  \n",
       "10   752.309990  \n",
       "11  1288.763463  \n",
       "12  2027.946613  "
      ]
     },
     "execution_count": 68,
     "metadata": {},
     "output_type": "execute_result"
    }
   ],
   "source": [
    "china = df[(df.location=='China')].groupby([\"location\", \"location_clean\", \"age\"]).agg(\n",
    "    val_sum=(\"val\", \"sum\"),\n",
    "    val_mean=(\"val\", \"mean\"),\n",
    "    val_first=(\"val\", \"min\"),\n",
    "    val_max=(\"val\", \"max\"),\n",
    ").sort_values(by='age', key=lambda x: x.str.split(' ', expand=True)[0].astype('int')).reset_index()\n",
    "china.head(40)"
   ]
  },
  {
   "cell_type": "code",
   "execution_count": 70,
   "metadata": {},
   "outputs": [
    {
     "name": "stdout",
     "output_type": "stream",
     "text": [
      "['25-29', '30-34', '35-39', '40-44', '45-49', '50-54', '55-59', '60-64', '65-69', '70-74', '75-79', '80-84', '85 plus']\n"
     ]
    }
   ],
   "source": [
    "# create lables for chart\n",
    "x_axis_label = [i.replace(' to ', '-') for i in world.age.unique()]\n",
    "print(x_axis_label)"
   ]
  },
  {
   "cell_type": "code",
   "execution_count": 72,
   "metadata": {},
   "outputs": [
    {
     "data": {
      "text/plain": [
       "Text(0.5, 0, 'Age')"
      ]
     },
     "execution_count": 72,
     "metadata": {},
     "output_type": "execute_result"
    },
    {
     "data": {
      "image/png": "[encoded data removed]",
      "text/plain": [
       "<Figure size 1080x1080 with 1 Axes>"
      ]
     },
     "metadata": {
      "needs_background": "light"
     },
     "output_type": "display_data"
    }
   ],
   "source": [
    "# plot for one country\n",
    "fig, ax = plt.subplots(figsize=(15, 15))\n",
    "ax.bar(x=x_axis_label, height=china.val_mean.values)\n",
    "ax.set_title(\"China Death from Air pollution between 2010 to 2019\")\n",
    "ax.set_xlabel(\"Age\")"
   ]
  },
  {
   "cell_type": "code",
   "execution_count": 90,
   "metadata": {},
   "outputs": [],
   "source": [
    "l = {\"Qatar\": \"QAT\", \"India\": \"IND\", \"USA\": \"USA\", \"Findland\": \"FIN\", \"China\": \"CHN\", \"Iran\": \"IRN\", \"Afghanestan\": \"AFG\"}\n"
   ]
  },
  {
   "cell_type": "code",
   "execution_count": 91,
   "metadata": {},
   "outputs": [
    {
     "data": {
      "application/vnd.plotly.v1+json": {
       "config": {
        "plotlyServerURL": "https://plot.ly"
       },
       "data": [
        {
         "name": "Qatar",
         "type": "bar",
         "x": [
          "25-29",
          "30-34",
          "35-39",
          "40-44",
          "45-49",
          "50-54",
          "55-59",
          "60-64",
          "65-69",
          "70-74",
          "75-79",
          "80-84",
          "85 plus"
         ],
         "y": [
          0.5760132529846658,
          1.021022221530313,
          2.04037691251261,
          3.849390079721268,
          8.46569310799325,
          14.330102382664336,
          25.125775836783536,
          46.3160988254892,
          90.7401514904099,
          197.57240441672567,
          373.3844690039502,
          664.5983175542243,
          937.465596422466
         ]
        },
        {
         "name": "India",
         "type": "bar",
         "x": [
          "25-29",
          "30-34",
          "35-39",
          "40-44",
          "45-49",
          "50-54",
          "55-59",
          "60-64",
          "65-69",
          "70-74",
          "75-79",
          "80-84",
          "85 plus"
         ],
         "y": [
          2.204595716709939,
          4.279340172918556,
          7.676895201487043,
          13.306061869591618,
          23.95988546107744,
          43.51366593152929,
          72.66708963657693,
          116.1601330166137,
          184.70366812259894,
          282.58362473942367,
          404.9432303468747,
          632.9225246856287,
          613.4207918834612
         ]
        },
        {
         "name": "USA",
         "type": "bar",
         "x": [
          "25-29",
          "30-34",
          "35-39",
          "40-44",
          "45-49",
          "50-54",
          "55-59",
          "60-64",
          "65-69",
          "70-74",
          "75-79",
          "80-84",
          "85 plus"
         ],
         "y": [
          0.13112791689283823,
          0.2609133754932518,
          0.48451275303981717,
          0.9612504491645752,
          1.853527735675137,
          3.5219941586879533,
          5.725120171612173,
          8.774749311198999,
          13.413936121641939,
          21.388007533156486,
          31.843724682401056,
          47.13264181675059,
          58.43722926379636
         ]
        },
        {
         "name": "Findland",
         "type": "bar",
         "x": [
          "25-29",
          "30-34",
          "35-39",
          "40-44",
          "45-49",
          "50-54",
          "55-59",
          "60-64",
          "65-69",
          "70-74",
          "75-79",
          "80-84",
          "85 plus"
         ],
         "y": [
          0.03628310196954944,
          0.06071640615289653,
          0.1316889444023913,
          0.25208069598830407,
          0.5063008174366356,
          0.9542841299346804,
          1.7768751329306176,
          3.0404448143106584,
          4.658394372952293,
          7.169640925378218,
          11.777493621747956,
          19.74645292148434,
          35.260285689887006
         ]
        },
        {
         "name": "China",
         "type": "bar",
         "x": [
          "25-29",
          "30-34",
          "35-39",
          "40-44",
          "45-49",
          "50-54",
          "55-59",
          "60-64",
          "65-69",
          "70-74",
          "75-79",
          "80-84",
          "85 plus"
         ],
         "y": [
          1.4159435991968319,
          0.3227740497218935,
          2.6412668444598073,
          0.8046413222440968,
          4.508973027716887,
          1.7746857674604908,
          8.61868639576595,
          3.1628970202312847,
          14.500946574228434,
          5.2234411571524655,
          23.184826894557993,
          7.535650293276503,
          10.646521056946751,
          38.949856726033545,
          69.7102636626614,
          15.542830466247299,
          24.154622574688304,
          117.76331989171922,
          41.45330716599008,
          217.27993301236648,
          68.50249491554595,
          367.6790883956447,
          116.18164617979916,
          644.0132343921839,
          839.2071285116084,
          202.6749484620075
         ]
        },
        {
         "name": "Iran",
         "type": "bar",
         "x": [
          "25-29",
          "30-34",
          "35-39",
          "40-44",
          "45-49",
          "50-54",
          "55-59",
          "60-64",
          "65-69",
          "70-74",
          "75-79",
          "80-84",
          "85 plus"
         ],
         "y": [
          1.391412495381153,
          2.093475887072599,
          3.13933227968816,
          5.410840757841924,
          9.671605333127996,
          17.039686566098904,
          28.026742225931866,
          43.93567377921001,
          66.9796342962738,
          104.9496510950475,
          186.22799668087728,
          284.45856769163294,
          334.97645281839135
         ]
        },
        {
         "name": "Afghanestan",
         "type": "bar",
         "x": [
          "25-29",
          "30-34",
          "35-39",
          "40-44",
          "45-49",
          "50-54",
          "55-59",
          "60-64",
          "65-69",
          "70-74",
          "75-79",
          "80-84",
          "85 plus"
         ],
         "y": [
          4.940900722500649,
          9.361565565117852,
          17.75658757435378,
          35.07707920131485,
          62.09489267590469,
          97.94514807468917,
          145.03162741084674,
          203.507305744292,
          280.3315233553962,
          397.54374936754124,
          549.4955778942655,
          752.7839198782999,
          1053.8840417907763
         ]
        }
       ],
       "layout": {
        "barmode": "group",
        "legend": {
         "title": {
          "text": "Risk Factor"
         }
        },
        "template": {
         "data": {
          "bar": [
           {
            "error_x": {
             "color": "#2a3f5f"
            },
            "error_y": {
             "color": "#2a3f5f"
            },
            "marker": {
             "line": {
              "color": "#E5ECF6",
              "width": 0.5
             },
             "pattern": {
              "fillmode": "overlay",
              "size": 10,
              "solidity": 0.2
             }
            },
            "type": "bar"
           }
          ],
          "barpolar": [
           {
            "marker": {
             "line": {
              "color": "#E5ECF6",
              "width": 0.5
             },
             "pattern": {
              "fillmode": "overlay",
              "size": 10,
              "solidity": 0.2
             }
            },
            "type": "barpolar"
           }
          ],
          "carpet": [
           {
            "aaxis": {
             "endlinecolor": "#2a3f5f",
             "gridcolor": "white",
             "linecolor": "white",
             "minorgridcolor": "white",
             "startlinecolor": "#2a3f5f"
            },
            "baxis": {
             "endlinecolor": "#2a3f5f",
             "gridcolor": "white",
             "linecolor": "white",
             "minorgridcolor": "white",
             "startlinecolor": "#2a3f5f"
            },
            "type": "carpet"
           }
          ],
          "choropleth": [
           {
            "colorbar": {
             "outlinewidth": 0,
             "ticks": ""
            },
            "type": "choropleth"
           }
          ],
          "contour": [
           {
            "colorbar": {
             "outlinewidth": 0,
             "ticks": ""
            },
            "colorscale": [
             [
              0,
              "#0d0887"
             ],
             [
              0.1111111111111111,
              "#46039f"
             ],
             [
              0.2222222222222222,
              "#7201a8"
             ],
             [
              0.3333333333333333,
              "#9c179e"
             ],
             [
              0.4444444444444444,
              "#bd3786"
             ],
             [
              0.5555555555555556,
              "#d8576b"
             ],
             [
              0.6666666666666666,
              "#ed7953"
             ],
             [
              0.7777777777777778,
              "#fb9f3a"
             ],
             [
              0.8888888888888888,
              "#fdca26"
             ],
             [
              1,
              "#f0f921"
             ]
            ],
            "type": "contour"
           }
          ],
          "contourcarpet": [
           {
            "colorbar": {
             "outlinewidth": 0,
             "ticks": ""
            },
            "type": "contourcarpet"
           }
          ],
          "heatmap": [
           {
            "colorbar": {
             "outlinewidth": 0,
             "ticks": ""
            },
            "colorscale": [
             [
              0,
              "#0d0887"
             ],
             [
              0.1111111111111111,
              "#46039f"
             ],
             [
              0.2222222222222222,
              "#7201a8"
             ],
             [
              0.3333333333333333,
              "#9c179e"
             ],
             [
              0.4444444444444444,
              "#bd3786"
             ],
             [
              0.5555555555555556,
              "#d8576b"
             ],
             [
              0.6666666666666666,
              "#ed7953"
             ],
             [
              0.7777777777777778,
              "#fb9f3a"
             ],
             [
              0.8888888888888888,
              "#fdca26"
             ],
             [
              1,
              "#f0f921"
             ]
            ],
            "type": "heatmap"
           }
          ],
          "heatmapgl": [
           {
            "colorbar": {
             "outlinewidth": 0,
             "ticks": ""
            },
            "colorscale": [
             [
              0,
              "#0d0887"
             ],
             [
              0.1111111111111111,
              "#46039f"
             ],
             [
              0.2222222222222222,
              "#7201a8"
             ],
             [
              0.3333333333333333,
              "#9c179e"
             ],
             [
              0.4444444444444444,
              "#bd3786"
             ],
             [
              0.5555555555555556,
              "#d8576b"
             ],
             [
              0.6666666666666666,
              "#ed7953"
             ],
             [
              0.7777777777777778,
              "#fb9f3a"
             ],
             [
              0.8888888888888888,
              "#fdca26"
             ],
             [
              1,
              "#f0f921"
             ]
            ],
            "type": "heatmapgl"
           }
          ],
          "histogram": [
           {
            "marker": {
             "pattern": {
              "fillmode": "overlay",
              "size": 10,
              "solidity": 0.2
             }
            },
            "type": "histogram"
           }
          ],
          "histogram2d": [
           {
            "colorbar": {
             "outlinewidth": 0,
             "ticks": ""
            },
            "colorscale": [
             [
              0,
              "#0d0887"
             ],
             [
              0.1111111111111111,
              "#46039f"
             ],
             [
              0.2222222222222222,
              "#7201a8"
             ],
             [
              0.3333333333333333,
              "#9c179e"
             ],
             [
              0.4444444444444444,
              "#bd3786"
             ],
             [
              0.5555555555555556,
              "#d8576b"
             ],
             [
              0.6666666666666666,
              "#ed7953"
             ],
             [
              0.7777777777777778,
              "#fb9f3a"
             ],
             [
              0.8888888888888888,
              "#fdca26"
             ],
             [
              1,
              "#f0f921"
             ]
            ],
            "type": "histogram2d"
           }
          ],
          "histogram2dcontour": [
           {
            "colorbar": {
             "outlinewidth": 0,
             "ticks": ""
            },
            "colorscale": [
             [
              0,
              "#0d0887"
             ],
             [
              0.1111111111111111,
              "#46039f"
             ],
             [
              0.2222222222222222,
              "#7201a8"
             ],
             [
              0.3333333333333333,
              "#9c179e"
             ],
             [
              0.4444444444444444,
              "#bd3786"
             ],
             [
              0.5555555555555556,
              "#d8576b"
             ],
             [
              0.6666666666666666,
              "#ed7953"
             ],
             [
              0.7777777777777778,
              "#fb9f3a"
             ],
             [
              0.8888888888888888,
              "#fdca26"
             ],
             [
              1,
              "#f0f921"
             ]
            ],
            "type": "histogram2dcontour"
           }
          ],
          "mesh3d": [
           {
            "colorbar": {
             "outlinewidth": 0,
             "ticks": ""
            },
            "type": "mesh3d"
           }
          ],
          "parcoords": [
           {
            "line": {
             "colorbar": {
              "outlinewidth": 0,
              "ticks": ""
             }
            },
            "type": "parcoords"
           }
          ],
          "pie": [
           {
            "automargin": true,
            "type": "pie"
           }
          ],
          "scatter": [
           {
            "marker": {
             "colorbar": {
              "outlinewidth": 0,
              "ticks": ""
             }
            },
            "type": "scatter"
           }
          ],
          "scatter3d": [
           {
            "line": {
             "colorbar": {
              "outlinewidth": 0,
              "ticks": ""
             }
            },
            "marker": {
             "colorbar": {
              "outlinewidth": 0,
              "ticks": ""
             }
            },
            "type": "scatter3d"
           }
          ],
          "scattercarpet": [
           {
            "marker": {
             "colorbar": {
              "outlinewidth": 0,
              "ticks": ""
             }
            },
            "type": "scattercarpet"
           }
          ],
          "scattergeo": [
           {
            "marker": {
             "colorbar": {
              "outlinewidth": 0,
              "ticks": ""
             }
            },
            "type": "scattergeo"
           }
          ],
          "scattergl": [
           {
            "marker": {
             "colorbar": {
              "outlinewidth": 0,
              "ticks": ""
             }
            },
            "type": "scattergl"
           }
          ],
          "scattermapbox": [
           {
            "marker": {
             "colorbar": {
              "outlinewidth": 0,
              "ticks": ""
             }
            },
            "type": "scattermapbox"
           }
          ],
          "scatterpolar": [
           {
            "marker": {
             "colorbar": {
              "outlinewidth": 0,
              "ticks": ""
             }
            },
            "type": "scatterpolar"
           }
          ],
          "scatterpolargl": [
           {
            "marker": {
             "colorbar": {
              "outlinewidth": 0,
              "ticks": ""
             }
            },
            "type": "scatterpolargl"
           }
          ],
          "scatterternary": [
           {
            "marker": {
             "colorbar": {
              "outlinewidth": 0,
              "ticks": ""
             }
            },
            "type": "scatterternary"
           }
          ],
          "surface": [
           {
            "colorbar": {
             "outlinewidth": 0,
             "ticks": ""
            },
            "colorscale": [
             [
              0,
              "#0d0887"
             ],
             [
              0.1111111111111111,
              "#46039f"
             ],
             [
              0.2222222222222222,
              "#7201a8"
             ],
             [
              0.3333333333333333,
              "#9c179e"
             ],
             [
              0.4444444444444444,
              "#bd3786"
             ],
             [
              0.5555555555555556,
              "#d8576b"
             ],
             [
              0.6666666666666666,
              "#ed7953"
             ],
             [
              0.7777777777777778,
              "#fb9f3a"
             ],
             [
              0.8888888888888888,
              "#fdca26"
             ],
             [
              1,
              "#f0f921"
             ]
            ],
            "type": "surface"
           }
          ],
          "table": [
           {
            "cells": {
             "fill": {
              "color": "#EBF0F8"
             },
             "line": {
              "color": "white"
             }
            },
            "header": {
             "fill": {
              "color": "#C8D4E3"
             },
             "line": {
              "color": "white"
             }
            },
            "type": "table"
           }
          ]
         },
         "layout": {
          "annotationdefaults": {
           "arrowcolor": "#2a3f5f",
           "arrowhead": 0,
           "arrowwidth": 1
          },
          "autotypenumbers": "strict",
          "coloraxis": {
           "colorbar": {
            "outlinewidth": 0,
            "ticks": ""
           }
          },
          "colorscale": {
           "diverging": [
            [
             0,
             "#8e0152"
            ],
            [
             0.1,
             "#c51b7d"
            ],
            [
             0.2,
             "#de77ae"
            ],
            [
             0.3,
             "#f1b6da"
            ],
            [
             0.4,
             "#fde0ef"
            ],
            [
             0.5,
             "#f7f7f7"
            ],
            [
             0.6,
             "#e6f5d0"
            ],
            [
             0.7,
             "#b8e186"
            ],
            [
             0.8,
             "#7fbc41"
            ],
            [
             0.9,
             "#4d9221"
            ],
            [
             1,
             "#276419"
            ]
           ],
           "sequential": [
            [
             0,
             "#0d0887"
            ],
            [
             0.1111111111111111,
             "#46039f"
            ],
            [
             0.2222222222222222,
             "#7201a8"
            ],
            [
             0.3333333333333333,
             "#9c179e"
            ],
            [
             0.4444444444444444,
             "#bd3786"
            ],
            [
             0.5555555555555556,
             "#d8576b"
            ],
            [
             0.6666666666666666,
             "#ed7953"
            ],
            [
             0.7777777777777778,
             "#fb9f3a"
            ],
            [
             0.8888888888888888,
             "#fdca26"
            ],
            [
             1,
             "#f0f921"
            ]
           ],
           "sequentialminus": [
            [
             0,
             "#0d0887"
            ],
            [
             0.1111111111111111,
             "#46039f"
            ],
            [
             0.2222222222222222,
             "#7201a8"
            ],
            [
             0.3333333333333333,
             "#9c179e"
            ],
            [
             0.4444444444444444,
             "#bd3786"
            ],
            [
             0.5555555555555556,
             "#d8576b"
            ],
            [
             0.6666666666666666,
             "#ed7953"
            ],
            [
             0.7777777777777778,
             "#fb9f3a"
            ],
            [
             0.8888888888888888,
             "#fdca26"
            ],
            [
             1,
             "#f0f921"
            ]
           ]
          },
          "colorway": [
           "#636efa",
           "#EF553B",
           "#00cc96",
           "#ab63fa",
           "#FFA15A",
           "#19d3f3",
           "#FF6692",
           "#B6E880",
           "#FF97FF",
           "#FECB52"
          ],
          "font": {
           "color": "#2a3f5f"
          },
          "geo": {
           "bgcolor": "white",
           "lakecolor": "white",
           "landcolor": "#E5ECF6",
           "showlakes": true,
           "showland": true,
           "subunitcolor": "white"
          },
          "hoverlabel": {
           "align": "left"
          },
          "hovermode": "closest",
          "mapbox": {
           "style": "light"
          },
          "paper_bgcolor": "white",
          "plot_bgcolor": "#E5ECF6",
          "polar": {
           "angularaxis": {
            "gridcolor": "white",
            "linecolor": "white",
            "ticks": ""
           },
           "bgcolor": "#E5ECF6",
           "radialaxis": {
            "gridcolor": "white",
            "linecolor": "white",
            "ticks": ""
           }
          },
          "scene": {
           "xaxis": {
            "backgroundcolor": "#E5ECF6",
            "gridcolor": "white",
            "gridwidth": 2,
            "linecolor": "white",
            "showbackground": true,
            "ticks": "",
            "zerolinecolor": "white"
           },
           "yaxis": {
            "backgroundcolor": "#E5ECF6",
            "gridcolor": "white",
            "gridwidth": 2,
            "linecolor": "white",
            "showbackground": true,
            "ticks": "",
            "zerolinecolor": "white"
           },
           "zaxis": {
            "backgroundcolor": "#E5ECF6",
            "gridcolor": "white",
            "gridwidth": 2,
            "linecolor": "white",
            "showbackground": true,
            "ticks": "",
            "zerolinecolor": "white"
           }
          },
          "shapedefaults": {
           "line": {
            "color": "#2a3f5f"
           }
          },
          "ternary": {
           "aaxis": {
            "gridcolor": "white",
            "linecolor": "white",
            "ticks": ""
           },
           "baxis": {
            "gridcolor": "white",
            "linecolor": "white",
            "ticks": ""
           },
           "bgcolor": "#E5ECF6",
           "caxis": {
            "gridcolor": "white",
            "linecolor": "white",
            "ticks": ""
           }
          },
          "title": {
           "x": 0.05
          },
          "xaxis": {
           "automargin": true,
           "gridcolor": "white",
           "linecolor": "white",
           "ticks": "",
           "title": {
            "standoff": 15
           },
           "zerolinecolor": "white",
           "zerolinewidth": 2
          },
          "yaxis": {
           "automargin": true,
           "gridcolor": "white",
           "linecolor": "white",
           "ticks": "",
           "title": {
            "standoff": 15
           },
           "zerolinecolor": "white",
           "zerolinewidth": 2
          }
         }
        },
        "title": {
         "text": "Countries Date Rate From Air Pollution Compare"
        },
        "xaxis": {
         "title": {
          "text": "Country"
         }
        },
        "yaxis": {
         "title": {
          "text": "Risk Mean (2010-2015)"
         }
        }
       }
      }
     },
     "metadata": {},
     "output_type": "display_data"
    }
   ],
   "source": [
    "fig_data = []\n",
    "for name, code in l.items():\n",
    "\n",
    "    country_states = (\n",
    "        df[(df.location_clean == code)]\n",
    "        .groupby([\"location\", \"location_clean\", \"age\"])\n",
    "        .agg(\n",
    "            val_sum=(\"val\", \"sum\"),\n",
    "            val_mean=(\"val\", \"mean\"),\n",
    "            val_first=(\"val\", \"min\"),\n",
    "            val_max=(\"val\", \"max\"),\n",
    "        )\n",
    "        .sort_values(\n",
    "            by=\"age\", key=lambda x: x.str.split(\" \", expand=True)[0].astype(\"int\")\n",
    "        )\n",
    "        .reset_index()\n",
    "    )\n",
    "    fig_data.append(go.Bar(name=name, x=x_axis_label, y=country_states.val_mean))\n",
    "# Change the bar mode\n",
    "fig = go.Figure(data=fig_data)\n",
    "fig.update_layout(\n",
    "    barmode=\"group\",\n",
    "    xaxis_title=\"Country\",\n",
    "    yaxis_title=\"Risk Mean (2010-2015)\",\n",
    "    legend_title=\"Risk Factor\",\n",
    "    title=\"Countries Date Rate From Air Pollution Compare\",\n",
    ")\n",
    "fig.show()\n"
   ]
  },
  {
   "cell_type": "code",
   "execution_count": 122,
   "metadata": {},
   "outputs": [
    {
     "data": {
      "text/plain": [
       "<BarContainer object of 18 artists>"
      ]
     },
     "execution_count": 122,
     "metadata": {},
     "output_type": "execute_result"
    },
    {
     "data": {
      "image/png": "[encoded data removed]",
      "text/plain": [
       "<Figure size 1080x1080 with 1 Axes>"
      ]
     },
     "metadata": {
      "needs_background": "light"
     },
     "output_type": "display_data"
    }
   ],
   "source": [
    "fig, ax = plt.subplots(figsize=(15, 15)kk)\n",
    "x_axis_label = [i[1].replace(' to ', '-') for i in china.index]\n",
    "ax.bar(x=x_axis_label, height=age_death_rate.val.values)"
   ]
  },
  {
   "cell_type": "code",
   "execution_count": 34,
   "metadata": {},
   "outputs": [
    {
     "data": {
      "text/html": [
       "<div>\n",
       "<style scoped>\n",
       "    .dataframe tbody tr th:only-of-type {\n",
       "        vertical-align: middle;\n",
       "    }\n",
       "\n",
       "    .dataframe tbody tr th {\n",
       "        vertical-align: top;\n",
       "    }\n",
       "\n",
       "    .dataframe thead th {\n",
       "        text-align: right;\n",
       "    }\n",
       "</style>\n",
       "<table border=\"1\" class=\"dataframe\">\n",
       "  <thead>\n",
       "    <tr style=\"text-align: right;\">\n",
       "      <th></th>\n",
       "      <th>measure</th>\n",
       "      <th>location</th>\n",
       "      <th>sex</th>\n",
       "      <th>age</th>\n",
       "      <th>cause</th>\n",
       "      <th>metric</th>\n",
       "      <th>year</th>\n",
       "      <th>val</th>\n",
       "      <th>upper</th>\n",
       "      <th>lower</th>\n",
       "    </tr>\n",
       "  </thead>\n",
       "  <tbody>\n",
       "    <tr>\n",
       "      <th>4</th>\n",
       "      <td>Deaths</td>\n",
       "      <td>Gabon</td>\n",
       "      <td>Male</td>\n",
       "      <td>1 to 4</td>\n",
       "      <td>Cardiovascular diseases</td>\n",
       "      <td>Number</td>\n",
       "      <td>2016</td>\n",
       "      <td>1.307133</td>\n",
       "      <td>2.660127</td>\n",
       "      <td>0.520400</td>\n",
       "    </tr>\n",
       "    <tr>\n",
       "      <th>5</th>\n",
       "      <td>Deaths</td>\n",
       "      <td>Gabon</td>\n",
       "      <td>Female</td>\n",
       "      <td>1 to 4</td>\n",
       "      <td>Cardiovascular diseases</td>\n",
       "      <td>Number</td>\n",
       "      <td>2016</td>\n",
       "      <td>0.506277</td>\n",
       "      <td>1.594778</td>\n",
       "      <td>0.177413</td>\n",
       "    </tr>\n",
       "    <tr>\n",
       "      <th>6</th>\n",
       "      <td>Deaths</td>\n",
       "      <td>Gabon</td>\n",
       "      <td>Both</td>\n",
       "      <td>1 to 4</td>\n",
       "      <td>Cardiovascular diseases</td>\n",
       "      <td>Number</td>\n",
       "      <td>2016</td>\n",
       "      <td>1.813410</td>\n",
       "      <td>4.013179</td>\n",
       "      <td>0.748420</td>\n",
       "    </tr>\n",
       "    <tr>\n",
       "      <th>7</th>\n",
       "      <td>Deaths</td>\n",
       "      <td>Gabon</td>\n",
       "      <td>Male</td>\n",
       "      <td>5 to 9</td>\n",
       "      <td>Cardiovascular diseases</td>\n",
       "      <td>Number</td>\n",
       "      <td>2016</td>\n",
       "      <td>0.883534</td>\n",
       "      <td>1.491956</td>\n",
       "      <td>0.494747</td>\n",
       "    </tr>\n",
       "    <tr>\n",
       "      <th>8</th>\n",
       "      <td>Deaths</td>\n",
       "      <td>Gabon</td>\n",
       "      <td>Female</td>\n",
       "      <td>5 to 9</td>\n",
       "      <td>Cardiovascular diseases</td>\n",
       "      <td>Number</td>\n",
       "      <td>2016</td>\n",
       "      <td>0.502440</td>\n",
       "      <td>0.915741</td>\n",
       "      <td>0.289085</td>\n",
       "    </tr>\n",
       "    <tr>\n",
       "      <th>...</th>\n",
       "      <td>...</td>\n",
       "      <td>...</td>\n",
       "      <td>...</td>\n",
       "      <td>...</td>\n",
       "      <td>...</td>\n",
       "      <td>...</td>\n",
       "      <td>...</td>\n",
       "      <td>...</td>\n",
       "      <td>...</td>\n",
       "      <td>...</td>\n",
       "    </tr>\n",
       "    <tr>\n",
       "      <th>4630423</th>\n",
       "      <td>Deaths</td>\n",
       "      <td>Argentina</td>\n",
       "      <td>Female</td>\n",
       "      <td>80 to 84</td>\n",
       "      <td>Stroke</td>\n",
       "      <td>Number</td>\n",
       "      <td>2006</td>\n",
       "      <td>2386.710574</td>\n",
       "      <td>2690.004918</td>\n",
       "      <td>2051.770217</td>\n",
       "    </tr>\n",
       "    <tr>\n",
       "      <th>4630424</th>\n",
       "      <td>Deaths</td>\n",
       "      <td>Argentina</td>\n",
       "      <td>Both</td>\n",
       "      <td>80 to 84</td>\n",
       "      <td>Stroke</td>\n",
       "      <td>Number</td>\n",
       "      <td>2006</td>\n",
       "      <td>4117.693988</td>\n",
       "      <td>4646.843314</td>\n",
       "      <td>3569.852176</td>\n",
       "    </tr>\n",
       "    <tr>\n",
       "      <th>4630425</th>\n",
       "      <td>Deaths</td>\n",
       "      <td>Argentina</td>\n",
       "      <td>Male</td>\n",
       "      <td>85 plus</td>\n",
       "      <td>Stroke</td>\n",
       "      <td>Number</td>\n",
       "      <td>2006</td>\n",
       "      <td>1701.973332</td>\n",
       "      <td>1915.251968</td>\n",
       "      <td>1449.030823</td>\n",
       "    </tr>\n",
       "    <tr>\n",
       "      <th>4630426</th>\n",
       "      <td>Deaths</td>\n",
       "      <td>Argentina</td>\n",
       "      <td>Female</td>\n",
       "      <td>85 plus</td>\n",
       "      <td>Stroke</td>\n",
       "      <td>Number</td>\n",
       "      <td>2006</td>\n",
       "      <td>3811.848856</td>\n",
       "      <td>4292.646199</td>\n",
       "      <td>3125.849003</td>\n",
       "    </tr>\n",
       "    <tr>\n",
       "      <th>4630427</th>\n",
       "      <td>Deaths</td>\n",
       "      <td>Argentina</td>\n",
       "      <td>Both</td>\n",
       "      <td>85 plus</td>\n",
       "      <td>Stroke</td>\n",
       "      <td>Number</td>\n",
       "      <td>2006</td>\n",
       "      <td>5513.822188</td>\n",
       "      <td>6108.127854</td>\n",
       "      <td>4576.849026</td>\n",
       "    </tr>\n",
       "  </tbody>\n",
       "</table>\n",
       "<p>511920 rows × 10 columns</p>\n",
       "</div>"
      ],
      "text/plain": [
       "        measure   location     sex       age                    cause  metric  \\\n",
       "4        Deaths      Gabon    Male    1 to 4  Cardiovascular diseases  Number   \n",
       "5        Deaths      Gabon  Female    1 to 4  Cardiovascular diseases  Number   \n",
       "6        Deaths      Gabon    Both    1 to 4  Cardiovascular diseases  Number   \n",
       "7        Deaths      Gabon    Male    5 to 9  Cardiovascular diseases  Number   \n",
       "8        Deaths      Gabon  Female    5 to 9  Cardiovascular diseases  Number   \n",
       "...         ...        ...     ...       ...                      ...     ...   \n",
       "4630423  Deaths  Argentina  Female  80 to 84                   Stroke  Number   \n",
       "4630424  Deaths  Argentina    Both  80 to 84                   Stroke  Number   \n",
       "4630425  Deaths  Argentina    Male   85 plus                   Stroke  Number   \n",
       "4630426  Deaths  Argentina  Female   85 plus                   Stroke  Number   \n",
       "4630427  Deaths  Argentina    Both   85 plus                   Stroke  Number   \n",
       "\n",
       "         year          val        upper        lower  \n",
       "4        2016     1.307133     2.660127     0.520400  \n",
       "5        2016     0.506277     1.594778     0.177413  \n",
       "6        2016     1.813410     4.013179     0.748420  \n",
       "7        2016     0.883534     1.491956     0.494747  \n",
       "8        2016     0.502440     0.915741     0.289085  \n",
       "...       ...          ...          ...          ...  \n",
       "4630423  2006  2386.710574  2690.004918  2051.770217  \n",
       "4630424  2006  4117.693988  4646.843314  3569.852176  \n",
       "4630425  2006  1701.973332  1915.251968  1449.030823  \n",
       "4630426  2006  3811.848856  4292.646199  3125.849003  \n",
       "4630427  2006  5513.822188  6108.127854  4576.849026  \n",
       "\n",
       "[511920 rows x 10 columns]"
      ]
     },
     "execution_count": 34,
     "metadata": {},
     "output_type": "execute_result"
    }
   ],
   "source": [
    "cdf"
   ]
  },
  {
   "cell_type": "code",
   "execution_count": 35,
   "metadata": {},
   "outputs": [],
   "source": [
    "each_year = cdf[cdf.sex==\"Both\"].groupby(['age', 'year', \"location\"]).agg(\n",
    "    {'val': 'sum',\n",
    "    'upper': 'sum',\n",
    "    'lower': 'sum'}\n",
    ").sort_values(by='age', key=lambda x: x.str.split(' ', expand=True)[0].astype('int'))"
   ]
  },
  {
   "cell_type": "code",
   "execution_count": 48,
   "metadata": {},
   "outputs": [
    {
     "data": {
      "text/html": [
       "<div>\n",
       "<style scoped>\n",
       "    .dataframe tbody tr th:only-of-type {\n",
       "        vertical-align: middle;\n",
       "    }\n",
       "\n",
       "    .dataframe tbody tr th {\n",
       "        vertical-align: top;\n",
       "    }\n",
       "\n",
       "    .dataframe thead th {\n",
       "        text-align: right;\n",
       "    }\n",
       "</style>\n",
       "<table border=\"1\" class=\"dataframe\">\n",
       "  <thead>\n",
       "    <tr style=\"text-align: right;\">\n",
       "      <th></th>\n",
       "      <th>age</th>\n",
       "      <th>year</th>\n",
       "      <th>location</th>\n",
       "      <th>val</th>\n",
       "      <th>upper</th>\n",
       "      <th>lower</th>\n",
       "    </tr>\n",
       "  </thead>\n",
       "  <tbody>\n",
       "    <tr>\n",
       "      <th>0</th>\n",
       "      <td>1 to 4</td>\n",
       "      <td>1990</td>\n",
       "      <td>Afghanistan</td>\n",
       "      <td>123.802161</td>\n",
       "      <td>251.569842</td>\n",
       "      <td>45.748402</td>\n",
       "    </tr>\n",
       "    <tr>\n",
       "      <th>1</th>\n",
       "      <td>1 to 4</td>\n",
       "      <td>2010</td>\n",
       "      <td>Argentina</td>\n",
       "      <td>47.757941</td>\n",
       "      <td>59.538155</td>\n",
       "      <td>38.132899</td>\n",
       "    </tr>\n",
       "    <tr>\n",
       "      <th>2</th>\n",
       "      <td>1 to 4</td>\n",
       "      <td>2010</td>\n",
       "      <td>Algeria</td>\n",
       "      <td>112.904407</td>\n",
       "      <td>185.349133</td>\n",
       "      <td>63.360739</td>\n",
       "    </tr>\n",
       "    <tr>\n",
       "      <th>3</th>\n",
       "      <td>1 to 4</td>\n",
       "      <td>2010</td>\n",
       "      <td>Albania</td>\n",
       "      <td>18.931777</td>\n",
       "      <td>28.403113</td>\n",
       "      <td>10.330312</td>\n",
       "    </tr>\n",
       "    <tr>\n",
       "      <th>4</th>\n",
       "      <td>1 to 4</td>\n",
       "      <td>2010</td>\n",
       "      <td>Afghanistan</td>\n",
       "      <td>95.790463</td>\n",
       "      <td>186.120422</td>\n",
       "      <td>47.527911</td>\n",
       "    </tr>\n",
       "    <tr>\n",
       "      <th>...</th>\n",
       "      <td>...</td>\n",
       "      <td>...</td>\n",
       "      <td>...</td>\n",
       "      <td>...</td>\n",
       "      <td>...</td>\n",
       "      <td>...</td>\n",
       "    </tr>\n",
       "    <tr>\n",
       "      <th>85315</th>\n",
       "      <td>85 plus</td>\n",
       "      <td>1999</td>\n",
       "      <td>Viet Nam</td>\n",
       "      <td>35701.561231</td>\n",
       "      <td>42351.176110</td>\n",
       "      <td>28336.014076</td>\n",
       "    </tr>\n",
       "    <tr>\n",
       "      <th>85316</th>\n",
       "      <td>85 plus</td>\n",
       "      <td>1999</td>\n",
       "      <td>Venezuela (Bolivarian Republic of)</td>\n",
       "      <td>7595.470933</td>\n",
       "      <td>8471.430913</td>\n",
       "      <td>6020.432246</td>\n",
       "    </tr>\n",
       "    <tr>\n",
       "      <th>85317</th>\n",
       "      <td>85 plus</td>\n",
       "      <td>1999</td>\n",
       "      <td>Uzbekistan</td>\n",
       "      <td>17370.999785</td>\n",
       "      <td>18259.860352</td>\n",
       "      <td>15613.066091</td>\n",
       "    </tr>\n",
       "    <tr>\n",
       "      <th>85318</th>\n",
       "      <td>85 plus</td>\n",
       "      <td>1999</td>\n",
       "      <td>United States of America</td>\n",
       "      <td>402665.507811</td>\n",
       "      <td>438028.946860</td>\n",
       "      <td>334826.310303</td>\n",
       "    </tr>\n",
       "    <tr>\n",
       "      <th>85319</th>\n",
       "      <td>85 plus</td>\n",
       "      <td>2019</td>\n",
       "      <td>Zimbabwe</td>\n",
       "      <td>2499.231806</td>\n",
       "      <td>3167.141289</td>\n",
       "      <td>1950.361929</td>\n",
       "    </tr>\n",
       "  </tbody>\n",
       "</table>\n",
       "<p>85320 rows × 6 columns</p>\n",
       "</div>"
      ],
      "text/plain": [
       "           age  year                            location            val  \\\n",
       "0       1 to 4  1990                         Afghanistan     123.802161   \n",
       "1       1 to 4  2010                           Argentina      47.757941   \n",
       "2       1 to 4  2010                             Algeria     112.904407   \n",
       "3       1 to 4  2010                             Albania      18.931777   \n",
       "4       1 to 4  2010                         Afghanistan      95.790463   \n",
       "...        ...   ...                                 ...            ...   \n",
       "85315  85 plus  1999                            Viet Nam   35701.561231   \n",
       "85316  85 plus  1999  Venezuela (Bolivarian Republic of)    7595.470933   \n",
       "85317  85 plus  1999                          Uzbekistan   17370.999785   \n",
       "85318  85 plus  1999            United States of America  402665.507811   \n",
       "85319  85 plus  2019                            Zimbabwe    2499.231806   \n",
       "\n",
       "               upper          lower  \n",
       "0         251.569842      45.748402  \n",
       "1          59.538155      38.132899  \n",
       "2         185.349133      63.360739  \n",
       "3          28.403113      10.330312  \n",
       "4         186.120422      47.527911  \n",
       "...              ...            ...  \n",
       "85315   42351.176110   28336.014076  \n",
       "85316    8471.430913    6020.432246  \n",
       "85317   18259.860352   15613.066091  \n",
       "85318  438028.946860  334826.310303  \n",
       "85319    3167.141289    1950.361929  \n",
       "\n",
       "[85320 rows x 6 columns]"
      ]
     },
     "execution_count": 48,
     "metadata": {},
     "output_type": "execute_result"
    }
   ],
   "source": [
    "pd.DataFrame(each_year.to_records())"
   ]
  },
  {
   "cell_type": "code",
   "execution_count": 37,
   "metadata": {},
   "outputs": [
    {
     "data": {
      "text/html": [
       "<div>\n",
       "<style scoped>\n",
       "    .dataframe tbody tr th:only-of-type {\n",
       "        vertical-align: middle;\n",
       "    }\n",
       "\n",
       "    .dataframe tbody tr th {\n",
       "        vertical-align: top;\n",
       "    }\n",
       "\n",
       "    .dataframe thead th {\n",
       "        text-align: right;\n",
       "    }\n",
       "</style>\n",
       "<table border=\"1\" class=\"dataframe\">\n",
       "  <thead>\n",
       "    <tr style=\"text-align: right;\">\n",
       "      <th></th>\n",
       "      <th></th>\n",
       "      <th></th>\n",
       "      <th>val</th>\n",
       "      <th>upper</th>\n",
       "      <th>lower</th>\n",
       "    </tr>\n",
       "    <tr>\n",
       "      <th>age</th>\n",
       "      <th>year</th>\n",
       "      <th>location</th>\n",
       "      <th></th>\n",
       "      <th></th>\n",
       "      <th></th>\n",
       "    </tr>\n",
       "  </thead>\n",
       "  <tbody>\n",
       "    <tr>\n",
       "      <th rowspan=\"5\" valign=\"top\">1 to 4</th>\n",
       "      <th rowspan=\"5\" valign=\"top\">2019</th>\n",
       "      <th>Indonesia</th>\n",
       "      <td>212.012270</td>\n",
       "      <td>339.536022</td>\n",
       "      <td>149.955315</td>\n",
       "    </tr>\n",
       "    <tr>\n",
       "      <th>India</th>\n",
       "      <td>969.902351</td>\n",
       "      <td>1313.288294</td>\n",
       "      <td>718.470924</td>\n",
       "    </tr>\n",
       "    <tr>\n",
       "      <th>Hungary</th>\n",
       "      <td>1.380377</td>\n",
       "      <td>1.899329</td>\n",
       "      <td>0.874539</td>\n",
       "    </tr>\n",
       "    <tr>\n",
       "      <th>Honduras</th>\n",
       "      <td>18.208949</td>\n",
       "      <td>34.032755</td>\n",
       "      <td>7.379660</td>\n",
       "    </tr>\n",
       "    <tr>\n",
       "      <th>Haiti</th>\n",
       "      <td>211.209118</td>\n",
       "      <td>366.792208</td>\n",
       "      <td>79.631302</td>\n",
       "    </tr>\n",
       "    <tr>\n",
       "      <th>...</th>\n",
       "      <th>...</th>\n",
       "      <th>...</th>\n",
       "      <td>...</td>\n",
       "      <td>...</td>\n",
       "      <td>...</td>\n",
       "    </tr>\n",
       "    <tr>\n",
       "      <th rowspan=\"5\" valign=\"top\">85 plus</th>\n",
       "      <th rowspan=\"5\" valign=\"top\">2019</th>\n",
       "      <th>Algeria</th>\n",
       "      <td>32139.094540</td>\n",
       "      <td>36959.176300</td>\n",
       "      <td>27104.176321</td>\n",
       "    </tr>\n",
       "    <tr>\n",
       "      <th>Albania</th>\n",
       "      <td>5382.987286</td>\n",
       "      <td>6600.857457</td>\n",
       "      <td>4160.189293</td>\n",
       "    </tr>\n",
       "    <tr>\n",
       "      <th>Afghanistan</th>\n",
       "      <td>6636.642420</td>\n",
       "      <td>7847.148201</td>\n",
       "      <td>5045.227029</td>\n",
       "    </tr>\n",
       "    <tr>\n",
       "      <th>Zambia</th>\n",
       "      <td>2359.632430</td>\n",
       "      <td>2837.981251</td>\n",
       "      <td>1855.141774</td>\n",
       "    </tr>\n",
       "    <tr>\n",
       "      <th>Zimbabwe</th>\n",
       "      <td>2499.231806</td>\n",
       "      <td>3167.141289</td>\n",
       "      <td>1950.361929</td>\n",
       "    </tr>\n",
       "  </tbody>\n",
       "</table>\n",
       "<p>2844 rows × 3 columns</p>\n",
       "</div>"
      ],
      "text/plain": [
       "                                   val         upper         lower\n",
       "age     year location                                             \n",
       "1 to 4  2019 Indonesia      212.012270    339.536022    149.955315\n",
       "             India          969.902351   1313.288294    718.470924\n",
       "             Hungary          1.380377      1.899329      0.874539\n",
       "             Honduras        18.208949     34.032755      7.379660\n",
       "             Haiti          211.209118    366.792208     79.631302\n",
       "...                                ...           ...           ...\n",
       "85 plus 2019 Algeria      32139.094540  36959.176300  27104.176321\n",
       "             Albania       5382.987286   6600.857457   4160.189293\n",
       "             Afghanistan   6636.642420   7847.148201   5045.227029\n",
       "             Zambia        2359.632430   2837.981251   1855.141774\n",
       "             Zimbabwe      2499.231806   3167.141289   1950.361929\n",
       "\n",
       "[2844 rows x 3 columns]"
      ]
     },
     "execution_count": 37,
     "metadata": {},
     "output_type": "execute_result"
    }
   ],
   "source": [
    "each_year.query(\"year==2019\")"
   ]
  },
  {
   "cell_type": "code",
   "execution_count": 36,
   "metadata": {},
   "outputs": [
    {
     "ename": "ValueError",
     "evalue": "shape mismatch: objects cannot be broadcast to a single shape",
     "output_type": "error",
     "traceback": [
      "\u001b[0;31m---------------------------------------------------------------------------\u001b[0m",
      "\u001b[0;31mValueError\u001b[0m                                Traceback (most recent call last)",
      "\u001b[0;32m/tmp/ipykernel_2222837/3040017370.py\u001b[0m in \u001b[0;36m<module>\u001b[0;34m\u001b[0m\n\u001b[1;32m      2\u001b[0m \u001b[0;32mfor\u001b[0m \u001b[0mi\u001b[0m \u001b[0;32min\u001b[0m \u001b[0mrange\u001b[0m\u001b[0;34m(\u001b[0m\u001b[0;36m2\u001b[0m\u001b[0;34m)\u001b[0m\u001b[0;34m:\u001b[0m\u001b[0;34m\u001b[0m\u001b[0;34m\u001b[0m\u001b[0m\n\u001b[1;32m      3\u001b[0m     \u001b[0;32mfor\u001b[0m \u001b[0mj\u001b[0m \u001b[0;32min\u001b[0m \u001b[0mrange\u001b[0m\u001b[0;34m(\u001b[0m\u001b[0;36m2\u001b[0m\u001b[0;34m)\u001b[0m\u001b[0;34m:\u001b[0m\u001b[0;34m\u001b[0m\u001b[0;34m\u001b[0m\u001b[0m\n\u001b[0;32m----> 4\u001b[0;31m         \u001b[0maxs\u001b[0m\u001b[0;34m[\u001b[0m\u001b[0mi\u001b[0m\u001b[0;34m,\u001b[0m \u001b[0mj\u001b[0m\u001b[0;34m]\u001b[0m\u001b[0;34m.\u001b[0m\u001b[0mbar\u001b[0m\u001b[0;34m(\u001b[0m\u001b[0mx\u001b[0m\u001b[0;34m=\u001b[0m\u001b[0mx_axis_label\u001b[0m\u001b[0;34m,\u001b[0m \u001b[0mheight\u001b[0m\u001b[0;34m=\u001b[0m\u001b[0meach_year\u001b[0m\u001b[0;34m.\u001b[0m\u001b[0mquery\u001b[0m\u001b[0;34m(\u001b[0m\u001b[0;34mf\"year==20{i:02d}\"\u001b[0m\u001b[0;34m)\u001b[0m\u001b[0;34m.\u001b[0m\u001b[0mval\u001b[0m\u001b[0;34m.\u001b[0m\u001b[0mvalues\u001b[0m\u001b[0;34m)\u001b[0m\u001b[0;34m\u001b[0m\u001b[0;34m\u001b[0m\u001b[0m\n\u001b[0m\u001b[1;32m      5\u001b[0m \u001b[0;31m# axs[1].bar(x=x_axis_label, height=each_year.query(\"year==2019\").val.values)\u001b[0m\u001b[0;34m\u001b[0m\u001b[0;34m\u001b[0m\u001b[0m\n\u001b[1;32m      6\u001b[0m \u001b[0mplt\u001b[0m\u001b[0;34m.\u001b[0m\u001b[0mshow\u001b[0m\u001b[0;34m(\u001b[0m\u001b[0;34m)\u001b[0m\u001b[0;34m\u001b[0m\u001b[0;34m\u001b[0m\u001b[0m\n",
      "\u001b[0;32m~/miniconda3/envs/data/lib/python3.9/site-packages/matplotlib/__init__.py\u001b[0m in \u001b[0;36minner\u001b[0;34m(ax, data, *args, **kwargs)\u001b[0m\n\u001b[1;32m   1410\u001b[0m     \u001b[0;32mdef\u001b[0m \u001b[0minner\u001b[0m\u001b[0;34m(\u001b[0m\u001b[0max\u001b[0m\u001b[0;34m,\u001b[0m \u001b[0;34m*\u001b[0m\u001b[0margs\u001b[0m\u001b[0;34m,\u001b[0m \u001b[0mdata\u001b[0m\u001b[0;34m=\u001b[0m\u001b[0;32mNone\u001b[0m\u001b[0;34m,\u001b[0m \u001b[0;34m**\u001b[0m\u001b[0mkwargs\u001b[0m\u001b[0;34m)\u001b[0m\u001b[0;34m:\u001b[0m\u001b[0;34m\u001b[0m\u001b[0;34m\u001b[0m\u001b[0m\n\u001b[1;32m   1411\u001b[0m         \u001b[0;32mif\u001b[0m \u001b[0mdata\u001b[0m \u001b[0;32mis\u001b[0m \u001b[0;32mNone\u001b[0m\u001b[0;34m:\u001b[0m\u001b[0;34m\u001b[0m\u001b[0;34m\u001b[0m\u001b[0m\n\u001b[0;32m-> 1412\u001b[0;31m             \u001b[0;32mreturn\u001b[0m \u001b[0mfunc\u001b[0m\u001b[0;34m(\u001b[0m\u001b[0max\u001b[0m\u001b[0;34m,\u001b[0m \u001b[0;34m*\u001b[0m\u001b[0mmap\u001b[0m\u001b[0;34m(\u001b[0m\u001b[0msanitize_sequence\u001b[0m\u001b[0;34m,\u001b[0m \u001b[0margs\u001b[0m\u001b[0;34m)\u001b[0m\u001b[0;34m,\u001b[0m \u001b[0;34m**\u001b[0m\u001b[0mkwargs\u001b[0m\u001b[0;34m)\u001b[0m\u001b[0;34m\u001b[0m\u001b[0;34m\u001b[0m\u001b[0m\n\u001b[0m\u001b[1;32m   1413\u001b[0m \u001b[0;34m\u001b[0m\u001b[0m\n\u001b[1;32m   1414\u001b[0m         \u001b[0mbound\u001b[0m \u001b[0;34m=\u001b[0m \u001b[0mnew_sig\u001b[0m\u001b[0;34m.\u001b[0m\u001b[0mbind\u001b[0m\u001b[0;34m(\u001b[0m\u001b[0max\u001b[0m\u001b[0;34m,\u001b[0m \u001b[0;34m*\u001b[0m\u001b[0margs\u001b[0m\u001b[0;34m,\u001b[0m \u001b[0;34m**\u001b[0m\u001b[0mkwargs\u001b[0m\u001b[0;34m)\u001b[0m\u001b[0;34m\u001b[0m\u001b[0;34m\u001b[0m\u001b[0m\n",
      "\u001b[0;32m~/miniconda3/envs/data/lib/python3.9/site-packages/matplotlib/axes/_axes.py\u001b[0m in \u001b[0;36mbar\u001b[0;34m(self, x, height, width, bottom, align, **kwargs)\u001b[0m\n\u001b[1;32m   2340\u001b[0m                 \u001b[0myerr\u001b[0m \u001b[0;34m=\u001b[0m \u001b[0mself\u001b[0m\u001b[0;34m.\u001b[0m\u001b[0m_convert_dx\u001b[0m\u001b[0;34m(\u001b[0m\u001b[0myerr\u001b[0m\u001b[0;34m,\u001b[0m \u001b[0my0\u001b[0m\u001b[0;34m,\u001b[0m \u001b[0my\u001b[0m\u001b[0;34m,\u001b[0m \u001b[0mself\u001b[0m\u001b[0;34m.\u001b[0m\u001b[0mconvert_yunits\u001b[0m\u001b[0;34m)\u001b[0m\u001b[0;34m\u001b[0m\u001b[0;34m\u001b[0m\u001b[0m\n\u001b[1;32m   2341\u001b[0m \u001b[0;34m\u001b[0m\u001b[0m\n\u001b[0;32m-> 2342\u001b[0;31m         x, height, width, y, linewidth, hatch = np.broadcast_arrays(\n\u001b[0m\u001b[1;32m   2343\u001b[0m             \u001b[0;31m# Make args iterable too.\u001b[0m\u001b[0;34m\u001b[0m\u001b[0;34m\u001b[0m\u001b[0m\n\u001b[1;32m   2344\u001b[0m             np.atleast_1d(x), height, width, y, linewidth, hatch)\n",
      "\u001b[0;32m<__array_function__ internals>\u001b[0m in \u001b[0;36mbroadcast_arrays\u001b[0;34m(*args, **kwargs)\u001b[0m\n",
      "\u001b[0;32m~/miniconda3/envs/data/lib/python3.9/site-packages/numpy/lib/stride_tricks.py\u001b[0m in \u001b[0;36mbroadcast_arrays\u001b[0;34m(subok, *args)\u001b[0m\n\u001b[1;32m    536\u001b[0m     \u001b[0margs\u001b[0m \u001b[0;34m=\u001b[0m \u001b[0;34m[\u001b[0m\u001b[0mnp\u001b[0m\u001b[0;34m.\u001b[0m\u001b[0marray\u001b[0m\u001b[0;34m(\u001b[0m\u001b[0m_m\u001b[0m\u001b[0;34m,\u001b[0m \u001b[0mcopy\u001b[0m\u001b[0;34m=\u001b[0m\u001b[0;32mFalse\u001b[0m\u001b[0;34m,\u001b[0m \u001b[0msubok\u001b[0m\u001b[0;34m=\u001b[0m\u001b[0msubok\u001b[0m\u001b[0;34m)\u001b[0m \u001b[0;32mfor\u001b[0m \u001b[0m_m\u001b[0m \u001b[0;32min\u001b[0m \u001b[0margs\u001b[0m\u001b[0;34m]\u001b[0m\u001b[0;34m\u001b[0m\u001b[0;34m\u001b[0m\u001b[0m\n\u001b[1;32m    537\u001b[0m \u001b[0;34m\u001b[0m\u001b[0m\n\u001b[0;32m--> 538\u001b[0;31m     \u001b[0mshape\u001b[0m \u001b[0;34m=\u001b[0m \u001b[0m_broadcast_shape\u001b[0m\u001b[0;34m(\u001b[0m\u001b[0;34m*\u001b[0m\u001b[0margs\u001b[0m\u001b[0;34m)\u001b[0m\u001b[0;34m\u001b[0m\u001b[0;34m\u001b[0m\u001b[0m\n\u001b[0m\u001b[1;32m    539\u001b[0m \u001b[0;34m\u001b[0m\u001b[0m\n\u001b[1;32m    540\u001b[0m     \u001b[0;32mif\u001b[0m \u001b[0mall\u001b[0m\u001b[0;34m(\u001b[0m\u001b[0marray\u001b[0m\u001b[0;34m.\u001b[0m\u001b[0mshape\u001b[0m \u001b[0;34m==\u001b[0m \u001b[0mshape\u001b[0m \u001b[0;32mfor\u001b[0m \u001b[0marray\u001b[0m \u001b[0;32min\u001b[0m \u001b[0margs\u001b[0m\u001b[0;34m)\u001b[0m\u001b[0;34m:\u001b[0m\u001b[0;34m\u001b[0m\u001b[0;34m\u001b[0m\u001b[0m\n",
      "\u001b[0;32m~/miniconda3/envs/data/lib/python3.9/site-packages/numpy/lib/stride_tricks.py\u001b[0m in \u001b[0;36m_broadcast_shape\u001b[0;34m(*args)\u001b[0m\n\u001b[1;32m    418\u001b[0m     \u001b[0;31m# use the old-iterator because np.nditer does not handle size 0 arrays\u001b[0m\u001b[0;34m\u001b[0m\u001b[0;34m\u001b[0m\u001b[0m\n\u001b[1;32m    419\u001b[0m     \u001b[0;31m# consistently\u001b[0m\u001b[0;34m\u001b[0m\u001b[0;34m\u001b[0m\u001b[0m\n\u001b[0;32m--> 420\u001b[0;31m     \u001b[0mb\u001b[0m \u001b[0;34m=\u001b[0m \u001b[0mnp\u001b[0m\u001b[0;34m.\u001b[0m\u001b[0mbroadcast\u001b[0m\u001b[0;34m(\u001b[0m\u001b[0;34m*\u001b[0m\u001b[0margs\u001b[0m\u001b[0;34m[\u001b[0m\u001b[0;34m:\u001b[0m\u001b[0;36m32\u001b[0m\u001b[0;34m]\u001b[0m\u001b[0;34m)\u001b[0m\u001b[0;34m\u001b[0m\u001b[0;34m\u001b[0m\u001b[0m\n\u001b[0m\u001b[1;32m    421\u001b[0m     \u001b[0;31m# unfortunately, it cannot handle 32 or more arguments directly\u001b[0m\u001b[0;34m\u001b[0m\u001b[0;34m\u001b[0m\u001b[0m\n\u001b[1;32m    422\u001b[0m     \u001b[0;32mfor\u001b[0m \u001b[0mpos\u001b[0m \u001b[0;32min\u001b[0m \u001b[0mrange\u001b[0m\u001b[0;34m(\u001b[0m\u001b[0;36m32\u001b[0m\u001b[0;34m,\u001b[0m \u001b[0mlen\u001b[0m\u001b[0;34m(\u001b[0m\u001b[0margs\u001b[0m\u001b[0;34m)\u001b[0m\u001b[0;34m,\u001b[0m \u001b[0;36m31\u001b[0m\u001b[0;34m)\u001b[0m\u001b[0;34m:\u001b[0m\u001b[0;34m\u001b[0m\u001b[0;34m\u001b[0m\u001b[0m\n",
      "\u001b[0;31mValueError\u001b[0m: shape mismatch: objects cannot be broadcast to a single shape"
     ]
    },
    {
     "data": {
      "image/png": "[encoded data removed]",
      "text/plain": [
       "<Figure size 1080x1080 with 4 Axes>"
      ]
     },
     "metadata": {
      "needs_background": "light"
     },
     "output_type": "display_data"
    }
   ],
   "source": [
    "fig, axs = plt.subplots(nrows=2, ncols=2, figsize=(15, 15))\n",
    "for i in range(2):\n",
    "    for j in range(2):\n",
    "        axs[i, j].bar(x=x_axis_label, height=each_year.query(f\"year==20{i:02d}\").val.values)\n",
    "# axs[1].bar(x=x_axis_label, height=each_year.query(\"year==2019\").val.values)\n",
    "plt.show()"
   ]
  },
  {
   "cell_type": "code",
   "execution_count": 134,
   "metadata": {},
   "outputs": [
    {
     "name": "stdout",
     "output_type": "stream",
     "text": [
      "2001\n"
     ]
    }
   ],
   "source": []
  },
  {
   "cell_type": "code",
   "execution_count": 97,
   "metadata": {},
   "outputs": [],
   "source": [
    "from urllib.request import urlopen\n",
    "import json\n",
    "with urlopen('https://raw.githubusercontent.com/plotly/datasets/master/geojson-counties-fips.json') as response:\n",
    "    counties = json.load(response)\n"
   ]
  },
  {
   "cell_type": "code",
   "execution_count": 13,
   "metadata": {},
   "outputs": [],
   "source": []
  },
  {
   "cell_type": "code",
   "execution_count": 14,
   "metadata": {},
   "outputs": [
    {
     "data": {
      "text/html": [
       "<div>\n",
       "<style scoped>\n",
       "    .dataframe tbody tr th:only-of-type {\n",
       "        vertical-align: middle;\n",
       "    }\n",
       "\n",
       "    .dataframe tbody tr th {\n",
       "        vertical-align: top;\n",
       "    }\n",
       "\n",
       "    .dataframe thead th {\n",
       "        text-align: right;\n",
       "    }\n",
       "</style>\n",
       "<table border=\"1\" class=\"dataframe\">\n",
       "  <thead>\n",
       "    <tr style=\"text-align: right;\">\n",
       "      <th></th>\n",
       "      <th>location</th>\n",
       "      <th>val</th>\n",
       "      <th>upper</th>\n",
       "      <th>lower</th>\n",
       "    </tr>\n",
       "  </thead>\n",
       "  <tbody>\n",
       "    <tr>\n",
       "      <th>0</th>\n",
       "      <td>Afghanistan</td>\n",
       "      <td>2.046121e+06</td>\n",
       "      <td>2.638194e+06</td>\n",
       "      <td>1.521819e+06</td>\n",
       "    </tr>\n",
       "    <tr>\n",
       "      <th>1</th>\n",
       "      <td>Albania</td>\n",
       "      <td>3.898698e+05</td>\n",
       "      <td>4.484619e+05</td>\n",
       "      <td>3.305901e+05</td>\n",
       "    </tr>\n",
       "    <tr>\n",
       "      <th>2</th>\n",
       "      <td>Algeria</td>\n",
       "      <td>2.666153e+06</td>\n",
       "      <td>3.250194e+06</td>\n",
       "      <td>2.146378e+06</td>\n",
       "    </tr>\n",
       "    <tr>\n",
       "      <th>3</th>\n",
       "      <td>Argentina</td>\n",
       "      <td>3.620805e+06</td>\n",
       "      <td>3.898845e+06</td>\n",
       "      <td>3.263956e+06</td>\n",
       "    </tr>\n",
       "    <tr>\n",
       "      <th>4</th>\n",
       "      <td>Armenia</td>\n",
       "      <td>4.838629e+05</td>\n",
       "      <td>5.152785e+05</td>\n",
       "      <td>4.461976e+05</td>\n",
       "    </tr>\n",
       "  </tbody>\n",
       "</table>\n",
       "</div>"
      ],
      "text/plain": [
       "      location           val         upper         lower\n",
       "0  Afghanistan  2.046121e+06  2.638194e+06  1.521819e+06\n",
       "1      Albania  3.898698e+05  4.484619e+05  3.305901e+05\n",
       "2      Algeria  2.666153e+06  3.250194e+06  2.146378e+06\n",
       "3    Argentina  3.620805e+06  3.898845e+06  3.263956e+06\n",
       "4      Armenia  4.838629e+05  5.152785e+05  4.461976e+05"
      ]
     },
     "execution_count": 14,
     "metadata": {},
     "output_type": "execute_result"
    }
   ],
   "source": [
    "total_by_country.head()"
   ]
  },
  {
   "cell_type": "code",
   "execution_count": 51,
   "metadata": {},
   "outputs": [
    {
     "data": {
      "application/vnd.jupyter.widget-view+json": {
       "model_id": "0015d300708d4073b8dec9742b1ad839",
       "version_major": 2,
       "version_minor": 0
      },
      "text/plain": [
       "  0%|          | 0/8 [00:00<?, ?it/s]"
      ]
     },
     "metadata": {},
     "output_type": "display_data"
    },
    {
     "name": "stdout",
     "output_type": "stream",
     "text": [
      "Country Cleaning Report:\n",
      "\t157 values cleaned (100.0%)\n",
      "Result contains 157 (100.0%) values in the correct format and 0 null values (0.0%)\n"
     ]
    }
   ],
   "source": [
    "# add country iso codes\n",
    "total_by_country = clean_country(total_by_country, 'location', output_format='alpha-3')\n"
   ]
  },
  {
   "cell_type": "code",
   "execution_count": 93,
   "metadata": {},
   "outputs": [
    {
     "data": {
      "text/html": [
       "<div>\n",
       "<style scoped>\n",
       "    .dataframe tbody tr th:only-of-type {\n",
       "        vertical-align: middle;\n",
       "    }\n",
       "\n",
       "    .dataframe tbody tr th {\n",
       "        vertical-align: top;\n",
       "    }\n",
       "\n",
       "    .dataframe thead th {\n",
       "        text-align: right;\n",
       "    }\n",
       "</style>\n",
       "<table border=\"1\" class=\"dataframe\">\n",
       "  <thead>\n",
       "    <tr style=\"text-align: right;\">\n",
       "      <th></th>\n",
       "      <th>val</th>\n",
       "      <th>upper</th>\n",
       "      <th>lower</th>\n",
       "      <th>nn</th>\n",
       "    </tr>\n",
       "  </thead>\n",
       "  <tbody>\n",
       "    <tr>\n",
       "      <th>count</th>\n",
       "      <td>1.570000e+02</td>\n",
       "      <td>1.570000e+02</td>\n",
       "      <td>1.570000e+02</td>\n",
       "      <td>157.000000</td>\n",
       "    </tr>\n",
       "    <tr>\n",
       "      <th>mean</th>\n",
       "      <td>4.648683e+06</td>\n",
       "      <td>5.515382e+06</td>\n",
       "      <td>3.914767e+06</td>\n",
       "      <td>46.486824</td>\n",
       "    </tr>\n",
       "    <tr>\n",
       "      <th>std</th>\n",
       "      <td>1.735093e+07</td>\n",
       "      <td>2.009171e+07</td>\n",
       "      <td>1.486240e+07</td>\n",
       "      <td>173.509335</td>\n",
       "    </tr>\n",
       "    <tr>\n",
       "      <th>min</th>\n",
       "      <td>2.731631e+04</td>\n",
       "      <td>3.629686e+04</td>\n",
       "      <td>2.055393e+04</td>\n",
       "      <td>0.273160</td>\n",
       "    </tr>\n",
       "    <tr>\n",
       "      <th>25%</th>\n",
       "      <td>4.033722e+05</td>\n",
       "      <td>5.237928e+05</td>\n",
       "      <td>3.049161e+05</td>\n",
       "      <td>4.033720</td>\n",
       "    </tr>\n",
       "    <tr>\n",
       "      <th>50%</th>\n",
       "      <td>9.322235e+05</td>\n",
       "      <td>1.243332e+06</td>\n",
       "      <td>7.193531e+05</td>\n",
       "      <td>9.322230</td>\n",
       "    </tr>\n",
       "    <tr>\n",
       "      <th>75%</th>\n",
       "      <td>2.801925e+06</td>\n",
       "      <td>3.275085e+06</td>\n",
       "      <td>2.232634e+06</td>\n",
       "      <td>28.019250</td>\n",
       "    </tr>\n",
       "    <tr>\n",
       "      <th>max</th>\n",
       "      <td>1.877723e+08</td>\n",
       "      <td>2.182027e+08</td>\n",
       "      <td>1.602508e+08</td>\n",
       "      <td>1877.722510</td>\n",
       "    </tr>\n",
       "  </tbody>\n",
       "</table>\n",
       "</div>"
      ],
      "text/plain": [
       "                val         upper         lower           nn\n",
       "count  1.570000e+02  1.570000e+02  1.570000e+02   157.000000\n",
       "mean   4.648683e+06  5.515382e+06  3.914767e+06    46.486824\n",
       "std    1.735093e+07  2.009171e+07  1.486240e+07   173.509335\n",
       "min    2.731631e+04  3.629686e+04  2.055393e+04     0.273160\n",
       "25%    4.033722e+05  5.237928e+05  3.049161e+05     4.033720\n",
       "50%    9.322235e+05  1.243332e+06  7.193531e+05     9.322230\n",
       "75%    2.801925e+06  3.275085e+06  2.232634e+06    28.019250\n",
       "max    1.877723e+08  2.182027e+08  1.602508e+08  1877.722510"
      ]
     },
     "execution_count": 93,
     "metadata": {},
     "output_type": "execute_result"
    }
   ],
   "source": [
    "total_by_country.describe()"
   ]
  },
  {
   "cell_type": "code",
   "execution_count": null,
   "metadata": {},
   "outputs": [],
   "source": [
    "# i really like to do the geomap but plotly don't show the map color correctly\n",
    "# so let do and scatter!"
   ]
  },
  {
   "cell_type": "code",
   "execution_count": 106,
   "metadata": {},
   "outputs": [
    {
     "data": {
      "application/vnd.plotly.v1+json": {
       "config": {
        "plotlyServerURL": "https://plot.ly"
       },
       "data": [
        {
         "coloraxis": "coloraxis",
         "geo": "geo",
         "hovertemplate": "<b>%{hovertext}</b><br><br>location_clean=%{location}<br>val=%{z}<extra></extra>",
         "hovertext": [
          "Afghanistan",
          "Albania",
          "Algeria",
          "Argentina",
          "Armenia",
          "Australia",
          "Austria",
          "Azerbaijan",
          "Bahrain",
          "Bangladesh",
          "Belarus",
          "Belgium",
          "Benin",
          "Bolivia (Plurinational State of)",
          "Bosnia and Herzegovina",
          "Botswana",
          "Brazil",
          "Bulgaria",
          "Burkina Faso",
          "Burundi",
          "Cambodia",
          "Cameroon",
          "Canada",
          "Central African Republic",
          "Chad",
          "Chile",
          "China",
          "Colombia",
          "Congo",
          "Costa Rica",
          "Croatia",
          "Cuba",
          "Cyprus",
          "Czechia",
          "Côte d'Ivoire",
          "Democratic People's Republic of Korea",
          "Democratic Republic of the Congo",
          "Denmark",
          "Dominican Republic",
          "Ecuador",
          "Egypt",
          "El Salvador",
          "Equatorial Guinea",
          "Eritrea",
          "Estonia",
          "Eswatini",
          "Ethiopia",
          "Finland",
          "France",
          "Gabon",
          "Gambia",
          "Georgia",
          "Germany",
          "Ghana",
          "Greece",
          "Guatemala",
          "Guinea",
          "Guinea-Bissau",
          "Haiti",
          "Honduras",
          "Hungary",
          "India",
          "Indonesia",
          "Iran (Islamic Republic of)",
          "Iraq",
          "Ireland",
          "Israel",
          "Italy",
          "Jamaica",
          "Japan",
          "Jordan",
          "Kazakhstan",
          "Kenya",
          "Kuwait",
          "Kyrgyzstan",
          "Lao People's Democratic Republic",
          "Latvia",
          "Lebanon",
          "Lesotho",
          "Liberia",
          "Libya",
          "Lithuania",
          "Madagascar",
          "Malawi",
          "Malaysia",
          "Mali",
          "Mauritania",
          "Mauritius",
          "Mexico",
          "Mongolia",
          "Morocco",
          "Mozambique",
          "Myanmar",
          "Namibia",
          "Nepal",
          "Netherlands",
          "New Zealand",
          "Nicaragua",
          "Niger",
          "Nigeria",
          "North Macedonia",
          "Norway",
          "Oman",
          "Pakistan",
          "Palestine",
          "Panama",
          "Papua New Guinea",
          "Paraguay",
          "Peru",
          "Philippines",
          "Poland",
          "Portugal",
          "Puerto Rico",
          "Qatar",
          "Republic of Korea",
          "Republic of Moldova",
          "Romania",
          "Russian Federation",
          "Rwanda",
          "Saudi Arabia",
          "Senegal",
          "Serbia",
          "Sierra Leone",
          "Singapore",
          "Slovakia",
          "Slovenia",
          "Somalia",
          "South Africa",
          "South Sudan",
          "Spain",
          "Sri Lanka",
          "Sudan",
          "Sweden",
          "Switzerland",
          "Syrian Arab Republic",
          "Taiwan (Province of China)",
          "Tajikistan",
          "Thailand",
          "Timor-Leste",
          "Togo",
          "Trinidad and Tobago",
          "Tunisia",
          "Turkey",
          "Turkmenistan",
          "Uganda",
          "Ukraine",
          "United Arab Emirates",
          "United Kingdom",
          "United Republic of Tanzania",
          "United States of America",
          "Uruguay",
          "Uzbekistan",
          "Venezuela (Bolivarian Republic of)",
          "Viet Nam",
          "Yemen",
          "Zambia",
          "Zimbabwe"
         ],
         "locations": [
          "AFG",
          "ALB",
          "DZA",
          "ARG",
          "ARM",
          "AUS",
          "AUT",
          "AZE",
          "BHR",
          "BGD",
          "BLR",
          "BEL",
          "BEN",
          "BOL",
          "BIH",
          "BWA",
          "BRA",
          "BGR",
          "BFA",
          "BDI",
          "KHM",
          "CMR",
          "CAN",
          "CAF",
          "TCD",
          "CHL",
          "CHN",
          "COL",
          "COG",
          "CRI",
          "HRV",
          "CUB",
          "CYP",
          "CZE",
          "CIV",
          "PRK",
          "COD",
          "DNK",
          "DOM",
          "ECU",
          "EGY",
          "SLV",
          "GNQ",
          "ERI",
          "EST",
          "SWZ",
          "ETH",
          "FIN",
          "FRA",
          "GAB",
          "GMB",
          "GEO",
          "DEU",
          "GHA",
          "GRC",
          "GTM",
          "GIN",
          "GNB",
          "HTI",
          "HND",
          "HUN",
          "IND",
          "IDN",
          "IRN",
          "IRQ",
          "IRL",
          "ISR",
          "ITA",
          "JAM",
          "JPN",
          "JOR",
          "KAZ",
          "KEN",
          "KWT",
          "KGZ",
          "LAO",
          "LVA",
          "LBN",
          "LSO",
          "LBR",
          "LBY",
          "LTU",
          "MDG",
          "MWI",
          "MYS",
          "MLI",
          "MRT",
          "MUS",
          "MEX",
          "MNG",
          "MAR",
          "MOZ",
          "MMR",
          "NAM",
          "NPL",
          "NLD",
          "NZL",
          "NIC",
          "NER",
          "NGA",
          "MKD",
          "NOR",
          "OMN",
          "PAK",
          "PSE",
          "PAN",
          "PNG",
          "PRY",
          "PER",
          "PHL",
          "POL",
          "PRT",
          "PRI",
          "QAT",
          "KOR",
          "MDA",
          "ROU",
          "RUS",
          "RWA",
          "SAU",
          "SEN",
          "SRB",
          "SLE",
          "SGP",
          "SVK",
          "SVN",
          "SOM",
          "ZAF",
          "SSD",
          "ESP",
          "LKA",
          "SDN",
          "SWE",
          "CHE",
          "SYR",
          "CHN",
          "TJK",
          "THA",
          "TLS",
          "TGO",
          "TTO",
          "TUN",
          "TUR",
          "TKM",
          "UGA",
          "UKR",
          "ARE",
          "GBR",
          "TZA",
          "USA",
          "URY",
          "UZB",
          "VEN",
          "VNM",
          "YEM",
          "ZMB",
          "ZWE"
         ],
         "name": "",
         "type": "choropleth",
         "z": [
          2229134.4197967923,
          376161.55595422734,
          2662267.839710527,
          4807244.601191589,
          536813.5471216751,
          2615419.148859005,
          1589192.8996070356,
          1294783.898193817,
          39185.27683646931,
          9151225.258970248,
          2942368.4985972415,
          1957981.096147194,
          403372.1630551778,
          597801.36642166,
          712394.6320231266,
          126922.98193573592,
          15450493.233353676,
          2948994.13785167,
          797482.9829955153,
          407087.24899116537,
          915085.651061654,
          885485.0061871243,
          4291432.370879069,
          260540.76753436643,
          501352.1615394141,
          1329251.7338077503,
          187772251.44674522,
          2801925.091135607,
          230542.60094026232,
          261254.02526169055,
          1078909.531126598,
          1548258.5280081085,
          126913.82801734892,
          2365835.1791863926,
          803896.4257774972,
          3787082.024260172,
          3107166.194603682,
          1072261.7731855835,
          684353.2615239915,
          772365.232841035,
          7065151.125133788,
          368997.33108007215,
          33626.34754001278,
          206390.45520119043,
          373588.1262786535,
          60409.45132110741,
          3018140.550724603,
          1018552.9383483353,
          9257538.7101592,
          96702.49125184515,
          74146.65043639799,
          1223565.0298786494,
          17600758.18053458,
          1193163.9716299046,
          2277507.8782954947,
          541609.6822865914,
          592084.7703980933,
          86480.16176446967,
          835131.0078165873,
          442447.5207013316,
          2858751.5543780234,
          90180291.47718921,
          19431984.509275753,
          5351845.025425201,
          2062725.080947652,
          592916.6567033095,
          647069.8069787789,
          11520867.869689144,
          235042.14918310835,
          20187309.967963375,
          280923.42489448295,
          2937919.573745765,
          1242319.651480969,
          99413.20815499756,
          691406.3262488861,
          466388.9505245679,
          693830.8890019961,
          494359.40332865936,
          168403.75225719257,
          159560.73467800845,
          340195.07998468657,
          870888.3824688268,
          1064675.5814933942,
          569779.2785103011,
          1756376.616697999,
          729435.1165920446,
          144625.55863896335,
          133034.00001484033,
          5649063.102761168,
          312243.2434024933,
          3159546.4989060606,
          942194.2554160791,
          5608205.01218578,
          135005.05533668443,
          1980046.0443307061,
          2643979.3477145797,
          575401.8876686802,
          260857.49364759872,
          581219.9349971351,
          6477732.03629739,
          467720.0800007135,
          823290.9951995929,
          158631.73173177562,
          12078793.462663502,
          201296.8816385051,
          201271.74063938513,
          515228.0375546209,
          324028.2986530595,
          1344221.2580957592,
          5619786.349252968,
          7879390.859653473,
          1958532.6823579466,
          426367.26394669985,
          27316.30768751153,
          4177175.200175774,
          932223.476683098,
          5760625.48994119,
          42279166.41745483,
          443800.2876282171,
          1290608.5727446887,
          554465.4102691123,
          2503763.4833799102,
          320173.93657599227,
          297727.6971056871,
          1105997.9911980547,
          360005.8766085019,
          556482.7378480224,
          3693552.249591574,
          299374.6485676707,
          7225243.4229221605,
          1798821.8022579208,
          2494383.9072610913,
          1861136.7632222313,
          1219267.3068835016,
          1315106.4674855624,
          2067810.5794628304,
          699510.6351411128,
          4811554.825586841,
          60583.485383552375,
          261731.11425028174,
          138240.04980585002,
          1013798.424989565,
          6799967.6623687595,
          518390.90767124423,
          1030342.1799727542,
          16169662.14774427,
          178688.51212840952,
          11901846.481823731,
          1773951.1100355987,
          46864065.68030719,
          570027.031030728,
          3277446.084275729,
          1759394.7439794545,
          7932116.580031142,
          1459667.2429541827,
          553154.7103672315,
          639959.7873029481
         ]
        }
       ],
       "layout": {
        "coloraxis": {
         "colorbar": {
          "title": {
           "text": "val"
          }
         },
         "colorscale": [
          [
           0,
           "#0d0887"
          ],
          [
           0.1111111111111111,
           "#46039f"
          ],
          [
           0.2222222222222222,
           "#7201a8"
          ],
          [
           0.3333333333333333,
           "#9c179e"
          ],
          [
           0.4444444444444444,
           "#bd3786"
          ],
          [
           0.5555555555555556,
           "#d8576b"
          ],
          [
           0.6666666666666666,
           "#ed7953"
          ],
          [
           0.7777777777777778,
           "#fb9f3a"
          ],
          [
           0.8888888888888888,
           "#fdca26"
          ],
          [
           1,
           "#f0f921"
          ]
         ]
        },
        "geo": {
         "center": {},
         "domain": {
          "x": [
           0,
           1
          ],
          "y": [
           0,
           1
          ]
         }
        },
        "legend": {
         "tracegroupgap": 0
        },
        "margin": {
         "b": 0,
         "l": 0,
         "r": 0,
         "t": 0
        },
        "template": {
         "data": {
          "bar": [
           {
            "error_x": {
             "color": "#2a3f5f"
            },
            "error_y": {
             "color": "#2a3f5f"
            },
            "marker": {
             "line": {
              "color": "#E5ECF6",
              "width": 0.5
             },
             "pattern": {
              "fillmode": "overlay",
              "size": 10,
              "solidity": 0.2
             }
            },
            "type": "bar"
           }
          ],
          "barpolar": [
           {
            "marker": {
             "line": {
              "color": "#E5ECF6",
              "width": 0.5
             },
             "pattern": {
              "fillmode": "overlay",
              "size": 10,
              "solidity": 0.2
             }
            },
            "type": "barpolar"
           }
          ],
          "carpet": [
           {
            "aaxis": {
             "endlinecolor": "#2a3f5f",
             "gridcolor": "white",
             "linecolor": "white",
             "minorgridcolor": "white",
             "startlinecolor": "#2a3f5f"
            },
            "baxis": {
             "endlinecolor": "#2a3f5f",
             "gridcolor": "white",
             "linecolor": "white",
             "minorgridcolor": "white",
             "startlinecolor": "#2a3f5f"
            },
            "type": "carpet"
           }
          ],
          "choropleth": [
           {
            "colorbar": {
             "outlinewidth": 0,
             "ticks": ""
            },
            "type": "choropleth"
           }
          ],
          "contour": [
           {
            "colorbar": {
             "outlinewidth": 0,
             "ticks": ""
            },
            "colorscale": [
             [
              0,
              "#0d0887"
             ],
             [
              0.1111111111111111,
              "#46039f"
             ],
             [
              0.2222222222222222,
              "#7201a8"
             ],
             [
              0.3333333333333333,
              "#9c179e"
             ],
             [
              0.4444444444444444,
              "#bd3786"
             ],
             [
              0.5555555555555556,
              "#d8576b"
             ],
             [
              0.6666666666666666,
              "#ed7953"
             ],
             [
              0.7777777777777778,
              "#fb9f3a"
             ],
             [
              0.8888888888888888,
              "#fdca26"
             ],
             [
              1,
              "#f0f921"
             ]
            ],
            "type": "contour"
           }
          ],
          "contourcarpet": [
           {
            "colorbar": {
             "outlinewidth": 0,
             "ticks": ""
            },
            "type": "contourcarpet"
           }
          ],
          "heatmap": [
           {
            "colorbar": {
             "outlinewidth": 0,
             "ticks": ""
            },
            "colorscale": [
             [
              0,
              "#0d0887"
             ],
             [
              0.1111111111111111,
              "#46039f"
             ],
             [
              0.2222222222222222,
              "#7201a8"
             ],
             [
              0.3333333333333333,
              "#9c179e"
             ],
             [
              0.4444444444444444,
              "#bd3786"
             ],
             [
              0.5555555555555556,
              "#d8576b"
             ],
             [
              0.6666666666666666,
              "#ed7953"
             ],
             [
              0.7777777777777778,
              "#fb9f3a"
             ],
             [
              0.8888888888888888,
              "#fdca26"
             ],
             [
              1,
              "#f0f921"
             ]
            ],
            "type": "heatmap"
           }
          ],
          "heatmapgl": [
           {
            "colorbar": {
             "outlinewidth": 0,
             "ticks": ""
            },
            "colorscale": [
             [
              0,
              "#0d0887"
             ],
             [
              0.1111111111111111,
              "#46039f"
             ],
             [
              0.2222222222222222,
              "#7201a8"
             ],
             [
              0.3333333333333333,
              "#9c179e"
             ],
             [
              0.4444444444444444,
              "#bd3786"
             ],
             [
              0.5555555555555556,
              "#d8576b"
             ],
             [
              0.6666666666666666,
              "#ed7953"
             ],
             [
              0.7777777777777778,
              "#fb9f3a"
             ],
             [
              0.8888888888888888,
              "#fdca26"
             ],
             [
              1,
              "#f0f921"
             ]
            ],
            "type": "heatmapgl"
           }
          ],
          "histogram": [
           {
            "marker": {
             "pattern": {
              "fillmode": "overlay",
              "size": 10,
              "solidity": 0.2
             }
            },
            "type": "histogram"
           }
          ],
          "histogram2d": [
           {
            "colorbar": {
             "outlinewidth": 0,
             "ticks": ""
            },
            "colorscale": [
             [
              0,
              "#0d0887"
             ],
             [
              0.1111111111111111,
              "#46039f"
             ],
             [
              0.2222222222222222,
              "#7201a8"
             ],
             [
              0.3333333333333333,
              "#9c179e"
             ],
             [
              0.4444444444444444,
              "#bd3786"
             ],
             [
              0.5555555555555556,
              "#d8576b"
             ],
             [
              0.6666666666666666,
              "#ed7953"
             ],
             [
              0.7777777777777778,
              "#fb9f3a"
             ],
             [
              0.8888888888888888,
              "#fdca26"
             ],
             [
              1,
              "#f0f921"
             ]
            ],
            "type": "histogram2d"
           }
          ],
          "histogram2dcontour": [
           {
            "colorbar": {
             "outlinewidth": 0,
             "ticks": ""
            },
            "colorscale": [
             [
              0,
              "#0d0887"
             ],
             [
              0.1111111111111111,
              "#46039f"
             ],
             [
              0.2222222222222222,
              "#7201a8"
             ],
             [
              0.3333333333333333,
              "#9c179e"
             ],
             [
              0.4444444444444444,
              "#bd3786"
             ],
             [
              0.5555555555555556,
              "#d8576b"
             ],
             [
              0.6666666666666666,
              "#ed7953"
             ],
             [
              0.7777777777777778,
              "#fb9f3a"
             ],
             [
              0.8888888888888888,
              "#fdca26"
             ],
             [
              1,
              "#f0f921"
             ]
            ],
            "type": "histogram2dcontour"
           }
          ],
          "mesh3d": [
           {
            "colorbar": {
             "outlinewidth": 0,
             "ticks": ""
            },
            "type": "mesh3d"
           }
          ],
          "parcoords": [
           {
            "line": {
             "colorbar": {
              "outlinewidth": 0,
              "ticks": ""
             }
            },
            "type": "parcoords"
           }
          ],
          "pie": [
           {
            "automargin": true,
            "type": "pie"
           }
          ],
          "scatter": [
           {
            "marker": {
             "colorbar": {
              "outlinewidth": 0,
              "ticks": ""
             }
            },
            "type": "scatter"
           }
          ],
          "scatter3d": [
           {
            "line": {
             "colorbar": {
              "outlinewidth": 0,
              "ticks": ""
             }
            },
            "marker": {
             "colorbar": {
              "outlinewidth": 0,
              "ticks": ""
             }
            },
            "type": "scatter3d"
           }
          ],
          "scattercarpet": [
           {
            "marker": {
             "colorbar": {
              "outlinewidth": 0,
              "ticks": ""
             }
            },
            "type": "scattercarpet"
           }
          ],
          "scattergeo": [
           {
            "marker": {
             "colorbar": {
              "outlinewidth": 0,
              "ticks": ""
             }
            },
            "type": "scattergeo"
           }
          ],
          "scattergl": [
           {
            "marker": {
             "colorbar": {
              "outlinewidth": 0,
              "ticks": ""
             }
            },
            "type": "scattergl"
           }
          ],
          "scattermapbox": [
           {
            "marker": {
             "colorbar": {
              "outlinewidth": 0,
              "ticks": ""
             }
            },
            "type": "scattermapbox"
           }
          ],
          "scatterpolar": [
           {
            "marker": {
             "colorbar": {
              "outlinewidth": 0,
              "ticks": ""
             }
            },
            "type": "scatterpolar"
           }
          ],
          "scatterpolargl": [
           {
            "marker": {
             "colorbar": {
              "outlinewidth": 0,
              "ticks": ""
             }
            },
            "type": "scatterpolargl"
           }
          ],
          "scatterternary": [
           {
            "marker": {
             "colorbar": {
              "outlinewidth": 0,
              "ticks": ""
             }
            },
            "type": "scatterternary"
           }
          ],
          "surface": [
           {
            "colorbar": {
             "outlinewidth": 0,
             "ticks": ""
            },
            "colorscale": [
             [
              0,
              "#0d0887"
             ],
             [
              0.1111111111111111,
              "#46039f"
             ],
             [
              0.2222222222222222,
              "#7201a8"
             ],
             [
              0.3333333333333333,
              "#9c179e"
             ],
             [
              0.4444444444444444,
              "#bd3786"
             ],
             [
              0.5555555555555556,
              "#d8576b"
             ],
             [
              0.6666666666666666,
              "#ed7953"
             ],
             [
              0.7777777777777778,
              "#fb9f3a"
             ],
             [
              0.8888888888888888,
              "#fdca26"
             ],
             [
              1,
              "#f0f921"
             ]
            ],
            "type": "surface"
           }
          ],
          "table": [
           {
            "cells": {
             "fill": {
              "color": "#EBF0F8"
             },
             "line": {
              "color": "white"
             }
            },
            "header": {
             "fill": {
              "color": "#C8D4E3"
             },
             "line": {
              "color": "white"
             }
            },
            "type": "table"
           }
          ]
         },
         "layout": {
          "annotationdefaults": {
           "arrowcolor": "#2a3f5f",
           "arrowhead": 0,
           "arrowwidth": 1
          },
          "autotypenumbers": "strict",
          "coloraxis": {
           "colorbar": {
            "outlinewidth": 0,
            "ticks": ""
           }
          },
          "colorscale": {
           "diverging": [
            [
             0,
             "#8e0152"
            ],
            [
             0.1,
             "#c51b7d"
            ],
            [
             0.2,
             "#de77ae"
            ],
            [
             0.3,
             "#f1b6da"
            ],
            [
             0.4,
             "#fde0ef"
            ],
            [
             0.5,
             "#f7f7f7"
            ],
            [
             0.6,
             "#e6f5d0"
            ],
            [
             0.7,
             "#b8e186"
            ],
            [
             0.8,
             "#7fbc41"
            ],
            [
             0.9,
             "#4d9221"
            ],
            [
             1,
             "#276419"
            ]
           ],
           "sequential": [
            [
             0,
             "#0d0887"
            ],
            [
             0.1111111111111111,
             "#46039f"
            ],
            [
             0.2222222222222222,
             "#7201a8"
            ],
            [
             0.3333333333333333,
             "#9c179e"
            ],
            [
             0.4444444444444444,
             "#bd3786"
            ],
            [
             0.5555555555555556,
             "#d8576b"
            ],
            [
             0.6666666666666666,
             "#ed7953"
            ],
            [
             0.7777777777777778,
             "#fb9f3a"
            ],
            [
             0.8888888888888888,
             "#fdca26"
            ],
            [
             1,
             "#f0f921"
            ]
           ],
           "sequentialminus": [
            [
             0,
             "#0d0887"
            ],
            [
             0.1111111111111111,
             "#46039f"
            ],
            [
             0.2222222222222222,
             "#7201a8"
            ],
            [
             0.3333333333333333,
             "#9c179e"
            ],
            [
             0.4444444444444444,
             "#bd3786"
            ],
            [
             0.5555555555555556,
             "#d8576b"
            ],
            [
             0.6666666666666666,
             "#ed7953"
            ],
            [
             0.7777777777777778,
             "#fb9f3a"
            ],
            [
             0.8888888888888888,
             "#fdca26"
            ],
            [
             1,
             "#f0f921"
            ]
           ]
          },
          "colorway": [
           "#636efa",
           "#EF553B",
           "#00cc96",
           "#ab63fa",
           "#FFA15A",
           "#19d3f3",
           "#FF6692",
           "#B6E880",
           "#FF97FF",
           "#FECB52"
          ],
          "font": {
           "color": "#2a3f5f"
          },
          "geo": {
           "bgcolor": "white",
           "lakecolor": "white",
           "landcolor": "#E5ECF6",
           "showlakes": true,
           "showland": true,
           "subunitcolor": "white"
          },
          "hoverlabel": {
           "align": "left"
          },
          "hovermode": "closest",
          "mapbox": {
           "style": "light"
          },
          "paper_bgcolor": "white",
          "plot_bgcolor": "#E5ECF6",
          "polar": {
           "angularaxis": {
            "gridcolor": "white",
            "linecolor": "white",
            "ticks": ""
           },
           "bgcolor": "#E5ECF6",
           "radialaxis": {
            "gridcolor": "white",
            "linecolor": "white",
            "ticks": ""
           }
          },
          "scene": {
           "xaxis": {
            "backgroundcolor": "#E5ECF6",
            "gridcolor": "white",
            "gridwidth": 2,
            "linecolor": "white",
            "showbackground": true,
            "ticks": "",
            "zerolinecolor": "white"
           },
           "yaxis": {
            "backgroundcolor": "#E5ECF6",
            "gridcolor": "white",
            "gridwidth": 2,
            "linecolor": "white",
            "showbackground": true,
            "ticks": "",
            "zerolinecolor": "white"
           },
           "zaxis": {
            "backgroundcolor": "#E5ECF6",
            "gridcolor": "white",
            "gridwidth": 2,
            "linecolor": "white",
            "showbackground": true,
            "ticks": "",
            "zerolinecolor": "white"
           }
          },
          "shapedefaults": {
           "line": {
            "color": "#2a3f5f"
           }
          },
          "ternary": {
           "aaxis": {
            "gridcolor": "white",
            "linecolor": "white",
            "ticks": ""
           },
           "baxis": {
            "gridcolor": "white",
            "linecolor": "white",
            "ticks": ""
           },
           "bgcolor": "#E5ECF6",
           "caxis": {
            "gridcolor": "white",
            "linecolor": "white",
            "ticks": ""
           }
          },
          "title": {
           "x": 0.05
          },
          "xaxis": {
           "automargin": true,
           "gridcolor": "white",
           "linecolor": "white",
           "ticks": "",
           "title": {
            "standoff": 15
           },
           "zerolinecolor": "white",
           "zerolinewidth": 2
          },
          "yaxis": {
           "automargin": true,
           "gridcolor": "white",
           "linecolor": "white",
           "ticks": "",
           "title": {
            "standoff": 15
           },
           "zerolinecolor": "white",
           "zerolinewidth": 2
          }
         }
        }
       }
      }
     },
     "metadata": {},
     "output_type": "display_data"
    }
   ],
   "source": [
    "fig = px.choropleth(\n",
    "    total_by_country,\n",
    "    locations=\"location_clean\",\n",
    "    color=\"val\",\n",
    "    hover_name=\"location\",\n",
    ")\n",
    "fig.update_layout(margin={\"r\": 0, \"t\": 0, \"l\": 0, \"b\": 0})\n",
    "# plotly.offline.plot(fig,filename='world.html')\n",
    "fig.show()\n"
   ]
  },
  {
   "cell_type": "code",
   "execution_count": null,
   "metadata": {},
   "outputs": [],
   "source": []
  }
 ],
 "metadata": {
  "interpreter": {
   "hash": "2d66bb7d4f8a116e2925a95bebe6e04f8fc3c8ed65e8572fe262df87356dbbb5"
  },
  "kernelspec": {
   "display_name": "Python 3.9.7 64-bit ('data': conda)",
   "language": "python",
   "name": "python3"
  },
  "language_info": {
   "codemirror_mode": {
    "name": "ipython",
    "version": 3
   },
   "file_extension": ".py",
   "mimetype": "text/x-python",
   "name": "python",
   "nbconvert_exporter": "python",
   "pygments_lexer": "ipython3",
   "version": "3.9.7"
  },
  "orig_nbformat": 4
 },
 "nbformat": 4,
 "nbformat_minor": 2
}
