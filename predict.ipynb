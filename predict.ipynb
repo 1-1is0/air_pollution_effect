{
 "cells": [
  {
   "cell_type": "code",
   "execution_count": 2,
   "metadata": {},
   "outputs": [],
   "source": [
    "import pandas as pd\n",
    "import numpy as np\n",
    "import matplotlib.pyplot as plt\n",
    "import plotly.express as px\n",
    "import plotly.graph_objects as go\n",
    "from dataprep.clean import clean_country\n",
    "from plotly.subplots import make_subplots\n",
    "import dask.dataframe as dd"
   ]
  },
  {
   "cell_type": "code",
   "execution_count": null,
   "metadata": {},
   "outputs": [],
   "source": []
  },
  {
   "cell_type": "code",
   "execution_count": 3,
   "metadata": {},
   "outputs": [],
   "source": [
    "co2_file_path = \"./dataset/owid-co2-data.csv\"\n",
    "co2_df = pd.read_csv(co2_file_path)"
   ]
  },
  {
   "cell_type": "code",
   "execution_count": 4,
   "metadata": {},
   "outputs": [
    {
     "data": {
      "application/vnd.jupyter.widget-view+json": {
       "model_id": "d1eef4262e654622a7b2041a8e05b91b",
       "version_major": 2,
       "version_minor": 0
      },
      "text/plain": [
       "  0%|          | 0/91 [00:00<?, ?it/s]"
      ]
     },
     "metadata": {},
     "output_type": "display_data"
    },
    {
     "name": "stdout",
     "output_type": "stream",
     "text": [
      "Country Cleaning Report:\n",
      "\t2741220 values cleaned (99.37%)\n",
      "\t17460 values unable to be parsed (0.63%), set to NaN\n",
      "Result contains 2741220 (99.37%) values in the correct format and 17460 null values (0.63%)\n"
     ]
    }
   ],
   "source": [
    "# dask is cool with huge csvs\n",
    "csv_file_path = \"/home/amir/big_storage/datasets/IHME-GDB-Risk-all.csv\"\n",
    "\n",
    "risk_df= pd.read_csv(csv_file_path)\n",
    "risk_df = clean_country(risk_df, 'location', output_format='alpha-3')"
   ]
  },
  {
   "cell_type": "code",
   "execution_count": 133,
   "metadata": {},
   "outputs": [
    {
     "data": {
      "text/html": [
       "<div>\n",
       "<style scoped>\n",
       "    .dataframe tbody tr th:only-of-type {\n",
       "        vertical-align: middle;\n",
       "    }\n",
       "\n",
       "    .dataframe tbody tr th {\n",
       "        vertical-align: top;\n",
       "    }\n",
       "\n",
       "    .dataframe thead th {\n",
       "        text-align: right;\n",
       "    }\n",
       "</style>\n",
       "<table border=\"1\" class=\"dataframe\">\n",
       "  <thead>\n",
       "    <tr style=\"text-align: right;\">\n",
       "      <th></th>\n",
       "      <th>measure</th>\n",
       "      <th>location</th>\n",
       "      <th>sex</th>\n",
       "      <th>age</th>\n",
       "      <th>cause</th>\n",
       "      <th>rei</th>\n",
       "      <th>metric</th>\n",
       "      <th>year</th>\n",
       "      <th>val</th>\n",
       "      <th>upper</th>\n",
       "      <th>lower</th>\n",
       "      <th>location_clean</th>\n",
       "    </tr>\n",
       "  </thead>\n",
       "  <tbody>\n",
       "    <tr>\n",
       "      <th>0</th>\n",
       "      <td>YLDs</td>\n",
       "      <td>Norway</td>\n",
       "      <td>Male</td>\n",
       "      <td>All Ages</td>\n",
       "      <td>Depressive disorders</td>\n",
       "      <td>All risk factors</td>\n",
       "      <td>Number</td>\n",
       "      <td>1992</td>\n",
       "      <td>576.937291</td>\n",
       "      <td>1074.430283</td>\n",
       "      <td>241.176114</td>\n",
       "      <td>NOR</td>\n",
       "    </tr>\n",
       "    <tr>\n",
       "      <th>1</th>\n",
       "      <td>YLDs</td>\n",
       "      <td>Norway</td>\n",
       "      <td>Female</td>\n",
       "      <td>All Ages</td>\n",
       "      <td>Depressive disorders</td>\n",
       "      <td>All risk factors</td>\n",
       "      <td>Number</td>\n",
       "      <td>1992</td>\n",
       "      <td>1831.591888</td>\n",
       "      <td>3294.474095</td>\n",
       "      <td>665.732721</td>\n",
       "      <td>NOR</td>\n",
       "    </tr>\n",
       "    <tr>\n",
       "      <th>2</th>\n",
       "      <td>YLDs</td>\n",
       "      <td>Norway</td>\n",
       "      <td>Both</td>\n",
       "      <td>All Ages</td>\n",
       "      <td>Depressive disorders</td>\n",
       "      <td>All risk factors</td>\n",
       "      <td>Number</td>\n",
       "      <td>1992</td>\n",
       "      <td>2408.529178</td>\n",
       "      <td>4122.109930</td>\n",
       "      <td>974.516636</td>\n",
       "      <td>NOR</td>\n",
       "    </tr>\n",
       "    <tr>\n",
       "      <th>3</th>\n",
       "      <td>YLDs</td>\n",
       "      <td>Norway</td>\n",
       "      <td>Male</td>\n",
       "      <td>All Ages</td>\n",
       "      <td>Depressive disorders</td>\n",
       "      <td>All risk factors</td>\n",
       "      <td>Rate</td>\n",
       "      <td>1992</td>\n",
       "      <td>27.241200</td>\n",
       "      <td>50.731285</td>\n",
       "      <td>11.387593</td>\n",
       "      <td>NOR</td>\n",
       "    </tr>\n",
       "    <tr>\n",
       "      <th>4</th>\n",
       "      <td>YLDs</td>\n",
       "      <td>Norway</td>\n",
       "      <td>Female</td>\n",
       "      <td>All Ages</td>\n",
       "      <td>Depressive disorders</td>\n",
       "      <td>All risk factors</td>\n",
       "      <td>Rate</td>\n",
       "      <td>1992</td>\n",
       "      <td>84.472852</td>\n",
       "      <td>151.940847</td>\n",
       "      <td>30.703533</td>\n",
       "      <td>NOR</td>\n",
       "    </tr>\n",
       "  </tbody>\n",
       "</table>\n",
       "</div>"
      ],
      "text/plain": [
       "  measure location     sex       age                 cause               rei  \\\n",
       "0    YLDs   Norway    Male  All Ages  Depressive disorders  All risk factors   \n",
       "1    YLDs   Norway  Female  All Ages  Depressive disorders  All risk factors   \n",
       "2    YLDs   Norway    Both  All Ages  Depressive disorders  All risk factors   \n",
       "3    YLDs   Norway    Male  All Ages  Depressive disorders  All risk factors   \n",
       "4    YLDs   Norway  Female  All Ages  Depressive disorders  All risk factors   \n",
       "\n",
       "   metric  year          val        upper       lower location_clean  \n",
       "0  Number  1992   576.937291  1074.430283  241.176114            NOR  \n",
       "1  Number  1992  1831.591888  3294.474095  665.732721            NOR  \n",
       "2  Number  1992  2408.529178  4122.109930  974.516636            NOR  \n",
       "3    Rate  1992    27.241200    50.731285   11.387593            NOR  \n",
       "4    Rate  1992    84.472852   151.940847   30.703533            NOR  "
      ]
     },
     "execution_count": 133,
     "metadata": {},
     "output_type": "execute_result"
    }
   ],
   "source": [
    "risk_df.head()"
   ]
  },
  {
   "cell_type": "code",
   "execution_count": 5,
   "metadata": {},
   "outputs": [],
   "source": [
    "cause_list = [\n",
    "    \"Depressive disorders\",\n",
    "    \"Cardiovascular diseases\",\n",
    "    \"Chronic respiratory diseases\",\n",
    "    \"Neurological disorders\",\n",
    "    \"Tracheal, bronchus, and lung cancer\",\n",
    "    \"Stomach cancer\",\n",
    "    \"Pancreatic cancer\",\n",
    "    \"Leukemia\",\n",
    "    \"Esophageal cancer\",\n",
    "    \"Larynx cancer\",\n",
    "    \"Colon and rectum cancer\",\n",
    "    \"Liver cancer\",\n",
    "    \"Other non-communicable diseases\",\n",
    "]\n",
    "\n",
    "# cause_list = [\n",
    "#     \"All causes\"\n",
    "# ]\n"
   ]
  },
  {
   "cell_type": "code",
   "execution_count": 8,
   "metadata": {},
   "outputs": [
    {
     "data": {
      "text/html": [
       "<div>\n",
       "<style scoped>\n",
       "    .dataframe tbody tr th:only-of-type {\n",
       "        vertical-align: middle;\n",
       "    }\n",
       "\n",
       "    .dataframe tbody tr th {\n",
       "        vertical-align: top;\n",
       "    }\n",
       "\n",
       "    .dataframe thead th {\n",
       "        text-align: right;\n",
       "    }\n",
       "</style>\n",
       "<table border=\"1\" class=\"dataframe\">\n",
       "  <thead>\n",
       "    <tr style=\"text-align: right;\">\n",
       "      <th></th>\n",
       "      <th>measure</th>\n",
       "      <th>location</th>\n",
       "      <th>sex</th>\n",
       "      <th>age</th>\n",
       "      <th>cause</th>\n",
       "      <th>rei</th>\n",
       "      <th>metric</th>\n",
       "      <th>year</th>\n",
       "      <th>val</th>\n",
       "      <th>upper</th>\n",
       "      <th>lower</th>\n",
       "      <th>location_clean</th>\n",
       "    </tr>\n",
       "  </thead>\n",
       "  <tbody>\n",
       "    <tr>\n",
       "      <th>0</th>\n",
       "      <td>Deaths</td>\n",
       "      <td>Lao People's Democratic Republic</td>\n",
       "      <td>Both</td>\n",
       "      <td>All Ages</td>\n",
       "      <td>Stomach cancer</td>\n",
       "      <td>All risk factors</td>\n",
       "      <td>Rate</td>\n",
       "      <td>1990</td>\n",
       "      <td>2.141225</td>\n",
       "      <td>3.986941</td>\n",
       "      <td>1.197598</td>\n",
       "      <td>LAO</td>\n",
       "    </tr>\n",
       "    <tr>\n",
       "      <th>1</th>\n",
       "      <td>Deaths</td>\n",
       "      <td>Lao People's Democratic Republic</td>\n",
       "      <td>Both</td>\n",
       "      <td>All Ages</td>\n",
       "      <td>Neurological disorders</td>\n",
       "      <td>All risk factors</td>\n",
       "      <td>Rate</td>\n",
       "      <td>1990</td>\n",
       "      <td>1.201337</td>\n",
       "      <td>3.796150</td>\n",
       "      <td>0.166485</td>\n",
       "      <td>LAO</td>\n",
       "    </tr>\n",
       "    <tr>\n",
       "      <th>2</th>\n",
       "      <td>Deaths</td>\n",
       "      <td>Oman</td>\n",
       "      <td>Both</td>\n",
       "      <td>All Ages</td>\n",
       "      <td>Other non-communicable diseases</td>\n",
       "      <td>Particulate matter pollution</td>\n",
       "      <td>Rate</td>\n",
       "      <td>1990</td>\n",
       "      <td>0.015407</td>\n",
       "      <td>0.045529</td>\n",
       "      <td>0.002352</td>\n",
       "      <td>OMN</td>\n",
       "    </tr>\n",
       "    <tr>\n",
       "      <th>3</th>\n",
       "      <td>Deaths</td>\n",
       "      <td>Oman</td>\n",
       "      <td>Both</td>\n",
       "      <td>All Ages</td>\n",
       "      <td>Other non-communicable diseases</td>\n",
       "      <td>All risk factors</td>\n",
       "      <td>Rate</td>\n",
       "      <td>1990</td>\n",
       "      <td>0.071865</td>\n",
       "      <td>0.185637</td>\n",
       "      <td>0.012971</td>\n",
       "      <td>OMN</td>\n",
       "    </tr>\n",
       "    <tr>\n",
       "      <th>4</th>\n",
       "      <td>Deaths</td>\n",
       "      <td>Oman</td>\n",
       "      <td>Both</td>\n",
       "      <td>All Ages</td>\n",
       "      <td>Other non-communicable diseases</td>\n",
       "      <td>Air pollution</td>\n",
       "      <td>Rate</td>\n",
       "      <td>1990</td>\n",
       "      <td>0.015407</td>\n",
       "      <td>0.045529</td>\n",
       "      <td>0.002352</td>\n",
       "      <td>OMN</td>\n",
       "    </tr>\n",
       "  </tbody>\n",
       "</table>\n",
       "</div>"
      ],
      "text/plain": [
       "  measure                          location   sex       age  \\\n",
       "0  Deaths  Lao People's Democratic Republic  Both  All Ages   \n",
       "1  Deaths  Lao People's Democratic Republic  Both  All Ages   \n",
       "2  Deaths                              Oman  Both  All Ages   \n",
       "3  Deaths                              Oman  Both  All Ages   \n",
       "4  Deaths                              Oman  Both  All Ages   \n",
       "\n",
       "                             cause                           rei metric  year  \\\n",
       "0                   Stomach cancer              All risk factors   Rate  1990   \n",
       "1           Neurological disorders              All risk factors   Rate  1990   \n",
       "2  Other non-communicable diseases  Particulate matter pollution   Rate  1990   \n",
       "3  Other non-communicable diseases              All risk factors   Rate  1990   \n",
       "4  Other non-communicable diseases                 Air pollution   Rate  1990   \n",
       "\n",
       "        val     upper     lower location_clean  \n",
       "0  2.141225  3.986941  1.197598            LAO  \n",
       "1  1.201337  3.796150  0.166485            LAO  \n",
       "2  0.015407  0.045529  0.002352            OMN  \n",
       "3  0.071865  0.185637  0.012971            OMN  \n",
       "4  0.015407  0.045529  0.002352            OMN  "
      ]
     },
     "execution_count": 8,
     "metadata": {},
     "output_type": "execute_result"
    }
   ],
   "source": [
    "\n",
    "cause_df = risk_df[\n",
    "    risk_df.cause.isin(cause_list)\n",
    "    & (risk_df.metric == \"Rate\")\n",
    "    & (risk_df.measure == \"Deaths\")\n",
    "    & (risk_df.sex == \"Both\")\n",
    "    # & (risk_df.year >= 2000)\n",
    "].sort_values(\"year\").reset_index(drop=True)\n",
    "cause_df.head()"
   ]
  },
  {
   "cell_type": "code",
   "execution_count": 9,
   "metadata": {},
   "outputs": [
    {
     "data": {
      "text/html": [
       "<div>\n",
       "<style scoped>\n",
       "    .dataframe tbody tr th:only-of-type {\n",
       "        vertical-align: middle;\n",
       "    }\n",
       "\n",
       "    .dataframe tbody tr th {\n",
       "        vertical-align: top;\n",
       "    }\n",
       "\n",
       "    .dataframe thead th {\n",
       "        text-align: right;\n",
       "    }\n",
       "</style>\n",
       "<table border=\"1\" class=\"dataframe\">\n",
       "  <thead>\n",
       "    <tr style=\"text-align: right;\">\n",
       "      <th></th>\n",
       "      <th>iso_code</th>\n",
       "      <th>country</th>\n",
       "      <th>year</th>\n",
       "      <th>co2</th>\n",
       "      <th>consumption_co2</th>\n",
       "      <th>co2_growth_prct</th>\n",
       "      <th>co2_growth_abs</th>\n",
       "      <th>trade_co2</th>\n",
       "      <th>co2_per_capita</th>\n",
       "      <th>consumption_co2_per_capita</th>\n",
       "      <th>...</th>\n",
       "      <th>ghg_per_capita</th>\n",
       "      <th>methane</th>\n",
       "      <th>methane_per_capita</th>\n",
       "      <th>nitrous_oxide</th>\n",
       "      <th>nitrous_oxide_per_capita</th>\n",
       "      <th>population</th>\n",
       "      <th>gdp</th>\n",
       "      <th>primary_energy_consumption</th>\n",
       "      <th>energy_per_capita</th>\n",
       "      <th>energy_per_gdp</th>\n",
       "    </tr>\n",
       "  </thead>\n",
       "  <tbody>\n",
       "    <tr>\n",
       "      <th>24037</th>\n",
       "      <td>USA</td>\n",
       "      <td>United States</td>\n",
       "      <td>1990</td>\n",
       "      <td>5113.455</td>\n",
       "      <td>5031.786</td>\n",
       "      <td>-0.36</td>\n",
       "      <td>-18.472</td>\n",
       "      <td>-81.669</td>\n",
       "      <td>20.282</td>\n",
       "      <td>19.958</td>\n",
       "      <td>...</td>\n",
       "      <td>22.488</td>\n",
       "      <td>798.61</td>\n",
       "      <td>3.168</td>\n",
       "      <td>254.99</td>\n",
       "      <td>1.011</td>\n",
       "      <td>252120309.0</td>\n",
       "      <td>9.250378e+12</td>\n",
       "      <td>22498.158</td>\n",
       "      <td>89235.912</td>\n",
       "      <td>2.432</td>\n",
       "    </tr>\n",
       "    <tr>\n",
       "      <th>24038</th>\n",
       "      <td>USA</td>\n",
       "      <td>United States</td>\n",
       "      <td>1991</td>\n",
       "      <td>5057.931</td>\n",
       "      <td>4949.136</td>\n",
       "      <td>-1.09</td>\n",
       "      <td>-55.524</td>\n",
       "      <td>-108.795</td>\n",
       "      <td>19.871</td>\n",
       "      <td>19.444</td>\n",
       "      <td>...</td>\n",
       "      <td>22.110</td>\n",
       "      <td>801.89</td>\n",
       "      <td>3.150</td>\n",
       "      <td>256.20</td>\n",
       "      <td>1.007</td>\n",
       "      <td>254539371.0</td>\n",
       "      <td>9.243499e+12</td>\n",
       "      <td>22466.677</td>\n",
       "      <td>88264.181</td>\n",
       "      <td>2.431</td>\n",
       "    </tr>\n",
       "    <tr>\n",
       "      <th>24039</th>\n",
       "      <td>USA</td>\n",
       "      <td>United States</td>\n",
       "      <td>1992</td>\n",
       "      <td>5167.481</td>\n",
       "      <td>5134.515</td>\n",
       "      <td>2.17</td>\n",
       "      <td>109.550</td>\n",
       "      <td>-32.966</td>\n",
       "      <td>20.108</td>\n",
       "      <td>19.979</td>\n",
       "      <td>...</td>\n",
       "      <td>22.215</td>\n",
       "      <td>800.73</td>\n",
       "      <td>3.116</td>\n",
       "      <td>261.95</td>\n",
       "      <td>1.019</td>\n",
       "      <td>256990608.0</td>\n",
       "      <td>9.572148e+12</td>\n",
       "      <td>22803.378</td>\n",
       "      <td>88732.202</td>\n",
       "      <td>2.383</td>\n",
       "    </tr>\n",
       "    <tr>\n",
       "      <th>24040</th>\n",
       "      <td>USA</td>\n",
       "      <td>United States</td>\n",
       "      <td>1993</td>\n",
       "      <td>5267.343</td>\n",
       "      <td>5194.300</td>\n",
       "      <td>1.93</td>\n",
       "      <td>99.862</td>\n",
       "      <td>-73.043</td>\n",
       "      <td>20.296</td>\n",
       "      <td>20.014</td>\n",
       "      <td>...</td>\n",
       "      <td>22.422</td>\n",
       "      <td>783.55</td>\n",
       "      <td>3.019</td>\n",
       "      <td>269.35</td>\n",
       "      <td>1.038</td>\n",
       "      <td>259532130.0</td>\n",
       "      <td>9.834941e+12</td>\n",
       "      <td>23279.396</td>\n",
       "      <td>89697.594</td>\n",
       "      <td>2.366</td>\n",
       "    </tr>\n",
       "    <tr>\n",
       "      <th>24041</th>\n",
       "      <td>USA</td>\n",
       "      <td>United States</td>\n",
       "      <td>1994</td>\n",
       "      <td>5358.824</td>\n",
       "      <td>5295.360</td>\n",
       "      <td>1.74</td>\n",
       "      <td>91.481</td>\n",
       "      <td>-63.464</td>\n",
       "      <td>20.435</td>\n",
       "      <td>20.193</td>\n",
       "      <td>...</td>\n",
       "      <td>22.522</td>\n",
       "      <td>790.58</td>\n",
       "      <td>3.015</td>\n",
       "      <td>273.36</td>\n",
       "      <td>1.042</td>\n",
       "      <td>262241204.0</td>\n",
       "      <td>1.023202e+13</td>\n",
       "      <td>23712.755</td>\n",
       "      <td>90423.527</td>\n",
       "      <td>2.325</td>\n",
       "    </tr>\n",
       "    <tr>\n",
       "      <th>24042</th>\n",
       "      <td>USA</td>\n",
       "      <td>United States</td>\n",
       "      <td>1995</td>\n",
       "      <td>5421.502</td>\n",
       "      <td>5356.474</td>\n",
       "      <td>1.17</td>\n",
       "      <td>62.678</td>\n",
       "      <td>-65.028</td>\n",
       "      <td>20.446</td>\n",
       "      <td>20.201</td>\n",
       "      <td>...</td>\n",
       "      <td>22.517</td>\n",
       "      <td>777.91</td>\n",
       "      <td>2.934</td>\n",
       "      <td>278.99</td>\n",
       "      <td>1.052</td>\n",
       "      <td>265163740.0</td>\n",
       "      <td>1.051026e+13</td>\n",
       "      <td>24222.295</td>\n",
       "      <td>91348.356</td>\n",
       "      <td>2.307</td>\n",
       "    </tr>\n",
       "    <tr>\n",
       "      <th>24043</th>\n",
       "      <td>USA</td>\n",
       "      <td>United States</td>\n",
       "      <td>1996</td>\n",
       "      <td>5610.582</td>\n",
       "      <td>5526.463</td>\n",
       "      <td>3.49</td>\n",
       "      <td>189.079</td>\n",
       "      <td>-84.119</td>\n",
       "      <td>20.909</td>\n",
       "      <td>20.595</td>\n",
       "      <td>...</td>\n",
       "      <td>22.618</td>\n",
       "      <td>754.68</td>\n",
       "      <td>2.812</td>\n",
       "      <td>282.97</td>\n",
       "      <td>1.055</td>\n",
       "      <td>268335007.0</td>\n",
       "      <td>1.090917e+13</td>\n",
       "      <td>25035.434</td>\n",
       "      <td>93299.171</td>\n",
       "      <td>2.297</td>\n",
       "    </tr>\n",
       "    <tr>\n",
       "      <th>24044</th>\n",
       "      <td>USA</td>\n",
       "      <td>United States</td>\n",
       "      <td>1997</td>\n",
       "      <td>5686.465</td>\n",
       "      <td>5632.188</td>\n",
       "      <td>1.35</td>\n",
       "      <td>75.883</td>\n",
       "      <td>-54.277</td>\n",
       "      <td>20.928</td>\n",
       "      <td>20.728</td>\n",
       "      <td>...</td>\n",
       "      <td>23.196</td>\n",
       "      <td>734.60</td>\n",
       "      <td>2.704</td>\n",
       "      <td>275.64</td>\n",
       "      <td>1.014</td>\n",
       "      <td>271713634.0</td>\n",
       "      <td>1.139876e+13</td>\n",
       "      <td>25225.640</td>\n",
       "      <td>92838.946</td>\n",
       "      <td>2.213</td>\n",
       "    </tr>\n",
       "    <tr>\n",
       "      <th>24045</th>\n",
       "      <td>USA</td>\n",
       "      <td>United States</td>\n",
       "      <td>1998</td>\n",
       "      <td>5731.050</td>\n",
       "      <td>5795.627</td>\n",
       "      <td>0.78</td>\n",
       "      <td>44.585</td>\n",
       "      <td>64.578</td>\n",
       "      <td>20.827</td>\n",
       "      <td>21.062</td>\n",
       "      <td>...</td>\n",
       "      <td>23.060</td>\n",
       "      <td>717.39</td>\n",
       "      <td>2.607</td>\n",
       "      <td>272.74</td>\n",
       "      <td>0.991</td>\n",
       "      <td>275175309.0</td>\n",
       "      <td>1.190603e+13</td>\n",
       "      <td>25391.342</td>\n",
       "      <td>92273.429</td>\n",
       "      <td>2.134</td>\n",
       "    </tr>\n",
       "    <tr>\n",
       "      <th>24046</th>\n",
       "      <td>USA</td>\n",
       "      <td>United States</td>\n",
       "      <td>1999</td>\n",
       "      <td>5804.669</td>\n",
       "      <td>5961.355</td>\n",
       "      <td>1.28</td>\n",
       "      <td>73.619</td>\n",
       "      <td>156.686</td>\n",
       "      <td>20.839</td>\n",
       "      <td>21.402</td>\n",
       "      <td>...</td>\n",
       "      <td>22.853</td>\n",
       "      <td>708.26</td>\n",
       "      <td>2.543</td>\n",
       "      <td>268.40</td>\n",
       "      <td>0.964</td>\n",
       "      <td>278548148.0</td>\n",
       "      <td>1.246382e+13</td>\n",
       "      <td>25840.805</td>\n",
       "      <td>92769.666</td>\n",
       "      <td>2.067</td>\n",
       "    </tr>\n",
       "    <tr>\n",
       "      <th>24047</th>\n",
       "      <td>USA</td>\n",
       "      <td>United States</td>\n",
       "      <td>2000</td>\n",
       "      <td>6010.508</td>\n",
       "      <td>6255.891</td>\n",
       "      <td>3.55</td>\n",
       "      <td>205.839</td>\n",
       "      <td>245.382</td>\n",
       "      <td>21.336</td>\n",
       "      <td>22.207</td>\n",
       "      <td>...</td>\n",
       "      <td>23.056</td>\n",
       "      <td>693.11</td>\n",
       "      <td>2.460</td>\n",
       "      <td>263.79</td>\n",
       "      <td>0.936</td>\n",
       "      <td>281710914.0</td>\n",
       "      <td>1.297384e+13</td>\n",
       "      <td>26427.463</td>\n",
       "      <td>93810.546</td>\n",
       "      <td>2.033</td>\n",
       "    </tr>\n",
       "    <tr>\n",
       "      <th>24048</th>\n",
       "      <td>USA</td>\n",
       "      <td>United States</td>\n",
       "      <td>2001</td>\n",
       "      <td>5904.882</td>\n",
       "      <td>6163.755</td>\n",
       "      <td>-1.76</td>\n",
       "      <td>-105.627</td>\n",
       "      <td>258.874</td>\n",
       "      <td>20.747</td>\n",
       "      <td>21.657</td>\n",
       "      <td>...</td>\n",
       "      <td>22.626</td>\n",
       "      <td>693.96</td>\n",
       "      <td>2.438</td>\n",
       "      <td>258.96</td>\n",
       "      <td>0.910</td>\n",
       "      <td>284607992.0</td>\n",
       "      <td>1.310047e+13</td>\n",
       "      <td>25804.055</td>\n",
       "      <td>90665.250</td>\n",
       "      <td>1.970</td>\n",
       "    </tr>\n",
       "    <tr>\n",
       "      <th>24049</th>\n",
       "      <td>USA</td>\n",
       "      <td>United States</td>\n",
       "      <td>2002</td>\n",
       "      <td>5946.771</td>\n",
       "      <td>6285.678</td>\n",
       "      <td>0.71</td>\n",
       "      <td>41.889</td>\n",
       "      <td>338.908</td>\n",
       "      <td>20.700</td>\n",
       "      <td>21.880</td>\n",
       "      <td>...</td>\n",
       "      <td>22.005</td>\n",
       "      <td>692.33</td>\n",
       "      <td>2.410</td>\n",
       "      <td>260.45</td>\n",
       "      <td>0.907</td>\n",
       "      <td>287279312.0</td>\n",
       "      <td>1.333449e+13</td>\n",
       "      <td>26177.526</td>\n",
       "      <td>91122.307</td>\n",
       "      <td>1.968</td>\n",
       "    </tr>\n",
       "    <tr>\n",
       "      <th>24050</th>\n",
       "      <td>USA</td>\n",
       "      <td>United States</td>\n",
       "      <td>2003</td>\n",
       "      <td>6011.837</td>\n",
       "      <td>6380.355</td>\n",
       "      <td>1.09</td>\n",
       "      <td>65.067</td>\n",
       "      <td>368.517</td>\n",
       "      <td>20.744</td>\n",
       "      <td>22.015</td>\n",
       "      <td>...</td>\n",
       "      <td>21.921</td>\n",
       "      <td>685.60</td>\n",
       "      <td>2.366</td>\n",
       "      <td>264.54</td>\n",
       "      <td>0.913</td>\n",
       "      <td>289815567.0</td>\n",
       "      <td>1.370881e+13</td>\n",
       "      <td>26259.752</td>\n",
       "      <td>90608.360</td>\n",
       "      <td>1.917</td>\n",
       "    </tr>\n",
       "    <tr>\n",
       "      <th>24051</th>\n",
       "      <td>USA</td>\n",
       "      <td>United States</td>\n",
       "      <td>2004</td>\n",
       "      <td>6114.007</td>\n",
       "      <td>6560.312</td>\n",
       "      <td>1.70</td>\n",
       "      <td>102.169</td>\n",
       "      <td>446.305</td>\n",
       "      <td>20.913</td>\n",
       "      <td>22.440</td>\n",
       "      <td>...</td>\n",
       "      <td>22.234</td>\n",
       "      <td>695.48</td>\n",
       "      <td>2.379</td>\n",
       "      <td>264.35</td>\n",
       "      <td>0.904</td>\n",
       "      <td>292354663.0</td>\n",
       "      <td>1.422788e+13</td>\n",
       "      <td>26776.886</td>\n",
       "      <td>91590.312</td>\n",
       "      <td>1.886</td>\n",
       "    </tr>\n",
       "    <tr>\n",
       "      <th>24052</th>\n",
       "      <td>USA</td>\n",
       "      <td>United States</td>\n",
       "      <td>2005</td>\n",
       "      <td>6134.521</td>\n",
       "      <td>6596.274</td>\n",
       "      <td>0.34</td>\n",
       "      <td>20.515</td>\n",
       "      <td>461.753</td>\n",
       "      <td>20.795</td>\n",
       "      <td>22.361</td>\n",
       "      <td>...</td>\n",
       "      <td>21.958</td>\n",
       "      <td>684.70</td>\n",
       "      <td>2.321</td>\n",
       "      <td>262.64</td>\n",
       "      <td>0.890</td>\n",
       "      <td>294993509.0</td>\n",
       "      <td>1.470373e+13</td>\n",
       "      <td>26788.164</td>\n",
       "      <td>90809.188</td>\n",
       "      <td>1.822</td>\n",
       "    </tr>\n",
       "    <tr>\n",
       "      <th>24053</th>\n",
       "      <td>USA</td>\n",
       "      <td>United States</td>\n",
       "      <td>2006</td>\n",
       "      <td>6051.668</td>\n",
       "      <td>6595.172</td>\n",
       "      <td>-1.35</td>\n",
       "      <td>-82.853</td>\n",
       "      <td>543.504</td>\n",
       "      <td>20.324</td>\n",
       "      <td>22.149</td>\n",
       "      <td>...</td>\n",
       "      <td>21.456</td>\n",
       "      <td>685.94</td>\n",
       "      <td>2.304</td>\n",
       "      <td>265.30</td>\n",
       "      <td>0.891</td>\n",
       "      <td>297758977.0</td>\n",
       "      <td>1.509588e+13</td>\n",
       "      <td>26571.789</td>\n",
       "      <td>89239.243</td>\n",
       "      <td>1.760</td>\n",
       "    </tr>\n",
       "    <tr>\n",
       "      <th>24054</th>\n",
       "      <td>USA</td>\n",
       "      <td>United States</td>\n",
       "      <td>2007</td>\n",
       "      <td>6131.004</td>\n",
       "      <td>6618.792</td>\n",
       "      <td>1.31</td>\n",
       "      <td>79.336</td>\n",
       "      <td>487.787</td>\n",
       "      <td>20.395</td>\n",
       "      <td>22.018</td>\n",
       "      <td>...</td>\n",
       "      <td>21.959</td>\n",
       "      <td>708.39</td>\n",
       "      <td>2.357</td>\n",
       "      <td>273.08</td>\n",
       "      <td>0.908</td>\n",
       "      <td>300608425.0</td>\n",
       "      <td>1.536446e+13</td>\n",
       "      <td>26943.482</td>\n",
       "      <td>89629.957</td>\n",
       "      <td>1.750</td>\n",
       "    </tr>\n",
       "    <tr>\n",
       "      <th>24055</th>\n",
       "      <td>USA</td>\n",
       "      <td>United States</td>\n",
       "      <td>2008</td>\n",
       "      <td>5914.078</td>\n",
       "      <td>6313.033</td>\n",
       "      <td>-3.54</td>\n",
       "      <td>-216.926</td>\n",
       "      <td>398.956</td>\n",
       "      <td>19.487</td>\n",
       "      <td>20.802</td>\n",
       "      <td>...</td>\n",
       "      <td>20.651</td>\n",
       "      <td>684.28</td>\n",
       "      <td>2.255</td>\n",
       "      <td>252.55</td>\n",
       "      <td>0.832</td>\n",
       "      <td>303486022.0</td>\n",
       "      <td>1.531973e+13</td>\n",
       "      <td>26277.996</td>\n",
       "      <td>86587.174</td>\n",
       "      <td>1.718</td>\n",
       "    </tr>\n",
       "    <tr>\n",
       "      <th>24056</th>\n",
       "      <td>USA</td>\n",
       "      <td>United States</td>\n",
       "      <td>2009</td>\n",
       "      <td>5478.210</td>\n",
       "      <td>5795.485</td>\n",
       "      <td>-7.37</td>\n",
       "      <td>-435.868</td>\n",
       "      <td>317.275</td>\n",
       "      <td>17.885</td>\n",
       "      <td>18.920</td>\n",
       "      <td>...</td>\n",
       "      <td>19.150</td>\n",
       "      <td>679.85</td>\n",
       "      <td>2.219</td>\n",
       "      <td>246.01</td>\n",
       "      <td>0.803</td>\n",
       "      <td>306307565.0</td>\n",
       "      <td>1.489429e+13</td>\n",
       "      <td>24978.914</td>\n",
       "      <td>81548.356</td>\n",
       "      <td>1.676</td>\n",
       "    </tr>\n",
       "    <tr>\n",
       "      <th>24057</th>\n",
       "      <td>USA</td>\n",
       "      <td>United States</td>\n",
       "      <td>2010</td>\n",
       "      <td>5675.786</td>\n",
       "      <td>5998.163</td>\n",
       "      <td>3.61</td>\n",
       "      <td>197.577</td>\n",
       "      <td>322.376</td>\n",
       "      <td>18.368</td>\n",
       "      <td>19.411</td>\n",
       "      <td>...</td>\n",
       "      <td>19.779</td>\n",
       "      <td>679.25</td>\n",
       "      <td>2.198</td>\n",
       "      <td>250.84</td>\n",
       "      <td>0.812</td>\n",
       "      <td>309011469.0</td>\n",
       "      <td>1.527062e+13</td>\n",
       "      <td>25825.740</td>\n",
       "      <td>83575.469</td>\n",
       "      <td>1.688</td>\n",
       "    </tr>\n",
       "    <tr>\n",
       "      <th>24058</th>\n",
       "      <td>USA</td>\n",
       "      <td>United States</td>\n",
       "      <td>2011</td>\n",
       "      <td>5540.173</td>\n",
       "      <td>5942.503</td>\n",
       "      <td>-2.39</td>\n",
       "      <td>-135.613</td>\n",
       "      <td>402.329</td>\n",
       "      <td>17.781</td>\n",
       "      <td>19.072</td>\n",
       "      <td>...</td>\n",
       "      <td>20.013</td>\n",
       "      <td>670.49</td>\n",
       "      <td>2.152</td>\n",
       "      <td>261.57</td>\n",
       "      <td>0.839</td>\n",
       "      <td>311584051.0</td>\n",
       "      <td>1.550930e+13</td>\n",
       "      <td>25580.121</td>\n",
       "      <td>82097.030</td>\n",
       "      <td>1.650</td>\n",
       "    </tr>\n",
       "    <tr>\n",
       "      <th>24059</th>\n",
       "      <td>USA</td>\n",
       "      <td>United States</td>\n",
       "      <td>2012</td>\n",
       "      <td>5338.698</td>\n",
       "      <td>5714.303</td>\n",
       "      <td>-3.64</td>\n",
       "      <td>-201.475</td>\n",
       "      <td>375.604</td>\n",
       "      <td>17.000</td>\n",
       "      <td>18.196</td>\n",
       "      <td>...</td>\n",
       "      <td>18.902</td>\n",
       "      <td>648.75</td>\n",
       "      <td>2.066</td>\n",
       "      <td>251.80</td>\n",
       "      <td>0.802</td>\n",
       "      <td>314043885.0</td>\n",
       "      <td>1.584964e+13</td>\n",
       "      <td>24913.288</td>\n",
       "      <td>79330.565</td>\n",
       "      <td>1.567</td>\n",
       "    </tr>\n",
       "    <tr>\n",
       "      <th>24060</th>\n",
       "      <td>USA</td>\n",
       "      <td>United States</td>\n",
       "      <td>2013</td>\n",
       "      <td>5474.257</td>\n",
       "      <td>5797.617</td>\n",
       "      <td>2.54</td>\n",
       "      <td>135.558</td>\n",
       "      <td>323.361</td>\n",
       "      <td>17.302</td>\n",
       "      <td>18.324</td>\n",
       "      <td>...</td>\n",
       "      <td>19.141</td>\n",
       "      <td>643.66</td>\n",
       "      <td>2.034</td>\n",
       "      <td>251.19</td>\n",
       "      <td>0.794</td>\n",
       "      <td>316400539.0</td>\n",
       "      <td>1.610843e+13</td>\n",
       "      <td>25582.098</td>\n",
       "      <td>80853.407</td>\n",
       "      <td>1.589</td>\n",
       "    </tr>\n",
       "    <tr>\n",
       "      <th>24061</th>\n",
       "      <td>USA</td>\n",
       "      <td>United States</td>\n",
       "      <td>2014</td>\n",
       "      <td>5522.807</td>\n",
       "      <td>5823.158</td>\n",
       "      <td>0.89</td>\n",
       "      <td>48.550</td>\n",
       "      <td>300.350</td>\n",
       "      <td>17.331</td>\n",
       "      <td>18.273</td>\n",
       "      <td>...</td>\n",
       "      <td>19.135</td>\n",
       "      <td>650.62</td>\n",
       "      <td>2.042</td>\n",
       "      <td>251.37</td>\n",
       "      <td>0.789</td>\n",
       "      <td>318673422.0</td>\n",
       "      <td>1.648266e+13</td>\n",
       "      <td>25848.401</td>\n",
       "      <td>81112.618</td>\n",
       "      <td>1.567</td>\n",
       "    </tr>\n",
       "    <tr>\n",
       "      <th>24062</th>\n",
       "      <td>USA</td>\n",
       "      <td>United States</td>\n",
       "      <td>2015</td>\n",
       "      <td>5371.771</td>\n",
       "      <td>5699.688</td>\n",
       "      <td>-2.73</td>\n",
       "      <td>-151.037</td>\n",
       "      <td>327.918</td>\n",
       "      <td>16.741</td>\n",
       "      <td>17.763</td>\n",
       "      <td>...</td>\n",
       "      <td>18.594</td>\n",
       "      <td>648.55</td>\n",
       "      <td>2.021</td>\n",
       "      <td>249.24</td>\n",
       "      <td>0.777</td>\n",
       "      <td>320878312.0</td>\n",
       "      <td>1.690258e+13</td>\n",
       "      <td>25596.966</td>\n",
       "      <td>79771.642</td>\n",
       "      <td>1.515</td>\n",
       "    </tr>\n",
       "    <tr>\n",
       "      <th>24063</th>\n",
       "      <td>USA</td>\n",
       "      <td>United States</td>\n",
       "      <td>2016</td>\n",
       "      <td>5248.024</td>\n",
       "      <td>5576.720</td>\n",
       "      <td>-2.30</td>\n",
       "      <td>-123.747</td>\n",
       "      <td>328.696</td>\n",
       "      <td>16.247</td>\n",
       "      <td>17.264</td>\n",
       "      <td>...</td>\n",
       "      <td>18.059</td>\n",
       "      <td>629.38</td>\n",
       "      <td>1.948</td>\n",
       "      <td>251.70</td>\n",
       "      <td>0.779</td>\n",
       "      <td>323015992.0</td>\n",
       "      <td>1.716256e+13</td>\n",
       "      <td>25560.520</td>\n",
       "      <td>79130.818</td>\n",
       "      <td>1.486</td>\n",
       "    </tr>\n",
       "    <tr>\n",
       "      <th>24064</th>\n",
       "      <td>USA</td>\n",
       "      <td>United States</td>\n",
       "      <td>2017</td>\n",
       "      <td>5207.751</td>\n",
       "      <td>5550.772</td>\n",
       "      <td>-0.77</td>\n",
       "      <td>-40.273</td>\n",
       "      <td>343.021</td>\n",
       "      <td>16.020</td>\n",
       "      <td>17.075</td>\n",
       "      <td>...</td>\n",
       "      <td>NaN</td>\n",
       "      <td>NaN</td>\n",
       "      <td>NaN</td>\n",
       "      <td>NaN</td>\n",
       "      <td>NaN</td>\n",
       "      <td>325084758.0</td>\n",
       "      <td>1.759628e+13</td>\n",
       "      <td>25647.389</td>\n",
       "      <td>78894.410</td>\n",
       "      <td>NaN</td>\n",
       "    </tr>\n",
       "    <tr>\n",
       "      <th>24065</th>\n",
       "      <td>USA</td>\n",
       "      <td>United States</td>\n",
       "      <td>2018</td>\n",
       "      <td>5375.491</td>\n",
       "      <td>5726.611</td>\n",
       "      <td>3.22</td>\n",
       "      <td>167.739</td>\n",
       "      <td>351.120</td>\n",
       "      <td>16.434</td>\n",
       "      <td>17.507</td>\n",
       "      <td>...</td>\n",
       "      <td>NaN</td>\n",
       "      <td>NaN</td>\n",
       "      <td>NaN</td>\n",
       "      <td>NaN</td>\n",
       "      <td>NaN</td>\n",
       "      <td>327096263.0</td>\n",
       "      <td>1.814065e+13</td>\n",
       "      <td>26556.388</td>\n",
       "      <td>81188.359</td>\n",
       "      <td>NaN</td>\n",
       "    </tr>\n",
       "    <tr>\n",
       "      <th>24066</th>\n",
       "      <td>USA</td>\n",
       "      <td>United States</td>\n",
       "      <td>2019</td>\n",
       "      <td>5255.816</td>\n",
       "      <td>5625.784</td>\n",
       "      <td>-2.23</td>\n",
       "      <td>-119.674</td>\n",
       "      <td>369.967</td>\n",
       "      <td>15.972</td>\n",
       "      <td>17.096</td>\n",
       "      <td>...</td>\n",
       "      <td>NaN</td>\n",
       "      <td>NaN</td>\n",
       "      <td>NaN</td>\n",
       "      <td>NaN</td>\n",
       "      <td>NaN</td>\n",
       "      <td>329064917.0</td>\n",
       "      <td>NaN</td>\n",
       "      <td>26291.355</td>\n",
       "      <td>79897.151</td>\n",
       "      <td>NaN</td>\n",
       "    </tr>\n",
       "  </tbody>\n",
       "</table>\n",
       "<p>30 rows × 58 columns</p>\n",
       "</div>"
      ],
      "text/plain": [
       "      iso_code        country  year       co2  consumption_co2  \\\n",
       "24037      USA  United States  1990  5113.455         5031.786   \n",
       "24038      USA  United States  1991  5057.931         4949.136   \n",
       "24039      USA  United States  1992  5167.481         5134.515   \n",
       "24040      USA  United States  1993  5267.343         5194.300   \n",
       "24041      USA  United States  1994  5358.824         5295.360   \n",
       "24042      USA  United States  1995  5421.502         5356.474   \n",
       "24043      USA  United States  1996  5610.582         5526.463   \n",
       "24044      USA  United States  1997  5686.465         5632.188   \n",
       "24045      USA  United States  1998  5731.050         5795.627   \n",
       "24046      USA  United States  1999  5804.669         5961.355   \n",
       "24047      USA  United States  2000  6010.508         6255.891   \n",
       "24048      USA  United States  2001  5904.882         6163.755   \n",
       "24049      USA  United States  2002  5946.771         6285.678   \n",
       "24050      USA  United States  2003  6011.837         6380.355   \n",
       "24051      USA  United States  2004  6114.007         6560.312   \n",
       "24052      USA  United States  2005  6134.521         6596.274   \n",
       "24053      USA  United States  2006  6051.668         6595.172   \n",
       "24054      USA  United States  2007  6131.004         6618.792   \n",
       "24055      USA  United States  2008  5914.078         6313.033   \n",
       "24056      USA  United States  2009  5478.210         5795.485   \n",
       "24057      USA  United States  2010  5675.786         5998.163   \n",
       "24058      USA  United States  2011  5540.173         5942.503   \n",
       "24059      USA  United States  2012  5338.698         5714.303   \n",
       "24060      USA  United States  2013  5474.257         5797.617   \n",
       "24061      USA  United States  2014  5522.807         5823.158   \n",
       "24062      USA  United States  2015  5371.771         5699.688   \n",
       "24063      USA  United States  2016  5248.024         5576.720   \n",
       "24064      USA  United States  2017  5207.751         5550.772   \n",
       "24065      USA  United States  2018  5375.491         5726.611   \n",
       "24066      USA  United States  2019  5255.816         5625.784   \n",
       "\n",
       "       co2_growth_prct  co2_growth_abs  trade_co2  co2_per_capita  \\\n",
       "24037            -0.36         -18.472    -81.669          20.282   \n",
       "24038            -1.09         -55.524   -108.795          19.871   \n",
       "24039             2.17         109.550    -32.966          20.108   \n",
       "24040             1.93          99.862    -73.043          20.296   \n",
       "24041             1.74          91.481    -63.464          20.435   \n",
       "24042             1.17          62.678    -65.028          20.446   \n",
       "24043             3.49         189.079    -84.119          20.909   \n",
       "24044             1.35          75.883    -54.277          20.928   \n",
       "24045             0.78          44.585     64.578          20.827   \n",
       "24046             1.28          73.619    156.686          20.839   \n",
       "24047             3.55         205.839    245.382          21.336   \n",
       "24048            -1.76        -105.627    258.874          20.747   \n",
       "24049             0.71          41.889    338.908          20.700   \n",
       "24050             1.09          65.067    368.517          20.744   \n",
       "24051             1.70         102.169    446.305          20.913   \n",
       "24052             0.34          20.515    461.753          20.795   \n",
       "24053            -1.35         -82.853    543.504          20.324   \n",
       "24054             1.31          79.336    487.787          20.395   \n",
       "24055            -3.54        -216.926    398.956          19.487   \n",
       "24056            -7.37        -435.868    317.275          17.885   \n",
       "24057             3.61         197.577    322.376          18.368   \n",
       "24058            -2.39        -135.613    402.329          17.781   \n",
       "24059            -3.64        -201.475    375.604          17.000   \n",
       "24060             2.54         135.558    323.361          17.302   \n",
       "24061             0.89          48.550    300.350          17.331   \n",
       "24062            -2.73        -151.037    327.918          16.741   \n",
       "24063            -2.30        -123.747    328.696          16.247   \n",
       "24064            -0.77         -40.273    343.021          16.020   \n",
       "24065             3.22         167.739    351.120          16.434   \n",
       "24066            -2.23        -119.674    369.967          15.972   \n",
       "\n",
       "       consumption_co2_per_capita  ...  ghg_per_capita  methane  \\\n",
       "24037                      19.958  ...          22.488   798.61   \n",
       "24038                      19.444  ...          22.110   801.89   \n",
       "24039                      19.979  ...          22.215   800.73   \n",
       "24040                      20.014  ...          22.422   783.55   \n",
       "24041                      20.193  ...          22.522   790.58   \n",
       "24042                      20.201  ...          22.517   777.91   \n",
       "24043                      20.595  ...          22.618   754.68   \n",
       "24044                      20.728  ...          23.196   734.60   \n",
       "24045                      21.062  ...          23.060   717.39   \n",
       "24046                      21.402  ...          22.853   708.26   \n",
       "24047                      22.207  ...          23.056   693.11   \n",
       "24048                      21.657  ...          22.626   693.96   \n",
       "24049                      21.880  ...          22.005   692.33   \n",
       "24050                      22.015  ...          21.921   685.60   \n",
       "24051                      22.440  ...          22.234   695.48   \n",
       "24052                      22.361  ...          21.958   684.70   \n",
       "24053                      22.149  ...          21.456   685.94   \n",
       "24054                      22.018  ...          21.959   708.39   \n",
       "24055                      20.802  ...          20.651   684.28   \n",
       "24056                      18.920  ...          19.150   679.85   \n",
       "24057                      19.411  ...          19.779   679.25   \n",
       "24058                      19.072  ...          20.013   670.49   \n",
       "24059                      18.196  ...          18.902   648.75   \n",
       "24060                      18.324  ...          19.141   643.66   \n",
       "24061                      18.273  ...          19.135   650.62   \n",
       "24062                      17.763  ...          18.594   648.55   \n",
       "24063                      17.264  ...          18.059   629.38   \n",
       "24064                      17.075  ...             NaN      NaN   \n",
       "24065                      17.507  ...             NaN      NaN   \n",
       "24066                      17.096  ...             NaN      NaN   \n",
       "\n",
       "       methane_per_capita  nitrous_oxide  nitrous_oxide_per_capita  \\\n",
       "24037               3.168         254.99                     1.011   \n",
       "24038               3.150         256.20                     1.007   \n",
       "24039               3.116         261.95                     1.019   \n",
       "24040               3.019         269.35                     1.038   \n",
       "24041               3.015         273.36                     1.042   \n",
       "24042               2.934         278.99                     1.052   \n",
       "24043               2.812         282.97                     1.055   \n",
       "24044               2.704         275.64                     1.014   \n",
       "24045               2.607         272.74                     0.991   \n",
       "24046               2.543         268.40                     0.964   \n",
       "24047               2.460         263.79                     0.936   \n",
       "24048               2.438         258.96                     0.910   \n",
       "24049               2.410         260.45                     0.907   \n",
       "24050               2.366         264.54                     0.913   \n",
       "24051               2.379         264.35                     0.904   \n",
       "24052               2.321         262.64                     0.890   \n",
       "24053               2.304         265.30                     0.891   \n",
       "24054               2.357         273.08                     0.908   \n",
       "24055               2.255         252.55                     0.832   \n",
       "24056               2.219         246.01                     0.803   \n",
       "24057               2.198         250.84                     0.812   \n",
       "24058               2.152         261.57                     0.839   \n",
       "24059               2.066         251.80                     0.802   \n",
       "24060               2.034         251.19                     0.794   \n",
       "24061               2.042         251.37                     0.789   \n",
       "24062               2.021         249.24                     0.777   \n",
       "24063               1.948         251.70                     0.779   \n",
       "24064                 NaN            NaN                       NaN   \n",
       "24065                 NaN            NaN                       NaN   \n",
       "24066                 NaN            NaN                       NaN   \n",
       "\n",
       "        population           gdp  primary_energy_consumption  \\\n",
       "24037  252120309.0  9.250378e+12                   22498.158   \n",
       "24038  254539371.0  9.243499e+12                   22466.677   \n",
       "24039  256990608.0  9.572148e+12                   22803.378   \n",
       "24040  259532130.0  9.834941e+12                   23279.396   \n",
       "24041  262241204.0  1.023202e+13                   23712.755   \n",
       "24042  265163740.0  1.051026e+13                   24222.295   \n",
       "24043  268335007.0  1.090917e+13                   25035.434   \n",
       "24044  271713634.0  1.139876e+13                   25225.640   \n",
       "24045  275175309.0  1.190603e+13                   25391.342   \n",
       "24046  278548148.0  1.246382e+13                   25840.805   \n",
       "24047  281710914.0  1.297384e+13                   26427.463   \n",
       "24048  284607992.0  1.310047e+13                   25804.055   \n",
       "24049  287279312.0  1.333449e+13                   26177.526   \n",
       "24050  289815567.0  1.370881e+13                   26259.752   \n",
       "24051  292354663.0  1.422788e+13                   26776.886   \n",
       "24052  294993509.0  1.470373e+13                   26788.164   \n",
       "24053  297758977.0  1.509588e+13                   26571.789   \n",
       "24054  300608425.0  1.536446e+13                   26943.482   \n",
       "24055  303486022.0  1.531973e+13                   26277.996   \n",
       "24056  306307565.0  1.489429e+13                   24978.914   \n",
       "24057  309011469.0  1.527062e+13                   25825.740   \n",
       "24058  311584051.0  1.550930e+13                   25580.121   \n",
       "24059  314043885.0  1.584964e+13                   24913.288   \n",
       "24060  316400539.0  1.610843e+13                   25582.098   \n",
       "24061  318673422.0  1.648266e+13                   25848.401   \n",
       "24062  320878312.0  1.690258e+13                   25596.966   \n",
       "24063  323015992.0  1.716256e+13                   25560.520   \n",
       "24064  325084758.0  1.759628e+13                   25647.389   \n",
       "24065  327096263.0  1.814065e+13                   26556.388   \n",
       "24066  329064917.0           NaN                   26291.355   \n",
       "\n",
       "       energy_per_capita  energy_per_gdp  \n",
       "24037          89235.912           2.432  \n",
       "24038          88264.181           2.431  \n",
       "24039          88732.202           2.383  \n",
       "24040          89697.594           2.366  \n",
       "24041          90423.527           2.325  \n",
       "24042          91348.356           2.307  \n",
       "24043          93299.171           2.297  \n",
       "24044          92838.946           2.213  \n",
       "24045          92273.429           2.134  \n",
       "24046          92769.666           2.067  \n",
       "24047          93810.546           2.033  \n",
       "24048          90665.250           1.970  \n",
       "24049          91122.307           1.968  \n",
       "24050          90608.360           1.917  \n",
       "24051          91590.312           1.886  \n",
       "24052          90809.188           1.822  \n",
       "24053          89239.243           1.760  \n",
       "24054          89629.957           1.750  \n",
       "24055          86587.174           1.718  \n",
       "24056          81548.356           1.676  \n",
       "24057          83575.469           1.688  \n",
       "24058          82097.030           1.650  \n",
       "24059          79330.565           1.567  \n",
       "24060          80853.407           1.589  \n",
       "24061          81112.618           1.567  \n",
       "24062          79771.642           1.515  \n",
       "24063          79130.818           1.486  \n",
       "24064          78894.410             NaN  \n",
       "24065          81188.359             NaN  \n",
       "24066          79897.151             NaN  \n",
       "\n",
       "[30 rows x 58 columns]"
      ]
     },
     "execution_count": 9,
     "metadata": {},
     "output_type": "execute_result"
    }
   ],
   "source": [
    "co2_df = co2_df[co2_df.year.between(cause_df.year.min(), cause_df.year.max())]\n",
    "co2_df[co2_df.iso_code==\"USA\"]"
   ]
  },
  {
   "cell_type": "code",
   "execution_count": 10,
   "metadata": {},
   "outputs": [],
   "source": [
    "def get_all_vs_air(df, cause=None):\n",
    "    result_df = [\n",
    "        df,  # all\n",
    "        df,  # air\n",
    "    ]\n",
    "    for index, poll in enumerate([\"All risk factors\", \"Air pollution\"]):\n",
    "        temp = result_df[index]\n",
    "        temp = temp[temp.rei == poll]\n",
    "        if cause:\n",
    "            temp = temp[temp.cause == cause]\n",
    "        result_df[index] = temp\n",
    "    # air_global_df = global_df[global_df.rei == ]\n",
    "    # all_global_df = global_df[global_df.rei == ]\n",
    "    \n",
    "    for index, temp_df in enumerate(result_df):\n",
    "\n",
    "        result_df[index] = temp_df.groupby(\"year\").agg(\n",
    "            val = ('val', 'sum')\n",
    "        ).reset_index()\n",
    "\n",
    "    # air_global_df = air_global_df.groupby(\"year\").agg(\n",
    "    #     val = ('val', 'sum')\n",
    "    # ).reset_index()\n",
    "\n",
    "    return result_df\n"
   ]
  },
  {
   "cell_type": "code",
   "execution_count": 11,
   "metadata": {},
   "outputs": [],
   "source": [
    "specific_cases = [\n",
    "    None, # scan all\n",
    "    \"Chronic respiratory diseases\",\n",
    "    \"Cardiovascular diseases\",\n",
    "]"
   ]
  },
  {
   "cell_type": "code",
   "execution_count": 12,
   "metadata": {},
   "outputs": [],
   "source": [
    "# fig = px.line(air_global_df, x=\"year\", y=\"val\")\n",
    "# Create tracesfrom plotly.subplots import make_subplots\n",
    "def draw_plot(df, co2, where):\n",
    "    fig = make_subplots(\n",
    "        rows=len(specific_cases)+1, cols=1, shared_xaxes=True, x_title=\"year\", y_title=\"Rate (per 100,000)\",\n",
    "        subplot_titles=[i if i else \"All Causes\" for i in specific_cases ].append(\"Co2 per Capita\")\n",
    "    )\n",
    "    # fig = go.Figure()\n",
    "\n",
    "    for row, cause in enumerate(specific_cases):\n",
    "        all_risk_df, air_risk_df = get_all_vs_air(df, cause)\n",
    "\n",
    "        fig.add_trace(\n",
    "            go.Scatter(\n",
    "                x=all_risk_df.year,\n",
    "                y=all_risk_df.val,\n",
    "                mode=\"lines+markers\",\n",
    "                name=\"All Risk Factor\",\n",
    "            ),\n",
    "            row=row + 1,\n",
    "            col=1,\n",
    "        )\n",
    "        fig.add_trace(\n",
    "            go.Scatter(\n",
    "                x=air_risk_df.year,\n",
    "                y=air_risk_df.val,\n",
    "                mode=\"lines+markers\",\n",
    "                name=\"Air Pollution\",\n",
    "            ),\n",
    "            row=row + 1,\n",
    "            col=1,\n",
    "        )\n",
    "    last_row = len(specific_cases)+1\n",
    "\n",
    "    fig.add_trace(\n",
    "        go.Scatter(\n",
    "            x=co2.year,\n",
    "            y=co2.co2_per_capita,\n",
    "            mode=\"lines\",\n",
    "            name=\"co2 per capita\",\n",
    "        ),\n",
    "        row=last_row,\n",
    "        col=1,\n",
    "    )\n",
    "\n",
    "\n",
    "    fig.update_layout(\n",
    "        title=f\"Compare Death rate for <b>All Risk Factor</b> vs <b>Air Pollution</b> over the years 1990 to 2019<br>{where}\",\n",
    "        legend_title=\"Risk Factor\",\n",
    "    )\n",
    "    fig[\"layout\"][\"hovermode\"] = \"x\"\n",
    "    return fig\n"
   ]
  },
  {
   "cell_type": "code",
   "execution_count": 13,
   "metadata": {},
   "outputs": [
    {
     "data": {
      "application/vnd.plotly.v1+json": {
       "config": {
        "plotlyServerURL": "https://plot.ly"
       },
       "data": [
        {
         "mode": "lines+markers",
         "name": "All Risk Factor",
         "type": "scatter",
         "x": [
          1990,
          1991,
          1992,
          1993,
          1994,
          1995,
          1996,
          1997,
          1998,
          1999,
          2000,
          2001,
          2002,
          2003,
          2004,
          2005,
          2006,
          2007,
          2008,
          2009,
          2010,
          2011,
          2012,
          2013,
          2014,
          2015,
          2016,
          2017,
          2018,
          2019
         ],
         "xaxis": "x",
         "y": [
          277.15239715689455,
          277.2783960078194,
          278.5023891826346,
          282.4454552512524,
          283.22265705812254,
          281.8695540212493,
          280.167335515299,
          279.0787884738447,
          277.86911833914735,
          279.1438116720497,
          280.240603740794,
          280.74510056586666,
          282.75969491966373,
          282.95680074536546,
          280.2123334956755,
          280.9979377059349,
          277.2711741374248,
          276.06306910044594,
          277.67651483502345,
          276.7836039265169,
          278.02914933700293,
          278.0078742544545,
          278.09377681909024,
          278.7348472340836,
          279.1898418140198,
          281.70457970907586,
          283.39869294698633,
          284.87535006806434,
          288.69713965034714,
          292.92578919524544
         ],
         "yaxis": "y"
        },
        {
         "mode": "lines+markers",
         "name": "Air Pollution",
         "type": "scatter",
         "x": [
          1990,
          1991,
          1992,
          1993,
          1994,
          1995,
          1996,
          1997,
          1998,
          1999,
          2000,
          2001,
          2002,
          2003,
          2004,
          2005,
          2006,
          2007,
          2008,
          2009,
          2010,
          2011,
          2012,
          2013,
          2014,
          2015,
          2016,
          2017,
          2018,
          2019
         ],
         "xaxis": "x",
         "y": [
          78.598333730684,
          78.03622496856683,
          77.7760884751672,
          77.82784563314945,
          77.35495771699982,
          76.46850505014527,
          75.88948791609317,
          75.66661410238545,
          74.8604734628779,
          74.4276851260257,
          74.42700822945439,
          74.31477363321419,
          74.3684966922686,
          73.88832635893685,
          72.8159912264178,
          72.50481246049866,
          71.55328511934651,
          71.04850607394974,
          71.22022067945404,
          70.52380716056297,
          70.42309740251541,
          70.19702954878494,
          69.71212880466344,
          69.31864500294894,
          68.73760660158453,
          68.62026516753191,
          67.96695873554185,
          67.2566841223802,
          67.3853437938073,
          67.76560155576836
         ],
         "yaxis": "y"
        },
        {
         "mode": "lines+markers",
         "name": "All Risk Factor",
         "type": "scatter",
         "x": [
          1990,
          1991,
          1992,
          1993,
          1994,
          1995,
          1996,
          1997,
          1998,
          1999,
          2000,
          2001,
          2002,
          2003,
          2004,
          2005,
          2006,
          2007,
          2008,
          2009,
          2010,
          2011,
          2012,
          2013,
          2014,
          2015,
          2016,
          2017,
          2018,
          2019
         ],
         "xaxis": "x2",
         "y": [
          43.68660418579584,
          43.80350685208577,
          43.94382878366846,
          44.0846911199163,
          43.79171951970706,
          43.36750057675761,
          43.1132540969543,
          42.90904144325795,
          42.41921579998183,
          42.01669615597365,
          41.78432230765473,
          41.33241812802768,
          40.98086660844104,
          40.394578111714615,
          39.46375696390078,
          38.983121350743815,
          38.05040978632429,
          37.45640142404168,
          37.30905679649259,
          36.56612911233318,
          36.12322423612856,
          35.80644035959828,
          35.467531796578164,
          35.416028298374975,
          35.26135850368431,
          35.06151947029028,
          35.00713476069216,
          35.00503007941248,
          35.354797661358845,
          35.734527137710685
         ],
         "yaxis": "y2"
        },
        {
         "mode": "lines+markers",
         "name": "Air Pollution",
         "type": "scatter",
         "x": [
          1990,
          1991,
          1992,
          1993,
          1994,
          1995,
          1996,
          1997,
          1998,
          1999,
          2000,
          2001,
          2002,
          2003,
          2004,
          2005,
          2006,
          2007,
          2008,
          2009,
          2010,
          2011,
          2012,
          2013,
          2014,
          2015,
          2016,
          2017,
          2018,
          2019
         ],
         "xaxis": "x2",
         "y": [
          25.7957711551252,
          25.599696273706268,
          25.42321867891191,
          25.22326526529461,
          24.851699144129864,
          24.361986761487024,
          24.02532506013345,
          23.83911742263728,
          23.355578770611128,
          22.91162837156151,
          22.55864452646422,
          22.218344592601365,
          21.87284818309768,
          21.427094416434315,
          20.81216911407669,
          20.46919868892804,
          20.064639968826327,
          19.70102035064355,
          19.531673967394763,
          18.834325252843783,
          18.40499992226016,
          18.152057708547684,
          17.86062970693447,
          17.739165024349017,
          17.540509468942616,
          17.33509266790033,
          17.126839104448642,
          16.920457849536287,
          16.894709327879884,
          16.93365319584741
         ],
         "yaxis": "y2"
        },
        {
         "mode": "lines+markers",
         "name": "All Risk Factor",
         "type": "scatter",
         "x": [
          1990,
          1991,
          1992,
          1993,
          1994,
          1995,
          1996,
          1997,
          1998,
          1999,
          2000,
          2001,
          2002,
          2003,
          2004,
          2005,
          2006,
          2007,
          2008,
          2009,
          2010,
          2011,
          2012,
          2013,
          2014,
          2015,
          2016,
          2017,
          2018,
          2019
         ],
         "xaxis": "x3",
         "y": [
          193.6207952805865,
          193.273690385189,
          193.937837425727,
          196.9900860104732,
          197.70500592246268,
          196.5343393013299,
          195.0756139978793,
          194.1729584265641,
          193.21173433633075,
          194.37226077359887,
          195.23703240890003,
          195.9552782233524,
          197.8973270418342,
          198.2825296942184,
          196.1698026013332,
          197.0266638565925,
          194.3995622150056,
          193.53568795311165,
          194.75876956721035,
          194.2679896733448,
          195.55250641841383,
          195.624291290781,
          195.79500237809768,
          196.3140083526997,
          196.62911587882635,
          198.7660996439077,
          200.006597580724,
          200.97779011692927,
          203.52682461546385,
          206.29342600453853
         ],
         "yaxis": "y3"
        },
        {
         "mode": "lines+markers",
         "name": "Air Pollution",
         "type": "scatter",
         "x": [
          1990,
          1991,
          1992,
          1993,
          1994,
          1995,
          1996,
          1997,
          1998,
          1999,
          2000,
          2001,
          2002,
          2003,
          2004,
          2005,
          2006,
          2007,
          2008,
          2009,
          2010,
          2011,
          2012,
          2013,
          2014,
          2015,
          2016,
          2017,
          2018,
          2019
         ],
         "xaxis": "x3",
         "y": [
          48.67061497477802,
          48.301311680082485,
          48.21282731527508,
          48.4259674236189,
          48.313495680443495,
          47.90393998087792,
          47.65559772995756,
          47.6138108171469,
          47.27961205240384,
          47.24953648930412,
          47.53701622874292,
          47.72987756009967,
          48.074670329047024,
          48.00074560640402,
          47.49410845092953,
          47.480625202948886,
          46.93765754841152,
          46.74871109069235,
          47.01616559266271,
          46.94717064993232,
          47.20611403349586,
          47.19636350414866,
          46.98733224808917,
          46.7099874578373,
          46.31169112057327,
          46.36827543140165,
          45.94903408602431,
          45.46459529754157,
          45.560373265987664,
          45.81811545724195
         ],
         "yaxis": "y3"
        },
        {
         "mode": "lines",
         "name": "co2 per capita",
         "type": "scatter",
         "x": [
          1990,
          1991,
          1992,
          1993,
          1994,
          1995,
          1996,
          1997,
          1998,
          1999,
          2000,
          2001,
          2002,
          2003,
          2004,
          2005,
          2006,
          2007,
          2008,
          2009,
          2010,
          2011,
          2012,
          2013,
          2014,
          2015,
          2016,
          2017,
          2018,
          2019
         ],
         "xaxis": "x4",
         "y": [
          4.27,
          4.292,
          4.104,
          4.085,
          4.055,
          4.083,
          4.147,
          4.115,
          4.045,
          4.043,
          4.107,
          4.09,
          4.132,
          4.288,
          4.43,
          4.525,
          4.617,
          4.696,
          4.724,
          4.599,
          4.793,
          4.895,
          4.908,
          4.893,
          4.871,
          4.81,
          4.75,
          4.76,
          4.802,
          4.758
         ],
         "yaxis": "y4"
        }
       ],
       "layout": {
        "annotations": [
         {
          "font": {
           "size": 16
          },
          "showarrow": false,
          "text": "year",
          "x": 0.5,
          "xanchor": "center",
          "xref": "paper",
          "y": 0,
          "yanchor": "top",
          "yref": "paper",
          "yshift": -30
         },
         {
          "font": {
           "size": 16
          },
          "showarrow": false,
          "text": "Rate (per 100,000)",
          "textangle": -90,
          "x": 0,
          "xanchor": "right",
          "xref": "paper",
          "xshift": -40,
          "y": 0.5,
          "yanchor": "middle",
          "yref": "paper"
         }
        ],
        "hovermode": "x",
        "legend": {
         "title": {
          "text": "Risk Factor"
         }
        },
        "template": {
         "data": {
          "bar": [
           {
            "error_x": {
             "color": "#2a3f5f"
            },
            "error_y": {
             "color": "#2a3f5f"
            },
            "marker": {
             "line": {
              "color": "#E5ECF6",
              "width": 0.5
             },
             "pattern": {
              "fillmode": "overlay",
              "size": 10,
              "solidity": 0.2
             }
            },
            "type": "bar"
           }
          ],
          "barpolar": [
           {
            "marker": {
             "line": {
              "color": "#E5ECF6",
              "width": 0.5
             },
             "pattern": {
              "fillmode": "overlay",
              "size": 10,
              "solidity": 0.2
             }
            },
            "type": "barpolar"
           }
          ],
          "carpet": [
           {
            "aaxis": {
             "endlinecolor": "#2a3f5f",
             "gridcolor": "white",
             "linecolor": "white",
             "minorgridcolor": "white",
             "startlinecolor": "#2a3f5f"
            },
            "baxis": {
             "endlinecolor": "#2a3f5f",
             "gridcolor": "white",
             "linecolor": "white",
             "minorgridcolor": "white",
             "startlinecolor": "#2a3f5f"
            },
            "type": "carpet"
           }
          ],
          "choropleth": [
           {
            "colorbar": {
             "outlinewidth": 0,
             "ticks": ""
            },
            "type": "choropleth"
           }
          ],
          "contour": [
           {
            "colorbar": {
             "outlinewidth": 0,
             "ticks": ""
            },
            "colorscale": [
             [
              0,
              "#0d0887"
             ],
             [
              0.1111111111111111,
              "#46039f"
             ],
             [
              0.2222222222222222,
              "#7201a8"
             ],
             [
              0.3333333333333333,
              "#9c179e"
             ],
             [
              0.4444444444444444,
              "#bd3786"
             ],
             [
              0.5555555555555556,
              "#d8576b"
             ],
             [
              0.6666666666666666,
              "#ed7953"
             ],
             [
              0.7777777777777778,
              "#fb9f3a"
             ],
             [
              0.8888888888888888,
              "#fdca26"
             ],
             [
              1,
              "#f0f921"
             ]
            ],
            "type": "contour"
           }
          ],
          "contourcarpet": [
           {
            "colorbar": {
             "outlinewidth": 0,
             "ticks": ""
            },
            "type": "contourcarpet"
           }
          ],
          "heatmap": [
           {
            "colorbar": {
             "outlinewidth": 0,
             "ticks": ""
            },
            "colorscale": [
             [
              0,
              "#0d0887"
             ],
             [
              0.1111111111111111,
              "#46039f"
             ],
             [
              0.2222222222222222,
              "#7201a8"
             ],
             [
              0.3333333333333333,
              "#9c179e"
             ],
             [
              0.4444444444444444,
              "#bd3786"
             ],
             [
              0.5555555555555556,
              "#d8576b"
             ],
             [
              0.6666666666666666,
              "#ed7953"
             ],
             [
              0.7777777777777778,
              "#fb9f3a"
             ],
             [
              0.8888888888888888,
              "#fdca26"
             ],
             [
              1,
              "#f0f921"
             ]
            ],
            "type": "heatmap"
           }
          ],
          "heatmapgl": [
           {
            "colorbar": {
             "outlinewidth": 0,
             "ticks": ""
            },
            "colorscale": [
             [
              0,
              "#0d0887"
             ],
             [
              0.1111111111111111,
              "#46039f"
             ],
             [
              0.2222222222222222,
              "#7201a8"
             ],
             [
              0.3333333333333333,
              "#9c179e"
             ],
             [
              0.4444444444444444,
              "#bd3786"
             ],
             [
              0.5555555555555556,
              "#d8576b"
             ],
             [
              0.6666666666666666,
              "#ed7953"
             ],
             [
              0.7777777777777778,
              "#fb9f3a"
             ],
             [
              0.8888888888888888,
              "#fdca26"
             ],
             [
              1,
              "#f0f921"
             ]
            ],
            "type": "heatmapgl"
           }
          ],
          "histogram": [
           {
            "marker": {
             "pattern": {
              "fillmode": "overlay",
              "size": 10,
              "solidity": 0.2
             }
            },
            "type": "histogram"
           }
          ],
          "histogram2d": [
           {
            "colorbar": {
             "outlinewidth": 0,
             "ticks": ""
            },
            "colorscale": [
             [
              0,
              "#0d0887"
             ],
             [
              0.1111111111111111,
              "#46039f"
             ],
             [
              0.2222222222222222,
              "#7201a8"
             ],
             [
              0.3333333333333333,
              "#9c179e"
             ],
             [
              0.4444444444444444,
              "#bd3786"
             ],
             [
              0.5555555555555556,
              "#d8576b"
             ],
             [
              0.6666666666666666,
              "#ed7953"
             ],
             [
              0.7777777777777778,
              "#fb9f3a"
             ],
             [
              0.8888888888888888,
              "#fdca26"
             ],
             [
              1,
              "#f0f921"
             ]
            ],
            "type": "histogram2d"
           }
          ],
          "histogram2dcontour": [
           {
            "colorbar": {
             "outlinewidth": 0,
             "ticks": ""
            },
            "colorscale": [
             [
              0,
              "#0d0887"
             ],
             [
              0.1111111111111111,
              "#46039f"
             ],
             [
              0.2222222222222222,
              "#7201a8"
             ],
             [
              0.3333333333333333,
              "#9c179e"
             ],
             [
              0.4444444444444444,
              "#bd3786"
             ],
             [
              0.5555555555555556,
              "#d8576b"
             ],
             [
              0.6666666666666666,
              "#ed7953"
             ],
             [
              0.7777777777777778,
              "#fb9f3a"
             ],
             [
              0.8888888888888888,
              "#fdca26"
             ],
             [
              1,
              "#f0f921"
             ]
            ],
            "type": "histogram2dcontour"
           }
          ],
          "mesh3d": [
           {
            "colorbar": {
             "outlinewidth": 0,
             "ticks": ""
            },
            "type": "mesh3d"
           }
          ],
          "parcoords": [
           {
            "line": {
             "colorbar": {
              "outlinewidth": 0,
              "ticks": ""
             }
            },
            "type": "parcoords"
           }
          ],
          "pie": [
           {
            "automargin": true,
            "type": "pie"
           }
          ],
          "scatter": [
           {
            "marker": {
             "colorbar": {
              "outlinewidth": 0,
              "ticks": ""
             }
            },
            "type": "scatter"
           }
          ],
          "scatter3d": [
           {
            "line": {
             "colorbar": {
              "outlinewidth": 0,
              "ticks": ""
             }
            },
            "marker": {
             "colorbar": {
              "outlinewidth": 0,
              "ticks": ""
             }
            },
            "type": "scatter3d"
           }
          ],
          "scattercarpet": [
           {
            "marker": {
             "colorbar": {
              "outlinewidth": 0,
              "ticks": ""
             }
            },
            "type": "scattercarpet"
           }
          ],
          "scattergeo": [
           {
            "marker": {
             "colorbar": {
              "outlinewidth": 0,
              "ticks": ""
             }
            },
            "type": "scattergeo"
           }
          ],
          "scattergl": [
           {
            "marker": {
             "colorbar": {
              "outlinewidth": 0,
              "ticks": ""
             }
            },
            "type": "scattergl"
           }
          ],
          "scattermapbox": [
           {
            "marker": {
             "colorbar": {
              "outlinewidth": 0,
              "ticks": ""
             }
            },
            "type": "scattermapbox"
           }
          ],
          "scatterpolar": [
           {
            "marker": {
             "colorbar": {
              "outlinewidth": 0,
              "ticks": ""
             }
            },
            "type": "scatterpolar"
           }
          ],
          "scatterpolargl": [
           {
            "marker": {
             "colorbar": {
              "outlinewidth": 0,
              "ticks": ""
             }
            },
            "type": "scatterpolargl"
           }
          ],
          "scatterternary": [
           {
            "marker": {
             "colorbar": {
              "outlinewidth": 0,
              "ticks": ""
             }
            },
            "type": "scatterternary"
           }
          ],
          "surface": [
           {
            "colorbar": {
             "outlinewidth": 0,
             "ticks": ""
            },
            "colorscale": [
             [
              0,
              "#0d0887"
             ],
             [
              0.1111111111111111,
              "#46039f"
             ],
             [
              0.2222222222222222,
              "#7201a8"
             ],
             [
              0.3333333333333333,
              "#9c179e"
             ],
             [
              0.4444444444444444,
              "#bd3786"
             ],
             [
              0.5555555555555556,
              "#d8576b"
             ],
             [
              0.6666666666666666,
              "#ed7953"
             ],
             [
              0.7777777777777778,
              "#fb9f3a"
             ],
             [
              0.8888888888888888,
              "#fdca26"
             ],
             [
              1,
              "#f0f921"
             ]
            ],
            "type": "surface"
           }
          ],
          "table": [
           {
            "cells": {
             "fill": {
              "color": "#EBF0F8"
             },
             "line": {
              "color": "white"
             }
            },
            "header": {
             "fill": {
              "color": "#C8D4E3"
             },
             "line": {
              "color": "white"
             }
            },
            "type": "table"
           }
          ]
         },
         "layout": {
          "annotationdefaults": {
           "arrowcolor": "#2a3f5f",
           "arrowhead": 0,
           "arrowwidth": 1
          },
          "autotypenumbers": "strict",
          "coloraxis": {
           "colorbar": {
            "outlinewidth": 0,
            "ticks": ""
           }
          },
          "colorscale": {
           "diverging": [
            [
             0,
             "#8e0152"
            ],
            [
             0.1,
             "#c51b7d"
            ],
            [
             0.2,
             "#de77ae"
            ],
            [
             0.3,
             "#f1b6da"
            ],
            [
             0.4,
             "#fde0ef"
            ],
            [
             0.5,
             "#f7f7f7"
            ],
            [
             0.6,
             "#e6f5d0"
            ],
            [
             0.7,
             "#b8e186"
            ],
            [
             0.8,
             "#7fbc41"
            ],
            [
             0.9,
             "#4d9221"
            ],
            [
             1,
             "#276419"
            ]
           ],
           "sequential": [
            [
             0,
             "#0d0887"
            ],
            [
             0.1111111111111111,
             "#46039f"
            ],
            [
             0.2222222222222222,
             "#7201a8"
            ],
            [
             0.3333333333333333,
             "#9c179e"
            ],
            [
             0.4444444444444444,
             "#bd3786"
            ],
            [
             0.5555555555555556,
             "#d8576b"
            ],
            [
             0.6666666666666666,
             "#ed7953"
            ],
            [
             0.7777777777777778,
             "#fb9f3a"
            ],
            [
             0.8888888888888888,
             "#fdca26"
            ],
            [
             1,
             "#f0f921"
            ]
           ],
           "sequentialminus": [
            [
             0,
             "#0d0887"
            ],
            [
             0.1111111111111111,
             "#46039f"
            ],
            [
             0.2222222222222222,
             "#7201a8"
            ],
            [
             0.3333333333333333,
             "#9c179e"
            ],
            [
             0.4444444444444444,
             "#bd3786"
            ],
            [
             0.5555555555555556,
             "#d8576b"
            ],
            [
             0.6666666666666666,
             "#ed7953"
            ],
            [
             0.7777777777777778,
             "#fb9f3a"
            ],
            [
             0.8888888888888888,
             "#fdca26"
            ],
            [
             1,
             "#f0f921"
            ]
           ]
          },
          "colorway": [
           "#636efa",
           "#EF553B",
           "#00cc96",
           "#ab63fa",
           "#FFA15A",
           "#19d3f3",
           "#FF6692",
           "#B6E880",
           "#FF97FF",
           "#FECB52"
          ],
          "font": {
           "color": "#2a3f5f"
          },
          "geo": {
           "bgcolor": "white",
           "lakecolor": "white",
           "landcolor": "#E5ECF6",
           "showlakes": true,
           "showland": true,
           "subunitcolor": "white"
          },
          "hoverlabel": {
           "align": "left"
          },
          "hovermode": "closest",
          "mapbox": {
           "style": "light"
          },
          "paper_bgcolor": "white",
          "plot_bgcolor": "#E5ECF6",
          "polar": {
           "angularaxis": {
            "gridcolor": "white",
            "linecolor": "white",
            "ticks": ""
           },
           "bgcolor": "#E5ECF6",
           "radialaxis": {
            "gridcolor": "white",
            "linecolor": "white",
            "ticks": ""
           }
          },
          "scene": {
           "xaxis": {
            "backgroundcolor": "#E5ECF6",
            "gridcolor": "white",
            "gridwidth": 2,
            "linecolor": "white",
            "showbackground": true,
            "ticks": "",
            "zerolinecolor": "white"
           },
           "yaxis": {
            "backgroundcolor": "#E5ECF6",
            "gridcolor": "white",
            "gridwidth": 2,
            "linecolor": "white",
            "showbackground": true,
            "ticks": "",
            "zerolinecolor": "white"
           },
           "zaxis": {
            "backgroundcolor": "#E5ECF6",
            "gridcolor": "white",
            "gridwidth": 2,
            "linecolor": "white",
            "showbackground": true,
            "ticks": "",
            "zerolinecolor": "white"
           }
          },
          "shapedefaults": {
           "line": {
            "color": "#2a3f5f"
           }
          },
          "ternary": {
           "aaxis": {
            "gridcolor": "white",
            "linecolor": "white",
            "ticks": ""
           },
           "baxis": {
            "gridcolor": "white",
            "linecolor": "white",
            "ticks": ""
           },
           "bgcolor": "#E5ECF6",
           "caxis": {
            "gridcolor": "white",
            "linecolor": "white",
            "ticks": ""
           }
          },
          "title": {
           "x": 0.05
          },
          "xaxis": {
           "automargin": true,
           "gridcolor": "white",
           "linecolor": "white",
           "ticks": "",
           "title": {
            "standoff": 15
           },
           "zerolinecolor": "white",
           "zerolinewidth": 2
          },
          "yaxis": {
           "automargin": true,
           "gridcolor": "white",
           "linecolor": "white",
           "ticks": "",
           "title": {
            "standoff": 15
           },
           "zerolinecolor": "white",
           "zerolinewidth": 2
          }
         }
        },
        "title": {
         "text": "Compare Death rate for <b>All Risk Factor</b> vs <b>Air Pollution</b> over the years 1990 to 2019<br>Global"
        },
        "xaxis": {
         "anchor": "y",
         "domain": [
          0,
          1
         ],
         "matches": "x4",
         "showticklabels": false
        },
        "xaxis2": {
         "anchor": "y2",
         "domain": [
          0,
          1
         ],
         "matches": "x4",
         "showticklabels": false
        },
        "xaxis3": {
         "anchor": "y3",
         "domain": [
          0,
          1
         ],
         "matches": "x4",
         "showticklabels": false
        },
        "xaxis4": {
         "anchor": "y4",
         "domain": [
          0,
          1
         ]
        },
        "yaxis": {
         "anchor": "x",
         "domain": [
          0.80625,
          1
         ]
        },
        "yaxis2": {
         "anchor": "x2",
         "domain": [
          0.5375,
          0.73125
         ]
        },
        "yaxis3": {
         "anchor": "x3",
         "domain": [
          0.26875,
          0.4625
         ]
        },
        "yaxis4": {
         "anchor": "x4",
         "domain": [
          0,
          0.19375
         ]
        }
       }
      }
     },
     "metadata": {},
     "output_type": "display_data"
    }
   ],
   "source": [
    "global_df = cause_df[cause_df.location == \"Global\"]\n",
    "co2_world = co2_df[co2_df.country==\"World\"]\n",
    "draw_plot(global_df, co2_world, \"Global\" )"
   ]
  },
  {
   "cell_type": "code",
   "execution_count": 14,
   "metadata": {},
   "outputs": [
    {
     "data": {
      "application/vnd.plotly.v1+json": {
       "config": {
        "plotlyServerURL": "https://plot.ly"
       },
       "data": [
        {
         "mode": "lines+markers",
         "name": "All Risk Factor",
         "type": "scatter",
         "x": [
          1990,
          1991,
          1992,
          1993,
          1994,
          1995,
          1996,
          1997,
          1998,
          1999,
          2000,
          2001,
          2002,
          2003,
          2004,
          2005,
          2006,
          2007,
          2008,
          2009,
          2010,
          2011,
          2012,
          2013,
          2014,
          2015,
          2016,
          2017,
          2018,
          2019
         ],
         "xaxis": "x",
         "y": [
          500.65433130459843,
          501.4199750065765,
          505.0774468913588,
          505.81480462310867,
          506.6708909718401,
          509.86863093207387,
          514.5933932101464,
          510.5420642850595,
          512.9579413776441,
          518.4966626461894,
          532.1568860349587,
          540.094464424779,
          545.6914999136372,
          557.2149648901611,
          573.6967288934363,
          580.6807538650249,
          570.0282909268644,
          571.0347005548201,
          580.6541500083223,
          590.3085746298639,
          604.618108399394,
          621.431147954431,
          622.7539104129193,
          626.0887721813838,
          639.5318644734672,
          642.7445751934363,
          660.3037296284069,
          670.6849472924426,
          681.0702679568911,
          699.4758247108881
         ],
         "yaxis": "y"
        },
        {
         "mode": "lines+markers",
         "name": "Air Pollution",
         "type": "scatter",
         "x": [
          1990,
          1991,
          1992,
          1993,
          1994,
          1995,
          1996,
          1997,
          1998,
          1999,
          2000,
          2001,
          2002,
          2003,
          2004,
          2005,
          2006,
          2007,
          2008,
          2009,
          2010,
          2011,
          2012,
          2013,
          2014,
          2015,
          2016,
          2017,
          2018,
          2019
         ],
         "xaxis": "x",
         "y": [
          171.29801659248216,
          168.9352262576527,
          167.8465993193944,
          166.22998162691223,
          164.3702653277389,
          162.96734308309036,
          162.5604991279728,
          160.22151949822117,
          159.08136549708684,
          159.98872216218587,
          162.813635041183,
          163.85916905663882,
          164.7426714171906,
          166.0522757662093,
          168.636447456492,
          167.55903148944603,
          161.98765648418785,
          159.32719394286843,
          159.6796432373166,
          159.8733755978538,
          161.6187073805804,
          163.16728252687705,
          162.02633690783128,
          161.79880079239516,
          163.28692126355998,
          162.82323279751284,
          162.3266500099815,
          159.73779476252346,
          159.01279298743148,
          160.77935527278785
         ],
         "yaxis": "y"
        },
        {
         "mode": "lines+markers",
         "name": "All Risk Factor",
         "type": "scatter",
         "x": [
          1990,
          1991,
          1992,
          1993,
          1994,
          1995,
          1996,
          1997,
          1998,
          1999,
          2000,
          2001,
          2002,
          2003,
          2004,
          2005,
          2006,
          2007,
          2008,
          2009,
          2010,
          2011,
          2012,
          2013,
          2014,
          2015,
          2016,
          2017,
          2018,
          2019
         ],
         "xaxis": "x2",
         "y": [
          110.12370866661385,
          110.72157905348705,
          111.78416581842902,
          112.05706134642432,
          111.89301913213876,
          111.6178767944777,
          111.36625496380556,
          109.68508214989033,
          108.56575994570476,
          108.69205565040309,
          109.13741700828075,
          108.05492394728518,
          106.90699526369832,
          105.40876765575439,
          105.12267750824472,
          102.76736065491177,
          97.22275097468429,
          94.07642853816354,
          93.21541932052833,
          92.24217253629445,
          91.98041539771029,
          91.40630945499598,
          89.14052430348696,
          87.09040588617816,
          86.71044166935494,
          85.68728563354654,
          86.70119022348065,
          86.79722745521693,
          87.06785345183124,
          89.10863116588266
         ],
         "yaxis": "y2"
        },
        {
         "mode": "lines+markers",
         "name": "Air Pollution",
         "type": "scatter",
         "x": [
          1990,
          1991,
          1992,
          1993,
          1994,
          1995,
          1996,
          1997,
          1998,
          1999,
          2000,
          2001,
          2002,
          2003,
          2004,
          2005,
          2006,
          2007,
          2008,
          2009,
          2010,
          2011,
          2012,
          2013,
          2014,
          2015,
          2016,
          2017,
          2018,
          2019
         ],
         "xaxis": "x2",
         "y": [
          67.12927239237551,
          66.59615190255946,
          66.46100262624519,
          65.82904164528158,
          64.89716441006661,
          63.5881112123221,
          62.54241525741159,
          60.95547709727397,
          59.25949487686926,
          58.83360679377834,
          58.25061562917053,
          57.1367922922724,
          55.975207831957995,
          54.884771284618616,
          54.370845123361235,
          52.55825627969409,
          49.757368258454655,
          47.78222082426042,
          47.1641853829299,
          45.81245058708453,
          45.06962295621745,
          43.71387452367883,
          41.97766371178924,
          40.43167950729375,
          39.59950470930056,
          38.74638181565943,
          38.331184549440245,
          37.353133557852495,
          36.20871044593095,
          36.31068158509912
         ],
         "yaxis": "y2"
        },
        {
         "mode": "lines+markers",
         "name": "All Risk Factor",
         "type": "scatter",
         "x": [
          1990,
          1991,
          1992,
          1993,
          1994,
          1995,
          1996,
          1997,
          1998,
          1999,
          2000,
          2001,
          2002,
          2003,
          2004,
          2005,
          2006,
          2007,
          2008,
          2009,
          2010,
          2011,
          2012,
          2013,
          2014,
          2015,
          2016,
          2017,
          2018,
          2019
         ],
         "xaxis": "x3",
         "y": [
          303.6705861783979,
          301.03596363278757,
          300.6504631498316,
          298.3825960481579,
          295.98500690858896,
          295.82595820931624,
          296.73139992269637,
          292.1487206971598,
          292.2072482979192,
          294.795779396587,
          303.620870199699,
          310.3455968224094,
          317.45298367596314,
          323.62445656777925,
          333.3562631796915,
          337.7022187034181,
          331.3263287992713,
          332.882269956192,
          339.6544130615919,
          347.7832067399595,
          358.79659958315165,
          370.77798837702187,
          373.1071828815404,
          377.4582280461206,
          386.7894253768433,
          389.6296356345013,
          401.1359138240322,
          407.7302065102391,
          413.1838057402515,
          423.21010948566516
         ],
         "yaxis": "y3"
        },
        {
         "mode": "lines+markers",
         "name": "Air Pollution",
         "type": "scatter",
         "x": [
          1990,
          1991,
          1992,
          1993,
          1994,
          1995,
          1996,
          1997,
          1998,
          1999,
          2000,
          2001,
          2002,
          2003,
          2004,
          2005,
          2006,
          2007,
          2008,
          2009,
          2010,
          2011,
          2012,
          2013,
          2014,
          2015,
          2016,
          2017,
          2018,
          2019
         ],
         "xaxis": "x3",
         "y": [
          93.04282006286815,
          91.05678578806727,
          89.93275589809534,
          88.73042309189829,
          87.49346199348834,
          86.99029543775234,
          87.09715096941471,
          85.98679431266596,
          86.13285796909656,
          87.07844249261359,
          89.87654046905399,
          91.69562246349643,
          93.68638557482791,
          95.21545192277898,
          97.44307589431813,
          97.55256007685419,
          94.6005169218439,
          93.51695481573582,
          94.01668688955132,
          95.15631235322351,
          97.08348179574038,
          99.22358459519633,
          99.39646068671794,
          100.2408832883499,
          101.78359863166361,
          101.8392527197834,
          101.69042399912487,
          100.19031541484392,
          100.18276652571433,
          101.23143974181461
         ],
         "yaxis": "y3"
        },
        {
         "mode": "lines",
         "name": "co2 per capita",
         "type": "scatter",
         "x": [
          1990,
          1991,
          1992,
          1993,
          1994,
          1995,
          1996,
          1997,
          1998,
          1999,
          2000,
          2001,
          2002,
          2003,
          2004,
          2005,
          2006,
          2007,
          2008,
          2009,
          2010,
          2011,
          2012,
          2013,
          2014,
          2015,
          2016,
          2017,
          2018,
          2019
         ],
         "xaxis": "x4",
         "y": [
          2.111,
          2.185,
          2.263,
          2.397,
          2.52,
          2.706,
          2.799,
          2.781,
          2.642,
          2.614,
          2.665,
          2.706,
          2.962,
          3.456,
          3.948,
          4.416,
          4.848,
          5.185,
          5.539,
          5.794,
          6.295,
          6.922,
          7.062,
          7.151,
          7.135,
          7,
          6.874,
          6.981,
          7.208,
          7.316
         ],
         "yaxis": "y4"
        }
       ],
       "layout": {
        "annotations": [
         {
          "font": {
           "size": 16
          },
          "showarrow": false,
          "text": "year",
          "x": 0.5,
          "xanchor": "center",
          "xref": "paper",
          "y": 0,
          "yanchor": "top",
          "yref": "paper",
          "yshift": -30
         },
         {
          "font": {
           "size": 16
          },
          "showarrow": false,
          "text": "Rate (per 100,000)",
          "textangle": -90,
          "x": 0,
          "xanchor": "right",
          "xref": "paper",
          "xshift": -40,
          "y": 0.5,
          "yanchor": "middle",
          "yref": "paper"
         }
        ],
        "hovermode": "x",
        "legend": {
         "title": {
          "text": "Risk Factor"
         }
        },
        "template": {
         "data": {
          "bar": [
           {
            "error_x": {
             "color": "#2a3f5f"
            },
            "error_y": {
             "color": "#2a3f5f"
            },
            "marker": {
             "line": {
              "color": "#E5ECF6",
              "width": 0.5
             },
             "pattern": {
              "fillmode": "overlay",
              "size": 10,
              "solidity": 0.2
             }
            },
            "type": "bar"
           }
          ],
          "barpolar": [
           {
            "marker": {
             "line": {
              "color": "#E5ECF6",
              "width": 0.5
             },
             "pattern": {
              "fillmode": "overlay",
              "size": 10,
              "solidity": 0.2
             }
            },
            "type": "barpolar"
           }
          ],
          "carpet": [
           {
            "aaxis": {
             "endlinecolor": "#2a3f5f",
             "gridcolor": "white",
             "linecolor": "white",
             "minorgridcolor": "white",
             "startlinecolor": "#2a3f5f"
            },
            "baxis": {
             "endlinecolor": "#2a3f5f",
             "gridcolor": "white",
             "linecolor": "white",
             "minorgridcolor": "white",
             "startlinecolor": "#2a3f5f"
            },
            "type": "carpet"
           }
          ],
          "choropleth": [
           {
            "colorbar": {
             "outlinewidth": 0,
             "ticks": ""
            },
            "type": "choropleth"
           }
          ],
          "contour": [
           {
            "colorbar": {
             "outlinewidth": 0,
             "ticks": ""
            },
            "colorscale": [
             [
              0,
              "#0d0887"
             ],
             [
              0.1111111111111111,
              "#46039f"
             ],
             [
              0.2222222222222222,
              "#7201a8"
             ],
             [
              0.3333333333333333,
              "#9c179e"
             ],
             [
              0.4444444444444444,
              "#bd3786"
             ],
             [
              0.5555555555555556,
              "#d8576b"
             ],
             [
              0.6666666666666666,
              "#ed7953"
             ],
             [
              0.7777777777777778,
              "#fb9f3a"
             ],
             [
              0.8888888888888888,
              "#fdca26"
             ],
             [
              1,
              "#f0f921"
             ]
            ],
            "type": "contour"
           }
          ],
          "contourcarpet": [
           {
            "colorbar": {
             "outlinewidth": 0,
             "ticks": ""
            },
            "type": "contourcarpet"
           }
          ],
          "heatmap": [
           {
            "colorbar": {
             "outlinewidth": 0,
             "ticks": ""
            },
            "colorscale": [
             [
              0,
              "#0d0887"
             ],
             [
              0.1111111111111111,
              "#46039f"
             ],
             [
              0.2222222222222222,
              "#7201a8"
             ],
             [
              0.3333333333333333,
              "#9c179e"
             ],
             [
              0.4444444444444444,
              "#bd3786"
             ],
             [
              0.5555555555555556,
              "#d8576b"
             ],
             [
              0.6666666666666666,
              "#ed7953"
             ],
             [
              0.7777777777777778,
              "#fb9f3a"
             ],
             [
              0.8888888888888888,
              "#fdca26"
             ],
             [
              1,
              "#f0f921"
             ]
            ],
            "type": "heatmap"
           }
          ],
          "heatmapgl": [
           {
            "colorbar": {
             "outlinewidth": 0,
             "ticks": ""
            },
            "colorscale": [
             [
              0,
              "#0d0887"
             ],
             [
              0.1111111111111111,
              "#46039f"
             ],
             [
              0.2222222222222222,
              "#7201a8"
             ],
             [
              0.3333333333333333,
              "#9c179e"
             ],
             [
              0.4444444444444444,
              "#bd3786"
             ],
             [
              0.5555555555555556,
              "#d8576b"
             ],
             [
              0.6666666666666666,
              "#ed7953"
             ],
             [
              0.7777777777777778,
              "#fb9f3a"
             ],
             [
              0.8888888888888888,
              "#fdca26"
             ],
             [
              1,
              "#f0f921"
             ]
            ],
            "type": "heatmapgl"
           }
          ],
          "histogram": [
           {
            "marker": {
             "pattern": {
              "fillmode": "overlay",
              "size": 10,
              "solidity": 0.2
             }
            },
            "type": "histogram"
           }
          ],
          "histogram2d": [
           {
            "colorbar": {
             "outlinewidth": 0,
             "ticks": ""
            },
            "colorscale": [
             [
              0,
              "#0d0887"
             ],
             [
              0.1111111111111111,
              "#46039f"
             ],
             [
              0.2222222222222222,
              "#7201a8"
             ],
             [
              0.3333333333333333,
              "#9c179e"
             ],
             [
              0.4444444444444444,
              "#bd3786"
             ],
             [
              0.5555555555555556,
              "#d8576b"
             ],
             [
              0.6666666666666666,
              "#ed7953"
             ],
             [
              0.7777777777777778,
              "#fb9f3a"
             ],
             [
              0.8888888888888888,
              "#fdca26"
             ],
             [
              1,
              "#f0f921"
             ]
            ],
            "type": "histogram2d"
           }
          ],
          "histogram2dcontour": [
           {
            "colorbar": {
             "outlinewidth": 0,
             "ticks": ""
            },
            "colorscale": [
             [
              0,
              "#0d0887"
             ],
             [
              0.1111111111111111,
              "#46039f"
             ],
             [
              0.2222222222222222,
              "#7201a8"
             ],
             [
              0.3333333333333333,
              "#9c179e"
             ],
             [
              0.4444444444444444,
              "#bd3786"
             ],
             [
              0.5555555555555556,
              "#d8576b"
             ],
             [
              0.6666666666666666,
              "#ed7953"
             ],
             [
              0.7777777777777778,
              "#fb9f3a"
             ],
             [
              0.8888888888888888,
              "#fdca26"
             ],
             [
              1,
              "#f0f921"
             ]
            ],
            "type": "histogram2dcontour"
           }
          ],
          "mesh3d": [
           {
            "colorbar": {
             "outlinewidth": 0,
             "ticks": ""
            },
            "type": "mesh3d"
           }
          ],
          "parcoords": [
           {
            "line": {
             "colorbar": {
              "outlinewidth": 0,
              "ticks": ""
             }
            },
            "type": "parcoords"
           }
          ],
          "pie": [
           {
            "automargin": true,
            "type": "pie"
           }
          ],
          "scatter": [
           {
            "marker": {
             "colorbar": {
              "outlinewidth": 0,
              "ticks": ""
             }
            },
            "type": "scatter"
           }
          ],
          "scatter3d": [
           {
            "line": {
             "colorbar": {
              "outlinewidth": 0,
              "ticks": ""
             }
            },
            "marker": {
             "colorbar": {
              "outlinewidth": 0,
              "ticks": ""
             }
            },
            "type": "scatter3d"
           }
          ],
          "scattercarpet": [
           {
            "marker": {
             "colorbar": {
              "outlinewidth": 0,
              "ticks": ""
             }
            },
            "type": "scattercarpet"
           }
          ],
          "scattergeo": [
           {
            "marker": {
             "colorbar": {
              "outlinewidth": 0,
              "ticks": ""
             }
            },
            "type": "scattergeo"
           }
          ],
          "scattergl": [
           {
            "marker": {
             "colorbar": {
              "outlinewidth": 0,
              "ticks": ""
             }
            },
            "type": "scattergl"
           }
          ],
          "scattermapbox": [
           {
            "marker": {
             "colorbar": {
              "outlinewidth": 0,
              "ticks": ""
             }
            },
            "type": "scattermapbox"
           }
          ],
          "scatterpolar": [
           {
            "marker": {
             "colorbar": {
              "outlinewidth": 0,
              "ticks": ""
             }
            },
            "type": "scatterpolar"
           }
          ],
          "scatterpolargl": [
           {
            "marker": {
             "colorbar": {
              "outlinewidth": 0,
              "ticks": ""
             }
            },
            "type": "scatterpolargl"
           }
          ],
          "scatterternary": [
           {
            "marker": {
             "colorbar": {
              "outlinewidth": 0,
              "ticks": ""
             }
            },
            "type": "scatterternary"
           }
          ],
          "surface": [
           {
            "colorbar": {
             "outlinewidth": 0,
             "ticks": ""
            },
            "colorscale": [
             [
              0,
              "#0d0887"
             ],
             [
              0.1111111111111111,
              "#46039f"
             ],
             [
              0.2222222222222222,
              "#7201a8"
             ],
             [
              0.3333333333333333,
              "#9c179e"
             ],
             [
              0.4444444444444444,
              "#bd3786"
             ],
             [
              0.5555555555555556,
              "#d8576b"
             ],
             [
              0.6666666666666666,
              "#ed7953"
             ],
             [
              0.7777777777777778,
              "#fb9f3a"
             ],
             [
              0.8888888888888888,
              "#fdca26"
             ],
             [
              1,
              "#f0f921"
             ]
            ],
            "type": "surface"
           }
          ],
          "table": [
           {
            "cells": {
             "fill": {
              "color": "#EBF0F8"
             },
             "line": {
              "color": "white"
             }
            },
            "header": {
             "fill": {
              "color": "#C8D4E3"
             },
             "line": {
              "color": "white"
             }
            },
            "type": "table"
           }
          ]
         },
         "layout": {
          "annotationdefaults": {
           "arrowcolor": "#2a3f5f",
           "arrowhead": 0,
           "arrowwidth": 1
          },
          "autotypenumbers": "strict",
          "coloraxis": {
           "colorbar": {
            "outlinewidth": 0,
            "ticks": ""
           }
          },
          "colorscale": {
           "diverging": [
            [
             0,
             "#8e0152"
            ],
            [
             0.1,
             "#c51b7d"
            ],
            [
             0.2,
             "#de77ae"
            ],
            [
             0.3,
             "#f1b6da"
            ],
            [
             0.4,
             "#fde0ef"
            ],
            [
             0.5,
             "#f7f7f7"
            ],
            [
             0.6,
             "#e6f5d0"
            ],
            [
             0.7,
             "#b8e186"
            ],
            [
             0.8,
             "#7fbc41"
            ],
            [
             0.9,
             "#4d9221"
            ],
            [
             1,
             "#276419"
            ]
           ],
           "sequential": [
            [
             0,
             "#0d0887"
            ],
            [
             0.1111111111111111,
             "#46039f"
            ],
            [
             0.2222222222222222,
             "#7201a8"
            ],
            [
             0.3333333333333333,
             "#9c179e"
            ],
            [
             0.4444444444444444,
             "#bd3786"
            ],
            [
             0.5555555555555556,
             "#d8576b"
            ],
            [
             0.6666666666666666,
             "#ed7953"
            ],
            [
             0.7777777777777778,
             "#fb9f3a"
            ],
            [
             0.8888888888888888,
             "#fdca26"
            ],
            [
             1,
             "#f0f921"
            ]
           ],
           "sequentialminus": [
            [
             0,
             "#0d0887"
            ],
            [
             0.1111111111111111,
             "#46039f"
            ],
            [
             0.2222222222222222,
             "#7201a8"
            ],
            [
             0.3333333333333333,
             "#9c179e"
            ],
            [
             0.4444444444444444,
             "#bd3786"
            ],
            [
             0.5555555555555556,
             "#d8576b"
            ],
            [
             0.6666666666666666,
             "#ed7953"
            ],
            [
             0.7777777777777778,
             "#fb9f3a"
            ],
            [
             0.8888888888888888,
             "#fdca26"
            ],
            [
             1,
             "#f0f921"
            ]
           ]
          },
          "colorway": [
           "#636efa",
           "#EF553B",
           "#00cc96",
           "#ab63fa",
           "#FFA15A",
           "#19d3f3",
           "#FF6692",
           "#B6E880",
           "#FF97FF",
           "#FECB52"
          ],
          "font": {
           "color": "#2a3f5f"
          },
          "geo": {
           "bgcolor": "white",
           "lakecolor": "white",
           "landcolor": "#E5ECF6",
           "showlakes": true,
           "showland": true,
           "subunitcolor": "white"
          },
          "hoverlabel": {
           "align": "left"
          },
          "hovermode": "closest",
          "mapbox": {
           "style": "light"
          },
          "paper_bgcolor": "white",
          "plot_bgcolor": "#E5ECF6",
          "polar": {
           "angularaxis": {
            "gridcolor": "white",
            "linecolor": "white",
            "ticks": ""
           },
           "bgcolor": "#E5ECF6",
           "radialaxis": {
            "gridcolor": "white",
            "linecolor": "white",
            "ticks": ""
           }
          },
          "scene": {
           "xaxis": {
            "backgroundcolor": "#E5ECF6",
            "gridcolor": "white",
            "gridwidth": 2,
            "linecolor": "white",
            "showbackground": true,
            "ticks": "",
            "zerolinecolor": "white"
           },
           "yaxis": {
            "backgroundcolor": "#E5ECF6",
            "gridcolor": "white",
            "gridwidth": 2,
            "linecolor": "white",
            "showbackground": true,
            "ticks": "",
            "zerolinecolor": "white"
           },
           "zaxis": {
            "backgroundcolor": "#E5ECF6",
            "gridcolor": "white",
            "gridwidth": 2,
            "linecolor": "white",
            "showbackground": true,
            "ticks": "",
            "zerolinecolor": "white"
           }
          },
          "shapedefaults": {
           "line": {
            "color": "#2a3f5f"
           }
          },
          "ternary": {
           "aaxis": {
            "gridcolor": "white",
            "linecolor": "white",
            "ticks": ""
           },
           "baxis": {
            "gridcolor": "white",
            "linecolor": "white",
            "ticks": ""
           },
           "bgcolor": "#E5ECF6",
           "caxis": {
            "gridcolor": "white",
            "linecolor": "white",
            "ticks": ""
           }
          },
          "title": {
           "x": 0.05
          },
          "xaxis": {
           "automargin": true,
           "gridcolor": "white",
           "linecolor": "white",
           "ticks": "",
           "title": {
            "standoff": 15
           },
           "zerolinecolor": "white",
           "zerolinewidth": 2
          },
          "yaxis": {
           "automargin": true,
           "gridcolor": "white",
           "linecolor": "white",
           "ticks": "",
           "title": {
            "standoff": 15
           },
           "zerolinecolor": "white",
           "zerolinewidth": 2
          }
         }
        },
        "title": {
         "text": "Compare Death rate for <b>All Risk Factor</b> vs <b>Air Pollution</b> over the years 1990 to 2019<br>China"
        },
        "xaxis": {
         "anchor": "y",
         "domain": [
          0,
          1
         ],
         "matches": "x4",
         "showticklabels": false
        },
        "xaxis2": {
         "anchor": "y2",
         "domain": [
          0,
          1
         ],
         "matches": "x4",
         "showticklabels": false
        },
        "xaxis3": {
         "anchor": "y3",
         "domain": [
          0,
          1
         ],
         "matches": "x4",
         "showticklabels": false
        },
        "xaxis4": {
         "anchor": "y4",
         "domain": [
          0,
          1
         ]
        },
        "yaxis": {
         "anchor": "x",
         "domain": [
          0.80625,
          1
         ]
        },
        "yaxis2": {
         "anchor": "x2",
         "domain": [
          0.5375,
          0.73125
         ]
        },
        "yaxis3": {
         "anchor": "x3",
         "domain": [
          0.26875,
          0.4625
         ]
        },
        "yaxis4": {
         "anchor": "x4",
         "domain": [
          0,
          0.19375
         ]
        }
       }
      }
     },
     "metadata": {},
     "output_type": "display_data"
    }
   ],
   "source": [
    "china_df = cause_df[cause_df.location_clean==\"CHN\"]\n",
    "co2 = co2_df[co2_df.iso_code==\"CHN\"]\n",
    "draw_plot(china_df,co2, where=\"China\")"
   ]
  },
  {
   "cell_type": "code",
   "execution_count": 15,
   "metadata": {},
   "outputs": [
    {
     "data": {
      "application/vnd.plotly.v1+json": {
       "config": {
        "plotlyServerURL": "https://plot.ly"
       },
       "data": [
        {
         "mode": "lines+markers",
         "name": "All Risk Factor",
         "type": "scatter",
         "x": [
          1990,
          1991,
          1992,
          1993,
          1994,
          1995,
          1996,
          1997,
          1998,
          1999,
          2000,
          2001,
          2002,
          2003,
          2004,
          2005,
          2006,
          2007,
          2008,
          2009,
          2010,
          2011,
          2012,
          2013,
          2014,
          2015,
          2016,
          2017,
          2018,
          2019
         ],
         "xaxis": "x",
         "y": [
          152.98276728497711,
          154.9557924197948,
          159.27018041486156,
          161.49066265742064,
          163.45180176288602,
          165.62733801338806,
          167.9444538322158,
          170.61784348416606,
          172.93237610387033,
          175.8861982413958,
          179.1802043720816,
          182.5173937222953,
          185.53393663700507,
          187.17062847848152,
          187.36936721490443,
          187.856256593495,
          188.2734578260139,
          187.50135043598627,
          186.73601462443074,
          188.1064958038889,
          189.13487304874596,
          189.72162820154102,
          191.2913462326299,
          195.42658516417413,
          200.0446653840288,
          206.70202562955546,
          210.99825717771785,
          215.18897660969904,
          217.25593155764918,
          221.77231352661954
         ],
         "yaxis": "y"
        },
        {
         "mode": "lines+markers",
         "name": "Air Pollution",
         "type": "scatter",
         "x": [
          1990,
          1991,
          1992,
          1993,
          1994,
          1995,
          1996,
          1997,
          1998,
          1999,
          2000,
          2001,
          2002,
          2003,
          2004,
          2005,
          2006,
          2007,
          2008,
          2009,
          2010,
          2011,
          2012,
          2013,
          2014,
          2015,
          2016,
          2017,
          2018,
          2019
         ],
         "xaxis": "x",
         "y": [
          37.092808079360445,
          37.420650766827634,
          38.29757068665101,
          38.7426748088483,
          39.123306852388964,
          39.54891195150474,
          40.01565980703153,
          40.63101454879146,
          41.1730703022116,
          41.820249298450236,
          42.45909816235741,
          42.91412652766087,
          42.81113266153021,
          42.41861906414544,
          41.70725292362783,
          41.273450417397136,
          41.11258551884817,
          40.92193501692156,
          40.80940144427043,
          40.94997000013806,
          40.81243975474386,
          40.3722085564971,
          40.4805897922578,
          41.270763181876774,
          42.08852608857386,
          43.29497180942939,
          43.573158857541394,
          43.687678912251336,
          43.65446507850464,
          44.16359812307523
         ],
         "yaxis": "y"
        },
        {
         "mode": "lines+markers",
         "name": "All Risk Factor",
         "type": "scatter",
         "x": [
          1990,
          1991,
          1992,
          1993,
          1994,
          1995,
          1996,
          1997,
          1998,
          1999,
          2000,
          2001,
          2002,
          2003,
          2004,
          2005,
          2006,
          2007,
          2008,
          2009,
          2010,
          2011,
          2012,
          2013,
          2014,
          2015,
          2016,
          2017,
          2018,
          2019
         ],
         "xaxis": "x2",
         "y": [
          7.456818922652135,
          7.545561396571056,
          7.769370413917857,
          7.81729314755174,
          7.883394139502093,
          7.962114123808232,
          7.994438931804375,
          8.044726522210603,
          8.084945966678013,
          8.188048813177321,
          8.311478313060622,
          8.423723635513936,
          8.695203575887989,
          9.013012534040753,
          9.328852092531552,
          9.569267377237962,
          9.8141626463314,
          10.068345226203771,
          10.178414731426628,
          10.40192499259238,
          10.569421097483485,
          10.82841453237741,
          11.04159339467023,
          11.387901793729393,
          11.688995623471618,
          12.004907540384425,
          12.155767133841133,
          12.288560415481124,
          12.3141173810859,
          12.521141458653512
         ],
         "yaxis": "y2"
        },
        {
         "mode": "lines+markers",
         "name": "Air Pollution",
         "type": "scatter",
         "x": [
          1990,
          1991,
          1992,
          1993,
          1994,
          1995,
          1996,
          1997,
          1998,
          1999,
          2000,
          2001,
          2002,
          2003,
          2004,
          2005,
          2006,
          2007,
          2008,
          2009,
          2010,
          2011,
          2012,
          2013,
          2014,
          2015,
          2016,
          2017,
          2018,
          2019
         ],
         "xaxis": "x2",
         "y": [
          2.4856447694455324,
          2.4921034908854782,
          2.530260506602223,
          2.5516394759147225,
          2.5792367545749544,
          2.6293578009914227,
          2.6525121893489185,
          2.675923106736413,
          2.713831913320625,
          2.776298308841563,
          2.863249638106966,
          2.91570287727351,
          2.988933304297225,
          3.1076001206323567,
          3.2292906980916345,
          3.3618413421594866,
          3.522419355232297,
          3.765884491862162,
          3.933972071826029,
          4.000293522074196,
          4.071736153049076,
          4.200527213910869,
          4.397712755250038,
          4.622867851360163,
          4.773958596810879,
          4.972673204194457,
          5.089500249297446,
          5.106760706479076,
          5.062180125044936,
          5.12977984536497
         ],
         "yaxis": "y2"
        },
        {
         "mode": "lines+markers",
         "name": "All Risk Factor",
         "type": "scatter",
         "x": [
          1990,
          1991,
          1992,
          1993,
          1994,
          1995,
          1996,
          1997,
          1998,
          1999,
          2000,
          2001,
          2002,
          2003,
          2004,
          2005,
          2006,
          2007,
          2008,
          2009,
          2010,
          2011,
          2012,
          2013,
          2014,
          2015,
          2016,
          2017,
          2018,
          2019
         ],
         "xaxis": "x3",
         "y": [
          133.31267112181862,
          135.04195083511246,
          138.83903831027698,
          140.84691132746914,
          142.6758103881076,
          144.65294536663973,
          146.7871924823766,
          149.31972957104745,
          151.51056782203602,
          154.29621283167464,
          157.15929959267788,
          159.93768438415427,
          162.36992062962156,
          163.3607645656837,
          162.81725340015322,
          162.46968997458615,
          162.039113678507,
          160.55679900461476,
          159.10810074982655,
          159.56419517275083,
          159.6735723786113,
          159.2441894119316,
          159.80211646865158,
          162.64049608612504,
          165.8765773094511,
          171.11802152982304,
          174.53571430447406,
          177.91591586298208,
          179.24740637899515,
          182.73546417392487
         ],
         "yaxis": "y3"
        },
        {
         "mode": "lines+markers",
         "name": "Air Pollution",
         "type": "scatter",
         "x": [
          1990,
          1991,
          1992,
          1993,
          1994,
          1995,
          1996,
          1997,
          1998,
          1999,
          2000,
          2001,
          2002,
          2003,
          2004,
          2005,
          2006,
          2007,
          2008,
          2009,
          2010,
          2011,
          2012,
          2013,
          2014,
          2015,
          2016,
          2017,
          2018,
          2019
         ],
         "xaxis": "x3",
         "y": [
          33.47359296885441,
          33.77812645769157,
          34.586562456448135,
          34.986721886237106,
          35.33085381346624,
          35.690847784269344,
          36.11324110932324,
          36.69203393741644,
          37.18721943608054,
          37.76997014137121,
          38.28988910646889,
          38.65421762913046,
          38.46743666713631,
          37.94345765389885,
          37.08096810974367,
          36.467107462255726,
          36.09014212986447,
          35.608486225455295,
          35.26137821388933,
          35.25213812279687,
          34.96279567115304,
          34.32643383094338,
          34.165211444158864,
          34.64421204353616,
          35.216545195989205,
          36.13069760088096,
          36.25674276853979,
          36.330922240613845,
          36.30189480658291,
          36.68956533725789
         ],
         "yaxis": "y3"
        },
        {
         "mode": "lines",
         "name": "co2 per capita",
         "type": "scatter",
         "x": [
          1990,
          1991,
          1992,
          1993,
          1994,
          1995,
          1996,
          1997,
          1998,
          1999,
          2000,
          2001,
          2002,
          2003,
          2004,
          2005,
          2006,
          2007,
          2008,
          2009,
          2010,
          2011,
          2012,
          2013,
          2014,
          2015,
          2016,
          2017,
          2018,
          2019
         ],
         "xaxis": "x4",
         "y": [
          3.725,
          3.918,
          3.861,
          3.945,
          4.354,
          4.42,
          4.395,
          4.23,
          4.776,
          5.856,
          5.625,
          5.941,
          5.91,
          6.072,
          6.41,
          6.644,
          7.138,
          7.186,
          7.413,
          7.666,
          7.724,
          7.736,
          7.979,
          7.978,
          8.286,
          8.009,
          8.011,
          8.829,
          8.645,
          8.845
         ],
         "yaxis": "y4"
        }
       ],
       "layout": {
        "annotations": [
         {
          "font": {
           "size": 16
          },
          "showarrow": false,
          "text": "year",
          "x": 0.5,
          "xanchor": "center",
          "xref": "paper",
          "y": 0,
          "yanchor": "top",
          "yref": "paper",
          "yshift": -30
         },
         {
          "font": {
           "size": 16
          },
          "showarrow": false,
          "text": "Rate (per 100,000)",
          "textangle": -90,
          "x": 0,
          "xanchor": "right",
          "xref": "paper",
          "xshift": -40,
          "y": 0.5,
          "yanchor": "middle",
          "yref": "paper"
         }
        ],
        "hovermode": "x",
        "legend": {
         "title": {
          "text": "Risk Factor"
         }
        },
        "template": {
         "data": {
          "bar": [
           {
            "error_x": {
             "color": "#2a3f5f"
            },
            "error_y": {
             "color": "#2a3f5f"
            },
            "marker": {
             "line": {
              "color": "#E5ECF6",
              "width": 0.5
             },
             "pattern": {
              "fillmode": "overlay",
              "size": 10,
              "solidity": 0.2
             }
            },
            "type": "bar"
           }
          ],
          "barpolar": [
           {
            "marker": {
             "line": {
              "color": "#E5ECF6",
              "width": 0.5
             },
             "pattern": {
              "fillmode": "overlay",
              "size": 10,
              "solidity": 0.2
             }
            },
            "type": "barpolar"
           }
          ],
          "carpet": [
           {
            "aaxis": {
             "endlinecolor": "#2a3f5f",
             "gridcolor": "white",
             "linecolor": "white",
             "minorgridcolor": "white",
             "startlinecolor": "#2a3f5f"
            },
            "baxis": {
             "endlinecolor": "#2a3f5f",
             "gridcolor": "white",
             "linecolor": "white",
             "minorgridcolor": "white",
             "startlinecolor": "#2a3f5f"
            },
            "type": "carpet"
           }
          ],
          "choropleth": [
           {
            "colorbar": {
             "outlinewidth": 0,
             "ticks": ""
            },
            "type": "choropleth"
           }
          ],
          "contour": [
           {
            "colorbar": {
             "outlinewidth": 0,
             "ticks": ""
            },
            "colorscale": [
             [
              0,
              "#0d0887"
             ],
             [
              0.1111111111111111,
              "#46039f"
             ],
             [
              0.2222222222222222,
              "#7201a8"
             ],
             [
              0.3333333333333333,
              "#9c179e"
             ],
             [
              0.4444444444444444,
              "#bd3786"
             ],
             [
              0.5555555555555556,
              "#d8576b"
             ],
             [
              0.6666666666666666,
              "#ed7953"
             ],
             [
              0.7777777777777778,
              "#fb9f3a"
             ],
             [
              0.8888888888888888,
              "#fdca26"
             ],
             [
              1,
              "#f0f921"
             ]
            ],
            "type": "contour"
           }
          ],
          "contourcarpet": [
           {
            "colorbar": {
             "outlinewidth": 0,
             "ticks": ""
            },
            "type": "contourcarpet"
           }
          ],
          "heatmap": [
           {
            "colorbar": {
             "outlinewidth": 0,
             "ticks": ""
            },
            "colorscale": [
             [
              0,
              "#0d0887"
             ],
             [
              0.1111111111111111,
              "#46039f"
             ],
             [
              0.2222222222222222,
              "#7201a8"
             ],
             [
              0.3333333333333333,
              "#9c179e"
             ],
             [
              0.4444444444444444,
              "#bd3786"
             ],
             [
              0.5555555555555556,
              "#d8576b"
             ],
             [
              0.6666666666666666,
              "#ed7953"
             ],
             [
              0.7777777777777778,
              "#fb9f3a"
             ],
             [
              0.8888888888888888,
              "#fdca26"
             ],
             [
              1,
              "#f0f921"
             ]
            ],
            "type": "heatmap"
           }
          ],
          "heatmapgl": [
           {
            "colorbar": {
             "outlinewidth": 0,
             "ticks": ""
            },
            "colorscale": [
             [
              0,
              "#0d0887"
             ],
             [
              0.1111111111111111,
              "#46039f"
             ],
             [
              0.2222222222222222,
              "#7201a8"
             ],
             [
              0.3333333333333333,
              "#9c179e"
             ],
             [
              0.4444444444444444,
              "#bd3786"
             ],
             [
              0.5555555555555556,
              "#d8576b"
             ],
             [
              0.6666666666666666,
              "#ed7953"
             ],
             [
              0.7777777777777778,
              "#fb9f3a"
             ],
             [
              0.8888888888888888,
              "#fdca26"
             ],
             [
              1,
              "#f0f921"
             ]
            ],
            "type": "heatmapgl"
           }
          ],
          "histogram": [
           {
            "marker": {
             "pattern": {
              "fillmode": "overlay",
              "size": 10,
              "solidity": 0.2
             }
            },
            "type": "histogram"
           }
          ],
          "histogram2d": [
           {
            "colorbar": {
             "outlinewidth": 0,
             "ticks": ""
            },
            "colorscale": [
             [
              0,
              "#0d0887"
             ],
             [
              0.1111111111111111,
              "#46039f"
             ],
             [
              0.2222222222222222,
              "#7201a8"
             ],
             [
              0.3333333333333333,
              "#9c179e"
             ],
             [
              0.4444444444444444,
              "#bd3786"
             ],
             [
              0.5555555555555556,
              "#d8576b"
             ],
             [
              0.6666666666666666,
              "#ed7953"
             ],
             [
              0.7777777777777778,
              "#fb9f3a"
             ],
             [
              0.8888888888888888,
              "#fdca26"
             ],
             [
              1,
              "#f0f921"
             ]
            ],
            "type": "histogram2d"
           }
          ],
          "histogram2dcontour": [
           {
            "colorbar": {
             "outlinewidth": 0,
             "ticks": ""
            },
            "colorscale": [
             [
              0,
              "#0d0887"
             ],
             [
              0.1111111111111111,
              "#46039f"
             ],
             [
              0.2222222222222222,
              "#7201a8"
             ],
             [
              0.3333333333333333,
              "#9c179e"
             ],
             [
              0.4444444444444444,
              "#bd3786"
             ],
             [
              0.5555555555555556,
              "#d8576b"
             ],
             [
              0.6666666666666666,
              "#ed7953"
             ],
             [
              0.7777777777777778,
              "#fb9f3a"
             ],
             [
              0.8888888888888888,
              "#fdca26"
             ],
             [
              1,
              "#f0f921"
             ]
            ],
            "type": "histogram2dcontour"
           }
          ],
          "mesh3d": [
           {
            "colorbar": {
             "outlinewidth": 0,
             "ticks": ""
            },
            "type": "mesh3d"
           }
          ],
          "parcoords": [
           {
            "line": {
             "colorbar": {
              "outlinewidth": 0,
              "ticks": ""
             }
            },
            "type": "parcoords"
           }
          ],
          "pie": [
           {
            "automargin": true,
            "type": "pie"
           }
          ],
          "scatter": [
           {
            "marker": {
             "colorbar": {
              "outlinewidth": 0,
              "ticks": ""
             }
            },
            "type": "scatter"
           }
          ],
          "scatter3d": [
           {
            "line": {
             "colorbar": {
              "outlinewidth": 0,
              "ticks": ""
             }
            },
            "marker": {
             "colorbar": {
              "outlinewidth": 0,
              "ticks": ""
             }
            },
            "type": "scatter3d"
           }
          ],
          "scattercarpet": [
           {
            "marker": {
             "colorbar": {
              "outlinewidth": 0,
              "ticks": ""
             }
            },
            "type": "scattercarpet"
           }
          ],
          "scattergeo": [
           {
            "marker": {
             "colorbar": {
              "outlinewidth": 0,
              "ticks": ""
             }
            },
            "type": "scattergeo"
           }
          ],
          "scattergl": [
           {
            "marker": {
             "colorbar": {
              "outlinewidth": 0,
              "ticks": ""
             }
            },
            "type": "scattergl"
           }
          ],
          "scattermapbox": [
           {
            "marker": {
             "colorbar": {
              "outlinewidth": 0,
              "ticks": ""
             }
            },
            "type": "scattermapbox"
           }
          ],
          "scatterpolar": [
           {
            "marker": {
             "colorbar": {
              "outlinewidth": 0,
              "ticks": ""
             }
            },
            "type": "scatterpolar"
           }
          ],
          "scatterpolargl": [
           {
            "marker": {
             "colorbar": {
              "outlinewidth": 0,
              "ticks": ""
             }
            },
            "type": "scatterpolargl"
           }
          ],
          "scatterternary": [
           {
            "marker": {
             "colorbar": {
              "outlinewidth": 0,
              "ticks": ""
             }
            },
            "type": "scatterternary"
           }
          ],
          "surface": [
           {
            "colorbar": {
             "outlinewidth": 0,
             "ticks": ""
            },
            "colorscale": [
             [
              0,
              "#0d0887"
             ],
             [
              0.1111111111111111,
              "#46039f"
             ],
             [
              0.2222222222222222,
              "#7201a8"
             ],
             [
              0.3333333333333333,
              "#9c179e"
             ],
             [
              0.4444444444444444,
              "#bd3786"
             ],
             [
              0.5555555555555556,
              "#d8576b"
             ],
             [
              0.6666666666666666,
              "#ed7953"
             ],
             [
              0.7777777777777778,
              "#fb9f3a"
             ],
             [
              0.8888888888888888,
              "#fdca26"
             ],
             [
              1,
              "#f0f921"
             ]
            ],
            "type": "surface"
           }
          ],
          "table": [
           {
            "cells": {
             "fill": {
              "color": "#EBF0F8"
             },
             "line": {
              "color": "white"
             }
            },
            "header": {
             "fill": {
              "color": "#C8D4E3"
             },
             "line": {
              "color": "white"
             }
            },
            "type": "table"
           }
          ]
         },
         "layout": {
          "annotationdefaults": {
           "arrowcolor": "#2a3f5f",
           "arrowhead": 0,
           "arrowwidth": 1
          },
          "autotypenumbers": "strict",
          "coloraxis": {
           "colorbar": {
            "outlinewidth": 0,
            "ticks": ""
           }
          },
          "colorscale": {
           "diverging": [
            [
             0,
             "#8e0152"
            ],
            [
             0.1,
             "#c51b7d"
            ],
            [
             0.2,
             "#de77ae"
            ],
            [
             0.3,
             "#f1b6da"
            ],
            [
             0.4,
             "#fde0ef"
            ],
            [
             0.5,
             "#f7f7f7"
            ],
            [
             0.6,
             "#e6f5d0"
            ],
            [
             0.7,
             "#b8e186"
            ],
            [
             0.8,
             "#7fbc41"
            ],
            [
             0.9,
             "#4d9221"
            ],
            [
             1,
             "#276419"
            ]
           ],
           "sequential": [
            [
             0,
             "#0d0887"
            ],
            [
             0.1111111111111111,
             "#46039f"
            ],
            [
             0.2222222222222222,
             "#7201a8"
            ],
            [
             0.3333333333333333,
             "#9c179e"
            ],
            [
             0.4444444444444444,
             "#bd3786"
            ],
            [
             0.5555555555555556,
             "#d8576b"
            ],
            [
             0.6666666666666666,
             "#ed7953"
            ],
            [
             0.7777777777777778,
             "#fb9f3a"
            ],
            [
             0.8888888888888888,
             "#fdca26"
            ],
            [
             1,
             "#f0f921"
            ]
           ],
           "sequentialminus": [
            [
             0,
             "#0d0887"
            ],
            [
             0.1111111111111111,
             "#46039f"
            ],
            [
             0.2222222222222222,
             "#7201a8"
            ],
            [
             0.3333333333333333,
             "#9c179e"
            ],
            [
             0.4444444444444444,
             "#bd3786"
            ],
            [
             0.5555555555555556,
             "#d8576b"
            ],
            [
             0.6666666666666666,
             "#ed7953"
            ],
            [
             0.7777777777777778,
             "#fb9f3a"
            ],
            [
             0.8888888888888888,
             "#fdca26"
            ],
            [
             1,
             "#f0f921"
            ]
           ]
          },
          "colorway": [
           "#636efa",
           "#EF553B",
           "#00cc96",
           "#ab63fa",
           "#FFA15A",
           "#19d3f3",
           "#FF6692",
           "#B6E880",
           "#FF97FF",
           "#FECB52"
          ],
          "font": {
           "color": "#2a3f5f"
          },
          "geo": {
           "bgcolor": "white",
           "lakecolor": "white",
           "landcolor": "#E5ECF6",
           "showlakes": true,
           "showland": true,
           "subunitcolor": "white"
          },
          "hoverlabel": {
           "align": "left"
          },
          "hovermode": "closest",
          "mapbox": {
           "style": "light"
          },
          "paper_bgcolor": "white",
          "plot_bgcolor": "#E5ECF6",
          "polar": {
           "angularaxis": {
            "gridcolor": "white",
            "linecolor": "white",
            "ticks": ""
           },
           "bgcolor": "#E5ECF6",
           "radialaxis": {
            "gridcolor": "white",
            "linecolor": "white",
            "ticks": ""
           }
          },
          "scene": {
           "xaxis": {
            "backgroundcolor": "#E5ECF6",
            "gridcolor": "white",
            "gridwidth": 2,
            "linecolor": "white",
            "showbackground": true,
            "ticks": "",
            "zerolinecolor": "white"
           },
           "yaxis": {
            "backgroundcolor": "#E5ECF6",
            "gridcolor": "white",
            "gridwidth": 2,
            "linecolor": "white",
            "showbackground": true,
            "ticks": "",
            "zerolinecolor": "white"
           },
           "zaxis": {
            "backgroundcolor": "#E5ECF6",
            "gridcolor": "white",
            "gridwidth": 2,
            "linecolor": "white",
            "showbackground": true,
            "ticks": "",
            "zerolinecolor": "white"
           }
          },
          "shapedefaults": {
           "line": {
            "color": "#2a3f5f"
           }
          },
          "ternary": {
           "aaxis": {
            "gridcolor": "white",
            "linecolor": "white",
            "ticks": ""
           },
           "baxis": {
            "gridcolor": "white",
            "linecolor": "white",
            "ticks": ""
           },
           "bgcolor": "#E5ECF6",
           "caxis": {
            "gridcolor": "white",
            "linecolor": "white",
            "ticks": ""
           }
          },
          "title": {
           "x": 0.05
          },
          "xaxis": {
           "automargin": true,
           "gridcolor": "white",
           "linecolor": "white",
           "ticks": "",
           "title": {
            "standoff": 15
           },
           "zerolinecolor": "white",
           "zerolinewidth": 2
          },
          "yaxis": {
           "automargin": true,
           "gridcolor": "white",
           "linecolor": "white",
           "ticks": "",
           "title": {
            "standoff": 15
           },
           "zerolinecolor": "white",
           "zerolinewidth": 2
          }
         }
        },
        "title": {
         "text": "Compare Death rate for <b>All Risk Factor</b> vs <b>Air Pollution</b> over the years 1990 to 2019<br>Iran"
        },
        "xaxis": {
         "anchor": "y",
         "domain": [
          0,
          1
         ],
         "matches": "x4",
         "showticklabels": false
        },
        "xaxis2": {
         "anchor": "y2",
         "domain": [
          0,
          1
         ],
         "matches": "x4",
         "showticklabels": false
        },
        "xaxis3": {
         "anchor": "y3",
         "domain": [
          0,
          1
         ],
         "matches": "x4",
         "showticklabels": false
        },
        "xaxis4": {
         "anchor": "y4",
         "domain": [
          0,
          1
         ]
        },
        "yaxis": {
         "anchor": "x",
         "domain": [
          0.80625,
          1
         ]
        },
        "yaxis2": {
         "anchor": "x2",
         "domain": [
          0.5375,
          0.73125
         ]
        },
        "yaxis3": {
         "anchor": "x3",
         "domain": [
          0.26875,
          0.4625
         ]
        },
        "yaxis4": {
         "anchor": "x4",
         "domain": [
          0,
          0.19375
         ]
        }
       }
      }
     },
     "metadata": {},
     "output_type": "display_data"
    }
   ],
   "source": [
    "\n",
    "iran_df = cause_df[cause_df.location_clean==\"IRN\"]\n",
    "co2 = co2_df[co2_df.iso_code==\"IRN\"]\n",
    "draw_plot(iran_df, co2, \"Iran\")"
   ]
  },
  {
   "cell_type": "code",
   "execution_count": 16,
   "metadata": {},
   "outputs": [
    {
     "data": {
      "application/vnd.plotly.v1+json": {
       "config": {
        "plotlyServerURL": "https://plot.ly"
       },
       "data": [
        {
         "mode": "lines+markers",
         "name": "All Risk Factor",
         "type": "scatter",
         "x": [
          1990,
          1991,
          1992,
          1993,
          1994,
          1995,
          1996,
          1997,
          1998,
          1999,
          2000,
          2001,
          2002,
          2003,
          2004,
          2005,
          2006,
          2007,
          2008,
          2009,
          2010,
          2011,
          2012,
          2013,
          2014,
          2015,
          2016,
          2017,
          2018,
          2019
         ],
         "xaxis": "x",
         "y": [
          152.98276728497711,
          154.9557924197948,
          159.27018041486156,
          161.49066265742064,
          163.45180176288602,
          165.62733801338806,
          167.9444538322158,
          170.61784348416606,
          172.93237610387033,
          175.8861982413958,
          179.1802043720816,
          182.5173937222953,
          185.53393663700507,
          187.17062847848152,
          187.36936721490443,
          187.856256593495,
          188.2734578260139,
          187.50135043598627,
          186.73601462443074,
          188.1064958038889,
          189.13487304874596,
          189.72162820154102,
          191.2913462326299,
          195.42658516417413,
          200.0446653840288,
          206.70202562955546,
          210.99825717771785,
          215.18897660969904,
          217.25593155764918,
          221.77231352661954
         ],
         "yaxis": "y"
        },
        {
         "mode": "lines+markers",
         "name": "Air Pollution",
         "type": "scatter",
         "x": [
          1990,
          1991,
          1992,
          1993,
          1994,
          1995,
          1996,
          1997,
          1998,
          1999,
          2000,
          2001,
          2002,
          2003,
          2004,
          2005,
          2006,
          2007,
          2008,
          2009,
          2010,
          2011,
          2012,
          2013,
          2014,
          2015,
          2016,
          2017,
          2018,
          2019
         ],
         "xaxis": "x",
         "y": [
          37.092808079360445,
          37.420650766827634,
          38.29757068665101,
          38.7426748088483,
          39.123306852388964,
          39.54891195150474,
          40.01565980703153,
          40.63101454879146,
          41.1730703022116,
          41.820249298450236,
          42.45909816235741,
          42.91412652766087,
          42.81113266153021,
          42.41861906414544,
          41.70725292362783,
          41.273450417397136,
          41.11258551884817,
          40.92193501692156,
          40.80940144427043,
          40.94997000013806,
          40.81243975474386,
          40.3722085564971,
          40.4805897922578,
          41.270763181876774,
          42.08852608857386,
          43.29497180942939,
          43.573158857541394,
          43.687678912251336,
          43.65446507850464,
          44.16359812307523
         ],
         "yaxis": "y"
        },
        {
         "mode": "lines+markers",
         "name": "All Risk Factor",
         "type": "scatter",
         "x": [
          1990,
          1991,
          1992,
          1993,
          1994,
          1995,
          1996,
          1997,
          1998,
          1999,
          2000,
          2001,
          2002,
          2003,
          2004,
          2005,
          2006,
          2007,
          2008,
          2009,
          2010,
          2011,
          2012,
          2013,
          2014,
          2015,
          2016,
          2017,
          2018,
          2019
         ],
         "xaxis": "x2",
         "y": [
          7.456818922652135,
          7.545561396571056,
          7.769370413917857,
          7.81729314755174,
          7.883394139502093,
          7.962114123808232,
          7.994438931804375,
          8.044726522210603,
          8.084945966678013,
          8.188048813177321,
          8.311478313060622,
          8.423723635513936,
          8.695203575887989,
          9.013012534040753,
          9.328852092531552,
          9.569267377237962,
          9.8141626463314,
          10.068345226203771,
          10.178414731426628,
          10.40192499259238,
          10.569421097483485,
          10.82841453237741,
          11.04159339467023,
          11.387901793729393,
          11.688995623471618,
          12.004907540384425,
          12.155767133841133,
          12.288560415481124,
          12.3141173810859,
          12.521141458653512
         ],
         "yaxis": "y2"
        },
        {
         "mode": "lines+markers",
         "name": "Air Pollution",
         "type": "scatter",
         "x": [
          1990,
          1991,
          1992,
          1993,
          1994,
          1995,
          1996,
          1997,
          1998,
          1999,
          2000,
          2001,
          2002,
          2003,
          2004,
          2005,
          2006,
          2007,
          2008,
          2009,
          2010,
          2011,
          2012,
          2013,
          2014,
          2015,
          2016,
          2017,
          2018,
          2019
         ],
         "xaxis": "x2",
         "y": [
          2.4856447694455324,
          2.4921034908854782,
          2.530260506602223,
          2.5516394759147225,
          2.5792367545749544,
          2.6293578009914227,
          2.6525121893489185,
          2.675923106736413,
          2.713831913320625,
          2.776298308841563,
          2.863249638106966,
          2.91570287727351,
          2.988933304297225,
          3.1076001206323567,
          3.2292906980916345,
          3.3618413421594866,
          3.522419355232297,
          3.765884491862162,
          3.933972071826029,
          4.000293522074196,
          4.071736153049076,
          4.200527213910869,
          4.397712755250038,
          4.622867851360163,
          4.773958596810879,
          4.972673204194457,
          5.089500249297446,
          5.106760706479076,
          5.062180125044936,
          5.12977984536497
         ],
         "yaxis": "y2"
        },
        {
         "mode": "lines+markers",
         "name": "All Risk Factor",
         "type": "scatter",
         "x": [
          1990,
          1991,
          1992,
          1993,
          1994,
          1995,
          1996,
          1997,
          1998,
          1999,
          2000,
          2001,
          2002,
          2003,
          2004,
          2005,
          2006,
          2007,
          2008,
          2009,
          2010,
          2011,
          2012,
          2013,
          2014,
          2015,
          2016,
          2017,
          2018,
          2019
         ],
         "xaxis": "x3",
         "y": [
          133.31267112181862,
          135.04195083511246,
          138.83903831027698,
          140.84691132746914,
          142.6758103881076,
          144.65294536663973,
          146.7871924823766,
          149.31972957104745,
          151.51056782203602,
          154.29621283167464,
          157.15929959267788,
          159.93768438415427,
          162.36992062962156,
          163.3607645656837,
          162.81725340015322,
          162.46968997458615,
          162.039113678507,
          160.55679900461476,
          159.10810074982655,
          159.56419517275083,
          159.6735723786113,
          159.2441894119316,
          159.80211646865158,
          162.64049608612504,
          165.8765773094511,
          171.11802152982304,
          174.53571430447406,
          177.91591586298208,
          179.24740637899515,
          182.73546417392487
         ],
         "yaxis": "y3"
        },
        {
         "mode": "lines+markers",
         "name": "Air Pollution",
         "type": "scatter",
         "x": [
          1990,
          1991,
          1992,
          1993,
          1994,
          1995,
          1996,
          1997,
          1998,
          1999,
          2000,
          2001,
          2002,
          2003,
          2004,
          2005,
          2006,
          2007,
          2008,
          2009,
          2010,
          2011,
          2012,
          2013,
          2014,
          2015,
          2016,
          2017,
          2018,
          2019
         ],
         "xaxis": "x3",
         "y": [
          33.47359296885441,
          33.77812645769157,
          34.586562456448135,
          34.986721886237106,
          35.33085381346624,
          35.690847784269344,
          36.11324110932324,
          36.69203393741644,
          37.18721943608054,
          37.76997014137121,
          38.28988910646889,
          38.65421762913046,
          38.46743666713631,
          37.94345765389885,
          37.08096810974367,
          36.467107462255726,
          36.09014212986447,
          35.608486225455295,
          35.26137821388933,
          35.25213812279687,
          34.96279567115304,
          34.32643383094338,
          34.165211444158864,
          34.64421204353616,
          35.216545195989205,
          36.13069760088096,
          36.25674276853979,
          36.330922240613845,
          36.30189480658291,
          36.68956533725789
         ],
         "yaxis": "y3"
        },
        {
         "mode": "lines",
         "name": "co2 per capita",
         "type": "scatter",
         "x": [
          1990,
          1991,
          1992,
          1993,
          1994,
          1995,
          1996,
          1997,
          1998,
          1999,
          2000,
          2001,
          2002,
          2003,
          2004,
          2005,
          2006,
          2007,
          2008,
          2009,
          2010,
          2011,
          2012,
          2013,
          2014,
          2015,
          2016,
          2017,
          2018,
          2019
         ],
         "xaxis": "x4",
         "y": [
          0.662,
          0.691,
          0.722,
          0.731,
          0.758,
          0.791,
          0.841,
          0.859,
          0.861,
          0.917,
          0.926,
          0.923,
          0.936,
          0.953,
          0.996,
          1.033,
          1.081,
          1.148,
          1.218,
          1.324,
          1.359,
          1.424,
          1.551,
          1.59,
          1.687,
          1.732,
          1.799,
          1.818,
          1.922,
          1.922
         ],
         "yaxis": "y4"
        }
       ],
       "layout": {
        "annotations": [
         {
          "font": {
           "size": 16
          },
          "showarrow": false,
          "text": "year",
          "x": 0.5,
          "xanchor": "center",
          "xref": "paper",
          "y": 0,
          "yanchor": "top",
          "yref": "paper",
          "yshift": -30
         },
         {
          "font": {
           "size": 16
          },
          "showarrow": false,
          "text": "Rate (per 100,000)",
          "textangle": -90,
          "x": 0,
          "xanchor": "right",
          "xref": "paper",
          "xshift": -40,
          "y": 0.5,
          "yanchor": "middle",
          "yref": "paper"
         }
        ],
        "hovermode": "x",
        "legend": {
         "title": {
          "text": "Risk Factor"
         }
        },
        "template": {
         "data": {
          "bar": [
           {
            "error_x": {
             "color": "#2a3f5f"
            },
            "error_y": {
             "color": "#2a3f5f"
            },
            "marker": {
             "line": {
              "color": "#E5ECF6",
              "width": 0.5
             },
             "pattern": {
              "fillmode": "overlay",
              "size": 10,
              "solidity": 0.2
             }
            },
            "type": "bar"
           }
          ],
          "barpolar": [
           {
            "marker": {
             "line": {
              "color": "#E5ECF6",
              "width": 0.5
             },
             "pattern": {
              "fillmode": "overlay",
              "size": 10,
              "solidity": 0.2
             }
            },
            "type": "barpolar"
           }
          ],
          "carpet": [
           {
            "aaxis": {
             "endlinecolor": "#2a3f5f",
             "gridcolor": "white",
             "linecolor": "white",
             "minorgridcolor": "white",
             "startlinecolor": "#2a3f5f"
            },
            "baxis": {
             "endlinecolor": "#2a3f5f",
             "gridcolor": "white",
             "linecolor": "white",
             "minorgridcolor": "white",
             "startlinecolor": "#2a3f5f"
            },
            "type": "carpet"
           }
          ],
          "choropleth": [
           {
            "colorbar": {
             "outlinewidth": 0,
             "ticks": ""
            },
            "type": "choropleth"
           }
          ],
          "contour": [
           {
            "colorbar": {
             "outlinewidth": 0,
             "ticks": ""
            },
            "colorscale": [
             [
              0,
              "#0d0887"
             ],
             [
              0.1111111111111111,
              "#46039f"
             ],
             [
              0.2222222222222222,
              "#7201a8"
             ],
             [
              0.3333333333333333,
              "#9c179e"
             ],
             [
              0.4444444444444444,
              "#bd3786"
             ],
             [
              0.5555555555555556,
              "#d8576b"
             ],
             [
              0.6666666666666666,
              "#ed7953"
             ],
             [
              0.7777777777777778,
              "#fb9f3a"
             ],
             [
              0.8888888888888888,
              "#fdca26"
             ],
             [
              1,
              "#f0f921"
             ]
            ],
            "type": "contour"
           }
          ],
          "contourcarpet": [
           {
            "colorbar": {
             "outlinewidth": 0,
             "ticks": ""
            },
            "type": "contourcarpet"
           }
          ],
          "heatmap": [
           {
            "colorbar": {
             "outlinewidth": 0,
             "ticks": ""
            },
            "colorscale": [
             [
              0,
              "#0d0887"
             ],
             [
              0.1111111111111111,
              "#46039f"
             ],
             [
              0.2222222222222222,
              "#7201a8"
             ],
             [
              0.3333333333333333,
              "#9c179e"
             ],
             [
              0.4444444444444444,
              "#bd3786"
             ],
             [
              0.5555555555555556,
              "#d8576b"
             ],
             [
              0.6666666666666666,
              "#ed7953"
             ],
             [
              0.7777777777777778,
              "#fb9f3a"
             ],
             [
              0.8888888888888888,
              "#fdca26"
             ],
             [
              1,
              "#f0f921"
             ]
            ],
            "type": "heatmap"
           }
          ],
          "heatmapgl": [
           {
            "colorbar": {
             "outlinewidth": 0,
             "ticks": ""
            },
            "colorscale": [
             [
              0,
              "#0d0887"
             ],
             [
              0.1111111111111111,
              "#46039f"
             ],
             [
              0.2222222222222222,
              "#7201a8"
             ],
             [
              0.3333333333333333,
              "#9c179e"
             ],
             [
              0.4444444444444444,
              "#bd3786"
             ],
             [
              0.5555555555555556,
              "#d8576b"
             ],
             [
              0.6666666666666666,
              "#ed7953"
             ],
             [
              0.7777777777777778,
              "#fb9f3a"
             ],
             [
              0.8888888888888888,
              "#fdca26"
             ],
             [
              1,
              "#f0f921"
             ]
            ],
            "type": "heatmapgl"
           }
          ],
          "histogram": [
           {
            "marker": {
             "pattern": {
              "fillmode": "overlay",
              "size": 10,
              "solidity": 0.2
             }
            },
            "type": "histogram"
           }
          ],
          "histogram2d": [
           {
            "colorbar": {
             "outlinewidth": 0,
             "ticks": ""
            },
            "colorscale": [
             [
              0,
              "#0d0887"
             ],
             [
              0.1111111111111111,
              "#46039f"
             ],
             [
              0.2222222222222222,
              "#7201a8"
             ],
             [
              0.3333333333333333,
              "#9c179e"
             ],
             [
              0.4444444444444444,
              "#bd3786"
             ],
             [
              0.5555555555555556,
              "#d8576b"
             ],
             [
              0.6666666666666666,
              "#ed7953"
             ],
             [
              0.7777777777777778,
              "#fb9f3a"
             ],
             [
              0.8888888888888888,
              "#fdca26"
             ],
             [
              1,
              "#f0f921"
             ]
            ],
            "type": "histogram2d"
           }
          ],
          "histogram2dcontour": [
           {
            "colorbar": {
             "outlinewidth": 0,
             "ticks": ""
            },
            "colorscale": [
             [
              0,
              "#0d0887"
             ],
             [
              0.1111111111111111,
              "#46039f"
             ],
             [
              0.2222222222222222,
              "#7201a8"
             ],
             [
              0.3333333333333333,
              "#9c179e"
             ],
             [
              0.4444444444444444,
              "#bd3786"
             ],
             [
              0.5555555555555556,
              "#d8576b"
             ],
             [
              0.6666666666666666,
              "#ed7953"
             ],
             [
              0.7777777777777778,
              "#fb9f3a"
             ],
             [
              0.8888888888888888,
              "#fdca26"
             ],
             [
              1,
              "#f0f921"
             ]
            ],
            "type": "histogram2dcontour"
           }
          ],
          "mesh3d": [
           {
            "colorbar": {
             "outlinewidth": 0,
             "ticks": ""
            },
            "type": "mesh3d"
           }
          ],
          "parcoords": [
           {
            "line": {
             "colorbar": {
              "outlinewidth": 0,
              "ticks": ""
             }
            },
            "type": "parcoords"
           }
          ],
          "pie": [
           {
            "automargin": true,
            "type": "pie"
           }
          ],
          "scatter": [
           {
            "marker": {
             "colorbar": {
              "outlinewidth": 0,
              "ticks": ""
             }
            },
            "type": "scatter"
           }
          ],
          "scatter3d": [
           {
            "line": {
             "colorbar": {
              "outlinewidth": 0,
              "ticks": ""
             }
            },
            "marker": {
             "colorbar": {
              "outlinewidth": 0,
              "ticks": ""
             }
            },
            "type": "scatter3d"
           }
          ],
          "scattercarpet": [
           {
            "marker": {
             "colorbar": {
              "outlinewidth": 0,
              "ticks": ""
             }
            },
            "type": "scattercarpet"
           }
          ],
          "scattergeo": [
           {
            "marker": {
             "colorbar": {
              "outlinewidth": 0,
              "ticks": ""
             }
            },
            "type": "scattergeo"
           }
          ],
          "scattergl": [
           {
            "marker": {
             "colorbar": {
              "outlinewidth": 0,
              "ticks": ""
             }
            },
            "type": "scattergl"
           }
          ],
          "scattermapbox": [
           {
            "marker": {
             "colorbar": {
              "outlinewidth": 0,
              "ticks": ""
             }
            },
            "type": "scattermapbox"
           }
          ],
          "scatterpolar": [
           {
            "marker": {
             "colorbar": {
              "outlinewidth": 0,
              "ticks": ""
             }
            },
            "type": "scatterpolar"
           }
          ],
          "scatterpolargl": [
           {
            "marker": {
             "colorbar": {
              "outlinewidth": 0,
              "ticks": ""
             }
            },
            "type": "scatterpolargl"
           }
          ],
          "scatterternary": [
           {
            "marker": {
             "colorbar": {
              "outlinewidth": 0,
              "ticks": ""
             }
            },
            "type": "scatterternary"
           }
          ],
          "surface": [
           {
            "colorbar": {
             "outlinewidth": 0,
             "ticks": ""
            },
            "colorscale": [
             [
              0,
              "#0d0887"
             ],
             [
              0.1111111111111111,
              "#46039f"
             ],
             [
              0.2222222222222222,
              "#7201a8"
             ],
             [
              0.3333333333333333,
              "#9c179e"
             ],
             [
              0.4444444444444444,
              "#bd3786"
             ],
             [
              0.5555555555555556,
              "#d8576b"
             ],
             [
              0.6666666666666666,
              "#ed7953"
             ],
             [
              0.7777777777777778,
              "#fb9f3a"
             ],
             [
              0.8888888888888888,
              "#fdca26"
             ],
             [
              1,
              "#f0f921"
             ]
            ],
            "type": "surface"
           }
          ],
          "table": [
           {
            "cells": {
             "fill": {
              "color": "#EBF0F8"
             },
             "line": {
              "color": "white"
             }
            },
            "header": {
             "fill": {
              "color": "#C8D4E3"
             },
             "line": {
              "color": "white"
             }
            },
            "type": "table"
           }
          ]
         },
         "layout": {
          "annotationdefaults": {
           "arrowcolor": "#2a3f5f",
           "arrowhead": 0,
           "arrowwidth": 1
          },
          "autotypenumbers": "strict",
          "coloraxis": {
           "colorbar": {
            "outlinewidth": 0,
            "ticks": ""
           }
          },
          "colorscale": {
           "diverging": [
            [
             0,
             "#8e0152"
            ],
            [
             0.1,
             "#c51b7d"
            ],
            [
             0.2,
             "#de77ae"
            ],
            [
             0.3,
             "#f1b6da"
            ],
            [
             0.4,
             "#fde0ef"
            ],
            [
             0.5,
             "#f7f7f7"
            ],
            [
             0.6,
             "#e6f5d0"
            ],
            [
             0.7,
             "#b8e186"
            ],
            [
             0.8,
             "#7fbc41"
            ],
            [
             0.9,
             "#4d9221"
            ],
            [
             1,
             "#276419"
            ]
           ],
           "sequential": [
            [
             0,
             "#0d0887"
            ],
            [
             0.1111111111111111,
             "#46039f"
            ],
            [
             0.2222222222222222,
             "#7201a8"
            ],
            [
             0.3333333333333333,
             "#9c179e"
            ],
            [
             0.4444444444444444,
             "#bd3786"
            ],
            [
             0.5555555555555556,
             "#d8576b"
            ],
            [
             0.6666666666666666,
             "#ed7953"
            ],
            [
             0.7777777777777778,
             "#fb9f3a"
            ],
            [
             0.8888888888888888,
             "#fdca26"
            ],
            [
             1,
             "#f0f921"
            ]
           ],
           "sequentialminus": [
            [
             0,
             "#0d0887"
            ],
            [
             0.1111111111111111,
             "#46039f"
            ],
            [
             0.2222222222222222,
             "#7201a8"
            ],
            [
             0.3333333333333333,
             "#9c179e"
            ],
            [
             0.4444444444444444,
             "#bd3786"
            ],
            [
             0.5555555555555556,
             "#d8576b"
            ],
            [
             0.6666666666666666,
             "#ed7953"
            ],
            [
             0.7777777777777778,
             "#fb9f3a"
            ],
            [
             0.8888888888888888,
             "#fdca26"
            ],
            [
             1,
             "#f0f921"
            ]
           ]
          },
          "colorway": [
           "#636efa",
           "#EF553B",
           "#00cc96",
           "#ab63fa",
           "#FFA15A",
           "#19d3f3",
           "#FF6692",
           "#B6E880",
           "#FF97FF",
           "#FECB52"
          ],
          "font": {
           "color": "#2a3f5f"
          },
          "geo": {
           "bgcolor": "white",
           "lakecolor": "white",
           "landcolor": "#E5ECF6",
           "showlakes": true,
           "showland": true,
           "subunitcolor": "white"
          },
          "hoverlabel": {
           "align": "left"
          },
          "hovermode": "closest",
          "mapbox": {
           "style": "light"
          },
          "paper_bgcolor": "white",
          "plot_bgcolor": "#E5ECF6",
          "polar": {
           "angularaxis": {
            "gridcolor": "white",
            "linecolor": "white",
            "ticks": ""
           },
           "bgcolor": "#E5ECF6",
           "radialaxis": {
            "gridcolor": "white",
            "linecolor": "white",
            "ticks": ""
           }
          },
          "scene": {
           "xaxis": {
            "backgroundcolor": "#E5ECF6",
            "gridcolor": "white",
            "gridwidth": 2,
            "linecolor": "white",
            "showbackground": true,
            "ticks": "",
            "zerolinecolor": "white"
           },
           "yaxis": {
            "backgroundcolor": "#E5ECF6",
            "gridcolor": "white",
            "gridwidth": 2,
            "linecolor": "white",
            "showbackground": true,
            "ticks": "",
            "zerolinecolor": "white"
           },
           "zaxis": {
            "backgroundcolor": "#E5ECF6",
            "gridcolor": "white",
            "gridwidth": 2,
            "linecolor": "white",
            "showbackground": true,
            "ticks": "",
            "zerolinecolor": "white"
           }
          },
          "shapedefaults": {
           "line": {
            "color": "#2a3f5f"
           }
          },
          "ternary": {
           "aaxis": {
            "gridcolor": "white",
            "linecolor": "white",
            "ticks": ""
           },
           "baxis": {
            "gridcolor": "white",
            "linecolor": "white",
            "ticks": ""
           },
           "bgcolor": "#E5ECF6",
           "caxis": {
            "gridcolor": "white",
            "linecolor": "white",
            "ticks": ""
           }
          },
          "title": {
           "x": 0.05
          },
          "xaxis": {
           "automargin": true,
           "gridcolor": "white",
           "linecolor": "white",
           "ticks": "",
           "title": {
            "standoff": 15
           },
           "zerolinecolor": "white",
           "zerolinewidth": 2
          },
          "yaxis": {
           "automargin": true,
           "gridcolor": "white",
           "linecolor": "white",
           "ticks": "",
           "title": {
            "standoff": 15
           },
           "zerolinecolor": "white",
           "zerolinewidth": 2
          }
         }
        },
        "title": {
         "text": "Compare Death rate for <b>All Risk Factor</b> vs <b>Air Pollution</b> over the years 1990 to 2019<br>India"
        },
        "xaxis": {
         "anchor": "y",
         "domain": [
          0,
          1
         ],
         "matches": "x4",
         "showticklabels": false
        },
        "xaxis2": {
         "anchor": "y2",
         "domain": [
          0,
          1
         ],
         "matches": "x4",
         "showticklabels": false
        },
        "xaxis3": {
         "anchor": "y3",
         "domain": [
          0,
          1
         ],
         "matches": "x4",
         "showticklabels": false
        },
        "xaxis4": {
         "anchor": "y4",
         "domain": [
          0,
          1
         ]
        },
        "yaxis": {
         "anchor": "x",
         "domain": [
          0.80625,
          1
         ]
        },
        "yaxis2": {
         "anchor": "x2",
         "domain": [
          0.5375,
          0.73125
         ]
        },
        "yaxis3": {
         "anchor": "x3",
         "domain": [
          0.26875,
          0.4625
         ]
        },
        "yaxis4": {
         "anchor": "x4",
         "domain": [
          0,
          0.19375
         ]
        }
       }
      }
     },
     "metadata": {},
     "output_type": "display_data"
    }
   ],
   "source": [
    "\n",
    "df = cause_df[cause_df.location_clean==\"IND\"]\n",
    "co2 = co2_df[co2_df.iso_code==\"IND\"]\n",
    "draw_plot(iran_df, co2, \"India\")"
   ]
  },
  {
   "cell_type": "code",
   "execution_count": 17,
   "metadata": {},
   "outputs": [
    {
     "data": {
      "application/vnd.plotly.v1+json": {
       "config": {
        "plotlyServerURL": "https://plot.ly"
       },
       "data": [
        {
         "mode": "lines+markers",
         "name": "All Risk Factor",
         "type": "scatter",
         "x": [
          1990,
          1991,
          1992,
          1993,
          1994,
          1995,
          1996,
          1997,
          1998,
          1999,
          2000,
          2001,
          2002,
          2003,
          2004,
          2005,
          2006,
          2007,
          2008,
          2009,
          2010,
          2011,
          2012,
          2013,
          2014,
          2015,
          2016,
          2017,
          2018,
          2019
         ],
         "xaxis": "x",
         "y": [
          152.98276728497711,
          154.9557924197948,
          159.27018041486156,
          161.49066265742064,
          163.45180176288602,
          165.62733801338806,
          167.9444538322158,
          170.61784348416606,
          172.93237610387033,
          175.8861982413958,
          179.1802043720816,
          182.5173937222953,
          185.53393663700507,
          187.17062847848152,
          187.36936721490443,
          187.856256593495,
          188.2734578260139,
          187.50135043598627,
          186.73601462443074,
          188.1064958038889,
          189.13487304874596,
          189.72162820154102,
          191.2913462326299,
          195.42658516417413,
          200.0446653840288,
          206.70202562955546,
          210.99825717771785,
          215.18897660969904,
          217.25593155764918,
          221.77231352661954
         ],
         "yaxis": "y"
        },
        {
         "mode": "lines+markers",
         "name": "Air Pollution",
         "type": "scatter",
         "x": [
          1990,
          1991,
          1992,
          1993,
          1994,
          1995,
          1996,
          1997,
          1998,
          1999,
          2000,
          2001,
          2002,
          2003,
          2004,
          2005,
          2006,
          2007,
          2008,
          2009,
          2010,
          2011,
          2012,
          2013,
          2014,
          2015,
          2016,
          2017,
          2018,
          2019
         ],
         "xaxis": "x",
         "y": [
          37.092808079360445,
          37.420650766827634,
          38.29757068665101,
          38.7426748088483,
          39.123306852388964,
          39.54891195150474,
          40.01565980703153,
          40.63101454879146,
          41.1730703022116,
          41.820249298450236,
          42.45909816235741,
          42.91412652766087,
          42.81113266153021,
          42.41861906414544,
          41.70725292362783,
          41.273450417397136,
          41.11258551884817,
          40.92193501692156,
          40.80940144427043,
          40.94997000013806,
          40.81243975474386,
          40.3722085564971,
          40.4805897922578,
          41.270763181876774,
          42.08852608857386,
          43.29497180942939,
          43.573158857541394,
          43.687678912251336,
          43.65446507850464,
          44.16359812307523
         ],
         "yaxis": "y"
        },
        {
         "mode": "lines+markers",
         "name": "All Risk Factor",
         "type": "scatter",
         "x": [
          1990,
          1991,
          1992,
          1993,
          1994,
          1995,
          1996,
          1997,
          1998,
          1999,
          2000,
          2001,
          2002,
          2003,
          2004,
          2005,
          2006,
          2007,
          2008,
          2009,
          2010,
          2011,
          2012,
          2013,
          2014,
          2015,
          2016,
          2017,
          2018,
          2019
         ],
         "xaxis": "x2",
         "y": [
          7.456818922652135,
          7.545561396571056,
          7.769370413917857,
          7.81729314755174,
          7.883394139502093,
          7.962114123808232,
          7.994438931804375,
          8.044726522210603,
          8.084945966678013,
          8.188048813177321,
          8.311478313060622,
          8.423723635513936,
          8.695203575887989,
          9.013012534040753,
          9.328852092531552,
          9.569267377237962,
          9.8141626463314,
          10.068345226203771,
          10.178414731426628,
          10.40192499259238,
          10.569421097483485,
          10.82841453237741,
          11.04159339467023,
          11.387901793729393,
          11.688995623471618,
          12.004907540384425,
          12.155767133841133,
          12.288560415481124,
          12.3141173810859,
          12.521141458653512
         ],
         "yaxis": "y2"
        },
        {
         "mode": "lines+markers",
         "name": "Air Pollution",
         "type": "scatter",
         "x": [
          1990,
          1991,
          1992,
          1993,
          1994,
          1995,
          1996,
          1997,
          1998,
          1999,
          2000,
          2001,
          2002,
          2003,
          2004,
          2005,
          2006,
          2007,
          2008,
          2009,
          2010,
          2011,
          2012,
          2013,
          2014,
          2015,
          2016,
          2017,
          2018,
          2019
         ],
         "xaxis": "x2",
         "y": [
          2.4856447694455324,
          2.4921034908854782,
          2.530260506602223,
          2.5516394759147225,
          2.5792367545749544,
          2.6293578009914227,
          2.6525121893489185,
          2.675923106736413,
          2.713831913320625,
          2.776298308841563,
          2.863249638106966,
          2.91570287727351,
          2.988933304297225,
          3.1076001206323567,
          3.2292906980916345,
          3.3618413421594866,
          3.522419355232297,
          3.765884491862162,
          3.933972071826029,
          4.000293522074196,
          4.071736153049076,
          4.200527213910869,
          4.397712755250038,
          4.622867851360163,
          4.773958596810879,
          4.972673204194457,
          5.089500249297446,
          5.106760706479076,
          5.062180125044936,
          5.12977984536497
         ],
         "yaxis": "y2"
        },
        {
         "mode": "lines+markers",
         "name": "All Risk Factor",
         "type": "scatter",
         "x": [
          1990,
          1991,
          1992,
          1993,
          1994,
          1995,
          1996,
          1997,
          1998,
          1999,
          2000,
          2001,
          2002,
          2003,
          2004,
          2005,
          2006,
          2007,
          2008,
          2009,
          2010,
          2011,
          2012,
          2013,
          2014,
          2015,
          2016,
          2017,
          2018,
          2019
         ],
         "xaxis": "x3",
         "y": [
          133.31267112181862,
          135.04195083511246,
          138.83903831027698,
          140.84691132746914,
          142.6758103881076,
          144.65294536663973,
          146.7871924823766,
          149.31972957104745,
          151.51056782203602,
          154.29621283167464,
          157.15929959267788,
          159.93768438415427,
          162.36992062962156,
          163.3607645656837,
          162.81725340015322,
          162.46968997458615,
          162.039113678507,
          160.55679900461476,
          159.10810074982655,
          159.56419517275083,
          159.6735723786113,
          159.2441894119316,
          159.80211646865158,
          162.64049608612504,
          165.8765773094511,
          171.11802152982304,
          174.53571430447406,
          177.91591586298208,
          179.24740637899515,
          182.73546417392487
         ],
         "yaxis": "y3"
        },
        {
         "mode": "lines+markers",
         "name": "Air Pollution",
         "type": "scatter",
         "x": [
          1990,
          1991,
          1992,
          1993,
          1994,
          1995,
          1996,
          1997,
          1998,
          1999,
          2000,
          2001,
          2002,
          2003,
          2004,
          2005,
          2006,
          2007,
          2008,
          2009,
          2010,
          2011,
          2012,
          2013,
          2014,
          2015,
          2016,
          2017,
          2018,
          2019
         ],
         "xaxis": "x3",
         "y": [
          33.47359296885441,
          33.77812645769157,
          34.586562456448135,
          34.986721886237106,
          35.33085381346624,
          35.690847784269344,
          36.11324110932324,
          36.69203393741644,
          37.18721943608054,
          37.76997014137121,
          38.28988910646889,
          38.65421762913046,
          38.46743666713631,
          37.94345765389885,
          37.08096810974367,
          36.467107462255726,
          36.09014212986447,
          35.608486225455295,
          35.26137821388933,
          35.25213812279687,
          34.96279567115304,
          34.32643383094338,
          34.165211444158864,
          34.64421204353616,
          35.216545195989205,
          36.13069760088096,
          36.25674276853979,
          36.330922240613845,
          36.30189480658291,
          36.68956533725789
         ],
         "yaxis": "y3"
        },
        {
         "mode": "lines",
         "name": "co2 per capita",
         "type": "scatter",
         "x": [
          1990,
          1991,
          1992,
          1993,
          1994,
          1995,
          1996,
          1997,
          1998,
          1999,
          2000,
          2001,
          2002,
          2003,
          2004,
          2005,
          2006,
          2007,
          2008,
          2009,
          2010,
          2011,
          2012,
          2013,
          2014,
          2015,
          2016,
          2017,
          2018,
          2019
         ],
         "xaxis": "x4",
         "y": [
          20.282,
          19.871,
          20.108,
          20.296,
          20.435,
          20.446,
          20.909,
          20.928,
          20.827,
          20.839,
          21.336,
          20.747,
          20.7,
          20.744,
          20.913,
          20.795,
          20.324,
          20.395,
          19.487,
          17.885,
          18.368,
          17.781,
          17,
          17.302,
          17.331,
          16.741,
          16.247,
          16.02,
          16.434,
          15.972
         ],
         "yaxis": "y4"
        }
       ],
       "layout": {
        "annotations": [
         {
          "font": {
           "size": 16
          },
          "showarrow": false,
          "text": "year",
          "x": 0.5,
          "xanchor": "center",
          "xref": "paper",
          "y": 0,
          "yanchor": "top",
          "yref": "paper",
          "yshift": -30
         },
         {
          "font": {
           "size": 16
          },
          "showarrow": false,
          "text": "Rate (per 100,000)",
          "textangle": -90,
          "x": 0,
          "xanchor": "right",
          "xref": "paper",
          "xshift": -40,
          "y": 0.5,
          "yanchor": "middle",
          "yref": "paper"
         }
        ],
        "hovermode": "x",
        "legend": {
         "title": {
          "text": "Risk Factor"
         }
        },
        "template": {
         "data": {
          "bar": [
           {
            "error_x": {
             "color": "#2a3f5f"
            },
            "error_y": {
             "color": "#2a3f5f"
            },
            "marker": {
             "line": {
              "color": "#E5ECF6",
              "width": 0.5
             },
             "pattern": {
              "fillmode": "overlay",
              "size": 10,
              "solidity": 0.2
             }
            },
            "type": "bar"
           }
          ],
          "barpolar": [
           {
            "marker": {
             "line": {
              "color": "#E5ECF6",
              "width": 0.5
             },
             "pattern": {
              "fillmode": "overlay",
              "size": 10,
              "solidity": 0.2
             }
            },
            "type": "barpolar"
           }
          ],
          "carpet": [
           {
            "aaxis": {
             "endlinecolor": "#2a3f5f",
             "gridcolor": "white",
             "linecolor": "white",
             "minorgridcolor": "white",
             "startlinecolor": "#2a3f5f"
            },
            "baxis": {
             "endlinecolor": "#2a3f5f",
             "gridcolor": "white",
             "linecolor": "white",
             "minorgridcolor": "white",
             "startlinecolor": "#2a3f5f"
            },
            "type": "carpet"
           }
          ],
          "choropleth": [
           {
            "colorbar": {
             "outlinewidth": 0,
             "ticks": ""
            },
            "type": "choropleth"
           }
          ],
          "contour": [
           {
            "colorbar": {
             "outlinewidth": 0,
             "ticks": ""
            },
            "colorscale": [
             [
              0,
              "#0d0887"
             ],
             [
              0.1111111111111111,
              "#46039f"
             ],
             [
              0.2222222222222222,
              "#7201a8"
             ],
             [
              0.3333333333333333,
              "#9c179e"
             ],
             [
              0.4444444444444444,
              "#bd3786"
             ],
             [
              0.5555555555555556,
              "#d8576b"
             ],
             [
              0.6666666666666666,
              "#ed7953"
             ],
             [
              0.7777777777777778,
              "#fb9f3a"
             ],
             [
              0.8888888888888888,
              "#fdca26"
             ],
             [
              1,
              "#f0f921"
             ]
            ],
            "type": "contour"
           }
          ],
          "contourcarpet": [
           {
            "colorbar": {
             "outlinewidth": 0,
             "ticks": ""
            },
            "type": "contourcarpet"
           }
          ],
          "heatmap": [
           {
            "colorbar": {
             "outlinewidth": 0,
             "ticks": ""
            },
            "colorscale": [
             [
              0,
              "#0d0887"
             ],
             [
              0.1111111111111111,
              "#46039f"
             ],
             [
              0.2222222222222222,
              "#7201a8"
             ],
             [
              0.3333333333333333,
              "#9c179e"
             ],
             [
              0.4444444444444444,
              "#bd3786"
             ],
             [
              0.5555555555555556,
              "#d8576b"
             ],
             [
              0.6666666666666666,
              "#ed7953"
             ],
             [
              0.7777777777777778,
              "#fb9f3a"
             ],
             [
              0.8888888888888888,
              "#fdca26"
             ],
             [
              1,
              "#f0f921"
             ]
            ],
            "type": "heatmap"
           }
          ],
          "heatmapgl": [
           {
            "colorbar": {
             "outlinewidth": 0,
             "ticks": ""
            },
            "colorscale": [
             [
              0,
              "#0d0887"
             ],
             [
              0.1111111111111111,
              "#46039f"
             ],
             [
              0.2222222222222222,
              "#7201a8"
             ],
             [
              0.3333333333333333,
              "#9c179e"
             ],
             [
              0.4444444444444444,
              "#bd3786"
             ],
             [
              0.5555555555555556,
              "#d8576b"
             ],
             [
              0.6666666666666666,
              "#ed7953"
             ],
             [
              0.7777777777777778,
              "#fb9f3a"
             ],
             [
              0.8888888888888888,
              "#fdca26"
             ],
             [
              1,
              "#f0f921"
             ]
            ],
            "type": "heatmapgl"
           }
          ],
          "histogram": [
           {
            "marker": {
             "pattern": {
              "fillmode": "overlay",
              "size": 10,
              "solidity": 0.2
             }
            },
            "type": "histogram"
           }
          ],
          "histogram2d": [
           {
            "colorbar": {
             "outlinewidth": 0,
             "ticks": ""
            },
            "colorscale": [
             [
              0,
              "#0d0887"
             ],
             [
              0.1111111111111111,
              "#46039f"
             ],
             [
              0.2222222222222222,
              "#7201a8"
             ],
             [
              0.3333333333333333,
              "#9c179e"
             ],
             [
              0.4444444444444444,
              "#bd3786"
             ],
             [
              0.5555555555555556,
              "#d8576b"
             ],
             [
              0.6666666666666666,
              "#ed7953"
             ],
             [
              0.7777777777777778,
              "#fb9f3a"
             ],
             [
              0.8888888888888888,
              "#fdca26"
             ],
             [
              1,
              "#f0f921"
             ]
            ],
            "type": "histogram2d"
           }
          ],
          "histogram2dcontour": [
           {
            "colorbar": {
             "outlinewidth": 0,
             "ticks": ""
            },
            "colorscale": [
             [
              0,
              "#0d0887"
             ],
             [
              0.1111111111111111,
              "#46039f"
             ],
             [
              0.2222222222222222,
              "#7201a8"
             ],
             [
              0.3333333333333333,
              "#9c179e"
             ],
             [
              0.4444444444444444,
              "#bd3786"
             ],
             [
              0.5555555555555556,
              "#d8576b"
             ],
             [
              0.6666666666666666,
              "#ed7953"
             ],
             [
              0.7777777777777778,
              "#fb9f3a"
             ],
             [
              0.8888888888888888,
              "#fdca26"
             ],
             [
              1,
              "#f0f921"
             ]
            ],
            "type": "histogram2dcontour"
           }
          ],
          "mesh3d": [
           {
            "colorbar": {
             "outlinewidth": 0,
             "ticks": ""
            },
            "type": "mesh3d"
           }
          ],
          "parcoords": [
           {
            "line": {
             "colorbar": {
              "outlinewidth": 0,
              "ticks": ""
             }
            },
            "type": "parcoords"
           }
          ],
          "pie": [
           {
            "automargin": true,
            "type": "pie"
           }
          ],
          "scatter": [
           {
            "marker": {
             "colorbar": {
              "outlinewidth": 0,
              "ticks": ""
             }
            },
            "type": "scatter"
           }
          ],
          "scatter3d": [
           {
            "line": {
             "colorbar": {
              "outlinewidth": 0,
              "ticks": ""
             }
            },
            "marker": {
             "colorbar": {
              "outlinewidth": 0,
              "ticks": ""
             }
            },
            "type": "scatter3d"
           }
          ],
          "scattercarpet": [
           {
            "marker": {
             "colorbar": {
              "outlinewidth": 0,
              "ticks": ""
             }
            },
            "type": "scattercarpet"
           }
          ],
          "scattergeo": [
           {
            "marker": {
             "colorbar": {
              "outlinewidth": 0,
              "ticks": ""
             }
            },
            "type": "scattergeo"
           }
          ],
          "scattergl": [
           {
            "marker": {
             "colorbar": {
              "outlinewidth": 0,
              "ticks": ""
             }
            },
            "type": "scattergl"
           }
          ],
          "scattermapbox": [
           {
            "marker": {
             "colorbar": {
              "outlinewidth": 0,
              "ticks": ""
             }
            },
            "type": "scattermapbox"
           }
          ],
          "scatterpolar": [
           {
            "marker": {
             "colorbar": {
              "outlinewidth": 0,
              "ticks": ""
             }
            },
            "type": "scatterpolar"
           }
          ],
          "scatterpolargl": [
           {
            "marker": {
             "colorbar": {
              "outlinewidth": 0,
              "ticks": ""
             }
            },
            "type": "scatterpolargl"
           }
          ],
          "scatterternary": [
           {
            "marker": {
             "colorbar": {
              "outlinewidth": 0,
              "ticks": ""
             }
            },
            "type": "scatterternary"
           }
          ],
          "surface": [
           {
            "colorbar": {
             "outlinewidth": 0,
             "ticks": ""
            },
            "colorscale": [
             [
              0,
              "#0d0887"
             ],
             [
              0.1111111111111111,
              "#46039f"
             ],
             [
              0.2222222222222222,
              "#7201a8"
             ],
             [
              0.3333333333333333,
              "#9c179e"
             ],
             [
              0.4444444444444444,
              "#bd3786"
             ],
             [
              0.5555555555555556,
              "#d8576b"
             ],
             [
              0.6666666666666666,
              "#ed7953"
             ],
             [
              0.7777777777777778,
              "#fb9f3a"
             ],
             [
              0.8888888888888888,
              "#fdca26"
             ],
             [
              1,
              "#f0f921"
             ]
            ],
            "type": "surface"
           }
          ],
          "table": [
           {
            "cells": {
             "fill": {
              "color": "#EBF0F8"
             },
             "line": {
              "color": "white"
             }
            },
            "header": {
             "fill": {
              "color": "#C8D4E3"
             },
             "line": {
              "color": "white"
             }
            },
            "type": "table"
           }
          ]
         },
         "layout": {
          "annotationdefaults": {
           "arrowcolor": "#2a3f5f",
           "arrowhead": 0,
           "arrowwidth": 1
          },
          "autotypenumbers": "strict",
          "coloraxis": {
           "colorbar": {
            "outlinewidth": 0,
            "ticks": ""
           }
          },
          "colorscale": {
           "diverging": [
            [
             0,
             "#8e0152"
            ],
            [
             0.1,
             "#c51b7d"
            ],
            [
             0.2,
             "#de77ae"
            ],
            [
             0.3,
             "#f1b6da"
            ],
            [
             0.4,
             "#fde0ef"
            ],
            [
             0.5,
             "#f7f7f7"
            ],
            [
             0.6,
             "#e6f5d0"
            ],
            [
             0.7,
             "#b8e186"
            ],
            [
             0.8,
             "#7fbc41"
            ],
            [
             0.9,
             "#4d9221"
            ],
            [
             1,
             "#276419"
            ]
           ],
           "sequential": [
            [
             0,
             "#0d0887"
            ],
            [
             0.1111111111111111,
             "#46039f"
            ],
            [
             0.2222222222222222,
             "#7201a8"
            ],
            [
             0.3333333333333333,
             "#9c179e"
            ],
            [
             0.4444444444444444,
             "#bd3786"
            ],
            [
             0.5555555555555556,
             "#d8576b"
            ],
            [
             0.6666666666666666,
             "#ed7953"
            ],
            [
             0.7777777777777778,
             "#fb9f3a"
            ],
            [
             0.8888888888888888,
             "#fdca26"
            ],
            [
             1,
             "#f0f921"
            ]
           ],
           "sequentialminus": [
            [
             0,
             "#0d0887"
            ],
            [
             0.1111111111111111,
             "#46039f"
            ],
            [
             0.2222222222222222,
             "#7201a8"
            ],
            [
             0.3333333333333333,
             "#9c179e"
            ],
            [
             0.4444444444444444,
             "#bd3786"
            ],
            [
             0.5555555555555556,
             "#d8576b"
            ],
            [
             0.6666666666666666,
             "#ed7953"
            ],
            [
             0.7777777777777778,
             "#fb9f3a"
            ],
            [
             0.8888888888888888,
             "#fdca26"
            ],
            [
             1,
             "#f0f921"
            ]
           ]
          },
          "colorway": [
           "#636efa",
           "#EF553B",
           "#00cc96",
           "#ab63fa",
           "#FFA15A",
           "#19d3f3",
           "#FF6692",
           "#B6E880",
           "#FF97FF",
           "#FECB52"
          ],
          "font": {
           "color": "#2a3f5f"
          },
          "geo": {
           "bgcolor": "white",
           "lakecolor": "white",
           "landcolor": "#E5ECF6",
           "showlakes": true,
           "showland": true,
           "subunitcolor": "white"
          },
          "hoverlabel": {
           "align": "left"
          },
          "hovermode": "closest",
          "mapbox": {
           "style": "light"
          },
          "paper_bgcolor": "white",
          "plot_bgcolor": "#E5ECF6",
          "polar": {
           "angularaxis": {
            "gridcolor": "white",
            "linecolor": "white",
            "ticks": ""
           },
           "bgcolor": "#E5ECF6",
           "radialaxis": {
            "gridcolor": "white",
            "linecolor": "white",
            "ticks": ""
           }
          },
          "scene": {
           "xaxis": {
            "backgroundcolor": "#E5ECF6",
            "gridcolor": "white",
            "gridwidth": 2,
            "linecolor": "white",
            "showbackground": true,
            "ticks": "",
            "zerolinecolor": "white"
           },
           "yaxis": {
            "backgroundcolor": "#E5ECF6",
            "gridcolor": "white",
            "gridwidth": 2,
            "linecolor": "white",
            "showbackground": true,
            "ticks": "",
            "zerolinecolor": "white"
           },
           "zaxis": {
            "backgroundcolor": "#E5ECF6",
            "gridcolor": "white",
            "gridwidth": 2,
            "linecolor": "white",
            "showbackground": true,
            "ticks": "",
            "zerolinecolor": "white"
           }
          },
          "shapedefaults": {
           "line": {
            "color": "#2a3f5f"
           }
          },
          "ternary": {
           "aaxis": {
            "gridcolor": "white",
            "linecolor": "white",
            "ticks": ""
           },
           "baxis": {
            "gridcolor": "white",
            "linecolor": "white",
            "ticks": ""
           },
           "bgcolor": "#E5ECF6",
           "caxis": {
            "gridcolor": "white",
            "linecolor": "white",
            "ticks": ""
           }
          },
          "title": {
           "x": 0.05
          },
          "xaxis": {
           "automargin": true,
           "gridcolor": "white",
           "linecolor": "white",
           "ticks": "",
           "title": {
            "standoff": 15
           },
           "zerolinecolor": "white",
           "zerolinewidth": 2
          },
          "yaxis": {
           "automargin": true,
           "gridcolor": "white",
           "linecolor": "white",
           "ticks": "",
           "title": {
            "standoff": 15
           },
           "zerolinecolor": "white",
           "zerolinewidth": 2
          }
         }
        },
        "title": {
         "text": "Compare Death rate for <b>All Risk Factor</b> vs <b>Air Pollution</b> over the years 1990 to 2019<br>USA"
        },
        "xaxis": {
         "anchor": "y",
         "domain": [
          0,
          1
         ],
         "matches": "x4",
         "showticklabels": false
        },
        "xaxis2": {
         "anchor": "y2",
         "domain": [
          0,
          1
         ],
         "matches": "x4",
         "showticklabels": false
        },
        "xaxis3": {
         "anchor": "y3",
         "domain": [
          0,
          1
         ],
         "matches": "x4",
         "showticklabels": false
        },
        "xaxis4": {
         "anchor": "y4",
         "domain": [
          0,
          1
         ]
        },
        "yaxis": {
         "anchor": "x",
         "domain": [
          0.80625,
          1
         ]
        },
        "yaxis2": {
         "anchor": "x2",
         "domain": [
          0.5375,
          0.73125
         ]
        },
        "yaxis3": {
         "anchor": "x3",
         "domain": [
          0.26875,
          0.4625
         ]
        },
        "yaxis4": {
         "anchor": "x4",
         "domain": [
          0,
          0.19375
         ]
        }
       }
      }
     },
     "metadata": {},
     "output_type": "display_data"
    }
   ],
   "source": [
    "\n",
    "iso_code = \"USA\"\n",
    "df = cause_df[cause_df.location_clean==\"USA\"]\n",
    "co2 = co2_df[co2_df.iso_code==\"USA\"]\n",
    "draw_plot(iran_df, co2, iso_code)"
   ]
  },
  {
   "cell_type": "code",
   "execution_count": 18,
   "metadata": {},
   "outputs": [
    {
     "data": {
      "text/html": [
       "<div>\n",
       "<style scoped>\n",
       "    .dataframe tbody tr th:only-of-type {\n",
       "        vertical-align: middle;\n",
       "    }\n",
       "\n",
       "    .dataframe tbody tr th {\n",
       "        vertical-align: top;\n",
       "    }\n",
       "\n",
       "    .dataframe thead th {\n",
       "        text-align: right;\n",
       "    }\n",
       "</style>\n",
       "<table border=\"1\" class=\"dataframe\">\n",
       "  <thead>\n",
       "    <tr style=\"text-align: right;\">\n",
       "      <th></th>\n",
       "      <th>iso_code</th>\n",
       "      <th>country</th>\n",
       "      <th>year</th>\n",
       "      <th>co2</th>\n",
       "      <th>consumption_co2</th>\n",
       "      <th>co2_growth_prct</th>\n",
       "      <th>co2_growth_abs</th>\n",
       "      <th>trade_co2</th>\n",
       "      <th>co2_per_capita</th>\n",
       "      <th>consumption_co2_per_capita</th>\n",
       "      <th>...</th>\n",
       "      <th>ghg_per_capita</th>\n",
       "      <th>methane</th>\n",
       "      <th>methane_per_capita</th>\n",
       "      <th>nitrous_oxide</th>\n",
       "      <th>nitrous_oxide_per_capita</th>\n",
       "      <th>population</th>\n",
       "      <th>gdp</th>\n",
       "      <th>primary_energy_consumption</th>\n",
       "      <th>energy_per_capita</th>\n",
       "      <th>energy_per_gdp</th>\n",
       "    </tr>\n",
       "  </thead>\n",
       "  <tbody>\n",
       "    <tr>\n",
       "      <th>24037</th>\n",
       "      <td>USA</td>\n",
       "      <td>United States</td>\n",
       "      <td>1990</td>\n",
       "      <td>5113.455</td>\n",
       "      <td>5031.786</td>\n",
       "      <td>-0.36</td>\n",
       "      <td>-18.472</td>\n",
       "      <td>-81.669</td>\n",
       "      <td>20.282</td>\n",
       "      <td>19.958</td>\n",
       "      <td>...</td>\n",
       "      <td>22.488</td>\n",
       "      <td>798.61</td>\n",
       "      <td>3.168</td>\n",
       "      <td>254.99</td>\n",
       "      <td>1.011</td>\n",
       "      <td>252120309.0</td>\n",
       "      <td>9.250378e+12</td>\n",
       "      <td>22498.158</td>\n",
       "      <td>89235.912</td>\n",
       "      <td>2.432</td>\n",
       "    </tr>\n",
       "    <tr>\n",
       "      <th>24038</th>\n",
       "      <td>USA</td>\n",
       "      <td>United States</td>\n",
       "      <td>1991</td>\n",
       "      <td>5057.931</td>\n",
       "      <td>4949.136</td>\n",
       "      <td>-1.09</td>\n",
       "      <td>-55.524</td>\n",
       "      <td>-108.795</td>\n",
       "      <td>19.871</td>\n",
       "      <td>19.444</td>\n",
       "      <td>...</td>\n",
       "      <td>22.110</td>\n",
       "      <td>801.89</td>\n",
       "      <td>3.150</td>\n",
       "      <td>256.20</td>\n",
       "      <td>1.007</td>\n",
       "      <td>254539371.0</td>\n",
       "      <td>9.243499e+12</td>\n",
       "      <td>22466.677</td>\n",
       "      <td>88264.181</td>\n",
       "      <td>2.431</td>\n",
       "    </tr>\n",
       "    <tr>\n",
       "      <th>24039</th>\n",
       "      <td>USA</td>\n",
       "      <td>United States</td>\n",
       "      <td>1992</td>\n",
       "      <td>5167.481</td>\n",
       "      <td>5134.515</td>\n",
       "      <td>2.17</td>\n",
       "      <td>109.550</td>\n",
       "      <td>-32.966</td>\n",
       "      <td>20.108</td>\n",
       "      <td>19.979</td>\n",
       "      <td>...</td>\n",
       "      <td>22.215</td>\n",
       "      <td>800.73</td>\n",
       "      <td>3.116</td>\n",
       "      <td>261.95</td>\n",
       "      <td>1.019</td>\n",
       "      <td>256990608.0</td>\n",
       "      <td>9.572148e+12</td>\n",
       "      <td>22803.378</td>\n",
       "      <td>88732.202</td>\n",
       "      <td>2.383</td>\n",
       "    </tr>\n",
       "    <tr>\n",
       "      <th>24040</th>\n",
       "      <td>USA</td>\n",
       "      <td>United States</td>\n",
       "      <td>1993</td>\n",
       "      <td>5267.343</td>\n",
       "      <td>5194.300</td>\n",
       "      <td>1.93</td>\n",
       "      <td>99.862</td>\n",
       "      <td>-73.043</td>\n",
       "      <td>20.296</td>\n",
       "      <td>20.014</td>\n",
       "      <td>...</td>\n",
       "      <td>22.422</td>\n",
       "      <td>783.55</td>\n",
       "      <td>3.019</td>\n",
       "      <td>269.35</td>\n",
       "      <td>1.038</td>\n",
       "      <td>259532130.0</td>\n",
       "      <td>9.834941e+12</td>\n",
       "      <td>23279.396</td>\n",
       "      <td>89697.594</td>\n",
       "      <td>2.366</td>\n",
       "    </tr>\n",
       "    <tr>\n",
       "      <th>24041</th>\n",
       "      <td>USA</td>\n",
       "      <td>United States</td>\n",
       "      <td>1994</td>\n",
       "      <td>5358.824</td>\n",
       "      <td>5295.360</td>\n",
       "      <td>1.74</td>\n",
       "      <td>91.481</td>\n",
       "      <td>-63.464</td>\n",
       "      <td>20.435</td>\n",
       "      <td>20.193</td>\n",
       "      <td>...</td>\n",
       "      <td>22.522</td>\n",
       "      <td>790.58</td>\n",
       "      <td>3.015</td>\n",
       "      <td>273.36</td>\n",
       "      <td>1.042</td>\n",
       "      <td>262241204.0</td>\n",
       "      <td>1.023202e+13</td>\n",
       "      <td>23712.755</td>\n",
       "      <td>90423.527</td>\n",
       "      <td>2.325</td>\n",
       "    </tr>\n",
       "    <tr>\n",
       "      <th>24042</th>\n",
       "      <td>USA</td>\n",
       "      <td>United States</td>\n",
       "      <td>1995</td>\n",
       "      <td>5421.502</td>\n",
       "      <td>5356.474</td>\n",
       "      <td>1.17</td>\n",
       "      <td>62.678</td>\n",
       "      <td>-65.028</td>\n",
       "      <td>20.446</td>\n",
       "      <td>20.201</td>\n",
       "      <td>...</td>\n",
       "      <td>22.517</td>\n",
       "      <td>777.91</td>\n",
       "      <td>2.934</td>\n",
       "      <td>278.99</td>\n",
       "      <td>1.052</td>\n",
       "      <td>265163740.0</td>\n",
       "      <td>1.051026e+13</td>\n",
       "      <td>24222.295</td>\n",
       "      <td>91348.356</td>\n",
       "      <td>2.307</td>\n",
       "    </tr>\n",
       "    <tr>\n",
       "      <th>24043</th>\n",
       "      <td>USA</td>\n",
       "      <td>United States</td>\n",
       "      <td>1996</td>\n",
       "      <td>5610.582</td>\n",
       "      <td>5526.463</td>\n",
       "      <td>3.49</td>\n",
       "      <td>189.079</td>\n",
       "      <td>-84.119</td>\n",
       "      <td>20.909</td>\n",
       "      <td>20.595</td>\n",
       "      <td>...</td>\n",
       "      <td>22.618</td>\n",
       "      <td>754.68</td>\n",
       "      <td>2.812</td>\n",
       "      <td>282.97</td>\n",
       "      <td>1.055</td>\n",
       "      <td>268335007.0</td>\n",
       "      <td>1.090917e+13</td>\n",
       "      <td>25035.434</td>\n",
       "      <td>93299.171</td>\n",
       "      <td>2.297</td>\n",
       "    </tr>\n",
       "    <tr>\n",
       "      <th>24044</th>\n",
       "      <td>USA</td>\n",
       "      <td>United States</td>\n",
       "      <td>1997</td>\n",
       "      <td>5686.465</td>\n",
       "      <td>5632.188</td>\n",
       "      <td>1.35</td>\n",
       "      <td>75.883</td>\n",
       "      <td>-54.277</td>\n",
       "      <td>20.928</td>\n",
       "      <td>20.728</td>\n",
       "      <td>...</td>\n",
       "      <td>23.196</td>\n",
       "      <td>734.60</td>\n",
       "      <td>2.704</td>\n",
       "      <td>275.64</td>\n",
       "      <td>1.014</td>\n",
       "      <td>271713634.0</td>\n",
       "      <td>1.139876e+13</td>\n",
       "      <td>25225.640</td>\n",
       "      <td>92838.946</td>\n",
       "      <td>2.213</td>\n",
       "    </tr>\n",
       "    <tr>\n",
       "      <th>24045</th>\n",
       "      <td>USA</td>\n",
       "      <td>United States</td>\n",
       "      <td>1998</td>\n",
       "      <td>5731.050</td>\n",
       "      <td>5795.627</td>\n",
       "      <td>0.78</td>\n",
       "      <td>44.585</td>\n",
       "      <td>64.578</td>\n",
       "      <td>20.827</td>\n",
       "      <td>21.062</td>\n",
       "      <td>...</td>\n",
       "      <td>23.060</td>\n",
       "      <td>717.39</td>\n",
       "      <td>2.607</td>\n",
       "      <td>272.74</td>\n",
       "      <td>0.991</td>\n",
       "      <td>275175309.0</td>\n",
       "      <td>1.190603e+13</td>\n",
       "      <td>25391.342</td>\n",
       "      <td>92273.429</td>\n",
       "      <td>2.134</td>\n",
       "    </tr>\n",
       "    <tr>\n",
       "      <th>24046</th>\n",
       "      <td>USA</td>\n",
       "      <td>United States</td>\n",
       "      <td>1999</td>\n",
       "      <td>5804.669</td>\n",
       "      <td>5961.355</td>\n",
       "      <td>1.28</td>\n",
       "      <td>73.619</td>\n",
       "      <td>156.686</td>\n",
       "      <td>20.839</td>\n",
       "      <td>21.402</td>\n",
       "      <td>...</td>\n",
       "      <td>22.853</td>\n",
       "      <td>708.26</td>\n",
       "      <td>2.543</td>\n",
       "      <td>268.40</td>\n",
       "      <td>0.964</td>\n",
       "      <td>278548148.0</td>\n",
       "      <td>1.246382e+13</td>\n",
       "      <td>25840.805</td>\n",
       "      <td>92769.666</td>\n",
       "      <td>2.067</td>\n",
       "    </tr>\n",
       "    <tr>\n",
       "      <th>24047</th>\n",
       "      <td>USA</td>\n",
       "      <td>United States</td>\n",
       "      <td>2000</td>\n",
       "      <td>6010.508</td>\n",
       "      <td>6255.891</td>\n",
       "      <td>3.55</td>\n",
       "      <td>205.839</td>\n",
       "      <td>245.382</td>\n",
       "      <td>21.336</td>\n",
       "      <td>22.207</td>\n",
       "      <td>...</td>\n",
       "      <td>23.056</td>\n",
       "      <td>693.11</td>\n",
       "      <td>2.460</td>\n",
       "      <td>263.79</td>\n",
       "      <td>0.936</td>\n",
       "      <td>281710914.0</td>\n",
       "      <td>1.297384e+13</td>\n",
       "      <td>26427.463</td>\n",
       "      <td>93810.546</td>\n",
       "      <td>2.033</td>\n",
       "    </tr>\n",
       "    <tr>\n",
       "      <th>24048</th>\n",
       "      <td>USA</td>\n",
       "      <td>United States</td>\n",
       "      <td>2001</td>\n",
       "      <td>5904.882</td>\n",
       "      <td>6163.755</td>\n",
       "      <td>-1.76</td>\n",
       "      <td>-105.627</td>\n",
       "      <td>258.874</td>\n",
       "      <td>20.747</td>\n",
       "      <td>21.657</td>\n",
       "      <td>...</td>\n",
       "      <td>22.626</td>\n",
       "      <td>693.96</td>\n",
       "      <td>2.438</td>\n",
       "      <td>258.96</td>\n",
       "      <td>0.910</td>\n",
       "      <td>284607992.0</td>\n",
       "      <td>1.310047e+13</td>\n",
       "      <td>25804.055</td>\n",
       "      <td>90665.250</td>\n",
       "      <td>1.970</td>\n",
       "    </tr>\n",
       "    <tr>\n",
       "      <th>24049</th>\n",
       "      <td>USA</td>\n",
       "      <td>United States</td>\n",
       "      <td>2002</td>\n",
       "      <td>5946.771</td>\n",
       "      <td>6285.678</td>\n",
       "      <td>0.71</td>\n",
       "      <td>41.889</td>\n",
       "      <td>338.908</td>\n",
       "      <td>20.700</td>\n",
       "      <td>21.880</td>\n",
       "      <td>...</td>\n",
       "      <td>22.005</td>\n",
       "      <td>692.33</td>\n",
       "      <td>2.410</td>\n",
       "      <td>260.45</td>\n",
       "      <td>0.907</td>\n",
       "      <td>287279312.0</td>\n",
       "      <td>1.333449e+13</td>\n",
       "      <td>26177.526</td>\n",
       "      <td>91122.307</td>\n",
       "      <td>1.968</td>\n",
       "    </tr>\n",
       "    <tr>\n",
       "      <th>24050</th>\n",
       "      <td>USA</td>\n",
       "      <td>United States</td>\n",
       "      <td>2003</td>\n",
       "      <td>6011.837</td>\n",
       "      <td>6380.355</td>\n",
       "      <td>1.09</td>\n",
       "      <td>65.067</td>\n",
       "      <td>368.517</td>\n",
       "      <td>20.744</td>\n",
       "      <td>22.015</td>\n",
       "      <td>...</td>\n",
       "      <td>21.921</td>\n",
       "      <td>685.60</td>\n",
       "      <td>2.366</td>\n",
       "      <td>264.54</td>\n",
       "      <td>0.913</td>\n",
       "      <td>289815567.0</td>\n",
       "      <td>1.370881e+13</td>\n",
       "      <td>26259.752</td>\n",
       "      <td>90608.360</td>\n",
       "      <td>1.917</td>\n",
       "    </tr>\n",
       "    <tr>\n",
       "      <th>24051</th>\n",
       "      <td>USA</td>\n",
       "      <td>United States</td>\n",
       "      <td>2004</td>\n",
       "      <td>6114.007</td>\n",
       "      <td>6560.312</td>\n",
       "      <td>1.70</td>\n",
       "      <td>102.169</td>\n",
       "      <td>446.305</td>\n",
       "      <td>20.913</td>\n",
       "      <td>22.440</td>\n",
       "      <td>...</td>\n",
       "      <td>22.234</td>\n",
       "      <td>695.48</td>\n",
       "      <td>2.379</td>\n",
       "      <td>264.35</td>\n",
       "      <td>0.904</td>\n",
       "      <td>292354663.0</td>\n",
       "      <td>1.422788e+13</td>\n",
       "      <td>26776.886</td>\n",
       "      <td>91590.312</td>\n",
       "      <td>1.886</td>\n",
       "    </tr>\n",
       "    <tr>\n",
       "      <th>24052</th>\n",
       "      <td>USA</td>\n",
       "      <td>United States</td>\n",
       "      <td>2005</td>\n",
       "      <td>6134.521</td>\n",
       "      <td>6596.274</td>\n",
       "      <td>0.34</td>\n",
       "      <td>20.515</td>\n",
       "      <td>461.753</td>\n",
       "      <td>20.795</td>\n",
       "      <td>22.361</td>\n",
       "      <td>...</td>\n",
       "      <td>21.958</td>\n",
       "      <td>684.70</td>\n",
       "      <td>2.321</td>\n",
       "      <td>262.64</td>\n",
       "      <td>0.890</td>\n",
       "      <td>294993509.0</td>\n",
       "      <td>1.470373e+13</td>\n",
       "      <td>26788.164</td>\n",
       "      <td>90809.188</td>\n",
       "      <td>1.822</td>\n",
       "    </tr>\n",
       "    <tr>\n",
       "      <th>24053</th>\n",
       "      <td>USA</td>\n",
       "      <td>United States</td>\n",
       "      <td>2006</td>\n",
       "      <td>6051.668</td>\n",
       "      <td>6595.172</td>\n",
       "      <td>-1.35</td>\n",
       "      <td>-82.853</td>\n",
       "      <td>543.504</td>\n",
       "      <td>20.324</td>\n",
       "      <td>22.149</td>\n",
       "      <td>...</td>\n",
       "      <td>21.456</td>\n",
       "      <td>685.94</td>\n",
       "      <td>2.304</td>\n",
       "      <td>265.30</td>\n",
       "      <td>0.891</td>\n",
       "      <td>297758977.0</td>\n",
       "      <td>1.509588e+13</td>\n",
       "      <td>26571.789</td>\n",
       "      <td>89239.243</td>\n",
       "      <td>1.760</td>\n",
       "    </tr>\n",
       "    <tr>\n",
       "      <th>24054</th>\n",
       "      <td>USA</td>\n",
       "      <td>United States</td>\n",
       "      <td>2007</td>\n",
       "      <td>6131.004</td>\n",
       "      <td>6618.792</td>\n",
       "      <td>1.31</td>\n",
       "      <td>79.336</td>\n",
       "      <td>487.787</td>\n",
       "      <td>20.395</td>\n",
       "      <td>22.018</td>\n",
       "      <td>...</td>\n",
       "      <td>21.959</td>\n",
       "      <td>708.39</td>\n",
       "      <td>2.357</td>\n",
       "      <td>273.08</td>\n",
       "      <td>0.908</td>\n",
       "      <td>300608425.0</td>\n",
       "      <td>1.536446e+13</td>\n",
       "      <td>26943.482</td>\n",
       "      <td>89629.957</td>\n",
       "      <td>1.750</td>\n",
       "    </tr>\n",
       "    <tr>\n",
       "      <th>24055</th>\n",
       "      <td>USA</td>\n",
       "      <td>United States</td>\n",
       "      <td>2008</td>\n",
       "      <td>5914.078</td>\n",
       "      <td>6313.033</td>\n",
       "      <td>-3.54</td>\n",
       "      <td>-216.926</td>\n",
       "      <td>398.956</td>\n",
       "      <td>19.487</td>\n",
       "      <td>20.802</td>\n",
       "      <td>...</td>\n",
       "      <td>20.651</td>\n",
       "      <td>684.28</td>\n",
       "      <td>2.255</td>\n",
       "      <td>252.55</td>\n",
       "      <td>0.832</td>\n",
       "      <td>303486022.0</td>\n",
       "      <td>1.531973e+13</td>\n",
       "      <td>26277.996</td>\n",
       "      <td>86587.174</td>\n",
       "      <td>1.718</td>\n",
       "    </tr>\n",
       "    <tr>\n",
       "      <th>24056</th>\n",
       "      <td>USA</td>\n",
       "      <td>United States</td>\n",
       "      <td>2009</td>\n",
       "      <td>5478.210</td>\n",
       "      <td>5795.485</td>\n",
       "      <td>-7.37</td>\n",
       "      <td>-435.868</td>\n",
       "      <td>317.275</td>\n",
       "      <td>17.885</td>\n",
       "      <td>18.920</td>\n",
       "      <td>...</td>\n",
       "      <td>19.150</td>\n",
       "      <td>679.85</td>\n",
       "      <td>2.219</td>\n",
       "      <td>246.01</td>\n",
       "      <td>0.803</td>\n",
       "      <td>306307565.0</td>\n",
       "      <td>1.489429e+13</td>\n",
       "      <td>24978.914</td>\n",
       "      <td>81548.356</td>\n",
       "      <td>1.676</td>\n",
       "    </tr>\n",
       "    <tr>\n",
       "      <th>24057</th>\n",
       "      <td>USA</td>\n",
       "      <td>United States</td>\n",
       "      <td>2010</td>\n",
       "      <td>5675.786</td>\n",
       "      <td>5998.163</td>\n",
       "      <td>3.61</td>\n",
       "      <td>197.577</td>\n",
       "      <td>322.376</td>\n",
       "      <td>18.368</td>\n",
       "      <td>19.411</td>\n",
       "      <td>...</td>\n",
       "      <td>19.779</td>\n",
       "      <td>679.25</td>\n",
       "      <td>2.198</td>\n",
       "      <td>250.84</td>\n",
       "      <td>0.812</td>\n",
       "      <td>309011469.0</td>\n",
       "      <td>1.527062e+13</td>\n",
       "      <td>25825.740</td>\n",
       "      <td>83575.469</td>\n",
       "      <td>1.688</td>\n",
       "    </tr>\n",
       "    <tr>\n",
       "      <th>24058</th>\n",
       "      <td>USA</td>\n",
       "      <td>United States</td>\n",
       "      <td>2011</td>\n",
       "      <td>5540.173</td>\n",
       "      <td>5942.503</td>\n",
       "      <td>-2.39</td>\n",
       "      <td>-135.613</td>\n",
       "      <td>402.329</td>\n",
       "      <td>17.781</td>\n",
       "      <td>19.072</td>\n",
       "      <td>...</td>\n",
       "      <td>20.013</td>\n",
       "      <td>670.49</td>\n",
       "      <td>2.152</td>\n",
       "      <td>261.57</td>\n",
       "      <td>0.839</td>\n",
       "      <td>311584051.0</td>\n",
       "      <td>1.550930e+13</td>\n",
       "      <td>25580.121</td>\n",
       "      <td>82097.030</td>\n",
       "      <td>1.650</td>\n",
       "    </tr>\n",
       "    <tr>\n",
       "      <th>24059</th>\n",
       "      <td>USA</td>\n",
       "      <td>United States</td>\n",
       "      <td>2012</td>\n",
       "      <td>5338.698</td>\n",
       "      <td>5714.303</td>\n",
       "      <td>-3.64</td>\n",
       "      <td>-201.475</td>\n",
       "      <td>375.604</td>\n",
       "      <td>17.000</td>\n",
       "      <td>18.196</td>\n",
       "      <td>...</td>\n",
       "      <td>18.902</td>\n",
       "      <td>648.75</td>\n",
       "      <td>2.066</td>\n",
       "      <td>251.80</td>\n",
       "      <td>0.802</td>\n",
       "      <td>314043885.0</td>\n",
       "      <td>1.584964e+13</td>\n",
       "      <td>24913.288</td>\n",
       "      <td>79330.565</td>\n",
       "      <td>1.567</td>\n",
       "    </tr>\n",
       "    <tr>\n",
       "      <th>24060</th>\n",
       "      <td>USA</td>\n",
       "      <td>United States</td>\n",
       "      <td>2013</td>\n",
       "      <td>5474.257</td>\n",
       "      <td>5797.617</td>\n",
       "      <td>2.54</td>\n",
       "      <td>135.558</td>\n",
       "      <td>323.361</td>\n",
       "      <td>17.302</td>\n",
       "      <td>18.324</td>\n",
       "      <td>...</td>\n",
       "      <td>19.141</td>\n",
       "      <td>643.66</td>\n",
       "      <td>2.034</td>\n",
       "      <td>251.19</td>\n",
       "      <td>0.794</td>\n",
       "      <td>316400539.0</td>\n",
       "      <td>1.610843e+13</td>\n",
       "      <td>25582.098</td>\n",
       "      <td>80853.407</td>\n",
       "      <td>1.589</td>\n",
       "    </tr>\n",
       "    <tr>\n",
       "      <th>24061</th>\n",
       "      <td>USA</td>\n",
       "      <td>United States</td>\n",
       "      <td>2014</td>\n",
       "      <td>5522.807</td>\n",
       "      <td>5823.158</td>\n",
       "      <td>0.89</td>\n",
       "      <td>48.550</td>\n",
       "      <td>300.350</td>\n",
       "      <td>17.331</td>\n",
       "      <td>18.273</td>\n",
       "      <td>...</td>\n",
       "      <td>19.135</td>\n",
       "      <td>650.62</td>\n",
       "      <td>2.042</td>\n",
       "      <td>251.37</td>\n",
       "      <td>0.789</td>\n",
       "      <td>318673422.0</td>\n",
       "      <td>1.648266e+13</td>\n",
       "      <td>25848.401</td>\n",
       "      <td>81112.618</td>\n",
       "      <td>1.567</td>\n",
       "    </tr>\n",
       "    <tr>\n",
       "      <th>24062</th>\n",
       "      <td>USA</td>\n",
       "      <td>United States</td>\n",
       "      <td>2015</td>\n",
       "      <td>5371.771</td>\n",
       "      <td>5699.688</td>\n",
       "      <td>-2.73</td>\n",
       "      <td>-151.037</td>\n",
       "      <td>327.918</td>\n",
       "      <td>16.741</td>\n",
       "      <td>17.763</td>\n",
       "      <td>...</td>\n",
       "      <td>18.594</td>\n",
       "      <td>648.55</td>\n",
       "      <td>2.021</td>\n",
       "      <td>249.24</td>\n",
       "      <td>0.777</td>\n",
       "      <td>320878312.0</td>\n",
       "      <td>1.690258e+13</td>\n",
       "      <td>25596.966</td>\n",
       "      <td>79771.642</td>\n",
       "      <td>1.515</td>\n",
       "    </tr>\n",
       "    <tr>\n",
       "      <th>24063</th>\n",
       "      <td>USA</td>\n",
       "      <td>United States</td>\n",
       "      <td>2016</td>\n",
       "      <td>5248.024</td>\n",
       "      <td>5576.720</td>\n",
       "      <td>-2.30</td>\n",
       "      <td>-123.747</td>\n",
       "      <td>328.696</td>\n",
       "      <td>16.247</td>\n",
       "      <td>17.264</td>\n",
       "      <td>...</td>\n",
       "      <td>18.059</td>\n",
       "      <td>629.38</td>\n",
       "      <td>1.948</td>\n",
       "      <td>251.70</td>\n",
       "      <td>0.779</td>\n",
       "      <td>323015992.0</td>\n",
       "      <td>1.716256e+13</td>\n",
       "      <td>25560.520</td>\n",
       "      <td>79130.818</td>\n",
       "      <td>1.486</td>\n",
       "    </tr>\n",
       "    <tr>\n",
       "      <th>24064</th>\n",
       "      <td>USA</td>\n",
       "      <td>United States</td>\n",
       "      <td>2017</td>\n",
       "      <td>5207.751</td>\n",
       "      <td>5550.772</td>\n",
       "      <td>-0.77</td>\n",
       "      <td>-40.273</td>\n",
       "      <td>343.021</td>\n",
       "      <td>16.020</td>\n",
       "      <td>17.075</td>\n",
       "      <td>...</td>\n",
       "      <td>NaN</td>\n",
       "      <td>NaN</td>\n",
       "      <td>NaN</td>\n",
       "      <td>NaN</td>\n",
       "      <td>NaN</td>\n",
       "      <td>325084758.0</td>\n",
       "      <td>1.759628e+13</td>\n",
       "      <td>25647.389</td>\n",
       "      <td>78894.410</td>\n",
       "      <td>NaN</td>\n",
       "    </tr>\n",
       "    <tr>\n",
       "      <th>24065</th>\n",
       "      <td>USA</td>\n",
       "      <td>United States</td>\n",
       "      <td>2018</td>\n",
       "      <td>5375.491</td>\n",
       "      <td>5726.611</td>\n",
       "      <td>3.22</td>\n",
       "      <td>167.739</td>\n",
       "      <td>351.120</td>\n",
       "      <td>16.434</td>\n",
       "      <td>17.507</td>\n",
       "      <td>...</td>\n",
       "      <td>NaN</td>\n",
       "      <td>NaN</td>\n",
       "      <td>NaN</td>\n",
       "      <td>NaN</td>\n",
       "      <td>NaN</td>\n",
       "      <td>327096263.0</td>\n",
       "      <td>1.814065e+13</td>\n",
       "      <td>26556.388</td>\n",
       "      <td>81188.359</td>\n",
       "      <td>NaN</td>\n",
       "    </tr>\n",
       "    <tr>\n",
       "      <th>24066</th>\n",
       "      <td>USA</td>\n",
       "      <td>United States</td>\n",
       "      <td>2019</td>\n",
       "      <td>5255.816</td>\n",
       "      <td>5625.784</td>\n",
       "      <td>-2.23</td>\n",
       "      <td>-119.674</td>\n",
       "      <td>369.967</td>\n",
       "      <td>15.972</td>\n",
       "      <td>17.096</td>\n",
       "      <td>...</td>\n",
       "      <td>NaN</td>\n",
       "      <td>NaN</td>\n",
       "      <td>NaN</td>\n",
       "      <td>NaN</td>\n",
       "      <td>NaN</td>\n",
       "      <td>329064917.0</td>\n",
       "      <td>NaN</td>\n",
       "      <td>26291.355</td>\n",
       "      <td>79897.151</td>\n",
       "      <td>NaN</td>\n",
       "    </tr>\n",
       "  </tbody>\n",
       "</table>\n",
       "<p>30 rows × 58 columns</p>\n",
       "</div>"
      ],
      "text/plain": [
       "      iso_code        country  year       co2  consumption_co2  \\\n",
       "24037      USA  United States  1990  5113.455         5031.786   \n",
       "24038      USA  United States  1991  5057.931         4949.136   \n",
       "24039      USA  United States  1992  5167.481         5134.515   \n",
       "24040      USA  United States  1993  5267.343         5194.300   \n",
       "24041      USA  United States  1994  5358.824         5295.360   \n",
       "24042      USA  United States  1995  5421.502         5356.474   \n",
       "24043      USA  United States  1996  5610.582         5526.463   \n",
       "24044      USA  United States  1997  5686.465         5632.188   \n",
       "24045      USA  United States  1998  5731.050         5795.627   \n",
       "24046      USA  United States  1999  5804.669         5961.355   \n",
       "24047      USA  United States  2000  6010.508         6255.891   \n",
       "24048      USA  United States  2001  5904.882         6163.755   \n",
       "24049      USA  United States  2002  5946.771         6285.678   \n",
       "24050      USA  United States  2003  6011.837         6380.355   \n",
       "24051      USA  United States  2004  6114.007         6560.312   \n",
       "24052      USA  United States  2005  6134.521         6596.274   \n",
       "24053      USA  United States  2006  6051.668         6595.172   \n",
       "24054      USA  United States  2007  6131.004         6618.792   \n",
       "24055      USA  United States  2008  5914.078         6313.033   \n",
       "24056      USA  United States  2009  5478.210         5795.485   \n",
       "24057      USA  United States  2010  5675.786         5998.163   \n",
       "24058      USA  United States  2011  5540.173         5942.503   \n",
       "24059      USA  United States  2012  5338.698         5714.303   \n",
       "24060      USA  United States  2013  5474.257         5797.617   \n",
       "24061      USA  United States  2014  5522.807         5823.158   \n",
       "24062      USA  United States  2015  5371.771         5699.688   \n",
       "24063      USA  United States  2016  5248.024         5576.720   \n",
       "24064      USA  United States  2017  5207.751         5550.772   \n",
       "24065      USA  United States  2018  5375.491         5726.611   \n",
       "24066      USA  United States  2019  5255.816         5625.784   \n",
       "\n",
       "       co2_growth_prct  co2_growth_abs  trade_co2  co2_per_capita  \\\n",
       "24037            -0.36         -18.472    -81.669          20.282   \n",
       "24038            -1.09         -55.524   -108.795          19.871   \n",
       "24039             2.17         109.550    -32.966          20.108   \n",
       "24040             1.93          99.862    -73.043          20.296   \n",
       "24041             1.74          91.481    -63.464          20.435   \n",
       "24042             1.17          62.678    -65.028          20.446   \n",
       "24043             3.49         189.079    -84.119          20.909   \n",
       "24044             1.35          75.883    -54.277          20.928   \n",
       "24045             0.78          44.585     64.578          20.827   \n",
       "24046             1.28          73.619    156.686          20.839   \n",
       "24047             3.55         205.839    245.382          21.336   \n",
       "24048            -1.76        -105.627    258.874          20.747   \n",
       "24049             0.71          41.889    338.908          20.700   \n",
       "24050             1.09          65.067    368.517          20.744   \n",
       "24051             1.70         102.169    446.305          20.913   \n",
       "24052             0.34          20.515    461.753          20.795   \n",
       "24053            -1.35         -82.853    543.504          20.324   \n",
       "24054             1.31          79.336    487.787          20.395   \n",
       "24055            -3.54        -216.926    398.956          19.487   \n",
       "24056            -7.37        -435.868    317.275          17.885   \n",
       "24057             3.61         197.577    322.376          18.368   \n",
       "24058            -2.39        -135.613    402.329          17.781   \n",
       "24059            -3.64        -201.475    375.604          17.000   \n",
       "24060             2.54         135.558    323.361          17.302   \n",
       "24061             0.89          48.550    300.350          17.331   \n",
       "24062            -2.73        -151.037    327.918          16.741   \n",
       "24063            -2.30        -123.747    328.696          16.247   \n",
       "24064            -0.77         -40.273    343.021          16.020   \n",
       "24065             3.22         167.739    351.120          16.434   \n",
       "24066            -2.23        -119.674    369.967          15.972   \n",
       "\n",
       "       consumption_co2_per_capita  ...  ghg_per_capita  methane  \\\n",
       "24037                      19.958  ...          22.488   798.61   \n",
       "24038                      19.444  ...          22.110   801.89   \n",
       "24039                      19.979  ...          22.215   800.73   \n",
       "24040                      20.014  ...          22.422   783.55   \n",
       "24041                      20.193  ...          22.522   790.58   \n",
       "24042                      20.201  ...          22.517   777.91   \n",
       "24043                      20.595  ...          22.618   754.68   \n",
       "24044                      20.728  ...          23.196   734.60   \n",
       "24045                      21.062  ...          23.060   717.39   \n",
       "24046                      21.402  ...          22.853   708.26   \n",
       "24047                      22.207  ...          23.056   693.11   \n",
       "24048                      21.657  ...          22.626   693.96   \n",
       "24049                      21.880  ...          22.005   692.33   \n",
       "24050                      22.015  ...          21.921   685.60   \n",
       "24051                      22.440  ...          22.234   695.48   \n",
       "24052                      22.361  ...          21.958   684.70   \n",
       "24053                      22.149  ...          21.456   685.94   \n",
       "24054                      22.018  ...          21.959   708.39   \n",
       "24055                      20.802  ...          20.651   684.28   \n",
       "24056                      18.920  ...          19.150   679.85   \n",
       "24057                      19.411  ...          19.779   679.25   \n",
       "24058                      19.072  ...          20.013   670.49   \n",
       "24059                      18.196  ...          18.902   648.75   \n",
       "24060                      18.324  ...          19.141   643.66   \n",
       "24061                      18.273  ...          19.135   650.62   \n",
       "24062                      17.763  ...          18.594   648.55   \n",
       "24063                      17.264  ...          18.059   629.38   \n",
       "24064                      17.075  ...             NaN      NaN   \n",
       "24065                      17.507  ...             NaN      NaN   \n",
       "24066                      17.096  ...             NaN      NaN   \n",
       "\n",
       "       methane_per_capita  nitrous_oxide  nitrous_oxide_per_capita  \\\n",
       "24037               3.168         254.99                     1.011   \n",
       "24038               3.150         256.20                     1.007   \n",
       "24039               3.116         261.95                     1.019   \n",
       "24040               3.019         269.35                     1.038   \n",
       "24041               3.015         273.36                     1.042   \n",
       "24042               2.934         278.99                     1.052   \n",
       "24043               2.812         282.97                     1.055   \n",
       "24044               2.704         275.64                     1.014   \n",
       "24045               2.607         272.74                     0.991   \n",
       "24046               2.543         268.40                     0.964   \n",
       "24047               2.460         263.79                     0.936   \n",
       "24048               2.438         258.96                     0.910   \n",
       "24049               2.410         260.45                     0.907   \n",
       "24050               2.366         264.54                     0.913   \n",
       "24051               2.379         264.35                     0.904   \n",
       "24052               2.321         262.64                     0.890   \n",
       "24053               2.304         265.30                     0.891   \n",
       "24054               2.357         273.08                     0.908   \n",
       "24055               2.255         252.55                     0.832   \n",
       "24056               2.219         246.01                     0.803   \n",
       "24057               2.198         250.84                     0.812   \n",
       "24058               2.152         261.57                     0.839   \n",
       "24059               2.066         251.80                     0.802   \n",
       "24060               2.034         251.19                     0.794   \n",
       "24061               2.042         251.37                     0.789   \n",
       "24062               2.021         249.24                     0.777   \n",
       "24063               1.948         251.70                     0.779   \n",
       "24064                 NaN            NaN                       NaN   \n",
       "24065                 NaN            NaN                       NaN   \n",
       "24066                 NaN            NaN                       NaN   \n",
       "\n",
       "        population           gdp  primary_energy_consumption  \\\n",
       "24037  252120309.0  9.250378e+12                   22498.158   \n",
       "24038  254539371.0  9.243499e+12                   22466.677   \n",
       "24039  256990608.0  9.572148e+12                   22803.378   \n",
       "24040  259532130.0  9.834941e+12                   23279.396   \n",
       "24041  262241204.0  1.023202e+13                   23712.755   \n",
       "24042  265163740.0  1.051026e+13                   24222.295   \n",
       "24043  268335007.0  1.090917e+13                   25035.434   \n",
       "24044  271713634.0  1.139876e+13                   25225.640   \n",
       "24045  275175309.0  1.190603e+13                   25391.342   \n",
       "24046  278548148.0  1.246382e+13                   25840.805   \n",
       "24047  281710914.0  1.297384e+13                   26427.463   \n",
       "24048  284607992.0  1.310047e+13                   25804.055   \n",
       "24049  287279312.0  1.333449e+13                   26177.526   \n",
       "24050  289815567.0  1.370881e+13                   26259.752   \n",
       "24051  292354663.0  1.422788e+13                   26776.886   \n",
       "24052  294993509.0  1.470373e+13                   26788.164   \n",
       "24053  297758977.0  1.509588e+13                   26571.789   \n",
       "24054  300608425.0  1.536446e+13                   26943.482   \n",
       "24055  303486022.0  1.531973e+13                   26277.996   \n",
       "24056  306307565.0  1.489429e+13                   24978.914   \n",
       "24057  309011469.0  1.527062e+13                   25825.740   \n",
       "24058  311584051.0  1.550930e+13                   25580.121   \n",
       "24059  314043885.0  1.584964e+13                   24913.288   \n",
       "24060  316400539.0  1.610843e+13                   25582.098   \n",
       "24061  318673422.0  1.648266e+13                   25848.401   \n",
       "24062  320878312.0  1.690258e+13                   25596.966   \n",
       "24063  323015992.0  1.716256e+13                   25560.520   \n",
       "24064  325084758.0  1.759628e+13                   25647.389   \n",
       "24065  327096263.0  1.814065e+13                   26556.388   \n",
       "24066  329064917.0           NaN                   26291.355   \n",
       "\n",
       "       energy_per_capita  energy_per_gdp  \n",
       "24037          89235.912           2.432  \n",
       "24038          88264.181           2.431  \n",
       "24039          88732.202           2.383  \n",
       "24040          89697.594           2.366  \n",
       "24041          90423.527           2.325  \n",
       "24042          91348.356           2.307  \n",
       "24043          93299.171           2.297  \n",
       "24044          92838.946           2.213  \n",
       "24045          92273.429           2.134  \n",
       "24046          92769.666           2.067  \n",
       "24047          93810.546           2.033  \n",
       "24048          90665.250           1.970  \n",
       "24049          91122.307           1.968  \n",
       "24050          90608.360           1.917  \n",
       "24051          91590.312           1.886  \n",
       "24052          90809.188           1.822  \n",
       "24053          89239.243           1.760  \n",
       "24054          89629.957           1.750  \n",
       "24055          86587.174           1.718  \n",
       "24056          81548.356           1.676  \n",
       "24057          83575.469           1.688  \n",
       "24058          82097.030           1.650  \n",
       "24059          79330.565           1.567  \n",
       "24060          80853.407           1.589  \n",
       "24061          81112.618           1.567  \n",
       "24062          79771.642           1.515  \n",
       "24063          79130.818           1.486  \n",
       "24064          78894.410             NaN  \n",
       "24065          81188.359             NaN  \n",
       "24066          79897.151             NaN  \n",
       "\n",
       "[30 rows x 58 columns]"
      ]
     },
     "execution_count": 18,
     "metadata": {},
     "output_type": "execute_result"
    }
   ],
   "source": [
    "co2"
   ]
  },
  {
   "cell_type": "code",
   "execution_count": 19,
   "metadata": {},
   "outputs": [
    {
     "data": {
      "text/html": [
       "<div>\n",
       "<style scoped>\n",
       "    .dataframe tbody tr th:only-of-type {\n",
       "        vertical-align: middle;\n",
       "    }\n",
       "\n",
       "    .dataframe tbody tr th {\n",
       "        vertical-align: top;\n",
       "    }\n",
       "\n",
       "    .dataframe thead th {\n",
       "        text-align: right;\n",
       "    }\n",
       "</style>\n",
       "<table border=\"1\" class=\"dataframe\">\n",
       "  <thead>\n",
       "    <tr style=\"text-align: right;\">\n",
       "      <th></th>\n",
       "      <th>measure</th>\n",
       "      <th>location</th>\n",
       "      <th>sex</th>\n",
       "      <th>age</th>\n",
       "      <th>cause</th>\n",
       "      <th>rei</th>\n",
       "      <th>metric</th>\n",
       "      <th>year</th>\n",
       "      <th>val</th>\n",
       "      <th>upper</th>\n",
       "      <th>lower</th>\n",
       "      <th>location_clean</th>\n",
       "    </tr>\n",
       "  </thead>\n",
       "  <tbody>\n",
       "    <tr>\n",
       "      <th>0</th>\n",
       "      <td>Deaths</td>\n",
       "      <td>Lao People's Democratic Republic</td>\n",
       "      <td>Both</td>\n",
       "      <td>All Ages</td>\n",
       "      <td>Stomach cancer</td>\n",
       "      <td>All risk factors</td>\n",
       "      <td>Rate</td>\n",
       "      <td>1990</td>\n",
       "      <td>2.141225</td>\n",
       "      <td>3.986941</td>\n",
       "      <td>1.197598</td>\n",
       "      <td>LAO</td>\n",
       "    </tr>\n",
       "    <tr>\n",
       "      <th>1</th>\n",
       "      <td>Deaths</td>\n",
       "      <td>Lao People's Democratic Republic</td>\n",
       "      <td>Both</td>\n",
       "      <td>All Ages</td>\n",
       "      <td>Neurological disorders</td>\n",
       "      <td>All risk factors</td>\n",
       "      <td>Rate</td>\n",
       "      <td>1990</td>\n",
       "      <td>1.201337</td>\n",
       "      <td>3.796150</td>\n",
       "      <td>0.166485</td>\n",
       "      <td>LAO</td>\n",
       "    </tr>\n",
       "    <tr>\n",
       "      <th>2</th>\n",
       "      <td>Deaths</td>\n",
       "      <td>Oman</td>\n",
       "      <td>Both</td>\n",
       "      <td>All Ages</td>\n",
       "      <td>Other non-communicable diseases</td>\n",
       "      <td>Particulate matter pollution</td>\n",
       "      <td>Rate</td>\n",
       "      <td>1990</td>\n",
       "      <td>0.015407</td>\n",
       "      <td>0.045529</td>\n",
       "      <td>0.002352</td>\n",
       "      <td>OMN</td>\n",
       "    </tr>\n",
       "    <tr>\n",
       "      <th>3</th>\n",
       "      <td>Deaths</td>\n",
       "      <td>Oman</td>\n",
       "      <td>Both</td>\n",
       "      <td>All Ages</td>\n",
       "      <td>Other non-communicable diseases</td>\n",
       "      <td>All risk factors</td>\n",
       "      <td>Rate</td>\n",
       "      <td>1990</td>\n",
       "      <td>0.071865</td>\n",
       "      <td>0.185637</td>\n",
       "      <td>0.012971</td>\n",
       "      <td>OMN</td>\n",
       "    </tr>\n",
       "    <tr>\n",
       "      <th>4</th>\n",
       "      <td>Deaths</td>\n",
       "      <td>Oman</td>\n",
       "      <td>Both</td>\n",
       "      <td>All Ages</td>\n",
       "      <td>Other non-communicable diseases</td>\n",
       "      <td>Air pollution</td>\n",
       "      <td>Rate</td>\n",
       "      <td>1990</td>\n",
       "      <td>0.015407</td>\n",
       "      <td>0.045529</td>\n",
       "      <td>0.002352</td>\n",
       "      <td>OMN</td>\n",
       "    </tr>\n",
       "  </tbody>\n",
       "</table>\n",
       "</div>"
      ],
      "text/plain": [
       "  measure                          location   sex       age  \\\n",
       "0  Deaths  Lao People's Democratic Republic  Both  All Ages   \n",
       "1  Deaths  Lao People's Democratic Republic  Both  All Ages   \n",
       "2  Deaths                              Oman  Both  All Ages   \n",
       "3  Deaths                              Oman  Both  All Ages   \n",
       "4  Deaths                              Oman  Both  All Ages   \n",
       "\n",
       "                             cause                           rei metric  year  \\\n",
       "0                   Stomach cancer              All risk factors   Rate  1990   \n",
       "1           Neurological disorders              All risk factors   Rate  1990   \n",
       "2  Other non-communicable diseases  Particulate matter pollution   Rate  1990   \n",
       "3  Other non-communicable diseases              All risk factors   Rate  1990   \n",
       "4  Other non-communicable diseases                 Air pollution   Rate  1990   \n",
       "\n",
       "        val     upper     lower location_clean  \n",
       "0  2.141225  3.986941  1.197598            LAO  \n",
       "1  1.201337  3.796150  0.166485            LAO  \n",
       "2  0.015407  0.045529  0.002352            OMN  \n",
       "3  0.071865  0.185637  0.012971            OMN  \n",
       "4  0.015407  0.045529  0.002352            OMN  "
      ]
     },
     "execution_count": 19,
     "metadata": {},
     "output_type": "execute_result"
    }
   ],
   "source": [
    "cause_df.head()"
   ]
  },
  {
   "cell_type": "code",
   "execution_count": 109,
   "metadata": {},
   "outputs": [
    {
     "data": {
      "text/html": [
       "<div>\n",
       "<style scoped>\n",
       "    .dataframe tbody tr th:only-of-type {\n",
       "        vertical-align: middle;\n",
       "    }\n",
       "\n",
       "    .dataframe tbody tr th {\n",
       "        vertical-align: top;\n",
       "    }\n",
       "\n",
       "    .dataframe thead th {\n",
       "        text-align: right;\n",
       "    }\n",
       "</style>\n",
       "<table border=\"1\" class=\"dataframe\">\n",
       "  <thead>\n",
       "    <tr style=\"text-align: right;\">\n",
       "      <th></th>\n",
       "      <th>iso_code</th>\n",
       "      <th>year</th>\n",
       "      <th>val</th>\n",
       "    </tr>\n",
       "  </thead>\n",
       "  <tbody>\n",
       "    <tr>\n",
       "      <th>0</th>\n",
       "      <td>AFG</td>\n",
       "      <td>1990</td>\n",
       "      <td>42.032542</td>\n",
       "    </tr>\n",
       "    <tr>\n",
       "      <th>1</th>\n",
       "      <td>AFG</td>\n",
       "      <td>1991</td>\n",
       "      <td>38.573435</td>\n",
       "    </tr>\n",
       "    <tr>\n",
       "      <th>2</th>\n",
       "      <td>AFG</td>\n",
       "      <td>1992</td>\n",
       "      <td>34.110325</td>\n",
       "    </tr>\n",
       "    <tr>\n",
       "      <th>3</th>\n",
       "      <td>AFG</td>\n",
       "      <td>1993</td>\n",
       "      <td>31.944524</td>\n",
       "    </tr>\n",
       "    <tr>\n",
       "      <th>4</th>\n",
       "      <td>AFG</td>\n",
       "      <td>1994</td>\n",
       "      <td>31.411907</td>\n",
       "    </tr>\n",
       "  </tbody>\n",
       "</table>\n",
       "</div>"
      ],
      "text/plain": [
       "  iso_code  year        val\n",
       "0      AFG  1990  42.032542\n",
       "1      AFG  1991  38.573435\n",
       "2      AFG  1992  34.110325\n",
       "3      AFG  1993  31.944524\n",
       "4      AFG  1994  31.411907"
      ]
     },
     "execution_count": 109,
     "metadata": {},
     "output_type": "execute_result"
    }
   ],
   "source": [
    "x = cause_df[cause_df.rei==\"Air pollution\"].groupby(['location_clean', 'year']).agg(\n",
    "    val=('val', 'mean')\n",
    ").reset_index()\n",
    "x = x.rename({\"location_clean\": \"iso_code\"}, axis=1)\n",
    "x.head()"
   ]
  },
  {
   "cell_type": "code",
   "execution_count": 110,
   "metadata": {},
   "outputs": [],
   "source": [
    "co2_to_merge = co2_df[[\"iso_code\",\"year\", \"co2_per_capita\"]]"
   ]
  },
  {
   "cell_type": "code",
   "execution_count": 140,
   "metadata": {},
   "outputs": [],
   "source": [
    "pm25 = pd.read_csv(\"./dataset/pollution_pm25.csv\")\n",
    "ozone = pd.read_csv(\"./dataset/pollution_ozone.csv\")"
   ]
  },
  {
   "cell_type": "code",
   "execution_count": 141,
   "metadata": {},
   "outputs": [
    {
     "data": {
      "text/html": [
       "<div>\n",
       "<style scoped>\n",
       "    .dataframe tbody tr th:only-of-type {\n",
       "        vertical-align: middle;\n",
       "    }\n",
       "\n",
       "    .dataframe tbody tr th {\n",
       "        vertical-align: top;\n",
       "    }\n",
       "\n",
       "    .dataframe thead th {\n",
       "        text-align: right;\n",
       "    }\n",
       "</style>\n",
       "<table border=\"1\" class=\"dataframe\">\n",
       "  <thead>\n",
       "    <tr style=\"text-align: right;\">\n",
       "      <th></th>\n",
       "      <th>iso_code</th>\n",
       "      <th>year</th>\n",
       "      <th>pm25_exposure</th>\n",
       "    </tr>\n",
       "  </thead>\n",
       "  <tbody>\n",
       "    <tr>\n",
       "      <th>0</th>\n",
       "      <td>AFG</td>\n",
       "      <td>1990</td>\n",
       "      <td>49.3</td>\n",
       "    </tr>\n",
       "    <tr>\n",
       "      <th>1</th>\n",
       "      <td>AFG</td>\n",
       "      <td>1995</td>\n",
       "      <td>48.6</td>\n",
       "    </tr>\n",
       "    <tr>\n",
       "      <th>2</th>\n",
       "      <td>AFG</td>\n",
       "      <td>2000</td>\n",
       "      <td>51.6</td>\n",
       "    </tr>\n",
       "    <tr>\n",
       "      <th>3</th>\n",
       "      <td>AFG</td>\n",
       "      <td>2005</td>\n",
       "      <td>46.2</td>\n",
       "    </tr>\n",
       "    <tr>\n",
       "      <th>4</th>\n",
       "      <td>AFG</td>\n",
       "      <td>2010</td>\n",
       "      <td>51.8</td>\n",
       "    </tr>\n",
       "  </tbody>\n",
       "</table>\n",
       "</div>"
      ],
      "text/plain": [
       "  iso_code  year  pm25_exposure\n",
       "0      AFG  1990           49.3\n",
       "1      AFG  1995           48.6\n",
       "2      AFG  2000           51.6\n",
       "3      AFG  2005           46.2\n",
       "4      AFG  2010           51.8"
      ]
     },
     "execution_count": 141,
     "metadata": {},
     "output_type": "execute_result"
    }
   ],
   "source": [
    "pm25 = pm25[pm25.Type==\"country\"].rename({\"ISO3\": \"iso_code\", \"Year\": \"year\", \"Exposure Mean\": \"pm25_exposure\"}, axis=1)\n",
    "pm25 = pm25[['iso_code', 'year', 'pm25_exposure']] \n",
    "pm25.head()"
   ]
  },
  {
   "cell_type": "code",
   "execution_count": 142,
   "metadata": {},
   "outputs": [
    {
     "data": {
      "text/html": [
       "<div>\n",
       "<style scoped>\n",
       "    .dataframe tbody tr th:only-of-type {\n",
       "        vertical-align: middle;\n",
       "    }\n",
       "\n",
       "    .dataframe tbody tr th {\n",
       "        vertical-align: top;\n",
       "    }\n",
       "\n",
       "    .dataframe thead th {\n",
       "        text-align: right;\n",
       "    }\n",
       "</style>\n",
       "<table border=\"1\" class=\"dataframe\">\n",
       "  <thead>\n",
       "    <tr style=\"text-align: right;\">\n",
       "      <th></th>\n",
       "      <th>iso_code</th>\n",
       "      <th>year</th>\n",
       "      <th>ozone_exposure</th>\n",
       "    </tr>\n",
       "  </thead>\n",
       "  <tbody>\n",
       "    <tr>\n",
       "      <th>0</th>\n",
       "      <td>AFG</td>\n",
       "      <td>1990</td>\n",
       "      <td>56.6</td>\n",
       "    </tr>\n",
       "    <tr>\n",
       "      <th>1</th>\n",
       "      <td>AFG</td>\n",
       "      <td>1995</td>\n",
       "      <td>54.7</td>\n",
       "    </tr>\n",
       "    <tr>\n",
       "      <th>2</th>\n",
       "      <td>AFG</td>\n",
       "      <td>2000</td>\n",
       "      <td>56.3</td>\n",
       "    </tr>\n",
       "    <tr>\n",
       "      <th>3</th>\n",
       "      <td>AFG</td>\n",
       "      <td>2005</td>\n",
       "      <td>53.6</td>\n",
       "    </tr>\n",
       "    <tr>\n",
       "      <th>4</th>\n",
       "      <td>AFG</td>\n",
       "      <td>2010</td>\n",
       "      <td>53.0</td>\n",
       "    </tr>\n",
       "  </tbody>\n",
       "</table>\n",
       "</div>"
      ],
      "text/plain": [
       "  iso_code  year  ozone_exposure\n",
       "0      AFG  1990            56.6\n",
       "1      AFG  1995            54.7\n",
       "2      AFG  2000            56.3\n",
       "3      AFG  2005            53.6\n",
       "4      AFG  2010            53.0"
      ]
     },
     "execution_count": 142,
     "metadata": {},
     "output_type": "execute_result"
    }
   ],
   "source": [
    "ozone = ozone[ozone.Type==\"country\"].rename({\"ISO3\": \"iso_code\", \"Year\": \"year\", \"Exposure Mean\": \"ozone_exposure\"}, axis=1)\n",
    "ozone = ozone[['iso_code', 'year', 'ozone_exposure']]\n",
    "ozone.head()"
   ]
  },
  {
   "cell_type": "code",
   "execution_count": 160,
   "metadata": {},
   "outputs": [
    {
     "data": {
      "text/html": [
       "<div>\n",
       "<style scoped>\n",
       "    .dataframe tbody tr th:only-of-type {\n",
       "        vertical-align: middle;\n",
       "    }\n",
       "\n",
       "    .dataframe tbody tr th {\n",
       "        vertical-align: top;\n",
       "    }\n",
       "\n",
       "    .dataframe thead th {\n",
       "        text-align: right;\n",
       "    }\n",
       "</style>\n",
       "<table border=\"1\" class=\"dataframe\">\n",
       "  <thead>\n",
       "    <tr style=\"text-align: right;\">\n",
       "      <th></th>\n",
       "      <th>iso_code</th>\n",
       "      <th>year</th>\n",
       "      <th>pm25_exposure</th>\n",
       "      <th>ozone_exposure</th>\n",
       "    </tr>\n",
       "  </thead>\n",
       "  <tbody>\n",
       "    <tr>\n",
       "      <th>0</th>\n",
       "      <td>AFG</td>\n",
       "      <td>1990</td>\n",
       "      <td>49.3</td>\n",
       "      <td>56.6</td>\n",
       "    </tr>\n",
       "    <tr>\n",
       "      <th>1</th>\n",
       "      <td>AFG</td>\n",
       "      <td>1995</td>\n",
       "      <td>48.6</td>\n",
       "      <td>54.7</td>\n",
       "    </tr>\n",
       "    <tr>\n",
       "      <th>2</th>\n",
       "      <td>AFG</td>\n",
       "      <td>2000</td>\n",
       "      <td>51.6</td>\n",
       "      <td>56.3</td>\n",
       "    </tr>\n",
       "    <tr>\n",
       "      <th>3</th>\n",
       "      <td>AFG</td>\n",
       "      <td>2005</td>\n",
       "      <td>46.2</td>\n",
       "      <td>53.6</td>\n",
       "    </tr>\n",
       "    <tr>\n",
       "      <th>4</th>\n",
       "      <td>AFG</td>\n",
       "      <td>2010</td>\n",
       "      <td>51.8</td>\n",
       "      <td>53.0</td>\n",
       "    </tr>\n",
       "  </tbody>\n",
       "</table>\n",
       "</div>"
      ],
      "text/plain": [
       "  iso_code  year  pm25_exposure  ozone_exposure\n",
       "0      AFG  1990           49.3            56.6\n",
       "1      AFG  1995           48.6            54.7\n",
       "2      AFG  2000           51.6            56.3\n",
       "3      AFG  2005           46.2            53.6\n",
       "4      AFG  2010           51.8            53.0"
      ]
     },
     "execution_count": 160,
     "metadata": {},
     "output_type": "execute_result"
    }
   ],
   "source": [
    "poll = pd.merge(pm25, ozone, on=['iso_code', 'year'])\n",
    "poll.head()"
   ]
  },
  {
   "cell_type": "code",
   "execution_count": 163,
   "metadata": {},
   "outputs": [
    {
     "data": {
      "text/html": [
       "<div>\n",
       "<style scoped>\n",
       "    .dataframe tbody tr th:only-of-type {\n",
       "        vertical-align: middle;\n",
       "    }\n",
       "\n",
       "    .dataframe tbody tr th {\n",
       "        vertical-align: top;\n",
       "    }\n",
       "\n",
       "    .dataframe thead th {\n",
       "        text-align: right;\n",
       "    }\n",
       "</style>\n",
       "<table border=\"1\" class=\"dataframe\">\n",
       "  <thead>\n",
       "    <tr style=\"text-align: right;\">\n",
       "      <th></th>\n",
       "      <th>Entity</th>\n",
       "      <th>Code</th>\n",
       "      <th>Year</th>\n",
       "      <th>Coal per capita (kWh)</th>\n",
       "      <th>Oil per capita (kWh)</th>\n",
       "      <th>Gas per capita (kWh)</th>\n",
       "    </tr>\n",
       "  </thead>\n",
       "  <tbody>\n",
       "    <tr>\n",
       "      <th>0</th>\n",
       "      <td>Africa</td>\n",
       "      <td>NaN</td>\n",
       "      <td>1965</td>\n",
       "      <td>1010.462</td>\n",
       "      <td>1017.972</td>\n",
       "      <td>29.811</td>\n",
       "    </tr>\n",
       "    <tr>\n",
       "      <th>1</th>\n",
       "      <td>Africa</td>\n",
       "      <td>NaN</td>\n",
       "      <td>1966</td>\n",
       "      <td>984.358</td>\n",
       "      <td>1086.678</td>\n",
       "      <td>32.505</td>\n",
       "    </tr>\n",
       "    <tr>\n",
       "      <th>2</th>\n",
       "      <td>Africa</td>\n",
       "      <td>NaN</td>\n",
       "      <td>1967</td>\n",
       "      <td>981.169</td>\n",
       "      <td>1051.101</td>\n",
       "      <td>31.327</td>\n",
       "    </tr>\n",
       "    <tr>\n",
       "      <th>3</th>\n",
       "      <td>Africa</td>\n",
       "      <td>NaN</td>\n",
       "      <td>1968</td>\n",
       "      <td>994.883</td>\n",
       "      <td>1081.425</td>\n",
       "      <td>30.957</td>\n",
       "    </tr>\n",
       "    <tr>\n",
       "      <th>4</th>\n",
       "      <td>Africa</td>\n",
       "      <td>NaN</td>\n",
       "      <td>1969</td>\n",
       "      <td>978.624</td>\n",
       "      <td>1068.662</td>\n",
       "      <td>35.267</td>\n",
       "    </tr>\n",
       "  </tbody>\n",
       "</table>\n",
       "</div>"
      ],
      "text/plain": [
       "   Entity Code  Year  Coal per capita (kWh)  Oil per capita (kWh)  \\\n",
       "0  Africa  NaN  1965               1010.462              1017.972   \n",
       "1  Africa  NaN  1966                984.358              1086.678   \n",
       "2  Africa  NaN  1967                981.169              1051.101   \n",
       "3  Africa  NaN  1968                994.883              1081.425   \n",
       "4  Africa  NaN  1969                978.624              1068.662   \n",
       "\n",
       "   Gas per capita (kWh)  \n",
       "0                29.811  \n",
       "1                32.505  \n",
       "2                31.327  \n",
       "3                30.957  \n",
       "4                35.267  "
      ]
     },
     "execution_count": 163,
     "metadata": {},
     "output_type": "execute_result"
    }
   ],
   "source": [
    "fossil = pd.read_csv('./dataset/fossil-fuel-consumption-per-capita.csv')\n",
    "fossil.head()"
   ]
  },
  {
   "cell_type": "code",
   "execution_count": 171,
   "metadata": {},
   "outputs": [
    {
     "data": {
      "text/html": [
       "<div>\n",
       "<style scoped>\n",
       "    .dataframe tbody tr th:only-of-type {\n",
       "        vertical-align: middle;\n",
       "    }\n",
       "\n",
       "    .dataframe tbody tr th {\n",
       "        vertical-align: top;\n",
       "    }\n",
       "\n",
       "    .dataframe thead th {\n",
       "        text-align: right;\n",
       "    }\n",
       "</style>\n",
       "<table border=\"1\" class=\"dataframe\">\n",
       "  <thead>\n",
       "    <tr style=\"text-align: right;\">\n",
       "      <th></th>\n",
       "      <th>iso_code</th>\n",
       "      <th>year</th>\n",
       "      <th>Coal per capita (kWh)</th>\n",
       "      <th>Oil per capita (kWh)</th>\n",
       "      <th>Gas per capita (kWh)</th>\n",
       "    </tr>\n",
       "  </thead>\n",
       "  <tbody>\n",
       "    <tr>\n",
       "      <th>0</th>\n",
       "      <td>NaN</td>\n",
       "      <td>1965</td>\n",
       "      <td>1010.462</td>\n",
       "      <td>1017.972</td>\n",
       "      <td>29.811</td>\n",
       "    </tr>\n",
       "    <tr>\n",
       "      <th>1</th>\n",
       "      <td>NaN</td>\n",
       "      <td>1966</td>\n",
       "      <td>984.358</td>\n",
       "      <td>1086.678</td>\n",
       "      <td>32.505</td>\n",
       "    </tr>\n",
       "    <tr>\n",
       "      <th>2</th>\n",
       "      <td>NaN</td>\n",
       "      <td>1967</td>\n",
       "      <td>981.169</td>\n",
       "      <td>1051.101</td>\n",
       "      <td>31.327</td>\n",
       "    </tr>\n",
       "    <tr>\n",
       "      <th>3</th>\n",
       "      <td>NaN</td>\n",
       "      <td>1968</td>\n",
       "      <td>994.883</td>\n",
       "      <td>1081.425</td>\n",
       "      <td>30.957</td>\n",
       "    </tr>\n",
       "    <tr>\n",
       "      <th>4</th>\n",
       "      <td>NaN</td>\n",
       "      <td>1969</td>\n",
       "      <td>978.624</td>\n",
       "      <td>1068.662</td>\n",
       "      <td>35.267</td>\n",
       "    </tr>\n",
       "  </tbody>\n",
       "</table>\n",
       "</div>"
      ],
      "text/plain": [
       "  iso_code  year  Coal per capita (kWh)  Oil per capita (kWh)  \\\n",
       "0      NaN  1965               1010.462              1017.972   \n",
       "1      NaN  1966                984.358              1086.678   \n",
       "2      NaN  1967                981.169              1051.101   \n",
       "3      NaN  1968                994.883              1081.425   \n",
       "4      NaN  1969                978.624              1068.662   \n",
       "\n",
       "   Gas per capita (kWh)  \n",
       "0                29.811  \n",
       "1                32.505  \n",
       "2                31.327  \n",
       "3                30.957  \n",
       "4                35.267  "
      ]
     },
     "execution_count": 171,
     "metadata": {},
     "output_type": "execute_result"
    }
   ],
   "source": [
    "fossil = fossil.rename({\"Code\": \"iso_code\", \"Year\": \"year\"}, axis=1).drop(\"Entity\", axis=1)\n",
    "fossil.head()"
   ]
  },
  {
   "cell_type": "code",
   "execution_count": 173,
   "metadata": {},
   "outputs": [],
   "source": [
    "poll = pd.merge(poll, fossil, on=['iso_code', 'year'])"
   ]
  },
  {
   "cell_type": "code",
   "execution_count": 231,
   "metadata": {},
   "outputs": [
    {
     "data": {
      "text/html": [
       "<div>\n",
       "<style scoped>\n",
       "    .dataframe tbody tr th:only-of-type {\n",
       "        vertical-align: middle;\n",
       "    }\n",
       "\n",
       "    .dataframe tbody tr th {\n",
       "        vertical-align: top;\n",
       "    }\n",
       "\n",
       "    .dataframe thead th {\n",
       "        text-align: right;\n",
       "    }\n",
       "</style>\n",
       "<table border=\"1\" class=\"dataframe\">\n",
       "  <thead>\n",
       "    <tr style=\"text-align: right;\">\n",
       "      <th></th>\n",
       "      <th>iso_code</th>\n",
       "      <th>year</th>\n",
       "      <th>val</th>\n",
       "      <th>pm25_exposure</th>\n",
       "      <th>ozone_exposure</th>\n",
       "      <th>Coal per capita (kWh)</th>\n",
       "      <th>Oil per capita (kWh)</th>\n",
       "      <th>Gas per capita (kWh)</th>\n",
       "    </tr>\n",
       "  </thead>\n",
       "  <tbody>\n",
       "    <tr>\n",
       "      <th>0</th>\n",
       "      <td>ARE</td>\n",
       "      <td>1990</td>\n",
       "      <td>6.429873</td>\n",
       "      <td>43.7</td>\n",
       "      <td>57.9</td>\n",
       "      <td>0.000</td>\n",
       "      <td>99642.132</td>\n",
       "      <td>90192.906</td>\n",
       "    </tr>\n",
       "    <tr>\n",
       "      <th>1</th>\n",
       "      <td>ARE</td>\n",
       "      <td>1995</td>\n",
       "      <td>6.867604</td>\n",
       "      <td>43.5</td>\n",
       "      <td>56.7</td>\n",
       "      <td>0.000</td>\n",
       "      <td>101689.557</td>\n",
       "      <td>100083.931</td>\n",
       "    </tr>\n",
       "    <tr>\n",
       "      <th>2</th>\n",
       "      <td>ARE</td>\n",
       "      <td>2000</td>\n",
       "      <td>6.482397</td>\n",
       "      <td>43.6</td>\n",
       "      <td>63.0</td>\n",
       "      <td>0.000</td>\n",
       "      <td>74163.656</td>\n",
       "      <td>97780.072</td>\n",
       "    </tr>\n",
       "    <tr>\n",
       "      <th>3</th>\n",
       "      <td>ARE</td>\n",
       "      <td>2005</td>\n",
       "      <td>5.935968</td>\n",
       "      <td>43.2</td>\n",
       "      <td>59.2</td>\n",
       "      <td>368.642</td>\n",
       "      <td>64637.917</td>\n",
       "      <td>89360.904</td>\n",
       "    </tr>\n",
       "    <tr>\n",
       "      <th>4</th>\n",
       "      <td>ARE</td>\n",
       "      <td>2010</td>\n",
       "      <td>4.130418</td>\n",
       "      <td>43.5</td>\n",
       "      <td>58.0</td>\n",
       "      <td>895.067</td>\n",
       "      <td>43742.978</td>\n",
       "      <td>69323.616</td>\n",
       "    </tr>\n",
       "  </tbody>\n",
       "</table>\n",
       "</div>"
      ],
      "text/plain": [
       "  iso_code  year       val  pm25_exposure  ozone_exposure  \\\n",
       "0      ARE  1990  6.429873           43.7            57.9   \n",
       "1      ARE  1995  6.867604           43.5            56.7   \n",
       "2      ARE  2000  6.482397           43.6            63.0   \n",
       "3      ARE  2005  5.935968           43.2            59.2   \n",
       "4      ARE  2010  4.130418           43.5            58.0   \n",
       "\n",
       "   Coal per capita (kWh)  Oil per capita (kWh)  Gas per capita (kWh)  \n",
       "0                  0.000             99642.132             90192.906  \n",
       "1                  0.000            101689.557            100083.931  \n",
       "2                  0.000             74163.656             97780.072  \n",
       "3                368.642             64637.917             89360.904  \n",
       "4                895.067             43742.978             69323.616  "
      ]
     },
     "execution_count": 231,
     "metadata": {},
     "output_type": "execute_result"
    }
   ],
   "source": [
    "# dataset = pd.merge(x, co2_to_merge, on=['iso_code', 'year'])\n",
    "dataset = pd.merge(x, poll, on=['iso_code', 'year'])\n",
    "dataset.head()"
   ]
  },
  {
   "cell_type": "code",
   "execution_count": 232,
   "metadata": {},
   "outputs": [
    {
     "data": {
      "text/html": [
       "<div>\n",
       "<style scoped>\n",
       "    .dataframe tbody tr th:only-of-type {\n",
       "        vertical-align: middle;\n",
       "    }\n",
       "\n",
       "    .dataframe tbody tr th {\n",
       "        vertical-align: top;\n",
       "    }\n",
       "\n",
       "    .dataframe thead th {\n",
       "        text-align: right;\n",
       "    }\n",
       "</style>\n",
       "<table border=\"1\" class=\"dataframe\">\n",
       "  <thead>\n",
       "    <tr style=\"text-align: right;\">\n",
       "      <th></th>\n",
       "      <th>iso_code</th>\n",
       "      <th>year</th>\n",
       "      <th>val</th>\n",
       "      <th>pm25_exposure</th>\n",
       "      <th>ozone_exposure</th>\n",
       "      <th>Coal per capita (kWh)</th>\n",
       "      <th>Oil per capita (kWh)</th>\n",
       "      <th>Gas per capita (kWh)</th>\n",
       "    </tr>\n",
       "  </thead>\n",
       "  <tbody>\n",
       "  </tbody>\n",
       "</table>\n",
       "</div>"
      ],
      "text/plain": [
       "Empty DataFrame\n",
       "Columns: [iso_code, year, val, pm25_exposure, ozone_exposure, Coal per capita (kWh), Oil per capita (kWh), Gas per capita (kWh)]\n",
       "Index: []"
      ]
     },
     "execution_count": 232,
     "metadata": {},
     "output_type": "execute_result"
    }
   ],
   "source": [
    "# lets fix these\n",
    "dataset[dataset.isna().any(axis=1)]"
   ]
  },
  {
   "cell_type": "code",
   "execution_count": 233,
   "metadata": {},
   "outputs": [
    {
     "data": {
      "text/html": [
       "<div>\n",
       "<style scoped>\n",
       "    .dataframe tbody tr th:only-of-type {\n",
       "        vertical-align: middle;\n",
       "    }\n",
       "\n",
       "    .dataframe tbody tr th {\n",
       "        vertical-align: top;\n",
       "    }\n",
       "\n",
       "    .dataframe thead th {\n",
       "        text-align: right;\n",
       "    }\n",
       "</style>\n",
       "<table border=\"1\" class=\"dataframe\">\n",
       "  <thead>\n",
       "    <tr style=\"text-align: right;\">\n",
       "      <th></th>\n",
       "      <th>pm25_exposure</th>\n",
       "      <th>ozone_exposure</th>\n",
       "      <th>Coal per capita (kWh)</th>\n",
       "      <th>Oil per capita (kWh)</th>\n",
       "      <th>Gas per capita (kWh)</th>\n",
       "    </tr>\n",
       "  </thead>\n",
       "  <tbody>\n",
       "    <tr>\n",
       "      <th>0</th>\n",
       "      <td>43.7</td>\n",
       "      <td>57.9</td>\n",
       "      <td>0.000</td>\n",
       "      <td>99642.132</td>\n",
       "      <td>90192.906</td>\n",
       "    </tr>\n",
       "    <tr>\n",
       "      <th>1</th>\n",
       "      <td>43.5</td>\n",
       "      <td>56.7</td>\n",
       "      <td>0.000</td>\n",
       "      <td>101689.557</td>\n",
       "      <td>100083.931</td>\n",
       "    </tr>\n",
       "    <tr>\n",
       "      <th>2</th>\n",
       "      <td>43.6</td>\n",
       "      <td>63.0</td>\n",
       "      <td>0.000</td>\n",
       "      <td>74163.656</td>\n",
       "      <td>97780.072</td>\n",
       "    </tr>\n",
       "    <tr>\n",
       "      <th>3</th>\n",
       "      <td>43.2</td>\n",
       "      <td>59.2</td>\n",
       "      <td>368.642</td>\n",
       "      <td>64637.917</td>\n",
       "      <td>89360.904</td>\n",
       "    </tr>\n",
       "    <tr>\n",
       "      <th>4</th>\n",
       "      <td>43.5</td>\n",
       "      <td>58.0</td>\n",
       "      <td>895.067</td>\n",
       "      <td>43742.978</td>\n",
       "      <td>69323.616</td>\n",
       "    </tr>\n",
       "    <tr>\n",
       "      <th>...</th>\n",
       "      <td>...</td>\n",
       "      <td>...</td>\n",
       "      <td>...</td>\n",
       "      <td>...</td>\n",
       "      <td>...</td>\n",
       "    </tr>\n",
       "    <tr>\n",
       "      <th>1045</th>\n",
       "      <td>29.2</td>\n",
       "      <td>37.1</td>\n",
       "      <td>17630.603</td>\n",
       "      <td>6009.058</td>\n",
       "      <td>779.733</td>\n",
       "    </tr>\n",
       "    <tr>\n",
       "      <th>1046</th>\n",
       "      <td>28.7</td>\n",
       "      <td>37.3</td>\n",
       "      <td>18681.591</td>\n",
       "      <td>5584.721</td>\n",
       "      <td>809.305</td>\n",
       "    </tr>\n",
       "    <tr>\n",
       "      <th>1047</th>\n",
       "      <td>28.9</td>\n",
       "      <td>39.2</td>\n",
       "      <td>18118.674</td>\n",
       "      <td>5487.286</td>\n",
       "      <td>777.792</td>\n",
       "    </tr>\n",
       "    <tr>\n",
       "      <th>1048</th>\n",
       "      <td>28.8</td>\n",
       "      <td>39.6</td>\n",
       "      <td>18074.562</td>\n",
       "      <td>5551.504</td>\n",
       "      <td>773.954</td>\n",
       "    </tr>\n",
       "    <tr>\n",
       "      <th>1049</th>\n",
       "      <td>28.7</td>\n",
       "      <td>39.9</td>\n",
       "      <td>18091.308</td>\n",
       "      <td>5613.994</td>\n",
       "      <td>731.420</td>\n",
       "    </tr>\n",
       "  </tbody>\n",
       "</table>\n",
       "<p>1050 rows × 5 columns</p>\n",
       "</div>"
      ],
      "text/plain": [
       "      pm25_exposure  ozone_exposure  Coal per capita (kWh)  \\\n",
       "0              43.7            57.9                  0.000   \n",
       "1              43.5            56.7                  0.000   \n",
       "2              43.6            63.0                  0.000   \n",
       "3              43.2            59.2                368.642   \n",
       "4              43.5            58.0                895.067   \n",
       "...             ...             ...                    ...   \n",
       "1045           29.2            37.1              17630.603   \n",
       "1046           28.7            37.3              18681.591   \n",
       "1047           28.9            39.2              18118.674   \n",
       "1048           28.8            39.6              18074.562   \n",
       "1049           28.7            39.9              18091.308   \n",
       "\n",
       "      Oil per capita (kWh)  Gas per capita (kWh)  \n",
       "0                99642.132             90192.906  \n",
       "1               101689.557            100083.931  \n",
       "2                74163.656             97780.072  \n",
       "3                64637.917             89360.904  \n",
       "4                43742.978             69323.616  \n",
       "...                    ...                   ...  \n",
       "1045              6009.058               779.733  \n",
       "1046              5584.721               809.305  \n",
       "1047              5487.286               777.792  \n",
       "1048              5551.504               773.954  \n",
       "1049              5613.994               731.420  \n",
       "\n",
       "[1050 rows x 5 columns]"
      ]
     },
     "execution_count": 233,
     "metadata": {},
     "output_type": "execute_result"
    }
   ],
   "source": [
    "# dataset = dataset[dataset.iso_code!=\"PRI\"]\n",
    "# dataset = dataset.fillna(method='backfill')\n",
    "dataset.iloc[:, 3:]"
   ]
  },
  {
   "cell_type": "code",
   "execution_count": 234,
   "metadata": {},
   "outputs": [
    {
     "data": {
      "text/plain": [
       "0       6.429873\n",
       "1       6.867604\n",
       "2       6.482397\n",
       "3       5.935968\n",
       "4       4.130418\n",
       "          ...   \n",
       "1045    8.802078\n",
       "1046    8.674023\n",
       "1047    8.492356\n",
       "1048    7.869987\n",
       "1049    7.627827\n",
       "Name: val, Length: 1050, dtype: float64"
      ]
     },
     "execution_count": 234,
     "metadata": {},
     "output_type": "execute_result"
    }
   ],
   "source": [
    "dataset.iloc[:,2]"
   ]
  },
  {
   "cell_type": "code",
   "execution_count": 235,
   "metadata": {},
   "outputs": [],
   "source": [
    "from sklearn.model_selection import train_test_split\n",
    "from sklearn.metrics import mean_squared_error, r2_score"
   ]
  },
  {
   "cell_type": "code",
   "execution_count": null,
   "metadata": {},
   "outputs": [],
   "source": []
  },
  {
   "cell_type": "code",
   "execution_count": 236,
   "metadata": {},
   "outputs": [],
   "source": [
    "X_train, X_test, y_train, y_test = train_test_split(\n",
    "    dataset.iloc[:, 3:],\n",
    "    dataset.iloc[:, 2],\n",
    "    test_size=0.2,\n",
    "    random_state=109,\n",
    ")\n"
   ]
  },
  {
   "cell_type": "code",
   "execution_count": 247,
   "metadata": {},
   "outputs": [],
   "source": [
    "from sklearn.decomposition import PCA as sklearnPCA\n",
    "pca = sklearnPCA(n_components=3) #2-dimensional PCA\n",
    "transformed = pd.DataFrame(pca.fit_transform(X_train))"
   ]
  },
  {
   "cell_type": "code",
   "execution_count": 256,
   "metadata": {},
   "outputs": [
    {
     "data": {
      "text/html": [
       "<div>\n",
       "<style scoped>\n",
       "    .dataframe tbody tr th:only-of-type {\n",
       "        vertical-align: middle;\n",
       "    }\n",
       "\n",
       "    .dataframe tbody tr th {\n",
       "        vertical-align: top;\n",
       "    }\n",
       "\n",
       "    .dataframe thead th {\n",
       "        text-align: right;\n",
       "    }\n",
       "</style>\n",
       "<table border=\"1\" class=\"dataframe\">\n",
       "  <thead>\n",
       "    <tr style=\"text-align: right;\">\n",
       "      <th></th>\n",
       "      <th>pm25_exposure</th>\n",
       "      <th>ozone_exposure</th>\n",
       "      <th>Coal per capita (kWh)</th>\n",
       "      <th>Oil per capita (kWh)</th>\n",
       "      <th>Gas per capita (kWh)</th>\n",
       "    </tr>\n",
       "  </thead>\n",
       "  <tbody>\n",
       "    <tr>\n",
       "      <th>392</th>\n",
       "      <td>0.231710</td>\n",
       "      <td>0.577878</td>\n",
       "      <td>0.047029</td>\n",
       "      <td>0.073822</td>\n",
       "      <td>0.019620</td>\n",
       "    </tr>\n",
       "    <tr>\n",
       "      <th>819</th>\n",
       "      <td>0.124972</td>\n",
       "      <td>0.345372</td>\n",
       "      <td>0.081098</td>\n",
       "      <td>0.030505</td>\n",
       "      <td>0.020867</td>\n",
       "    </tr>\n",
       "    <tr>\n",
       "      <th>999</th>\n",
       "      <td>0.401823</td>\n",
       "      <td>0.577878</td>\n",
       "      <td>0.010468</td>\n",
       "      <td>0.007916</td>\n",
       "      <td>0.060002</td>\n",
       "    </tr>\n",
       "    <tr>\n",
       "      <th>322</th>\n",
       "      <td>0.051701</td>\n",
       "      <td>0.257336</td>\n",
       "      <td>0.988994</td>\n",
       "      <td>0.173753</td>\n",
       "      <td>0.033349</td>\n",
       "    </tr>\n",
       "    <tr>\n",
       "      <th>478</th>\n",
       "      <td>0.507449</td>\n",
       "      <td>0.792325</td>\n",
       "      <td>0.000000</td>\n",
       "      <td>0.072220</td>\n",
       "      <td>0.004676</td>\n",
       "    </tr>\n",
       "  </tbody>\n",
       "</table>\n",
       "</div>"
      ],
      "text/plain": [
       "     pm25_exposure  ozone_exposure  Coal per capita (kWh)  \\\n",
       "392       0.231710        0.577878               0.047029   \n",
       "819       0.124972        0.345372               0.081098   \n",
       "999       0.401823        0.577878               0.010468   \n",
       "322       0.051701        0.257336               0.988994   \n",
       "478       0.507449        0.792325               0.000000   \n",
       "\n",
       "     Oil per capita (kWh)  Gas per capita (kWh)  \n",
       "392              0.073822              0.019620  \n",
       "819              0.030505              0.020867  \n",
       "999              0.007916              0.060002  \n",
       "322              0.173753              0.033349  \n",
       "478              0.072220              0.004676  "
      ]
     },
     "execution_count": 256,
     "metadata": {},
     "output_type": "execute_result"
    }
   ],
   "source": [
    "X_norm = (X_train - X_train.min())/(X_train.max() - X_train.min())\n",
    "X_test_norm = (X_test - X_test.min())/(X_test.max() - X_test.min())\n",
    "X_norm.head()"
   ]
  },
  {
   "cell_type": "code",
   "execution_count": 252,
   "metadata": {},
   "outputs": [
    {
     "data": {
      "text/plain": [
       "RandomForestRegressor(random_state=0)"
      ]
     },
     "execution_count": 252,
     "metadata": {},
     "output_type": "execute_result"
    }
   ],
   "source": [
    "# Fitting Random Forest Regression to the dataset\n",
    "# import the regressor\n",
    "from sklearn.ensemble import RandomForestRegressor\n",
    "  \n",
    " # create regressor object\n",
    "regressor = RandomForestRegressor(n_estimators = 100, random_state = 0)\n",
    "  \n",
    "# fit the regressor with x and y data\n",
    "regressor.fit(X_norm, y_train) "
   ]
  },
  {
   "cell_type": "code",
   "execution_count": 265,
   "metadata": {},
   "outputs": [],
   "source": [
    "y_pred = regressor.predict(X_test_norm)"
   ]
  },
  {
   "cell_type": "code",
   "execution_count": 271,
   "metadata": {},
   "outputs": [
    {
     "data": {
      "image/png": "[encoded data removed]",
      "text/plain": [
       "<Figure size 432x288 with 1 Axes>"
      ]
     },
     "metadata": {
      "needs_background": "light"
     },
     "output_type": "display_data"
    }
   ],
   "source": [
    "f_i = list(zip(X_norm.columns,regressor.feature_importances_))\n",
    "f_i.sort(key = lambda x : x[1])\n",
    "plt.barh([x[0] for x in f_i],[x[1] for x in f_i])\n",
    "plt.show()"
   ]
  },
  {
   "cell_type": "code",
   "execution_count": 278,
   "metadata": {},
   "outputs": [
    {
     "data": {
      "text/plain": [
       "-0.4662394743625504"
      ]
     },
     "execution_count": 278,
     "metadata": {},
     "output_type": "execute_result"
    }
   ],
   "source": [
    "from sklearn.metrics import confusion_matrix\n",
    "regressor.score(X_test, list(y_test))\n",
    "# matrix = confusion_matrix(y_test, y_pred)\n",
    "# print(matrix)"
   ]
  },
  {
   "cell_type": "code",
   "execution_count": 281,
   "metadata": {},
   "outputs": [
    {
     "name": "stdout",
     "output_type": "stream",
     "text": [
      "Accuracy: 15.388563950256136\n"
     ]
    }
   ],
   "source": [
    "#Import scikit-learn metrics module for accuracy calculation\n",
    "from sklearn import metrics\n",
    "# Model Accuracy, how often is the classifier correct?\n",
    "print(\"Accuracy:\",metrics.mean_squared_error(y_test, y_pred))\n"
   ]
  },
  {
   "cell_type": "code",
   "execution_count": 266,
   "metadata": {},
   "outputs": [
    {
     "name": "stdout",
     "output_type": "stream",
     "text": [
      "Mean squared error: 15.39\n",
      "Coefficient of determination: 0.72\n"
     ]
    }
   ],
   "source": [
    "# The coefficients\n",
    "# print(\"Coefficients: \\n\", regressor.coef_)\n",
    "# The mean squared error\n",
    "print(\"Mean squared error: %.2f\" % mean_squared_error(y_test, y_pred))\n",
    "# The coefficient of determination: 1 is perfect prediction\n",
    "print(\"Coefficient of determination: %.2f\" % r2_score(y_test, y_pred))"
   ]
  },
  {
   "cell_type": "code",
   "execution_count": 284,
   "metadata": {},
   "outputs": [],
   "source": [
    "# KNN\n",
    "from sklearn import neighbors\n",
    "from sklearn.metrics import mean_squared_error \n",
    "from math import sqrt\n",
    "import matplotlib.pyplot as plt\n",
    "%matplotlib inline"
   ]
  },
  {
   "cell_type": "code",
   "execution_count": 309,
   "metadata": {},
   "outputs": [
    {
     "name": "stdout",
     "output_type": "stream",
     "text": [
      "RMSE value for k=  2 is: 3.249857705180693\n",
      "RMSE value for k=  4 is: 3.420349170917719\n",
      "RMSE value for k=  6 is: 3.5487013637378997\n",
      "RMSE value for k=  8 is: 3.686795607873436\n",
      "RMSE value for k=  10 is: 3.821487605840638\n",
      "RMSE value for k=  12 is: 3.8772498339631674\n",
      "RMSE value for k=  14 is: 4.023390949837454\n",
      "RMSE value for k=  16 is: 4.142922817683308\n",
      "RMSE value for k=  18 is: 4.295028692435832\n",
      "RMSE value for k=  20 is: 4.4192191644439545\n",
      "RMSE value for k=  22 is: 4.506131746716584\n",
      "RMSE value for k=  24 is: 4.542526572326054\n",
      "RMSE value for k=  26 is: 4.642415855800956\n",
      "RMSE value for k=  28 is: 4.711726847783077\n",
      "RMSE value for k=  30 is: 4.767412467924622\n",
      "RMSE value for k=  32 is: 4.839501203941724\n",
      "RMSE value for k=  34 is: 4.917008932648931\n",
      "RMSE value for k=  36 is: 4.921235194024581\n",
      "RMSE value for k=  38 is: 4.954540747389558\n",
      "RMSE value for k=  40 is: 5.005456406056628\n",
      "RMSE value for k=  42 is: 5.070124419408944\n",
      "RMSE value for k=  44 is: 5.074857165701331\n",
      "RMSE value for k=  46 is: 5.1122586915448585\n",
      "RMSE value for k=  48 is: 5.144666291623827\n",
      "RMSE value for k=  50 is: 5.186869861963347\n",
      "RMSE value for k=  52 is: 5.203127861113957\n",
      "RMSE value for k=  54 is: 5.240164095329735\n",
      "RMSE value for k=  56 is: 5.269916381788504\n",
      "RMSE value for k=  58 is: 5.315916113216409\n",
      "RMSE value for k=  60 is: 5.342720339729457\n",
      "RMSE value for k=  62 is: 5.377938359423768\n",
      "RMSE value for k=  64 is: 5.422348745042474\n",
      "RMSE value for k=  66 is: 5.45272966786675\n",
      "RMSE value for k=  68 is: 5.491429457329545\n",
      "RMSE value for k=  70 is: 5.514968534915775\n",
      "RMSE value for k=  72 is: 5.54911416805983\n",
      "RMSE value for k=  74 is: 5.571254852724688\n",
      "RMSE value for k=  76 is: 5.601013457671209\n",
      "RMSE value for k=  78 is: 5.616387702731247\n",
      "RMSE value for k=  80 is: 5.6425915787590055\n",
      "RMSE value for k=  82 is: 5.6556063364366675\n",
      "RMSE value for k=  84 is: 5.691502066225957\n",
      "RMSE value for k=  86 is: 5.7128616596538295\n",
      "RMSE value for k=  88 is: 5.74467583661162\n",
      "RMSE value for k=  90 is: 5.764907640717568\n",
      "RMSE value for k=  92 is: 5.775915498519416\n",
      "RMSE value for k=  94 is: 5.810116417650035\n",
      "RMSE value for k=  96 is: 5.812663792555854\n",
      "RMSE value for k=  98 is: 5.827347940616322\n",
      "RMSE value for k=  100 is: 5.841807709145637\n"
     ]
    }
   ],
   "source": [
    "rmse_val = [] #to store rmse values for different k\n",
    "for K in range(1, 101):\n",
    "    # K = K+1\n",
    "    model = neighbors.KNeighborsRegressor(n_neighbors = K)\n",
    "\n",
    "    model.fit(X_norm, y_train)  #fit the model\n",
    "    pred=model.predict(X_test_norm) #make prediction on test set\n",
    "    error = sqrt(mean_squared_error(y_test, pred)) #calculate rmse\n",
    "    rmse_val.append(error) #store rmse values\n",
    "    if K % 2==0:\n",
    "        print('RMSE value for k= ' , K , 'is:', error)"
   ]
  },
  {
   "cell_type": "code",
   "execution_count": 310,
   "metadata": {},
   "outputs": [
    {
     "data": {
      "text/plain": [
       "<AxesSubplot:>"
      ]
     },
     "execution_count": 310,
     "metadata": {},
     "output_type": "execute_result"
    },
    {
     "data": {
      "image/png": "[encoded data removed]",
      "text/plain": [
       "<Figure size 1008x1008 with 1 Axes>"
      ]
     },
     "metadata": {
      "needs_background": "light"
     },
     "output_type": "display_data"
    }
   ],
   "source": [
    "#plotting the rmse values against k values\n",
    "\n",
    "curve = pd.DataFrame(rmse_val) #elbow curve \n",
    "curve.plot(figsize=(14, 14))"
   ]
  },
  {
   "cell_type": "code",
   "execution_count": 311,
   "metadata": {},
   "outputs": [
    {
     "name": "stdout",
     "output_type": "stream",
     "text": [
      "bets param {'n_neighbors': 2}\n"
     ]
    }
   ],
   "source": [
    "from sklearn.model_selection import GridSearchCV\n",
    "params = {'n_neighbors':[2,3,4,5,6,7,8,9]}\n",
    "\n",
    "knn = neighbors.KNeighborsRegressor()\n",
    "\n",
    "model = GridSearchCV(knn, params, cv=5)\n",
    "model.fit(X_train,y_train)\n",
    "print(\"bets param\", model.best_params_)\n"
   ]
  },
  {
   "cell_type": "code",
   "execution_count": 319,
   "metadata": {},
   "outputs": [
    {
     "data": {
      "text/plain": [
       "-1.2065505643047274"
      ]
     },
     "execution_count": 319,
     "metadata": {},
     "output_type": "execute_result"
    }
   ],
   "source": [
    "# y_pred = model.predict(X_test_norm)\n",
    "# metrics.accuracy_score(y_test, y_pred)\n",
    "model.score(X_test_norm, y_test)"
   ]
  },
  {
   "cell_type": "code",
   "execution_count": 314,
   "metadata": {},
   "outputs": [
    {
     "data": {
      "text/plain": [
       "DecisionTreeRegressor(random_state=0)"
      ]
     },
     "execution_count": 314,
     "metadata": {},
     "output_type": "execute_result"
    }
   ],
   "source": [
    "# import the regressor\n",
    "from sklearn.tree import DecisionTreeRegressor \n",
    "  \n",
    "# create a regressor object\n",
    "tree = DecisionTreeRegressor(random_state = 0) \n",
    "  \n",
    "# fit the regressor with X and Y data\n",
    "tree.fit(X_norm, y_train)"
   ]
  },
  {
   "cell_type": "code",
   "execution_count": 315,
   "metadata": {},
   "outputs": [
    {
     "data": {
      "text/plain": [
       "0.4227353376236602"
      ]
     },
     "execution_count": 315,
     "metadata": {},
     "output_type": "execute_result"
    }
   ],
   "source": [
    "regressor.score(X_test_norm, y_test)"
   ]
  },
  {
   "cell_type": "code",
   "execution_count": 316,
   "metadata": {},
   "outputs": [
    {
     "data": {
      "text/plain": [
       "SVR()"
      ]
     },
     "execution_count": 316,
     "metadata": {},
     "output_type": "execute_result"
    }
   ],
   "source": [
    "from sklearn.svm import SVR\n",
    "svm = SVR(kernel = 'rbf')\n",
    "svm.fit(X_norm, y_train)"
   ]
  },
  {
   "cell_type": "code",
   "execution_count": 317,
   "metadata": {},
   "outputs": [
    {
     "data": {
      "text/plain": [
       "0.48353709191136174"
      ]
     },
     "execution_count": 317,
     "metadata": {},
     "output_type": "execute_result"
    }
   ],
   "source": [
    "svm.score(X_test_norm, y_test)"
   ]
  },
  {
   "cell_type": "code",
   "execution_count": 320,
   "metadata": {},
   "outputs": [
    {
     "ename": "ValueError",
     "evalue": "Unknown label type: 'continuous'",
     "output_type": "error",
     "traceback": [
      "\u001b[0;31m---------------------------------------------------------------------------\u001b[0m",
      "\u001b[0;31mValueError\u001b[0m                                Traceback (most recent call last)",
      "\u001b[0;32m/tmp/ipykernel_10836/966268566.py\u001b[0m in \u001b[0;36m<module>\u001b[0;34m\u001b[0m\n\u001b[1;32m      2\u001b[0m \u001b[0;31m# all parameters not specified are set to their defaults\u001b[0m\u001b[0;34m\u001b[0m\u001b[0;34m\u001b[0m\u001b[0m\n\u001b[1;32m      3\u001b[0m \u001b[0mlogisticRegr\u001b[0m \u001b[0;34m=\u001b[0m \u001b[0mLogisticRegression\u001b[0m\u001b[0;34m(\u001b[0m\u001b[0;34m)\u001b[0m\u001b[0;34m\u001b[0m\u001b[0;34m\u001b[0m\u001b[0m\n\u001b[0;32m----> 4\u001b[0;31m \u001b[0mlogisticRegr\u001b[0m\u001b[0;34m.\u001b[0m\u001b[0mfit\u001b[0m\u001b[0;34m(\u001b[0m\u001b[0mX_norm\u001b[0m\u001b[0;34m,\u001b[0m \u001b[0my_train\u001b[0m\u001b[0;34m)\u001b[0m\u001b[0;34m\u001b[0m\u001b[0;34m\u001b[0m\u001b[0m\n\u001b[0m",
      "\u001b[0;32m~/miniconda3/envs/data/lib/python3.9/site-packages/sklearn/linear_model/_logistic.py\u001b[0m in \u001b[0;36mfit\u001b[0;34m(self, X, y, sample_weight)\u001b[0m\n\u001b[1;32m   1514\u001b[0m             \u001b[0maccept_large_sparse\u001b[0m\u001b[0;34m=\u001b[0m\u001b[0msolver\u001b[0m \u001b[0;32mnot\u001b[0m \u001b[0;32min\u001b[0m \u001b[0;34m[\u001b[0m\u001b[0;34m\"liblinear\"\u001b[0m\u001b[0;34m,\u001b[0m \u001b[0;34m\"sag\"\u001b[0m\u001b[0;34m,\u001b[0m \u001b[0;34m\"saga\"\u001b[0m\u001b[0;34m]\u001b[0m\u001b[0;34m,\u001b[0m\u001b[0;34m\u001b[0m\u001b[0;34m\u001b[0m\u001b[0m\n\u001b[1;32m   1515\u001b[0m         )\n\u001b[0;32m-> 1516\u001b[0;31m         \u001b[0mcheck_classification_targets\u001b[0m\u001b[0;34m(\u001b[0m\u001b[0my\u001b[0m\u001b[0;34m)\u001b[0m\u001b[0;34m\u001b[0m\u001b[0;34m\u001b[0m\u001b[0m\n\u001b[0m\u001b[1;32m   1517\u001b[0m         \u001b[0mself\u001b[0m\u001b[0;34m.\u001b[0m\u001b[0mclasses_\u001b[0m \u001b[0;34m=\u001b[0m \u001b[0mnp\u001b[0m\u001b[0;34m.\u001b[0m\u001b[0munique\u001b[0m\u001b[0;34m(\u001b[0m\u001b[0my\u001b[0m\u001b[0;34m)\u001b[0m\u001b[0;34m\u001b[0m\u001b[0;34m\u001b[0m\u001b[0m\n\u001b[1;32m   1518\u001b[0m \u001b[0;34m\u001b[0m\u001b[0m\n",
      "\u001b[0;32m~/miniconda3/envs/data/lib/python3.9/site-packages/sklearn/utils/multiclass.py\u001b[0m in \u001b[0;36mcheck_classification_targets\u001b[0;34m(y)\u001b[0m\n\u001b[1;32m    196\u001b[0m         \u001b[0;34m\"multilabel-sequences\"\u001b[0m\u001b[0;34m,\u001b[0m\u001b[0;34m\u001b[0m\u001b[0;34m\u001b[0m\u001b[0m\n\u001b[1;32m    197\u001b[0m     ]:\n\u001b[0;32m--> 198\u001b[0;31m         \u001b[0;32mraise\u001b[0m \u001b[0mValueError\u001b[0m\u001b[0;34m(\u001b[0m\u001b[0;34m\"Unknown label type: %r\"\u001b[0m \u001b[0;34m%\u001b[0m \u001b[0my_type\u001b[0m\u001b[0;34m)\u001b[0m\u001b[0;34m\u001b[0m\u001b[0;34m\u001b[0m\u001b[0m\n\u001b[0m\u001b[1;32m    199\u001b[0m \u001b[0;34m\u001b[0m\u001b[0m\n\u001b[1;32m    200\u001b[0m \u001b[0;34m\u001b[0m\u001b[0m\n",
      "\u001b[0;31mValueError\u001b[0m: Unknown label type: 'continuous'"
     ]
    }
   ],
   "source": [
    "from sklearn.linear_model import LogisticRegression\n",
    "# all parameters not specified are set to their defaults\n",
    "logisticRegr = LogisticRegression()\n",
    "logisticRegr.fit(X_norm, y_train)"
   ]
  },
  {
   "cell_type": "code",
   "execution_count": 321,
   "metadata": {},
   "outputs": [
    {
     "ename": "ValueError",
     "evalue": "Unknown label type: (array([26.91075147, 21.51237585, 20.51583549, 18.08173018, 12.79330797,\n       11.31902132,  7.12825513,  8.20371762,  3.61673785, 14.91836787,\n       19.24127694,  8.55289183,  4.39238986, 25.24834691, 10.52384715,\n        8.42127301,  4.60417535,  5.00673951,  8.80207767,  3.60851182,\n       12.16789533, 12.40320919, 16.51485387, 17.36496563,  8.91501638,\n       17.96717728,  8.60608471, 24.48481777,  7.50605707, 15.00235615,\n        3.80046675, 18.93471161, 10.91361627, 29.31676635,  6.07456519,\n        3.82693581,  6.71006363,  2.85176757,  8.79624235,  8.8062548 ,\n        6.24458116,  5.75007317,  7.15555952, 19.96722435,  1.4351934 ,\n       24.94162169,  4.36357205, 21.16335943, 21.00672474, 31.15188151,\n        5.24514197,  4.27487056,  8.11923549, 21.48393612, 23.87423142,\n       11.14643373,  8.10763083,  5.33807927, 13.73081943,  4.33988958,\n        8.98885423,  6.11890612,  8.95326175, 17.83305496, 14.884016  ,\n       19.72002413,  6.23888916, 17.16140688,  7.673342  ,  9.93726447,\n       23.3681917 , 14.58372801, 16.68190973, 17.7507422 , 11.70629031,\n       20.37091789,  3.07517667,  8.4595446 , 21.71552142,  5.5797296 ,\n        6.28204454, 39.42601598,  6.87372263, 10.90915152,  7.6278274 ,\n       12.55033894, 16.32351587,  9.88722799,  2.24562609, 21.1006873 ,\n       10.86144033,  4.00523919,  6.77920704, 11.04089953, 17.06116807,\n        4.49070845,  1.82603863, 14.69644875, 17.34603084, 13.24091153,\n        7.10144908,  5.45503226,  6.52175795, 15.99341653, 16.92831689,\n        5.43353697,  6.5139214 , 22.17906102,  8.66515071, 15.3474317 ,\n        5.30454148, 35.92854776,  4.0655428 , 28.93193423, 15.19217826,\n       21.02259135,  6.34267181,  8.17305408,  2.4689947 , 11.42796255,\n       19.64270063, 14.76750827, 29.85374272,  5.70764093, 15.25260792,\n        6.27554293, 10.0406455 , 24.7020161 , 17.61545399,  2.34825624,\n        9.14605118, 22.78141665, 19.28919641,  5.16260542,  3.3137014 ,\n        5.65415841,  6.49473305,  7.86564442,  4.29769093, 19.09375163,\n       12.06287679, 20.2248501 , 15.64956731, 11.60154414, 27.68908018,\n        8.79378546,  4.45930555, 22.88466451,  7.38066544, 12.16030196,\n        2.14123344, 16.66054423,  2.95379273,  6.75882501,  1.59605945,\n       18.27819712,  5.08522194, 20.29083125,  4.70284606,  7.45037882,\n        7.48045231, 14.53177955, 12.93618325,  3.95828286,  3.59340185,\n        5.73259897, 10.82374295,  8.4763937 ,  8.35421999, 13.1588767 ,\n        4.30836953, 11.02369188,  9.67692058, 29.22879415, 18.78486781,\n       12.14733765,  5.19780961,  8.67402341, 16.99991032,  3.93522222,\n        4.69114705, 19.97377381, 41.5169302 , 21.16799667, 11.04649507,\n       12.68083987,  6.93215034, 11.98796706, 19.56868131, 11.02311343,\n       10.6627866 ,  8.49299246, 11.14246248, 10.16779741,  8.87709907,\n        3.94286481,  7.13341206, 34.52413599,  5.7045798 , 22.86156691,\n       19.10990627,  8.49235616, 39.51220574, 32.93630434,  4.42560197,\n       14.10385226, 20.3529041 ,  4.81911159, 22.00292411, 19.33172291,\n       14.68035237,  4.39585884, 35.70649176, 16.86951391,  5.4786634 ,\n       15.89467554,  6.70961985, 18.19554661, 19.15533075,  4.06337005,\n        5.74693066,  9.26257488,  5.65586299, 19.01338821,  8.08460656,\n       19.46831671,  9.38463392,  4.78548827, 15.54632161,  6.65700452,\n       12.90353745, 10.34940201, 23.335712  , 19.9020572 , 12.34476304,\n        3.63864791, 18.35367091, 23.09727211, 16.9301802 , 15.80144787,\n       10.3176908 , 17.98631576, 17.8913182 , 16.33677575,  5.70950538,\n       14.33585714,  5.01537666, 16.39984054, 37.70888969,  5.32594279,\n       20.41086516,  7.26864276, 10.3692288 ,  6.66748835, 37.44331432,\n        3.42575472, 16.10518058, 21.80723485, 20.24083551,  6.90405199,\n       13.0620733 , 22.27542437, 11.60902535, 20.43893805, 14.01463217,\n       19.88523122,  9.69984074, 15.90049889,  7.49675744,  6.04245624,\n       23.98018169, 22.04907664,  4.50702193, 16.25536014, 19.96722363,\n        7.01787638,  7.39905927,  4.78015917,  4.52254874,  3.49667394,\n        2.43599113,  4.42866639, 11.39921649, 12.63702187, 15.92009933,\n        9.27320202,  9.87368773,  5.85732942,  6.2552074 , 14.63372754,\n        9.98893789,  1.81335698,  8.77747297, 11.91103266,  6.75843607,\n        6.25830666,  6.9158725 , 10.3183626 , 18.85271942,  5.5317276 ,\n        4.53881013,  5.93858748,  2.66212815, 15.32676471,  9.4599013 ,\n       24.15005843,  3.32484093, 12.65773381, 36.26703663,  6.5594258 ,\n        8.93793599,  9.77693179,  7.86998651,  3.45802217, 15.80169675,\n       17.54596127,  9.03875534,  6.84237418, 15.81807599, 13.77832041,\n        3.72115196, 26.73660013,  8.30748518, 26.49544263,  4.22971352,\n       35.54839143,  4.95213577,  5.11907958,  3.20376939,  5.73151141,\n       12.33167153,  1.60934158, 15.98713026,  4.89919928, 11.60716368,\n        6.94046591, 20.10197274,  7.22869595, 17.0901198 , 17.34910539,\n       16.31053731, 16.40767867, 23.64821654,  4.45260717, 44.60848309,\n        1.72894971, 19.63776187, 35.28950111, 20.50702295,  3.12128156,\n       25.68650462,  8.08100228, 29.16139456, 20.69429852, 11.00831742,\n        4.30315498, 14.68054196, 20.20233842, 13.65344781, 36.00652562,\n       20.77934164,  6.12435683, 26.39278431, 19.49564041,  9.26915871,\n        6.4046896 , 28.20242992,  6.50759441, 12.07483021,  6.23804544,\n        2.49851673, 21.73661251, 11.39840829,  2.28074578, 19.72609185,\n       10.09697625,  7.02739523, 12.2846144 , 10.51583268,  5.42649185,\n        6.48069012, 19.87659912,  5.60264447,  9.31305337,  6.56004892,\n       37.23885594, 22.03935782, 17.89505291,  4.79346527,  6.59047176,\n       16.50844572, 12.15584703, 18.80902153,  3.45913591,  7.58516985,\n        9.44680634, 22.31560525, 33.25268585, 12.51214257,  6.6474797 ,\n       15.22366992,  5.49727867, 20.71917326,  3.97219627,  5.25419027,\n       13.50420207,  7.86090262,  7.40772372, 10.7257838 , 14.40748307,\n       11.22857918,  2.57948112, 13.51326729,  9.137062  ,  3.26296099,\n       19.78516135, 18.02447182, 16.41166605,  7.21642702,  5.46087487,\n        6.47703029,  9.39039205,  1.4427457 ,  7.4990251 , 10.97931101,\n        9.49963343,  7.66869001, 10.30356639,  5.43786208,  7.57478596,\n       16.39284262,  5.72366737,  8.44711569,  4.42231523,  2.49711416,\n        1.56353502, 25.73804591,  2.51017397, 21.17082335,  6.94989049,\n       13.53456085,  6.75462349, 13.14006824, 15.01730512, 10.1351366 ,\n        6.25120228, 14.07100912, 51.44038802,  6.19890552, 11.89909113,\n        5.66739678,  6.26514345,  4.99619832,  9.95631416, 17.25213422,\n       10.46781147,  5.05559898,  9.85485591, 13.59266097,  4.35164635,\n       36.48767665, 10.16856175,  6.42061186,  5.84378593,  7.06904023,\n       18.08572908, 19.22636546,  4.72076384, 20.55569769, 17.9925373 ,\n       10.16825192, 25.3938314 , 11.88593893, 10.92067415, 12.99741254,\n        5.83668749,  9.46301156,  8.74493455,  2.35312498,  6.5761173 ,\n       10.45560352, 24.80501655,  3.1026495 , 34.44996967,  3.77191212,\n       14.66632872, 13.74412942,  7.95888156, 10.48939595,  5.25831661,\n       18.37253146,  6.79162831, 37.3959357 , 14.19728843, 15.28131378,\n        6.14325075,  6.6702963 ,  6.60080992, 11.17933317, 10.67865135,\n        8.06104273,  4.41543692,  5.11160642,  6.30385758,  4.04880277,\n        5.549657  ,  9.54101921,  6.90095551,  6.08979291,  7.32086739,\n       14.47332719,  5.72948178, 12.74144595,  2.8271007 ,  8.15365997,\n        6.2458004 ,  7.73360952, 18.02176277,  5.66052256,  4.43254633,\n       18.53843413,  4.09967809,  1.77757399, 20.25329211, 36.05774911,\n        5.4194578 ,  4.42541623, 21.0872728 ,  6.9492998 ,  8.22999708,\n       16.36646753, 37.44498332, 11.28255822, 12.32270981,  4.78947753,\n        3.9409416 , 24.87283717,  5.93563199,  5.37236013, 32.80128676,\n       21.31827718, 12.49568502, 27.09254283,  4.88554097, 16.50597668,\n        4.38356898,  5.6782511 , 45.92346335,  1.93509374, 12.26161813,\n       20.82383332, 25.76259084, 18.52251666, 12.10494722, 13.46487279,\n        9.06950625, 16.53553493, 19.56762462,  8.25036277,  4.75072256,\n        6.17861584, 12.24922813,  6.5449828 , 10.14830401, 37.29851827,\n       15.85200216, 11.19100953, 31.30319798, 20.91247348,  6.61807887,\n       25.79977836, 38.34291688,  6.76607632, 12.779454  ,  6.35338298,\n        6.02224366,  1.57517008, 10.36715769, 21.40722352,  7.57250114,\n        6.8456615 , 38.3944832 ,  1.54257784,  8.35110592, 31.56799491,\n       11.19698503,  6.07083594,  7.53430655, 11.53260044,  3.13136906,\n        8.94213109,  7.50953343,  6.69576774,  4.77866181,  1.49340422,\n        6.38431856,  4.81919396, 20.41262508,  5.2557076 , 20.25899898,\n        5.20811194, 27.93714267, 19.59459539, 14.95398983,  7.62415734,\n        6.83691202, 11.68216258, 10.88240101,  6.51653214,  7.78420593,\n       10.39529531,  1.61711702, 12.256417  ,  6.56608394, 23.02037235,\n        7.18403488,  8.46224029, 12.29354555,  7.69406689, 17.26686381,\n       11.24101936, 13.27192646,  7.94866586, 15.35322729,  4.85512018,\n        6.71067308,  4.58157424,  5.42842456,  6.55506497,  7.83811992,\n        3.59853077,  1.53298466, 50.86500563,  5.54563289, 22.80517727,\n       26.26480882, 23.40085045, 13.58554906, 31.83422919,  1.59520604,\n        7.33627246, 15.83644731,  4.86155897, 19.77800433, 11.15083538,\n       13.45296288,  3.53176857,  9.65184557, 20.39591032,  5.06666523,\n       11.95702242,  3.92427263, 11.24104919, 10.50003041,  7.10127177,\n        1.59126708,  5.14615308,  1.46217898, 15.01402057,  5.87256065,\n       14.49125908,  1.87433539, 10.31745961,  6.91140827,  1.58199847,\n        9.01518548, 16.01639758, 16.44951159, 16.82453696, 10.20310994,\n        5.58708911,  7.3687277 , 23.16134616,  5.33785485,  2.85436417,\n       21.71255692,  8.18905627,  6.38372295, 30.87978516, 41.6539628 ,\n       22.29002268,  9.88110018,  4.8015423 , 10.92191973, 38.47699556,\n       38.06091427, 18.93082721,  6.80288544, 14.23681877, 11.13393956,\n       16.42851846,  5.80104141,  5.05870937,  5.40465322, 29.70465939,\n       19.24448269, 15.30255035, 20.89081678, 15.94001873, 17.1989786 ,\n       15.11234867,  6.70415834, 21.44763444,  5.08624742, 20.38420087,\n       18.80770895, 37.3829205 , 12.71289384,  4.92224687,  2.615999  ,\n        5.84109053,  5.68516411,  1.57947224,  5.75909584, 10.12014745,\n       20.02582662, 21.06402752, 20.81825658, 10.52641159,  8.25451298,\n        7.73154929,  8.81774403,  6.70976941, 12.80763458,  6.42987294,\n       17.13788221, 17.49077096,  3.61123106,  7.01640864, 20.37066466,\n       19.0233633 , 20.09741941,  7.69853053,  4.73085248,  7.64828494,\n        4.39383795,  9.18337828,  5.52368483,  5.47531894, 17.49742778,\n       27.15479335, 19.92964951,  8.8612898 ,  5.13438449, 20.94487894,\n       15.24538159, 10.43810332,  5.35744259,  4.65397837, 14.33612619,\n       12.90516455,  6.45159481, 11.86819777, 29.33050556, 16.69285552,\n        6.28653791,  6.84034118,  3.58160634,  5.88236456,  9.62142932,\n       39.76822598,  6.73293576, 20.08123064,  6.45326002, 36.91089091,\n        1.77571115, 11.54603938, 14.67353282,  6.71665672, 16.97104039,\n        3.52810903,  7.57134903, 16.44002785, 16.12589132,  4.2248338 ,\n        6.3438086 ,  7.24143882,  9.6207703 ,  1.64175321, 18.28651217,\n       28.66068865, 16.25045665,  4.62416334,  2.59537061, 12.55729459,\n        8.16897391,  6.29708357,  8.15530127,  6.02999429, 14.60915766,\n       14.67967121, 16.36602858, 17.70486956, 23.62921683,  9.38608681,\n       23.23105135, 16.92156156,  1.4401514 ,  2.07949727, 10.31566059,\n        2.08405791, 14.48971841,  5.18610705,  4.13041847,  5.41911316,\n        6.21818447, 12.44027976,  3.52086819,  6.44078265, 10.56055189,\n        6.31707801, 11.29008264,  4.62683452, 31.873928  ,  7.76351956,\n       10.52213152,  1.42386845,  7.04885492, 17.3518816 , 21.0466984 ,\n       11.119143  , 25.03302878,  5.2441972 ,  7.0364274 , 24.99850032,\n        2.79957261, 10.64468858, 14.39734665, 18.44837422, 16.69299298,\n       21.34936693,  5.47243835, 13.67211878,  8.29066018, 22.84722313,\n       20.07232163,  5.25616296, 11.90107505, 19.78649896,  4.86699292]),)",
     "output_type": "error",
     "traceback": [
      "\u001b[0;31m---------------------------------------------------------------------------\u001b[0m",
      "\u001b[0;31mValueError\u001b[0m                                Traceback (most recent call last)",
      "\u001b[0;32m/tmp/ipykernel_10836/2795512892.py\u001b[0m in \u001b[0;36m<module>\u001b[0;34m\u001b[0m\n\u001b[1;32m     10\u001b[0m \u001b[0;34m\u001b[0m\u001b[0m\n\u001b[1;32m     11\u001b[0m \u001b[0;31m# Fit data onto the model\u001b[0m\u001b[0;34m\u001b[0m\u001b[0;34m\u001b[0m\u001b[0m\n\u001b[0;32m---> 12\u001b[0;31m \u001b[0mclf\u001b[0m\u001b[0;34m.\u001b[0m\u001b[0mfit\u001b[0m\u001b[0;34m(\u001b[0m\u001b[0mX_norm\u001b[0m\u001b[0;34m,\u001b[0m\u001b[0my_train\u001b[0m\u001b[0;34m)\u001b[0m\u001b[0;34m\u001b[0m\u001b[0;34m\u001b[0m\u001b[0m\n\u001b[0m",
      "\u001b[0;32m~/miniconda3/envs/data/lib/python3.9/site-packages/sklearn/neural_network/_multilayer_perceptron.py\u001b[0m in \u001b[0;36mfit\u001b[0;34m(self, X, y)\u001b[0m\n\u001b[1;32m    750\u001b[0m             \u001b[0mReturns\u001b[0m \u001b[0ma\u001b[0m \u001b[0mtrained\u001b[0m \u001b[0mMLP\u001b[0m \u001b[0mmodel\u001b[0m\u001b[0;34m.\u001b[0m\u001b[0;34m\u001b[0m\u001b[0;34m\u001b[0m\u001b[0m\n\u001b[1;32m    751\u001b[0m         \"\"\"\n\u001b[0;32m--> 752\u001b[0;31m         \u001b[0;32mreturn\u001b[0m \u001b[0mself\u001b[0m\u001b[0;34m.\u001b[0m\u001b[0m_fit\u001b[0m\u001b[0;34m(\u001b[0m\u001b[0mX\u001b[0m\u001b[0;34m,\u001b[0m \u001b[0my\u001b[0m\u001b[0;34m,\u001b[0m \u001b[0mincremental\u001b[0m\u001b[0;34m=\u001b[0m\u001b[0;32mFalse\u001b[0m\u001b[0;34m)\u001b[0m\u001b[0;34m\u001b[0m\u001b[0;34m\u001b[0m\u001b[0m\n\u001b[0m\u001b[1;32m    753\u001b[0m \u001b[0;34m\u001b[0m\u001b[0m\n\u001b[1;32m    754\u001b[0m     \u001b[0;32mdef\u001b[0m \u001b[0m_check_solver\u001b[0m\u001b[0;34m(\u001b[0m\u001b[0mself\u001b[0m\u001b[0;34m)\u001b[0m\u001b[0;34m:\u001b[0m\u001b[0;34m\u001b[0m\u001b[0;34m\u001b[0m\u001b[0m\n",
      "\u001b[0;32m~/miniconda3/envs/data/lib/python3.9/site-packages/sklearn/neural_network/_multilayer_perceptron.py\u001b[0m in \u001b[0;36m_fit\u001b[0;34m(self, X, y, incremental)\u001b[0m\n\u001b[1;32m    391\u001b[0m         )\n\u001b[1;32m    392\u001b[0m \u001b[0;34m\u001b[0m\u001b[0m\n\u001b[0;32m--> 393\u001b[0;31m         \u001b[0mX\u001b[0m\u001b[0;34m,\u001b[0m \u001b[0my\u001b[0m \u001b[0;34m=\u001b[0m \u001b[0mself\u001b[0m\u001b[0;34m.\u001b[0m\u001b[0m_validate_input\u001b[0m\u001b[0;34m(\u001b[0m\u001b[0mX\u001b[0m\u001b[0;34m,\u001b[0m \u001b[0my\u001b[0m\u001b[0;34m,\u001b[0m \u001b[0mincremental\u001b[0m\u001b[0;34m,\u001b[0m \u001b[0mreset\u001b[0m\u001b[0;34m=\u001b[0m\u001b[0mfirst_pass\u001b[0m\u001b[0;34m)\u001b[0m\u001b[0;34m\u001b[0m\u001b[0;34m\u001b[0m\u001b[0m\n\u001b[0m\u001b[1;32m    394\u001b[0m \u001b[0;34m\u001b[0m\u001b[0m\n\u001b[1;32m    395\u001b[0m         \u001b[0mn_samples\u001b[0m\u001b[0;34m,\u001b[0m \u001b[0mn_features\u001b[0m \u001b[0;34m=\u001b[0m \u001b[0mX\u001b[0m\u001b[0;34m.\u001b[0m\u001b[0mshape\u001b[0m\u001b[0;34m\u001b[0m\u001b[0;34m\u001b[0m\u001b[0m\n",
      "\u001b[0;32m~/miniconda3/envs/data/lib/python3.9/site-packages/sklearn/neural_network/_multilayer_perceptron.py\u001b[0m in \u001b[0;36m_validate_input\u001b[0;34m(self, X, y, incremental, reset)\u001b[0m\n\u001b[1;32m   1129\u001b[0m         \u001b[0;32mif\u001b[0m \u001b[0;34m(\u001b[0m\u001b[0;32mnot\u001b[0m \u001b[0mhasattr\u001b[0m\u001b[0;34m(\u001b[0m\u001b[0mself\u001b[0m\u001b[0;34m,\u001b[0m \u001b[0;34m\"classes_\"\u001b[0m\u001b[0;34m)\u001b[0m\u001b[0;34m)\u001b[0m \u001b[0;32mor\u001b[0m \u001b[0;34m(\u001b[0m\u001b[0;32mnot\u001b[0m \u001b[0mself\u001b[0m\u001b[0;34m.\u001b[0m\u001b[0mwarm_start\u001b[0m \u001b[0;32mand\u001b[0m \u001b[0;32mnot\u001b[0m \u001b[0mincremental\u001b[0m\u001b[0;34m)\u001b[0m\u001b[0;34m:\u001b[0m\u001b[0;34m\u001b[0m\u001b[0;34m\u001b[0m\u001b[0m\n\u001b[1;32m   1130\u001b[0m             \u001b[0mself\u001b[0m\u001b[0;34m.\u001b[0m\u001b[0m_label_binarizer\u001b[0m \u001b[0;34m=\u001b[0m \u001b[0mLabelBinarizer\u001b[0m\u001b[0;34m(\u001b[0m\u001b[0;34m)\u001b[0m\u001b[0;34m\u001b[0m\u001b[0;34m\u001b[0m\u001b[0m\n\u001b[0;32m-> 1131\u001b[0;31m             \u001b[0mself\u001b[0m\u001b[0;34m.\u001b[0m\u001b[0m_label_binarizer\u001b[0m\u001b[0;34m.\u001b[0m\u001b[0mfit\u001b[0m\u001b[0;34m(\u001b[0m\u001b[0my\u001b[0m\u001b[0;34m)\u001b[0m\u001b[0;34m\u001b[0m\u001b[0;34m\u001b[0m\u001b[0m\n\u001b[0m\u001b[1;32m   1132\u001b[0m             \u001b[0mself\u001b[0m\u001b[0;34m.\u001b[0m\u001b[0mclasses_\u001b[0m \u001b[0;34m=\u001b[0m \u001b[0mself\u001b[0m\u001b[0;34m.\u001b[0m\u001b[0m_label_binarizer\u001b[0m\u001b[0;34m.\u001b[0m\u001b[0mclasses_\u001b[0m\u001b[0;34m\u001b[0m\u001b[0;34m\u001b[0m\u001b[0m\n\u001b[1;32m   1133\u001b[0m         \u001b[0;32melse\u001b[0m\u001b[0;34m:\u001b[0m\u001b[0;34m\u001b[0m\u001b[0;34m\u001b[0m\u001b[0m\n",
      "\u001b[0;32m~/miniconda3/envs/data/lib/python3.9/site-packages/sklearn/preprocessing/_label.py\u001b[0m in \u001b[0;36mfit\u001b[0;34m(self, y)\u001b[0m\n\u001b[1;32m    299\u001b[0m \u001b[0;34m\u001b[0m\u001b[0m\n\u001b[1;32m    300\u001b[0m         \u001b[0mself\u001b[0m\u001b[0;34m.\u001b[0m\u001b[0msparse_input_\u001b[0m \u001b[0;34m=\u001b[0m \u001b[0msp\u001b[0m\u001b[0;34m.\u001b[0m\u001b[0missparse\u001b[0m\u001b[0;34m(\u001b[0m\u001b[0my\u001b[0m\u001b[0;34m)\u001b[0m\u001b[0;34m\u001b[0m\u001b[0;34m\u001b[0m\u001b[0m\n\u001b[0;32m--> 301\u001b[0;31m         \u001b[0mself\u001b[0m\u001b[0;34m.\u001b[0m\u001b[0mclasses_\u001b[0m \u001b[0;34m=\u001b[0m \u001b[0munique_labels\u001b[0m\u001b[0;34m(\u001b[0m\u001b[0my\u001b[0m\u001b[0;34m)\u001b[0m\u001b[0;34m\u001b[0m\u001b[0;34m\u001b[0m\u001b[0m\n\u001b[0m\u001b[1;32m    302\u001b[0m         \u001b[0;32mreturn\u001b[0m \u001b[0mself\u001b[0m\u001b[0;34m\u001b[0m\u001b[0;34m\u001b[0m\u001b[0m\n\u001b[1;32m    303\u001b[0m \u001b[0;34m\u001b[0m\u001b[0m\n",
      "\u001b[0;32m~/miniconda3/envs/data/lib/python3.9/site-packages/sklearn/utils/multiclass.py\u001b[0m in \u001b[0;36munique_labels\u001b[0;34m(*ys)\u001b[0m\n\u001b[1;32m    100\u001b[0m     \u001b[0m_unique_labels\u001b[0m \u001b[0;34m=\u001b[0m \u001b[0m_FN_UNIQUE_LABELS\u001b[0m\u001b[0;34m.\u001b[0m\u001b[0mget\u001b[0m\u001b[0;34m(\u001b[0m\u001b[0mlabel_type\u001b[0m\u001b[0;34m,\u001b[0m \u001b[0;32mNone\u001b[0m\u001b[0;34m)\u001b[0m\u001b[0;34m\u001b[0m\u001b[0;34m\u001b[0m\u001b[0m\n\u001b[1;32m    101\u001b[0m     \u001b[0;32mif\u001b[0m \u001b[0;32mnot\u001b[0m \u001b[0m_unique_labels\u001b[0m\u001b[0;34m:\u001b[0m\u001b[0;34m\u001b[0m\u001b[0;34m\u001b[0m\u001b[0m\n\u001b[0;32m--> 102\u001b[0;31m         \u001b[0;32mraise\u001b[0m \u001b[0mValueError\u001b[0m\u001b[0;34m(\u001b[0m\u001b[0;34m\"Unknown label type: %s\"\u001b[0m \u001b[0;34m%\u001b[0m \u001b[0mrepr\u001b[0m\u001b[0;34m(\u001b[0m\u001b[0mys\u001b[0m\u001b[0;34m)\u001b[0m\u001b[0;34m)\u001b[0m\u001b[0;34m\u001b[0m\u001b[0;34m\u001b[0m\u001b[0m\n\u001b[0m\u001b[1;32m    103\u001b[0m \u001b[0;34m\u001b[0m\u001b[0m\n\u001b[1;32m    104\u001b[0m     \u001b[0mys_labels\u001b[0m \u001b[0;34m=\u001b[0m \u001b[0mset\u001b[0m\u001b[0;34m(\u001b[0m\u001b[0mchain\u001b[0m\u001b[0;34m.\u001b[0m\u001b[0mfrom_iterable\u001b[0m\u001b[0;34m(\u001b[0m\u001b[0m_unique_labels\u001b[0m\u001b[0;34m(\u001b[0m\u001b[0my\u001b[0m\u001b[0;34m)\u001b[0m \u001b[0;32mfor\u001b[0m \u001b[0my\u001b[0m \u001b[0;32min\u001b[0m \u001b[0mys\u001b[0m\u001b[0;34m)\u001b[0m\u001b[0;34m)\u001b[0m\u001b[0;34m\u001b[0m\u001b[0;34m\u001b[0m\u001b[0m\n",
      "\u001b[0;31mValueError\u001b[0m: Unknown label type: (array([26.91075147, 21.51237585, 20.51583549, 18.08173018, 12.79330797,\n       11.31902132,  7.12825513,  8.20371762,  3.61673785, 14.91836787,\n       19.24127694,  8.55289183,  4.39238986, 25.24834691, 10.52384715,\n        8.42127301,  4.60417535,  5.00673951,  8.80207767,  3.60851182,\n       12.16789533, 12.40320919, 16.51485387, 17.36496563,  8.91501638,\n       17.96717728,  8.60608471, 24.48481777,  7.50605707, 15.00235615,\n        3.80046675, 18.93471161, 10.91361627, 29.31676635,  6.07456519,\n        3.82693581,  6.71006363,  2.85176757,  8.79624235,  8.8062548 ,\n        6.24458116,  5.75007317,  7.15555952, 19.96722435,  1.4351934 ,\n       24.94162169,  4.36357205, 21.16335943, 21.00672474, 31.15188151,\n        5.24514197,  4.27487056,  8.11923549, 21.48393612, 23.87423142,\n       11.14643373,  8.10763083,  5.33807927, 13.73081943,  4.33988958,\n        8.98885423,  6.11890612,  8.95326175, 17.83305496, 14.884016  ,\n       19.72002413,  6.23888916, 17.16140688,  7.673342  ,  9.93726447,\n       23.3681917 , 14.58372801, 16.68190973, 17.7507422 , 11.70629031,\n       20.37091789,  3.07517667,  8.4595446 , 21.71552142,  5.5797296 ,\n        6.28204454, 39.42601598,  6.87372263, 10.90915152,  7.6278274 ,\n       12.55033894, 16.32351587,  9.88722799,  2.24562609, 21.1006873 ,\n       10.86144033,  4.00523919,  6.77920704, 11.04089953, 17.06116807,\n        4.49070845,  1.82603863, 14.69644875, 17.34603084, 13.24091153,\n        7.10144908,  5.45503226,  6.52175795, 15.99341653, 16.92831689,\n        5.43353697,  6.5139214 , 22.17906102,  8.66515071, 15.3474317 ,\n        5.30454148, 35.92854776,  4.0655428 , 28.93193423, 15.19217826,\n       21.02259135,  6.34267181,  8.17305408,  2.4689947 , 11.42796255,\n       19.64270063, 14.76750827, 29.85374272,  5.70764093, 15.25260792,\n        6.27554293, 10.0406455 , 24.7020161 , 17.61545399,  2.34825624,\n        9.14605118, 22.78141665, 19.28919641,  5.16260542,  3.3137014 ,\n        5.65415841,  6.49473305,  7.86564442,  4.29769093, 19.09375163,\n       12.06287679, 20.2248501 , 15.64956731, 11.60154414, 27.68908018,\n        8.79378546,  4.45930555, 22.88466451,  7.38066544, 12.16030196,\n        2.14123344, 16.66054423,  2.95379273,  6.75882501,  1.59605945,\n       18.27819712,  5.08522194, 20.29083125,  4.70284606,  7.45037882,\n        7.48045231, 14.53177955, 12.93618325,  3.95828286,  3.59340185,\n        5.73259897, 10.82374295,  8.4763937 ,  8.35421999, 13.1588767 ,\n        4.30836953, 11.02369188,  9.67692058, 29.22879415, 18.78486781,\n       12.14733765,  5.19780961,  8.67402341, 16.99991032,  3.93522222,\n        4.69114705, 19.97377381, 41.5169302 , 21.16799667, 11.04649507,\n       12.68083987,  6.93215034, 11.98796706, 19.56868131, 11.02311343,\n       10.6627866 ,  8.49299246, 11.14246248, 10.16779741,  8.87709907,\n        3.94286481,  7.13341206, 34.52413599,  5.7045798 , 22.86156691,\n       19.10990627,  8.49235616, 39.51220574, 32.93630434,  4.42560197,\n       14.10385226, 20.3529041 ,  4.81911159, 22.00292411, 19.33172291,\n       14.68035237,  4.39585884, 35.70649176, 16.86951391,  5.4786634 ,\n       15.89467554,  6.70961985, 18.19554661, 19.15533075,  4.06337005,\n        5.74693066,  9.26257488,  5.65586299, 19.01338821,  8.08460656,\n       19.46831671,  9.38463392,  4.78548827, 15.54632161,  6.65700452,\n       12.90353745, 10.34940201, 23.335712  , 19.9020572 , 12.34476304,\n        3.63864791, 18.35367091, 23.09727211, 16.9301802 , 15.80144787,\n       10.3176908 , 17.98631576, 17.8913182 , 16.33677575,  5.70950538,\n       14.33585714,  5.01537666, 16.39984054, 37.70888969,  5.32594279,\n       20.41086516,  7.26864276, 10.3692288 ,  6.66748835, 37.44331432,\n        3.42575472, 16.10518058, 21.80723485, 20.24083551,  6.90405199,\n       13.0620733 , 22.27542437, 11.60902535, 20.43893805, 14.01463217,\n       19.88523122,  9.69984074, 15.90049889,  7.49675744,  6.04245624,\n       23.98018169, 22.04907664,  4.50702193, 16.25536014, 19.96722363,\n        7.01787638,  7.39905927,  4.78015917,  4.52254874,  3.49667394,\n        2.43599113,  4.42866639, 11.39921649, 12.63702187, 15.92009933,\n        9.27320202,  9.87368773,  5.85732942,  6.2552074 , 14.63372754,\n        9.98893789,  1.81335698,  8.77747297, 11.91103266,  6.75843607,\n        6.25830666,  6.9158725 , 10.3183626 , 18.85271942,  5.5317276 ,\n        4.53881013,  5.93858748,  2.66212815, 15.32676471,  9.4599013 ,\n       24.15005843,  3.32484093, 12.65773381, 36.26703663,  6.5594258 ,\n        8.93793599,  9.77693179,  7.86998651,  3.45802217, 15.80169675,\n       17.54596127,  9.03875534,  6.84237418, 15.81807599, 13.77832041,\n        3.72115196, 26.73660013,  8.30748518, 26.49544263,  4.22971352,\n       35.54839143,  4.95213577,  5.11907958,  3.20376939,  5.73151141,\n       12.33167153,  1.60934158, 15.98713026,  4.89919928, 11.60716368,\n        6.94046591, 20.10197274,  7.22869595, 17.0901198 , 17.34910539,\n       16.31053731, 16.40767867, 23.64821654,  4.45260717, 44.60848309,\n        1.72894971, 19.63776187, 35.28950111, 20.50702295,  3.12128156,\n       25.68650462,  8.08100228, 29.16139456, 20.69429852, 11.00831742,\n        4.30315498, 14.68054196, 20.20233842, 13.65344781, 36.00652562,\n       20.77934164,  6.12435683, 26.39278431, 19.49564041,  9.26915871,\n        6.4046896 , 28.20242992,  6.50759441, 12.07483021,  6.23804544,\n        2.49851673, 21.73661251, 11.39840829,  2.28074578, 19.72609185,\n       10.09697625,  7.02739523, 12.2846144 , 10.51583268,  5.42649185,\n        6.48069012, 19.87659912,  5.60264447,  9.31305337,  6.56004892,\n       37.23885594, 22.03935782, 17.89505291,  4.79346527,  6.59047176,\n       16.50844572, 12.15584703, 18.80902153,  3.45913591,  7.58516985,\n        9.44680634, 22.31560525, 33.25268585, 12.51214257,  6.6474797 ,\n       15.22366992,  5.49727867, 20.71917326,  3.97219627,  5.25419027,\n       13.50420207,  7.86090262,  7.40772372, 10.7257838 , 14.40748307,\n       11.22857918,  2.57948112, 13.51326729,  9.137062  ,  3.26296099,\n       19.78516135, 18.02447182, 16.41166605,  7.21642702,  5.46087487,\n        6.47703029,  9.39039205,  1.4427457 ,  7.4990251 , 10.97931101,\n        9.49963343,  7.66869001, 10.30356639,  5.43786208,  7.57478596,\n       16.39284262,  5.72366737,  8.44711569,  4.42231523,  2.49711416,\n        1.56353502, 25.73804591,  2.51017397, 21.17082335,  6.94989049,\n       13.53456085,  6.75462349, 13.14006824, 15.01730512, 10.1351366 ,\n        6.25120228, 14.07100912, 51.44038802,  6.19890552, 11.89909113,\n        5.66739678,  6.26514345,  4.99619832,  9.95631416, 17.25213422,\n       10.46781147,  5.05559898,  9.85485591, 13.59266097,  4.35164635,\n       36.48767665, 10.16856175,  6.42061186,  5.84378593,  7.06904023,\n       18.08572908, 19.22636546,  4.72076384, 20.55569769, 17.9925373 ,\n       10.16825192, 25.3938314 , 11.88593893, 10.92067415, 12.99741254,\n        5.83668749,  9.46301156,  8.74493455,  2.35312498,  6.5761173 ,\n       10.45560352, 24.80501655,  3.1026495 , 34.44996967,  3.77191212,\n       14.66632872, 13.74412942,  7.95888156, 10.48939595,  5.25831661,\n       18.37253146,  6.79162831, 37.3959357 , 14.19728843, 15.28131378,\n        6.14325075,  6.6702963 ,  6.60080992, 11.17933317, 10.67865135,\n        8.06104273,  4.41543692,  5.11160642,  6.30385758,  4.04880277,\n        5.549657  ,  9.54101921,  6.90095551,  6.08979291,  7.32086739,\n       14.47332719,  5.72948178, 12.74144595,  2.8271007 ,  8.15365997,\n        6.2458004 ,  7.73360952, 18.02176277,  5.66052256,  4.43254633,\n       18.53843413,  4.09967809,  1.77757399, 20.25329211, 36.05774911,\n        5.4194578 ,  4.42541623, 21.0872728 ,  6.9492998 ,  8.22999708,\n       16.36646753, 37.44498332, 11.28255822, 12.32270981,  4.78947753,\n        3.9409416 , 24.87283717,  5.93563199,  5.37236013, 32.80128676,\n       21.31827718, 12.49568502, 27.09254283,  4.88554097, 16.50597668,\n        4.38356898,  5.6782511 , 45.92346335,  1.93509374, 12.26161813,\n       20.82383332, 25.76259084, 18.52251666, 12.10494722, 13.46487279,\n        9.06950625, 16.53553493, 19.56762462,  8.25036277,  4.75072256,\n        6.17861584, 12.24922813,  6.5449828 , 10.14830401, 37.29851827,\n       15.85200216, 11.19100953, 31.30319798, 20.91247348,  6.61807887,\n       25.79977836, 38.34291688,  6.76607632, 12.779454  ,  6.35338298,\n        6.02224366,  1.57517008, 10.36715769, 21.40722352,  7.57250114,\n        6.8456615 , 38.3944832 ,  1.54257784,  8.35110592, 31.56799491,\n       11.19698503,  6.07083594,  7.53430655, 11.53260044,  3.13136906,\n        8.94213109,  7.50953343,  6.69576774,  4.77866181,  1.49340422,\n        6.38431856,  4.81919396, 20.41262508,  5.2557076 , 20.25899898,\n        5.20811194, 27.93714267, 19.59459539, 14.95398983,  7.62415734,\n        6.83691202, 11.68216258, 10.88240101,  6.51653214,  7.78420593,\n       10.39529531,  1.61711702, 12.256417  ,  6.56608394, 23.02037235,\n        7.18403488,  8.46224029, 12.29354555,  7.69406689, 17.26686381,\n       11.24101936, 13.27192646,  7.94866586, 15.35322729,  4.85512018,\n        6.71067308,  4.58157424,  5.42842456,  6.55506497,  7.83811992,\n        3.59853077,  1.53298466, 50.86500563,  5.54563289, 22.80517727,\n       26.26480882, 23.40085045, 13.58554906, 31.83422919,  1.59520604,\n        7.33627246, 15.83644731,  4.86155897, 19.77800433, 11.15083538,\n       13.45296288,  3.53176857,  9.65184557, 20.39591032,  5.06666523,\n       11.95702242,  3.92427263, 11.24104919, 10.50003041,  7.10127177,\n        1.59126708,  5.14615308,  1.46217898, 15.01402057,  5.87256065,\n       14.49125908,  1.87433539, 10.31745961,  6.91140827,  1.58199847,\n        9.01518548, 16.01639758, 16.44951159, 16.82453696, 10.20310994,\n        5.58708911,  7.3687277 , 23.16134616,  5.33785485,  2.85436417,\n       21.71255692,  8.18905627,  6.38372295, 30.87978516, 41.6539628 ,\n       22.29002268,  9.88110018,  4.8015423 , 10.92191973, 38.47699556,\n       38.06091427, 18.93082721,  6.80288544, 14.23681877, 11.13393956,\n       16.42851846,  5.80104141,  5.05870937,  5.40465322, 29.70465939,\n       19.24448269, 15.30255035, 20.89081678, 15.94001873, 17.1989786 ,\n       15.11234867,  6.70415834, 21.44763444,  5.08624742, 20.38420087,\n       18.80770895, 37.3829205 , 12.71289384,  4.92224687,  2.615999  ,\n        5.84109053,  5.68516411,  1.57947224,  5.75909584, 10.12014745,\n       20.02582662, 21.06402752, 20.81825658, 10.52641159,  8.25451298,\n        7.73154929,  8.81774403,  6.70976941, 12.80763458,  6.42987294,\n       17.13788221, 17.49077096,  3.61123106,  7.01640864, 20.37066466,\n       19.0233633 , 20.09741941,  7.69853053,  4.73085248,  7.64828494,\n        4.39383795,  9.18337828,  5.52368483,  5.47531894, 17.49742778,\n       27.15479335, 19.92964951,  8.8612898 ,  5.13438449, 20.94487894,\n       15.24538159, 10.43810332,  5.35744259,  4.65397837, 14.33612619,\n       12.90516455,  6.45159481, 11.86819777, 29.33050556, 16.69285552,\n        6.28653791,  6.84034118,  3.58160634,  5.88236456,  9.62142932,\n       39.76822598,  6.73293576, 20.08123064,  6.45326002, 36.91089091,\n        1.77571115, 11.54603938, 14.67353282,  6.71665672, 16.97104039,\n        3.52810903,  7.57134903, 16.44002785, 16.12589132,  4.2248338 ,\n        6.3438086 ,  7.24143882,  9.6207703 ,  1.64175321, 18.28651217,\n       28.66068865, 16.25045665,  4.62416334,  2.59537061, 12.55729459,\n        8.16897391,  6.29708357,  8.15530127,  6.02999429, 14.60915766,\n       14.67967121, 16.36602858, 17.70486956, 23.62921683,  9.38608681,\n       23.23105135, 16.92156156,  1.4401514 ,  2.07949727, 10.31566059,\n        2.08405791, 14.48971841,  5.18610705,  4.13041847,  5.41911316,\n        6.21818447, 12.44027976,  3.52086819,  6.44078265, 10.56055189,\n        6.31707801, 11.29008264,  4.62683452, 31.873928  ,  7.76351956,\n       10.52213152,  1.42386845,  7.04885492, 17.3518816 , 21.0466984 ,\n       11.119143  , 25.03302878,  5.2441972 ,  7.0364274 , 24.99850032,\n        2.79957261, 10.64468858, 14.39734665, 18.44837422, 16.69299298,\n       21.34936693,  5.47243835, 13.67211878,  8.29066018, 22.84722313,\n       20.07232163,  5.25616296, 11.90107505, 19.78649896,  4.86699292]),)"
     ]
    }
   ],
   "source": [
    "# MLP\n",
    "# Import MLPClassifer \n",
    "from sklearn.neural_network import MLPClassifier\n",
    "\n",
    "# Create model object\n",
    "clf = MLPClassifier(hidden_layer_sizes=(6,5),\n",
    "                    random_state=5,\n",
    "                    verbose=True,\n",
    "                    learning_rate_init=0.01)\n",
    "\n",
    "# Fit data onto the model\n",
    "clf.fit(X_norm,y_train)"
   ]
  },
  {
   "cell_type": "code",
   "execution_count": null,
   "metadata": {},
   "outputs": [],
   "source": []
  }
 ],
 "metadata": {
  "interpreter": {
   "hash": "2d66bb7d4f8a116e2925a95bebe6e04f8fc3c8ed65e8572fe262df87356dbbb5"
  },
  "kernelspec": {
   "display_name": "Python 3.9.7 64-bit ('data': conda)",
   "language": "python",
   "name": "python3"
  },
  "language_info": {
   "codemirror_mode": {
    "name": "ipython",
    "version": 3
   },
   "file_extension": ".py",
   "mimetype": "text/x-python",
   "name": "python",
   "nbconvert_exporter": "python",
   "pygments_lexer": "ipython3",
   "version": "3.9.7"
  },
  "orig_nbformat": 4
 },
 "nbformat": 4,
 "nbformat_minor": 2
}
