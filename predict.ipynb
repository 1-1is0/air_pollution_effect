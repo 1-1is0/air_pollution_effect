{
 "cells": [
  {
   "cell_type": "code",
   "execution_count": 222,
   "metadata": {},
   "outputs": [],
   "source": [
    "import pandas as pd\n",
    "import numpy as np\n",
    "import matplotlib.pyplot as plt\n",
    "import plotly.express as px\n",
    "import plotly.graph_objects as go\n",
    "from dataprep.clean import clean_country\n",
    "from plotly.subplots import make_subplots\n",
    "import dask.dataframe as dd"
   ]
  },
  {
   "cell_type": "code",
   "execution_count": 219,
   "metadata": {},
   "outputs": [],
   "source": [
    "co2_file_path = \"./dataset/owid-co2-data.csv\"\n",
    "co2_df = pd.read_csv(co2_file_path)"
   ]
  },
  {
   "cell_type": "code",
   "execution_count": 221,
   "metadata": {},
   "outputs": [
    {
     "data": {
      "text/plain": [
       "array([1949, 1950, 1951, 1952, 1953, 1954, 1955, 1956, 1957, 1958, 1959,\n",
       "       1960, 1961, 1962, 1963, 1964, 1965, 1966, 1967, 1968, 1969, 1970,\n",
       "       1971, 1972, 1973, 1974, 1975, 1976, 1977, 1978, 1979, 1980, 1981,\n",
       "       1982, 1983, 1984, 1985, 1986, 1987, 1988, 1989, 1990, 1991, 1992,\n",
       "       1993, 1994, 1995, 1996, 1997, 1998, 1999, 2000, 2001, 2002, 2003,\n",
       "       2004, 2005, 2006, 2007, 2008, 2009, 2010, 2011, 2012, 2013, 2014,\n",
       "       2015, 2016, 2017, 2018, 2019, 2020, 1884, 1885, 1886, 1887, 1888,\n",
       "       1889, 1890, 1891, 1892, 1893, 1894, 1895, 1896, 1897, 1898, 1899,\n",
       "       1900, 1901, 1902, 1903, 1904, 1905, 1906, 1907, 1908, 1909, 1910,\n",
       "       1911, 1912, 1913, 1914, 1915, 1916, 1917, 1918, 1919, 1920, 1921,\n",
       "       1922, 1923, 1924, 1925, 1926, 1927, 1928, 1929, 1930, 1931, 1932,\n",
       "       1933, 1934, 1935, 1936, 1937, 1938, 1939, 1940, 1941, 1942, 1943,\n",
       "       1944, 1945, 1946, 1947, 1948, 1830, 1831, 1832, 1833, 1834, 1835,\n",
       "       1836, 1837, 1838, 1839, 1840, 1841, 1842, 1843, 1844, 1845, 1846,\n",
       "       1847, 1848, 1849, 1850, 1851, 1852, 1853, 1854, 1855, 1856, 1857,\n",
       "       1858, 1859, 1860, 1861, 1862, 1863, 1864, 1865, 1866, 1867, 1868,\n",
       "       1869, 1870, 1871, 1872, 1873, 1874, 1875, 1876, 1877, 1878, 1879,\n",
       "       1880, 1881, 1882, 1883, 1807, 1808, 1809, 1810, 1811, 1812, 1813,\n",
       "       1814, 1815, 1816, 1817, 1818, 1819, 1820, 1821, 1822, 1823, 1824,\n",
       "       1825, 1826, 1827, 1828, 1829, 1802, 1803, 1804, 1805, 1806, 1785,\n",
       "       1786, 1787, 1788, 1789, 1790, 1791, 1792, 1793, 1794, 1795, 1796,\n",
       "       1797, 1798, 1799, 1800, 1801, 1750, 1751, 1752, 1753, 1754, 1755,\n",
       "       1756, 1757, 1758, 1759, 1760, 1761, 1762, 1763, 1764, 1765, 1766,\n",
       "       1767, 1768, 1769, 1770, 1771, 1772, 1773, 1774, 1775, 1776, 1777,\n",
       "       1778, 1779, 1780, 1781, 1782, 1783, 1784])"
      ]
     },
     "execution_count": 221,
     "metadata": {},
     "output_type": "execute_result"
    }
   ],
   "source": []
  },
  {
   "cell_type": "code",
   "execution_count": null,
   "metadata": {},
   "outputs": [],
   "source": []
  },
  {
   "cell_type": "code",
   "execution_count": 202,
   "metadata": {},
   "outputs": [
    {
     "data": {
      "application/vnd.jupyter.widget-view+json": {
       "model_id": "306c2c3d699145398ee755ffb632af95",
       "version_major": 2,
       "version_minor": 0
      },
      "text/plain": [
       "  0%|          | 0/91 [00:00<?, ?it/s]"
      ]
     },
     "metadata": {},
     "output_type": "display_data"
    },
    {
     "name": "stdout",
     "output_type": "stream",
     "text": [
      "Country Cleaning Report:\n",
      "\t2741220 values cleaned (99.37%)\n",
      "\t17460 values unable to be parsed (0.63%), set to NaN\n",
      "Result contains 2741220 (99.37%) values in the correct format and 17460 null values (0.63%)\n"
     ]
    }
   ],
   "source": [
    "# dask is cool with huge csvs\n",
    "csv_file_path = \"/home/amir/big_storage/datasets/IHME-GDB-Risk-all.csv\"\n",
    "\n",
    "risk_df= pd.read_csv(csv_file_path)\n",
    "risk_df = clean_country(risk_df, 'location', output_format='alpha-3')"
   ]
  },
  {
   "cell_type": "code",
   "execution_count": 203,
   "metadata": {},
   "outputs": [],
   "source": [
    "cause_list = [\n",
    "    \"Depressive disorders\",\n",
    "    \"Cardiovascular diseases\",\n",
    "    \"Chronic respiratory diseases\",\n",
    "    \"Neurological disorders\",\n",
    "    \"Tracheal, bronchus, and lung cancer\",\n",
    "    \"Stomach cancer\",\n",
    "    \"Pancreatic cancer\",\n",
    "    \"Leukemia\",\n",
    "    \"Esophageal cancer\",\n",
    "    \"Larynx cancer\",\n",
    "    \"Colon and rectum cancer\",\n",
    "    \"Liver cancer\",\n",
    "    \"Other non-communicable diseases\",\n",
    "]\n",
    "\n",
    "# cause_list = [\n",
    "#     \"All causes\"\n",
    "# ]\n"
   ]
  },
  {
   "cell_type": "code",
   "execution_count": 204,
   "metadata": {},
   "outputs": [
    {
     "data": {
      "text/html": [
       "<div>\n",
       "<style scoped>\n",
       "    .dataframe tbody tr th:only-of-type {\n",
       "        vertical-align: middle;\n",
       "    }\n",
       "\n",
       "    .dataframe tbody tr th {\n",
       "        vertical-align: top;\n",
       "    }\n",
       "\n",
       "    .dataframe thead th {\n",
       "        text-align: right;\n",
       "    }\n",
       "</style>\n",
       "<table border=\"1\" class=\"dataframe\">\n",
       "  <thead>\n",
       "    <tr style=\"text-align: right;\">\n",
       "      <th></th>\n",
       "      <th>measure</th>\n",
       "      <th>location</th>\n",
       "      <th>sex</th>\n",
       "      <th>age</th>\n",
       "      <th>cause</th>\n",
       "      <th>rei</th>\n",
       "      <th>metric</th>\n",
       "      <th>year</th>\n",
       "      <th>val</th>\n",
       "      <th>upper</th>\n",
       "      <th>lower</th>\n",
       "      <th>location_clean</th>\n",
       "    </tr>\n",
       "  </thead>\n",
       "  <tbody>\n",
       "    <tr>\n",
       "      <th>1389</th>\n",
       "      <td>Deaths</td>\n",
       "      <td>Global</td>\n",
       "      <td>Both</td>\n",
       "      <td>All Ages</td>\n",
       "      <td>Neurological disorders</td>\n",
       "      <td>All risk factors</td>\n",
       "      <td>Rate</td>\n",
       "      <td>1990</td>\n",
       "      <td>3.153837</td>\n",
       "      <td>9.772785</td>\n",
       "      <td>0.630572</td>\n",
       "      <td>NaN</td>\n",
       "    </tr>\n",
       "    <tr>\n",
       "      <th>1530</th>\n",
       "      <td>Deaths</td>\n",
       "      <td>Global</td>\n",
       "      <td>Both</td>\n",
       "      <td>All Ages</td>\n",
       "      <td>Tracheal, bronchus, and lung cancer</td>\n",
       "      <td>Particulate matter pollution</td>\n",
       "      <td>Rate</td>\n",
       "      <td>1990</td>\n",
       "      <td>4.111372</td>\n",
       "      <td>5.208312</td>\n",
       "      <td>3.079991</td>\n",
       "      <td>NaN</td>\n",
       "    </tr>\n",
       "    <tr>\n",
       "      <th>1531</th>\n",
       "      <td>Deaths</td>\n",
       "      <td>Global</td>\n",
       "      <td>Both</td>\n",
       "      <td>All Ages</td>\n",
       "      <td>Tracheal, bronchus, and lung cancer</td>\n",
       "      <td>All risk factors</td>\n",
       "      <td>Rate</td>\n",
       "      <td>1990</td>\n",
       "      <td>16.758972</td>\n",
       "      <td>17.720711</td>\n",
       "      <td>15.945836</td>\n",
       "      <td>NaN</td>\n",
       "    </tr>\n",
       "    <tr>\n",
       "      <th>1532</th>\n",
       "      <td>Deaths</td>\n",
       "      <td>Global</td>\n",
       "      <td>Both</td>\n",
       "      <td>All Ages</td>\n",
       "      <td>Pancreatic cancer</td>\n",
       "      <td>All risk factors</td>\n",
       "      <td>Rate</td>\n",
       "      <td>1990</td>\n",
       "      <td>1.291501</td>\n",
       "      <td>1.548592</td>\n",
       "      <td>1.081802</td>\n",
       "      <td>NaN</td>\n",
       "    </tr>\n",
       "    <tr>\n",
       "      <th>1534</th>\n",
       "      <td>Deaths</td>\n",
       "      <td>Global</td>\n",
       "      <td>Both</td>\n",
       "      <td>All Ages</td>\n",
       "      <td>Liver cancer</td>\n",
       "      <td>All risk factors</td>\n",
       "      <td>Rate</td>\n",
       "      <td>1990</td>\n",
       "      <td>2.883647</td>\n",
       "      <td>3.474875</td>\n",
       "      <td>2.350907</td>\n",
       "      <td>NaN</td>\n",
       "    </tr>\n",
       "  </tbody>\n",
       "</table>\n",
       "</div>"
      ],
      "text/plain": [
       "     measure location   sex       age                                cause  \\\n",
       "1389  Deaths   Global  Both  All Ages               Neurological disorders   \n",
       "1530  Deaths   Global  Both  All Ages  Tracheal, bronchus, and lung cancer   \n",
       "1531  Deaths   Global  Both  All Ages  Tracheal, bronchus, and lung cancer   \n",
       "1532  Deaths   Global  Both  All Ages                    Pancreatic cancer   \n",
       "1534  Deaths   Global  Both  All Ages                         Liver cancer   \n",
       "\n",
       "                               rei metric  year        val      upper  \\\n",
       "1389              All risk factors   Rate  1990   3.153837   9.772785   \n",
       "1530  Particulate matter pollution   Rate  1990   4.111372   5.208312   \n",
       "1531              All risk factors   Rate  1990  16.758972  17.720711   \n",
       "1532              All risk factors   Rate  1990   1.291501   1.548592   \n",
       "1534              All risk factors   Rate  1990   2.883647   3.474875   \n",
       "\n",
       "          lower location_clean  \n",
       "1389   0.630572            NaN  \n",
       "1530   3.079991            NaN  \n",
       "1531  15.945836            NaN  \n",
       "1532   1.081802            NaN  \n",
       "1534   2.350907            NaN  "
      ]
     },
     "execution_count": 204,
     "metadata": {},
     "output_type": "execute_result"
    }
   ],
   "source": [
    "\n",
    "cause_df = risk_df[\n",
    "    risk_df.cause.isin(cause_list)\n",
    "    & (risk_df.metric == \"Rate\")\n",
    "    & (risk_df.measure == \"Deaths\")\n",
    "    & (risk_df.sex == \"Both\")\n",
    "    # & (risk_df.year >= 2000)\n",
    "].sort_values(\"year\").reset_index(drop=True)\n",
    "min_year\n",
    "global_df.head()"
   ]
  },
  {
   "cell_type": "code",
   "execution_count": 228,
   "metadata": {},
   "outputs": [
    {
     "data": {
      "text/html": [
       "<div>\n",
       "<style scoped>\n",
       "    .dataframe tbody tr th:only-of-type {\n",
       "        vertical-align: middle;\n",
       "    }\n",
       "\n",
       "    .dataframe tbody tr th {\n",
       "        vertical-align: top;\n",
       "    }\n",
       "\n",
       "    .dataframe thead th {\n",
       "        text-align: right;\n",
       "    }\n",
       "</style>\n",
       "<table border=\"1\" class=\"dataframe\">\n",
       "  <thead>\n",
       "    <tr style=\"text-align: right;\">\n",
       "      <th></th>\n",
       "      <th>iso_code</th>\n",
       "      <th>country</th>\n",
       "      <th>year</th>\n",
       "      <th>co2</th>\n",
       "      <th>consumption_co2</th>\n",
       "      <th>co2_growth_prct</th>\n",
       "      <th>co2_growth_abs</th>\n",
       "      <th>trade_co2</th>\n",
       "      <th>co2_per_capita</th>\n",
       "      <th>consumption_co2_per_capita</th>\n",
       "      <th>...</th>\n",
       "      <th>ghg_per_capita</th>\n",
       "      <th>methane</th>\n",
       "      <th>methane_per_capita</th>\n",
       "      <th>nitrous_oxide</th>\n",
       "      <th>nitrous_oxide_per_capita</th>\n",
       "      <th>population</th>\n",
       "      <th>gdp</th>\n",
       "      <th>primary_energy_consumption</th>\n",
       "      <th>energy_per_capita</th>\n",
       "      <th>energy_per_gdp</th>\n",
       "    </tr>\n",
       "  </thead>\n",
       "  <tbody>\n",
       "    <tr>\n",
       "      <th>24037</th>\n",
       "      <td>USA</td>\n",
       "      <td>United States</td>\n",
       "      <td>1990</td>\n",
       "      <td>5113.455</td>\n",
       "      <td>5031.786</td>\n",
       "      <td>-0.36</td>\n",
       "      <td>-18.472</td>\n",
       "      <td>-81.669</td>\n",
       "      <td>20.282</td>\n",
       "      <td>19.958</td>\n",
       "      <td>...</td>\n",
       "      <td>22.488</td>\n",
       "      <td>798.61</td>\n",
       "      <td>3.168</td>\n",
       "      <td>254.99</td>\n",
       "      <td>1.011</td>\n",
       "      <td>252120309.0</td>\n",
       "      <td>9.250378e+12</td>\n",
       "      <td>22498.158</td>\n",
       "      <td>89235.912</td>\n",
       "      <td>2.432</td>\n",
       "    </tr>\n",
       "    <tr>\n",
       "      <th>24038</th>\n",
       "      <td>USA</td>\n",
       "      <td>United States</td>\n",
       "      <td>1991</td>\n",
       "      <td>5057.931</td>\n",
       "      <td>4949.136</td>\n",
       "      <td>-1.09</td>\n",
       "      <td>-55.524</td>\n",
       "      <td>-108.795</td>\n",
       "      <td>19.871</td>\n",
       "      <td>19.444</td>\n",
       "      <td>...</td>\n",
       "      <td>22.110</td>\n",
       "      <td>801.89</td>\n",
       "      <td>3.150</td>\n",
       "      <td>256.20</td>\n",
       "      <td>1.007</td>\n",
       "      <td>254539371.0</td>\n",
       "      <td>9.243499e+12</td>\n",
       "      <td>22466.677</td>\n",
       "      <td>88264.181</td>\n",
       "      <td>2.431</td>\n",
       "    </tr>\n",
       "    <tr>\n",
       "      <th>24039</th>\n",
       "      <td>USA</td>\n",
       "      <td>United States</td>\n",
       "      <td>1992</td>\n",
       "      <td>5167.481</td>\n",
       "      <td>5134.515</td>\n",
       "      <td>2.17</td>\n",
       "      <td>109.550</td>\n",
       "      <td>-32.966</td>\n",
       "      <td>20.108</td>\n",
       "      <td>19.979</td>\n",
       "      <td>...</td>\n",
       "      <td>22.215</td>\n",
       "      <td>800.73</td>\n",
       "      <td>3.116</td>\n",
       "      <td>261.95</td>\n",
       "      <td>1.019</td>\n",
       "      <td>256990608.0</td>\n",
       "      <td>9.572148e+12</td>\n",
       "      <td>22803.378</td>\n",
       "      <td>88732.202</td>\n",
       "      <td>2.383</td>\n",
       "    </tr>\n",
       "    <tr>\n",
       "      <th>24040</th>\n",
       "      <td>USA</td>\n",
       "      <td>United States</td>\n",
       "      <td>1993</td>\n",
       "      <td>5267.343</td>\n",
       "      <td>5194.300</td>\n",
       "      <td>1.93</td>\n",
       "      <td>99.862</td>\n",
       "      <td>-73.043</td>\n",
       "      <td>20.296</td>\n",
       "      <td>20.014</td>\n",
       "      <td>...</td>\n",
       "      <td>22.422</td>\n",
       "      <td>783.55</td>\n",
       "      <td>3.019</td>\n",
       "      <td>269.35</td>\n",
       "      <td>1.038</td>\n",
       "      <td>259532130.0</td>\n",
       "      <td>9.834941e+12</td>\n",
       "      <td>23279.396</td>\n",
       "      <td>89697.594</td>\n",
       "      <td>2.366</td>\n",
       "    </tr>\n",
       "    <tr>\n",
       "      <th>24041</th>\n",
       "      <td>USA</td>\n",
       "      <td>United States</td>\n",
       "      <td>1994</td>\n",
       "      <td>5358.824</td>\n",
       "      <td>5295.360</td>\n",
       "      <td>1.74</td>\n",
       "      <td>91.481</td>\n",
       "      <td>-63.464</td>\n",
       "      <td>20.435</td>\n",
       "      <td>20.193</td>\n",
       "      <td>...</td>\n",
       "      <td>22.522</td>\n",
       "      <td>790.58</td>\n",
       "      <td>3.015</td>\n",
       "      <td>273.36</td>\n",
       "      <td>1.042</td>\n",
       "      <td>262241204.0</td>\n",
       "      <td>1.023202e+13</td>\n",
       "      <td>23712.755</td>\n",
       "      <td>90423.527</td>\n",
       "      <td>2.325</td>\n",
       "    </tr>\n",
       "    <tr>\n",
       "      <th>24042</th>\n",
       "      <td>USA</td>\n",
       "      <td>United States</td>\n",
       "      <td>1995</td>\n",
       "      <td>5421.502</td>\n",
       "      <td>5356.474</td>\n",
       "      <td>1.17</td>\n",
       "      <td>62.678</td>\n",
       "      <td>-65.028</td>\n",
       "      <td>20.446</td>\n",
       "      <td>20.201</td>\n",
       "      <td>...</td>\n",
       "      <td>22.517</td>\n",
       "      <td>777.91</td>\n",
       "      <td>2.934</td>\n",
       "      <td>278.99</td>\n",
       "      <td>1.052</td>\n",
       "      <td>265163740.0</td>\n",
       "      <td>1.051026e+13</td>\n",
       "      <td>24222.295</td>\n",
       "      <td>91348.356</td>\n",
       "      <td>2.307</td>\n",
       "    </tr>\n",
       "    <tr>\n",
       "      <th>24043</th>\n",
       "      <td>USA</td>\n",
       "      <td>United States</td>\n",
       "      <td>1996</td>\n",
       "      <td>5610.582</td>\n",
       "      <td>5526.463</td>\n",
       "      <td>3.49</td>\n",
       "      <td>189.079</td>\n",
       "      <td>-84.119</td>\n",
       "      <td>20.909</td>\n",
       "      <td>20.595</td>\n",
       "      <td>...</td>\n",
       "      <td>22.618</td>\n",
       "      <td>754.68</td>\n",
       "      <td>2.812</td>\n",
       "      <td>282.97</td>\n",
       "      <td>1.055</td>\n",
       "      <td>268335007.0</td>\n",
       "      <td>1.090917e+13</td>\n",
       "      <td>25035.434</td>\n",
       "      <td>93299.171</td>\n",
       "      <td>2.297</td>\n",
       "    </tr>\n",
       "    <tr>\n",
       "      <th>24044</th>\n",
       "      <td>USA</td>\n",
       "      <td>United States</td>\n",
       "      <td>1997</td>\n",
       "      <td>5686.465</td>\n",
       "      <td>5632.188</td>\n",
       "      <td>1.35</td>\n",
       "      <td>75.883</td>\n",
       "      <td>-54.277</td>\n",
       "      <td>20.928</td>\n",
       "      <td>20.728</td>\n",
       "      <td>...</td>\n",
       "      <td>23.196</td>\n",
       "      <td>734.60</td>\n",
       "      <td>2.704</td>\n",
       "      <td>275.64</td>\n",
       "      <td>1.014</td>\n",
       "      <td>271713634.0</td>\n",
       "      <td>1.139876e+13</td>\n",
       "      <td>25225.640</td>\n",
       "      <td>92838.946</td>\n",
       "      <td>2.213</td>\n",
       "    </tr>\n",
       "    <tr>\n",
       "      <th>24045</th>\n",
       "      <td>USA</td>\n",
       "      <td>United States</td>\n",
       "      <td>1998</td>\n",
       "      <td>5731.050</td>\n",
       "      <td>5795.627</td>\n",
       "      <td>0.78</td>\n",
       "      <td>44.585</td>\n",
       "      <td>64.578</td>\n",
       "      <td>20.827</td>\n",
       "      <td>21.062</td>\n",
       "      <td>...</td>\n",
       "      <td>23.060</td>\n",
       "      <td>717.39</td>\n",
       "      <td>2.607</td>\n",
       "      <td>272.74</td>\n",
       "      <td>0.991</td>\n",
       "      <td>275175309.0</td>\n",
       "      <td>1.190603e+13</td>\n",
       "      <td>25391.342</td>\n",
       "      <td>92273.429</td>\n",
       "      <td>2.134</td>\n",
       "    </tr>\n",
       "    <tr>\n",
       "      <th>24046</th>\n",
       "      <td>USA</td>\n",
       "      <td>United States</td>\n",
       "      <td>1999</td>\n",
       "      <td>5804.669</td>\n",
       "      <td>5961.355</td>\n",
       "      <td>1.28</td>\n",
       "      <td>73.619</td>\n",
       "      <td>156.686</td>\n",
       "      <td>20.839</td>\n",
       "      <td>21.402</td>\n",
       "      <td>...</td>\n",
       "      <td>22.853</td>\n",
       "      <td>708.26</td>\n",
       "      <td>2.543</td>\n",
       "      <td>268.40</td>\n",
       "      <td>0.964</td>\n",
       "      <td>278548148.0</td>\n",
       "      <td>1.246382e+13</td>\n",
       "      <td>25840.805</td>\n",
       "      <td>92769.666</td>\n",
       "      <td>2.067</td>\n",
       "    </tr>\n",
       "    <tr>\n",
       "      <th>24047</th>\n",
       "      <td>USA</td>\n",
       "      <td>United States</td>\n",
       "      <td>2000</td>\n",
       "      <td>6010.508</td>\n",
       "      <td>6255.891</td>\n",
       "      <td>3.55</td>\n",
       "      <td>205.839</td>\n",
       "      <td>245.382</td>\n",
       "      <td>21.336</td>\n",
       "      <td>22.207</td>\n",
       "      <td>...</td>\n",
       "      <td>23.056</td>\n",
       "      <td>693.11</td>\n",
       "      <td>2.460</td>\n",
       "      <td>263.79</td>\n",
       "      <td>0.936</td>\n",
       "      <td>281710914.0</td>\n",
       "      <td>1.297384e+13</td>\n",
       "      <td>26427.463</td>\n",
       "      <td>93810.546</td>\n",
       "      <td>2.033</td>\n",
       "    </tr>\n",
       "    <tr>\n",
       "      <th>24048</th>\n",
       "      <td>USA</td>\n",
       "      <td>United States</td>\n",
       "      <td>2001</td>\n",
       "      <td>5904.882</td>\n",
       "      <td>6163.755</td>\n",
       "      <td>-1.76</td>\n",
       "      <td>-105.627</td>\n",
       "      <td>258.874</td>\n",
       "      <td>20.747</td>\n",
       "      <td>21.657</td>\n",
       "      <td>...</td>\n",
       "      <td>22.626</td>\n",
       "      <td>693.96</td>\n",
       "      <td>2.438</td>\n",
       "      <td>258.96</td>\n",
       "      <td>0.910</td>\n",
       "      <td>284607992.0</td>\n",
       "      <td>1.310047e+13</td>\n",
       "      <td>25804.055</td>\n",
       "      <td>90665.250</td>\n",
       "      <td>1.970</td>\n",
       "    </tr>\n",
       "    <tr>\n",
       "      <th>24049</th>\n",
       "      <td>USA</td>\n",
       "      <td>United States</td>\n",
       "      <td>2002</td>\n",
       "      <td>5946.771</td>\n",
       "      <td>6285.678</td>\n",
       "      <td>0.71</td>\n",
       "      <td>41.889</td>\n",
       "      <td>338.908</td>\n",
       "      <td>20.700</td>\n",
       "      <td>21.880</td>\n",
       "      <td>...</td>\n",
       "      <td>22.005</td>\n",
       "      <td>692.33</td>\n",
       "      <td>2.410</td>\n",
       "      <td>260.45</td>\n",
       "      <td>0.907</td>\n",
       "      <td>287279312.0</td>\n",
       "      <td>1.333449e+13</td>\n",
       "      <td>26177.526</td>\n",
       "      <td>91122.307</td>\n",
       "      <td>1.968</td>\n",
       "    </tr>\n",
       "    <tr>\n",
       "      <th>24050</th>\n",
       "      <td>USA</td>\n",
       "      <td>United States</td>\n",
       "      <td>2003</td>\n",
       "      <td>6011.837</td>\n",
       "      <td>6380.355</td>\n",
       "      <td>1.09</td>\n",
       "      <td>65.067</td>\n",
       "      <td>368.517</td>\n",
       "      <td>20.744</td>\n",
       "      <td>22.015</td>\n",
       "      <td>...</td>\n",
       "      <td>21.921</td>\n",
       "      <td>685.60</td>\n",
       "      <td>2.366</td>\n",
       "      <td>264.54</td>\n",
       "      <td>0.913</td>\n",
       "      <td>289815567.0</td>\n",
       "      <td>1.370881e+13</td>\n",
       "      <td>26259.752</td>\n",
       "      <td>90608.360</td>\n",
       "      <td>1.917</td>\n",
       "    </tr>\n",
       "    <tr>\n",
       "      <th>24051</th>\n",
       "      <td>USA</td>\n",
       "      <td>United States</td>\n",
       "      <td>2004</td>\n",
       "      <td>6114.007</td>\n",
       "      <td>6560.312</td>\n",
       "      <td>1.70</td>\n",
       "      <td>102.169</td>\n",
       "      <td>446.305</td>\n",
       "      <td>20.913</td>\n",
       "      <td>22.440</td>\n",
       "      <td>...</td>\n",
       "      <td>22.234</td>\n",
       "      <td>695.48</td>\n",
       "      <td>2.379</td>\n",
       "      <td>264.35</td>\n",
       "      <td>0.904</td>\n",
       "      <td>292354663.0</td>\n",
       "      <td>1.422788e+13</td>\n",
       "      <td>26776.886</td>\n",
       "      <td>91590.312</td>\n",
       "      <td>1.886</td>\n",
       "    </tr>\n",
       "    <tr>\n",
       "      <th>24052</th>\n",
       "      <td>USA</td>\n",
       "      <td>United States</td>\n",
       "      <td>2005</td>\n",
       "      <td>6134.521</td>\n",
       "      <td>6596.274</td>\n",
       "      <td>0.34</td>\n",
       "      <td>20.515</td>\n",
       "      <td>461.753</td>\n",
       "      <td>20.795</td>\n",
       "      <td>22.361</td>\n",
       "      <td>...</td>\n",
       "      <td>21.958</td>\n",
       "      <td>684.70</td>\n",
       "      <td>2.321</td>\n",
       "      <td>262.64</td>\n",
       "      <td>0.890</td>\n",
       "      <td>294993509.0</td>\n",
       "      <td>1.470373e+13</td>\n",
       "      <td>26788.164</td>\n",
       "      <td>90809.188</td>\n",
       "      <td>1.822</td>\n",
       "    </tr>\n",
       "    <tr>\n",
       "      <th>24053</th>\n",
       "      <td>USA</td>\n",
       "      <td>United States</td>\n",
       "      <td>2006</td>\n",
       "      <td>6051.668</td>\n",
       "      <td>6595.172</td>\n",
       "      <td>-1.35</td>\n",
       "      <td>-82.853</td>\n",
       "      <td>543.504</td>\n",
       "      <td>20.324</td>\n",
       "      <td>22.149</td>\n",
       "      <td>...</td>\n",
       "      <td>21.456</td>\n",
       "      <td>685.94</td>\n",
       "      <td>2.304</td>\n",
       "      <td>265.30</td>\n",
       "      <td>0.891</td>\n",
       "      <td>297758977.0</td>\n",
       "      <td>1.509588e+13</td>\n",
       "      <td>26571.789</td>\n",
       "      <td>89239.243</td>\n",
       "      <td>1.760</td>\n",
       "    </tr>\n",
       "    <tr>\n",
       "      <th>24054</th>\n",
       "      <td>USA</td>\n",
       "      <td>United States</td>\n",
       "      <td>2007</td>\n",
       "      <td>6131.004</td>\n",
       "      <td>6618.792</td>\n",
       "      <td>1.31</td>\n",
       "      <td>79.336</td>\n",
       "      <td>487.787</td>\n",
       "      <td>20.395</td>\n",
       "      <td>22.018</td>\n",
       "      <td>...</td>\n",
       "      <td>21.959</td>\n",
       "      <td>708.39</td>\n",
       "      <td>2.357</td>\n",
       "      <td>273.08</td>\n",
       "      <td>0.908</td>\n",
       "      <td>300608425.0</td>\n",
       "      <td>1.536446e+13</td>\n",
       "      <td>26943.482</td>\n",
       "      <td>89629.957</td>\n",
       "      <td>1.750</td>\n",
       "    </tr>\n",
       "    <tr>\n",
       "      <th>24055</th>\n",
       "      <td>USA</td>\n",
       "      <td>United States</td>\n",
       "      <td>2008</td>\n",
       "      <td>5914.078</td>\n",
       "      <td>6313.033</td>\n",
       "      <td>-3.54</td>\n",
       "      <td>-216.926</td>\n",
       "      <td>398.956</td>\n",
       "      <td>19.487</td>\n",
       "      <td>20.802</td>\n",
       "      <td>...</td>\n",
       "      <td>20.651</td>\n",
       "      <td>684.28</td>\n",
       "      <td>2.255</td>\n",
       "      <td>252.55</td>\n",
       "      <td>0.832</td>\n",
       "      <td>303486022.0</td>\n",
       "      <td>1.531973e+13</td>\n",
       "      <td>26277.996</td>\n",
       "      <td>86587.174</td>\n",
       "      <td>1.718</td>\n",
       "    </tr>\n",
       "    <tr>\n",
       "      <th>24056</th>\n",
       "      <td>USA</td>\n",
       "      <td>United States</td>\n",
       "      <td>2009</td>\n",
       "      <td>5478.210</td>\n",
       "      <td>5795.485</td>\n",
       "      <td>-7.37</td>\n",
       "      <td>-435.868</td>\n",
       "      <td>317.275</td>\n",
       "      <td>17.885</td>\n",
       "      <td>18.920</td>\n",
       "      <td>...</td>\n",
       "      <td>19.150</td>\n",
       "      <td>679.85</td>\n",
       "      <td>2.219</td>\n",
       "      <td>246.01</td>\n",
       "      <td>0.803</td>\n",
       "      <td>306307565.0</td>\n",
       "      <td>1.489429e+13</td>\n",
       "      <td>24978.914</td>\n",
       "      <td>81548.356</td>\n",
       "      <td>1.676</td>\n",
       "    </tr>\n",
       "    <tr>\n",
       "      <th>24057</th>\n",
       "      <td>USA</td>\n",
       "      <td>United States</td>\n",
       "      <td>2010</td>\n",
       "      <td>5675.786</td>\n",
       "      <td>5998.163</td>\n",
       "      <td>3.61</td>\n",
       "      <td>197.577</td>\n",
       "      <td>322.376</td>\n",
       "      <td>18.368</td>\n",
       "      <td>19.411</td>\n",
       "      <td>...</td>\n",
       "      <td>19.779</td>\n",
       "      <td>679.25</td>\n",
       "      <td>2.198</td>\n",
       "      <td>250.84</td>\n",
       "      <td>0.812</td>\n",
       "      <td>309011469.0</td>\n",
       "      <td>1.527062e+13</td>\n",
       "      <td>25825.740</td>\n",
       "      <td>83575.469</td>\n",
       "      <td>1.688</td>\n",
       "    </tr>\n",
       "    <tr>\n",
       "      <th>24058</th>\n",
       "      <td>USA</td>\n",
       "      <td>United States</td>\n",
       "      <td>2011</td>\n",
       "      <td>5540.173</td>\n",
       "      <td>5942.503</td>\n",
       "      <td>-2.39</td>\n",
       "      <td>-135.613</td>\n",
       "      <td>402.329</td>\n",
       "      <td>17.781</td>\n",
       "      <td>19.072</td>\n",
       "      <td>...</td>\n",
       "      <td>20.013</td>\n",
       "      <td>670.49</td>\n",
       "      <td>2.152</td>\n",
       "      <td>261.57</td>\n",
       "      <td>0.839</td>\n",
       "      <td>311584051.0</td>\n",
       "      <td>1.550930e+13</td>\n",
       "      <td>25580.121</td>\n",
       "      <td>82097.030</td>\n",
       "      <td>1.650</td>\n",
       "    </tr>\n",
       "    <tr>\n",
       "      <th>24059</th>\n",
       "      <td>USA</td>\n",
       "      <td>United States</td>\n",
       "      <td>2012</td>\n",
       "      <td>5338.698</td>\n",
       "      <td>5714.303</td>\n",
       "      <td>-3.64</td>\n",
       "      <td>-201.475</td>\n",
       "      <td>375.604</td>\n",
       "      <td>17.000</td>\n",
       "      <td>18.196</td>\n",
       "      <td>...</td>\n",
       "      <td>18.902</td>\n",
       "      <td>648.75</td>\n",
       "      <td>2.066</td>\n",
       "      <td>251.80</td>\n",
       "      <td>0.802</td>\n",
       "      <td>314043885.0</td>\n",
       "      <td>1.584964e+13</td>\n",
       "      <td>24913.288</td>\n",
       "      <td>79330.565</td>\n",
       "      <td>1.567</td>\n",
       "    </tr>\n",
       "    <tr>\n",
       "      <th>24060</th>\n",
       "      <td>USA</td>\n",
       "      <td>United States</td>\n",
       "      <td>2013</td>\n",
       "      <td>5474.257</td>\n",
       "      <td>5797.617</td>\n",
       "      <td>2.54</td>\n",
       "      <td>135.558</td>\n",
       "      <td>323.361</td>\n",
       "      <td>17.302</td>\n",
       "      <td>18.324</td>\n",
       "      <td>...</td>\n",
       "      <td>19.141</td>\n",
       "      <td>643.66</td>\n",
       "      <td>2.034</td>\n",
       "      <td>251.19</td>\n",
       "      <td>0.794</td>\n",
       "      <td>316400539.0</td>\n",
       "      <td>1.610843e+13</td>\n",
       "      <td>25582.098</td>\n",
       "      <td>80853.407</td>\n",
       "      <td>1.589</td>\n",
       "    </tr>\n",
       "    <tr>\n",
       "      <th>24061</th>\n",
       "      <td>USA</td>\n",
       "      <td>United States</td>\n",
       "      <td>2014</td>\n",
       "      <td>5522.807</td>\n",
       "      <td>5823.158</td>\n",
       "      <td>0.89</td>\n",
       "      <td>48.550</td>\n",
       "      <td>300.350</td>\n",
       "      <td>17.331</td>\n",
       "      <td>18.273</td>\n",
       "      <td>...</td>\n",
       "      <td>19.135</td>\n",
       "      <td>650.62</td>\n",
       "      <td>2.042</td>\n",
       "      <td>251.37</td>\n",
       "      <td>0.789</td>\n",
       "      <td>318673422.0</td>\n",
       "      <td>1.648266e+13</td>\n",
       "      <td>25848.401</td>\n",
       "      <td>81112.618</td>\n",
       "      <td>1.567</td>\n",
       "    </tr>\n",
       "    <tr>\n",
       "      <th>24062</th>\n",
       "      <td>USA</td>\n",
       "      <td>United States</td>\n",
       "      <td>2015</td>\n",
       "      <td>5371.771</td>\n",
       "      <td>5699.688</td>\n",
       "      <td>-2.73</td>\n",
       "      <td>-151.037</td>\n",
       "      <td>327.918</td>\n",
       "      <td>16.741</td>\n",
       "      <td>17.763</td>\n",
       "      <td>...</td>\n",
       "      <td>18.594</td>\n",
       "      <td>648.55</td>\n",
       "      <td>2.021</td>\n",
       "      <td>249.24</td>\n",
       "      <td>0.777</td>\n",
       "      <td>320878312.0</td>\n",
       "      <td>1.690258e+13</td>\n",
       "      <td>25596.966</td>\n",
       "      <td>79771.642</td>\n",
       "      <td>1.515</td>\n",
       "    </tr>\n",
       "    <tr>\n",
       "      <th>24063</th>\n",
       "      <td>USA</td>\n",
       "      <td>United States</td>\n",
       "      <td>2016</td>\n",
       "      <td>5248.024</td>\n",
       "      <td>5576.720</td>\n",
       "      <td>-2.30</td>\n",
       "      <td>-123.747</td>\n",
       "      <td>328.696</td>\n",
       "      <td>16.247</td>\n",
       "      <td>17.264</td>\n",
       "      <td>...</td>\n",
       "      <td>18.059</td>\n",
       "      <td>629.38</td>\n",
       "      <td>1.948</td>\n",
       "      <td>251.70</td>\n",
       "      <td>0.779</td>\n",
       "      <td>323015992.0</td>\n",
       "      <td>1.716256e+13</td>\n",
       "      <td>25560.520</td>\n",
       "      <td>79130.818</td>\n",
       "      <td>1.486</td>\n",
       "    </tr>\n",
       "    <tr>\n",
       "      <th>24064</th>\n",
       "      <td>USA</td>\n",
       "      <td>United States</td>\n",
       "      <td>2017</td>\n",
       "      <td>5207.751</td>\n",
       "      <td>5550.772</td>\n",
       "      <td>-0.77</td>\n",
       "      <td>-40.273</td>\n",
       "      <td>343.021</td>\n",
       "      <td>16.020</td>\n",
       "      <td>17.075</td>\n",
       "      <td>...</td>\n",
       "      <td>NaN</td>\n",
       "      <td>NaN</td>\n",
       "      <td>NaN</td>\n",
       "      <td>NaN</td>\n",
       "      <td>NaN</td>\n",
       "      <td>325084758.0</td>\n",
       "      <td>1.759628e+13</td>\n",
       "      <td>25647.389</td>\n",
       "      <td>78894.410</td>\n",
       "      <td>NaN</td>\n",
       "    </tr>\n",
       "    <tr>\n",
       "      <th>24065</th>\n",
       "      <td>USA</td>\n",
       "      <td>United States</td>\n",
       "      <td>2018</td>\n",
       "      <td>5375.491</td>\n",
       "      <td>5726.611</td>\n",
       "      <td>3.22</td>\n",
       "      <td>167.739</td>\n",
       "      <td>351.120</td>\n",
       "      <td>16.434</td>\n",
       "      <td>17.507</td>\n",
       "      <td>...</td>\n",
       "      <td>NaN</td>\n",
       "      <td>NaN</td>\n",
       "      <td>NaN</td>\n",
       "      <td>NaN</td>\n",
       "      <td>NaN</td>\n",
       "      <td>327096263.0</td>\n",
       "      <td>1.814065e+13</td>\n",
       "      <td>26556.388</td>\n",
       "      <td>81188.359</td>\n",
       "      <td>NaN</td>\n",
       "    </tr>\n",
       "    <tr>\n",
       "      <th>24066</th>\n",
       "      <td>USA</td>\n",
       "      <td>United States</td>\n",
       "      <td>2019</td>\n",
       "      <td>5255.816</td>\n",
       "      <td>5625.784</td>\n",
       "      <td>-2.23</td>\n",
       "      <td>-119.674</td>\n",
       "      <td>369.967</td>\n",
       "      <td>15.972</td>\n",
       "      <td>17.096</td>\n",
       "      <td>...</td>\n",
       "      <td>NaN</td>\n",
       "      <td>NaN</td>\n",
       "      <td>NaN</td>\n",
       "      <td>NaN</td>\n",
       "      <td>NaN</td>\n",
       "      <td>329064917.0</td>\n",
       "      <td>NaN</td>\n",
       "      <td>26291.355</td>\n",
       "      <td>79897.151</td>\n",
       "      <td>NaN</td>\n",
       "    </tr>\n",
       "  </tbody>\n",
       "</table>\n",
       "<p>30 rows × 58 columns</p>\n",
       "</div>"
      ],
      "text/plain": [
       "      iso_code        country  year       co2  consumption_co2  \\\n",
       "24037      USA  United States  1990  5113.455         5031.786   \n",
       "24038      USA  United States  1991  5057.931         4949.136   \n",
       "24039      USA  United States  1992  5167.481         5134.515   \n",
       "24040      USA  United States  1993  5267.343         5194.300   \n",
       "24041      USA  United States  1994  5358.824         5295.360   \n",
       "24042      USA  United States  1995  5421.502         5356.474   \n",
       "24043      USA  United States  1996  5610.582         5526.463   \n",
       "24044      USA  United States  1997  5686.465         5632.188   \n",
       "24045      USA  United States  1998  5731.050         5795.627   \n",
       "24046      USA  United States  1999  5804.669         5961.355   \n",
       "24047      USA  United States  2000  6010.508         6255.891   \n",
       "24048      USA  United States  2001  5904.882         6163.755   \n",
       "24049      USA  United States  2002  5946.771         6285.678   \n",
       "24050      USA  United States  2003  6011.837         6380.355   \n",
       "24051      USA  United States  2004  6114.007         6560.312   \n",
       "24052      USA  United States  2005  6134.521         6596.274   \n",
       "24053      USA  United States  2006  6051.668         6595.172   \n",
       "24054      USA  United States  2007  6131.004         6618.792   \n",
       "24055      USA  United States  2008  5914.078         6313.033   \n",
       "24056      USA  United States  2009  5478.210         5795.485   \n",
       "24057      USA  United States  2010  5675.786         5998.163   \n",
       "24058      USA  United States  2011  5540.173         5942.503   \n",
       "24059      USA  United States  2012  5338.698         5714.303   \n",
       "24060      USA  United States  2013  5474.257         5797.617   \n",
       "24061      USA  United States  2014  5522.807         5823.158   \n",
       "24062      USA  United States  2015  5371.771         5699.688   \n",
       "24063      USA  United States  2016  5248.024         5576.720   \n",
       "24064      USA  United States  2017  5207.751         5550.772   \n",
       "24065      USA  United States  2018  5375.491         5726.611   \n",
       "24066      USA  United States  2019  5255.816         5625.784   \n",
       "\n",
       "       co2_growth_prct  co2_growth_abs  trade_co2  co2_per_capita  \\\n",
       "24037            -0.36         -18.472    -81.669          20.282   \n",
       "24038            -1.09         -55.524   -108.795          19.871   \n",
       "24039             2.17         109.550    -32.966          20.108   \n",
       "24040             1.93          99.862    -73.043          20.296   \n",
       "24041             1.74          91.481    -63.464          20.435   \n",
       "24042             1.17          62.678    -65.028          20.446   \n",
       "24043             3.49         189.079    -84.119          20.909   \n",
       "24044             1.35          75.883    -54.277          20.928   \n",
       "24045             0.78          44.585     64.578          20.827   \n",
       "24046             1.28          73.619    156.686          20.839   \n",
       "24047             3.55         205.839    245.382          21.336   \n",
       "24048            -1.76        -105.627    258.874          20.747   \n",
       "24049             0.71          41.889    338.908          20.700   \n",
       "24050             1.09          65.067    368.517          20.744   \n",
       "24051             1.70         102.169    446.305          20.913   \n",
       "24052             0.34          20.515    461.753          20.795   \n",
       "24053            -1.35         -82.853    543.504          20.324   \n",
       "24054             1.31          79.336    487.787          20.395   \n",
       "24055            -3.54        -216.926    398.956          19.487   \n",
       "24056            -7.37        -435.868    317.275          17.885   \n",
       "24057             3.61         197.577    322.376          18.368   \n",
       "24058            -2.39        -135.613    402.329          17.781   \n",
       "24059            -3.64        -201.475    375.604          17.000   \n",
       "24060             2.54         135.558    323.361          17.302   \n",
       "24061             0.89          48.550    300.350          17.331   \n",
       "24062            -2.73        -151.037    327.918          16.741   \n",
       "24063            -2.30        -123.747    328.696          16.247   \n",
       "24064            -0.77         -40.273    343.021          16.020   \n",
       "24065             3.22         167.739    351.120          16.434   \n",
       "24066            -2.23        -119.674    369.967          15.972   \n",
       "\n",
       "       consumption_co2_per_capita  ...  ghg_per_capita  methane  \\\n",
       "24037                      19.958  ...          22.488   798.61   \n",
       "24038                      19.444  ...          22.110   801.89   \n",
       "24039                      19.979  ...          22.215   800.73   \n",
       "24040                      20.014  ...          22.422   783.55   \n",
       "24041                      20.193  ...          22.522   790.58   \n",
       "24042                      20.201  ...          22.517   777.91   \n",
       "24043                      20.595  ...          22.618   754.68   \n",
       "24044                      20.728  ...          23.196   734.60   \n",
       "24045                      21.062  ...          23.060   717.39   \n",
       "24046                      21.402  ...          22.853   708.26   \n",
       "24047                      22.207  ...          23.056   693.11   \n",
       "24048                      21.657  ...          22.626   693.96   \n",
       "24049                      21.880  ...          22.005   692.33   \n",
       "24050                      22.015  ...          21.921   685.60   \n",
       "24051                      22.440  ...          22.234   695.48   \n",
       "24052                      22.361  ...          21.958   684.70   \n",
       "24053                      22.149  ...          21.456   685.94   \n",
       "24054                      22.018  ...          21.959   708.39   \n",
       "24055                      20.802  ...          20.651   684.28   \n",
       "24056                      18.920  ...          19.150   679.85   \n",
       "24057                      19.411  ...          19.779   679.25   \n",
       "24058                      19.072  ...          20.013   670.49   \n",
       "24059                      18.196  ...          18.902   648.75   \n",
       "24060                      18.324  ...          19.141   643.66   \n",
       "24061                      18.273  ...          19.135   650.62   \n",
       "24062                      17.763  ...          18.594   648.55   \n",
       "24063                      17.264  ...          18.059   629.38   \n",
       "24064                      17.075  ...             NaN      NaN   \n",
       "24065                      17.507  ...             NaN      NaN   \n",
       "24066                      17.096  ...             NaN      NaN   \n",
       "\n",
       "       methane_per_capita  nitrous_oxide  nitrous_oxide_per_capita  \\\n",
       "24037               3.168         254.99                     1.011   \n",
       "24038               3.150         256.20                     1.007   \n",
       "24039               3.116         261.95                     1.019   \n",
       "24040               3.019         269.35                     1.038   \n",
       "24041               3.015         273.36                     1.042   \n",
       "24042               2.934         278.99                     1.052   \n",
       "24043               2.812         282.97                     1.055   \n",
       "24044               2.704         275.64                     1.014   \n",
       "24045               2.607         272.74                     0.991   \n",
       "24046               2.543         268.40                     0.964   \n",
       "24047               2.460         263.79                     0.936   \n",
       "24048               2.438         258.96                     0.910   \n",
       "24049               2.410         260.45                     0.907   \n",
       "24050               2.366         264.54                     0.913   \n",
       "24051               2.379         264.35                     0.904   \n",
       "24052               2.321         262.64                     0.890   \n",
       "24053               2.304         265.30                     0.891   \n",
       "24054               2.357         273.08                     0.908   \n",
       "24055               2.255         252.55                     0.832   \n",
       "24056               2.219         246.01                     0.803   \n",
       "24057               2.198         250.84                     0.812   \n",
       "24058               2.152         261.57                     0.839   \n",
       "24059               2.066         251.80                     0.802   \n",
       "24060               2.034         251.19                     0.794   \n",
       "24061               2.042         251.37                     0.789   \n",
       "24062               2.021         249.24                     0.777   \n",
       "24063               1.948         251.70                     0.779   \n",
       "24064                 NaN            NaN                       NaN   \n",
       "24065                 NaN            NaN                       NaN   \n",
       "24066                 NaN            NaN                       NaN   \n",
       "\n",
       "        population           gdp  primary_energy_consumption  \\\n",
       "24037  252120309.0  9.250378e+12                   22498.158   \n",
       "24038  254539371.0  9.243499e+12                   22466.677   \n",
       "24039  256990608.0  9.572148e+12                   22803.378   \n",
       "24040  259532130.0  9.834941e+12                   23279.396   \n",
       "24041  262241204.0  1.023202e+13                   23712.755   \n",
       "24042  265163740.0  1.051026e+13                   24222.295   \n",
       "24043  268335007.0  1.090917e+13                   25035.434   \n",
       "24044  271713634.0  1.139876e+13                   25225.640   \n",
       "24045  275175309.0  1.190603e+13                   25391.342   \n",
       "24046  278548148.0  1.246382e+13                   25840.805   \n",
       "24047  281710914.0  1.297384e+13                   26427.463   \n",
       "24048  284607992.0  1.310047e+13                   25804.055   \n",
       "24049  287279312.0  1.333449e+13                   26177.526   \n",
       "24050  289815567.0  1.370881e+13                   26259.752   \n",
       "24051  292354663.0  1.422788e+13                   26776.886   \n",
       "24052  294993509.0  1.470373e+13                   26788.164   \n",
       "24053  297758977.0  1.509588e+13                   26571.789   \n",
       "24054  300608425.0  1.536446e+13                   26943.482   \n",
       "24055  303486022.0  1.531973e+13                   26277.996   \n",
       "24056  306307565.0  1.489429e+13                   24978.914   \n",
       "24057  309011469.0  1.527062e+13                   25825.740   \n",
       "24058  311584051.0  1.550930e+13                   25580.121   \n",
       "24059  314043885.0  1.584964e+13                   24913.288   \n",
       "24060  316400539.0  1.610843e+13                   25582.098   \n",
       "24061  318673422.0  1.648266e+13                   25848.401   \n",
       "24062  320878312.0  1.690258e+13                   25596.966   \n",
       "24063  323015992.0  1.716256e+13                   25560.520   \n",
       "24064  325084758.0  1.759628e+13                   25647.389   \n",
       "24065  327096263.0  1.814065e+13                   26556.388   \n",
       "24066  329064917.0           NaN                   26291.355   \n",
       "\n",
       "       energy_per_capita  energy_per_gdp  \n",
       "24037          89235.912           2.432  \n",
       "24038          88264.181           2.431  \n",
       "24039          88732.202           2.383  \n",
       "24040          89697.594           2.366  \n",
       "24041          90423.527           2.325  \n",
       "24042          91348.356           2.307  \n",
       "24043          93299.171           2.297  \n",
       "24044          92838.946           2.213  \n",
       "24045          92273.429           2.134  \n",
       "24046          92769.666           2.067  \n",
       "24047          93810.546           2.033  \n",
       "24048          90665.250           1.970  \n",
       "24049          91122.307           1.968  \n",
       "24050          90608.360           1.917  \n",
       "24051          91590.312           1.886  \n",
       "24052          90809.188           1.822  \n",
       "24053          89239.243           1.760  \n",
       "24054          89629.957           1.750  \n",
       "24055          86587.174           1.718  \n",
       "24056          81548.356           1.676  \n",
       "24057          83575.469           1.688  \n",
       "24058          82097.030           1.650  \n",
       "24059          79330.565           1.567  \n",
       "24060          80853.407           1.589  \n",
       "24061          81112.618           1.567  \n",
       "24062          79771.642           1.515  \n",
       "24063          79130.818           1.486  \n",
       "24064          78894.410             NaN  \n",
       "24065          81188.359             NaN  \n",
       "24066          79897.151             NaN  \n",
       "\n",
       "[30 rows x 58 columns]"
      ]
     },
     "execution_count": 228,
     "metadata": {},
     "output_type": "execute_result"
    }
   ],
   "source": [
    "co2_df = co2_df[co2_df.year.between(cause_df.year.min(), cause_df.year.max())]\n",
    "co2_df[co2_df.iso_code==\"USA\"]"
   ]
  },
  {
   "cell_type": "code",
   "execution_count": 205,
   "metadata": {},
   "outputs": [],
   "source": [
    "def get_all_vs_air(df, cause=None):\n",
    "    result_df = [\n",
    "        df,  # all\n",
    "        df,  # air\n",
    "    ]\n",
    "    for index, poll in enumerate([\"All risk factors\", \"Air pollution\"]):\n",
    "        temp = result_df[index]\n",
    "        temp = temp[temp.rei == poll]\n",
    "        if cause:\n",
    "            temp = temp[temp.cause == cause]\n",
    "        result_df[index] = temp\n",
    "    # air_global_df = global_df[global_df.rei == ]\n",
    "    # all_global_df = global_df[global_df.rei == ]\n",
    "    \n",
    "    for index, temp_df in enumerate(result_df):\n",
    "\n",
    "        result_df[index] = temp_df.groupby(\"year\").agg(\n",
    "            val = ('val', 'sum')\n",
    "        ).reset_index()\n",
    "\n",
    "    # air_global_df = air_global_df.groupby(\"year\").agg(\n",
    "    #     val = ('val', 'sum')\n",
    "    # ).reset_index()\n",
    "\n",
    "    return result_df\n"
   ]
  },
  {
   "cell_type": "code",
   "execution_count": 206,
   "metadata": {},
   "outputs": [],
   "source": [
    "specific_cases = [\n",
    "    None, # scan all\n",
    "    \"Chronic respiratory diseases\",\n",
    "    \"Cardiovascular diseases\",\n",
    "]"
   ]
  },
  {
   "cell_type": "code",
   "execution_count": 246,
   "metadata": {},
   "outputs": [],
   "source": [
    "# fig = px.line(air_global_df, x=\"year\", y=\"val\")\n",
    "# Create tracesfrom plotly.subplots import make_subplots\n",
    "def draw_plot(df, co2, where):\n",
    "    fig = make_subplots(\n",
    "        rows=len(specific_cases)+1, cols=1, shared_xaxes=True, x_title=\"year\", y_title=\"Rate (per 100,000)\",\n",
    "        subplot_titles=[i if i else \"All Causes\" for i in specific_cases ].append(\"Co2 per Capita\")\n",
    "    )\n",
    "    # fig = go.Figure()\n",
    "\n",
    "    for row, cause in enumerate(specific_cases):\n",
    "        all_risk_df, air_risk_df = get_all_vs_air(df, cause)\n",
    "\n",
    "        fig.add_trace(\n",
    "            go.Scatter(\n",
    "                x=all_risk_df.year,\n",
    "                y=all_risk_df.val,\n",
    "                mode=\"lines+markers\",\n",
    "                name=\"All Risk Factor\",\n",
    "            ),\n",
    "            row=row + 1,\n",
    "            col=1,\n",
    "        )\n",
    "        fig.add_trace(\n",
    "            go.Scatter(\n",
    "                x=air_risk_df.year,\n",
    "                y=air_risk_df.val,\n",
    "                mode=\"lines+markers\",\n",
    "                name=\"Air Pollution\",\n",
    "            ),\n",
    "            row=row + 1,\n",
    "            col=1,\n",
    "        )\n",
    "    last_row = len(specific_cases)+1\n",
    "\n",
    "    fig.add_trace(\n",
    "        go.Scatter(\n",
    "            x=co2.year,\n",
    "            y=co2.co2_per_capita,\n",
    "            mode=\"lines\",\n",
    "            name=\"co2 per capita\",\n",
    "        ),\n",
    "        row=last_row,\n",
    "        col=1,\n",
    "    )\n",
    "\n",
    "\n",
    "    fig.update_layout(\n",
    "        title=f\"Compare Death rate for <b>All Risk Factor</b> vs <b>Air Pollution</b> over the years 1990 to 2019<br>{where}\",\n",
    "        legend_title=\"Risk Factor\",\n",
    "    )\n",
    "    fig[\"layout\"][\"hovermode\"] = \"x\"\n",
    "    return fig\n"
   ]
  },
  {
   "cell_type": "code",
   "execution_count": 247,
   "metadata": {},
   "outputs": [
    {
     "data": {
      "text/html": [
       "<div>\n",
       "<style scoped>\n",
       "    .dataframe tbody tr th:only-of-type {\n",
       "        vertical-align: middle;\n",
       "    }\n",
       "\n",
       "    .dataframe tbody tr th {\n",
       "        vertical-align: top;\n",
       "    }\n",
       "\n",
       "    .dataframe thead th {\n",
       "        text-align: right;\n",
       "    }\n",
       "</style>\n",
       "<table border=\"1\" class=\"dataframe\">\n",
       "  <thead>\n",
       "    <tr style=\"text-align: right;\">\n",
       "      <th></th>\n",
       "      <th>iso_code</th>\n",
       "      <th>country</th>\n",
       "      <th>year</th>\n",
       "      <th>co2</th>\n",
       "      <th>consumption_co2</th>\n",
       "      <th>co2_growth_prct</th>\n",
       "      <th>co2_growth_abs</th>\n",
       "      <th>trade_co2</th>\n",
       "      <th>co2_per_capita</th>\n",
       "      <th>consumption_co2_per_capita</th>\n",
       "      <th>...</th>\n",
       "      <th>ghg_per_capita</th>\n",
       "      <th>methane</th>\n",
       "      <th>methane_per_capita</th>\n",
       "      <th>nitrous_oxide</th>\n",
       "      <th>nitrous_oxide_per_capita</th>\n",
       "      <th>population</th>\n",
       "      <th>gdp</th>\n",
       "      <th>primary_energy_consumption</th>\n",
       "      <th>energy_per_capita</th>\n",
       "      <th>energy_per_gdp</th>\n",
       "    </tr>\n",
       "  </thead>\n",
       "  <tbody>\n",
       "    <tr>\n",
       "      <th>24913</th>\n",
       "      <td>OWID_WRL</td>\n",
       "      <td>World</td>\n",
       "      <td>1990</td>\n",
       "      <td>22749.574</td>\n",
       "      <td>22749.574</td>\n",
       "      <td>1.53</td>\n",
       "      <td>342.742</td>\n",
       "      <td>0.0</td>\n",
       "      <td>4.270</td>\n",
       "      <td>4.270</td>\n",
       "      <td>...</td>\n",
       "      <td>6.564</td>\n",
       "      <td>7415.58</td>\n",
       "      <td>1.392</td>\n",
       "      <td>2460.54</td>\n",
       "      <td>0.462</td>\n",
       "      <td>5.327529e+09</td>\n",
       "      <td>4.301825e+13</td>\n",
       "      <td>95062.948</td>\n",
       "      <td>17844.721</td>\n",
       "      <td>2.201</td>\n",
       "    </tr>\n",
       "    <tr>\n",
       "      <th>24914</th>\n",
       "      <td>OWID_WRL</td>\n",
       "      <td>World</td>\n",
       "      <td>1991</td>\n",
       "      <td>23238.102</td>\n",
       "      <td>23238.102</td>\n",
       "      <td>2.15</td>\n",
       "      <td>488.528</td>\n",
       "      <td>-0.0</td>\n",
       "      <td>4.292</td>\n",
       "      <td>4.292</td>\n",
       "      <td>...</td>\n",
       "      <td>6.488</td>\n",
       "      <td>7387.74</td>\n",
       "      <td>1.364</td>\n",
       "      <td>2447.93</td>\n",
       "      <td>0.452</td>\n",
       "      <td>5.414289e+09</td>\n",
       "      <td>NaN</td>\n",
       "      <td>95730.260</td>\n",
       "      <td>17681.040</td>\n",
       "      <td>2.191</td>\n",
       "    </tr>\n",
       "    <tr>\n",
       "      <th>24915</th>\n",
       "      <td>OWID_WRL</td>\n",
       "      <td>World</td>\n",
       "      <td>1992</td>\n",
       "      <td>22569.624</td>\n",
       "      <td>22569.624</td>\n",
       "      <td>-2.88</td>\n",
       "      <td>-668.478</td>\n",
       "      <td>-0.0</td>\n",
       "      <td>4.104</td>\n",
       "      <td>4.104</td>\n",
       "      <td>...</td>\n",
       "      <td>6.362</td>\n",
       "      <td>7322.48</td>\n",
       "      <td>1.332</td>\n",
       "      <td>2440.49</td>\n",
       "      <td>0.444</td>\n",
       "      <td>5.498920e+09</td>\n",
       "      <td>NaN</td>\n",
       "      <td>96449.162</td>\n",
       "      <td>17539.656</td>\n",
       "      <td>2.153</td>\n",
       "    </tr>\n",
       "    <tr>\n",
       "      <th>24916</th>\n",
       "      <td>OWID_WRL</td>\n",
       "      <td>World</td>\n",
       "      <td>1993</td>\n",
       "      <td>22803.495</td>\n",
       "      <td>22803.495</td>\n",
       "      <td>1.04</td>\n",
       "      <td>233.871</td>\n",
       "      <td>0.0</td>\n",
       "      <td>4.085</td>\n",
       "      <td>4.085</td>\n",
       "      <td>...</td>\n",
       "      <td>6.285</td>\n",
       "      <td>7300.62</td>\n",
       "      <td>1.308</td>\n",
       "      <td>2428.77</td>\n",
       "      <td>0.435</td>\n",
       "      <td>5.581598e+09</td>\n",
       "      <td>NaN</td>\n",
       "      <td>97120.246</td>\n",
       "      <td>17400.078</td>\n",
       "      <td>2.139</td>\n",
       "    </tr>\n",
       "    <tr>\n",
       "      <th>24917</th>\n",
       "      <td>OWID_WRL</td>\n",
       "      <td>World</td>\n",
       "      <td>1994</td>\n",
       "      <td>22964.583</td>\n",
       "      <td>22964.583</td>\n",
       "      <td>0.71</td>\n",
       "      <td>161.088</td>\n",
       "      <td>0.0</td>\n",
       "      <td>4.055</td>\n",
       "      <td>4.055</td>\n",
       "      <td>...</td>\n",
       "      <td>6.231</td>\n",
       "      <td>7274.33</td>\n",
       "      <td>1.285</td>\n",
       "      <td>2514.99</td>\n",
       "      <td>0.444</td>\n",
       "      <td>5.663150e+09</td>\n",
       "      <td>NaN</td>\n",
       "      <td>98363.268</td>\n",
       "      <td>17369.002</td>\n",
       "      <td>2.115</td>\n",
       "    </tr>\n",
       "  </tbody>\n",
       "</table>\n",
       "<p>5 rows × 58 columns</p>\n",
       "</div>"
      ],
      "text/plain": [
       "       iso_code country  year        co2  consumption_co2  co2_growth_prct  \\\n",
       "24913  OWID_WRL   World  1990  22749.574        22749.574             1.53   \n",
       "24914  OWID_WRL   World  1991  23238.102        23238.102             2.15   \n",
       "24915  OWID_WRL   World  1992  22569.624        22569.624            -2.88   \n",
       "24916  OWID_WRL   World  1993  22803.495        22803.495             1.04   \n",
       "24917  OWID_WRL   World  1994  22964.583        22964.583             0.71   \n",
       "\n",
       "       co2_growth_abs  trade_co2  co2_per_capita  consumption_co2_per_capita  \\\n",
       "24913         342.742        0.0           4.270                       4.270   \n",
       "24914         488.528       -0.0           4.292                       4.292   \n",
       "24915        -668.478       -0.0           4.104                       4.104   \n",
       "24916         233.871        0.0           4.085                       4.085   \n",
       "24917         161.088        0.0           4.055                       4.055   \n",
       "\n",
       "       ...  ghg_per_capita  methane  methane_per_capita  nitrous_oxide  \\\n",
       "24913  ...           6.564  7415.58               1.392        2460.54   \n",
       "24914  ...           6.488  7387.74               1.364        2447.93   \n",
       "24915  ...           6.362  7322.48               1.332        2440.49   \n",
       "24916  ...           6.285  7300.62               1.308        2428.77   \n",
       "24917  ...           6.231  7274.33               1.285        2514.99   \n",
       "\n",
       "       nitrous_oxide_per_capita    population           gdp  \\\n",
       "24913                     0.462  5.327529e+09  4.301825e+13   \n",
       "24914                     0.452  5.414289e+09           NaN   \n",
       "24915                     0.444  5.498920e+09           NaN   \n",
       "24916                     0.435  5.581598e+09           NaN   \n",
       "24917                     0.444  5.663150e+09           NaN   \n",
       "\n",
       "       primary_energy_consumption  energy_per_capita  energy_per_gdp  \n",
       "24913                   95062.948          17844.721           2.201  \n",
       "24914                   95730.260          17681.040           2.191  \n",
       "24915                   96449.162          17539.656           2.153  \n",
       "24916                   97120.246          17400.078           2.139  \n",
       "24917                   98363.268          17369.002           2.115  \n",
       "\n",
       "[5 rows x 58 columns]"
      ]
     },
     "execution_count": 247,
     "metadata": {},
     "output_type": "execute_result"
    }
   ],
   "source": [
    "co2_world.head()"
   ]
  },
  {
   "cell_type": "code",
   "execution_count": 249,
   "metadata": {},
   "outputs": [
    {
     "data": {
      "application/vnd.plotly.v1+json": {
       "config": {
        "plotlyServerURL": "https://plot.ly"
       },
       "data": [
        {
         "mode": "lines+markers",
         "name": "All Risk Factor",
         "type": "scatter",
         "x": [
          1990,
          1991,
          1992,
          1993,
          1994,
          1995,
          1996,
          1997,
          1998,
          1999,
          2000,
          2001,
          2002,
          2003,
          2004,
          2005,
          2006,
          2007,
          2008,
          2009,
          2010,
          2011,
          2012,
          2013,
          2014,
          2015,
          2016,
          2017,
          2018,
          2019
         ],
         "xaxis": "x",
         "y": [
          277.15239715689455,
          277.2783960078194,
          278.5023891826346,
          282.4454552512524,
          283.22265705812254,
          281.8695540212493,
          280.167335515299,
          279.0787884738447,
          277.86911833914735,
          279.1438116720497,
          280.240603740794,
          280.74510056586666,
          282.75969491966373,
          282.95680074536546,
          280.2123334956755,
          280.9979377059349,
          277.2711741374248,
          276.06306910044594,
          277.67651483502345,
          276.7836039265169,
          278.02914933700293,
          278.0078742544545,
          278.09377681909024,
          278.7348472340836,
          279.1898418140198,
          281.70457970907586,
          283.39869294698633,
          284.87535006806434,
          288.69713965034714,
          292.92578919524544
         ],
         "yaxis": "y"
        },
        {
         "mode": "lines+markers",
         "name": "Air Pollution",
         "type": "scatter",
         "x": [
          1990,
          1991,
          1992,
          1993,
          1994,
          1995,
          1996,
          1997,
          1998,
          1999,
          2000,
          2001,
          2002,
          2003,
          2004,
          2005,
          2006,
          2007,
          2008,
          2009,
          2010,
          2011,
          2012,
          2013,
          2014,
          2015,
          2016,
          2017,
          2018,
          2019
         ],
         "xaxis": "x",
         "y": [
          78.598333730684,
          78.03622496856683,
          77.7760884751672,
          77.82784563314945,
          77.35495771699982,
          76.46850505014527,
          75.88948791609317,
          75.66661410238545,
          74.8604734628779,
          74.4276851260257,
          74.42700822945439,
          74.31477363321419,
          74.3684966922686,
          73.88832635893685,
          72.8159912264178,
          72.50481246049866,
          71.55328511934651,
          71.04850607394974,
          71.22022067945404,
          70.52380716056297,
          70.42309740251541,
          70.19702954878494,
          69.71212880466344,
          69.31864500294894,
          68.73760660158453,
          68.62026516753191,
          67.96695873554185,
          67.2566841223802,
          67.3853437938073,
          67.76560155576836
         ],
         "yaxis": "y"
        },
        {
         "mode": "lines+markers",
         "name": "All Risk Factor",
         "type": "scatter",
         "x": [
          1990,
          1991,
          1992,
          1993,
          1994,
          1995,
          1996,
          1997,
          1998,
          1999,
          2000,
          2001,
          2002,
          2003,
          2004,
          2005,
          2006,
          2007,
          2008,
          2009,
          2010,
          2011,
          2012,
          2013,
          2014,
          2015,
          2016,
          2017,
          2018,
          2019
         ],
         "xaxis": "x2",
         "y": [
          43.68660418579584,
          43.80350685208577,
          43.94382878366846,
          44.0846911199163,
          43.79171951970706,
          43.36750057675761,
          43.1132540969543,
          42.90904144325795,
          42.41921579998183,
          42.01669615597365,
          41.78432230765473,
          41.33241812802768,
          40.98086660844104,
          40.394578111714615,
          39.46375696390078,
          38.983121350743815,
          38.05040978632429,
          37.45640142404168,
          37.30905679649259,
          36.56612911233318,
          36.12322423612856,
          35.80644035959828,
          35.467531796578164,
          35.416028298374975,
          35.26135850368431,
          35.06151947029028,
          35.00713476069216,
          35.00503007941248,
          35.354797661358845,
          35.734527137710685
         ],
         "yaxis": "y2"
        },
        {
         "mode": "lines+markers",
         "name": "Air Pollution",
         "type": "scatter",
         "x": [
          1990,
          1991,
          1992,
          1993,
          1994,
          1995,
          1996,
          1997,
          1998,
          1999,
          2000,
          2001,
          2002,
          2003,
          2004,
          2005,
          2006,
          2007,
          2008,
          2009,
          2010,
          2011,
          2012,
          2013,
          2014,
          2015,
          2016,
          2017,
          2018,
          2019
         ],
         "xaxis": "x2",
         "y": [
          25.7957711551252,
          25.599696273706268,
          25.42321867891191,
          25.22326526529461,
          24.851699144129864,
          24.361986761487024,
          24.02532506013345,
          23.83911742263728,
          23.355578770611128,
          22.91162837156151,
          22.55864452646422,
          22.218344592601365,
          21.87284818309768,
          21.427094416434315,
          20.81216911407669,
          20.46919868892804,
          20.064639968826327,
          19.70102035064355,
          19.531673967394763,
          18.834325252843783,
          18.40499992226016,
          18.152057708547684,
          17.86062970693447,
          17.739165024349017,
          17.540509468942616,
          17.33509266790033,
          17.126839104448642,
          16.920457849536287,
          16.894709327879884,
          16.93365319584741
         ],
         "yaxis": "y2"
        },
        {
         "mode": "lines+markers",
         "name": "All Risk Factor",
         "type": "scatter",
         "x": [
          1990,
          1991,
          1992,
          1993,
          1994,
          1995,
          1996,
          1997,
          1998,
          1999,
          2000,
          2001,
          2002,
          2003,
          2004,
          2005,
          2006,
          2007,
          2008,
          2009,
          2010,
          2011,
          2012,
          2013,
          2014,
          2015,
          2016,
          2017,
          2018,
          2019
         ],
         "xaxis": "x3",
         "y": [
          193.6207952805865,
          193.273690385189,
          193.937837425727,
          196.9900860104732,
          197.70500592246268,
          196.5343393013299,
          195.0756139978793,
          194.1729584265641,
          193.21173433633075,
          194.37226077359887,
          195.23703240890003,
          195.9552782233524,
          197.8973270418342,
          198.2825296942184,
          196.1698026013332,
          197.0266638565925,
          194.3995622150056,
          193.53568795311165,
          194.75876956721035,
          194.2679896733448,
          195.55250641841383,
          195.624291290781,
          195.79500237809768,
          196.3140083526997,
          196.62911587882635,
          198.7660996439077,
          200.006597580724,
          200.97779011692927,
          203.52682461546385,
          206.29342600453853
         ],
         "yaxis": "y3"
        },
        {
         "mode": "lines+markers",
         "name": "Air Pollution",
         "type": "scatter",
         "x": [
          1990,
          1991,
          1992,
          1993,
          1994,
          1995,
          1996,
          1997,
          1998,
          1999,
          2000,
          2001,
          2002,
          2003,
          2004,
          2005,
          2006,
          2007,
          2008,
          2009,
          2010,
          2011,
          2012,
          2013,
          2014,
          2015,
          2016,
          2017,
          2018,
          2019
         ],
         "xaxis": "x3",
         "y": [
          48.67061497477802,
          48.301311680082485,
          48.21282731527508,
          48.4259674236189,
          48.313495680443495,
          47.90393998087792,
          47.65559772995756,
          47.6138108171469,
          47.27961205240384,
          47.24953648930412,
          47.53701622874292,
          47.72987756009967,
          48.074670329047024,
          48.00074560640402,
          47.49410845092953,
          47.480625202948886,
          46.93765754841152,
          46.74871109069235,
          47.01616559266271,
          46.94717064993232,
          47.20611403349586,
          47.19636350414866,
          46.98733224808917,
          46.7099874578373,
          46.31169112057327,
          46.36827543140165,
          45.94903408602431,
          45.46459529754157,
          45.560373265987664,
          45.81811545724195
         ],
         "yaxis": "y3"
        },
        {
         "mode": "lines",
         "name": "co2 per capita",
         "type": "scatter",
         "x": [
          1990,
          1991,
          1992,
          1993,
          1994,
          1995,
          1996,
          1997,
          1998,
          1999,
          2000,
          2001,
          2002,
          2003,
          2004,
          2005,
          2006,
          2007,
          2008,
          2009,
          2010,
          2011,
          2012,
          2013,
          2014,
          2015,
          2016,
          2017,
          2018,
          2019
         ],
         "xaxis": "x4",
         "y": [
          4.27,
          4.292,
          4.104,
          4.085,
          4.055,
          4.083,
          4.147,
          4.115,
          4.045,
          4.043,
          4.107,
          4.09,
          4.132,
          4.288,
          4.43,
          4.525,
          4.617,
          4.696,
          4.724,
          4.599,
          4.793,
          4.895,
          4.908,
          4.893,
          4.871,
          4.81,
          4.75,
          4.76,
          4.802,
          4.758
         ],
         "yaxis": "y4"
        }
       ],
       "layout": {
        "annotations": [
         {
          "font": {
           "size": 16
          },
          "showarrow": false,
          "text": "year",
          "x": 0.5,
          "xanchor": "center",
          "xref": "paper",
          "y": 0,
          "yanchor": "top",
          "yref": "paper",
          "yshift": -30
         },
         {
          "font": {
           "size": 16
          },
          "showarrow": false,
          "text": "Rate (per 100,000)",
          "textangle": -90,
          "x": 0,
          "xanchor": "right",
          "xref": "paper",
          "xshift": -40,
          "y": 0.5,
          "yanchor": "middle",
          "yref": "paper"
         }
        ],
        "hovermode": "x",
        "legend": {
         "title": {
          "text": "Risk Factor"
         }
        },
        "template": {
         "data": {
          "bar": [
           {
            "error_x": {
             "color": "#2a3f5f"
            },
            "error_y": {
             "color": "#2a3f5f"
            },
            "marker": {
             "line": {
              "color": "#E5ECF6",
              "width": 0.5
             },
             "pattern": {
              "fillmode": "overlay",
              "size": 10,
              "solidity": 0.2
             }
            },
            "type": "bar"
           }
          ],
          "barpolar": [
           {
            "marker": {
             "line": {
              "color": "#E5ECF6",
              "width": 0.5
             },
             "pattern": {
              "fillmode": "overlay",
              "size": 10,
              "solidity": 0.2
             }
            },
            "type": "barpolar"
           }
          ],
          "carpet": [
           {
            "aaxis": {
             "endlinecolor": "#2a3f5f",
             "gridcolor": "white",
             "linecolor": "white",
             "minorgridcolor": "white",
             "startlinecolor": "#2a3f5f"
            },
            "baxis": {
             "endlinecolor": "#2a3f5f",
             "gridcolor": "white",
             "linecolor": "white",
             "minorgridcolor": "white",
             "startlinecolor": "#2a3f5f"
            },
            "type": "carpet"
           }
          ],
          "choropleth": [
           {
            "colorbar": {
             "outlinewidth": 0,
             "ticks": ""
            },
            "type": "choropleth"
           }
          ],
          "contour": [
           {
            "colorbar": {
             "outlinewidth": 0,
             "ticks": ""
            },
            "colorscale": [
             [
              0,
              "#0d0887"
             ],
             [
              0.1111111111111111,
              "#46039f"
             ],
             [
              0.2222222222222222,
              "#7201a8"
             ],
             [
              0.3333333333333333,
              "#9c179e"
             ],
             [
              0.4444444444444444,
              "#bd3786"
             ],
             [
              0.5555555555555556,
              "#d8576b"
             ],
             [
              0.6666666666666666,
              "#ed7953"
             ],
             [
              0.7777777777777778,
              "#fb9f3a"
             ],
             [
              0.8888888888888888,
              "#fdca26"
             ],
             [
              1,
              "#f0f921"
             ]
            ],
            "type": "contour"
           }
          ],
          "contourcarpet": [
           {
            "colorbar": {
             "outlinewidth": 0,
             "ticks": ""
            },
            "type": "contourcarpet"
           }
          ],
          "heatmap": [
           {
            "colorbar": {
             "outlinewidth": 0,
             "ticks": ""
            },
            "colorscale": [
             [
              0,
              "#0d0887"
             ],
             [
              0.1111111111111111,
              "#46039f"
             ],
             [
              0.2222222222222222,
              "#7201a8"
             ],
             [
              0.3333333333333333,
              "#9c179e"
             ],
             [
              0.4444444444444444,
              "#bd3786"
             ],
             [
              0.5555555555555556,
              "#d8576b"
             ],
             [
              0.6666666666666666,
              "#ed7953"
             ],
             [
              0.7777777777777778,
              "#fb9f3a"
             ],
             [
              0.8888888888888888,
              "#fdca26"
             ],
             [
              1,
              "#f0f921"
             ]
            ],
            "type": "heatmap"
           }
          ],
          "heatmapgl": [
           {
            "colorbar": {
             "outlinewidth": 0,
             "ticks": ""
            },
            "colorscale": [
             [
              0,
              "#0d0887"
             ],
             [
              0.1111111111111111,
              "#46039f"
             ],
             [
              0.2222222222222222,
              "#7201a8"
             ],
             [
              0.3333333333333333,
              "#9c179e"
             ],
             [
              0.4444444444444444,
              "#bd3786"
             ],
             [
              0.5555555555555556,
              "#d8576b"
             ],
             [
              0.6666666666666666,
              "#ed7953"
             ],
             [
              0.7777777777777778,
              "#fb9f3a"
             ],
             [
              0.8888888888888888,
              "#fdca26"
             ],
             [
              1,
              "#f0f921"
             ]
            ],
            "type": "heatmapgl"
           }
          ],
          "histogram": [
           {
            "marker": {
             "pattern": {
              "fillmode": "overlay",
              "size": 10,
              "solidity": 0.2
             }
            },
            "type": "histogram"
           }
          ],
          "histogram2d": [
           {
            "colorbar": {
             "outlinewidth": 0,
             "ticks": ""
            },
            "colorscale": [
             [
              0,
              "#0d0887"
             ],
             [
              0.1111111111111111,
              "#46039f"
             ],
             [
              0.2222222222222222,
              "#7201a8"
             ],
             [
              0.3333333333333333,
              "#9c179e"
             ],
             [
              0.4444444444444444,
              "#bd3786"
             ],
             [
              0.5555555555555556,
              "#d8576b"
             ],
             [
              0.6666666666666666,
              "#ed7953"
             ],
             [
              0.7777777777777778,
              "#fb9f3a"
             ],
             [
              0.8888888888888888,
              "#fdca26"
             ],
             [
              1,
              "#f0f921"
             ]
            ],
            "type": "histogram2d"
           }
          ],
          "histogram2dcontour": [
           {
            "colorbar": {
             "outlinewidth": 0,
             "ticks": ""
            },
            "colorscale": [
             [
              0,
              "#0d0887"
             ],
             [
              0.1111111111111111,
              "#46039f"
             ],
             [
              0.2222222222222222,
              "#7201a8"
             ],
             [
              0.3333333333333333,
              "#9c179e"
             ],
             [
              0.4444444444444444,
              "#bd3786"
             ],
             [
              0.5555555555555556,
              "#d8576b"
             ],
             [
              0.6666666666666666,
              "#ed7953"
             ],
             [
              0.7777777777777778,
              "#fb9f3a"
             ],
             [
              0.8888888888888888,
              "#fdca26"
             ],
             [
              1,
              "#f0f921"
             ]
            ],
            "type": "histogram2dcontour"
           }
          ],
          "mesh3d": [
           {
            "colorbar": {
             "outlinewidth": 0,
             "ticks": ""
            },
            "type": "mesh3d"
           }
          ],
          "parcoords": [
           {
            "line": {
             "colorbar": {
              "outlinewidth": 0,
              "ticks": ""
             }
            },
            "type": "parcoords"
           }
          ],
          "pie": [
           {
            "automargin": true,
            "type": "pie"
           }
          ],
          "scatter": [
           {
            "marker": {
             "colorbar": {
              "outlinewidth": 0,
              "ticks": ""
             }
            },
            "type": "scatter"
           }
          ],
          "scatter3d": [
           {
            "line": {
             "colorbar": {
              "outlinewidth": 0,
              "ticks": ""
             }
            },
            "marker": {
             "colorbar": {
              "outlinewidth": 0,
              "ticks": ""
             }
            },
            "type": "scatter3d"
           }
          ],
          "scattercarpet": [
           {
            "marker": {
             "colorbar": {
              "outlinewidth": 0,
              "ticks": ""
             }
            },
            "type": "scattercarpet"
           }
          ],
          "scattergeo": [
           {
            "marker": {
             "colorbar": {
              "outlinewidth": 0,
              "ticks": ""
             }
            },
            "type": "scattergeo"
           }
          ],
          "scattergl": [
           {
            "marker": {
             "colorbar": {
              "outlinewidth": 0,
              "ticks": ""
             }
            },
            "type": "scattergl"
           }
          ],
          "scattermapbox": [
           {
            "marker": {
             "colorbar": {
              "outlinewidth": 0,
              "ticks": ""
             }
            },
            "type": "scattermapbox"
           }
          ],
          "scatterpolar": [
           {
            "marker": {
             "colorbar": {
              "outlinewidth": 0,
              "ticks": ""
             }
            },
            "type": "scatterpolar"
           }
          ],
          "scatterpolargl": [
           {
            "marker": {
             "colorbar": {
              "outlinewidth": 0,
              "ticks": ""
             }
            },
            "type": "scatterpolargl"
           }
          ],
          "scatterternary": [
           {
            "marker": {
             "colorbar": {
              "outlinewidth": 0,
              "ticks": ""
             }
            },
            "type": "scatterternary"
           }
          ],
          "surface": [
           {
            "colorbar": {
             "outlinewidth": 0,
             "ticks": ""
            },
            "colorscale": [
             [
              0,
              "#0d0887"
             ],
             [
              0.1111111111111111,
              "#46039f"
             ],
             [
              0.2222222222222222,
              "#7201a8"
             ],
             [
              0.3333333333333333,
              "#9c179e"
             ],
             [
              0.4444444444444444,
              "#bd3786"
             ],
             [
              0.5555555555555556,
              "#d8576b"
             ],
             [
              0.6666666666666666,
              "#ed7953"
             ],
             [
              0.7777777777777778,
              "#fb9f3a"
             ],
             [
              0.8888888888888888,
              "#fdca26"
             ],
             [
              1,
              "#f0f921"
             ]
            ],
            "type": "surface"
           }
          ],
          "table": [
           {
            "cells": {
             "fill": {
              "color": "#EBF0F8"
             },
             "line": {
              "color": "white"
             }
            },
            "header": {
             "fill": {
              "color": "#C8D4E3"
             },
             "line": {
              "color": "white"
             }
            },
            "type": "table"
           }
          ]
         },
         "layout": {
          "annotationdefaults": {
           "arrowcolor": "#2a3f5f",
           "arrowhead": 0,
           "arrowwidth": 1
          },
          "autotypenumbers": "strict",
          "coloraxis": {
           "colorbar": {
            "outlinewidth": 0,
            "ticks": ""
           }
          },
          "colorscale": {
           "diverging": [
            [
             0,
             "#8e0152"
            ],
            [
             0.1,
             "#c51b7d"
            ],
            [
             0.2,
             "#de77ae"
            ],
            [
             0.3,
             "#f1b6da"
            ],
            [
             0.4,
             "#fde0ef"
            ],
            [
             0.5,
             "#f7f7f7"
            ],
            [
             0.6,
             "#e6f5d0"
            ],
            [
             0.7,
             "#b8e186"
            ],
            [
             0.8,
             "#7fbc41"
            ],
            [
             0.9,
             "#4d9221"
            ],
            [
             1,
             "#276419"
            ]
           ],
           "sequential": [
            [
             0,
             "#0d0887"
            ],
            [
             0.1111111111111111,
             "#46039f"
            ],
            [
             0.2222222222222222,
             "#7201a8"
            ],
            [
             0.3333333333333333,
             "#9c179e"
            ],
            [
             0.4444444444444444,
             "#bd3786"
            ],
            [
             0.5555555555555556,
             "#d8576b"
            ],
            [
             0.6666666666666666,
             "#ed7953"
            ],
            [
             0.7777777777777778,
             "#fb9f3a"
            ],
            [
             0.8888888888888888,
             "#fdca26"
            ],
            [
             1,
             "#f0f921"
            ]
           ],
           "sequentialminus": [
            [
             0,
             "#0d0887"
            ],
            [
             0.1111111111111111,
             "#46039f"
            ],
            [
             0.2222222222222222,
             "#7201a8"
            ],
            [
             0.3333333333333333,
             "#9c179e"
            ],
            [
             0.4444444444444444,
             "#bd3786"
            ],
            [
             0.5555555555555556,
             "#d8576b"
            ],
            [
             0.6666666666666666,
             "#ed7953"
            ],
            [
             0.7777777777777778,
             "#fb9f3a"
            ],
            [
             0.8888888888888888,
             "#fdca26"
            ],
            [
             1,
             "#f0f921"
            ]
           ]
          },
          "colorway": [
           "#636efa",
           "#EF553B",
           "#00cc96",
           "#ab63fa",
           "#FFA15A",
           "#19d3f3",
           "#FF6692",
           "#B6E880",
           "#FF97FF",
           "#FECB52"
          ],
          "font": {
           "color": "#2a3f5f"
          },
          "geo": {
           "bgcolor": "white",
           "lakecolor": "white",
           "landcolor": "#E5ECF6",
           "showlakes": true,
           "showland": true,
           "subunitcolor": "white"
          },
          "hoverlabel": {
           "align": "left"
          },
          "hovermode": "closest",
          "mapbox": {
           "style": "light"
          },
          "paper_bgcolor": "white",
          "plot_bgcolor": "#E5ECF6",
          "polar": {
           "angularaxis": {
            "gridcolor": "white",
            "linecolor": "white",
            "ticks": ""
           },
           "bgcolor": "#E5ECF6",
           "radialaxis": {
            "gridcolor": "white",
            "linecolor": "white",
            "ticks": ""
           }
          },
          "scene": {
           "xaxis": {
            "backgroundcolor": "#E5ECF6",
            "gridcolor": "white",
            "gridwidth": 2,
            "linecolor": "white",
            "showbackground": true,
            "ticks": "",
            "zerolinecolor": "white"
           },
           "yaxis": {
            "backgroundcolor": "#E5ECF6",
            "gridcolor": "white",
            "gridwidth": 2,
            "linecolor": "white",
            "showbackground": true,
            "ticks": "",
            "zerolinecolor": "white"
           },
           "zaxis": {
            "backgroundcolor": "#E5ECF6",
            "gridcolor": "white",
            "gridwidth": 2,
            "linecolor": "white",
            "showbackground": true,
            "ticks": "",
            "zerolinecolor": "white"
           }
          },
          "shapedefaults": {
           "line": {
            "color": "#2a3f5f"
           }
          },
          "ternary": {
           "aaxis": {
            "gridcolor": "white",
            "linecolor": "white",
            "ticks": ""
           },
           "baxis": {
            "gridcolor": "white",
            "linecolor": "white",
            "ticks": ""
           },
           "bgcolor": "#E5ECF6",
           "caxis": {
            "gridcolor": "white",
            "linecolor": "white",
            "ticks": ""
           }
          },
          "title": {
           "x": 0.05
          },
          "xaxis": {
           "automargin": true,
           "gridcolor": "white",
           "linecolor": "white",
           "ticks": "",
           "title": {
            "standoff": 15
           },
           "zerolinecolor": "white",
           "zerolinewidth": 2
          },
          "yaxis": {
           "automargin": true,
           "gridcolor": "white",
           "linecolor": "white",
           "ticks": "",
           "title": {
            "standoff": 15
           },
           "zerolinecolor": "white",
           "zerolinewidth": 2
          }
         }
        },
        "title": {
         "text": "Compare Death rate for <b>All Risk Factor</b> vs <b>Air Pollution</b> over the years 1990 to 2019<br>Global"
        },
        "xaxis": {
         "anchor": "y",
         "domain": [
          0,
          1
         ],
         "matches": "x4",
         "showticklabels": false
        },
        "xaxis2": {
         "anchor": "y2",
         "domain": [
          0,
          1
         ],
         "matches": "x4",
         "showticklabels": false
        },
        "xaxis3": {
         "anchor": "y3",
         "domain": [
          0,
          1
         ],
         "matches": "x4",
         "showticklabels": false
        },
        "xaxis4": {
         "anchor": "y4",
         "domain": [
          0,
          1
         ]
        },
        "yaxis": {
         "anchor": "x",
         "domain": [
          0.80625,
          1
         ]
        },
        "yaxis2": {
         "anchor": "x2",
         "domain": [
          0.5375,
          0.73125
         ]
        },
        "yaxis3": {
         "anchor": "x3",
         "domain": [
          0.26875,
          0.4625
         ]
        },
        "yaxis4": {
         "anchor": "x4",
         "domain": [
          0,
          0.19375
         ]
        }
       }
      }
     },
     "metadata": {},
     "output_type": "display_data"
    }
   ],
   "source": [
    "global_df = cause_df[cause_df.location == \"Global\"]\n",
    "co2_world = co2_df[co2_df.country==\"World\"]\n",
    "draw_plot(global_df, co2_world, \"Global\" )"
   ]
  },
  {
   "cell_type": "code",
   "execution_count": 250,
   "metadata": {},
   "outputs": [
    {
     "data": {
      "application/vnd.plotly.v1+json": {
       "config": {
        "plotlyServerURL": "https://plot.ly"
       },
       "data": [
        {
         "mode": "lines+markers",
         "name": "All Risk Factor",
         "type": "scatter",
         "x": [
          1990,
          1991,
          1992,
          1993,
          1994,
          1995,
          1996,
          1997,
          1998,
          1999,
          2000,
          2001,
          2002,
          2003,
          2004,
          2005,
          2006,
          2007,
          2008,
          2009,
          2010,
          2011,
          2012,
          2013,
          2014,
          2015,
          2016,
          2017,
          2018,
          2019
         ],
         "xaxis": "x",
         "y": [
          500.65433130459843,
          501.4199750065765,
          505.0774468913588,
          505.81480462310867,
          506.6708909718401,
          509.86863093207387,
          514.5933932101464,
          510.5420642850595,
          512.9579413776441,
          518.4966626461894,
          532.1568860349587,
          540.094464424779,
          545.6914999136372,
          557.2149648901611,
          573.6967288934363,
          580.6807538650249,
          570.0282909268644,
          571.0347005548201,
          580.6541500083223,
          590.3085746298639,
          604.618108399394,
          621.431147954431,
          622.7539104129193,
          626.0887721813838,
          639.5318644734672,
          642.7445751934363,
          660.3037296284069,
          670.6849472924426,
          681.0702679568911,
          699.4758247108881
         ],
         "yaxis": "y"
        },
        {
         "mode": "lines+markers",
         "name": "Air Pollution",
         "type": "scatter",
         "x": [
          1990,
          1991,
          1992,
          1993,
          1994,
          1995,
          1996,
          1997,
          1998,
          1999,
          2000,
          2001,
          2002,
          2003,
          2004,
          2005,
          2006,
          2007,
          2008,
          2009,
          2010,
          2011,
          2012,
          2013,
          2014,
          2015,
          2016,
          2017,
          2018,
          2019
         ],
         "xaxis": "x",
         "y": [
          171.29801659248216,
          168.9352262576527,
          167.8465993193944,
          166.22998162691223,
          164.3702653277389,
          162.96734308309036,
          162.5604991279728,
          160.22151949822117,
          159.08136549708684,
          159.98872216218587,
          162.813635041183,
          163.85916905663882,
          164.7426714171906,
          166.0522757662093,
          168.636447456492,
          167.55903148944603,
          161.98765648418785,
          159.32719394286843,
          159.6796432373166,
          159.8733755978538,
          161.6187073805804,
          163.16728252687705,
          162.02633690783128,
          161.79880079239516,
          163.28692126355998,
          162.82323279751284,
          162.3266500099815,
          159.73779476252346,
          159.01279298743148,
          160.77935527278785
         ],
         "yaxis": "y"
        },
        {
         "mode": "lines+markers",
         "name": "All Risk Factor",
         "type": "scatter",
         "x": [
          1990,
          1991,
          1992,
          1993,
          1994,
          1995,
          1996,
          1997,
          1998,
          1999,
          2000,
          2001,
          2002,
          2003,
          2004,
          2005,
          2006,
          2007,
          2008,
          2009,
          2010,
          2011,
          2012,
          2013,
          2014,
          2015,
          2016,
          2017,
          2018,
          2019
         ],
         "xaxis": "x2",
         "y": [
          110.12370866661385,
          110.72157905348705,
          111.78416581842902,
          112.05706134642432,
          111.89301913213876,
          111.6178767944777,
          111.36625496380556,
          109.68508214989033,
          108.56575994570476,
          108.69205565040309,
          109.13741700828075,
          108.05492394728518,
          106.90699526369832,
          105.40876765575439,
          105.12267750824472,
          102.76736065491177,
          97.22275097468429,
          94.07642853816354,
          93.21541932052833,
          92.24217253629445,
          91.98041539771029,
          91.40630945499598,
          89.14052430348696,
          87.09040588617816,
          86.71044166935494,
          85.68728563354654,
          86.70119022348065,
          86.79722745521693,
          87.06785345183124,
          89.10863116588266
         ],
         "yaxis": "y2"
        },
        {
         "mode": "lines+markers",
         "name": "Air Pollution",
         "type": "scatter",
         "x": [
          1990,
          1991,
          1992,
          1993,
          1994,
          1995,
          1996,
          1997,
          1998,
          1999,
          2000,
          2001,
          2002,
          2003,
          2004,
          2005,
          2006,
          2007,
          2008,
          2009,
          2010,
          2011,
          2012,
          2013,
          2014,
          2015,
          2016,
          2017,
          2018,
          2019
         ],
         "xaxis": "x2",
         "y": [
          67.12927239237551,
          66.59615190255946,
          66.46100262624519,
          65.82904164528158,
          64.89716441006661,
          63.5881112123221,
          62.54241525741159,
          60.95547709727397,
          59.25949487686926,
          58.83360679377834,
          58.25061562917053,
          57.1367922922724,
          55.975207831957995,
          54.884771284618616,
          54.370845123361235,
          52.55825627969409,
          49.757368258454655,
          47.78222082426042,
          47.1641853829299,
          45.81245058708453,
          45.06962295621745,
          43.71387452367883,
          41.97766371178924,
          40.43167950729375,
          39.59950470930056,
          38.74638181565943,
          38.331184549440245,
          37.353133557852495,
          36.20871044593095,
          36.31068158509912
         ],
         "yaxis": "y2"
        },
        {
         "mode": "lines+markers",
         "name": "All Risk Factor",
         "type": "scatter",
         "x": [
          1990,
          1991,
          1992,
          1993,
          1994,
          1995,
          1996,
          1997,
          1998,
          1999,
          2000,
          2001,
          2002,
          2003,
          2004,
          2005,
          2006,
          2007,
          2008,
          2009,
          2010,
          2011,
          2012,
          2013,
          2014,
          2015,
          2016,
          2017,
          2018,
          2019
         ],
         "xaxis": "x3",
         "y": [
          303.6705861783979,
          301.03596363278757,
          300.6504631498316,
          298.3825960481579,
          295.98500690858896,
          295.82595820931624,
          296.73139992269637,
          292.1487206971598,
          292.2072482979192,
          294.795779396587,
          303.620870199699,
          310.3455968224094,
          317.45298367596314,
          323.62445656777925,
          333.3562631796915,
          337.7022187034181,
          331.3263287992713,
          332.882269956192,
          339.6544130615919,
          347.7832067399595,
          358.79659958315165,
          370.77798837702187,
          373.1071828815404,
          377.4582280461206,
          386.7894253768433,
          389.6296356345013,
          401.1359138240322,
          407.7302065102391,
          413.1838057402515,
          423.21010948566516
         ],
         "yaxis": "y3"
        },
        {
         "mode": "lines+markers",
         "name": "Air Pollution",
         "type": "scatter",
         "x": [
          1990,
          1991,
          1992,
          1993,
          1994,
          1995,
          1996,
          1997,
          1998,
          1999,
          2000,
          2001,
          2002,
          2003,
          2004,
          2005,
          2006,
          2007,
          2008,
          2009,
          2010,
          2011,
          2012,
          2013,
          2014,
          2015,
          2016,
          2017,
          2018,
          2019
         ],
         "xaxis": "x3",
         "y": [
          93.04282006286815,
          91.05678578806727,
          89.93275589809534,
          88.73042309189829,
          87.49346199348834,
          86.99029543775234,
          87.09715096941471,
          85.98679431266596,
          86.13285796909656,
          87.07844249261359,
          89.87654046905399,
          91.69562246349643,
          93.68638557482791,
          95.21545192277898,
          97.44307589431813,
          97.55256007685419,
          94.6005169218439,
          93.51695481573582,
          94.01668688955132,
          95.15631235322351,
          97.08348179574038,
          99.22358459519633,
          99.39646068671794,
          100.2408832883499,
          101.78359863166361,
          101.8392527197834,
          101.69042399912487,
          100.19031541484392,
          100.18276652571433,
          101.23143974181461
         ],
         "yaxis": "y3"
        },
        {
         "mode": "lines",
         "name": "co2 per capita",
         "type": "scatter",
         "x": [
          1990,
          1991,
          1992,
          1993,
          1994,
          1995,
          1996,
          1997,
          1998,
          1999,
          2000,
          2001,
          2002,
          2003,
          2004,
          2005,
          2006,
          2007,
          2008,
          2009,
          2010,
          2011,
          2012,
          2013,
          2014,
          2015,
          2016,
          2017,
          2018,
          2019
         ],
         "xaxis": "x4",
         "y": [
          2.111,
          2.185,
          2.263,
          2.397,
          2.52,
          2.706,
          2.799,
          2.781,
          2.642,
          2.614,
          2.665,
          2.706,
          2.962,
          3.456,
          3.948,
          4.416,
          4.848,
          5.185,
          5.539,
          5.794,
          6.295,
          6.922,
          7.062,
          7.151,
          7.135,
          7,
          6.874,
          6.981,
          7.208,
          7.316
         ],
         "yaxis": "y4"
        }
       ],
       "layout": {
        "annotations": [
         {
          "font": {
           "size": 16
          },
          "showarrow": false,
          "text": "year",
          "x": 0.5,
          "xanchor": "center",
          "xref": "paper",
          "y": 0,
          "yanchor": "top",
          "yref": "paper",
          "yshift": -30
         },
         {
          "font": {
           "size": 16
          },
          "showarrow": false,
          "text": "Rate (per 100,000)",
          "textangle": -90,
          "x": 0,
          "xanchor": "right",
          "xref": "paper",
          "xshift": -40,
          "y": 0.5,
          "yanchor": "middle",
          "yref": "paper"
         }
        ],
        "hovermode": "x",
        "legend": {
         "title": {
          "text": "Risk Factor"
         }
        },
        "template": {
         "data": {
          "bar": [
           {
            "error_x": {
             "color": "#2a3f5f"
            },
            "error_y": {
             "color": "#2a3f5f"
            },
            "marker": {
             "line": {
              "color": "#E5ECF6",
              "width": 0.5
             },
             "pattern": {
              "fillmode": "overlay",
              "size": 10,
              "solidity": 0.2
             }
            },
            "type": "bar"
           }
          ],
          "barpolar": [
           {
            "marker": {
             "line": {
              "color": "#E5ECF6",
              "width": 0.5
             },
             "pattern": {
              "fillmode": "overlay",
              "size": 10,
              "solidity": 0.2
             }
            },
            "type": "barpolar"
           }
          ],
          "carpet": [
           {
            "aaxis": {
             "endlinecolor": "#2a3f5f",
             "gridcolor": "white",
             "linecolor": "white",
             "minorgridcolor": "white",
             "startlinecolor": "#2a3f5f"
            },
            "baxis": {
             "endlinecolor": "#2a3f5f",
             "gridcolor": "white",
             "linecolor": "white",
             "minorgridcolor": "white",
             "startlinecolor": "#2a3f5f"
            },
            "type": "carpet"
           }
          ],
          "choropleth": [
           {
            "colorbar": {
             "outlinewidth": 0,
             "ticks": ""
            },
            "type": "choropleth"
           }
          ],
          "contour": [
           {
            "colorbar": {
             "outlinewidth": 0,
             "ticks": ""
            },
            "colorscale": [
             [
              0,
              "#0d0887"
             ],
             [
              0.1111111111111111,
              "#46039f"
             ],
             [
              0.2222222222222222,
              "#7201a8"
             ],
             [
              0.3333333333333333,
              "#9c179e"
             ],
             [
              0.4444444444444444,
              "#bd3786"
             ],
             [
              0.5555555555555556,
              "#d8576b"
             ],
             [
              0.6666666666666666,
              "#ed7953"
             ],
             [
              0.7777777777777778,
              "#fb9f3a"
             ],
             [
              0.8888888888888888,
              "#fdca26"
             ],
             [
              1,
              "#f0f921"
             ]
            ],
            "type": "contour"
           }
          ],
          "contourcarpet": [
           {
            "colorbar": {
             "outlinewidth": 0,
             "ticks": ""
            },
            "type": "contourcarpet"
           }
          ],
          "heatmap": [
           {
            "colorbar": {
             "outlinewidth": 0,
             "ticks": ""
            },
            "colorscale": [
             [
              0,
              "#0d0887"
             ],
             [
              0.1111111111111111,
              "#46039f"
             ],
             [
              0.2222222222222222,
              "#7201a8"
             ],
             [
              0.3333333333333333,
              "#9c179e"
             ],
             [
              0.4444444444444444,
              "#bd3786"
             ],
             [
              0.5555555555555556,
              "#d8576b"
             ],
             [
              0.6666666666666666,
              "#ed7953"
             ],
             [
              0.7777777777777778,
              "#fb9f3a"
             ],
             [
              0.8888888888888888,
              "#fdca26"
             ],
             [
              1,
              "#f0f921"
             ]
            ],
            "type": "heatmap"
           }
          ],
          "heatmapgl": [
           {
            "colorbar": {
             "outlinewidth": 0,
             "ticks": ""
            },
            "colorscale": [
             [
              0,
              "#0d0887"
             ],
             [
              0.1111111111111111,
              "#46039f"
             ],
             [
              0.2222222222222222,
              "#7201a8"
             ],
             [
              0.3333333333333333,
              "#9c179e"
             ],
             [
              0.4444444444444444,
              "#bd3786"
             ],
             [
              0.5555555555555556,
              "#d8576b"
             ],
             [
              0.6666666666666666,
              "#ed7953"
             ],
             [
              0.7777777777777778,
              "#fb9f3a"
             ],
             [
              0.8888888888888888,
              "#fdca26"
             ],
             [
              1,
              "#f0f921"
             ]
            ],
            "type": "heatmapgl"
           }
          ],
          "histogram": [
           {
            "marker": {
             "pattern": {
              "fillmode": "overlay",
              "size": 10,
              "solidity": 0.2
             }
            },
            "type": "histogram"
           }
          ],
          "histogram2d": [
           {
            "colorbar": {
             "outlinewidth": 0,
             "ticks": ""
            },
            "colorscale": [
             [
              0,
              "#0d0887"
             ],
             [
              0.1111111111111111,
              "#46039f"
             ],
             [
              0.2222222222222222,
              "#7201a8"
             ],
             [
              0.3333333333333333,
              "#9c179e"
             ],
             [
              0.4444444444444444,
              "#bd3786"
             ],
             [
              0.5555555555555556,
              "#d8576b"
             ],
             [
              0.6666666666666666,
              "#ed7953"
             ],
             [
              0.7777777777777778,
              "#fb9f3a"
             ],
             [
              0.8888888888888888,
              "#fdca26"
             ],
             [
              1,
              "#f0f921"
             ]
            ],
            "type": "histogram2d"
           }
          ],
          "histogram2dcontour": [
           {
            "colorbar": {
             "outlinewidth": 0,
             "ticks": ""
            },
            "colorscale": [
             [
              0,
              "#0d0887"
             ],
             [
              0.1111111111111111,
              "#46039f"
             ],
             [
              0.2222222222222222,
              "#7201a8"
             ],
             [
              0.3333333333333333,
              "#9c179e"
             ],
             [
              0.4444444444444444,
              "#bd3786"
             ],
             [
              0.5555555555555556,
              "#d8576b"
             ],
             [
              0.6666666666666666,
              "#ed7953"
             ],
             [
              0.7777777777777778,
              "#fb9f3a"
             ],
             [
              0.8888888888888888,
              "#fdca26"
             ],
             [
              1,
              "#f0f921"
             ]
            ],
            "type": "histogram2dcontour"
           }
          ],
          "mesh3d": [
           {
            "colorbar": {
             "outlinewidth": 0,
             "ticks": ""
            },
            "type": "mesh3d"
           }
          ],
          "parcoords": [
           {
            "line": {
             "colorbar": {
              "outlinewidth": 0,
              "ticks": ""
             }
            },
            "type": "parcoords"
           }
          ],
          "pie": [
           {
            "automargin": true,
            "type": "pie"
           }
          ],
          "scatter": [
           {
            "marker": {
             "colorbar": {
              "outlinewidth": 0,
              "ticks": ""
             }
            },
            "type": "scatter"
           }
          ],
          "scatter3d": [
           {
            "line": {
             "colorbar": {
              "outlinewidth": 0,
              "ticks": ""
             }
            },
            "marker": {
             "colorbar": {
              "outlinewidth": 0,
              "ticks": ""
             }
            },
            "type": "scatter3d"
           }
          ],
          "scattercarpet": [
           {
            "marker": {
             "colorbar": {
              "outlinewidth": 0,
              "ticks": ""
             }
            },
            "type": "scattercarpet"
           }
          ],
          "scattergeo": [
           {
            "marker": {
             "colorbar": {
              "outlinewidth": 0,
              "ticks": ""
             }
            },
            "type": "scattergeo"
           }
          ],
          "scattergl": [
           {
            "marker": {
             "colorbar": {
              "outlinewidth": 0,
              "ticks": ""
             }
            },
            "type": "scattergl"
           }
          ],
          "scattermapbox": [
           {
            "marker": {
             "colorbar": {
              "outlinewidth": 0,
              "ticks": ""
             }
            },
            "type": "scattermapbox"
           }
          ],
          "scatterpolar": [
           {
            "marker": {
             "colorbar": {
              "outlinewidth": 0,
              "ticks": ""
             }
            },
            "type": "scatterpolar"
           }
          ],
          "scatterpolargl": [
           {
            "marker": {
             "colorbar": {
              "outlinewidth": 0,
              "ticks": ""
             }
            },
            "type": "scatterpolargl"
           }
          ],
          "scatterternary": [
           {
            "marker": {
             "colorbar": {
              "outlinewidth": 0,
              "ticks": ""
             }
            },
            "type": "scatterternary"
           }
          ],
          "surface": [
           {
            "colorbar": {
             "outlinewidth": 0,
             "ticks": ""
            },
            "colorscale": [
             [
              0,
              "#0d0887"
             ],
             [
              0.1111111111111111,
              "#46039f"
             ],
             [
              0.2222222222222222,
              "#7201a8"
             ],
             [
              0.3333333333333333,
              "#9c179e"
             ],
             [
              0.4444444444444444,
              "#bd3786"
             ],
             [
              0.5555555555555556,
              "#d8576b"
             ],
             [
              0.6666666666666666,
              "#ed7953"
             ],
             [
              0.7777777777777778,
              "#fb9f3a"
             ],
             [
              0.8888888888888888,
              "#fdca26"
             ],
             [
              1,
              "#f0f921"
             ]
            ],
            "type": "surface"
           }
          ],
          "table": [
           {
            "cells": {
             "fill": {
              "color": "#EBF0F8"
             },
             "line": {
              "color": "white"
             }
            },
            "header": {
             "fill": {
              "color": "#C8D4E3"
             },
             "line": {
              "color": "white"
             }
            },
            "type": "table"
           }
          ]
         },
         "layout": {
          "annotationdefaults": {
           "arrowcolor": "#2a3f5f",
           "arrowhead": 0,
           "arrowwidth": 1
          },
          "autotypenumbers": "strict",
          "coloraxis": {
           "colorbar": {
            "outlinewidth": 0,
            "ticks": ""
           }
          },
          "colorscale": {
           "diverging": [
            [
             0,
             "#8e0152"
            ],
            [
             0.1,
             "#c51b7d"
            ],
            [
             0.2,
             "#de77ae"
            ],
            [
             0.3,
             "#f1b6da"
            ],
            [
             0.4,
             "#fde0ef"
            ],
            [
             0.5,
             "#f7f7f7"
            ],
            [
             0.6,
             "#e6f5d0"
            ],
            [
             0.7,
             "#b8e186"
            ],
            [
             0.8,
             "#7fbc41"
            ],
            [
             0.9,
             "#4d9221"
            ],
            [
             1,
             "#276419"
            ]
           ],
           "sequential": [
            [
             0,
             "#0d0887"
            ],
            [
             0.1111111111111111,
             "#46039f"
            ],
            [
             0.2222222222222222,
             "#7201a8"
            ],
            [
             0.3333333333333333,
             "#9c179e"
            ],
            [
             0.4444444444444444,
             "#bd3786"
            ],
            [
             0.5555555555555556,
             "#d8576b"
            ],
            [
             0.6666666666666666,
             "#ed7953"
            ],
            [
             0.7777777777777778,
             "#fb9f3a"
            ],
            [
             0.8888888888888888,
             "#fdca26"
            ],
            [
             1,
             "#f0f921"
            ]
           ],
           "sequentialminus": [
            [
             0,
             "#0d0887"
            ],
            [
             0.1111111111111111,
             "#46039f"
            ],
            [
             0.2222222222222222,
             "#7201a8"
            ],
            [
             0.3333333333333333,
             "#9c179e"
            ],
            [
             0.4444444444444444,
             "#bd3786"
            ],
            [
             0.5555555555555556,
             "#d8576b"
            ],
            [
             0.6666666666666666,
             "#ed7953"
            ],
            [
             0.7777777777777778,
             "#fb9f3a"
            ],
            [
             0.8888888888888888,
             "#fdca26"
            ],
            [
             1,
             "#f0f921"
            ]
           ]
          },
          "colorway": [
           "#636efa",
           "#EF553B",
           "#00cc96",
           "#ab63fa",
           "#FFA15A",
           "#19d3f3",
           "#FF6692",
           "#B6E880",
           "#FF97FF",
           "#FECB52"
          ],
          "font": {
           "color": "#2a3f5f"
          },
          "geo": {
           "bgcolor": "white",
           "lakecolor": "white",
           "landcolor": "#E5ECF6",
           "showlakes": true,
           "showland": true,
           "subunitcolor": "white"
          },
          "hoverlabel": {
           "align": "left"
          },
          "hovermode": "closest",
          "mapbox": {
           "style": "light"
          },
          "paper_bgcolor": "white",
          "plot_bgcolor": "#E5ECF6",
          "polar": {
           "angularaxis": {
            "gridcolor": "white",
            "linecolor": "white",
            "ticks": ""
           },
           "bgcolor": "#E5ECF6",
           "radialaxis": {
            "gridcolor": "white",
            "linecolor": "white",
            "ticks": ""
           }
          },
          "scene": {
           "xaxis": {
            "backgroundcolor": "#E5ECF6",
            "gridcolor": "white",
            "gridwidth": 2,
            "linecolor": "white",
            "showbackground": true,
            "ticks": "",
            "zerolinecolor": "white"
           },
           "yaxis": {
            "backgroundcolor": "#E5ECF6",
            "gridcolor": "white",
            "gridwidth": 2,
            "linecolor": "white",
            "showbackground": true,
            "ticks": "",
            "zerolinecolor": "white"
           },
           "zaxis": {
            "backgroundcolor": "#E5ECF6",
            "gridcolor": "white",
            "gridwidth": 2,
            "linecolor": "white",
            "showbackground": true,
            "ticks": "",
            "zerolinecolor": "white"
           }
          },
          "shapedefaults": {
           "line": {
            "color": "#2a3f5f"
           }
          },
          "ternary": {
           "aaxis": {
            "gridcolor": "white",
            "linecolor": "white",
            "ticks": ""
           },
           "baxis": {
            "gridcolor": "white",
            "linecolor": "white",
            "ticks": ""
           },
           "bgcolor": "#E5ECF6",
           "caxis": {
            "gridcolor": "white",
            "linecolor": "white",
            "ticks": ""
           }
          },
          "title": {
           "x": 0.05
          },
          "xaxis": {
           "automargin": true,
           "gridcolor": "white",
           "linecolor": "white",
           "ticks": "",
           "title": {
            "standoff": 15
           },
           "zerolinecolor": "white",
           "zerolinewidth": 2
          },
          "yaxis": {
           "automargin": true,
           "gridcolor": "white",
           "linecolor": "white",
           "ticks": "",
           "title": {
            "standoff": 15
           },
           "zerolinecolor": "white",
           "zerolinewidth": 2
          }
         }
        },
        "title": {
         "text": "Compare Death rate for <b>All Risk Factor</b> vs <b>Air Pollution</b> over the years 1990 to 2019<br>China"
        },
        "xaxis": {
         "anchor": "y",
         "domain": [
          0,
          1
         ],
         "matches": "x4",
         "showticklabels": false
        },
        "xaxis2": {
         "anchor": "y2",
         "domain": [
          0,
          1
         ],
         "matches": "x4",
         "showticklabels": false
        },
        "xaxis3": {
         "anchor": "y3",
         "domain": [
          0,
          1
         ],
         "matches": "x4",
         "showticklabels": false
        },
        "xaxis4": {
         "anchor": "y4",
         "domain": [
          0,
          1
         ]
        },
        "yaxis": {
         "anchor": "x",
         "domain": [
          0.80625,
          1
         ]
        },
        "yaxis2": {
         "anchor": "x2",
         "domain": [
          0.5375,
          0.73125
         ]
        },
        "yaxis3": {
         "anchor": "x3",
         "domain": [
          0.26875,
          0.4625
         ]
        },
        "yaxis4": {
         "anchor": "x4",
         "domain": [
          0,
          0.19375
         ]
        }
       }
      }
     },
     "metadata": {},
     "output_type": "display_data"
    }
   ],
   "source": [
    "china_df = cause_df[cause_df.location_clean==\"CHN\"]\n",
    "co2 = co2_df[co2_df.iso_code==\"CHN\"]\n",
    "draw_plot(china_df,co2, where=\"China\")"
   ]
  },
  {
   "cell_type": "code",
   "execution_count": 252,
   "metadata": {},
   "outputs": [
    {
     "data": {
      "application/vnd.plotly.v1+json": {
       "config": {
        "plotlyServerURL": "https://plot.ly"
       },
       "data": [
        {
         "mode": "lines+markers",
         "name": "All Risk Factor",
         "type": "scatter",
         "x": [
          1990,
          1991,
          1992,
          1993,
          1994,
          1995,
          1996,
          1997,
          1998,
          1999,
          2000,
          2001,
          2002,
          2003,
          2004,
          2005,
          2006,
          2007,
          2008,
          2009,
          2010,
          2011,
          2012,
          2013,
          2014,
          2015,
          2016,
          2017,
          2018,
          2019
         ],
         "xaxis": "x",
         "y": [
          152.98276728497711,
          154.9557924197948,
          159.27018041486156,
          161.49066265742064,
          163.45180176288602,
          165.62733801338806,
          167.9444538322158,
          170.61784348416606,
          172.93237610387033,
          175.8861982413958,
          179.1802043720816,
          182.5173937222953,
          185.53393663700507,
          187.17062847848152,
          187.36936721490443,
          187.856256593495,
          188.2734578260139,
          187.50135043598627,
          186.73601462443074,
          188.1064958038889,
          189.13487304874596,
          189.72162820154102,
          191.2913462326299,
          195.42658516417413,
          200.0446653840288,
          206.70202562955546,
          210.99825717771785,
          215.18897660969904,
          217.25593155764918,
          221.77231352661954
         ],
         "yaxis": "y"
        },
        {
         "mode": "lines+markers",
         "name": "Air Pollution",
         "type": "scatter",
         "x": [
          1990,
          1991,
          1992,
          1993,
          1994,
          1995,
          1996,
          1997,
          1998,
          1999,
          2000,
          2001,
          2002,
          2003,
          2004,
          2005,
          2006,
          2007,
          2008,
          2009,
          2010,
          2011,
          2012,
          2013,
          2014,
          2015,
          2016,
          2017,
          2018,
          2019
         ],
         "xaxis": "x",
         "y": [
          37.092808079360445,
          37.420650766827634,
          38.29757068665101,
          38.7426748088483,
          39.123306852388964,
          39.54891195150474,
          40.01565980703153,
          40.63101454879146,
          41.1730703022116,
          41.820249298450236,
          42.45909816235741,
          42.91412652766087,
          42.81113266153021,
          42.41861906414544,
          41.70725292362783,
          41.273450417397136,
          41.11258551884817,
          40.92193501692156,
          40.80940144427043,
          40.94997000013806,
          40.81243975474386,
          40.3722085564971,
          40.4805897922578,
          41.270763181876774,
          42.08852608857386,
          43.29497180942939,
          43.573158857541394,
          43.687678912251336,
          43.65446507850464,
          44.16359812307523
         ],
         "yaxis": "y"
        },
        {
         "mode": "lines+markers",
         "name": "All Risk Factor",
         "type": "scatter",
         "x": [
          1990,
          1991,
          1992,
          1993,
          1994,
          1995,
          1996,
          1997,
          1998,
          1999,
          2000,
          2001,
          2002,
          2003,
          2004,
          2005,
          2006,
          2007,
          2008,
          2009,
          2010,
          2011,
          2012,
          2013,
          2014,
          2015,
          2016,
          2017,
          2018,
          2019
         ],
         "xaxis": "x2",
         "y": [
          7.456818922652135,
          7.545561396571056,
          7.769370413917857,
          7.81729314755174,
          7.883394139502093,
          7.962114123808232,
          7.994438931804375,
          8.044726522210603,
          8.084945966678013,
          8.188048813177321,
          8.311478313060622,
          8.423723635513936,
          8.695203575887989,
          9.013012534040753,
          9.328852092531552,
          9.569267377237962,
          9.8141626463314,
          10.068345226203771,
          10.178414731426628,
          10.40192499259238,
          10.569421097483485,
          10.82841453237741,
          11.04159339467023,
          11.387901793729393,
          11.688995623471618,
          12.004907540384425,
          12.155767133841133,
          12.288560415481124,
          12.3141173810859,
          12.521141458653512
         ],
         "yaxis": "y2"
        },
        {
         "mode": "lines+markers",
         "name": "Air Pollution",
         "type": "scatter",
         "x": [
          1990,
          1991,
          1992,
          1993,
          1994,
          1995,
          1996,
          1997,
          1998,
          1999,
          2000,
          2001,
          2002,
          2003,
          2004,
          2005,
          2006,
          2007,
          2008,
          2009,
          2010,
          2011,
          2012,
          2013,
          2014,
          2015,
          2016,
          2017,
          2018,
          2019
         ],
         "xaxis": "x2",
         "y": [
          2.4856447694455324,
          2.4921034908854782,
          2.530260506602223,
          2.5516394759147225,
          2.5792367545749544,
          2.6293578009914227,
          2.6525121893489185,
          2.675923106736413,
          2.713831913320625,
          2.776298308841563,
          2.863249638106966,
          2.91570287727351,
          2.988933304297225,
          3.1076001206323567,
          3.2292906980916345,
          3.3618413421594866,
          3.522419355232297,
          3.765884491862162,
          3.933972071826029,
          4.000293522074196,
          4.071736153049076,
          4.200527213910869,
          4.397712755250038,
          4.622867851360163,
          4.773958596810879,
          4.972673204194457,
          5.089500249297446,
          5.106760706479076,
          5.062180125044936,
          5.12977984536497
         ],
         "yaxis": "y2"
        },
        {
         "mode": "lines+markers",
         "name": "All Risk Factor",
         "type": "scatter",
         "x": [
          1990,
          1991,
          1992,
          1993,
          1994,
          1995,
          1996,
          1997,
          1998,
          1999,
          2000,
          2001,
          2002,
          2003,
          2004,
          2005,
          2006,
          2007,
          2008,
          2009,
          2010,
          2011,
          2012,
          2013,
          2014,
          2015,
          2016,
          2017,
          2018,
          2019
         ],
         "xaxis": "x3",
         "y": [
          133.31267112181862,
          135.04195083511246,
          138.83903831027698,
          140.84691132746914,
          142.6758103881076,
          144.65294536663973,
          146.7871924823766,
          149.31972957104745,
          151.51056782203602,
          154.29621283167464,
          157.15929959267788,
          159.93768438415427,
          162.36992062962156,
          163.3607645656837,
          162.81725340015322,
          162.46968997458615,
          162.039113678507,
          160.55679900461476,
          159.10810074982655,
          159.56419517275083,
          159.6735723786113,
          159.2441894119316,
          159.80211646865158,
          162.64049608612504,
          165.8765773094511,
          171.11802152982304,
          174.53571430447406,
          177.91591586298208,
          179.24740637899515,
          182.73546417392487
         ],
         "yaxis": "y3"
        },
        {
         "mode": "lines+markers",
         "name": "Air Pollution",
         "type": "scatter",
         "x": [
          1990,
          1991,
          1992,
          1993,
          1994,
          1995,
          1996,
          1997,
          1998,
          1999,
          2000,
          2001,
          2002,
          2003,
          2004,
          2005,
          2006,
          2007,
          2008,
          2009,
          2010,
          2011,
          2012,
          2013,
          2014,
          2015,
          2016,
          2017,
          2018,
          2019
         ],
         "xaxis": "x3",
         "y": [
          33.47359296885441,
          33.77812645769157,
          34.586562456448135,
          34.986721886237106,
          35.33085381346624,
          35.690847784269344,
          36.11324110932324,
          36.69203393741644,
          37.18721943608054,
          37.76997014137121,
          38.28988910646889,
          38.65421762913046,
          38.46743666713631,
          37.94345765389885,
          37.08096810974367,
          36.467107462255726,
          36.09014212986447,
          35.608486225455295,
          35.26137821388933,
          35.25213812279687,
          34.96279567115304,
          34.32643383094338,
          34.165211444158864,
          34.64421204353616,
          35.216545195989205,
          36.13069760088096,
          36.25674276853979,
          36.330922240613845,
          36.30189480658291,
          36.68956533725789
         ],
         "yaxis": "y3"
        },
        {
         "mode": "lines",
         "name": "co2 per capita",
         "type": "scatter",
         "x": [
          1990,
          1991,
          1992,
          1993,
          1994,
          1995,
          1996,
          1997,
          1998,
          1999,
          2000,
          2001,
          2002,
          2003,
          2004,
          2005,
          2006,
          2007,
          2008,
          2009,
          2010,
          2011,
          2012,
          2013,
          2014,
          2015,
          2016,
          2017,
          2018,
          2019
         ],
         "xaxis": "x4",
         "y": [
          3.725,
          3.918,
          3.861,
          3.945,
          4.354,
          4.42,
          4.395,
          4.23,
          4.776,
          5.856,
          5.625,
          5.941,
          5.91,
          6.072,
          6.41,
          6.644,
          7.138,
          7.186,
          7.413,
          7.666,
          7.724,
          7.736,
          7.979,
          7.978,
          8.286,
          8.009,
          8.011,
          8.829,
          8.645,
          8.845
         ],
         "yaxis": "y4"
        }
       ],
       "layout": {
        "annotations": [
         {
          "font": {
           "size": 16
          },
          "showarrow": false,
          "text": "year",
          "x": 0.5,
          "xanchor": "center",
          "xref": "paper",
          "y": 0,
          "yanchor": "top",
          "yref": "paper",
          "yshift": -30
         },
         {
          "font": {
           "size": 16
          },
          "showarrow": false,
          "text": "Rate (per 100,000)",
          "textangle": -90,
          "x": 0,
          "xanchor": "right",
          "xref": "paper",
          "xshift": -40,
          "y": 0.5,
          "yanchor": "middle",
          "yref": "paper"
         }
        ],
        "hovermode": "x",
        "legend": {
         "title": {
          "text": "Risk Factor"
         }
        },
        "template": {
         "data": {
          "bar": [
           {
            "error_x": {
             "color": "#2a3f5f"
            },
            "error_y": {
             "color": "#2a3f5f"
            },
            "marker": {
             "line": {
              "color": "#E5ECF6",
              "width": 0.5
             },
             "pattern": {
              "fillmode": "overlay",
              "size": 10,
              "solidity": 0.2
             }
            },
            "type": "bar"
           }
          ],
          "barpolar": [
           {
            "marker": {
             "line": {
              "color": "#E5ECF6",
              "width": 0.5
             },
             "pattern": {
              "fillmode": "overlay",
              "size": 10,
              "solidity": 0.2
             }
            },
            "type": "barpolar"
           }
          ],
          "carpet": [
           {
            "aaxis": {
             "endlinecolor": "#2a3f5f",
             "gridcolor": "white",
             "linecolor": "white",
             "minorgridcolor": "white",
             "startlinecolor": "#2a3f5f"
            },
            "baxis": {
             "endlinecolor": "#2a3f5f",
             "gridcolor": "white",
             "linecolor": "white",
             "minorgridcolor": "white",
             "startlinecolor": "#2a3f5f"
            },
            "type": "carpet"
           }
          ],
          "choropleth": [
           {
            "colorbar": {
             "outlinewidth": 0,
             "ticks": ""
            },
            "type": "choropleth"
           }
          ],
          "contour": [
           {
            "colorbar": {
             "outlinewidth": 0,
             "ticks": ""
            },
            "colorscale": [
             [
              0,
              "#0d0887"
             ],
             [
              0.1111111111111111,
              "#46039f"
             ],
             [
              0.2222222222222222,
              "#7201a8"
             ],
             [
              0.3333333333333333,
              "#9c179e"
             ],
             [
              0.4444444444444444,
              "#bd3786"
             ],
             [
              0.5555555555555556,
              "#d8576b"
             ],
             [
              0.6666666666666666,
              "#ed7953"
             ],
             [
              0.7777777777777778,
              "#fb9f3a"
             ],
             [
              0.8888888888888888,
              "#fdca26"
             ],
             [
              1,
              "#f0f921"
             ]
            ],
            "type": "contour"
           }
          ],
          "contourcarpet": [
           {
            "colorbar": {
             "outlinewidth": 0,
             "ticks": ""
            },
            "type": "contourcarpet"
           }
          ],
          "heatmap": [
           {
            "colorbar": {
             "outlinewidth": 0,
             "ticks": ""
            },
            "colorscale": [
             [
              0,
              "#0d0887"
             ],
             [
              0.1111111111111111,
              "#46039f"
             ],
             [
              0.2222222222222222,
              "#7201a8"
             ],
             [
              0.3333333333333333,
              "#9c179e"
             ],
             [
              0.4444444444444444,
              "#bd3786"
             ],
             [
              0.5555555555555556,
              "#d8576b"
             ],
             [
              0.6666666666666666,
              "#ed7953"
             ],
             [
              0.7777777777777778,
              "#fb9f3a"
             ],
             [
              0.8888888888888888,
              "#fdca26"
             ],
             [
              1,
              "#f0f921"
             ]
            ],
            "type": "heatmap"
           }
          ],
          "heatmapgl": [
           {
            "colorbar": {
             "outlinewidth": 0,
             "ticks": ""
            },
            "colorscale": [
             [
              0,
              "#0d0887"
             ],
             [
              0.1111111111111111,
              "#46039f"
             ],
             [
              0.2222222222222222,
              "#7201a8"
             ],
             [
              0.3333333333333333,
              "#9c179e"
             ],
             [
              0.4444444444444444,
              "#bd3786"
             ],
             [
              0.5555555555555556,
              "#d8576b"
             ],
             [
              0.6666666666666666,
              "#ed7953"
             ],
             [
              0.7777777777777778,
              "#fb9f3a"
             ],
             [
              0.8888888888888888,
              "#fdca26"
             ],
             [
              1,
              "#f0f921"
             ]
            ],
            "type": "heatmapgl"
           }
          ],
          "histogram": [
           {
            "marker": {
             "pattern": {
              "fillmode": "overlay",
              "size": 10,
              "solidity": 0.2
             }
            },
            "type": "histogram"
           }
          ],
          "histogram2d": [
           {
            "colorbar": {
             "outlinewidth": 0,
             "ticks": ""
            },
            "colorscale": [
             [
              0,
              "#0d0887"
             ],
             [
              0.1111111111111111,
              "#46039f"
             ],
             [
              0.2222222222222222,
              "#7201a8"
             ],
             [
              0.3333333333333333,
              "#9c179e"
             ],
             [
              0.4444444444444444,
              "#bd3786"
             ],
             [
              0.5555555555555556,
              "#d8576b"
             ],
             [
              0.6666666666666666,
              "#ed7953"
             ],
             [
              0.7777777777777778,
              "#fb9f3a"
             ],
             [
              0.8888888888888888,
              "#fdca26"
             ],
             [
              1,
              "#f0f921"
             ]
            ],
            "type": "histogram2d"
           }
          ],
          "histogram2dcontour": [
           {
            "colorbar": {
             "outlinewidth": 0,
             "ticks": ""
            },
            "colorscale": [
             [
              0,
              "#0d0887"
             ],
             [
              0.1111111111111111,
              "#46039f"
             ],
             [
              0.2222222222222222,
              "#7201a8"
             ],
             [
              0.3333333333333333,
              "#9c179e"
             ],
             [
              0.4444444444444444,
              "#bd3786"
             ],
             [
              0.5555555555555556,
              "#d8576b"
             ],
             [
              0.6666666666666666,
              "#ed7953"
             ],
             [
              0.7777777777777778,
              "#fb9f3a"
             ],
             [
              0.8888888888888888,
              "#fdca26"
             ],
             [
              1,
              "#f0f921"
             ]
            ],
            "type": "histogram2dcontour"
           }
          ],
          "mesh3d": [
           {
            "colorbar": {
             "outlinewidth": 0,
             "ticks": ""
            },
            "type": "mesh3d"
           }
          ],
          "parcoords": [
           {
            "line": {
             "colorbar": {
              "outlinewidth": 0,
              "ticks": ""
             }
            },
            "type": "parcoords"
           }
          ],
          "pie": [
           {
            "automargin": true,
            "type": "pie"
           }
          ],
          "scatter": [
           {
            "marker": {
             "colorbar": {
              "outlinewidth": 0,
              "ticks": ""
             }
            },
            "type": "scatter"
           }
          ],
          "scatter3d": [
           {
            "line": {
             "colorbar": {
              "outlinewidth": 0,
              "ticks": ""
             }
            },
            "marker": {
             "colorbar": {
              "outlinewidth": 0,
              "ticks": ""
             }
            },
            "type": "scatter3d"
           }
          ],
          "scattercarpet": [
           {
            "marker": {
             "colorbar": {
              "outlinewidth": 0,
              "ticks": ""
             }
            },
            "type": "scattercarpet"
           }
          ],
          "scattergeo": [
           {
            "marker": {
             "colorbar": {
              "outlinewidth": 0,
              "ticks": ""
             }
            },
            "type": "scattergeo"
           }
          ],
          "scattergl": [
           {
            "marker": {
             "colorbar": {
              "outlinewidth": 0,
              "ticks": ""
             }
            },
            "type": "scattergl"
           }
          ],
          "scattermapbox": [
           {
            "marker": {
             "colorbar": {
              "outlinewidth": 0,
              "ticks": ""
             }
            },
            "type": "scattermapbox"
           }
          ],
          "scatterpolar": [
           {
            "marker": {
             "colorbar": {
              "outlinewidth": 0,
              "ticks": ""
             }
            },
            "type": "scatterpolar"
           }
          ],
          "scatterpolargl": [
           {
            "marker": {
             "colorbar": {
              "outlinewidth": 0,
              "ticks": ""
             }
            },
            "type": "scatterpolargl"
           }
          ],
          "scatterternary": [
           {
            "marker": {
             "colorbar": {
              "outlinewidth": 0,
              "ticks": ""
             }
            },
            "type": "scatterternary"
           }
          ],
          "surface": [
           {
            "colorbar": {
             "outlinewidth": 0,
             "ticks": ""
            },
            "colorscale": [
             [
              0,
              "#0d0887"
             ],
             [
              0.1111111111111111,
              "#46039f"
             ],
             [
              0.2222222222222222,
              "#7201a8"
             ],
             [
              0.3333333333333333,
              "#9c179e"
             ],
             [
              0.4444444444444444,
              "#bd3786"
             ],
             [
              0.5555555555555556,
              "#d8576b"
             ],
             [
              0.6666666666666666,
              "#ed7953"
             ],
             [
              0.7777777777777778,
              "#fb9f3a"
             ],
             [
              0.8888888888888888,
              "#fdca26"
             ],
             [
              1,
              "#f0f921"
             ]
            ],
            "type": "surface"
           }
          ],
          "table": [
           {
            "cells": {
             "fill": {
              "color": "#EBF0F8"
             },
             "line": {
              "color": "white"
             }
            },
            "header": {
             "fill": {
              "color": "#C8D4E3"
             },
             "line": {
              "color": "white"
             }
            },
            "type": "table"
           }
          ]
         },
         "layout": {
          "annotationdefaults": {
           "arrowcolor": "#2a3f5f",
           "arrowhead": 0,
           "arrowwidth": 1
          },
          "autotypenumbers": "strict",
          "coloraxis": {
           "colorbar": {
            "outlinewidth": 0,
            "ticks": ""
           }
          },
          "colorscale": {
           "diverging": [
            [
             0,
             "#8e0152"
            ],
            [
             0.1,
             "#c51b7d"
            ],
            [
             0.2,
             "#de77ae"
            ],
            [
             0.3,
             "#f1b6da"
            ],
            [
             0.4,
             "#fde0ef"
            ],
            [
             0.5,
             "#f7f7f7"
            ],
            [
             0.6,
             "#e6f5d0"
            ],
            [
             0.7,
             "#b8e186"
            ],
            [
             0.8,
             "#7fbc41"
            ],
            [
             0.9,
             "#4d9221"
            ],
            [
             1,
             "#276419"
            ]
           ],
           "sequential": [
            [
             0,
             "#0d0887"
            ],
            [
             0.1111111111111111,
             "#46039f"
            ],
            [
             0.2222222222222222,
             "#7201a8"
            ],
            [
             0.3333333333333333,
             "#9c179e"
            ],
            [
             0.4444444444444444,
             "#bd3786"
            ],
            [
             0.5555555555555556,
             "#d8576b"
            ],
            [
             0.6666666666666666,
             "#ed7953"
            ],
            [
             0.7777777777777778,
             "#fb9f3a"
            ],
            [
             0.8888888888888888,
             "#fdca26"
            ],
            [
             1,
             "#f0f921"
            ]
           ],
           "sequentialminus": [
            [
             0,
             "#0d0887"
            ],
            [
             0.1111111111111111,
             "#46039f"
            ],
            [
             0.2222222222222222,
             "#7201a8"
            ],
            [
             0.3333333333333333,
             "#9c179e"
            ],
            [
             0.4444444444444444,
             "#bd3786"
            ],
            [
             0.5555555555555556,
             "#d8576b"
            ],
            [
             0.6666666666666666,
             "#ed7953"
            ],
            [
             0.7777777777777778,
             "#fb9f3a"
            ],
            [
             0.8888888888888888,
             "#fdca26"
            ],
            [
             1,
             "#f0f921"
            ]
           ]
          },
          "colorway": [
           "#636efa",
           "#EF553B",
           "#00cc96",
           "#ab63fa",
           "#FFA15A",
           "#19d3f3",
           "#FF6692",
           "#B6E880",
           "#FF97FF",
           "#FECB52"
          ],
          "font": {
           "color": "#2a3f5f"
          },
          "geo": {
           "bgcolor": "white",
           "lakecolor": "white",
           "landcolor": "#E5ECF6",
           "showlakes": true,
           "showland": true,
           "subunitcolor": "white"
          },
          "hoverlabel": {
           "align": "left"
          },
          "hovermode": "closest",
          "mapbox": {
           "style": "light"
          },
          "paper_bgcolor": "white",
          "plot_bgcolor": "#E5ECF6",
          "polar": {
           "angularaxis": {
            "gridcolor": "white",
            "linecolor": "white",
            "ticks": ""
           },
           "bgcolor": "#E5ECF6",
           "radialaxis": {
            "gridcolor": "white",
            "linecolor": "white",
            "ticks": ""
           }
          },
          "scene": {
           "xaxis": {
            "backgroundcolor": "#E5ECF6",
            "gridcolor": "white",
            "gridwidth": 2,
            "linecolor": "white",
            "showbackground": true,
            "ticks": "",
            "zerolinecolor": "white"
           },
           "yaxis": {
            "backgroundcolor": "#E5ECF6",
            "gridcolor": "white",
            "gridwidth": 2,
            "linecolor": "white",
            "showbackground": true,
            "ticks": "",
            "zerolinecolor": "white"
           },
           "zaxis": {
            "backgroundcolor": "#E5ECF6",
            "gridcolor": "white",
            "gridwidth": 2,
            "linecolor": "white",
            "showbackground": true,
            "ticks": "",
            "zerolinecolor": "white"
           }
          },
          "shapedefaults": {
           "line": {
            "color": "#2a3f5f"
           }
          },
          "ternary": {
           "aaxis": {
            "gridcolor": "white",
            "linecolor": "white",
            "ticks": ""
           },
           "baxis": {
            "gridcolor": "white",
            "linecolor": "white",
            "ticks": ""
           },
           "bgcolor": "#E5ECF6",
           "caxis": {
            "gridcolor": "white",
            "linecolor": "white",
            "ticks": ""
           }
          },
          "title": {
           "x": 0.05
          },
          "xaxis": {
           "automargin": true,
           "gridcolor": "white",
           "linecolor": "white",
           "ticks": "",
           "title": {
            "standoff": 15
           },
           "zerolinecolor": "white",
           "zerolinewidth": 2
          },
          "yaxis": {
           "automargin": true,
           "gridcolor": "white",
           "linecolor": "white",
           "ticks": "",
           "title": {
            "standoff": 15
           },
           "zerolinecolor": "white",
           "zerolinewidth": 2
          }
         }
        },
        "title": {
         "text": "Compare Death rate for <b>All Risk Factor</b> vs <b>Air Pollution</b> over the years 1990 to 2019<br>Iran"
        },
        "xaxis": {
         "anchor": "y",
         "domain": [
          0,
          1
         ],
         "matches": "x4",
         "showticklabels": false
        },
        "xaxis2": {
         "anchor": "y2",
         "domain": [
          0,
          1
         ],
         "matches": "x4",
         "showticklabels": false
        },
        "xaxis3": {
         "anchor": "y3",
         "domain": [
          0,
          1
         ],
         "matches": "x4",
         "showticklabels": false
        },
        "xaxis4": {
         "anchor": "y4",
         "domain": [
          0,
          1
         ]
        },
        "yaxis": {
         "anchor": "x",
         "domain": [
          0.80625,
          1
         ]
        },
        "yaxis2": {
         "anchor": "x2",
         "domain": [
          0.5375,
          0.73125
         ]
        },
        "yaxis3": {
         "anchor": "x3",
         "domain": [
          0.26875,
          0.4625
         ]
        },
        "yaxis4": {
         "anchor": "x4",
         "domain": [
          0,
          0.19375
         ]
        }
       }
      }
     },
     "metadata": {},
     "output_type": "display_data"
    }
   ],
   "source": [
    "\n",
    "iran_df = cause_df[cause_df.location_clean==\"IRN\"]\n",
    "co2 = co2_df[co2_df.iso_code==\"IRN\"]\n",
    "draw_plot(iran_df, co2, \"Iran\")"
   ]
  },
  {
   "cell_type": "code",
   "execution_count": 253,
   "metadata": {},
   "outputs": [
    {
     "data": {
      "application/vnd.plotly.v1+json": {
       "config": {
        "plotlyServerURL": "https://plot.ly"
       },
       "data": [
        {
         "mode": "lines+markers",
         "name": "All Risk Factor",
         "type": "scatter",
         "x": [
          1990,
          1991,
          1992,
          1993,
          1994,
          1995,
          1996,
          1997,
          1998,
          1999,
          2000,
          2001,
          2002,
          2003,
          2004,
          2005,
          2006,
          2007,
          2008,
          2009,
          2010,
          2011,
          2012,
          2013,
          2014,
          2015,
          2016,
          2017,
          2018,
          2019
         ],
         "xaxis": "x",
         "y": [
          152.98276728497711,
          154.9557924197948,
          159.27018041486156,
          161.49066265742064,
          163.45180176288602,
          165.62733801338806,
          167.9444538322158,
          170.61784348416606,
          172.93237610387033,
          175.8861982413958,
          179.1802043720816,
          182.5173937222953,
          185.53393663700507,
          187.17062847848152,
          187.36936721490443,
          187.856256593495,
          188.2734578260139,
          187.50135043598627,
          186.73601462443074,
          188.1064958038889,
          189.13487304874596,
          189.72162820154102,
          191.2913462326299,
          195.42658516417413,
          200.0446653840288,
          206.70202562955546,
          210.99825717771785,
          215.18897660969904,
          217.25593155764918,
          221.77231352661954
         ],
         "yaxis": "y"
        },
        {
         "mode": "lines+markers",
         "name": "Air Pollution",
         "type": "scatter",
         "x": [
          1990,
          1991,
          1992,
          1993,
          1994,
          1995,
          1996,
          1997,
          1998,
          1999,
          2000,
          2001,
          2002,
          2003,
          2004,
          2005,
          2006,
          2007,
          2008,
          2009,
          2010,
          2011,
          2012,
          2013,
          2014,
          2015,
          2016,
          2017,
          2018,
          2019
         ],
         "xaxis": "x",
         "y": [
          37.092808079360445,
          37.420650766827634,
          38.29757068665101,
          38.7426748088483,
          39.123306852388964,
          39.54891195150474,
          40.01565980703153,
          40.63101454879146,
          41.1730703022116,
          41.820249298450236,
          42.45909816235741,
          42.91412652766087,
          42.81113266153021,
          42.41861906414544,
          41.70725292362783,
          41.273450417397136,
          41.11258551884817,
          40.92193501692156,
          40.80940144427043,
          40.94997000013806,
          40.81243975474386,
          40.3722085564971,
          40.4805897922578,
          41.270763181876774,
          42.08852608857386,
          43.29497180942939,
          43.573158857541394,
          43.687678912251336,
          43.65446507850464,
          44.16359812307523
         ],
         "yaxis": "y"
        },
        {
         "mode": "lines+markers",
         "name": "All Risk Factor",
         "type": "scatter",
         "x": [
          1990,
          1991,
          1992,
          1993,
          1994,
          1995,
          1996,
          1997,
          1998,
          1999,
          2000,
          2001,
          2002,
          2003,
          2004,
          2005,
          2006,
          2007,
          2008,
          2009,
          2010,
          2011,
          2012,
          2013,
          2014,
          2015,
          2016,
          2017,
          2018,
          2019
         ],
         "xaxis": "x2",
         "y": [
          7.456818922652135,
          7.545561396571056,
          7.769370413917857,
          7.81729314755174,
          7.883394139502093,
          7.962114123808232,
          7.994438931804375,
          8.044726522210603,
          8.084945966678013,
          8.188048813177321,
          8.311478313060622,
          8.423723635513936,
          8.695203575887989,
          9.013012534040753,
          9.328852092531552,
          9.569267377237962,
          9.8141626463314,
          10.068345226203771,
          10.178414731426628,
          10.40192499259238,
          10.569421097483485,
          10.82841453237741,
          11.04159339467023,
          11.387901793729393,
          11.688995623471618,
          12.004907540384425,
          12.155767133841133,
          12.288560415481124,
          12.3141173810859,
          12.521141458653512
         ],
         "yaxis": "y2"
        },
        {
         "mode": "lines+markers",
         "name": "Air Pollution",
         "type": "scatter",
         "x": [
          1990,
          1991,
          1992,
          1993,
          1994,
          1995,
          1996,
          1997,
          1998,
          1999,
          2000,
          2001,
          2002,
          2003,
          2004,
          2005,
          2006,
          2007,
          2008,
          2009,
          2010,
          2011,
          2012,
          2013,
          2014,
          2015,
          2016,
          2017,
          2018,
          2019
         ],
         "xaxis": "x2",
         "y": [
          2.4856447694455324,
          2.4921034908854782,
          2.530260506602223,
          2.5516394759147225,
          2.5792367545749544,
          2.6293578009914227,
          2.6525121893489185,
          2.675923106736413,
          2.713831913320625,
          2.776298308841563,
          2.863249638106966,
          2.91570287727351,
          2.988933304297225,
          3.1076001206323567,
          3.2292906980916345,
          3.3618413421594866,
          3.522419355232297,
          3.765884491862162,
          3.933972071826029,
          4.000293522074196,
          4.071736153049076,
          4.200527213910869,
          4.397712755250038,
          4.622867851360163,
          4.773958596810879,
          4.972673204194457,
          5.089500249297446,
          5.106760706479076,
          5.062180125044936,
          5.12977984536497
         ],
         "yaxis": "y2"
        },
        {
         "mode": "lines+markers",
         "name": "All Risk Factor",
         "type": "scatter",
         "x": [
          1990,
          1991,
          1992,
          1993,
          1994,
          1995,
          1996,
          1997,
          1998,
          1999,
          2000,
          2001,
          2002,
          2003,
          2004,
          2005,
          2006,
          2007,
          2008,
          2009,
          2010,
          2011,
          2012,
          2013,
          2014,
          2015,
          2016,
          2017,
          2018,
          2019
         ],
         "xaxis": "x3",
         "y": [
          133.31267112181862,
          135.04195083511246,
          138.83903831027698,
          140.84691132746914,
          142.6758103881076,
          144.65294536663973,
          146.7871924823766,
          149.31972957104745,
          151.51056782203602,
          154.29621283167464,
          157.15929959267788,
          159.93768438415427,
          162.36992062962156,
          163.3607645656837,
          162.81725340015322,
          162.46968997458615,
          162.039113678507,
          160.55679900461476,
          159.10810074982655,
          159.56419517275083,
          159.6735723786113,
          159.2441894119316,
          159.80211646865158,
          162.64049608612504,
          165.8765773094511,
          171.11802152982304,
          174.53571430447406,
          177.91591586298208,
          179.24740637899515,
          182.73546417392487
         ],
         "yaxis": "y3"
        },
        {
         "mode": "lines+markers",
         "name": "Air Pollution",
         "type": "scatter",
         "x": [
          1990,
          1991,
          1992,
          1993,
          1994,
          1995,
          1996,
          1997,
          1998,
          1999,
          2000,
          2001,
          2002,
          2003,
          2004,
          2005,
          2006,
          2007,
          2008,
          2009,
          2010,
          2011,
          2012,
          2013,
          2014,
          2015,
          2016,
          2017,
          2018,
          2019
         ],
         "xaxis": "x3",
         "y": [
          33.47359296885441,
          33.77812645769157,
          34.586562456448135,
          34.986721886237106,
          35.33085381346624,
          35.690847784269344,
          36.11324110932324,
          36.69203393741644,
          37.18721943608054,
          37.76997014137121,
          38.28988910646889,
          38.65421762913046,
          38.46743666713631,
          37.94345765389885,
          37.08096810974367,
          36.467107462255726,
          36.09014212986447,
          35.608486225455295,
          35.26137821388933,
          35.25213812279687,
          34.96279567115304,
          34.32643383094338,
          34.165211444158864,
          34.64421204353616,
          35.216545195989205,
          36.13069760088096,
          36.25674276853979,
          36.330922240613845,
          36.30189480658291,
          36.68956533725789
         ],
         "yaxis": "y3"
        },
        {
         "mode": "lines",
         "name": "co2 per capita",
         "type": "scatter",
         "x": [
          1990,
          1991,
          1992,
          1993,
          1994,
          1995,
          1996,
          1997,
          1998,
          1999,
          2000,
          2001,
          2002,
          2003,
          2004,
          2005,
          2006,
          2007,
          2008,
          2009,
          2010,
          2011,
          2012,
          2013,
          2014,
          2015,
          2016,
          2017,
          2018,
          2019
         ],
         "xaxis": "x4",
         "y": [
          0.662,
          0.691,
          0.722,
          0.731,
          0.758,
          0.791,
          0.841,
          0.859,
          0.861,
          0.917,
          0.926,
          0.923,
          0.936,
          0.953,
          0.996,
          1.033,
          1.081,
          1.148,
          1.218,
          1.324,
          1.359,
          1.424,
          1.551,
          1.59,
          1.687,
          1.732,
          1.799,
          1.818,
          1.922,
          1.922
         ],
         "yaxis": "y4"
        }
       ],
       "layout": {
        "annotations": [
         {
          "font": {
           "size": 16
          },
          "showarrow": false,
          "text": "year",
          "x": 0.5,
          "xanchor": "center",
          "xref": "paper",
          "y": 0,
          "yanchor": "top",
          "yref": "paper",
          "yshift": -30
         },
         {
          "font": {
           "size": 16
          },
          "showarrow": false,
          "text": "Rate (per 100,000)",
          "textangle": -90,
          "x": 0,
          "xanchor": "right",
          "xref": "paper",
          "xshift": -40,
          "y": 0.5,
          "yanchor": "middle",
          "yref": "paper"
         }
        ],
        "hovermode": "x",
        "legend": {
         "title": {
          "text": "Risk Factor"
         }
        },
        "template": {
         "data": {
          "bar": [
           {
            "error_x": {
             "color": "#2a3f5f"
            },
            "error_y": {
             "color": "#2a3f5f"
            },
            "marker": {
             "line": {
              "color": "#E5ECF6",
              "width": 0.5
             },
             "pattern": {
              "fillmode": "overlay",
              "size": 10,
              "solidity": 0.2
             }
            },
            "type": "bar"
           }
          ],
          "barpolar": [
           {
            "marker": {
             "line": {
              "color": "#E5ECF6",
              "width": 0.5
             },
             "pattern": {
              "fillmode": "overlay",
              "size": 10,
              "solidity": 0.2
             }
            },
            "type": "barpolar"
           }
          ],
          "carpet": [
           {
            "aaxis": {
             "endlinecolor": "#2a3f5f",
             "gridcolor": "white",
             "linecolor": "white",
             "minorgridcolor": "white",
             "startlinecolor": "#2a3f5f"
            },
            "baxis": {
             "endlinecolor": "#2a3f5f",
             "gridcolor": "white",
             "linecolor": "white",
             "minorgridcolor": "white",
             "startlinecolor": "#2a3f5f"
            },
            "type": "carpet"
           }
          ],
          "choropleth": [
           {
            "colorbar": {
             "outlinewidth": 0,
             "ticks": ""
            },
            "type": "choropleth"
           }
          ],
          "contour": [
           {
            "colorbar": {
             "outlinewidth": 0,
             "ticks": ""
            },
            "colorscale": [
             [
              0,
              "#0d0887"
             ],
             [
              0.1111111111111111,
              "#46039f"
             ],
             [
              0.2222222222222222,
              "#7201a8"
             ],
             [
              0.3333333333333333,
              "#9c179e"
             ],
             [
              0.4444444444444444,
              "#bd3786"
             ],
             [
              0.5555555555555556,
              "#d8576b"
             ],
             [
              0.6666666666666666,
              "#ed7953"
             ],
             [
              0.7777777777777778,
              "#fb9f3a"
             ],
             [
              0.8888888888888888,
              "#fdca26"
             ],
             [
              1,
              "#f0f921"
             ]
            ],
            "type": "contour"
           }
          ],
          "contourcarpet": [
           {
            "colorbar": {
             "outlinewidth": 0,
             "ticks": ""
            },
            "type": "contourcarpet"
           }
          ],
          "heatmap": [
           {
            "colorbar": {
             "outlinewidth": 0,
             "ticks": ""
            },
            "colorscale": [
             [
              0,
              "#0d0887"
             ],
             [
              0.1111111111111111,
              "#46039f"
             ],
             [
              0.2222222222222222,
              "#7201a8"
             ],
             [
              0.3333333333333333,
              "#9c179e"
             ],
             [
              0.4444444444444444,
              "#bd3786"
             ],
             [
              0.5555555555555556,
              "#d8576b"
             ],
             [
              0.6666666666666666,
              "#ed7953"
             ],
             [
              0.7777777777777778,
              "#fb9f3a"
             ],
             [
              0.8888888888888888,
              "#fdca26"
             ],
             [
              1,
              "#f0f921"
             ]
            ],
            "type": "heatmap"
           }
          ],
          "heatmapgl": [
           {
            "colorbar": {
             "outlinewidth": 0,
             "ticks": ""
            },
            "colorscale": [
             [
              0,
              "#0d0887"
             ],
             [
              0.1111111111111111,
              "#46039f"
             ],
             [
              0.2222222222222222,
              "#7201a8"
             ],
             [
              0.3333333333333333,
              "#9c179e"
             ],
             [
              0.4444444444444444,
              "#bd3786"
             ],
             [
              0.5555555555555556,
              "#d8576b"
             ],
             [
              0.6666666666666666,
              "#ed7953"
             ],
             [
              0.7777777777777778,
              "#fb9f3a"
             ],
             [
              0.8888888888888888,
              "#fdca26"
             ],
             [
              1,
              "#f0f921"
             ]
            ],
            "type": "heatmapgl"
           }
          ],
          "histogram": [
           {
            "marker": {
             "pattern": {
              "fillmode": "overlay",
              "size": 10,
              "solidity": 0.2
             }
            },
            "type": "histogram"
           }
          ],
          "histogram2d": [
           {
            "colorbar": {
             "outlinewidth": 0,
             "ticks": ""
            },
            "colorscale": [
             [
              0,
              "#0d0887"
             ],
             [
              0.1111111111111111,
              "#46039f"
             ],
             [
              0.2222222222222222,
              "#7201a8"
             ],
             [
              0.3333333333333333,
              "#9c179e"
             ],
             [
              0.4444444444444444,
              "#bd3786"
             ],
             [
              0.5555555555555556,
              "#d8576b"
             ],
             [
              0.6666666666666666,
              "#ed7953"
             ],
             [
              0.7777777777777778,
              "#fb9f3a"
             ],
             [
              0.8888888888888888,
              "#fdca26"
             ],
             [
              1,
              "#f0f921"
             ]
            ],
            "type": "histogram2d"
           }
          ],
          "histogram2dcontour": [
           {
            "colorbar": {
             "outlinewidth": 0,
             "ticks": ""
            },
            "colorscale": [
             [
              0,
              "#0d0887"
             ],
             [
              0.1111111111111111,
              "#46039f"
             ],
             [
              0.2222222222222222,
              "#7201a8"
             ],
             [
              0.3333333333333333,
              "#9c179e"
             ],
             [
              0.4444444444444444,
              "#bd3786"
             ],
             [
              0.5555555555555556,
              "#d8576b"
             ],
             [
              0.6666666666666666,
              "#ed7953"
             ],
             [
              0.7777777777777778,
              "#fb9f3a"
             ],
             [
              0.8888888888888888,
              "#fdca26"
             ],
             [
              1,
              "#f0f921"
             ]
            ],
            "type": "histogram2dcontour"
           }
          ],
          "mesh3d": [
           {
            "colorbar": {
             "outlinewidth": 0,
             "ticks": ""
            },
            "type": "mesh3d"
           }
          ],
          "parcoords": [
           {
            "line": {
             "colorbar": {
              "outlinewidth": 0,
              "ticks": ""
             }
            },
            "type": "parcoords"
           }
          ],
          "pie": [
           {
            "automargin": true,
            "type": "pie"
           }
          ],
          "scatter": [
           {
            "marker": {
             "colorbar": {
              "outlinewidth": 0,
              "ticks": ""
             }
            },
            "type": "scatter"
           }
          ],
          "scatter3d": [
           {
            "line": {
             "colorbar": {
              "outlinewidth": 0,
              "ticks": ""
             }
            },
            "marker": {
             "colorbar": {
              "outlinewidth": 0,
              "ticks": ""
             }
            },
            "type": "scatter3d"
           }
          ],
          "scattercarpet": [
           {
            "marker": {
             "colorbar": {
              "outlinewidth": 0,
              "ticks": ""
             }
            },
            "type": "scattercarpet"
           }
          ],
          "scattergeo": [
           {
            "marker": {
             "colorbar": {
              "outlinewidth": 0,
              "ticks": ""
             }
            },
            "type": "scattergeo"
           }
          ],
          "scattergl": [
           {
            "marker": {
             "colorbar": {
              "outlinewidth": 0,
              "ticks": ""
             }
            },
            "type": "scattergl"
           }
          ],
          "scattermapbox": [
           {
            "marker": {
             "colorbar": {
              "outlinewidth": 0,
              "ticks": ""
             }
            },
            "type": "scattermapbox"
           }
          ],
          "scatterpolar": [
           {
            "marker": {
             "colorbar": {
              "outlinewidth": 0,
              "ticks": ""
             }
            },
            "type": "scatterpolar"
           }
          ],
          "scatterpolargl": [
           {
            "marker": {
             "colorbar": {
              "outlinewidth": 0,
              "ticks": ""
             }
            },
            "type": "scatterpolargl"
           }
          ],
          "scatterternary": [
           {
            "marker": {
             "colorbar": {
              "outlinewidth": 0,
              "ticks": ""
             }
            },
            "type": "scatterternary"
           }
          ],
          "surface": [
           {
            "colorbar": {
             "outlinewidth": 0,
             "ticks": ""
            },
            "colorscale": [
             [
              0,
              "#0d0887"
             ],
             [
              0.1111111111111111,
              "#46039f"
             ],
             [
              0.2222222222222222,
              "#7201a8"
             ],
             [
              0.3333333333333333,
              "#9c179e"
             ],
             [
              0.4444444444444444,
              "#bd3786"
             ],
             [
              0.5555555555555556,
              "#d8576b"
             ],
             [
              0.6666666666666666,
              "#ed7953"
             ],
             [
              0.7777777777777778,
              "#fb9f3a"
             ],
             [
              0.8888888888888888,
              "#fdca26"
             ],
             [
              1,
              "#f0f921"
             ]
            ],
            "type": "surface"
           }
          ],
          "table": [
           {
            "cells": {
             "fill": {
              "color": "#EBF0F8"
             },
             "line": {
              "color": "white"
             }
            },
            "header": {
             "fill": {
              "color": "#C8D4E3"
             },
             "line": {
              "color": "white"
             }
            },
            "type": "table"
           }
          ]
         },
         "layout": {
          "annotationdefaults": {
           "arrowcolor": "#2a3f5f",
           "arrowhead": 0,
           "arrowwidth": 1
          },
          "autotypenumbers": "strict",
          "coloraxis": {
           "colorbar": {
            "outlinewidth": 0,
            "ticks": ""
           }
          },
          "colorscale": {
           "diverging": [
            [
             0,
             "#8e0152"
            ],
            [
             0.1,
             "#c51b7d"
            ],
            [
             0.2,
             "#de77ae"
            ],
            [
             0.3,
             "#f1b6da"
            ],
            [
             0.4,
             "#fde0ef"
            ],
            [
             0.5,
             "#f7f7f7"
            ],
            [
             0.6,
             "#e6f5d0"
            ],
            [
             0.7,
             "#b8e186"
            ],
            [
             0.8,
             "#7fbc41"
            ],
            [
             0.9,
             "#4d9221"
            ],
            [
             1,
             "#276419"
            ]
           ],
           "sequential": [
            [
             0,
             "#0d0887"
            ],
            [
             0.1111111111111111,
             "#46039f"
            ],
            [
             0.2222222222222222,
             "#7201a8"
            ],
            [
             0.3333333333333333,
             "#9c179e"
            ],
            [
             0.4444444444444444,
             "#bd3786"
            ],
            [
             0.5555555555555556,
             "#d8576b"
            ],
            [
             0.6666666666666666,
             "#ed7953"
            ],
            [
             0.7777777777777778,
             "#fb9f3a"
            ],
            [
             0.8888888888888888,
             "#fdca26"
            ],
            [
             1,
             "#f0f921"
            ]
           ],
           "sequentialminus": [
            [
             0,
             "#0d0887"
            ],
            [
             0.1111111111111111,
             "#46039f"
            ],
            [
             0.2222222222222222,
             "#7201a8"
            ],
            [
             0.3333333333333333,
             "#9c179e"
            ],
            [
             0.4444444444444444,
             "#bd3786"
            ],
            [
             0.5555555555555556,
             "#d8576b"
            ],
            [
             0.6666666666666666,
             "#ed7953"
            ],
            [
             0.7777777777777778,
             "#fb9f3a"
            ],
            [
             0.8888888888888888,
             "#fdca26"
            ],
            [
             1,
             "#f0f921"
            ]
           ]
          },
          "colorway": [
           "#636efa",
           "#EF553B",
           "#00cc96",
           "#ab63fa",
           "#FFA15A",
           "#19d3f3",
           "#FF6692",
           "#B6E880",
           "#FF97FF",
           "#FECB52"
          ],
          "font": {
           "color": "#2a3f5f"
          },
          "geo": {
           "bgcolor": "white",
           "lakecolor": "white",
           "landcolor": "#E5ECF6",
           "showlakes": true,
           "showland": true,
           "subunitcolor": "white"
          },
          "hoverlabel": {
           "align": "left"
          },
          "hovermode": "closest",
          "mapbox": {
           "style": "light"
          },
          "paper_bgcolor": "white",
          "plot_bgcolor": "#E5ECF6",
          "polar": {
           "angularaxis": {
            "gridcolor": "white",
            "linecolor": "white",
            "ticks": ""
           },
           "bgcolor": "#E5ECF6",
           "radialaxis": {
            "gridcolor": "white",
            "linecolor": "white",
            "ticks": ""
           }
          },
          "scene": {
           "xaxis": {
            "backgroundcolor": "#E5ECF6",
            "gridcolor": "white",
            "gridwidth": 2,
            "linecolor": "white",
            "showbackground": true,
            "ticks": "",
            "zerolinecolor": "white"
           },
           "yaxis": {
            "backgroundcolor": "#E5ECF6",
            "gridcolor": "white",
            "gridwidth": 2,
            "linecolor": "white",
            "showbackground": true,
            "ticks": "",
            "zerolinecolor": "white"
           },
           "zaxis": {
            "backgroundcolor": "#E5ECF6",
            "gridcolor": "white",
            "gridwidth": 2,
            "linecolor": "white",
            "showbackground": true,
            "ticks": "",
            "zerolinecolor": "white"
           }
          },
          "shapedefaults": {
           "line": {
            "color": "#2a3f5f"
           }
          },
          "ternary": {
           "aaxis": {
            "gridcolor": "white",
            "linecolor": "white",
            "ticks": ""
           },
           "baxis": {
            "gridcolor": "white",
            "linecolor": "white",
            "ticks": ""
           },
           "bgcolor": "#E5ECF6",
           "caxis": {
            "gridcolor": "white",
            "linecolor": "white",
            "ticks": ""
           }
          },
          "title": {
           "x": 0.05
          },
          "xaxis": {
           "automargin": true,
           "gridcolor": "white",
           "linecolor": "white",
           "ticks": "",
           "title": {
            "standoff": 15
           },
           "zerolinecolor": "white",
           "zerolinewidth": 2
          },
          "yaxis": {
           "automargin": true,
           "gridcolor": "white",
           "linecolor": "white",
           "ticks": "",
           "title": {
            "standoff": 15
           },
           "zerolinecolor": "white",
           "zerolinewidth": 2
          }
         }
        },
        "title": {
         "text": "Compare Death rate for <b>All Risk Factor</b> vs <b>Air Pollution</b> over the years 1990 to 2019<br>India"
        },
        "xaxis": {
         "anchor": "y",
         "domain": [
          0,
          1
         ],
         "matches": "x4",
         "showticklabels": false
        },
        "xaxis2": {
         "anchor": "y2",
         "domain": [
          0,
          1
         ],
         "matches": "x4",
         "showticklabels": false
        },
        "xaxis3": {
         "anchor": "y3",
         "domain": [
          0,
          1
         ],
         "matches": "x4",
         "showticklabels": false
        },
        "xaxis4": {
         "anchor": "y4",
         "domain": [
          0,
          1
         ]
        },
        "yaxis": {
         "anchor": "x",
         "domain": [
          0.80625,
          1
         ]
        },
        "yaxis2": {
         "anchor": "x2",
         "domain": [
          0.5375,
          0.73125
         ]
        },
        "yaxis3": {
         "anchor": "x3",
         "domain": [
          0.26875,
          0.4625
         ]
        },
        "yaxis4": {
         "anchor": "x4",
         "domain": [
          0,
          0.19375
         ]
        }
       }
      }
     },
     "metadata": {},
     "output_type": "display_data"
    }
   ],
   "source": [
    "\n",
    "df = cause_df[cause_df.location_clean==\"IND\"]\n",
    "co2 = co2_df[co2_df.iso_code==\"IND\"]\n",
    "draw_plot(iran_df, co2, \"India\")"
   ]
  },
  {
   "cell_type": "code",
   "execution_count": null,
   "metadata": {},
   "outputs": [],
   "source": []
  }
 ],
 "metadata": {
  "interpreter": {
   "hash": "2d66bb7d4f8a116e2925a95bebe6e04f8fc3c8ed65e8572fe262df87356dbbb5"
  },
  "kernelspec": {
   "display_name": "Python 3.9.7 64-bit ('data': conda)",
   "language": "python",
   "name": "python3"
  },
  "language_info": {
   "codemirror_mode": {
    "name": "ipython",
    "version": 3
   },
   "file_extension": ".py",
   "mimetype": "text/x-python",
   "name": "python",
   "nbconvert_exporter": "python",
   "pygments_lexer": "ipython3",
   "version": "3.9.7"
  },
  "orig_nbformat": 4
 },
 "nbformat": 4,
 "nbformat_minor": 2
}
